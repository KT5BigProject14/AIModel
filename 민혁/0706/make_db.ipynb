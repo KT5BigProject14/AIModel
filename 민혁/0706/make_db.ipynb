{
 "cells": [
  {
   "cell_type": "code",
   "execution_count": 1,
   "id": "b6f297eb-1f95-4d52-b787-e1f494209fb3",
   "metadata": {
    "tags": []
   },
   "outputs": [],
   "source": [
    "import os\n",
    "\n",
    "# print(f\"[API KEY]\\n{os.environ['OPENAI_API_KEY']}\")\n",
    "\n",
    "from langchain_openai import ChatOpenAI\n",
    "from langchain_teddynote.messages import stream_response  # 스트리밍 출력\n",
    "from langchain_core.prompts import PromptTemplate\n",
    "from langchain.schema import HumanMessage, SystemMessage, Document\n",
    "from langchain.embeddings import OpenAIEmbeddings\n",
    "from langchain.vectorstores import Chroma\n",
    "from langchain.chains import RetrievalQA\n",
    "\n"
   ]
  },
  {
   "cell_type": "code",
   "execution_count": 2,
   "id": "c3dd68c1-7502-4f69-bc69-e3fddcf771b9",
   "metadata": {},
   "outputs": [],
   "source": [
    "from langchain.retrievers import BM25Retriever, EnsembleRetriever\n",
    "from langchain_community.vectorstores import FAISS\n",
    "from langchain_openai import OpenAIEmbeddings\n",
    "from langchain_huggingface import HuggingFaceEmbeddings\n",
    "from langchain_community.vectorstores import Chroma\n",
    "\n",
    "\n",
    "embeddings = OpenAIEmbeddings(model=\"text-embedding-ada-002\")\n",
    "persist_dir = './database'\n",
    "vector_store = Chroma(\n",
    "    persist_directory=persist_dir,  # 있으면 가져오고 없으면 생성\n",
    "    embedding_function=embeddings\n",
    ")"
   ]
  },
  {
   "cell_type": "code",
   "execution_count": 3,
   "id": "467210d8-0583-4c5c-8d65-515cde9dfda4",
   "metadata": {},
   "outputs": [],
   "source": [
    "import os \n",
    "import glob\n",
    "from langchain_community.document_loaders import PyPDFLoader\n",
    "\n",
    "def convert_all_files_to_doc(file) :\n",
    "    documents = []\n",
    "    with open(file, 'rb') as f :\n",
    "        file_content = f.read()\n",
    "\n",
    "        if file.endswith(\".csv\"): # 파일이 csv 확장자라면, row 단위로 읽어서 리스트로 변환\n",
    "            content = file_content.decode('utf-8')\n",
    "            reader = csv.reader(file_content.splitlines()) \n",
    "            for i, row in enumerate(reader):\n",
    "                row_content = \",\".join(row)\n",
    "                # print(row_content)\n",
    "                metadata = {\"filename\": file.name, \"chunk\": i}\n",
    "                document = Document(page_content=content, metadata=metadata)\n",
    "                documents.append(document)\n",
    "                # all_docs.append(document)\n",
    "        elif file.endswith(\".pdf\") : # 나머지 확장자는 전체 파일 내용을 하나의 Document 객체로 변환 -> 기능 수정 필요\n",
    "            loader = PyPDFLoader(file, extract_images=False)\n",
    "            pages = loader.load()\n",
    "            return pages\n",
    "    # print(len(documents))\n",
    "    # print(documents)\n",
    "    \n",
    "    return documents"
   ]
  },
  {
   "cell_type": "code",
   "execution_count": 4,
   "id": "5df6182e-28e0-4181-968c-24f1d3ebfdc6",
   "metadata": {},
   "outputs": [
    {
     "data": {
      "text/plain": [
       "{'ids': [],\n",
       " 'embeddings': None,\n",
       " 'metadatas': [],\n",
       " 'documents': [],\n",
       " 'uris': None,\n",
       " 'data': None,\n",
       " 'included': ['metadatas', 'documents']}"
      ]
     },
     "execution_count": 4,
     "metadata": {},
     "output_type": "execute_result"
    }
   ],
   "source": [
    "vector_store.get()"
   ]
  },
  {
   "cell_type": "code",
   "execution_count": 8,
   "id": "91b47bc9-a61f-41ed-9909-7b2b98eccb39",
   "metadata": {},
   "outputs": [
    {
     "name": "stdout",
     "output_type": "stream",
     "text": [
      "['[전체 정보][KOTRA 해외경제정보 Dream][2023]인도.pdf', '1. 법률 및 규제\\\\[법률_규범_특허][FSSAI][2015]Manual of Methods of Analysis of Foods.pdf', '1. 법률 및 규제\\\\[법률_규범_특허][코트라][2021]인도_BIS_인증가이드북.pdf', '1. 법률 및 규제\\\\[법률_규범_특허][코트라][2022](4. 정책 및 규제 동향)글로벌 프랜차이즈 해외진출 전략보고서_인도.pdf', '1. 법률 및 규제\\\\[법률_규범_특허][코트라][2022]인도 비즈니스 가이드.pdf', '2. 경제 및 시장 분석\\\\[인도_전반_시장분석][KOTRA][2023.12.27]2024 인도 진출전략.pdf', '2. 경제 및 시장 분석\\\\[인도_펫산업_시장분석][sies college][2023]A STUDY ON CONSUMER PERCEPTION AND PREFERENCES TOWARDS PET CARE INDUSTRY IN INDIA.pdf', '2. 경제 및 시장 분석\\\\[인도_펫산업_시장분석][코트라][2022](4 제외 )글로벌 프랜차이즈 해외진출 전략보고서_인도.pdf', '2. 경제 및 시장 분석\\\\[인도_펫산업_시장분석][한국농수산식품유통공사][2017] 2017년 농식품 해외시장 맞춤조사(인도_개사료).pdf', '3. 정책 및 무역\\\\[국가지원사례][외교부][2023]재외공관의 해외진출기업 지원 사례집.pdf', '3. 정책 및 무역\\\\[법률_규범_특허][코트라][2022]한-인도 CEPA 활용법 및 인도 통상 애로.pdf', '3. 정책 및 무역\\\\[정책][KATI 농식품수출정보][2019]인도 전문 식품수입.pdf', '3. 정책 및 무역\\\\[정책][관세청][2019.11.07]신남방국 통관·통상환경 및 FTA 활용방안.pdf', '3. 정책 및 무역\\\\[정책][한국무역협회][2020.09.14][최종_KITA 통상리포트 11호_인도 수입규제 동향과 우리기업의 대응방안.pdf']\n"
     ]
    }
   ],
   "source": [
    "import os\n",
    "\n",
    "# PDF 파일 경로를 저장할 리스트 초기화\n",
    "pdf_files = []\n",
    "\n",
    "# 탐색할 디렉토리 경로\n",
    "base_dir = 'data/PDF_with_contents/'\n",
    "\n",
    "# 디렉토리와 하위 디렉토리를 탐색\n",
    "for root, dirs, files in os.walk(base_dir):\n",
    "    for file in files:\n",
    "        if file.endswith('.pdf'):\n",
    "            # PDF 파일의 절대 경로를 리스트에 추가\n",
    "            pdf_files.append(os.path.join(root, file))\n",
    "\n",
    "# 상대 경로로 변경 (base_dir 이후의 경로)\n",
    "pdf_files = [os.path.relpath(file, start=base_dir) for file in pdf_files]\n",
    "\n",
    "# 결과 출력\n",
    "print(pdf_files)"
   ]
  },
  {
   "cell_type": "code",
   "execution_count": 10,
   "id": "549de3ff-3239-4087-8f64-a13105c3b39e",
   "metadata": {},
   "outputs": [
    {
     "name": "stderr",
     "output_type": "stream",
     "text": [
      "100%|██████████████████████████████████████████████████████████████████████████████████| 14/14 [04:20<00:00, 18.61s/it]\n"
     ]
    }
   ],
   "source": [
    "from tqdm import tqdm\n",
    "\n",
    "all_docs = []\n",
    "\n",
    "for file in tqdm(pdf_files):\n",
    "    print(f\"{pdf_files}를 convert 중입니다.\")\n",
    "    documents = convert_all_files_to_doc(base_dir+file)\n",
    "    vector_store.add_documents(documents)\n",
    "    \n",
    "    for document in documents:\n",
    "        all_docs.append(document)"
   ]
  },
  {
   "cell_type": "code",
   "execution_count": 11,
   "id": "bf609ca9-aa06-4f9d-83b3-f9ede9cb029e",
   "metadata": {
    "scrolled": true
   },
   "outputs": [
    {
     "name": "stdout",
     "output_type": "stream",
     "text": [
      "1695 38\n"
     ]
    }
   ],
   "source": [
    "print(len(all_docs), len(documents))"
   ]
  },
  {
   "cell_type": "code",
   "execution_count": 22,
   "id": "83533308-5465-40ac-896e-0c94c31acb95",
   "metadata": {},
   "outputs": [
    {
     "data": {
      "text/plain": [
       "Document(page_content='미중무역분쟁\\n1단계 무역합의\\n대중2018년 7월\\n미국의 대중수입이2020. 09. 14', metadata={'source': 'data/PDF_with_contents/3. 정책 및 무역\\\\[정책][한국무역협회][2020.09.14][최종_KITA 통상리포트 11호_인도 수입규제 동향과 우리기업의 대응방안.pdf', 'page': 37})"
      ]
     },
     "execution_count": 22,
     "metadata": {},
     "output_type": "execute_result"
    }
   ],
   "source": [
    "all_docs[1694]"
   ]
  },
  {
   "cell_type": "code",
   "execution_count": 16,
   "id": "ffe1bf6c-b7a2-45ec-82a8-0a835c064462",
   "metadata": {
    "scrolled": true
   },
   "outputs": [
    {
     "data": {
      "text/plain": [
       "Document(page_content='미중무역분쟁\\n1단계 무역합의\\n대중2018년 7월\\n미국의 대중수입이2020. 09. 14', metadata={'source': 'data/PDF_with_contents/3. 정책 및 무역\\\\[정책][한국무역협회][2020.09.14][최종_KITA 통상리포트 11호_인도 수입규제 동향과 우리기업의 대응방안.pdf', 'page': 37})"
      ]
     },
     "execution_count": 16,
     "metadata": {},
     "output_type": "execute_result"
    }
   ],
   "source": [
    "documents[37]"
   ]
  },
  {
   "cell_type": "code",
   "execution_count": 25,
   "id": "43c1eae3-2211-412b-b688-1504c2466f6c",
   "metadata": {},
   "outputs": [
    {
     "name": "stdout",
     "output_type": "stream",
     "text": [
      "all_docs 객체가 성공적으로 저장되었습니다.\n"
     ]
    }
   ],
   "source": [
    "import pickle\n",
    "\n",
    "# all_docs 객체를 pickle 파일로 저장\n",
    "with open('all_docs.pkl', 'wb') as file:\n",
    "    pickle.dump(all_docs, file)\n",
    "\n",
    "print(\"all_docs 객체가 성공적으로 저장되었습니다.\")"
   ]
  },
  {
   "cell_type": "code",
   "execution_count": 19,
   "id": "dc7fca45-6814-4165-8574-c389b7c434d3",
   "metadata": {},
   "outputs": [],
   "source": [
    "with open('all_docs.pkl', 'rb') as f:\n",
    "    saved_all_docs = pickle.load(f)"
   ]
  },
  {
   "cell_type": "code",
   "execution_count": 23,
   "id": "6748ef25-351b-42c4-90ee-d44410c62976",
   "metadata": {},
   "outputs": [
    {
     "data": {
      "text/plain": [
       "Document(page_content='미중무역분쟁\\n1단계 무역합의\\n대중2018년 7월\\n미국의 대중수입이2020. 09. 14', metadata={'source': 'data/PDF_with_contents/3. 정책 및 무역\\\\[정책][한국무역협회][2020.09.14][최종_KITA 통상리포트 11호_인도 수입규제 동향과 우리기업의 대응방안.pdf', 'page': 37})"
      ]
     },
     "execution_count": 23,
     "metadata": {},
     "output_type": "execute_result"
    }
   ],
   "source": [
    "saved_all_docs[1694]"
   ]
  },
  {
   "cell_type": "code",
   "execution_count": 37,
   "id": "68ffe0ad-66a8-4daf-a395-9e7dbb249bdb",
   "metadata": {
    "scrolled": true
   },
   "outputs": [
    {
     "data": {
      "text/plain": [
       "{'ids': ['1743c4c7-b81e-4891-88c9-14ecc4951f1a',\n",
       "  '20553ed4-8592-4b29-a265-e26a25aa575c',\n",
       "  '25c4e343-004c-4093-b2a6-78caf5cad3a1',\n",
       "  '2f82aa71-7390-4552-924d-ee744ad94914',\n",
       "  '32b4c571-5656-4398-9eb3-63a59d1e4f97',\n",
       "  '3bca94b8-9789-4503-95b1-b70eedf0cc04',\n",
       "  '3ca22985-b163-4b6c-aba9-378174e15fdf',\n",
       "  '4c9f456e-8faa-46c4-8f26-03d9328f1c09',\n",
       "  '4edd0cfb-2512-4474-bd8d-8d10a92f96d1',\n",
       "  '5af4bf75-5463-4992-91d2-652a752a5962',\n",
       "  '5eceb05f-bbe0-4518-afb0-bba7b6fd011d',\n",
       "  '657c0531-be09-40a4-8206-4d7ffb157829',\n",
       "  '6c273572-8ad8-4aa0-a1b5-4a6cb506b2af',\n",
       "  '7273fd01-56f2-4a69-8b60-f377a6f5a7f8',\n",
       "  '73dd6262-0210-459c-a6f9-e4172f65f0ff',\n",
       "  '74d97fa4-c7de-4e6a-ba6e-a19d44452ec4',\n",
       "  '7b49e79f-7007-44bc-9169-4996fd0e69c0',\n",
       "  '7dc0e1e6-9940-49f9-b18c-5406fe90f19c',\n",
       "  '7f7d58be-8d18-4de6-990d-8211e1f6a426',\n",
       "  '92c9e811-f923-44bc-ae8e-80312fd361e2',\n",
       "  '96c6cc36-2adb-4fa4-ab0f-02055f90e670',\n",
       "  'a53a7aa4-7eb7-40cd-b083-5852785b561f',\n",
       "  'a66b2ffc-d14a-4c44-b5b9-de82e3822943',\n",
       "  'a8e9b7e3-d35b-4fea-912f-78329187ff48',\n",
       "  'b4e4c4dc-8cc5-4218-887a-e4794094d8e4',\n",
       "  'b8d0c1c9-06d8-4ce6-be2f-4aec76136e98',\n",
       "  'bc8efe8e-9a89-4d74-886c-3d0d8f4a80d4',\n",
       "  'bcb36626-2c85-42d7-aebf-c1a1860eeeec',\n",
       "  'c24e1f26-aa58-4665-a733-3142e047e7ce',\n",
       "  'c8169a2b-169c-4d18-8db5-edae3e0cf0bc',\n",
       "  'c8f78d6f-d48e-4d86-8c99-4f1ad592724f',\n",
       "  'ca5be8e1-ac97-4682-9afc-1cf906eccf67',\n",
       "  'cf1e278c-41cb-4d67-8b48-cfd33d50d121',\n",
       "  'd19b1934-8068-4ee2-95eb-bf66babde920',\n",
       "  'd8982908-6eb6-4d34-93c4-36f79063da4e',\n",
       "  'e07b83b8-41b1-48a3-95c2-918337064f8d',\n",
       "  'e479e350-7a2f-453e-b2f8-dd016a58b695',\n",
       "  'eb5ea55e-d7b2-464c-915c-bb9f2d0705bd',\n",
       "  'eea924a8-61f2-47f8-acae-8e60e9254dc9',\n",
       "  'f9d34d44-d3c9-4eaf-bcc8-f416560c27cb',\n",
       "  'fc2d7901-5e67-4b87-9fc8-27eadefbc28c'],\n",
       " 'embeddings': None,\n",
       " 'metadatas': [{'page': 32,\n",
       "   'source': './data/[법률_규범_특허][코트라][2022]한-인도 CEPA 활용법 및 인도 통상 애로.pdf'},\n",
       "  {'page': 5,\n",
       "   'source': './data/[법률_규범_특허][코트라][2022]한-인도 CEPA 활용법 및 인도 통상 애로.pdf'},\n",
       "  {'page': 35,\n",
       "   'source': './data/[법률_규범_특허][코트라][2022]한-인도 CEPA 활용법 및 인도 통상 애로.pdf'},\n",
       "  {'page': 1,\n",
       "   'source': './data/[법률_규범_특허][코트라][2022]한-인도 CEPA 활용법 및 인도 통상 애로.pdf'},\n",
       "  {'page': 25,\n",
       "   'source': './data/[법률_규범_특허][코트라][2022]한-인도 CEPA 활용법 및 인도 통상 애로.pdf'},\n",
       "  {'page': 30,\n",
       "   'source': './data/[법률_규범_특허][코트라][2022]한-인도 CEPA 활용법 및 인도 통상 애로.pdf'},\n",
       "  {'page': 38,\n",
       "   'source': './data/[법률_규범_특허][코트라][2022]한-인도 CEPA 활용법 및 인도 통상 애로.pdf'},\n",
       "  {'page': 26,\n",
       "   'source': './data/[법률_규범_특허][코트라][2022]한-인도 CEPA 활용법 및 인도 통상 애로.pdf'},\n",
       "  {'page': 37,\n",
       "   'source': './data/[법률_규범_특허][코트라][2022]한-인도 CEPA 활용법 및 인도 통상 애로.pdf'},\n",
       "  {'page': 9,\n",
       "   'source': './data/[법률_규범_특허][코트라][2022]한-인도 CEPA 활용법 및 인도 통상 애로.pdf'},\n",
       "  {'page': 21,\n",
       "   'source': './data/[법률_규범_특허][코트라][2022]한-인도 CEPA 활용법 및 인도 통상 애로.pdf'},\n",
       "  {'page': 10,\n",
       "   'source': './data/[법률_규범_특허][코트라][2022]한-인도 CEPA 활용법 및 인도 통상 애로.pdf'},\n",
       "  {'page': 40,\n",
       "   'source': './data/[법률_규범_특허][코트라][2022]한-인도 CEPA 활용법 및 인도 통상 애로.pdf'},\n",
       "  {'page': 33,\n",
       "   'source': './data/[법률_규범_특허][코트라][2022]한-인도 CEPA 활용법 및 인도 통상 애로.pdf'},\n",
       "  {'page': 31,\n",
       "   'source': './data/[법률_규범_특허][코트라][2022]한-인도 CEPA 활용법 및 인도 통상 애로.pdf'},\n",
       "  {'page': 11,\n",
       "   'source': './data/[법률_규범_특허][코트라][2022]한-인도 CEPA 활용법 및 인도 통상 애로.pdf'},\n",
       "  {'page': 15,\n",
       "   'source': './data/[법률_규범_특허][코트라][2022]한-인도 CEPA 활용법 및 인도 통상 애로.pdf'},\n",
       "  {'page': 19,\n",
       "   'source': './data/[법률_규범_특허][코트라][2022]한-인도 CEPA 활용법 및 인도 통상 애로.pdf'},\n",
       "  {'page': 2,\n",
       "   'source': './data/[법률_규범_특허][코트라][2022]한-인도 CEPA 활용법 및 인도 통상 애로.pdf'},\n",
       "  {'page': 0,\n",
       "   'source': './data/[법률_규범_특허][코트라][2022]한-인도 CEPA 활용법 및 인도 통상 애로.pdf'},\n",
       "  {'page': 22,\n",
       "   'source': './data/[법률_규범_특허][코트라][2022]한-인도 CEPA 활용법 및 인도 통상 애로.pdf'},\n",
       "  {'page': 14,\n",
       "   'source': './data/[법률_규범_특허][코트라][2022]한-인도 CEPA 활용법 및 인도 통상 애로.pdf'},\n",
       "  {'page': 20,\n",
       "   'source': './data/[법률_규범_특허][코트라][2022]한-인도 CEPA 활용법 및 인도 통상 애로.pdf'},\n",
       "  {'page': 23,\n",
       "   'source': './data/[법률_규범_특허][코트라][2022]한-인도 CEPA 활용법 및 인도 통상 애로.pdf'},\n",
       "  {'page': 18,\n",
       "   'source': './data/[법률_규범_특허][코트라][2022]한-인도 CEPA 활용법 및 인도 통상 애로.pdf'},\n",
       "  {'page': 6,\n",
       "   'source': './data/[법률_규범_특허][코트라][2022]한-인도 CEPA 활용법 및 인도 통상 애로.pdf'},\n",
       "  {'page': 28,\n",
       "   'source': './data/[법률_규범_특허][코트라][2022]한-인도 CEPA 활용법 및 인도 통상 애로.pdf'},\n",
       "  {'page': 27,\n",
       "   'source': './data/[법률_규범_특허][코트라][2022]한-인도 CEPA 활용법 및 인도 통상 애로.pdf'},\n",
       "  {'page': 13,\n",
       "   'source': './data/[법률_규범_특허][코트라][2022]한-인도 CEPA 활용법 및 인도 통상 애로.pdf'},\n",
       "  {'page': 16,\n",
       "   'source': './data/[법률_규범_특허][코트라][2022]한-인도 CEPA 활용법 및 인도 통상 애로.pdf'},\n",
       "  {'page': 4,\n",
       "   'source': './data/[법률_규범_특허][코트라][2022]한-인도 CEPA 활용법 및 인도 통상 애로.pdf'},\n",
       "  {'page': 8,\n",
       "   'source': './data/[법률_규범_특허][코트라][2022]한-인도 CEPA 활용법 및 인도 통상 애로.pdf'},\n",
       "  {'page': 7,\n",
       "   'source': './data/[법률_규범_특허][코트라][2022]한-인도 CEPA 활용법 및 인도 통상 애로.pdf'},\n",
       "  {'page': 36,\n",
       "   'source': './data/[법률_규범_특허][코트라][2022]한-인도 CEPA 활용법 및 인도 통상 애로.pdf'},\n",
       "  {'page': 3,\n",
       "   'source': './data/[법률_규범_특허][코트라][2022]한-인도 CEPA 활용법 및 인도 통상 애로.pdf'},\n",
       "  {'page': 34,\n",
       "   'source': './data/[법률_규범_특허][코트라][2022]한-인도 CEPA 활용법 및 인도 통상 애로.pdf'},\n",
       "  {'page': 17,\n",
       "   'source': './data/[법률_규범_특허][코트라][2022]한-인도 CEPA 활용법 및 인도 통상 애로.pdf'},\n",
       "  {'page': 39,\n",
       "   'source': './data/[법률_규범_특허][코트라][2022]한-인도 CEPA 활용법 및 인도 통상 애로.pdf'},\n",
       "  {'page': 12,\n",
       "   'source': './data/[법률_규범_특허][코트라][2022]한-인도 CEPA 활용법 및 인도 통상 애로.pdf'},\n",
       "  {'page': 24,\n",
       "   'source': './data/[법률_규범_특허][코트라][2022]한-인도 CEPA 활용법 및 인도 통상 애로.pdf'},\n",
       "  {'page': 29,\n",
       "   'source': './data/[법률_규범_특허][코트라][2022]한-인도 CEPA 활용법 및 인도 통상 애로.pdf'}],\n",
       " 'documents': ['34 | 사례로 정리해보는 한-인도 CEPA 활용법 및 인도 통상 애로\\n종류 대상 HS Code 시행일 웹사이트\\n철강\\n수입모니터링제도\\n(SIMS)철강제품72류\\n73류\\n86류‘19.11.21. http://dgftebrc.nic.in:8090/SIMA/\\n석탄\\n수입모니터링제도\\n(CIMS)석탄 2701 ‘21.04.01.https://imports.gov.in/CIMS/public/\\nhome\\n비철금속\\n수입모니터링제도\\n(NFMIMS)구리, 알루미늄74류\\n76류‘21.04.12.https://imports.gov.in/MIMSC/public/\\nhomemines\\nhttps://imports.gov.in/MIMSA/public/\\nhomemines\\n집적회로 (반도체 ) \\n수입모니터링제도\\n(CHIMS)반도체 \\n집적회로8542 ‘21.10.01.https://imports.gov.in/MEITY/public/\\nhome\\n종이\\n수입모니터링제도\\n(PIMS)종이 48류 ’22.10.01 https://imports.gov.in/IMS/index\\n자료: https://imports.gov.in/IMS/index<인도 수입 모니터링 제도 현황>\\n대상 품목\\n모니터링 대상 품목은 인도에서 통용되는 HS 코드 8단위 기준으로 고시된다. 현재 철강 제품 530개 품목, 석\\n탄 5개 품목, 구리 제품 45개 품목, 알루미늄 제품 43개 품목, 반도체 5개 품목, 종이 201개 품목이 모니터링 \\n대상으로 지정돼 있다. 이들 품목은 인도에서 수입 비중이 높은 원자재 또는 관련 산업의 육성이 필요하다고 판\\n단되는 품목들이다. 대상 품목(HS Code)에 대한 상세한 내용은 각 시스템의 웹사이트에서 확인할 수 있다.\\n등록 방법\\n수입 모니터링 제도에 따라 모니터링 대상 물품의 수입자는 화물 도착 전에 미리 화물 정보를 시스템에 등\\n록할 의무가 있다. 각각의 모니터링 제도는 명칭만 서로 다를 뿐 등록 방법과 절차는 유사하다. 등록은 각 수\\n입 모니터링 시스템 별 웹사이트에서 할 수 있으며, 수출입자코드(IEC)를 사용하여 로그인 한 후 양식의 수출\\n자, 제조자, 최종사용자, 규격, 수입 사유 등을 기재해 등록하면 등록고유번호가 자동 생성된다. 수입자는 등\\n록번호와 만료일자를 수입신고서(Bill of Entry)에 기재해야 한다. 만약, 수입자가 화물에 대한 정보를 사전에 \\n등록하지 않으면 세관에서 통관이 지연될 수 있을 뿐만 아니라, 관련 법령에 따라 수출입자부호(IEC)의 정지, \\n과태료 부과 등의 제재를 받을 수 있다. 한편, 시스템에 등록된 화물 정보는 품목별로 유관기관이 취합해 주\\n기적으로 웹사이트 등에 통계자료가 공지된다.',\n",
       "  \"인도 수출 및 CEPA 활용 시 주의사항 알아두기  | 07\\n환급 등의 이유 및 품목분류의 정합성을 위해 동일한 물품에 대하여 수출신고서 상 HS 코드를 다르게 적용할 \\n수 없기 때문이다. 해당 업체는 한-인도 CEPA 활용을 위해 수입국에서 적용되는 HS 코드가 다른 경우 원산\\n지증명서 발급 방법에 대해서 확인이 필요했기 때문에 뉴델리 CEPA 활용지원센터에 지원을 요청했다.\\n뉴델리 CEPA활용지원센터에서  해당 사례 관련하여 한국 세관과 지원방법을 알아본 결과, 수입국에서 수\\n출국의 HS 코드와 상이한 HS 코드를 원산지증명서 상 기재할 것을 요청하는 경우 원산지증명서 발급 방법\\n에 관한 지침에 따라 증명 서류를 제출하고, 해당 수출물품이 HS 코드의 변경 전 후의 원산지기준을 모두 충\\n족하는 것이 확인될 때에는 인도 세관에서 요청하는 HS 코드를 기재한 원산지증명서를 발급 가능하다는 것\\n을 알 수 있었고, 해당 업체는 한-인도 CEPA 적용 관련 품목분류 논쟁을 방지할 수 있었다.\\n③ 시사점\\nHS 코드란 국제무역거래의 대상이 되는 물품을 분류해놓은 품목분류표이다. HS 협약에 따라 6자리까지 \\n국제 공통으로 사용되고 7자리부터 각 국가의 법에 따라 다르게 정하고 있으나, 각 국가마다 품목분류 해석\\n의 차이가 있을 수 있기 때문에 FTA 협정을 체결한 상대국에서 다른 HS 코드를 사용할 것을 요구할 수 있다. \\n이러한 경우 HS 코드 변경에 따른 세율의 차이가 발생하거나 FTA 활용이 어려워질 수 있다. 또한, 변경 후의 \\n세율이 높은 경우 이전에 수입한 건에 대해서도 차액 관세를 추징 당할 수도 있다. 인도 수출 물품에 대한 품\\n목분류 분쟁 또는 FTA 특혜관세의 품목의 불인정 등 애로가 발생할 경우 지역별 본부세관 및 수출입기업지\\n원센터에 신고하거나 해외 FTA 활용지원센터에 지원을 요청할 수 있다. \\n한국 관세청의 '품목분류 해석상이 등에 따른 업무처리 지침'에 따르면 협정상대국(인도)에서 적용되는 HS \\n코드를 확인할 수 있는 서류(수입신고필증 및 품목분류 사전심사결과서 등)를 한국의 원산지증명서 발급기관\\n에 제출할 경우 인도세관에서 요청하는 HS코드를 적용하여 원산지증명서 발급이 가능하다. 대한상공회의소\\n의 온라인 시스템을 이용하여 원산지증명서를 발급하는 경우에는 해당 변경으로 인한 문제 발생 시 수출자의 \\n책임으로 한다는 내용의 사유서를 첨부하여 '발급기관 전달사항'란에 정확한 사유 및 변경 전/후 HS 코드를 기관 적용 HS 코드 물품명 적용 HS 코드\\n대한상공회의소 7410.21 구리의  박(箔) CTH + 25%\\n인도 세관 3919.90 플라스틱 시트(Sheet) CTSH + 35%\\n자료: 뉴델리  CEPA 활용지원센터<스폰지 가스켓(Sponge Gasket) 관련 인도 세관의 HS 코드 적용 불일치 내용> \",\n",
       "  '인도 비관세장벽 이해하기  | 37\\n<사용자 등록화면>\\n<임시비밀번호 입력화면>\\n[참고]수입허가 신청방법 \\n <1> 대외무역총국 홈페이지 계정 로그인\\n•  수출입자코드(IEC)와 인도 은행 계좌를 보유한 수입업자여야 하며, 사용자 정보와 IEC 정보가 연동되어 \\n있어야 함\\n•  비밀번호 생성(Send OTP) 클릭 후 사용자가 등록한 이메일과 인도 전화번호를 통해 수신된 임시비밀번\\n호를 입력하여 계정을 등록(Register) 클릭',\n",
       "  '인사말\\n한-인도 CEPA 발효 11년이 지난 2021년, 양국 간 교역액은 약 236억 달러를 달성하며 역대 최고치\\n를 기록하였습니다. 한국의 대인도 수출과 수입 모두 전년 대비 약 30%, 64% 상승하며, 무역수지는 75\\n억 달러 흑자를 기록하였습니다. 인도는 한국의 대인도 수출품 85%에 대한 관세를 철폐 또는 감축하면\\n서, 관세장벽은 많이 허물어졌습니다.\\n그러나 인도는 한국산 물품에 대해 원산지관리를 강화하고, 세관 담당자가 임의적으로 품목분류를 변\\n경하여 관세 추징을 하는 등 한국기업이 CEPA 특혜관세를 적용 받기 어렵게 만들고 있습니다. 아울러, \\n인도는 BIS 인증 대상을 확대하고 수입모니터링 시스템을 시행하며 비관세장벽을 높이고 있습니다.\\nKOTRA는 이러한 환경에서 우리 기업을 지원하기 위해 2018년 뉴델리 무역관, 2019년 첸나이 무역\\n관에 CEPA 활용지원센터를 개소하고 우리 기업의 인도 수출 준비부터 CEPA 활용 및 통관 관련 지원을 \\n하고 있습니다. \\n지난해 인도 통상환경에서 기업 수출 담당자가 겪은 다양한 애로 사례들과 관련하여 CEPA 활용지원\\n센터에서 함께 대응하였습니다. 축적된 실사례와 대응방안을 담아 우리기업에게 도움을 드리고자 ‘사례\\n로 정리해보는 한-인도 CEPA 활용법 및 인도 통상 애로’라는 자료를 발간하게 되었습니다.\\n자료에 담긴 사례들과 대응방안이 인도 진출을 준비하고 있거나, 진출한 한국기업들의 피해를 줄이고 \\n더 쉽게 CEPA를 활용하는데 도움이 되길 바랍니다.\\n2022년 5월\\nKOTRA 서남아지역본부장  빈준화',\n",
       "  '인도 비관세장벽 이해하기  | 27\\n해외제조업체에 대한 BIS 인증제도는 크게 Scheme I과 Scheme II로 구분된다. Scheme I은 FMCD \\n(Foreign Manufacture’s Certification Department)에서, Scheme II는 Registration Department에\\n서 관리하고 있다. 두 개 부서는 모두 BIS 델리 본사에 소속되어 있다. (주소: Manak Bhawan, 9, Bahadur \\nShah Zafar Marg, New Delhi-110002) \\nScheme I은 인도 규격을 충족하는 물품에 대하여 ISI 마크를 사용할 수 있는 자격을 부여하며, 해외제조\\n자를 위한 인증 절차가 별도로 정해져있다. 인증 대상물품은 인도정부의 각 담당부처에서 지정하고 실질적인 \\n인증업무는 FMCD(Foreign Manufacturers Certification Department)에서 담당하고 있다. FMCD는 약 \\n5명으로 구성되어 있으며, 담당자마다 관리하는 제품군이 다르게 배정되어있다. 담당자가 인증신청서류를 \\n제출 받으면, 시스템에 등록을 하고 서류 검토를 담당한다.  \\nScheme II 인증 대상은 인도 전자정보부(Ministry of Electronics & Information Technology)와 신재\\n생에너지부(Ministry of New and Renewal Energy)에서 지정하고, BIS의 Registration Department에\\n서 인증업무를 담당하고 있다. 인도의 전자정보부(Ministry of Electronics & Information Technology)는 \\n2012년 10월 3일부터 Scheme II 인증 대상 제품을 지정하기 시작했다. 인도 신재생에너지부(Ministry of \\nNew and Renewal Energy)는 2017년 9월 5일 태양광 관련 6개 제품을 Scheme II 인증 대상 제품으로 \\n지정하였다. 또한, 2022년 인도 화학 · 비료부(Ministry of Chemicals & Fertilizers)에서 비료로 사용되는 \\n비료 등에 사용되는 오르토인산(Ortho Phosphoric Acid)과 폴리인산(Polyphosphoric Acid), 반도체제조\\n공정에 사용되는 트라이메틸포스파이트(Trimethyl Phosphite)를 Scheme II 대상으로 추가하였다.  \\n나. 인도 지정실험실에 샘플 발송 시 주의사항\\n① 주요 내용\\nBIS 인증 또는 인도 수입자와의 거래를 위한 샘플을 수출할 때에는 물량이 많지 않기 때문에 항공특송을 통\\n해 발송하게 된다. 특송업체를 통해 수입할 경우 수출자 또는 수입자는 KYC(Know Your Consignment)라\\n는 서류를 인도 세관에 제출하여 인도 내 수하인(Consignee)의 주소를 증명하여야 한다. 이를 위해 수출입\\n자코드(Importer Exporter Code), 은행계좌, 전기요금 고지서 등 해당 주소의 증명 서류 등을 온라인으로 \\n제출하여야 한다. 이 절차에서 주소의 불일치 및 오류가 있을 경우 통관 진행이 지연되며 수하인의 동의 없이\\n는 반송 절차의 진행도 불가능하며 그에 따른 체화료(Demurrage Charge)가 부과되기 때문에 예상치 못한 \\n피해가 발생할 수 있다. ',\n",
       "  '32 \\n|\\n \\n사례로 정리해보는 한-인도 CEPA 활용법 및 인도 통상 애로\\n신\\n청\\n서\\n류\\n의\\n \\n접\\n수\\n일\\n로\\n부\\n터\\n \\n약\\n \\n3\\n개\\n월\\n \\n내\\n \\n인\\n증\\n \\n획\\n득\\n이\\n \\n완\\n료\\n되\\n지\\n만\\n \\n인\\n증\\n신\\n청\\n이\\n \\n거\\n부\\n되\\n는\\n \\n경\\n우\\n에\\n는\\n \\n접\\n수\\n일\\n로\\n부\\n터\\n \\n6\\n개\\n월\\n \\n이\\n내\\n에\\n \\n사\\n유\\n와\\n \\n함\\n께\\n \\n통\\n지\\n된\\n다\\n.\\n  \\n이\\n \\n경\\n우\\n,\\n \\n신\\n청\\n자\\n는\\n \\n통\\n지\\n일\\n로\\n부\\n터\\n \\n45\\n일\\n \\n내\\n \\n이\\n의\\n를\\n \\n제\\n기\\n할\\n \\n수\\n \\n있\\n다\\n.\\n \\n또\\n한\\n,\\n \\nCDSCO\\n \\n인\\n증\\n \\n획\\n득\\n \\n절\\n차\\n는\\n \\n인\\n도\\n \\n수\\n출\\n \\n전\\n에\\n \\n완\\n료\\n되\\n어\\n야\\n \\n하\\n고\\n,\\n \\n등\\n록\\n번\\n호\\n \\n외\\n \\n제\\n품\\n명\\n,\\n \\n제\\n조\\n자\\n명\\n,\\n \\n제\\n조\\n사\\n \\n주\\n소\\n,\\n \\n무\\n게\\n,\\n \\n성\\n분\\n \\n및\\n \\n성\\n분\\n함\\n량\\n,\\n \\n사\\n용\\n법\\n \\n등\\n에\\n \\n대\\n해\\n서\\n \\nCDSCO\\n \\n규\\n정\\n에\\n \\n맞\\n게\\n \\n표\\n시\\n한\\n \\n라\\n벨\\n을\\n \\n제\\n품\\n에\\n \\n부\\n착\\n하\\n여\\n \\n수\\n출\\n하\\n여\\n야\\n \\n한\\n다\\n.\\n \\n또\\n한\\n,\\n \\n인\\n증\\n \\n신\\n청\\n \\n당\\n시\\n의\\n \\n제\\n조\\n자\\n가\\n \\n변\\n경\\n된\\n \\n경\\n우\\n에\\n는\\n \\n변\\n경\\n일\\n로\\n부\\n터\\n \\n180\\n일\\n \\n이\\n내\\n \\nCDSCO\\n \\n재\\n신\\n청\\n을\\n \\n하\\n여\\n야\\n \\n하\\n고\\n,\\n \\n수\\n입\\n자\\n,\\n \\n제\\n조\\n자\\n \\n등\\n의\\n \\n이\\n름\\n,\\n \\n주\\n소\\n \\n등\\n이\\n \\n변\\n경\\n된\\n \\n경\\n우\\n에\\n는\\n \\n변\\n경\\n일\\n로\\n부\\n터\\n \\n60\\n일\\n \\n이\\n내\\n에\\n \\n변\\n경\\n사\\n항\\n을\\n \\n서\\n면\\n으\\n로\\n \\nCDSCO\\n에\\n \\n제\\n출\\n하\\n여\\n \\n통\\n지\\n하\\n여\\n야\\n \\n한\\n다\\n.\\n \\n2\\n.\\n \\n수\\n입\\n \\n전\\n \\n등\\n록\\n \\n및\\n \\n허\\n가\\n제\\n도\\n \\n가\\n.\\n \\n철\\n강\\n제\\n품\\n \\n수\\n입\\n \\n전\\n \\n모\\n니\\n터\\n링\\n \\n시\\n스\\n템\\n \\n상\\n \\n화\\n물\\n정\\n보\\n \\n등\\n록\\n \\n의\\n무\\n①\\n \\n주\\n요\\n \\n내\\n용\\n인\\n도\\n는\\n \\n철\\n강\\n,\\n \\n석\\n탄\\n,\\n \\n구\\n리\\n,\\n \\n알\\n루\\n미\\n늄\\n,\\n \\n반\\n도\\n체\\n에\\n \\n대\\n해\\n \\n수\\n입\\n \\n모\\n니\\n터\\n링\\n \\n제\\n도\\n를\\n \\n운\\n영\\n하\\n고\\n \\n있\\n다\\n.\\n \\n이\\n들\\n \\n제\\n품\\n을\\n \\n수\\n입\\n할\\n \\n때\\n는\\n \\n화\\n물\\n \\n도\\n착\\n \\n전\\n에\\n \\n미\\n리\\n \\n화\\n물\\n정\\n보\\n를\\n \\n각\\n \\n온\\n라\\n인\\n \\n시\\n스\\n템\\n에\\n \\n등\\n록\\n해\\n야\\n한\\n다\\n.\\n \\n화\\n물\\n정\\n보\\n를\\n \\n사\\n전\\n에\\n \\n등\\n록\\n하\\n지\\n \\n않\\n은\\n \\n경\\n우\\n,\\n \\n인\\n도\\n에\\n서\\n \\n수\\n입\\n \\n통\\n관\\n이\\n \\n불\\n가\\n하\\n며\\n \\n과\\n태\\n료\\n \\n및\\n \\n수\\n출\\n입\\n코\\n드\\n(\\nIEC\\n)\\n의\\n \\n사\\n용\\n \\n정\\n지\\n \\n등\\n의\\n \\n불\\n이\\n익\\n이\\n \\n있\\n을\\n \\n수\\n \\n있\\n으\\n므\\n로\\n \\n유\\n의\\n하\\n여\\n야\\n \\n한\\n다\\n.\\n \\n②\\n \\n사\\n례\\nJ\\n사\\n는\\n \\n자\\n사\\n의\\n \\n사\\n업\\n장\\n에\\n서\\n \\n사\\n용\\n할\\n \\n목\\n적\\n으\\n로\\n \\n한\\n국\\n에\\n서\\n \\n철\\n제\\n \\n기\\n구\\n(\\nHS\\n \\nCode\\n:\\n \\n73\\nXX\\n)\\n를\\n \\n주\\n문\\n하\\n였\\n다\\n.\\n \\n첸\\n나\\n이\\n항\\n \\n도\\n착\\n을\\n \\n며\\n칠\\n \\n앞\\n두\\n고\\n,\\n \\n사\\n는\\n \\n철\\n강\\n \\n제\\n품\\n을\\n \\n인\\n도\\n에\\n \\n수\\n입\\n \\n시\\n \\n화\\n물\\n \\n도\\n착\\n \\n15\\n일\\n전\\n까\\n지\\n \\n그\\n \\n화\\n물\\n정\\n보\\n를\\n \\n철\\n강\\n \\n수\\n입\\n \\n모\\n니\\n터\\n링\\n \\n시\\n스\\n템\\n(\\nSteel\\n \\nImport\\n \\nMonitoring\\n \\nSystem\\n,\\n \\n이\\n하\\n \\n“\\nSIMS\\n”)\\n에\\n \\n등\\n록\\n하\\n여\\n야\\n \\n한\\n다\\n는\\n \\n사\\n실\\n을\\n \\n알\\n게\\n \\n되\\n었\\n으\\n나\\n,\\n \\n이\\n미\\n \\n등\\n록\\n기\\n한\\n이\\n \\n경\\n과\\n한\\n \\n후\\n였\\n다\\n.\\n \\n사\\n는\\n \\nSIMS\\n \\n미\\n등\\n록\\n에\\n \\n대\\n한\\n \\n불\\n이\\n익\\n과\\n \\n이\\n후\\n \\n조\\n치\\n사\\n항\\n에\\n \\n관\\n하\\n여\\n \\n첸\\n나\\n이\\n \\nCEPA\\n \\n활\\n용\\n지\\n원\\n센\\n터\\n에\\n \\n문\\n의\\n하\\n였\\n다\\n.\\n첸\\n나\\n이\\n \\nCEPA\\n활\\n용\\n지\\n원\\n센\\n터\\n는\\n \\nSIMS\\n \\n주\\n관\\n부\\n서\\n인\\n \\n대\\n외\\n무\\n역\\n총\\n국\\n(\\nDGFT\\n)\\n에\\n \\nSIMS\\n \\n미\\n등\\n록\\n \\n시\\n \\n불\\n이\\n익\\n과\\n \\n함\\n께\\n \\n사\\n후\\n \\n등\\n록\\n \\n가\\n능\\n \\n여\\n부\\n를\\n \\n문\\n의\\n하\\n였\\n다\\n.\\n \\n대\\n외\\n무\\n역\\n총\\n국\\n에\\n서\\n \\n관\\n련\\n \\n규\\n정\\n상\\n \\n등\\n록\\n \\n기\\n한\\n은\\n \\n수\\n입\\n \\n화\\n물\\n \\n도\\n착\\n \\n전\\n \\n15\\n일\\n이\\n지\\n만\\n,\\n \\n실\\n무\\n적\\n으\\n로\\n \\n해\\n당\\n \\n기\\n한\\n \\n내\\n \\n등\\n록\\n이\\n \\n어\\n려\\n운\\n \\n경\\n우\\n가\\n \\n많\\n으\\n므\\n로\\n \\n도\\n착\\n \\n전\\n \\n15\\n일\\n \\n이\\n후\\n에\\n도\\n \\nSIMS\\n \\n등\\n록\\n이\\n \\n가\\n능\\n하\\n다\\n고\\n \\n답\\n변\\n을\\n \\n받\\n았\\n다\\n.\\n \\n첸\\n나\\n이\\n \\nCEPA\\n활\\n용\\n지\\n원\\n센\\n터\\n는\\n \\n동\\n \\n답\\n변\\n \\n내\\n용\\n과\\n \\nSIMS\\n \\n등\\n록\\n \\n방\\n법\\n을\\n \\n \\n전\\n달\\n하\\n였\\n으\\n며\\n,\\n \\n수\\nJ\\n해\\n당\\n \\n기\\n업\\n에\\n게\\n \\nJ',\n",
       "  '40 | 사례로 정리해보는 한-인도 CEPA 활용법 및 인도 통상 애로\\n<4> 수입허가 신청 수수료 납부  및 신청서 제출\\n• 수수료는 Rs. 500 (약 7 USD)이며, 신청서 제출 후 문자와 이메일로 신청번호 수신\\n<5> 이후 홈페이지 로그인을 통해 수입허가 진행현황 확인 가능<신청수수료 납부 화면>\\n<진행현황 확인 화면>\\n',\n",
       "  '28 | 사례로 정리해보는 한-인도 CEPA 활용법 및 인도 통상 애로\\n② 사례\\n열화상카메라에 대한 BIS 인증을 받기 위해 특송업체를 통해 인도로 샘플을 발송한 한국의 H사는 수하인 \\n주소가 일치하지 않는다는 이유로 통관이 지연되고 있다는 연락을 인도 특송업체로부터 받았다. H사는 뉴델\\n리 CEPA 활용지원센터에 연락하여 인도 세관에 단순한 착오임을 해명하고, 주소를 정정하여 정상적으로 통\\n관이 될 수 있도록 지원을 요청하였다. 인도 세관에 수차례 이러한 상황을 설명 후 확인요청을 하였으나 수하\\n인 주소 정정 시 여러 담당자를 거쳐야 하는 인도의 복잡한 행정절차로 인해 샘플 도착 후 통관 완료까지 3개\\n월 정도 소요되었다.\\n③ 시사점\\nBIS 인증 대상품목 중 디지털카메라, LED 모듈 등 전자기기는 CRS 의무등록제도(Compulsory \\nRegistration Scheme)의 대상으로 해외제조공장의 방문 절차 없이 BIS 지정연구소로 샘플을 송부하고, 실\\n험결과서를 발급받아 온라인으로 표준 적합성을 증명하도록 한다.\\n해당 인증을 진행하기 위해서는 우선 BIS 웹사이트에서 계정 생성 후, BIS 지정연구소로 송부해야하는 샘\\n플 수량을 확인해야 한다.<BIS 온라인 계정 생성 화면>\\n자료: Bureau of Indian Standards (crsbis.in/BIS/publicdashAction.do?hmode=getnewLogin)',\n",
       "  '인도 비관세장벽 이해하기  | 39\\n<3> 대필수 정보 입력, 관련 서류 첨부 및 약관 동의\\n•  물품 유형 및 물품의 세부 정보(원산지, CIF 기준 수입가격, 물품 규격 등), 물품의 예정 수입항 및 실사용\\n자 정보 입력\\n• 제출 정보와 수입허가 신청에 관련된 법적 책임에 대한 약관에 동의한 후, 다음 단계 이동<세부정보 입력화면>\\n<약관동의 화면>\\n',\n",
       "  '인도 수출 및 CEPA 활용 시 주의사항 알아두기  | 11\\n2. 원산지증명서\\n가. 원산지증명서 오류 발급 시 정정 방법\\n① 주요 내용\\n한-인도 CEPA 협정 4.4조에 의하면 수출국에서 선적일로부터 7일 내 원산지증명서를 발급하여야 하며, 7\\n일 이후에 발급된 원산지증명서의 경우에는 ‘소급적용(ISSUED RETROSPECTIVELY)’ 문구가 표시되어 있\\n어야 한다. 해당 내용이 협정과 다르게 표시될 경우, 원산지증명서 오류 발급으로 간주된다. \\n② 사례\\n한국에서 인도로 스피커 부품을 수출하고 있는 B사는 기업 측의 착오로 한국 세관에 원산지증명서 발급 신\\n청 시 선적일로부터 5일이 되었음에도 ‘소급적용’ 문구 표시를 신청하여 발급받았다. 인도 세관에서는 한-인\\n도 CEPA 협정에 따라 해당 원산지증명서를 적합하지 않다고 판단하여, ‘소급적용’ 문구가 없는 원산지증명\\n서를 제출할 것을 요청하였다. 이와 같은 오류가 있는 경우, 한-인도 CEPA 적용을 위해 원산지증명서의 재\\n발급이 필요하나 재발급을 위해서는 기존에 발급된 원산지증명서 원본을 회수한 이후에 가능하므로 한-인도 \\nCEPA 적용이 늦어지게 되고, 통관 지연에 따른 보관료 등이 발생할 것으로 예상되었다. 뉴델리 CEPA활용\\n지원센터는 한국 세관과 관련 내용을 확인한 후, 다음과 같은 정정 발급을 통해 보다 빠르게 한-인도 CEPA\\n를 적용할 수 있도록 안내하였다.\\n1. 한국 세관에\\n원산지증명서 정정신청 2. 정정 원산지증명서 제출,\\n한-인도 CEPA 적용3. 원산지증명서\\n원본(오류 발급본) 회수\\n③ 시사점\\n자유무역협정의 이행을 위한 관세법의 특례에 관한 법률 제12조에 따라 관세당국에서 수출물품의 원산지\\n증명 능력이 있다고 인정받은 경우, 원산지증명서 발급이 간소화 된다. 해당 인증을 취득한 기업(원산지 인증 \\n수출자)은 원산지증명서 발급 신청 시 해당 물품의 원산지를 입증하기 위한 자료 제출이 생략되고, 발급 기관\\n의 심사도 간소화된다. 이렇게 인증 수출자 제도를 통해 원산지증명서 발급을 신청하면 절차가 간소화되지\\n만, 신청자가 협정 별 내용을 숙지하고 신중하게 신청하는 것이 중요하다. 예를 들어, 협정 별 ‘소급적용’ 문',\n",
       "  '인도 비관세장벽 이해하기  | 23\\n또한, 2022년 5월 기준 코로나19로 인한 각국 검역지침이 완화 되고 있으나, BIS의 현장실사를 위한 해외 \\n제조공장 방문이 아직까지는 코로나19 이전 수준으로 복귀되지 않은 상황이다. 현장실사의 어려움에도 불\\n구, BIS는 인도 내 생산 및 제조가 가능한 물품의 경우, 신규 BIS 인증 시행을 늦추지 않고, 지속적으로 인증 \\n시행 대상을 확대해 나갈 것으로 보인다. 인도에 진출한 G사는 코로나19로 인해 BIS 인증을 진행 할 수 없었\\n음에도 불구하고, 인도세관에서 BIS 인증을 획득하지 않은 물품의 통관을 불허하여 BIS 인증 시행일 이후 인\\n도 수입항에 도착한 물품의 통관이 지연되는 경험을 한 바 있다.\\n③ 시사점\\n우리 기업들이 인도로 수출하여 현지에서 사용하는 물품 중 화학·철강 제품이 BIS 인증제도 대상으로 가\\n장 큰 영향을 받고 있다. 특히 화학물품에 대해서는 가성소다(Caustic Soda), 붕산(Boric Acid) 등 25개 물\\n품에 대해서 BIS 인증이 시행 중이며, 2022년부터 아세톤(Acetone) 등 27개의 물품에 대하여 신규로 시행\\n될 예정이다. 철강제품에 대해서는 압연 강판(Hot rolled or cold rolled steel sheet), 와이어(Steel wire), \\n봉형강(Steel Bar) 등 144개 철강제품이 대상에 포함되며 그 중 91개의 물품이 2020년 이후에 추가되었고, \\n2022년부터 페로실리콘(Ferrosilicon), 페로니켈(Ferronickel) 등 6개 철강제품에 대하여 신규로 BIS 인증\\n이 시행될 예정이다.\\n<최근 인증이 시행되었거나 곧 시행 예정인 화학제품>\\n연번 물품상세 시행일\\n1 Ethyl Acrylate\\n‘22년 5월2 Methyl Acrylate\\n3 Vinyl Acetate Monomer\\n4 Methylene Chloride (Dichloromethane)\\n5 Ethylene Glycol \\n‘22년 6월6 Toluene \\n7 Terephthalic Acid  \\n8 Phthalic Anhydride\\n9 N - Butyl Acrylate\\n10 Acetic Acid\\n‘22년 8월11 Aniline\\n12 Methanol \\n13 Morpholine',\n",
       "  '12 | 사례로 정리해보는 한-인도 CEPA 활용법 및 인도 통상 애로\\n구가 표시되어야 하는 기준이 다르므로 신청 전 이러한 내용이 맞게 신청 되었는지 재검토 절차가 필요하다.  \\n현재 한국과 인도는 수출국에서 발급한 원산지증명을 세관당국 간 전자적으로 교환하는 ‘전자원산지증명 \\n교환시스템(EODES; Electronics Origin Data Exchange System)’ 구축을 진행 중이다. 해당 시스템이 \\n구축되면 전자적인 방법으로 원산지증명서 제출이 가능하므로 원산지증명서의 정정 및 재발급이 필요한 경\\n우 또는 원산지증명서 도착이 지연되는 경우에도 한-인도 CEPA의 특혜 신청이 용이할 것으로 예상된다. \\n나. 원산지증명서 원본 여부 논란 발생 시 대응방안\\n① 주요 내용\\n한-인도 CEPA 혜택을 받기 위해서는 지정 기관이 발급한 원산지증명서를 수입 통관 시점에 당국 세관\\n에 제출하여야 한다. 우리나라는 세관과 대한상공회의소에서 발급하고, 인도는 수출검사위원회(Export \\nInspection Council of India)에서 발급하고 있다. 현재 한국과 인도 간 원산지 정보교환 시스템(e C/O)를 \\n구축 중에 있으나 아직까지는 원산지증명서 원본을 제출해야 한다. 양국 세관은 원산지증명서의 진위 여부를 \\n확인하여 그 판단에 따라 CEPA 특혜 적용을 거부할 수도 있다. \\n② 사례\\n한국에서 인도에 수출하는 물품에 대하여 한-인도 CEPA 혜택을 적용하기 위해서는 한국 세관이나 대한상\\n공회의소에서 발급한 원산지증명서 원본을 인도 수입 통관 시점에 제출해야 한다. 이 때, 인도 세관으로부터 \\n원산지 기준 충족 여부 및 원산지증명서 진위 여부에 대한 논쟁이 발생하여 통관이 지연되고 한-인도 CEPA \\n적용에 어려움이 발생하는 경우가 있다. \\n인도에 진출한 제조기업인 C사는 인도 세관으로부터 한-인도 CEPA 적용을 위한 원산지증명서가 원본이라\\n는 증거를 제출하도록 요청을 받았다. 첸나이 CEPA활용지원센터의 도움으로 인도 세관 담당자에게 한국 관\\n세청에서 제공하는 원산지증명서 원본 여부를 확인할 수 있는 화면을 안내하였으나, 인도 세관은 해당 화면에\\n서 수출자의 서명이 확인되지 않는다는 이유로 바로 한-인도 CEPA 적용을 허용하지 않고, CEPA를 적용 시 \\n세액과 기본 관세율 적용 시 세액의 차액에 상당하는 은행 보증 제공 후 통관을 하도록 하였다. 첸나이 CEPA\\n활용지원센터는 관련 내용을 원산지증명서를 발급한 한국 세관에 공유하였고, 한국 세관은 인도 세관의 담당\\n자에게 해당 원산지증명서가 원본이라는 사실을 확인하는 내용의 서신을 송부하였다. 이러한 확인 과정을 거\\n친 이후, C사는 한-인도 CEPA의 적용을 받고, 인도 세관에 제공한 관세 담보금을 돌려받을 수 있었다.',\n",
       "  '사례로 정리해보는\\n한\\n-인\\n도\\n C\\nEPA\\n \\n활\\n용\\n법\\n 및\\n 인\\n도\\n 통\\n상\\n 애\\n로\\nKOTRA자료 22-055\\n|\\n \\n발\\n \\n행\\n \\n인\\n \\n \\n|\\n \\n \\n유\\n \\n정\\n \\n열\\n|\\n \\n발\\n \\n행\\n \\n처\\n \\n \\n|\\n \\n \\nKOTRA\\n \\n발\\n \\n행\\n \\n일\\n2022\\n년\\n \\n6\\n월\\n \\n \\n \\n \\n \\n \\n979\\n-\\n11\\n-\\n402\\n-\\n0281\\n-\\n2\\n \\n(\\n93320\\n)\\n \\n \\n \\n \\n979\\n-\\n11\\n-\\n402\\n-\\n0282\\n-\\n9\\n \\n(\\n95320\\n)(\\nPDF\\n)\\n|\\n \\n작\\n \\n성\\n \\n자\\n \\n|\\n \\n   \\n \\n윤\\n소\\n연\\n,\\n \\n \\n첸\\n나\\n이\\n   \\n \\n신\\n동\\n건\\n \\nCopyright\\n \\nⓒ\\n \\n202\\n \\nby\\n \\nKOTRA\\n.\\n \\nAll\\n \\nrights\\n \\nreserved\\n.\\n이\\n \\n책\\n의\\n \\n저\\n작\\n권\\n은\\n \\nKOTRA\\n에\\n \\n있\\n습\\n니\\n다\\n.\\n뉴\\n델\\n리\\n \\n무\\n역\\n관\\n채\\n정\\n훈\\n \\n무\\n역\\n관\\n2\\n|\\n \\n주\\n  \\n  \\n \\n소\\n \\n \\n|\\n서\\n울\\n시\\n \\n서\\n초\\n구\\n \\n헌\\n릉\\n로\\n \\n13\\n \\n(\\n06792\\n)\\n|\\n \\n전\\n   \\n \\n \\n화\\n \\n \\n|\\n \\n02\\n-\\n1600\\n-\\n7119\\n(\\n대\\n표\\n)\\n \\nwww\\n.\\nkotra\\n.\\nor\\n.\\nkr\\n뉴\\n델\\n리\\n \\n무\\n역\\n관\\n|\\n \\n \\nI\\nS\\nB\\nN\\n \\n \\n|\\n|\\n \\n홈\\n페\\n이\\n지\\n \\n|\\n|\\n \\n \\n \\n|\\n \\n|\\n \\n문\\n \\n의\\n \\n처\\n \\n \\n|\\n ',\n",
       "  '인도 비관세장벽 이해하기  | 35\\n종류 등록기간 유효기간 등록수수료\\n철강 수입모니터링제도\\n(SIMS)도착 60일 전부터\\n도착 15일 전까지등록일부터 75일CIF가격 1,000루피당 1루피\\n(최소 500루피 / 최대 10만루피)\\n석탄 수입모니터링제도\\n(CIMS)도착 60일 전부터\\n도착 15일 전까지등록일부터 90일CIF가격 1,000루피당 1루피\\n(최소 500루피 / 최대 10만루피)\\n비철금속 수입모니터링제도\\n(NFMIMS)도착 60일 전부터\\n도착 5일 전까지등록일부터 75일 500루피\\n집적회로 (반도체 ) \\n수입모니터링제도 (CHIMS)도착 60일 전부터\\n도착일 까지등록일부터 75일CIF가격 1,000루피당 1루피\\n(최소 100루피 / 최대 500루피)\\n종이 수입모니터링제도\\n(PIMS)도착75일 전부터\\n도착 5일 전까지등록일부터 75일 500루피\\n자료: https://imports.gov.in/IMS/index<수입 모니터링 제도 별 등록 방법>\\n나. 인도 대외무역총국(DGFT)의 수입 전 허가제도\\n① 주요 내용\\n인도 대외무역총국(DGFT)은 2022년 개정된 HS 코드를 기준으로 수입제한물품을 고시하면서 평판디스\\n플레이 모듈(8524호)과 카메라 모듈(8525호 중 일부)에 대해서 정부 사전허가를 요하는 수입제한물품으로 \\n지정하였다. 수입제한은 수입 건 별로 정부의 사전허가를 받은 물량만 수입할 수 있도록 하여 수입물량을 줄\\n이는 조치이다. 해당 조치는 신청 절차가 복잡하고 허가 완료까지 기간이 오래 걸려 인도 수출 시 어려움으로 \\n작용한다. 참고로 인도는 2020년에 타이어, 컬러TV, 에어컨 등을 수입제한 대상으로 지정한 바 있다.\\n② 사례\\n2022년 2월 9일, 인도 대외무역총국(DGFT)은 새로운 수입제한물품에 대한 고시를 발표하였다. 기존에는 \\n수입제한물품을 신규 지정할 경우, 물품별 고시 및 언론보도 내용을 통해 수입을 제한하는 이유와 지정 물품\\n을 알 수 있었다. 그러나 이번 사례의 경우, 2022년 개정된 HS 코드에 따라 변경된 사항을 공지하면서 제한 \\n물품을 확대하였고 관련 기사도 확인이 어려운 바 정확한 내용을 인지하기 어려웠다. 이와 관련하여 한국에\\n서 해당 물품을 수출하여 인도에서 완제품을 생산하고 있는 기업으로부터 수입제한 대상 여부 및 신청 절차\\n와 관련하여 뉴델리 CEPA활용지원센터에 문의가 접수되었다.  ',\n",
       "  '인도 비관세장벽 이해하기\\n \\n|\\n \\n33\\n입\\n \\n통\\n관\\n \\n전\\n \\nSIMS\\n \\n등\\n록\\n을\\n \\n신\\n속\\n하\\n게\\n \\n진\\n행\\n하\\n도\\n록\\n \\n지\\n원\\n하\\n여\\n \\n별\\n도\\n의\\n \\n과\\n태\\n료\\n \\n및\\n \\n체\\n화\\n료\\n(\\nDemurrage\\n \\nCharge\\n)\\n의\\n \\n부\\n담\\n없\\n이\\n \\n화\\n물\\n을\\n \\n반\\n출\\n할\\n \\n수\\n \\n있\\n었\\n다\\n.\\n③ 시사점\\n철강, 석탄, 구리, 알루미늄, 반도체 집적회로 등 수입 모니터링 시스템에 의해 운영되는5개 품목을 수입하\\n는 경우, 수입자는 화물 정보를 화물 도착 전에 미리 등록하여야 한다. 등록은 온라인을 통해 할 수 있으며, \\n등록 시 자동으로 발급되는 등록번호와 유효기간을 수입신고서에 기재하여야 한다. 사전 등록을 하지 않고 \\n수입하는 경우에는 통관 보류, 과태료 부과 또는 수출입자코드(Importer Exporter Code)의 정지 등 불이익\\n을 받을 수 있으므로, 해당 품목을 수입하는 경우에는 반드시 사전등록을 해야 한다. 단, 항공운송으로 수입\\n되는 철강제품은 SIMS에서 면제된다.\\n수입 모니터링 제도는 수입자가 선적 건마다 화물 정보를 등록해야 하고 수수료를 부담해야 하므로 그 자체\\n가 무역장벽으로 작용한다고 볼 수 있다. 그러나 이보다 더 중요한 점은 앞으로 인도 정부가 시스템에 등록된 \\n화물 정보 통계를 활용해 무역구제 조치 등 산업 정책을 보다 더 효율적으로 추진할 수 있게 됐다는 점이다.\\n최근 인도는 다양한 품목에 대해 반덤핑 관세, 상계관세, 세이프가드 등의 다양한 무역구제조치를 취하고 \\n있다. 이러한 무역구제 조치를 적용하기 위해서는 WTO 협정에 따라 해당 품목의 최근 수입 현황과 그에 따\\n른 국내 산업 피해 정도 등의 조사가 반드시 선행돼야 한다. 해당 조사는 통상 12~18개월이 소요되는데, 수\\n입 모니터링 제도를 통해 취합된 정보를 활용할 경우 조사기간을 단축할 수 있어 보다 신속하게 조치를 적용\\n할 수 있게 된다. \\n인도 상무부는 앞으로 수입 모니터링 제도 대상품목을 지속적으로 확대할 계획이라고 밝힌 바 있다. 따라서, 인\\n도 시장에 진출한 기업은 자사 제품이 수입 통관 모니터링 제도의 대상인지 여부를 수시로 확인할 필요가 있다. 만\\n약 대상품목이라면 사전 등록 절차를 성실히 이행하여 통관상의 불이익을 받지 않도록 주의할 필요가 있다.\\n[참고] 인도의 수입 모니터링시스템\\n현황\\n수입 모니터링 시스템은 특정 품목에 대한 수입 현황을 감시하기 위한 제도로서, 인도 정부는 지난 2019년 \\n11월에 철강 수입 모니터링 시스템인 SIMS(Steel Import Monitoring System)를 처음으로 도입한 이후, \\n모니터링 대상 품목을 지속적으로 확대하여 2021년 석탄, 구리, 알루미늄, 반도체를 시행 대상으로 지정하\\n였고, 2022년 10월 1일부터 종이에 대해서도 시행 예정이다.',\n",
       "  '인도 수출 및 CEPA 활용 시 주의사항 알아두기  | 13\\n다만, 대한상공회의소에서 발급하는 원산지증명서를 조회할 경우에는 수출자 및 발급자의 서명이 확인되지 \\n않기 때문에 인도 세관에서 의문을 제기할 수 있다. 주인도 관세협력관, 뉴델리 · 첸나이 CEPA활용지원센터\\n는 한국 관세청에 이를 공유하여 수출자 및 발급자의 서명이 없어도 원산지증명서 원본 여부 확인에 지장이 \\n없음을 알리는 문구를 화면에 추가할 수 있었다. 이에 따라, 한국 세관 뿐 아니라 대항상공회의소에서 발급한 \\n원산지증명서도 해당 화면에서 확인이 가능하며 이를 활용하여 인도 세관에 원산지증명서 원본 여부를 증명\\n할 수 있게 되었다.③ 시사점\\n아래와 같이 한국 관세청에서 제공하는 서비스를 통해 원산지증명서의 원본 여부를 확인할 수 있다. 원산지\\n증명서 상 표시된 Reference no. 와 Reference code 입력 후 확인 가능하다.\\n<한국 원산지증명서 진위여부 조회 화면>\\n자료 :http://www.customs.go.kr/kcs/co/co.do',\n",
       "  '인도 수출 및 CEPA 활용 시 주의사항 알아두기  | 17\\n3) Result  \\nNO DescriptionNon-Originating\\n(KRW)Total\\n(KRW)RVC(%) HS codeWhether \\nvalue added \\nrule metOrigin\\n1 Face Cream 50ml 2,030 5,409 62.47% 330499 YES KOREA\\nSection III. Part B-Further Detail of 2.(e)\\nNO DescriptionSub-Part\\n(Material) NameHS code\\n(material)HS code\\n(good)Whether \\nCTSH rule \\nmetOrigin\\n1 Face Cream 50ml A 130215 330499 YES KOREA\\n2 Face Cream 50ml B 130215 330499 YES KOREA\\n자료: 첸나이 CEPA 활용지원센터2) Added Value (e.g. profit, labour, overhead cost, etc.)\\nCost (e.g. profit, labour, overhead cost, etc.)\\n(USD)\\nSUM\\n나. 2022년 HS협약 개정에 따라 HS코드가 변경된 물품의 수출 시 주의사항\\n① 주요 내용\\nHS(국제 통일 상품 분류체계)는 2002년부터 5년마다 개정이 이루어지고 있으며, 2022년 HS 개정으로 새\\n로운 기술과 무역량의 증가를 반영하여 HS 코드 6단위 기준 222개의 신규 품목이 증가하였다. 2022년 1월 \\n1일부터 평판디스플레이모듈, 프레스머신 등 일부 물품에 대해서 기존 HS코드와 다른 HS코드가 적용된다. \\n② 사례\\n인도에 수출한 물품에 대하여 한-인도 CEPA 협정에 따른 관세 혜택을 받기 위해서는 첫째로 협정에서 관\\n세 혜택 적용 대상으로 정해진 물품이어야 하고, 둘째로 협정에서 정한 원산지기준을 충족하여야 한다. 마지\\n막으로 인도에서 해당 물품의 수입신고 시점에 원산지증명서 등 협정에서 정한 원산지결정기준에 따라 해당 \\n물품이 한국산임을 증명하는 서류를 제출하면서 한-인도 CEPA의 적용을 신청 해야한다. 그러나 해당 절차\\n에 따라 CEPA 적용 신청을 하였음에도 불구하고, 인도 수입신고시스템의 기술적인 문제로 2022년에 새롭',\n",
       "  '인도 비관세장벽\\n이해하기 02\\n1. 인증제도\\n가. BIS 인증대상 확대 및 인증진행 지연\\n [참고] BIS 인증제도 개요\\n나. 인도 지정실험실에 샘플 발송 시 주의사항\\n다. 화장품 인증 완료 후 까다로운 라벨링 부착 규정\\n [참고] CDSCO 인증제도 개요\\n2. 수입 전 등록 및 허가제도\\n가. 철강제품 수입 전 모니터링 시스템 상 화물정보 등록 의무\\n [참고]인도의 수입모니터링 시스템\\n나. 인도 대외무역총국(DGFT) 수입 전 허가제도\\n [참고]수입허가 신청방법사례로 정리해보는 한-인도\\nCEPA 활용법 및 인도 통상 애로\\n',\n",
       "  'CONTENTS사례로 정리해보는\\n한-인도 CEPA \\n활용법 및 인도 통상 애로\\n01. 인도 수출 및 CEPA 활용 시 주의사항 알아두기   \\n1. 품목분류    / 06\\n 가.  HS코드 관련 인도세관의 품목분류 차이 발생 시 원산지증명서 발급 방법   / 06\\n 나. 인도 DRI(국세정보국) 관세조사 시 대응방안   / 08\\n2. 원산지증명서    / 11\\n 가. 원산지증명서 오류 발급 시 정정 방법   / 11\\n 나. 원산지증명서 원본 여부 논란 발생 시 대응방안   / 12\\n3. CEPA 활용    / 14\\n 가. 인도 CAROTAR 2020(원산지관리강화규칙)에 의한 Form I  \\n  작성 및 제출 방법   / 14\\n 나.  2022년 HS협약 개정에 따라 HS코드가 변경된 물품의 수출 시 주의사항   / 17\\n 다. 중고 설비 인도 수출 시 한-인도 CEPA 활용 방법   / 19\\n02. 인도 비관세장벽 이해하기 \\n1. 인증제도    / 22\\n 가. BIS 인증대상 확대 및 인증진행 지연   / 22\\n  [참고] BIS 인증제도 개요\\n  나. 인도 지정실험실에 샘플 발송 시 주의사항   / 27\\n  다. 화장품 인증 완료 후 까다로운 라벨링 부착 규정   / 29\\n  [참고] CDSCO 인증제도 개요\\n2. 수입 전 등록 및 허가제도    / 32\\n 가. 철강제품 수입 전 모니터링 시스템 상 화물정보 등록 의무   / 32\\n  [참고]인도의 수입모니터링 시스템\\n 나. 인도 대외무역총국(DGFT) 수입 전 허가제도   / 35\\n  [참고]수입허가 신청방법\\n',\n",
       "  '사례로 정리해보는\\n한-인도 CEPA \\n활용법 및 인도 통상 애로\\nKOTRA자료 22-055',\n",
       "  '24 | 사례로 정리해보는 한-인도 CEPA 활용법 및 인도 통상 애로\\n연번 물품상세 시행일\\n14 Acetone \\n‘22년 9월15 Acrylonitrile Butadiene Styrene (ABS)\\n16 Ethylene Dichloride\\n17 p-Xylene\\n18 Polycarbonate \\n19 Polyurethanes\\n20 Vinyl Chloride Monomer\\n21 Potassium Carbonate, Anhydrous\\n22 Pyridine\\n23 Gamma Picoline\\n24 Beta Picoline\\n25 100 Percent. Polyester Spun Grey and White Yarn (PSY)\\n‘22년 10월26 Polyester Continuous Filament Fully Drawn Yarn (FDY)\\n27 Polyester Industrial Yarn (IDY)\\n28 Polyester Partially Oriented Yarn (POY)\\n29 Polyester Staple Fibres (PSF)\\n30 Polyethylene Material for moulding and extrusion\\n31 Synthetic Micro-Fibres for use in Cement Based Matrix\\n32 Linear Alkyl Benzene\\n33 Ethylene Vinyl Acetate (EVA) Copolymers\\n34 Styrene (Vinyl Benzene)\\n35 Maleic Anhydride, Technical\\n36 Acrylonitrile\\n자료: Bureau of Indian Standard 웹사이트\\n(https://www.bis.gov.in/index.php/product-certification/products-under-compulsory-certification/\\nscheme-i-mark-scheme)',\n",
       "  '16 | 사례로 정리해보는 한-인도 CEPA 활용법 및 인도 통상 애로\\neHas CTC rule been applied for \\nmeeting originating criteria?○ Yes   \\n○ No\\nIf yes, provide HS of non-originating material/components \\nused in production of good:\\ngHas the CoO been issued \\nretrospectively?○ Yes\\n○ No   \\nIf yes, provide the rule applied:\\nfHas process rule been applied \\nin ascertaining origin of good \\nsubject to this request?○ Yes\\n○ No   \\nIf yes, provide reasons for same:\\nhHas the consignment in  \\nquestion been directly shipped \\nfrom country of origin?○ Yes   \\n○ No\\nIf not, then has it been ascertained that same is as per \\nprovisions of the concerned agreement?\\nHow has it been ascertained that goods have met the \\nprescribed conditions of Direct Shipment?\\nSection III. Part B-Further Detail of 2.(d)\\n1) BOM\\nNO Sub-Part(Material) Name HS code OriginCost\\n(USD)\\nPreferential1 A KOREA\\n합계2 B KOREA\\nNon-\\nPreferential1 C Unknown\\n합계2 D Unknown\\nSUM 합계',\n",
       "  '22 | 사례로 정리해보는 한-인도 CEPA 활용법 및 인도 통상 애로\\n인도 비관세장벽 이해하기 02\\n1. 인증제도 \\n가. BIS 인증대상 확대 및 인증진행 지연\\n① 주요 내용\\nBIS는 인도 표준국(Bureau of Indian Standards, 이하”BIS”)을 의미하며 인도 소비자부 산하의 품질\\n관리기관이다. BIS는 인도에서 판매 및 수입되는 물품의 품질에 대한 인증을 관리한다. 해외제조자에 대한 \\nBIS 인증제도는 크게  ISI 마크제도(ISI Mark Scheme)와 CRS 의무등록제도(Compulsory Registration \\nScheme)로 구분된다. BIS 규정 상 ISI 마크제도(ISI Mark Scheme)의 정식명칭은 ‘Scheme I’으로 정의\\n되며, 인도 표준규격인 ISI 마크를 사용할 수 있는 자격을 얻기 위한 인증제도이다. 철강제품, 화학제품, 전선 \\n등 다양한 산업에 해당되는 제품들이 포함되어 있다. \\nScheme I에 해당하는 물품에 대해 BIS 인증을 받기 위해서는 신청 서류 제출 후, BIS 담당자가 해외 제조\\n공장 실사를 시행해야 한다. 그러나, 코로나의 영향으로 대부분 국가의 입국절차가 까다로워졌음에도 불구하\\n고, 인도정부는 BIS 인증을 위한 해외 제조공장 방문 시, 백신 접종 완료자에 대해 입국 시 자가격리 및 PCR \\n테스트 면제를 요구하고 있다. BIS 인증 대상 물품을 인도에 수출하기 위해서는 사전에 인증을 획득하여야 \\n하지만, BIS는 코로나19로 인한 입국제한 등 방역지침을 고려하지 않고 인증 대상을 지속적으로 확대하고 \\n인증을 획득하지 않은 물품에 대해서는 통관을 허용하지 않고 있다.\\n② 사례\\n최근 BIS의 강제 인증 대상 품목이 확대되고 있는 추세이다. 2021년 1월 기준 416개(ISI 마크제도 341개, \\nCRS 의무등록제도 75개)였던 강제 인증 대상은 2022년 5월 기준 460개(ISI 마크제도 381개, CRS 의무등\\n록제도 79개)로 44개(+10.6%)의 품목이 추가되었다. ',\n",
       "  '인도 비관세장벽 이해하기  | 25\\n연번 물품상세 시행일\\n1 Soft Magnetic Iron Strips\\n‘22년 2월 2 Soft Magnetic Iron Rods, Bars Flats and Sections\\n3 Tool Steel Forgings For Metal Forming\\n4Steels for High Temperature Bolting Applications – \\nSpecification‘22년 5월\\n5 Ferrosilicon – Specification\\n‘22년 10월\\n6 Ferronickel\\n자료: Bureau of Indian Standard 웹사이트 (https://www.bis.gov.in/index.php/product-certification/\\nproducts-under-compulsory-certification/scheme-i-mark-scheme)<최근 인증이 시행되었거나 곧 시행 예정인 화학제품>\\nBIS제도의 ISI마크 인증 대상에 해당하는 물품을 인도에 수출하려면 해외 제조사 ISI마크 취득 절차인 \\nFMCS(Foreign Manufacturers Certification Scheme)를 통해 ISI마크를 취득하여야 한다. 이를 위해 신\\n청서와 제품 및 실험장비의 세부정보 등을 함께 제출하여 인증 신청 접수 후, BIS 담당자가 현장 점검 및 샘\\n플 채취를 위해 해외 제조공장을 방문하고, 이때 채취한 샘플을 BIS 지정 연구소에 보내 인도 규격에 맞는지 \\n확인하는 절차가 필요하다. 해당 절차는 평균 6개월 이상의 기간이 소요되므로 인증 시행 공고 발표 시 빨리 \\n인증 취득 준비를 시작하는 것이 중요하다.\\nBIS 공식 웹사이트에 인증 시행 공고가 주기적으로 게시되고 있는데, 인증 시행이 연기된 경우에는 기존 \\n시행 예정일로부터 얼마 남지 않은 시점에 해당 내용을 수정하는 경우가 종종 있으며, 기존 발표된 시행 예정\\n일이 경과했음에도 동 시행일을 변경하기도 한다. 따라서 기업 담당자들은 웹사이트 수시 확인을 통해 신규\\n로 인증 대상 물품을 추가하여 시행할 경우, 시행일이 연기되는 경우 등 관련 사항을 기업 내 공유하고. 인증 \\n및 수출 관련 대응방안을 수립해야 할 필요가 있다.',\n",
       "  '20 | 사례로 정리해보는 한-인도 CEPA 활용법 및 인도 통상 애로\\n중고 설비의 수입 시, 인도 세관에서 실물 검사와 수입신고 가격 검토를 통해 수출국에서 발급한 감정평가\\n서 등 추가 근거 서류 제출을 요구할 수도 있으나, E사는 해당 중고 설비의 수입신고 가격이 규정에 따라 감\\n가상각을 반영하여 적정하게 산정된 것임을 증명하여 추가서류 제출 없이 통관할 수 있었다. \\n③ 시사점\\n인도에서 중고 설비의 수입통관 시 특수관계자간 거래이거나 낮은 가격으로 산정되었다는 의심되는 거래\\n의 경우 인도 세관은 해당 가격이 합리적이라는 것을 증명하는 추가 서류를 요구할 수 있다. 이에 대해 제출\\n한 서류가 충분하지 않을 경우, 인도 수입항 내 감정기관이 물품의 가격을 평가하여 오히려 높은 가격으로 산\\n정될 수 있다. 이 경우, 관세 등의 세금 부담이 커질 수 있고, 통관 지연이 발생할 수 있다. 또한, 중고 설비의 \\n경우 통관 과정에서 항상 실물 검사를 진행하므로 인보이스와 포장에 표시된 제품명과 모델 등이 일치하여야 \\n하며, 중고 제품이라는 명시해야 하고, 제조연도 이후 10년 미만인 것이 확인되어야 하고, 인도 수입 이후 5\\n년 이상 사용 가능해야 한다. ',\n",
       "  '08 | 사례로 정리해보는 한-인도 CEPA 활용법 및 인도 통상 애로\\n기재하여 신청하면 가능하다. 다만, 한국과 인도의 양국에서 사용하는 HS 코드에 따른 원산지기준이 다를 경\\n우, 원산지기준을 모두 충족하여야 한다.\\n나. 인도 DRI(국세정보국) 관세조사 시 대응방안\\n① 주요 내용\\n2021년 3월, 철도 신호용 계전기 관련 인도 대법원의 판결(Westinghouse Saxby FarmerLtd. Vs. \\nCommisioner of Central Excise)에 따라 개별 부품이 자동차의 부품으로 분류될 근거가 됨으로써 인도 국\\n세정보국(DRI)는 자동차 부품 관련 자의적 해석에 근거한 관세조사를 시행하고 있다. 이로 인해, 인도에 진\\n출한 관련 기업들의 한-인도 CEPA  활용 불가 및 차액 관세 납부 등의 피해가 발생하고 있다. 한-인도 CEPA 적용을 위한 원산지증명서 서식\\n자료: 한-인도 CEPA 협정문',\n",
       "  '30 | 사례로 정리해보는 한-인도 CEPA 활용법 및 인도 통상 애로\\n② 사례\\nI사는 인도에서 유통업을 영위하고 있으며, 최근 인도에 빠르게 퍼지고 있는 한류를 기회로 삼아 인도에\\n서 한국산 헤어제품의 판매를 기획하였다. 최초 선적 건에 대해 수입 통관을 진행하던 중, I사는 인도 세관\\n으로부터 CDSCO 인증을 받지 않았다는 이유로 통관 불가 통지를 받았다. 해당 화물을 세관에 유치한 후 \\nCDSCO 인증 취득을 진행하지 않는다면, 화물은 다시 한국으로 반송되는 상황이었다. 결국 I사는 관련 규정\\n에 따라 화물을 세관에 유치하고, 이후 수개월에 걸쳐 샘플 시험 및 라벨링 작업을 마친 후 CDSCO 인증을 \\n받고 화장품을 판매할 수 있었다.\\n③ 시사점\\n대부분의 국가에서는 자국민의 보건, 안전을 위하여 화장품의 수입에 대해 엄격하게 관리하고 있으며, 인\\n도에서는 중앙의약품표준통제국(Central Drugs Standard Control Organisation, 이하 “CDSCO”)가 이를 \\n담당하고 있다. 따라서, 인도에서 유통되는 모든 화장품은 CDSCO에서 정하는 성분 등의 기준을 충족하고 \\n제품을 등록하여야 한다. \\n인도에서는 화장품(Cosmetic)을 ‘청결, 미용 등을 목적으로 인체에 문지르거나, 붓거나, 뿌리는 등의 방식\\n으로 사용되는 모든 물품’으로 정의하고 있다. 따라서, 우리나라에서 일반적으로 화장품으로 불리는 스킨, 로\\n션, 립스틱 등의 제품뿐만 아니라, 손 소독제, 샴푸, 헤어트리트먼트, 면도용 크림과 같은 제품도 CDSCO 인\\n증을 받아야 한다.\\nCDSCO 화장품 등록은 ①제조자, ②제조자가 지정한 인도 내 대리인이나 수입자, ③제조자가 지정한 인도 \\n내 자회사가 신청할 수 있다. 신청 수수료는 제품 카테고리당 1,000 USD, 제조공장당 500 USD, 제품모델\\n당 50 USD이다. 서류 준비부터 최종 등록까지 약 2~3개월이 소요되므로, 선적 전에 미리 CDSCO 등록을 \\n준비할 필요가 있다.\\n[참고] CDSCO 인증제도 개요\\n인도의 중앙 의약표준관리기구(Central Drugs Standard Control Organization, CDSCO)는 보건복지가\\n족부(Ministry of Health and Family Welfare) 산하 기관으로서 의약품, 의료기기 및 화장품과 관련된 표\\n준을 정하고, 수입 및 생산에 대하여 인증심사를 시행하고 허가를 부여하는 기관이다.  인도에 의약품, 의료\\n기기 및 화장품을 수출하거나 인도에서 생산하는 업체들은 해당 물품을 CDSCO에 등록하여 허가를 받아야 \\n한다.  ',\n",
       "  '인도 비관세장벽 이해하기  | 29\\nBIS 지정연구소의 주소와 비용은 획득해야 하는 규격에 따라 BIS 웹사이트에서 확인 가능하다. 이때 해당 \\n샘플이 문제 없이 통관되고, 정확한 주소로 송부되도록 주의가 필요하다. \\nBIS 인증을 위해 샘플을 인도에 발송할 경우, 글로벌 특송업체를 이용하는 것이 추후 통관 문제가 발생했\\n을 경우 대비 면에서 수월할 것으로 보인다. 또한, 물품의 인보이스와 운송장을 작성할 때 수하인 주소 및 가\\n격 신고에 주의를 기울여야 한다. 인보이스에는 ‘This sample is not used for commercial purpose and \\nit will be only used for testing to get a BIS registration’ 문구를 기재하고, 적용되는 Incoterms 규칙은 \\nDDP(관세지급인도조건)로 진행해야 하며, 인보이스의 물품 가격을 과도하게 낮추지 않도록 해야 한다. 물품\\n의 저가 신고로 의심받을 경우에도 인도 통관 시 문제가 발생할 수 있으니, 기존 시장판매가격의 50~60% 정\\n도로 설정하는 것이 일반적이며, 특송업체와 사전에 확인하여 적절한 가격을 결정하는 것이 필요하다. \\n다. 화장품 인증 완료 후 까다로운 라벨링 부착 규정\\n① 주요 내용\\n인도에서 유통되는 모든 화장품은 CDSCO 인증을 받아야 한다. 수입 화장품의 경우, 통관단계에서 \\nCDSCO 등록 여부 및 라벨 부착 상태를 확인하며, 이를 위반한 제품은 통관이 제한된다. 따라서, 인도로 화\\n장품을 수출하려는 기업은 반드시 CDSCO 등록 및 라벨링 규정을 미리 확인하여야 한다. <BIS 지정연구소 리스트 확인 화면>\\n자료: Bureau of Indian Standards (crsbis.in/BIS/bis_lab.do)',\n",
       "  '인도 수출 및 CEPA 활용 시 주의사항 알아두기\\n \\n|\\n \\n15\\n으나, 해당 사례와 같이 세관 담당자에 따라 다른 원산지 기준이 적용된 원산지증명서를 요구하는 등 통관 시\\n에 담당자와의 의사소통의 어려움으로 통관 지연이 발생할 수 있으므로 최초 수입신고 시점에 Form I를 가\\n능한 한 자세하게 작성하여 제출하는 것이 원활하고 신속한 통관 과 한-인도 CEPA 적용에 도움이 된다.\\n또한, 원산지관리규칙(CAROTAR 2020) 6조에 의해 세관 담당자는 원산지기준을 충족하지 않는다고 판\\n단한 물품의 경우, 한국의 원산지증명서 발급기관에 한-인도 CEPA 협정에 따른 원산지 검증을 요청할 수 있\\n다. 이 경우, 해당 원산지 검증이 종료될 때까지 특혜관세 적용은 유예되므로 이러한 내용을 사전에 인지하여 \\n사전에 원산지 검증을 대비하는 것이 필요하다.\\nSection III. Part B-1.\\nDescription of \\nthe originating\\nMaterials or \\nComponent\\nWhether \\nmanufactured by \\nproducer of final \\ngood\\n(Yes / No)\\nWhether procured by \\nproducer locally from \\na third party\\n(Yes / No)\\nIn case procured from third party, \\ndid producer of final good seek \\nconformation and documentary proof \\nof origin of these component?\\n(Yes / No)\\n1\\nA\\nYes\\n2\\nB\\nNo\\n<Form I 작성 예시>\\nSection III. Part B-2.\\na\\nIs the de minimis provision used \\nto determine whether the good \\nsubject to this request qualifies \\nas an originating good?\\n○ Yes\\n○ No   \\n \\nIf yes, describe such material and the percentage value or \\nquantity as applicable.\\nb\\nIs the accumulation/cumulation \\nprovision applied to determine \\nwhether the good subject to \\nthis request qualifies as an \\noriginating good?\\n○ Yes\\n○ No   \\n \\nIf yes, describe the manner and extent of cumulation.\\nc\\nHas any other additional \\ncriteria such as indirect/neutral \\nmaterials, packing materials, \\netc. used in ascertaining \\nwhether the good qualifies as \\nan originating good.\\n○ Yes \\n○ No   \\n \\nIf yes, provide the criteria used:\\nDescribe the material concerned:\\nd\\nIs the originating criteria based \\non value content?\\n○ Yes   \\n \\n○ No\\nIf yes, provide the following:\\n(i) percentage of local value content:\\n(ii) components which constitute value addition\\n(e.g. material, profit, labour, overhead cost, etc.):',\n",
       "  '18 | 사례로 정리해보는 한-인도 CEPA 활용법 및 인도 통상 애로\\n게 개정된 HS 코드와 한-인도 CEPA 협정 적용 시 사용하는 2007년 HS코드 간 연계 기능이 완벽하게 구현\\n되지 않고 있다. 뉴델리 CEPA활용지원센터에 이와 관련한 애로 사례가 접수되었고, 확인 결과 인도 세관에\\n서 임시적으로 CEPA 적용 대신 수출 물품에 사용되는 원자재 감면 코드를 선택 및 적용하도록 하여 관세 면\\n제를 받도록 안내하고 있다는 사실을 알 수 있었다. \\n인도의 수입신고시스템이 현재 HS 기준으로 개선될 때까지는 정식 절차에 의한 한-인도 CEPA 적용 신청\\n이 어려울 수 있다. 예를 들어, 인도 상무부에서 운영하는 관세율 확인 웹사이트(Indian Trade Portal)에서도 \\n2022년 새롭게 추가된 8524호의 세율 정보는 기본 세율 뿐 아니라 한-인도 CEPA 적용 세율 역시 확인할 \\n수 없는 상황이다. \\n③ 시사점\\n한-인도 CEPA 협정 대상에 해당하는 물품에 대하여 관세 혜택을 부여하는 결과는 동일할지라도 인도 세\\n관에서 현재 통관시스템 상 반영이 되지 않은 HS코드 물품에 대하여 임시적으로 한-인도 CEPA 적용 처리\\n를 하기위한 대응방안들은 협정 상 정식 절차가 아니므로 추후 인도 세관에서 해당 물품에 대하여 한-인도 \\nCEPA 적용 대상 물품으로 인정하지 않을 가능성이 있다. 이에 대응하기 위해서는 첫째, 인도 수출 전 전문가<인도 무역 포털 웹사이트 ‘8524’호의 세율 조회 화면>\\n자료 : https://www.indiantradeportal.in/\\n',\n",
       "  '06 | 사례로 정리해보는 한-인도 CEPA 활용법 및 인도 통상 애로\\n인도 수출 및 CEPA 활용 시 주의사항 알아두기 01\\n1. 품목분류\\n가. HS코드 관련 인도세관의 품목분류 차이 발생 시 원산지증명서 발급 방법 \\n① 주요 내용\\n인도 수출 시, 한-인도 CEPA에 의한 양허세율을 적용하기 위해서는 한국 세관 또는 대한상공회의소에서 \\n발급된 원산지증명서가 필요하다. 원산지증명서에는 해당물품의 HS코드 6자리를 기재하여야 한다. 그러나 \\n인도세관에서 해당 물품에 대하여 다른 HS코드로 분류할 것을 주장하여 한국에서 발급된 원산지증명서 및 \\nCEPA의 적용을 불인정하는 사례가 있다.\\n② 사례\\n핸드폰, TV 등에 사용되는 스폰지 가스켓(Sponge Gasket)이라는 부품을 인도에 수출하고 있는 A사는 한\\n국에서 원산지증명서 발급 시 해당 물품의 HS 코드가 7410.21에 해당한다는 것을 확인하였다. 약 1년 넘게 \\n해당 HS 코드로 인도에 수출을 하며 한-인도 CEPA의 적용을 받아오던 중 인도 세관 담당자로부터 해당 물\\n품의 HS 코드를 3919.90로 하여서 수출 및 한-인도 CEPA 적용 신청을 다시 할 것을 요청 받았다. 다행히 \\nHS 코드 7410.21와 3919.90에 해당하는 물품 모두 한-인도 CEPA 협정 상 양허대상 물품에 해당하고 적\\n용 후 세율도 0%로 동일하여 인도 세관에 요청하는 HS 코드로 변경할 경우에도 CEPA 활용을 할 수 있는 \\n상황이었다. \\n그러나, 한국에서 원산지증명서 발급 시 수출신고필증 사본, 상업송장(Invoice), 원산지소명서 등을 제출하\\n여야 하는데 수출신고필증 상 HS 코드가 원산지증명서 상에 그대로 기재된다. 한국에서 품목분류사전심사 \\n등을 통해 해당 HS 코드가 정확하다고 확인되어 해당 HS 코드로 신고를 해온 물품의 경우에는 수출신고필\\n증 상의 HS 코드를 임의로 변경할 수 없다. 수입국에서 품목분류에 대한 해석의 차이가 있을 수 있지만 관세 ',\n",
       "  '10 | 사례로 정리해보는 한-인도 CEPA 활용법 및 인도 통상 애로\\n전기의 품목분류 관련 인도 대법원 판결의 내용을 확대 적용하여 일반화하지 않도록 요청 및 부품(Parts)의 \\n품목분류 시 HS 협약을 우선 적용하고 다양한 사례를 참고할 것을 강조하였다. 뉴델리·첸나이 CEPA활용지\\n원센터는 관련 기업들에게 국세정보국(DRI)이 자의적인 품목분류 해석을 통한 조사 및 추가 관세 납부를 요\\n구할 수 있으므로 이에 대응할 수 있도록 근거자료를 확보할 것을 안내 및 해당 지침의 내용을 공유하였다.\\n③ 시사점\\n2022년 1월 5일, 인도 관세간접세위원회(CBIC)는 세관 및 국세정보국(DRI)의 자의적 품목분류를 규제하\\n기 위한 지침(Instruction No.01/2022-Customs)을 발표하였다. 이를 통해 철도 신호용 계전기 관련 품목\\n분류에 대한 인도 대법원 판결(Westinghouse Saxby FarmerLtd. Vs. Commisioner of Central Excise)\\n을 개별 부품을 자동차 부품에 분류할 수 있는 법적근거로 확대 해석하지 않도록 환기하였다. 또한, 부품\\n(Parts)의 품목분류 시, HS 협약에 따른 규정을 우선 적용하고 해당 품목과 관련된 다양한 사례를 종합적으\\n로 참고하여 판단 할 것을 권고하였다. 관세 관련 고시 및 지침은 인도 관세간접세위원회(CBIC)의 공식 웹사\\n이트에서 확인 가능하다. \\n<인도 관세간접세위원회(CBIC) 지침 조회 화면>\\n자료: https://www.cbic.gov.in/Customs-Circulars-Instructions\\n',\n",
       "  '인도 수출 및 CEPA 활용 시 주의사항 알아두기  | 09\\n이에 따라, 관련 기업, 주인도 대사관, 한국 관세청의 품목분류 담당자 등과와 회의를 통해 해당 판결문의 \\n내용은 HS 협약에 따른 해석과 차이가 있으므로 인도 국세정보국(DRI)의 자의적 품목분류 해석에 근거한 관\\n세 조사를 철회할 것을 요청하는 서신을 인도 산업무역진흥청으로 발송 및 인도 상공부에도 해당 내용을 공\\n유하였다. \\n2022년 1월 인도 관세간접세위원회(CBIC)는 인도 세관 담당자 대상으로 지침을 발표하여 철도 신호용 계② 사례\\n뉴델리·첸나이 CEPA활용지원센터는 인도 진출 자동차 및 자동차 부품 관련 기업들로부터 인도 재무부 산\\n하의 국세정보국(DRI)이 일방적인 관세조사를 확대함으로써 기업들이 기존에 적용하고 있는 HS 코드가 아\\n닌 높은 세율의 HS 코드를 적용하여야함을 주장하며 차액에 해당하는 관세를 납부할 것을 요구하고 있다는 \\n내용의 애로사항을 접수하였다. \\n인도 국세정보국(DRI)는 사전고지 없이 자동차 부품 관련 기업 대상 관세조사를 시작하고, 2년 또는 5년 \\n동안 수입을 한 물품에 대하여 상이한 HS 코드를 소급적용하여 차액 관세를 납부할 것을 요구하였다. 부당한 \\n추징을 피하기 위한 소송이 가능하지만, 많은 시간과 비용 투입의 부담이 예상되기 때문에 국세정보국(DRI)\\n에서 요구하는 대로 HS 코드 변경에 따른 관세를 추가 납부하고 추후 한-인도 CEPA의 관세혜택을 포기하\\n게 되는 경우도 발생하였다.    \\n조사 결과 2021년 3월 발표된 철도 신호용 계전기의 품목분류 관련 대법원의 판결 내용이 자동차 부품\\n이 개별 부품의 HS 코드가 아닌 자동차 부품의 HS 코드로 분류될 수 있는 근거를 제공하게 된다는 것을 \\n확인하였다. \\n기관 적용 HS 코드\\n2021년 \\n대법원 판례\\n(Civil Appeal \\nNo.37 of 2009)•  Westing House Saxby Farmers Ltd(웨스트뱅갈주 국영회사)관련 인도 대법원 \\n판결에서 철도 신호용 계전기(Relay)를 특게 세번(8536호)이 아닌 철도 차량 \\n부품(8608호)으로 분류함이 타당하다고 판결함 \\n•  해당 대법원 판결은 품목분류 통칙과 호의 용어 등 HS 국제협약과 상충되는 \\n내용이나, 인도 세관에서 해당 판결문을 근거로 개별 부품이 자동차 제조에 사용되는 \\n경우, 모두 자동차 부품(8708호)로 분류하여야 한다고 주장할 여지가 있음.\\n자료: 뉴델리  CEPA 활용지원센터<철도 신호용 계전기의 품목분류 관련 인도 대법원 판결 주요 내용>',\n",
       "  '38 | 사례로 정리해보는 한-인도 CEPA 활용법 및 인도 통상 애로\\n<2> 수입허가 시스템 내 신규 허가 신청 클릭\\n•  상단 서비스(Service)메뉴에서 수입관리시스템(Import Management System)메뉴 선택\\n•  화면에서 신규 수입허가 신청(Apply for New Authorization) 메뉴를 선택하거나 https://www.dgft.\\ngov.in/CP/index.jsp?opt=import-management-system(신규 수입허가 신청 링크)접속 후 기존 사\\n용자계정으로 로그인<수입관리시스템(Import Management System) 선택 화면>\\n<신규 수입허가 신청(Apply for New Authorization) 선택 화면>\\n',\n",
       "  '인도 수출 및 CEPA\\n활용 시 주의사항 알아두기   01\\n1. 품목분류  \\n가. HS코드 관련 인도세관의 품목분류 차이 발생 시 원산지증명서 발급 방법\\n나. 인도 DRI(국세정보국) 관세조사 시 대응방안\\n2. 원산지증명서  \\n가. 원산지증명서 오류 발급 시 정정 방법\\n나. 원산지증명서 원본 여부 논란 발생 시 대응방안\\n3. CEPA 활용  \\n가. 인도 CAROT AR 2020(원산지관리강화규칙)에 의한 Form I 작성 및 제출 방법\\n나. 2022년 HS협약 개정에 따라 HS코드가 변경된 물품의 수출 시 주의사항\\n다. 중고 설비 인도 수출 시 한-인도 CEPA 활용 방법사례로 정리해보는 한-인도\\nCEPA 활용법 및 인도 통상 애로\\n',\n",
       "  '36 | 사례로 정리해보는 한-인도 CEPA 활용법 및 인도 통상 애로\\n뉴델리 CEPA활용지원센터에서 관련된 내용을 확인한 결과, 2022년 2월 9일 인도정부는 제조업 육성을 \\n목적으로 대외무역총국(DGFT)의 고시를 통해 평판디스플레이 모듈과 카메라 모듈을 수입제한 물품으로 새\\n롭게 지정한 것으로 확인했다. 또한, DGFT 웹사이트를 통해 수입제한물품은 온라인 신청을 통해 물품의 \\n수입 관련 정보를 제출 후 사전 허가를 받은 수입항을 통해 정해진 물량만 수입이 가능하며, 평균적으로 약 \\n2-3달 간의 처리기간이 소요된다는 것을 확인하고, 기업에게 신청 절차와 주의사항을 안내하였다. \\n인도 정부는 인도 핸드폰 및 전자기기 협회(ICEA)와 핸드폰 제조업체 등 관련 산업의 요청으로 2022년  \\n2월 24일, 수입제한물품에서 카메라 모듈과 평판디스플레이 모듈을 제외하였고, 뉴델리 CEPA활용지원센터\\n는 해당 내용을 관련 기업에 안내하여 별도의 신청 절차 없이 수출을 할 수 있었다.\\n<카메라 모듈 예시> <평판 디스플레이 모듈 예시>\\n자료: 한국 카메라모듈 제조기업 홈페이지 자료: 한국 기획재정부\\n대외무역총국(DGFT)은 카메라 모듈과 평판디스플레이의 수입제한에 대해서 철회한 후, 2022년 3월과 4\\n월에 각각 고시를 발표하여 HS코드 7112호에 포함되는 귀금속을 포함하는 회(Ash), 2903호와 3827호에 \\n포함되는 냉장고 및 에어컨 냉매에 사용되는 가스를 수입제한품목으로 추가하였다.   \\n③ 시사점\\n인도의 대외무역규정에 근거하면 인도 수출입자코드(IEC)와 인도 은행 계좌를 보유한 업체가 인도에 수입 \\n전 물품의 세부 정보와 수입 목적을 온라인으로 제출하고 수수료를 납부하여 수입 허가 신청을 할 수 있다. \\n다만, 수입 목적에 따라 수입허가를 받지 못할 가능성도 있음을 주의하여야 한다. ',\n",
       "  '인도 수출 및 CEPA 활용 시 주의사항 알아두기  | 19\\n의 자문을 통해 품목분류를 정확하게 판단해야한다. 둘째, 2022년 HS 코드가 개정된 물품의 한-인도 CEPA \\n적용 방법에 대해 인도 세관과 사전 협의하고 협의한 내용을 증빙자료로 보관하여 인도 세관의 사후 검증에 \\n대비할 필요가 있다. 또한, 인도 통관시스템 현황을 고려하여 한국 관세청에서는 현행 HS코드 기준(2022\\n년)으로 원산지증명서 발급을 신청할 수 있다고 공지하였다. 이때, 원산지증명서 발급신청인은 HS 2022 -> \\nHS 2007 품목번호 연계 증빙자료를 제출해야 하며, 원산지증명서 10란에는 HS 2007에 따른 원산지결정\\n기준을 기재하고, 7란에는 HS 2022에 따른 HS번호를 기재하면 된다. 이를 통해 2007년 HS코드와 2022\\n년 HS코드의 연계정보가 통관시스템에 반영되지 않아 발생할 수 있는 통관애로를 방지할 수 있다. 그럼에도 \\n불구하고, 인도세관 담당자의 원산지규정 이해부족으로 인해 한-인도 CEPA활용에 어려움이 발생할 경우 한\\n국 원산지증명서 발급기관 및 KOTRA에 지원을 요청할 수 있다.\\n다. 중고 설비 인도 수출 시 한-인도 CEPA 활용 방법\\n① 주요 내용\\n중고 물품을 수입할 경우, 일반 물품과 달리 적절한 과세 가격을 책정하는 것이 어렵다. 인도 세관은 중고 \\n설비 수입 시 수입신고 서류의 내용과 실제 물품의 일치 여부, 가격 산정의 근거 등에 대하여 까다롭게 검토\\n를 하므로 수출국의 공인 감정평가기관이 발급한 평가서 등의 서류 구비가 추가로 필요할 수 있다. \\n또한, 중고 설비의 경우에도 한-인도 CEPA 적용 물품에 해당하고, 한국 세관 또는 대한상공회의소를 통해 \\n원산지증명서를 발급받아 원산지기준을 충족한다는 것을 증명할 수 있다면, CEPA에 의한 관세 혜택도 받음\\n으로써 비용을 절감할 수 있다. \\n② 사례\\n인도 진출 기업인 E사는 인도 제조 공장에 필요한 제조설비를 구입하기 위하여 한국의 F사가 사용하고 있\\n는 중고 설비를 수입하기로 했다. E사는 인도 중고 설비의 통관 절차와 CEPA 활용 가능 여부를 확인하기 위\\n하여 뉴델리 CEPA활용지원센터에 문의를 하였다. 그 결과, E사는 인도 중고물품 과세가격 평가 규정에 따라 \\n가격을 산정해야 한다는 사실을 확인할 수 있었고, 뉴델리 CEPA활용지원센터의 조사를 통해 중고 설비의 구\\n체적인 수입가격 산정 방법과 감정평가서 발급 필요 여부 등을 확인하였다. 또한, 해당 설비의 HS 코드 확인 \\n및 한-인도 CEPA 대상 여부 확인을 통해 CEPA 활용이 가능하다는 것을 확인하여, 한국 F사에 원산지 관련 \\n서류 구비 및 원산지증명서 발급을 사전에 요청하여 CEPA에 의한 관세 절감 혜택을 받을 수 있었다. ',\n",
       "  '인도 비관세장벽 이해하기  | 41\\n',\n",
       "  '14 | 사례로 정리해보는 한-인도 CEPA 활용법 및 인도 통상 애로\\n3. CEPA 활용\\n가. 인도 CAROTAR 2020(원산지관리강화규칙)에 의한 Form I 작성 및 제출 방법\\n① 주요 내용\\n인도 정부는 2020년 9월부터 원산지관리규칙(CAROTAR 2020)을 시행하여 수입물품에 대하여 무역협정\\n에 따른 특혜관세를 신청하고자 하는 경우 Form I 라는 추가 서류 제출을 의무화하고 있다. Form I 는 수입\\n물품의 제조공정, 적용 원산지 기준, 원재료의 종류 등 원산지 관련 정보를 기재하도록 정한 서식이다. 인도 \\n수입자는 한-인도 CEPA에 의한 관세 혜택을 적용하기 위해서 원산지증명서와 Form I를 함께 인도 세관에 \\n제출하고 해당 정보를 수입일로부터 5년간 보관하여야 할 의무가 있다. \\n② 사례\\n한국의 D사는 인도에 의료기기 제조를 위한 지시약을 수출하면서 한-인도 CEPA에 의한 관세 면제를 적용\\n하고 있었다. D사는 인도정부가 시행한 원산지관리규칙(CAROTAR 2020)에 대한 정보 부족으로 한-인도 \\nCEPA 적용을 신청 시 Form I를 작성 및 제출하지 않고, 원산지증명만을 제출하였다. 이에 대하여 인도 세관 \\n담당자는 원산지증명서 상 확인되는 한-인도 CEPA 협정에 의한 원산지기준을 무시하고, 그보다 강화된 원\\n산지결정기준인 완전생산기준(WO)에 해당하는 원산지증명서를 새로이 제출할 것을 요구하였다. 원산지증\\n명서에는 해당 물품의 원산지기준이 표시되는데 원산지기준은 한-인도 CEPA 협정에 의해 한국산이라고 볼 \\n수 있는 기준을 의미하며, 해당 원산지증명서가 발급되었다는 것은 그 기준을 충족한다는 것을 의미한다. 그\\n럼에도 불구하고, 인도 세관 담당자는 해당 물품에 대하여 한국에서 완전하게 생산된 물품에 대해서 적용되\\n는 기준인 완전생산기준(WO)를 요구한 것이다. \\n첸나이 CEPA활용지원센터는 관련 내용 확인 중 한국의 수출자가 Form I를 작성 및 제출하지 않았다는 사\\n실을 인지하였고, 수출자에게 인도 원산지관리규칙(CAROTAR 2020)의 내용과 Form I 작성 방법을 안내하\\n여 Form I를 인도 세관에 제출하도록 지원하였다. D사는 해당 물품이 한-인도 CEPA에 의한 원산지기준을 \\n충족한다는 것을 증명하는 정보를 기재한 Form I를 제출함으로써 한-인도 CEPA를 적용하여 수출할 수 있\\n었고, 지속적으로 한-인도 CEPA 활용을 통한 수출 경쟁력을 유지할 수 있었다. \\n③ 시사점\\n원산지관리규칙(CAROTAR 2020)에 의해 세관의 요청이 있는 경우에 Form I를 제출하도록 규정하고 있',\n",
       "  \"26 | 사례로 정리해보는 한-인도 CEPA 활용법 및 인도 통상 애로\\n<프탈산무수물의 Scheme I 인증 시행 연장 공고>\\n자료: Bureau of Indian Standard 웹사이트 (https://www.bis.gov.in/index.php/product-\\ncertification/products-under-compulsory-certification/scheme-i-mark-scheme)\\nBIS 인증 시행 연장 및 통관 시 적용 유예를 요청하고자 할 경우에는 BIS에 요청하는 것보다 화학부\\n(Ministry of Chemicals and Fertilizers), 철강부(Ministry of Steel) 등 실제 물품을 주관하는 부처의 BIS \\n담당자를 확인하여 요청하는 것이 효과적이다. 인증 대상 물품의 규격을 정하고, 시행 연장 여부를 최종적으\\n로 결정하는 권한은 해당 제품의 Quality Control Order를 공표한 부처에 있기 때문이다. 또한, 인도에서 해\\n당 물품을 최종적으로 사용하고 있는 현지 기업이나 인도 내 관련 제조기업협회 및 단체를 통해 해당 물품의 \\n수입이 인도 내 제조에 필수적이라는 사실을 주관 부처와 BIS에 적극적으로 알리고, 시행 연장을 요청하는 \\n등 기업들의 공동 대응도 필요하다\\n[참고] BIS 인증제도 개요\\nBIS는 인도표준국(Bureau of Indian Standards, BIS)을 의미하며 인도 소비자부(Ministry of \\nConsumer Affairs) 산하의 국가 품질관리기관이다. BIS는 'Bureau of Indian Standards Act'에 따라 인\\n도에서 판매 및 수입되는 상품의 표준화, 표시 및 품질에 대한 인증을 관리하고 있다. BIS는 뉴델리에 본사를 \\n두고 있으며 인도 내 5개의 지역 사무소가 콜카타, 첸나이, 뭄바이 등에 있다. \",\n",
       "  '인도 비관세장벽 이해하기  | 31\\nCDSCO는 뉴델리 본부를 중심으로 인도 내 13개 지역에 분점을 두고 있으며, 뭄바이, 첸나이 등 15개 주\\n요 공항 및 항구에 CDSCO 담당자(Assistant Drugs Controller)가 상주하면서 화장품의 수입통관을 관리\\n하고 있다. \\n인도 내 화장품의 수입은 1940년 의약품 및 화장품 법(Drugs and Cosmetics Act, 1940) 및 2020년 화\\n장품 규정(Cosmetics Rules, 2020)에 근거하여 CDSCO의 온라인 등록 시스템을 통해 진행되고 있으며, \\n화장품의 정의에 해당하는 물품은 인도에 수출 전 해당제품의 포장·라벨·성분·제조시설 등의 정보와 함께 신\\n청서를 제출하여 수입을 위한 제품 등록이 필요하다.\\n인도에 화장품을 수출 전에 CDSCO의 웹사이트인 SUGAM 포탈(www.cdscoonline.gov.in)에서 인증\\n신청을 진행하여 인증절차를 완료하여야 한다. 온라인으로 신청 접수 완료 후 신청 서류의 원본을 CDSCO에 \\n방문 또는 우편으로 제출하여야 하며, 기타 통지는 이메일을 통해 이루어진다.\\n인증을 받으려는 화장품의 제조자, 제조자로부터 권한을 위임받은 공인대리인 및 인도 수입자는 CDSCO \\n인증신청서(COS-1)와 함께 아래와 같이 필요한 서류를 모두 SUGAM 포탈에 업로드하고, 수수료를 납부하\\n여야 하며, 신청 서류를 뉴델리의 CDSCO에 방문 또는 우편으로 제출하여야 한다.  \\n인증심사를 거쳐 COS-2(Import Registration Certificate)가 발급되면 수입을 위해 필요한 등록번호가 \\n부여된다. 인증 절차는 신청일로부터 약 3개월 이내에 완료되며, 인증이 정지되거나 취소되지 않는 한 인증 \\n받은 날로부터 5년 동안 유효하다. 분류 항목 수수료\\n일반 수입카테고리 별 신청수수료 USD 1,000\\n동일 카테고리 내 제품 별 추가수수료 USD 50\\n제조자 별 수수료 USD 500\\n분실 시 재발급  수수료 USD 200\\n성분검사를 \\n위한 수입  신청수수료 USD 1,000\\n검사수수료 USD 500\\n지체 시 수수료(검사 기간이 오래 걸리는 경우) USD 1,000\\n자료원: Cosmetics Rules 2020<CDSCO 신청 수수료>'],\n",
       " 'uris': None,\n",
       " 'data': None,\n",
       " 'included': ['metadatas', 'documents']}"
      ]
     },
     "execution_count": 37,
     "metadata": {},
     "output_type": "execute_result"
    }
   ],
   "source": [
    "vector_store.get()"
   ]
  },
  {
   "cell_type": "code",
   "execution_count": 24,
   "id": "48a637cb-a914-4fdf-b6be-bb0ee548d19d",
   "metadata": {},
   "outputs": [
    {
     "data": {
      "text/plain": [
       "1695"
      ]
     },
     "execution_count": 24,
     "metadata": {},
     "output_type": "execute_result"
    }
   ],
   "source": [
    "len(vector_store.get()['ids'])"
   ]
  },
  {
   "cell_type": "code",
   "execution_count": 38,
   "id": "c0698096-65f8-4f99-8e59-139276abe772",
   "metadata": {},
   "outputs": [],
   "source": [
    "bm25_retriever = BM25Retriever.from_documents(\n",
    "    all_docs,\n",
    ")\n",
    "bm25_retriever.k = 5"
   ]
  },
  {
   "cell_type": "code",
   "execution_count": 39,
   "id": "e5b7b004-43af-4d0e-966f-768a924b1e6a",
   "metadata": {},
   "outputs": [],
   "source": [
    "chroma_retriever = vector_store.as_retriever(\n",
    "    search_kwargs = {\"k\": 5},\n",
    "    search_type   = \"mmr\"\n",
    ")"
   ]
  },
  {
   "cell_type": "code",
   "execution_count": 40,
   "id": "763dd9a7-2c16-48bc-87e7-007812f9d4d9",
   "metadata": {},
   "outputs": [],
   "source": [
    "# Ensenble retriever 선언\n",
    "ensemble_retriever = EnsembleRetriever(\n",
    "\n",
    "    retrievers=[bm25_retriever, chroma_retriever],\n",
    "    weights=[0.65, 0.35], # 가중치\n",
    "    search_type='mmr', # mmr 기반\n",
    ")"
   ]
  },
  {
   "cell_type": "code",
   "execution_count": 41,
   "id": "76f846fa-fc4e-4be3-b613-00e0120b5397",
   "metadata": {},
   "outputs": [],
   "source": [
    "query = \"인도 DRI(국세정보국) 관세조사 시 대응방안에 대한 사례를 알려주세요.\""
   ]
  },
  {
   "cell_type": "code",
   "execution_count": 42,
   "id": "cb8b4718-8c6b-4985-9af4-2322688c55e1",
   "metadata": {},
   "outputs": [
    {
     "name": "stderr",
     "output_type": "stream",
     "text": [
      "C:\\Users\\User\\anaconda3\\envs\\BP\\lib\\site-packages\\langchain_core\\_api\\deprecation.py:139: LangChainDeprecationWarning: The method `BaseRetriever.get_relevant_documents` was deprecated in langchain-core 0.1.46 and will be removed in 0.3.0. Use invoke instead.\n",
      "  warn_deprecated(\n"
     ]
    },
    {
     "data": {
      "text/plain": [
       "[Document(page_content='사례로 정리해보는\\n한-인도 CEPA \\n활용법 및 인도 통상 애로\\nKOTRA자료 22-055', metadata={'page': 0, 'source': './data/[법률_규범_특허][코트라][2022]한-인도 CEPA 활용법 및 인도 통상 애로.pdf'}),\n",
       " Document(page_content='인도 비관세장벽 이해하기\\n \\n|\\n \\n33\\n입\\n \\n통\\n관\\n \\n전\\n \\nSIMS\\n \\n등\\n록\\n을\\n \\n신\\n속\\n하\\n게\\n \\n진\\n행\\n하\\n도\\n록\\n \\n지\\n원\\n하\\n여\\n \\n별\\n도\\n의\\n \\n과\\n태\\n료\\n \\n및\\n \\n체\\n화\\n료\\n(\\nDemurrage\\n \\nCharge\\n)\\n의\\n \\n부\\n담\\n없\\n이\\n \\n화\\n물\\n을\\n \\n반\\n출\\n할\\n \\n수\\n \\n있\\n었\\n다\\n.\\n③ 시사점\\n철강, 석탄, 구리, 알루미늄, 반도체 집적회로 등 수입 모니터링 시스템에 의해 운영되는5개 품목을 수입하\\n는 경우, 수입자는 화물 정보를 화물 도착 전에 미리 등록하여야 한다. 등록은 온라인을 통해 할 수 있으며, \\n등록 시 자동으로 발급되는 등록번호와 유효기간을 수입신고서에 기재하여야 한다. 사전 등록을 하지 않고 \\n수입하는 경우에는 통관 보류, 과태료 부과 또는 수출입자코드(Importer Exporter Code)의 정지 등 불이익\\n을 받을 수 있으므로, 해당 품목을 수입하는 경우에는 반드시 사전등록을 해야 한다. 단, 항공운송으로 수입\\n되는 철강제품은 SIMS에서 면제된다.\\n수입 모니터링 제도는 수입자가 선적 건마다 화물 정보를 등록해야 하고 수수료를 부담해야 하므로 그 자체\\n가 무역장벽으로 작용한다고 볼 수 있다. 그러나 이보다 더 중요한 점은 앞으로 인도 정부가 시스템에 등록된 \\n화물 정보 통계를 활용해 무역구제 조치 등 산업 정책을 보다 더 효율적으로 추진할 수 있게 됐다는 점이다.\\n최근 인도는 다양한 품목에 대해 반덤핑 관세, 상계관세, 세이프가드 등의 다양한 무역구제조치를 취하고 \\n있다. 이러한 무역구제 조치를 적용하기 위해서는 WTO 협정에 따라 해당 품목의 최근 수입 현황과 그에 따\\n른 국내 산업 피해 정도 등의 조사가 반드시 선행돼야 한다. 해당 조사는 통상 12~18개월이 소요되는데, 수\\n입 모니터링 제도를 통해 취합된 정보를 활용할 경우 조사기간을 단축할 수 있어 보다 신속하게 조치를 적용\\n할 수 있게 된다. \\n인도 상무부는 앞으로 수입 모니터링 제도 대상품목을 지속적으로 확대할 계획이라고 밝힌 바 있다. 따라서, 인\\n도 시장에 진출한 기업은 자사 제품이 수입 통관 모니터링 제도의 대상인지 여부를 수시로 확인할 필요가 있다. 만\\n약 대상품목이라면 사전 등록 절차를 성실히 이행하여 통관상의 불이익을 받지 않도록 주의할 필요가 있다.\\n[참고] 인도의 수입 모니터링시스템\\n현황\\n수입 모니터링 시스템은 특정 품목에 대한 수입 현황을 감시하기 위한 제도로서, 인도 정부는 지난 2019년 \\n11월에 철강 수입 모니터링 시스템인 SIMS(Steel Import Monitoring System)를 처음으로 도입한 이후, \\n모니터링 대상 품목을 지속적으로 확대하여 2021년 석탄, 구리, 알루미늄, 반도체를 시행 대상으로 지정하\\n였고, 2022년 10월 1일부터 종이에 대해서도 시행 예정이다.', metadata={'page': 31, 'source': './data/[법률_규범_특허][코트라][2022]한-인도 CEPA 활용법 및 인도 통상 애로.pdf'}),\n",
       " Document(page_content='인도 비관세장벽 이해하기  | 39\\n<3> 대필수 정보 입력, 관련 서류 첨부 및 약관 동의\\n•  물품 유형 및 물품의 세부 정보(원산지, CIF 기준 수입가격, 물품 규격 등), 물품의 예정 수입항 및 실사용\\n자 정보 입력\\n• 제출 정보와 수입허가 신청에 관련된 법적 책임에 대한 약관에 동의한 후, 다음 단계 이동<세부정보 입력화면>\\n<약관동의 화면>\\n', metadata={'page': 37, 'source': './data/[법률_규범_특허][코트라][2022]한-인도 CEPA 활용법 및 인도 통상 애로.pdf'}),\n",
       " Document(page_content='인도 비관세장벽 이해하기  | 41\\n', metadata={'page': 39, 'source': './data/[법률_규범_특허][코트라][2022]한-인도 CEPA 활용법 및 인도 통상 애로.pdf'}),\n",
       " Document(page_content='인도 비관세장벽 이해하기  | 29\\nBIS 지정연구소의 주소와 비용은 획득해야 하는 규격에 따라 BIS 웹사이트에서 확인 가능하다. 이때 해당 \\n샘플이 문제 없이 통관되고, 정확한 주소로 송부되도록 주의가 필요하다. \\nBIS 인증을 위해 샘플을 인도에 발송할 경우, 글로벌 특송업체를 이용하는 것이 추후 통관 문제가 발생했\\n을 경우 대비 면에서 수월할 것으로 보인다. 또한, 물품의 인보이스와 운송장을 작성할 때 수하인 주소 및 가\\n격 신고에 주의를 기울여야 한다. 인보이스에는 ‘This sample is not used for commercial purpose and \\nit will be only used for testing to get a BIS registration’ 문구를 기재하고, 적용되는 Incoterms 규칙은 \\nDDP(관세지급인도조건)로 진행해야 하며, 인보이스의 물품 가격을 과도하게 낮추지 않도록 해야 한다. 물품\\n의 저가 신고로 의심받을 경우에도 인도 통관 시 문제가 발생할 수 있으니, 기존 시장판매가격의 50~60% 정\\n도로 설정하는 것이 일반적이며, 특송업체와 사전에 확인하여 적절한 가격을 결정하는 것이 필요하다. \\n다. 화장품 인증 완료 후 까다로운 라벨링 부착 규정\\n① 주요 내용\\n인도에서 유통되는 모든 화장품은 CDSCO 인증을 받아야 한다. 수입 화장품의 경우, 통관단계에서 \\nCDSCO 등록 여부 및 라벨 부착 상태를 확인하며, 이를 위반한 제품은 통관이 제한된다. 따라서, 인도로 화\\n장품을 수출하려는 기업은 반드시 CDSCO 등록 및 라벨링 규정을 미리 확인하여야 한다. <BIS 지정연구소 리스트 확인 화면>\\n자료: Bureau of Indian Standards (crsbis.in/BIS/bis_lab.do)', metadata={'page': 27, 'source': './data/[법률_규범_특허][코트라][2022]한-인도 CEPA 활용법 및 인도 통상 애로.pdf'})]"
      ]
     },
     "execution_count": 42,
     "metadata": {},
     "output_type": "execute_result"
    }
   ],
   "source": [
    "chroma_retriever.get_relevant_documents(query)"
   ]
  },
  {
   "cell_type": "code",
   "execution_count": 43,
   "id": "c2f5eae4-2776-4113-a93d-e59e4d4d1562",
   "metadata": {},
   "outputs": [
    {
     "data": {
      "text/plain": [
       "[Document(page_content='인도 수출 및 CEPA\\n활용 시 주의사항 알아두기   01\\n1. 품목분류  \\n가. HS코드 관련 인도세관의 품목분류 차이 발생 시 원산지증명서 발급 방법\\n나. 인도 DRI(국세정보국) 관세조사 시 대응방안\\n2. 원산지증명서  \\n가. 원산지증명서 오류 발급 시 정정 방법\\n나. 원산지증명서 원본 여부 논란 발생 시 대응방안\\n3. CEPA 활용  \\n가. 인도 CAROT AR 2020(원산지관리강화규칙)에 의한 Form I 작성 및 제출 방법\\n나. 2022년 HS협약 개정에 따라 HS코드가 변경된 물품의 수출 시 주의사항\\n다. 중고 설비 인도 수출 시 한-인도 CEPA 활용 방법사례로 정리해보는 한-인도\\nCEPA 활용법 및 인도 통상 애로\\n', metadata={'source': './data/[법률_규범_특허][코트라][2022]한-인도 CEPA 활용법 및 인도 통상 애로.pdf', 'page': 3}),\n",
       " Document(page_content='08 | 사례로 정리해보는 한-인도 CEPA 활용법 및 인도 통상 애로\\n기재하여 신청하면 가능하다. 다만, 한국과 인도의 양국에서 사용하는 HS 코드에 따른 원산지기준이 다를 경\\n우, 원산지기준을 모두 충족하여야 한다.\\n나. 인도 DRI(국세정보국) 관세조사 시 대응방안\\n① 주요 내용\\n2021년 3월, 철도 신호용 계전기 관련 인도 대법원의 판결(Westinghouse Saxby FarmerLtd. Vs. \\nCommisioner of Central Excise)에 따라 개별 부품이 자동차의 부품으로 분류될 근거가 됨으로써 인도 국\\n세정보국(DRI)는 자동차 부품 관련 자의적 해석에 근거한 관세조사를 시행하고 있다. 이로 인해, 인도에 진\\n출한 관련 기업들의 한-인도 CEPA  활용 불가 및 차액 관세 납부 등의 피해가 발생하고 있다. 한-인도 CEPA 적용을 위한 원산지증명서 서식\\n자료: 한-인도 CEPA 협정문', metadata={'source': './data/[법률_규범_특허][코트라][2022]한-인도 CEPA 활용법 및 인도 통상 애로.pdf', 'page': 6}),\n",
       " Document(page_content='CONTENTS사례로 정리해보는\\n한-인도 CEPA \\n활용법 및 인도 통상 애로\\n01. 인도 수출 및 CEPA 활용 시 주의사항 알아두기   \\n1. 품목분류    / 06\\n 가.  HS코드 관련 인도세관의 품목분류 차이 발생 시 원산지증명서 발급 방법   / 06\\n 나. 인도 DRI(국세정보국) 관세조사 시 대응방안   / 08\\n2. 원산지증명서    / 11\\n 가. 원산지증명서 오류 발급 시 정정 방법   / 11\\n 나. 원산지증명서 원본 여부 논란 발생 시 대응방안   / 12\\n3. CEPA 활용    / 14\\n 가. 인도 CAROTAR 2020(원산지관리강화규칙)에 의한 Form I  \\n  작성 및 제출 방법   / 14\\n 나.  2022년 HS협약 개정에 따라 HS코드가 변경된 물품의 수출 시 주의사항   / 17\\n 다. 중고 설비 인도 수출 시 한-인도 CEPA 활용 방법   / 19\\n02. 인도 비관세장벽 이해하기 \\n1. 인증제도    / 22\\n 가. BIS 인증대상 확대 및 인증진행 지연   / 22\\n  [참고] BIS 인증제도 개요\\n  나. 인도 지정실험실에 샘플 발송 시 주의사항   / 27\\n  다. 화장품 인증 완료 후 까다로운 라벨링 부착 규정   / 29\\n  [참고] CDSCO 인증제도 개요\\n2. 수입 전 등록 및 허가제도    / 32\\n 가. 철강제품 수입 전 모니터링 시스템 상 화물정보 등록 의무   / 32\\n  [참고]인도의 수입모니터링 시스템\\n 나. 인도 대외무역총국(DGFT) 수입 전 허가제도   / 35\\n  [참고]수입허가 신청방법\\n', metadata={'source': './data/[법률_규범_특허][코트라][2022]한-인도 CEPA 활용법 및 인도 통상 애로.pdf', 'page': 2}),\n",
       " Document(page_content='10 | 사례로 정리해보는 한-인도 CEPA 활용법 및 인도 통상 애로\\n전기의 품목분류 관련 인도 대법원 판결의 내용을 확대 적용하여 일반화하지 않도록 요청 및 부품(Parts)의 \\n품목분류 시 HS 협약을 우선 적용하고 다양한 사례를 참고할 것을 강조하였다. 뉴델리·첸나이 CEPA활용지\\n원센터는 관련 기업들에게 국세정보국(DRI)이 자의적인 품목분류 해석을 통한 조사 및 추가 관세 납부를 요\\n구할 수 있으므로 이에 대응할 수 있도록 근거자료를 확보할 것을 안내 및 해당 지침의 내용을 공유하였다.\\n③ 시사점\\n2022년 1월 5일, 인도 관세간접세위원회(CBIC)는 세관 및 국세정보국(DRI)의 자의적 품목분류를 규제하\\n기 위한 지침(Instruction No.01/2022-Customs)을 발표하였다. 이를 통해 철도 신호용 계전기 관련 품목\\n분류에 대한 인도 대법원 판결(Westinghouse Saxby FarmerLtd. Vs. Commisioner of Central Excise)\\n을 개별 부품을 자동차 부품에 분류할 수 있는 법적근거로 확대 해석하지 않도록 환기하였다. 또한, 부품\\n(Parts)의 품목분류 시, HS 협약에 따른 규정을 우선 적용하고 해당 품목과 관련된 다양한 사례를 종합적으\\n로 참고하여 판단 할 것을 권고하였다. 관세 관련 고시 및 지침은 인도 관세간접세위원회(CBIC)의 공식 웹사\\n이트에서 확인 가능하다. \\n<인도 관세간접세위원회(CBIC) 지침 조회 화면>\\n자료: https://www.cbic.gov.in/Customs-Circulars-Instructions\\n', metadata={'source': './data/[법률_규범_특허][코트라][2022]한-인도 CEPA 활용법 및 인도 통상 애로.pdf', 'page': 8}),\n",
       " Document(page_content='06 | 사례로 정리해보는 한-인도 CEPA 활용법 및 인도 통상 애로\\n인도 수출 및 CEPA 활용 시 주의사항 알아두기 01\\n1. 품목분류\\n가. HS코드 관련 인도세관의 품목분류 차이 발생 시 원산지증명서 발급 방법 \\n① 주요 내용\\n인도 수출 시, 한-인도 CEPA에 의한 양허세율을 적용하기 위해서는 한국 세관 또는 대한상공회의소에서 \\n발급된 원산지증명서가 필요하다. 원산지증명서에는 해당물품의 HS코드 6자리를 기재하여야 한다. 그러나 \\n인도세관에서 해당 물품에 대하여 다른 HS코드로 분류할 것을 주장하여 한국에서 발급된 원산지증명서 및 \\nCEPA의 적용을 불인정하는 사례가 있다.\\n② 사례\\n핸드폰, TV 등에 사용되는 스폰지 가스켓(Sponge Gasket)이라는 부품을 인도에 수출하고 있는 A사는 한\\n국에서 원산지증명서 발급 시 해당 물품의 HS 코드가 7410.21에 해당한다는 것을 확인하였다. 약 1년 넘게 \\n해당 HS 코드로 인도에 수출을 하며 한-인도 CEPA의 적용을 받아오던 중 인도 세관 담당자로부터 해당 물\\n품의 HS 코드를 3919.90로 하여서 수출 및 한-인도 CEPA 적용 신청을 다시 할 것을 요청 받았다. 다행히 \\nHS 코드 7410.21와 3919.90에 해당하는 물품 모두 한-인도 CEPA 협정 상 양허대상 물품에 해당하고 적\\n용 후 세율도 0%로 동일하여 인도 세관에 요청하는 HS 코드로 변경할 경우에도 CEPA 활용을 할 수 있는 \\n상황이었다. \\n그러나, 한국에서 원산지증명서 발급 시 수출신고필증 사본, 상업송장(Invoice), 원산지소명서 등을 제출하\\n여야 하는데 수출신고필증 상 HS 코드가 원산지증명서 상에 그대로 기재된다. 한국에서 품목분류사전심사 \\n등을 통해 해당 HS 코드가 정확하다고 확인되어 해당 HS 코드로 신고를 해온 물품의 경우에는 수출신고필\\n증 상의 HS 코드를 임의로 변경할 수 없다. 수입국에서 품목분류에 대한 해석의 차이가 있을 수 있지만 관세 ', metadata={'source': './data/[법률_규범_특허][코트라][2022]한-인도 CEPA 활용법 및 인도 통상 애로.pdf', 'page': 4}),\n",
       " Document(page_content='사례로 정리해보는\\n한-인도 CEPA \\n활용법 및 인도 통상 애로\\nKOTRA자료 22-055', metadata={'page': 0, 'source': './data/[법률_규범_특허][코트라][2022]한-인도 CEPA 활용법 및 인도 통상 애로.pdf'}),\n",
       " Document(page_content='인도 비관세장벽 이해하기\\n \\n|\\n \\n33\\n입\\n \\n통\\n관\\n \\n전\\n \\nSIMS\\n \\n등\\n록\\n을\\n \\n신\\n속\\n하\\n게\\n \\n진\\n행\\n하\\n도\\n록\\n \\n지\\n원\\n하\\n여\\n \\n별\\n도\\n의\\n \\n과\\n태\\n료\\n \\n및\\n \\n체\\n화\\n료\\n(\\nDemurrage\\n \\nCharge\\n)\\n의\\n \\n부\\n담\\n없\\n이\\n \\n화\\n물\\n을\\n \\n반\\n출\\n할\\n \\n수\\n \\n있\\n었\\n다\\n.\\n③ 시사점\\n철강, 석탄, 구리, 알루미늄, 반도체 집적회로 등 수입 모니터링 시스템에 의해 운영되는5개 품목을 수입하\\n는 경우, 수입자는 화물 정보를 화물 도착 전에 미리 등록하여야 한다. 등록은 온라인을 통해 할 수 있으며, \\n등록 시 자동으로 발급되는 등록번호와 유효기간을 수입신고서에 기재하여야 한다. 사전 등록을 하지 않고 \\n수입하는 경우에는 통관 보류, 과태료 부과 또는 수출입자코드(Importer Exporter Code)의 정지 등 불이익\\n을 받을 수 있으므로, 해당 품목을 수입하는 경우에는 반드시 사전등록을 해야 한다. 단, 항공운송으로 수입\\n되는 철강제품은 SIMS에서 면제된다.\\n수입 모니터링 제도는 수입자가 선적 건마다 화물 정보를 등록해야 하고 수수료를 부담해야 하므로 그 자체\\n가 무역장벽으로 작용한다고 볼 수 있다. 그러나 이보다 더 중요한 점은 앞으로 인도 정부가 시스템에 등록된 \\n화물 정보 통계를 활용해 무역구제 조치 등 산업 정책을 보다 더 효율적으로 추진할 수 있게 됐다는 점이다.\\n최근 인도는 다양한 품목에 대해 반덤핑 관세, 상계관세, 세이프가드 등의 다양한 무역구제조치를 취하고 \\n있다. 이러한 무역구제 조치를 적용하기 위해서는 WTO 협정에 따라 해당 품목의 최근 수입 현황과 그에 따\\n른 국내 산업 피해 정도 등의 조사가 반드시 선행돼야 한다. 해당 조사는 통상 12~18개월이 소요되는데, 수\\n입 모니터링 제도를 통해 취합된 정보를 활용할 경우 조사기간을 단축할 수 있어 보다 신속하게 조치를 적용\\n할 수 있게 된다. \\n인도 상무부는 앞으로 수입 모니터링 제도 대상품목을 지속적으로 확대할 계획이라고 밝힌 바 있다. 따라서, 인\\n도 시장에 진출한 기업은 자사 제품이 수입 통관 모니터링 제도의 대상인지 여부를 수시로 확인할 필요가 있다. 만\\n약 대상품목이라면 사전 등록 절차를 성실히 이행하여 통관상의 불이익을 받지 않도록 주의할 필요가 있다.\\n[참고] 인도의 수입 모니터링시스템\\n현황\\n수입 모니터링 시스템은 특정 품목에 대한 수입 현황을 감시하기 위한 제도로서, 인도 정부는 지난 2019년 \\n11월에 철강 수입 모니터링 시스템인 SIMS(Steel Import Monitoring System)를 처음으로 도입한 이후, \\n모니터링 대상 품목을 지속적으로 확대하여 2021년 석탄, 구리, 알루미늄, 반도체를 시행 대상으로 지정하\\n였고, 2022년 10월 1일부터 종이에 대해서도 시행 예정이다.', metadata={'page': 31, 'source': './data/[법률_규범_특허][코트라][2022]한-인도 CEPA 활용법 및 인도 통상 애로.pdf'}),\n",
       " Document(page_content='인도 비관세장벽 이해하기  | 39\\n<3> 대필수 정보 입력, 관련 서류 첨부 및 약관 동의\\n•  물품 유형 및 물품의 세부 정보(원산지, CIF 기준 수입가격, 물품 규격 등), 물품의 예정 수입항 및 실사용\\n자 정보 입력\\n• 제출 정보와 수입허가 신청에 관련된 법적 책임에 대한 약관에 동의한 후, 다음 단계 이동<세부정보 입력화면>\\n<약관동의 화면>\\n', metadata={'page': 37, 'source': './data/[법률_규범_특허][코트라][2022]한-인도 CEPA 활용법 및 인도 통상 애로.pdf'}),\n",
       " Document(page_content='인도 비관세장벽 이해하기  | 41\\n', metadata={'page': 39, 'source': './data/[법률_규범_특허][코트라][2022]한-인도 CEPA 활용법 및 인도 통상 애로.pdf'}),\n",
       " Document(page_content='인도 비관세장벽 이해하기  | 29\\nBIS 지정연구소의 주소와 비용은 획득해야 하는 규격에 따라 BIS 웹사이트에서 확인 가능하다. 이때 해당 \\n샘플이 문제 없이 통관되고, 정확한 주소로 송부되도록 주의가 필요하다. \\nBIS 인증을 위해 샘플을 인도에 발송할 경우, 글로벌 특송업체를 이용하는 것이 추후 통관 문제가 발생했\\n을 경우 대비 면에서 수월할 것으로 보인다. 또한, 물품의 인보이스와 운송장을 작성할 때 수하인 주소 및 가\\n격 신고에 주의를 기울여야 한다. 인보이스에는 ‘This sample is not used for commercial purpose and \\nit will be only used for testing to get a BIS registration’ 문구를 기재하고, 적용되는 Incoterms 규칙은 \\nDDP(관세지급인도조건)로 진행해야 하며, 인보이스의 물품 가격을 과도하게 낮추지 않도록 해야 한다. 물품\\n의 저가 신고로 의심받을 경우에도 인도 통관 시 문제가 발생할 수 있으니, 기존 시장판매가격의 50~60% 정\\n도로 설정하는 것이 일반적이며, 특송업체와 사전에 확인하여 적절한 가격을 결정하는 것이 필요하다. \\n다. 화장품 인증 완료 후 까다로운 라벨링 부착 규정\\n① 주요 내용\\n인도에서 유통되는 모든 화장품은 CDSCO 인증을 받아야 한다. 수입 화장품의 경우, 통관단계에서 \\nCDSCO 등록 여부 및 라벨 부착 상태를 확인하며, 이를 위반한 제품은 통관이 제한된다. 따라서, 인도로 화\\n장품을 수출하려는 기업은 반드시 CDSCO 등록 및 라벨링 규정을 미리 확인하여야 한다. <BIS 지정연구소 리스트 확인 화면>\\n자료: Bureau of Indian Standards (crsbis.in/BIS/bis_lab.do)', metadata={'page': 27, 'source': './data/[법률_규범_특허][코트라][2022]한-인도 CEPA 활용법 및 인도 통상 애로.pdf'})]"
      ]
     },
     "execution_count": 43,
     "metadata": {},
     "output_type": "execute_result"
    }
   ],
   "source": [
    "ensemble_retriever.get_relevant_documents(query)"
   ]
  },
  {
   "cell_type": "markdown",
   "id": "ee435db7-4203-4e19-99bf-489a4e0990c1",
   "metadata": {},
   "source": [
    "## TESTING"
   ]
  },
  {
   "cell_type": "code",
   "execution_count": 36,
   "id": "48832018-685a-4627-9f5d-13f77ca3ff87",
   "metadata": {},
   "outputs": [],
   "source": [
    "from langchain.retrievers import BM25Retriever, EnsembleRetriever\n",
    "from langchain_community.vectorstores import FAISS\n",
    "from langchain_openai import OpenAIEmbeddings\n",
    "from langchain_huggingface import HuggingFaceEmbeddings\n",
    "\n",
    "\n",
    "# BM25를 이용한 Sparce search(keyward 기반) retriever에 docs를 불러오기\n",
    "bm25_retriever = BM25Retriever.from_documents(\n",
    "    docs,\n",
    ")\n",
    "bm25_retriever.k = 5\n",
    "\n",
    "\n",
    "# FAISS vector db를 이용한 Semantic search(문맥 vector 유사도 기반) retriever 불러오기\n",
    "\n",
    "# # 오픈 소스 임베딩 함수를 생성합니다.\n",
    "# # stf_embeddings = SentenceTransformerEmbeddings(model_name=\"all-MiniLM-L6-v2\")\n",
    "embeddings = OpenAIEmbeddings(model=\"text-embedding-ada-002\")\n",
    "\n",
    "\n",
    "# FAISS를 사용하여 문서와 임베딩으로부터 데이터베이스를 생성합니다.\n",
    "database = FAISS.from_documents(docs, embeddings)\n",
    "\n",
    "faiss_retriever = database.as_retriever(search_kwargs={\"k\":5})"
   ]
  },
  {
   "cell_type": "code",
   "execution_count": 37,
   "id": "b76e3697-c1bc-487a-b60e-20cb72e30127",
   "metadata": {},
   "outputs": [],
   "source": [
    "# Ensenble retriever 선\n",
    "ensemble_retriever = EnsembleRetriever(\n",
    "\n",
    "    retrievers=[bm25_retriever, faiss_retriever],\n",
    "    weights=[0.65, 0.35], # 가중치\n",
    "    search_type='mmr', # mmr 기반\n",
    ")"
   ]
  },
  {
   "cell_type": "code",
   "execution_count": 38,
   "id": "50232fa9-c885-4d90-b945-ebab22c1bc86",
   "metadata": {},
   "outputs": [
    {
     "data": {
      "text/plain": [
       "[Document(page_content='인도 수출 및 CEPA 활용 시 주의사항 알아두기 | 11\\n2. 원산지증명서\\n가. 원산지증명서 오류 발급 시 정정 방법\\n① 주요 내용\\n한-인도 CEPA 협정 4.4조에 의하면 수출국에서 선적일로부터 7일 내 원산지증명서를 발급하여야 하며, 7\\n일 이후에 발급된 원산지증명서의 경우에는 ‘소급적용(ISSUED RETROSPECTIVELY)’ 문구가 표시되어 있\\n어야 한다. 해당 내용이 협정과 다르게 표시될 경우, 원산지증명서 오류 발급으로 간주된다. \\n② 사례\\n한국에서 인도로 스피커 부품을 수출하고 있는 B사는 기업 측의 착오로 한국 세관에 원산지증명서 발급 신\\n청 시 선적일로부터 5일이 되었음에도 ‘소급적용’ 문구 표시를 신청하여 발급받았다. 인도 세관에서는 한-인\\n도 CEPA 협정에 따라 해당 원산지증명서를 적합하지 않다고 판단하여, ‘소급적용’ 문구가 없는 원산지증명\\n서를 제출할 것을 요청하였다. 이와 같은 오류가 있는 경우, 한-인도 CEPA 적용을 위해 원산지증명서의 재\\n발급이 필요하나 재발급을 위해서는 기존에 발급된 원산지증명서 원본을 회수한 이후에 가능하므로 한-인도 \\nCEPA 적용이 늦어지게 되고, 통관 지연에 따른 보관료 등이 발생할 것으로 예상되었다. 뉴델리 CEPA활용\\n지원센터는 한국 세관과 관련 내용을 확인한 후, 다음과 같은 정정 발급을 통해 보다 빠르게 한-인도 CEPA\\n를 적용할 수 있도록 안내하였다.\\n1. 한국 세관에\\n원산지증명서 정정신청 \\n2. 정정 원산지증명서 제출,\\n한-인도 CEPA 적용\\n3. 원산지증명서\\n원본(오류 발급본) 회수\\n③ 시사점\\n자유무역협정의 이행을 위한 관세법의 특례에 관한 법률 제12조에 따라 관세당국에서 수출물품의 원산지\\n증명 능력이 있다고 인정받은 경우, 원산지증명서 발급이 간소화 된다. 해당 인증을 취득한 기업(원산지 인증 \\n수출자)은 원산지증명서 발급 신청 시 해당 물품의 원산지를 입증하기 위한 자료 제출이 생략되고, 발급 기관\\n의 심사도 간소화된다. 이렇게 인증 수출자 제도를 통해 원산지증명서 발급을 신청하면 절차가 간소화되지\\n만, 신청자가 협정 별 내용을 숙지하고 신중하게 신청하는 것이 중요하다. 예를 들어, 협정 별 ‘소급적용’ 문\\n', metadata={'source': './data/[법률_규범_특허][코트라][2022]한-인도 CEPA 활용법 및 인도 통상 애로.pdf', 'file_path': './data/[법률_규범_특허][코트라][2022]한-인도 CEPA 활용법 및 인도 통상 애로.pdf', 'page': 9, 'total_pages': 41, 'format': 'PDF 1.6', 'title': '', 'author': '', 'subject': '', 'keywords': '', 'creator': 'Adobe InDesign 17.2 (Macintosh)', 'producer': 'Adobe PDF Library 16.0.7', 'creationDate': \"D:20220610145706+09'00'\", 'modDate': \"D:20220614154828+09'00'\", 'trapped': ''}),\n",
       " Document(page_content='인도 수출 및 CEPA\\n활용 시 주의사항 알아두기 \\n \\n \\n01\\n1. 품목분류\\n가. HS코드 관련 인도세관의 품목분류 차이 발생 시 원산지증명서 발급 방법\\n나. 인도 DRI(국세정보국) 관세조사 시 대응방안\\n2. 원산지증명서\\n가. 원산지증명서 오류 발급 시 정정 방법\\n나. 원산지증명서 원본 여부 논란 발생 시 대응방안\\n3. CEPA 활용\\n가. 인도 CAROT\\nAR 2020(원산지관리강화규칙)에 의한 Form I 작성 및 제출 방법\\n나. 2022년 HS협약 개정에 따라 HS코드가 변경된 물품의 수출 시 주의사항\\n다. 중고 설비 인도 수출 시 한-인도 CEPA 활용 방법\\n사례로 정리해보는 한-인도\\nCEPA 활용법 및 인도 통상 애로\\n', metadata={'source': './data/[법률_규범_특허][코트라][2022]한-인도 CEPA 활용법 및 인도 통상 애로.pdf', 'file_path': './data/[법률_규범_특허][코트라][2022]한-인도 CEPA 활용법 및 인도 통상 애로.pdf', 'page': 3, 'total_pages': 41, 'format': 'PDF 1.6', 'title': '', 'author': '', 'subject': '', 'keywords': '', 'creator': 'Adobe InDesign 17.2 (Macintosh)', 'producer': 'Adobe PDF Library 16.0.7', 'creationDate': \"D:20220610145706+09'00'\", 'modDate': \"D:20220614154828+09'00'\", 'trapped': ''}),\n",
       " Document(page_content='CONTENTS\\n사례로 정리해보는\\n한-인도 CEPA \\n활용법 및 인도 통상 애로\\n01. 인도 수출 및 CEPA 활용 시 주의사항 알아두기   \\n1. 품목분류   / 06\\n\\t\\n가. \\x07\\nHS코드 관련 인도세관의 품목분류 차이 발생 시 원산지증명서 발급 방법   / 06\\n\\t\\n나. 인도 DRI(국세정보국) 관세조사 시 대응방안   / 08\\n2. 원산지증명서   / 11\\n\\t\\n가. 원산지증명서 오류 발급 시 정정 방법   / 11\\n\\t\\n나. 원산지증명서 원본 여부 논란 발생 시 대응방안   / 12\\n3. CEPA 활용   / 14\\n\\t\\n가. 인도 CAROTAR 2020(원산지관리강화규칙)에 의한 Form I \\n\\t\\n\\t\\n작성 및 제출 방법   / 14\\n\\t\\n나. \\x07\\n2022년 HS협약 개정에 따라 HS코드가 변경된 물품의 수출 시 주의사항   / 17\\n\\t\\n다. 중고 설비 인도 수출 시 한-인도 CEPA 활용 방법   / 19\\n02. 인도 비관세장벽 이해하기 \\n1. 인증제도   / 22\\n\\t\\n가. BIS 인증대상 확대 및 인증진행 지연   / 22\\n\\t\\n\\t\\n[참고] BIS 인증제도 개요\\n \\t 나. 인도 지정실험실에 샘플 발송 시 주의사항   / 27\\n \\t 다. 화장품 인증 완료 후 까다로운 라벨링 부착 규정   / 29\\n\\t\\n\\t\\n[참고] CDSCO 인증제도 개요\\n2. 수입 전 등록 및 허가제도   / 32\\n\\t\\n가. 철강제품 수입 전 모니터링 시스템 상 화물정보 등록 의무   / 32\\n\\t\\n\\t\\n[참고]인도의 수입모니터링 시스템\\n\\t\\n나. 인도 대외무역총국(DGFT) 수입 전 허가제도   / 35\\n\\t\\n\\t\\n[참고]수입허가 신청방법\\n', metadata={'source': './data/[법률_규범_특허][코트라][2022]한-인도 CEPA 활용법 및 인도 통상 애로.pdf', 'file_path': './data/[법률_규범_특허][코트라][2022]한-인도 CEPA 활용법 및 인도 통상 애로.pdf', 'page': 2, 'total_pages': 41, 'format': 'PDF 1.6', 'title': '', 'author': '', 'subject': '', 'keywords': '', 'creator': 'Adobe InDesign 17.2 (Macintosh)', 'producer': 'Adobe PDF Library 16.0.7', 'creationDate': \"D:20220610145706+09'00'\", 'modDate': \"D:20220614154828+09'00'\", 'trapped': ''}),\n",
       " Document(page_content='06 | 사례로 정리해보는 한-인도 CEPA 활용법 및 인도 통상 애로\\n인도 수출 및 CEPA 활용 시 주의사항 알아두기 \\n01\\n1. 품목분류\\n가. HS코드 관련 인도세관의 품목분류 차이 발생 시 원산지증명서 발급 방법 \\n① 주요 내용\\n인도 수출 시, 한-인도 CEPA에 의한 양허세율을 적용하기 위해서는 한국 세관 또는 대한상공회의소에서 \\n발급된 원산지증명서가 필요하다. 원산지증명서에는 해당물품의 HS코드 6자리를 기재하여야 한다. 그러나 \\n인도세관에서 해당 물품에 대하여 다른 HS코드로 분류할 것을 주장하여 한국에서 발급된 원산지증명서 및 \\nCEPA의 적용을 불인정하는 사례가 있다.\\n② 사례\\n핸드폰, TV 등에 사용되는 스폰지 가스켓(Sponge Gasket)이라는 부품을 인도에 수출하고 있는 A사는 한\\n국에서 원산지증명서 발급 시 해당 물품의 HS 코드가 7410.21에 해당한다는 것을 확인하였다. 약 1년 넘게 \\n해당 HS 코드로 인도에 수출을 하며 한-인도 CEPA의 적용을 받아오던 중 인도 세관 담당자로부터 해당 물\\n품의 HS 코드를 3919.90로 하여서 수출 및 한-인도 CEPA 적용 신청을 다시 할 것을 요청 받았다. 다행히 \\nHS 코드 7410.21와 3919.90에 해당하는 물품 모두 한-인도 CEPA 협정 상 양허대상 물품에 해당하고 적\\n용 후 세율도 0%로 동일하여 인도 세관에 요청하는 HS 코드로 변경할 경우에도 CEPA 활용을 할 수 있는 \\n상황이었다. \\n그러나, 한국에서 원산지증명서 발급 시 수출신고필증 사본, 상업송장(Invoice), 원산지소명서 등을 제출하\\n여야 하는데 수출신고필증 상 HS 코드가 원산지증명서 상에 그대로 기재된다. 한국에서 품목분류사전심사 \\n등을 통해 해당 HS 코드가 정확하다고 확인되어 해당 HS 코드로 신고를 해온 물품의 경우에는 수출신고필\\n증 상의 HS 코드를 임의로 변경할 수 없다. 수입국에서 품목분류에 대한 해석의 차이가 있을 수 있지만 관세 \\n', metadata={'source': './data/[법률_규범_특허][코트라][2022]한-인도 CEPA 활용법 및 인도 통상 애로.pdf', 'file_path': './data/[법률_규범_특허][코트라][2022]한-인도 CEPA 활용법 및 인도 통상 애로.pdf', 'page': 4, 'total_pages': 41, 'format': 'PDF 1.6', 'title': '', 'author': '', 'subject': '', 'keywords': '', 'creator': 'Adobe InDesign 17.2 (Macintosh)', 'producer': 'Adobe PDF Library 16.0.7', 'creationDate': \"D:20220610145706+09'00'\", 'modDate': \"D:20220614154828+09'00'\", 'trapped': ''}),\n",
       " Document(page_content=\"인도 수출 및 CEPA 활용 시 주의사항 알아두기 | 07\\n환급 등의 이유 및 품목분류의 정합성을 위해 동일한 물품에 대하여 수출신고서 상 HS 코드를 다르게 적용할 \\n수 없기 때문이다. 해당 업체는 한-인도 CEPA 활용을 위해 수입국에서 적용되는 HS 코드가 다른 경우 원산\\n지증명서 발급 방법에 대해서 확인이 필요했기 때문에 뉴델리 CEPA 활용지원센터에 지원을 요청했다.\\n뉴델리 CEPA활용지원센터에서  해당 사례 관련하여 한국 세관과 지원방법을 알아본 결과, 수입국에서 수\\n출국의 HS 코드와 상이한 HS 코드를 원산지증명서 상 기재할 것을 요청하는 경우 원산지증명서 발급 방법\\n에 관한 지침에 따라 증명 서류를 제출하고, 해당 수출물품이 HS 코드의 변경 전 후의 원산지기준을 모두 충\\n족하는 것이 확인될 때에는 인도 세관에서 요청하는 HS 코드를 기재한 원산지증명서를 발급 가능하다는 것\\n을 알 수 있었고, 해당 업체는 한-인도 CEPA 적용 관련 품목분류 논쟁을 방지할 수 있었다.\\n③ 시사점\\nHS 코드란 국제무역거래의 대상이 되는 물품을 분류해놓은 품목분류표이다. HS 협약에 따라 6자리까지 \\n국제 공통으로 사용되고 7자리부터 각 국가의 법에 따라 다르게 정하고 있으나, 각 국가마다 품목분류 해석\\n의 차이가 있을 수 있기 때문에 FTA 협정을 체결한 상대국에서 다른 HS 코드를 사용할 것을 요구할 수 있다. \\n이러한 경우 HS 코드 변경에 따른 세율의 차이가 발생하거나 FTA 활용이 어려워질 수 있다. 또한, 변경 후의 \\n세율이 높은 경우 이전에 수입한 건에 대해서도 차액 관세를 추징 당할 수도 있다. 인도 수출 물품에 대한 품\\n목분류 분쟁 또는 FTA 특혜관세의 품목의 불인정 등 애로가 발생할 경우 지역별 본부세관 및 수출입기업지\\n원센터에 신고하거나 해외 FTA 활용지원센터에 지원을 요청할 수 있다. \\n한국 관세청의 '품목분류 해석상이 등에 따른 업무처리 지침'에 따르면 협정상대국(인도)에서 적용되는 HS \\n코드를 확인할 수 있는 서류(수입신고필증 및 품목분류 사전심사결과서 등)를 한국의 원산지증명서 발급기관\\n에 제출할 경우 인도세관에서 요청하는 HS코드를 적용하여 원산지증명서 발급이 가능하다. 대한상공회의소\\n의 온라인 시스템을 이용하여 원산지증명서를 발급하는 경우에는 해당 변경으로 인한 문제 발생 시 수출자의 \\n책임으로 한다는 내용의 사유서를 첨부하여 '발급기관 전달사항'란에 정확한 사유 및 변경 전/후 HS 코드를 \\n기관\\n적용 HS 코드\\n물품명\\n적용 HS 코드\\n대한상공회의소\\n7410.21\\n구리의 박(箔)\\nCTH + 25%\\n인도 세관\\n3919.90\\n플라스틱 시트(Sheet)\\nCTSH + 35%\\n자료: 뉴델리 CEPA 활용지원센터\\n<스폰지 가스켓(Sponge Gasket) 관련 인도 세관의 HS 코드 적용 불일치 내용> \\n\", metadata={'source': './data/[법률_규범_특허][코트라][2022]한-인도 CEPA 활용법 및 인도 통상 애로.pdf', 'file_path': './data/[법률_규범_특허][코트라][2022]한-인도 CEPA 활용법 및 인도 통상 애로.pdf', 'page': 5, 'total_pages': 41, 'format': 'PDF 1.6', 'title': '', 'author': '', 'subject': '', 'keywords': '', 'creator': 'Adobe InDesign 17.2 (Macintosh)', 'producer': 'Adobe PDF Library 16.0.7', 'creationDate': \"D:20220610145706+09'00'\", 'modDate': \"D:20220614154828+09'00'\", 'trapped': ''}),\n",
       " Document(page_content='인도 수출 및 CEPA 활용 시 주의사항 알아두기 | 13\\n다만, 대한상공회의소에서 발급하는 원산지증명서를 조회할 경우에는 수출자 및 발급자의 서명이 확인되지 \\n않기 때문에 인도 세관에서 의문을 제기할 수 있다. 주인도 관세협력관, 뉴델리 · 첸나이 CEPA활용지원센터\\n는 한국 관세청에 이를 공유하여 수출자 및 발급자의 서명이 없어도 원산지증명서 원본 여부 확인에 지장이 \\n없음을 알리는 문구를 화면에 추가할 수 있었다. 이에 따라, 한국 세관 뿐 아니라 대항상공회의소에서 발급한 \\n원산지증명서도 해당 화면에서 확인이 가능하며 이를 활용하여 인도 세관에 원산지증명서 원본 여부를 증명\\n할 수 있게 되었다.\\n③ 시사점\\n아래와 같이 한국 관세청에서 제공하는 서비스를 통해 원산지증명서의 원본 여부를 확인할 수 있다. 원산지\\n증명서 상 표시된 Reference no. 와 Reference code 입력 후 확인 가능하다.\\n<한국 원산지증명서 진위여부 조회 화면>\\n자료 :http://www.customs.go.kr/kcs/co/co.do\\n', metadata={'source': './data/[법률_규범_특허][코트라][2022]한-인도 CEPA 활용법 및 인도 통상 애로.pdf', 'file_path': './data/[법률_규범_특허][코트라][2022]한-인도 CEPA 활용법 및 인도 통상 애로.pdf', 'page': 11, 'total_pages': 41, 'format': 'PDF 1.6', 'title': '', 'author': '', 'subject': '', 'keywords': '', 'creator': 'Adobe InDesign 17.2 (Macintosh)', 'producer': 'Adobe PDF Library 16.0.7', 'creationDate': \"D:20220610145706+09'00'\", 'modDate': \"D:20220614154828+09'00'\", 'trapped': ''}),\n",
       " Document(page_content='인도 비관세장벽 이해하기 | 39\\n<3> 대필수 정보 입력, 관련 서류 첨부 및 약관 동의\\n• \\x07\\n물품 유형 및 물품의 세부 정보(원산지, CIF 기준 수입가격, 물품 규격 등), 물품의 예정 수입항 및 실사용\\n자 정보 입력\\n• 제출 정보와 수입허가 신청에 관련된 법적 책임에 대한 약관에 동의한 후, 다음 단계 이동\\n<세부정보 입력화면>\\n<약관동의 화면>\\n', metadata={'source': './data/[법률_규범_특허][코트라][2022]한-인도 CEPA 활용법 및 인도 통상 애로.pdf', 'file_path': './data/[법률_규범_특허][코트라][2022]한-인도 CEPA 활용법 및 인도 통상 애로.pdf', 'page': 37, 'total_pages': 41, 'format': 'PDF 1.6', 'title': '', 'author': '', 'subject': '', 'keywords': '', 'creator': 'Adobe InDesign 17.2 (Macintosh)', 'producer': 'Adobe PDF Library 16.0.7', 'creationDate': \"D:20220610145706+09'00'\", 'modDate': \"D:20220614154828+09'00'\", 'trapped': ''}),\n",
       " Document(page_content='사례로 정리해보는\\n한-인도 CEPA \\n활용법 및 인도 통상 애로\\nKOTRA자료 22-055\\n', metadata={'source': './data/[법률_규범_특허][코트라][2022]한-인도 CEPA 활용법 및 인도 통상 애로.pdf', 'file_path': './data/[법률_규범_특허][코트라][2022]한-인도 CEPA 활용법 및 인도 통상 애로.pdf', 'page': 0, 'total_pages': 41, 'format': 'PDF 1.6', 'title': '', 'author': '', 'subject': '', 'keywords': '', 'creator': 'Adobe InDesign 17.2 (Macintosh)', 'producer': 'Adobe PDF Library 16.0.7', 'creationDate': \"D:20220610145706+09'00'\", 'modDate': \"D:20220614154828+09'00'\", 'trapped': ''}),\n",
       " Document(page_content='인도 비관세장벽 이해하기 | 41\\n', metadata={'source': './data/[법률_규범_특허][코트라][2022]한-인도 CEPA 활용법 및 인도 통상 애로.pdf', 'file_path': './data/[법률_규범_특허][코트라][2022]한-인도 CEPA 활용법 및 인도 통상 애로.pdf', 'page': 39, 'total_pages': 41, 'format': 'PDF 1.6', 'title': '', 'author': '', 'subject': '', 'keywords': '', 'creator': 'Adobe InDesign 17.2 (Macintosh)', 'producer': 'Adobe PDF Library 16.0.7', 'creationDate': \"D:20220610145706+09'00'\", 'modDate': \"D:20220614154828+09'00'\", 'trapped': ''})]"
      ]
     },
     "execution_count": 38,
     "metadata": {},
     "output_type": "execute_result"
    }
   ],
   "source": [
    "ensemble_retriever.get_relevant_documents(query)"
   ]
  },
  {
   "cell_type": "code",
   "execution_count": 39,
   "id": "2ff7bdb3-9423-44fb-a2e7-a9c6b4ce5eb9",
   "metadata": {},
   "outputs": [
    {
     "data": {
      "text/plain": [
       "[Document(page_content='08 | 사례로 정리해보는 한-인도 CEPA 활용법 및 인도 통상 애로\\n기재하여 신청하면 가능하다. 다만, 한국과 인도의 양국에서 사용하는 HS 코드에 따른 원산지기준이 다를 경\\n우, 원산지기준을 모두 충족하여야 한다.\\n나. 인도 DRI(국세정보국) 관세조사 시 대응방안\\n① 주요 내용\\n2021년 3월, 철도 신호용 계전기 관련 인도 대법원의 판결(Westinghouse Saxby FarmerLtd. Vs. \\nCommisioner of Central Excise)에 따라 개별 부품이 자동차의 부품으로 분류될 근거가 됨으로써 인도 국\\n세정보국(DRI)는 자동차 부품 관련 자의적 해석에 근거한 관세조사를 시행하고 있다. 이로 인해, 인도에 진\\n출한 관련 기업들의 한-인도 CEPA  활용 불가 및 차액 관세 납부 등의 피해가 발생하고 있다. \\n한-인도 CEPA 적용을 위한 원산지증명서 서식\\n자료: 한-인도 CEPA 협정문\\n', metadata={'source': './data/[법률_규범_특허][코트라][2022]한-인도 CEPA 활용법 및 인도 통상 애로.pdf', 'file_path': './data/[법률_규범_특허][코트라][2022]한-인도 CEPA 활용법 및 인도 통상 애로.pdf', 'page': 6, 'total_pages': 41, 'format': 'PDF 1.6', 'title': '', 'author': '', 'subject': '', 'keywords': '', 'creator': 'Adobe InDesign 17.2 (Macintosh)', 'producer': 'Adobe PDF Library 16.0.7', 'creationDate': \"D:20220610145706+09'00'\", 'modDate': \"D:20220614154828+09'00'\", 'trapped': ''}),\n",
       " Document(page_content='인도 수출 및 CEPA\\n활용 시 주의사항 알아두기 \\n \\n \\n01\\n1. 품목분류\\n가. HS코드 관련 인도세관의 품목분류 차이 발생 시 원산지증명서 발급 방법\\n나. 인도 DRI(국세정보국) 관세조사 시 대응방안\\n2. 원산지증명서\\n가. 원산지증명서 오류 발급 시 정정 방법\\n나. 원산지증명서 원본 여부 논란 발생 시 대응방안\\n3. CEPA 활용\\n가. 인도 CAROT\\nAR 2020(원산지관리강화규칙)에 의한 Form I 작성 및 제출 방법\\n나. 2022년 HS협약 개정에 따라 HS코드가 변경된 물품의 수출 시 주의사항\\n다. 중고 설비 인도 수출 시 한-인도 CEPA 활용 방법\\n사례로 정리해보는 한-인도\\nCEPA 활용법 및 인도 통상 애로\\n', metadata={'source': './data/[법률_규범_특허][코트라][2022]한-인도 CEPA 활용법 및 인도 통상 애로.pdf', 'file_path': './data/[법률_규범_특허][코트라][2022]한-인도 CEPA 활용법 및 인도 통상 애로.pdf', 'page': 3, 'total_pages': 41, 'format': 'PDF 1.6', 'title': '', 'author': '', 'subject': '', 'keywords': '', 'creator': 'Adobe InDesign 17.2 (Macintosh)', 'producer': 'Adobe PDF Library 16.0.7', 'creationDate': \"D:20220610145706+09'00'\", 'modDate': \"D:20220614154828+09'00'\", 'trapped': ''}),\n",
       " Document(page_content='CONTENTS\\n사례로 정리해보는\\n한-인도 CEPA \\n활용법 및 인도 통상 애로\\n01. 인도 수출 및 CEPA 활용 시 주의사항 알아두기   \\n1. 품목분류   / 06\\n\\t\\n가. \\x07\\nHS코드 관련 인도세관의 품목분류 차이 발생 시 원산지증명서 발급 방법   / 06\\n\\t\\n나. 인도 DRI(국세정보국) 관세조사 시 대응방안   / 08\\n2. 원산지증명서   / 11\\n\\t\\n가. 원산지증명서 오류 발급 시 정정 방법   / 11\\n\\t\\n나. 원산지증명서 원본 여부 논란 발생 시 대응방안   / 12\\n3. CEPA 활용   / 14\\n\\t\\n가. 인도 CAROTAR 2020(원산지관리강화규칙)에 의한 Form I \\n\\t\\n\\t\\n작성 및 제출 방법   / 14\\n\\t\\n나. \\x07\\n2022년 HS협약 개정에 따라 HS코드가 변경된 물품의 수출 시 주의사항   / 17\\n\\t\\n다. 중고 설비 인도 수출 시 한-인도 CEPA 활용 방법   / 19\\n02. 인도 비관세장벽 이해하기 \\n1. 인증제도   / 22\\n\\t\\n가. BIS 인증대상 확대 및 인증진행 지연   / 22\\n\\t\\n\\t\\n[참고] BIS 인증제도 개요\\n \\t 나. 인도 지정실험실에 샘플 발송 시 주의사항   / 27\\n \\t 다. 화장품 인증 완료 후 까다로운 라벨링 부착 규정   / 29\\n\\t\\n\\t\\n[참고] CDSCO 인증제도 개요\\n2. 수입 전 등록 및 허가제도   / 32\\n\\t\\n가. 철강제품 수입 전 모니터링 시스템 상 화물정보 등록 의무   / 32\\n\\t\\n\\t\\n[참고]인도의 수입모니터링 시스템\\n\\t\\n나. 인도 대외무역총국(DGFT) 수입 전 허가제도   / 35\\n\\t\\n\\t\\n[참고]수입허가 신청방법\\n', metadata={'source': './data/[법률_규범_특허][코트라][2022]한-인도 CEPA 활용법 및 인도 통상 애로.pdf', 'file_path': './data/[법률_규범_특허][코트라][2022]한-인도 CEPA 활용법 및 인도 통상 애로.pdf', 'page': 2, 'total_pages': 41, 'format': 'PDF 1.6', 'title': '', 'author': '', 'subject': '', 'keywords': '', 'creator': 'Adobe InDesign 17.2 (Macintosh)', 'producer': 'Adobe PDF Library 16.0.7', 'creationDate': \"D:20220610145706+09'00'\", 'modDate': \"D:20220614154828+09'00'\", 'trapped': ''}),\n",
       " Document(page_content='10 | 사례로 정리해보는 한-인도 CEPA 활용법 및 인도 통상 애로\\n전기의 품목분류 관련 인도 대법원 판결의 내용을 확대 적용하여 일반화하지 않도록 요청 및 부품(Parts)의 \\n품목분류 시 HS 협약을 우선 적용하고 다양한 사례를 참고할 것을 강조하였다. 뉴델리·첸나이 CEPA활용지\\n원센터는 관련 기업들에게 국세정보국(DRI)이 자의적인 품목분류 해석을 통한 조사 및 추가 관세 납부를 요\\n구할 수 있으므로 이에 대응할 수 있도록 근거자료를 확보할 것을 안내 및 해당 지침의 내용을 공유하였다.\\n③ 시사점\\n2022년 1월 5일, 인도 관세간접세위원회(CBIC)는 세관 및 국세정보국(DRI)의 자의적 품목분류를 규제하\\n기 위한 지침(Instruction No.01/2022-Customs)을 발표하였다. 이를 통해 철도 신호용 계전기 관련 품목\\n분류에 대한 인도 대법원 판결(Westinghouse Saxby FarmerLtd. Vs. Commisioner of Central Excise)\\n을 개별 부품을 자동차 부품에 분류할 수 있는 법적근거로 확대 해석하지 않도록 환기하였다. 또한, 부품\\n(Parts)의 품목분류 시, HS 협약에 따른 규정을 우선 적용하고 해당 품목과 관련된 다양한 사례를 종합적으\\n로 참고하여 판단 할 것을 권고하였다. 관세 관련 고시 및 지침은 인도 관세간접세위원회(CBIC)의 공식 웹사\\n이트에서 확인 가능하다. \\n<인도 관세간접세위원회(CBIC) 지침 조회 화면>\\n자료: https://www.cbic.gov.in/Customs-Circulars-Instructions\\n', metadata={'source': './data/[법률_규범_특허][코트라][2022]한-인도 CEPA 활용법 및 인도 통상 애로.pdf', 'file_path': './data/[법률_규범_특허][코트라][2022]한-인도 CEPA 활용법 및 인도 통상 애로.pdf', 'page': 8, 'total_pages': 41, 'format': 'PDF 1.6', 'title': '', 'author': '', 'subject': '', 'keywords': '', 'creator': 'Adobe InDesign 17.2 (Macintosh)', 'producer': 'Adobe PDF Library 16.0.7', 'creationDate': \"D:20220610145706+09'00'\", 'modDate': \"D:20220614154828+09'00'\", 'trapped': ''}),\n",
       " Document(page_content='06 | 사례로 정리해보는 한-인도 CEPA 활용법 및 인도 통상 애로\\n인도 수출 및 CEPA 활용 시 주의사항 알아두기 \\n01\\n1. 품목분류\\n가. HS코드 관련 인도세관의 품목분류 차이 발생 시 원산지증명서 발급 방법 \\n① 주요 내용\\n인도 수출 시, 한-인도 CEPA에 의한 양허세율을 적용하기 위해서는 한국 세관 또는 대한상공회의소에서 \\n발급된 원산지증명서가 필요하다. 원산지증명서에는 해당물품의 HS코드 6자리를 기재하여야 한다. 그러나 \\n인도세관에서 해당 물품에 대하여 다른 HS코드로 분류할 것을 주장하여 한국에서 발급된 원산지증명서 및 \\nCEPA의 적용을 불인정하는 사례가 있다.\\n② 사례\\n핸드폰, TV 등에 사용되는 스폰지 가스켓(Sponge Gasket)이라는 부품을 인도에 수출하고 있는 A사는 한\\n국에서 원산지증명서 발급 시 해당 물품의 HS 코드가 7410.21에 해당한다는 것을 확인하였다. 약 1년 넘게 \\n해당 HS 코드로 인도에 수출을 하며 한-인도 CEPA의 적용을 받아오던 중 인도 세관 담당자로부터 해당 물\\n품의 HS 코드를 3919.90로 하여서 수출 및 한-인도 CEPA 적용 신청을 다시 할 것을 요청 받았다. 다행히 \\nHS 코드 7410.21와 3919.90에 해당하는 물품 모두 한-인도 CEPA 협정 상 양허대상 물품에 해당하고 적\\n용 후 세율도 0%로 동일하여 인도 세관에 요청하는 HS 코드로 변경할 경우에도 CEPA 활용을 할 수 있는 \\n상황이었다. \\n그러나, 한국에서 원산지증명서 발급 시 수출신고필증 사본, 상업송장(Invoice), 원산지소명서 등을 제출하\\n여야 하는데 수출신고필증 상 HS 코드가 원산지증명서 상에 그대로 기재된다. 한국에서 품목분류사전심사 \\n등을 통해 해당 HS 코드가 정확하다고 확인되어 해당 HS 코드로 신고를 해온 물품의 경우에는 수출신고필\\n증 상의 HS 코드를 임의로 변경할 수 없다. 수입국에서 품목분류에 대한 해석의 차이가 있을 수 있지만 관세 \\n', metadata={'source': './data/[법률_규범_특허][코트라][2022]한-인도 CEPA 활용법 및 인도 통상 애로.pdf', 'file_path': './data/[법률_규범_특허][코트라][2022]한-인도 CEPA 활용법 및 인도 통상 애로.pdf', 'page': 4, 'total_pages': 41, 'format': 'PDF 1.6', 'title': '', 'author': '', 'subject': '', 'keywords': '', 'creator': 'Adobe InDesign 17.2 (Macintosh)', 'producer': 'Adobe PDF Library 16.0.7', 'creationDate': \"D:20220610145706+09'00'\", 'modDate': \"D:20220614154828+09'00'\", 'trapped': ''}),\n",
       " Document(page_content='사례로 정리해보는\\n한-인도 CEPA \\n활용법 및 인도 통상 애로\\nKOTRA자료 22-055\\n', metadata={'source': './data/[법률_규범_특허][코트라][2022]한-인도 CEPA 활용법 및 인도 통상 애로.pdf', 'file_path': './data/[법률_규범_특허][코트라][2022]한-인도 CEPA 활용법 및 인도 통상 애로.pdf', 'page': 0, 'total_pages': 41, 'format': 'PDF 1.6', 'title': '', 'author': '', 'subject': '', 'keywords': '', 'creator': 'Adobe InDesign 17.2 (Macintosh)', 'producer': 'Adobe PDF Library 16.0.7', 'creationDate': \"D:20220610145706+09'00'\", 'modDate': \"D:20220614154828+09'00'\", 'trapped': ''}),\n",
       " Document(page_content='인도 비관세장벽\\n이해하기 \\n02\\n1. 인증제도\\n가. BIS 인증대상 확대 및 인증진행 지연\\n\\t\\n[참고] BIS 인증제도 개요\\n나. 인도 지정실험실에 샘플 발송 시 주의사항\\n다. 화장품 인증 완료 후 까다로운 라벨링 부착 규정\\n\\t\\n[참고] CDSCO 인증제도 개요\\n2. 수입 전 등록 및 허가제도\\n가. 철강제품 수입 전 모니터링 시스템 상 화물정보 등록 의무\\n\\t\\n[참고]인도의 수입모니터링 시스템\\n나. 인도 대외무역총국(DGFT) 수입 전 허가제도\\n\\t\\n[참고]수입허가 신청방법\\n사례로 정리해보는 한-인도\\nCEPA 활용법 및 인도 통상 애로\\n', metadata={'source': './data/[법률_규범_특허][코트라][2022]한-인도 CEPA 활용법 및 인도 통상 애로.pdf', 'file_path': './data/[법률_규범_특허][코트라][2022]한-인도 CEPA 활용법 및 인도 통상 애로.pdf', 'page': 19, 'total_pages': 41, 'format': 'PDF 1.6', 'title': '', 'author': '', 'subject': '', 'keywords': '', 'creator': 'Adobe InDesign 17.2 (Macintosh)', 'producer': 'Adobe PDF Library 16.0.7', 'creationDate': \"D:20220610145706+09'00'\", 'modDate': \"D:20220614154828+09'00'\", 'trapped': ''}),\n",
       " Document(page_content='인도 비관세장벽 이해하기 | 41\\n', metadata={'source': './data/[법률_규범_특허][코트라][2022]한-인도 CEPA 활용법 및 인도 통상 애로.pdf', 'file_path': './data/[법률_규범_특허][코트라][2022]한-인도 CEPA 활용법 및 인도 통상 애로.pdf', 'page': 39, 'total_pages': 41, 'format': 'PDF 1.6', 'title': '', 'author': '', 'subject': '', 'keywords': '', 'creator': 'Adobe InDesign 17.2 (Macintosh)', 'producer': 'Adobe PDF Library 16.0.7', 'creationDate': \"D:20220610145706+09'00'\", 'modDate': \"D:20220614154828+09'00'\", 'trapped': ''}),\n",
       " Document(page_content='인도 비관세장벽 이해하기 | 39\\n<3> 대필수 정보 입력, 관련 서류 첨부 및 약관 동의\\n• \\x07\\n물품 유형 및 물품의 세부 정보(원산지, CIF 기준 수입가격, 물품 규격 등), 물품의 예정 수입항 및 실사용\\n자 정보 입력\\n• 제출 정보와 수입허가 신청에 관련된 법적 책임에 대한 약관에 동의한 후, 다음 단계 이동\\n<세부정보 입력화면>\\n<약관동의 화면>\\n', metadata={'source': './data/[법률_규범_특허][코트라][2022]한-인도 CEPA 활용법 및 인도 통상 애로.pdf', 'file_path': './data/[법률_규범_특허][코트라][2022]한-인도 CEPA 활용법 및 인도 통상 애로.pdf', 'page': 37, 'total_pages': 41, 'format': 'PDF 1.6', 'title': '', 'author': '', 'subject': '', 'keywords': '', 'creator': 'Adobe InDesign 17.2 (Macintosh)', 'producer': 'Adobe PDF Library 16.0.7', 'creationDate': \"D:20220610145706+09'00'\", 'modDate': \"D:20220614154828+09'00'\", 'trapped': ''})]"
      ]
     },
     "execution_count": 39,
     "metadata": {},
     "output_type": "execute_result"
    }
   ],
   "source": [
    "query = \"인도 DRI(국세정보국) 관세조사 시 대응방안에 대한 사례를 알려주세요.\"\n",
    "ensemble_retriever.invoke(query)"
   ]
  },
  {
   "cell_type": "code",
   "execution_count": 40,
   "id": "5febb44b-a337-4c1c-9103-fe4aa2725aa9",
   "metadata": {},
   "outputs": [],
   "source": [
    "from langchain_core.prompts import ChatPromptTemplate, MessagesPlaceholder\n",
    "\n",
    "\n",
    "\n",
    "# 사용자 질문 맥락화 프롬프트\n",
    "contextualize_q_system_prompt = \"\"\"\n",
    "주요 목표는 사용자의 질문을 이해하기 쉽게 다시 작성하는 것입니다.\n",
    "사용자의 질문과 채팅 기록이 주어졌을 때, 채팅 기록의 맥락을 참조할 수 있습니다.\n",
    "채팅 기록이 없더라도 이해할 수 있는 독립적인 질문으로 작성하세요.\n",
    "질문에 바로 대답하지 말고, 필요하다면 질문을 다시 작성하세요. 그렇지 않다면 질문을 그대로 반환합니다.        \n",
    "\"\"\"\n",
    "contextualize_q_prompt = ChatPromptTemplate.from_messages([\n",
    "    (\"system\", contextualize_q_system_prompt),\n",
    "    MessagesPlaceholder(\"chat_history\"),\n",
    "    (\"human\", \"{input}\"),\n",
    "])\n",
    "\n",
    "# 질문 프롬프트\n",
    "qa_system_prompt = \"\"\"\n",
    "당신은 질문에 대해 정보를 제공해주는 어시스턴트입니다.\n",
    "소규모 기업 혹은 스타트업에 인도에 수출 사업을 도와 사실 기반의 정보만을 제공해주면서 가능한 한 도움이 되도록 만들어졌습니다.\n",
    "사전 정보가 아닌 주어진 자료를 참고하여 정보를 제공해주세요.\n",
    "만약 자료에 나와있지 않는 상황의 경우에는 인터넷에 검색해보라고 말해주세요.\n",
    "\n",
    "자료:\n",
    "{context}\n",
    "\n",
    "질문:\n",
    "{input}\n",
    "\n",
    "FORMAT:\n",
    "- 진출 사업\n",
    "- 진출 사업 동향\n",
    "- 진출 사업 메리트\n",
    "- 진출 사업 관련 정책\n",
    "- 진출 사업을 위한 도움말\n",
    "- 진출 사업 관련 알아야 할 것들\n",
    "\"\"\"\n",
    "\n",
    "qa_prompt = ChatPromptTemplate.from_messages([\n",
    "    (\"system\", qa_system_prompt),\n",
    "    MessagesPlaceholder(\"chat_history\"),\n",
    "    (\"human\", \"{input}\"),\n",
    "])"
   ]
  },
  {
   "cell_type": "code",
   "execution_count": 41,
   "id": "68bffe26-f3df-4ac0-b8ea-7c9a2357e049",
   "metadata": {
    "tags": []
   },
   "outputs": [],
   "source": [
    "llm = ChatOpenAI(\n",
    "    model=\"gpt-3.5-turbo\",\n",
    "    max_tokens=2048,\n",
    "    temperature=0,\n",
    ")"
   ]
  },
  {
   "cell_type": "code",
   "execution_count": 42,
   "id": "1b112a1f-1ed1-4f30-a2b8-58aa86b9ea9f",
   "metadata": {
    "tags": []
   },
   "outputs": [],
   "source": [
    "# from langchain_core.output_parsers import StrOutputParser\n",
    "from langchain_core.runnables import RunnableParallel, RunnablePassthrough\n",
    "from langchain_core.output_parsers.string import StrOutputParser\n",
    "from langchain.chains import create_history_aware_retriever\n",
    "from langchain.chains.retrieval import create_retrieval_chain\n",
    "from langchain.chains.combine_documents import create_stuff_documents_chain\n",
    "from operator import itemgetter\n",
    "output_parser = StrOutputParser()\n",
    "\n",
    "\n",
    "history_aware_retriever = create_history_aware_retriever(\n",
    "    llm = llm,\n",
    "    retriever = ensemble_retriever,\n",
    "    prompt = contextualize_q_prompt\n",
    ")\n",
    "\n",
    "# 응답 생성 + 프롬프트 엔지니어링\n",
    "question_answer_chain = create_stuff_documents_chain(llm, qa_prompt)\n",
    "\n",
    "rag_chain = create_retrieval_chain(history_aware_retriever, question_answer_chain)\n",
    "\n"
   ]
  },
  {
   "cell_type": "code",
   "execution_count": 43,
   "id": "16ea74fc-570a-405f-9cdc-6b0d7c552cbc",
   "metadata": {},
   "outputs": [
    {
     "data": {
      "text/plain": [
       "RunnableBinding(bound=RunnableAssign(mapper={\n",
       "  context: RunnableBinding(bound=RunnableBranch(branches=[(RunnableLambda(lambda x: not x.get('chat_history', False)), RunnableLambda(lambda x: x['input'])\n",
       "           | EnsembleRetriever(retrievers=[BM25Retriever(vectorizer=<rank_bm25.BM25Okapi object at 0x000001D6A5BEF250>, k=5), VectorStoreRetriever(tags=['FAISS', 'OpenAIEmbeddings'], vectorstore=<langchain_community.vectorstores.faiss.FAISS object at 0x000001D6A5CB88E0>, search_kwargs={'k': 5})], weights=[0.65, 0.35]))], default=ChatPromptTemplate(input_variables=['chat_history', 'input'], input_types={'chat_history': typing.List[typing.Union[langchain_core.messages.ai.AIMessage, langchain_core.messages.human.HumanMessage, langchain_core.messages.chat.ChatMessage, langchain_core.messages.system.SystemMessage, langchain_core.messages.function.FunctionMessage, langchain_core.messages.tool.ToolMessage]]}, messages=[SystemMessagePromptTemplate(prompt=PromptTemplate(input_variables=[], template='\\n주요 목표는 사용자의 질문을 이해하기 쉽게 다시 작성하는 것입니다.\\n사용자의 질문과 채팅 기록이 주어졌을 때, 채팅 기록의 맥락을 참조할 수 있습니다.\\n채팅 기록이 없더라도 이해할 수 있는 독립적인 질문으로 작성하세요.\\n질문에 바로 대답하지 말고, 필요하다면 질문을 다시 작성하세요. 그렇지 않다면 질문을 그대로 반환합니다.        \\n')), MessagesPlaceholder(variable_name='chat_history'), HumanMessagePromptTemplate(prompt=PromptTemplate(input_variables=['input'], template='{input}'))])\n",
       "           | ChatOpenAI(client=<openai.resources.chat.completions.Completions object at 0x000001D6A5D4FB50>, async_client=<openai.resources.chat.completions.AsyncCompletions object at 0x000001D6A630E740>, temperature=0.0, openai_api_key=SecretStr('**********'), openai_proxy='', max_tokens=2048)\n",
       "           | StrOutputParser()\n",
       "           | EnsembleRetriever(retrievers=[BM25Retriever(vectorizer=<rank_bm25.BM25Okapi object at 0x000001D6A5BEF250>, k=5), VectorStoreRetriever(tags=['FAISS', 'OpenAIEmbeddings'], vectorstore=<langchain_community.vectorstores.faiss.FAISS object at 0x000001D6A5CB88E0>, search_kwargs={'k': 5})], weights=[0.65, 0.35])), config={'run_name': 'retrieve_documents'})\n",
       "})\n",
       "| RunnableAssign(mapper={\n",
       "    answer: RunnableBinding(bound=RunnableBinding(bound=RunnableAssign(mapper={\n",
       "              context: RunnableLambda(format_docs)\n",
       "            }), config={'run_name': 'format_inputs'})\n",
       "            | ChatPromptTemplate(input_variables=['chat_history', 'context', 'input'], input_types={'chat_history': typing.List[typing.Union[langchain_core.messages.ai.AIMessage, langchain_core.messages.human.HumanMessage, langchain_core.messages.chat.ChatMessage, langchain_core.messages.system.SystemMessage, langchain_core.messages.function.FunctionMessage, langchain_core.messages.tool.ToolMessage]]}, messages=[SystemMessagePromptTemplate(prompt=PromptTemplate(input_variables=['context', 'input'], template='\\n당신은 질문에 대해 정보를 제공해주는 어시스턴트입니다.\\n소규모 기업 혹은 스타트업에 인도에 수출 사업을 도와 사실 기반의 정보만을 제공해주면서 가능한 한 도움이 되도록 만들어졌습니다.\\n사전 정보가 아닌 주어진 자료를 참고하여 정보를 제공해주세요.\\n만약 자료에 나와있지 않는 상황의 경우에는 인터넷에 검색해보라고 말해주세요.\\n\\n자료:\\n{context}\\n\\n질문:\\n{input}\\n\\nFORMAT:\\n- 진출 사업\\n- 진출 사업 동향\\n- 진출 사업 메리트\\n- 진출 사업 관련 정책\\n- 진출 사업을 위한 도움말\\n- 진출 사업 관련 알아야 할 것들\\n')), MessagesPlaceholder(variable_name='chat_history'), HumanMessagePromptTemplate(prompt=PromptTemplate(input_variables=['input'], template='{input}'))])\n",
       "            | ChatOpenAI(client=<openai.resources.chat.completions.Completions object at 0x000001D6A5D4FB50>, async_client=<openai.resources.chat.completions.AsyncCompletions object at 0x000001D6A630E740>, temperature=0.0, openai_api_key=SecretStr('**********'), openai_proxy='', max_tokens=2048)\n",
       "            | StrOutputParser(), config={'run_name': 'stuff_documents_chain'})\n",
       "  }), config={'run_name': 'retrieval_chain'})"
      ]
     },
     "execution_count": 43,
     "metadata": {},
     "output_type": "execute_result"
    }
   ],
   "source": [
    "rag_chain"
   ]
  },
  {
   "cell_type": "code",
   "execution_count": 44,
   "id": "cfbd02fa-1e2c-4a5a-87f5-83c54983e8e8",
   "metadata": {
    "scrolled": true
   },
   "outputs": [],
   "source": [
    "query = \"인도 DRI(국세정보국) 관세조사 시 대응방안에 대한 사례를 알려주세요.\"\n",
    "result = rag_chain.invoke(\n",
    "    {\n",
    "        \"input\": query,\n",
    "        \"chat_history\": [],\n",
    "    }\n",
    ")"
   ]
  },
  {
   "cell_type": "code",
   "execution_count": 45,
   "id": "6a49420e-4a86-4b56-acbc-f08988af1375",
   "metadata": {},
   "outputs": [
    {
     "data": {
      "text/plain": [
       "'**진출 사업:** 인도 DRI(국세정보국) 관세조사 시 대응방안\\n\\n**진출 사업 동향:** 인도 DRI(국세정보국)의 관세조사는 자동차 부품 관련 자의적 해석에 근거하여 시행되고 있습니다.\\n\\n**진출 사업 메리트:** 대비책을 마련하여 관세조사에 대응할 수 있다면, 한-인도 CEPA 활용 불가 및 차액 관세 납부 등의 피해를 최소화할 수 있습니다.\\n\\n**진출 사업 관련 정책:** 2022년 1월 5일, 인도 관세간접세위원회(CBIC)는 세관 및 국세정보국(DRI)의 자의적 품목분류를 규제하기 위한 지침을 발표하였습니다.\\n\\n**진출 사업을 위한 도움말:** 관련 기업들은 근거자료를 확보하고, HS 협약에 따른 규정을 우선 적용하며 다양한 사례를 종합적으로 참고하여 판단해야 합니다.\\n\\n**진출 사업 관련 알아야 할 것들:** 관세 관련 고시 및 지침은 인도 관세간접세위원회(CBIC)의 공식 웹사이트에서 확인할 수 있으며, 관세조사에 대비하는 대응방안을 마련하는 것이 중요합니다.'"
      ]
     },
     "execution_count": 45,
     "metadata": {},
     "output_type": "execute_result"
    }
   ],
   "source": [
    "result['answer']"
   ]
  },
  {
   "cell_type": "code",
   "execution_count": 46,
   "id": "2bc91b02-be76-49a7-a82d-dd014762c130",
   "metadata": {
    "scrolled": true
   },
   "outputs": [],
   "source": [
    "query = \"원산지증명서 오류 발급 시 정정 방법을 알려줘\"\n",
    "result = rag_chain.invoke(\n",
    "    {\n",
    "        \"input\": query,\n",
    "        \"chat_history\": [],\n",
    "    }\n",
    ")"
   ]
  },
  {
   "cell_type": "code",
   "execution_count": 47,
   "id": "2c80436c-4e69-4118-adf7-3d373edf0da9",
   "metadata": {},
   "outputs": [
    {
     "data": {
      "text/plain": [
       "\"원산지증명서 오류 발급 시 정정하는 방법은 다음과 같습니다:\\n\\n1. 한-인도 CEPA 협정에 따르면 수출국에서 선적일로부터 7일 이내에 원산지증명서를 발급하여야 합니다. 7일 이후에 발급된 원산지증명서의 경우에는 '소급적용(ISSUED RETROSPECTIVELY)' 문구가 표시되어 있어야 합니다. 만약 이 내용이 협정과 다르게 표시되어 있다면, 원산지증명서 오류로 간주됩니다.\\n\\n2. 원산지증명서 오류가 발생했을 경우, 정정을 위해 다음 단계를 따를 수 있습니다:\\n   - 한국 세관에 원산지증명서 정정신청을 합니다.\\n   - 정정된 원산지증명서를 제출하고, 한-인도 CEPA를 적용합니다.\\n   - 원산지증명서의 원본(오류 발급본)을 회수합니다.\\n\\n3. 원산지증명서의 정정을 통해 한-인도 CEPA를 빠르게 적용할 수 있도록 하기 위해, 관련 당국과 협의하여 정확한 절차를 따라야 합니다.\\n\\n이러한 절차를 통해 원산지증명서 오류를 정정하고, 한-인도 CEPA 협정을 적용할 수 있습니다.\""
      ]
     },
     "execution_count": 47,
     "metadata": {},
     "output_type": "execute_result"
    }
   ],
   "source": [
    "result['answer']"
   ]
  },
  {
   "cell_type": "code",
   "execution_count": 48,
   "id": "dcc1e5ae-e696-4871-8462-25e8bcac4d9c",
   "metadata": {},
   "outputs": [],
   "source": [
    "from langchain_community.chat_message_histories import ChatMessageHistory\n",
    "from langchain_core.chat_history import BaseChatMessageHistory\n",
    "from langchain_core.runnables.history import RunnableWithMessageHistory\n",
    "\n",
    "\n",
    "store = {}  # 세션 기록을 저장할 딕셔너리\n",
    "\n",
    "\n",
    "def get_session_history(session_ids: str) -> BaseChatMessageHistory:\n",
    "    print(session_ids)\n",
    "    if session_ids not in store:  # 세션 ID가 store에 없는 경우\n",
    "        # 새로운 ChatMessageHistory 객체를 생성하여 store에 저장\n",
    "        store[session_ids] = ChatMessageHistory()\n",
    "    return store[session_ids]  # 해당 세션 ID에 대한 세션 기록 반환\n",
    "\n",
    "\n",
    "with_message_history = (\n",
    "    RunnableWithMessageHistory(  # RunnableWithMessageHistory 객체 생성\n",
    "        rag_chain,  # 실행할 Runnable 객체\n",
    "        get_session_history,  # 세션 기록을 가져오는 함수\n",
    "        input_messages_key=\"input\",  # 입력 메시지의 키\n",
    "        history_messages_key=\"history\",  # 기록 메시지의 키\n",
    "    )\n",
    ")"
   ]
  },
  {
   "cell_type": "code",
   "execution_count": 49,
   "id": "4c7505bf-923e-460e-bad5-e815a0325d63",
   "metadata": {},
   "outputs": [
    {
     "name": "stdout",
     "output_type": "stream",
     "text": [
      "abc123\n"
     ]
    },
    {
     "name": "stderr",
     "output_type": "stream",
     "text": [
      "Error in RootListenersTracer.on_chain_end callback: KeyError('output')\n"
     ]
    }
   ],
   "source": [
    "query = \"원산지증명서 오류 발급 시 정정 방법을 알려줘\"\n",
    "SESSION_ID = \"abc123\"\n",
    "\n",
    "result = with_message_history.invoke(\n",
    "    # 수학 관련 질문 \"코사인의 의미는 무엇인가요?\"를 입력으로 전달합니다.\n",
    "    {\n",
    "        \"input\": query,\n",
    "        \"chat_history\": [],\n",
    "    },\n",
    "    # 설정 정보로 세션 ID \"abc123\"을 전달합니다.\n",
    "    config={\"configurable\": {\"session_id\": SESSION_ID}},\n",
    ")"
   ]
  },
  {
   "cell_type": "code",
   "execution_count": 50,
   "id": "2e13354f-b58d-4f05-aca7-34346fd26fdb",
   "metadata": {},
   "outputs": [
    {
     "data": {
      "text/plain": [
       "'원산지증명서 오류 발급 시 정정 방법은 다음과 같습니다:\\n\\n1. 한국 세관에 원산지증명서 정정신청을 합니다.\\n2. 정정된 원산지증명서를 제출하고, 한-인도 CEPA를 적용합니다.\\n3. 원산지증명서의 원본(오류 발급본)을 회수합니다.\\n\\n이러한 절차를 통해 오류가 있는 원산지증명서를 정정하고, 한-인도 CEPA를 적용할 수 있습니다.원산지증명서의 정정은 신속하게 처리되어야 하며, 관련된 모든 당사자들에게 적절히 통보되어야 합니다.'"
      ]
     },
     "execution_count": 50,
     "metadata": {},
     "output_type": "execute_result"
    }
   ],
   "source": [
    "result['answer']"
   ]
  },
  {
   "cell_type": "code",
   "execution_count": 51,
   "id": "a5160d90-c6ef-4479-a836-e3b1d4b95783",
   "metadata": {},
   "outputs": [
    {
     "name": "stdout",
     "output_type": "stream",
     "text": [
      "abc123\n"
     ]
    },
    {
     "name": "stderr",
     "output_type": "stream",
     "text": [
      "Error in RootListenersTracer.on_chain_end callback: KeyError('output')\n"
     ]
    },
    {
     "data": {
      "text/plain": [
       "'**진출 사업:** 인도 DRI(국세정보국) 관세조사 시 대응방안\\n\\n**진출 사업 동향:** 인도 DRI(국세정보국)의 관세조사는 자동차 부품 관련 자의적 해석에 근거한 조사를 시행하고 있으며, 이로 인해 한-인도 CEPA 활용 불가 및 차액 관세 납부 등의 피해가 발생하고 있습니다.\\n\\n**진출 사업 메리트:** 대비책을 마련하여 인도 DRI(국세정보국)의 관세조사에 대응할 수 있다면, 한-인도 CEPA 혜택을 최대한 활용하고 추가 관세 부담을 최소화할 수 있습니다.\\n\\n**진출 사업 관련 정책:** 2022년 1월 5일, 인도 관세간접세위원회(CBIC)가 세관 및 국세정보국(DRI)의 자의적 품목분류를 규제하기 위한 지침을 발표하였습니다.\\n\\n**진출 사업을 위한 도움말:** 관련 기업들은 근거자료를 확보하고, HS 협약에 따른 규정을 우선 적용하며, 다양한 사례를 종합적으로 참고하여 판단하는 것이 중요합니다.\\n\\n**진출 사업 관련 알아야 할 것들:** 인도 DRI(국세정보국)의 관세조사에 대비하기 위해서는 정확한 원산지증명서를 제출하고, HS 코드에 대한 이해와 관련 서류를 준비하는 것이 중요합니다. 또한, 인도 관세간접세위원회(CBIC)의 공식 웹사이트를 통해 관세 관련 고시 및 지침을 확인하는 것이 도움이 될 수 있습니다.'"
      ]
     },
     "execution_count": 51,
     "metadata": {},
     "output_type": "execute_result"
    }
   ],
   "source": [
    "query = \"인도 DRI(국세정보국) 관세조사 시 대응방안에 대한 사례를 알려주세요.\"\n",
    "SESSION_ID = \"abc123\"\n",
    "\n",
    "result = with_message_history.invoke(\n",
    "    # 수학 관련 질문 \"코사인의 의미는 무엇인가요?\"를 입력으로 전달합니다.\n",
    "    {\n",
    "        \"input\": query,\n",
    "        \"chat_history\": [],\n",
    "    },\n",
    "    # 설정 정보로 세션 ID \"abc123\"을 전달합니다.\n",
    "    config={\"configurable\": {\"session_id\": SESSION_ID}},\n",
    ")\n",
    "\n",
    "result['answer']"
   ]
  },
  {
   "cell_type": "code",
   "execution_count": null,
   "id": "cbc40dac-d8d3-4f10-8e8b-811f0d690862",
   "metadata": {},
   "outputs": [],
   "source": []
  },
  {
   "cell_type": "code",
   "execution_count": 61,
   "id": "ef323524-c636-4c80-a9ad-0e66c49bf6dd",
   "metadata": {},
   "outputs": [
    {
     "name": "stderr",
     "output_type": "stream",
     "text": [
      "C:\\Users\\User\\anaconda3\\envs\\BP\\lib\\site-packages\\langchain_core\\_api\\deprecation.py:139: LangChainDeprecationWarning: The class `OpenAIEmbeddings` was deprecated in LangChain 0.0.9 and will be removed in 0.3.0. An updated version of the class exists in the langchain-openai package and should be used instead. To use it run `pip install -U langchain-openai` and import as `from langchain_openai import OpenAIEmbeddings`.\n",
      "  warn_deprecated(\n"
     ]
    }
   ],
   "source": [
    "embeddings = OpenAIEmbeddings( model=\"text-embedding-ada-002\" )    \n",
    "# 나중에 허깅페이스에서 임베딩 모델 가져오기 \n",
    "\n",
    "persist_dir = \"./database\"\n",
    "\n",
    "vector_store = Chroma(\n",
    "    persist_directory=persist_dir,  # 있으면 가져오고 없으면 생성\n",
    "    embedding_function=embeddings\n",
    ")\n",
    "\n"
   ]
  },
  {
   "cell_type": "code",
   "execution_count": null,
   "id": "eed8eee5-447f-45a5-88dd-fe3cd00619ad",
   "metadata": {},
   "outputs": [],
   "source": [
    "vector_store.add_documents()"
   ]
  },
  {
   "cell_type": "code",
   "execution_count": 65,
   "id": "93a5cf2d-f1f9-45dc-a347-7509f5cd5049",
   "metadata": {
    "scrolled": true
   },
   "outputs": [
    {
     "data": {
      "text/plain": [
       "Document(page_content='사례로 정리해보는\\n한-인도 CEPA \\n활용법 및 인도 통상 애로\\nKOTRA자료 22-055\\n', metadata={'source': './data/[법률_규범_특허][코트라][2022]한-인도 CEPA 활용법 및 인도 통상 애로.pdf', 'file_path': './data/[법률_규범_특허][코트라][2022]한-인도 CEPA 활용법 및 인도 통상 애로.pdf', 'page': 0, 'total_pages': 41, 'format': 'PDF 1.6', 'title': '', 'author': '', 'subject': '', 'keywords': '', 'creator': 'Adobe InDesign 17.2 (Macintosh)', 'producer': 'Adobe PDF Library 16.0.7', 'creationDate': \"D:20220610145706+09'00'\", 'modDate': \"D:20220614154828+09'00'\", 'trapped': ''})"
      ]
     },
     "execution_count": 65,
     "metadata": {},
     "output_type": "execute_result"
    }
   ],
   "source": [
    "docs[0]"
   ]
  },
  {
   "cell_type": "code",
   "execution_count": 66,
   "id": "4ff011f1-01db-4869-bc98-cccac409fa4f",
   "metadata": {},
   "outputs": [
    {
     "data": {
      "text/plain": [
       "'사례로 정리해보는\\n한-인도 CEPA \\n활용법 및 인도 통상 애로\\nKOTRA자료 22-055\\n'"
      ]
     },
     "execution_count": 66,
     "metadata": {},
     "output_type": "execute_result"
    }
   ],
   "source": [
    "docs[0].page_content"
   ]
  },
  {
   "cell_type": "code",
   "execution_count": 69,
   "id": "24a92abb-6e4a-4c05-aea2-401d57513eb0",
   "metadata": {},
   "outputs": [
    {
     "ename": "AttributeError",
     "evalue": "'Document' object has no attribute 'get'",
     "output_type": "error",
     "traceback": [
      "\u001b[1;31m---------------------------------------------------------------------------\u001b[0m",
      "\u001b[1;31mAttributeError\u001b[0m                            Traceback (most recent call last)",
      "Cell \u001b[1;32mIn[69], line 1\u001b[0m\n\u001b[1;32m----> 1\u001b[0m \u001b[43mdocs\u001b[49m\u001b[43m[\u001b[49m\u001b[38;5;241;43m0\u001b[39;49m\u001b[43m]\u001b[49m\u001b[38;5;241;43m.\u001b[39;49m\u001b[43mget\u001b[49m()\n",
      "\u001b[1;31mAttributeError\u001b[0m: 'Document' object has no attribute 'get'"
     ]
    }
   ],
   "source": [
    "docs[0].get()"
   ]
  },
  {
   "cell_type": "code",
   "execution_count": null,
   "id": "1a876992-0c75-4c51-a3c5-89e97d8925e3",
   "metadata": {},
   "outputs": [],
   "source": []
  }
 ],
 "metadata": {
  "kernelspec": {
   "display_name": "BP",
   "language": "python",
   "name": "bp"
  },
  "language_info": {
   "codemirror_mode": {
    "name": "ipython",
    "version": 3
   },
   "file_extension": ".py",
   "mimetype": "text/x-python",
   "name": "python",
   "nbconvert_exporter": "python",
   "pygments_lexer": "ipython3",
   "version": "3.10.14"
  }
 },
 "nbformat": 4,
 "nbformat_minor": 5
}
