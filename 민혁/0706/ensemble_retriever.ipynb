{
 "cells": [
  {
   "cell_type": "code",
   "execution_count": 2,
   "id": "b6f297eb-1f95-4d52-b787-e1f494209fb3",
   "metadata": {
    "tags": []
   },
   "outputs": [],
   "source": [
    "import os\n",
    "\n",
    "# print(f\"[API KEY]\\n{os.environ['OPENAI_API_KEY']}\")\n",
    "\n",
    "from langchain_openai import ChatOpenAI\n",
    "from langchain_teddynote.messages import stream_response  # 스트리밍 출력\n",
    "from langchain_core.prompts import PromptTemplate\n",
    "from langchain.schema import HumanMessage, SystemMessage, Document\n",
    "from langchain.embeddings import OpenAIEmbeddings\n",
    "from langchain.vectorstores import Chroma\n",
    "from langchain.chains import RetrievalQA\n",
    "\n"
   ]
  },
  {
   "cell_type": "code",
   "execution_count": 3,
   "id": "c3dd68c1-7502-4f69-bc69-e3fddcf771b9",
   "metadata": {},
   "outputs": [],
   "source": [
    "from langchain.retrievers import BM25Retriever, EnsembleRetriever\n",
    "from langchain_community.vectorstores import FAISS\n",
    "from langchain_openai import OpenAIEmbeddings\n",
    "from langchain_huggingface import HuggingFaceEmbeddings\n",
    "from langchain_community.vectorstores import Chroma\n",
    "\n",
    "\n",
    "embeddings = OpenAIEmbeddings(model=\"text-embedding-ada-002\")\n",
    "persist_dir = './database'\n",
    "vector_store = Chroma(\n",
    "    persist_directory=persist_dir,  # 있으면 가져오고 없으면 생성\n",
    "    embedding_function=embeddings\n",
    ")"
   ]
  },
  {
   "cell_type": "code",
   "execution_count": 10,
   "id": "dc7fca45-6814-4165-8574-c389b7c434d3",
   "metadata": {},
   "outputs": [],
   "source": [
    "import pickle\n",
    "\n",
    "with open('all_docs.pkl', 'rb') as f:\n",
    "    all_docs = pickle.load(f)"
   ]
  },
  {
   "cell_type": "code",
   "execution_count": 12,
   "id": "5df6182e-28e0-4181-968c-24f1d3ebfdc6",
   "metadata": {},
   "outputs": [
    {
     "data": {
      "text/plain": [
       "1695"
      ]
     },
     "execution_count": 12,
     "metadata": {},
     "output_type": "execute_result"
    }
   ],
   "source": [
    "len(vector_store.get()['ids'])"
   ]
  },
  {
   "cell_type": "code",
   "execution_count": 13,
   "id": "c0698096-65f8-4f99-8e59-139276abe772",
   "metadata": {},
   "outputs": [],
   "source": [
    "bm25_retriever = BM25Retriever.from_documents(\n",
    "    all_docs,\n",
    ")\n",
    "bm25_retriever.k = 5"
   ]
  },
  {
   "cell_type": "code",
   "execution_count": 14,
   "id": "e5b7b004-43af-4d0e-966f-768a924b1e6a",
   "metadata": {},
   "outputs": [],
   "source": [
    "chroma_retriever = vector_store.as_retriever(\n",
    "    search_kwargs = {\"k\": 5},\n",
    "    search_type   = \"mmr\"\n",
    ")"
   ]
  },
  {
   "cell_type": "code",
   "execution_count": 15,
   "id": "763dd9a7-2c16-48bc-87e7-007812f9d4d9",
   "metadata": {},
   "outputs": [],
   "source": [
    "# Ensenble retriever 선언\n",
    "ensemble_retriever = EnsembleRetriever(\n",
    "\n",
    "    retrievers=[bm25_retriever, chroma_retriever],\n",
    "    weights=[0.65, 0.35], # 가중치\n",
    "    search_type='mmr', # mmr 기반\n",
    ")"
   ]
  },
  {
   "cell_type": "markdown",
   "id": "2bdd2769-2d65-4285-9394-4a77e89d436f",
   "metadata": {},
   "source": [
    "### chroma retriever, ensemble retriever 비교"
   ]
  },
  {
   "cell_type": "code",
   "execution_count": 16,
   "id": "76f846fa-fc4e-4be3-b613-00e0120b5397",
   "metadata": {},
   "outputs": [],
   "source": [
    "query = \"인도 DRI(국세정보국) 관세조사 시 대응방안에 대한 사례를 알려주세요.\""
   ]
  },
  {
   "cell_type": "code",
   "execution_count": 17,
   "id": "cb8b4718-8c6b-4985-9af4-2322688c55e1",
   "metadata": {
    "scrolled": true
   },
   "outputs": [
    {
     "name": "stderr",
     "output_type": "stream",
     "text": [
      "C:\\Users\\User\\anaconda3\\envs\\BP\\lib\\site-packages\\langchain_core\\_api\\deprecation.py:139: LangChainDeprecationWarning: The method `BaseRetriever.get_relevant_documents` was deprecated in langchain-core 0.1.46 and will be removed in 0.3.0. Use invoke instead.\n",
      "  warn_deprecated(\n"
     ]
    },
    {
     "data": {
      "text/plain": [
       "[Document(page_content='502023 재외공관의  해외진출기업 지원 사례집\\n■특히, 사실이 아닌 루머로 인해 불안감을 키우는 경우가 있는 만\\n큼, 대사관으로서는 주재국 노동/산업 당국과 긴밀한 관계를 구축하고, 우리 동포 기업인을 대상으로 대사관이 파악할 수 있는 최신 규제 관련 정보나 동향을 정기적으로 공유할 필요가 있음. ', metadata={'page': 49, 'source': 'data/PDF_with_contents/3. 정책 및 무역\\\\[국가지원사례][외교부][2023]재외공관의 해외진출기업 지원 사례집.pdf'}),\n",
       " Document(page_content='사례로 정리해보는\\n한-인도 CEPA \\n활용법 및 인도 통상 애로\\nKOTRA자료 22-055', metadata={'page': 0, 'source': 'data/PDF_with_contents/3. 정책 및 무역\\\\[법률_규범_특허][코트라][2022]한-인도 CEPA 활용법 및 인도 통상 애로.pdf'}),\n",
       " Document(page_content='145\\n제Ⅳ절 | 인도 통상정책1. 반덤핑·상계관세·긴급수입제한조치 조사 사례 조회방법\\n홈페이지 접속 http://www.dgtr.gov.in/\\n2. 확인하고자 하는 무역구제(반덤핑·상계관세·긴급수입제한조치) 조사 선택\\n① 반덤핑 조사(Antidumping Investigations)\\n② 상계관세 조사(Countervailing Duty Investigation)\\n③ 긴급수입제한조치 조사(Safeguard Investigation in India)\\n\\ue194\\ue192\\n\\ue193', metadata={'page': 146, 'source': 'data/PDF_with_contents/3. 정책 및 무역\\\\[정책][관세청][2019.11.07]신남방국 통관·통상환경 및 FTA 활용방안.pdf'}),\n",
       " Document(page_content='259Ⅰ\\nⅡ\\nⅢ\\nⅣ\\nⅤ\\nⅥ인도대사관\\n인도대사관\\n인도 진출 한국기업 CSR 우수사례집 발간  \\n1. 사례 개요\\n■인도는 회사법(Companies Act)으로 일정 조건을 만족하는 기업 \\n순이익의 2%를 CSR 활동에 강제 지출하게 하였고, 미 이행시 제재가 취해지는 유일한 국가\\n■인도 진출 한국기업의 우수 CSR 활동을 사례집으로 발간하여, \\nCSR 활동을 해야 하는 진출 기업에게 가이드라인을 제시하고 인도 정부와 인도인 대상으로 한국기업 이미지 제고  \\n2. 공관 지원조치 사항 \\n■2022.10월-11월   CSR 우수사례 공고 \\n■2022.12월 총 39건의 사례가 모집되었으며, 그중 5건을 선정\\n하여 해당 기업에 대사 명의로 ‘CSR 우수 기업 증서’ 수여\\n■2023.1월 한글본 CSR 우수사례집, 영문본 K-CSR 각각 발간 ', metadata={'page': 258, 'source': 'data/PDF_with_contents/3. 정책 및 무역\\\\[국가지원사례][외교부][2023]재외공관의 해외진출기업 지원 사례집.pdf'}),\n",
       " Document(page_content='<자료원 : 동 사이트 및 KOTRA 뉴델리 무역관 자료 종합> \\n ', metadata={'page': 140, 'source': 'data/PDF_with_contents/[전체 정보][KOTRA 해외경제정보 Dream][2023]인도.pdf'})]"
      ]
     },
     "execution_count": 17,
     "metadata": {},
     "output_type": "execute_result"
    }
   ],
   "source": [
    "chroma_retriever.get_relevant_documents(query)"
   ]
  },
  {
   "cell_type": "code",
   "execution_count": 18,
   "id": "c2f5eae4-2776-4113-a93d-e59e4d4d1562",
   "metadata": {
    "scrolled": true
   },
   "outputs": [
    {
     "data": {
      "text/plain": [
       "[Document(page_content='인도 수출 및 CEPA\\n활용 시 주의사항 알아두기   01\\n1. 품목분류  \\n가. HS코드 관련 인도세관의 품목분류 차이 발생 시 원산지증명서 발급 방법\\n나. 인도 DRI(국세정보국) 관세조사 시 대응방안\\n2. 원산지증명서  \\n가. 원산지증명서 오류 발급 시 정정 방법\\n나. 원산지증명서 원본 여부 논란 발생 시 대응방안\\n3. CEPA 활용  \\n가. 인도 CAROT AR 2020(원산지관리강화규칙)에 의한 Form I 작성 및 제출 방법\\n나. 2022년 HS협약 개정에 따라 HS코드가 변경된 물품의 수출 시 주의사항\\n다. 중고 설비 인도 수출 시 한-인도 CEPA 활용 방법사례로 정리해보는 한-인도\\nCEPA 활용법 및 인도 통상 애로\\n', metadata={'source': 'data/PDF_with_contents/3. 정책 및 무역\\\\[법률_규범_특허][코트라][2022]한-인도 CEPA 활용법 및 인도 통상 애로.pdf', 'page': 3}),\n",
       " Document(page_content='08 | 사례로 정리해보는 한-인도 CEPA 활용법 및 인도 통상 애로\\n기재하여 신청하면 가능하다. 다만, 한국과 인도의 양국에서 사용하는 HS 코드에 따른 원산지기준이 다를 경\\n우, 원산지기준을 모두 충족하여야 한다.\\n나. 인도 DRI(국세정보국) 관세조사 시 대응방안\\n① 주요 내용\\n2021년 3월, 철도 신호용 계전기 관련 인도 대법원의 판결(Westinghouse Saxby FarmerLtd. Vs. \\nCommisioner of Central Excise)에 따라 개별 부품이 자동차의 부품으로 분류될 근거가 됨으로써 인도 국\\n세정보국(DRI)는 자동차 부품 관련 자의적 해석에 근거한 관세조사를 시행하고 있다. 이로 인해, 인도에 진\\n출한 관련 기업들의 한-인도 CEPA  활용 불가 및 차액 관세 납부 등의 피해가 발생하고 있다. 한-인도 CEPA 적용을 위한 원산지증명서 서식\\n자료: 한-인도 CEPA 협정문', metadata={'source': 'data/PDF_with_contents/3. 정책 및 무역\\\\[법률_규범_특허][코트라][2022]한-인도 CEPA 활용법 및 인도 통상 애로.pdf', 'page': 6}),\n",
       " Document(page_content='CONTENTS사례로 정리해보는\\n한-인도 CEPA \\n활용법 및 인도 통상 애로\\n01. 인도 수출 및 CEPA 활용 시 주의사항 알아두기   \\n1. 품목분류    / 06\\n 가.  HS코드 관련 인도세관의 품목분류 차이 발생 시 원산지증명서 발급 방법   / 06\\n 나. 인도 DRI(국세정보국) 관세조사 시 대응방안   / 08\\n2. 원산지증명서    / 11\\n 가. 원산지증명서 오류 발급 시 정정 방법   / 11\\n 나. 원산지증명서 원본 여부 논란 발생 시 대응방안   / 12\\n3. CEPA 활용    / 14\\n 가. 인도 CAROTAR 2020(원산지관리강화규칙)에 의한 Form I  \\n  작성 및 제출 방법   / 14\\n 나.  2022년 HS협약 개정에 따라 HS코드가 변경된 물품의 수출 시 주의사항   / 17\\n 다. 중고 설비 인도 수출 시 한-인도 CEPA 활용 방법   / 19\\n02. 인도 비관세장벽 이해하기 \\n1. 인증제도    / 22\\n 가. BIS 인증대상 확대 및 인증진행 지연   / 22\\n  [참고] BIS 인증제도 개요\\n  나. 인도 지정실험실에 샘플 발송 시 주의사항   / 27\\n  다. 화장품 인증 완료 후 까다로운 라벨링 부착 규정   / 29\\n  [참고] CDSCO 인증제도 개요\\n2. 수입 전 등록 및 허가제도    / 32\\n 가. 철강제품 수입 전 모니터링 시스템 상 화물정보 등록 의무   / 32\\n  [참고]인도의 수입모니터링 시스템\\n 나. 인도 대외무역총국(DGFT) 수입 전 허가제도   / 35\\n  [참고]수입허가 신청방법\\n', metadata={'source': 'data/PDF_with_contents/3. 정책 및 무역\\\\[법률_규범_특허][코트라][2022]한-인도 CEPA 활용법 및 인도 통상 애로.pdf', 'page': 2}),\n",
       " Document(page_content='10 | 사례로 정리해보는 한-인도 CEPA 활용법 및 인도 통상 애로\\n전기의 품목분류 관련 인도 대법원 판결의 내용을 확대 적용하여 일반화하지 않도록 요청 및 부품(Parts)의 \\n품목분류 시 HS 협약을 우선 적용하고 다양한 사례를 참고할 것을 강조하였다. 뉴델리·첸나이 CEPA활용지\\n원센터는 관련 기업들에게 국세정보국(DRI)이 자의적인 품목분류 해석을 통한 조사 및 추가 관세 납부를 요\\n구할 수 있으므로 이에 대응할 수 있도록 근거자료를 확보할 것을 안내 및 해당 지침의 내용을 공유하였다.\\n③ 시사점\\n2022년 1월 5일, 인도 관세간접세위원회(CBIC)는 세관 및 국세정보국(DRI)의 자의적 품목분류를 규제하\\n기 위한 지침(Instruction No.01/2022-Customs)을 발표하였다. 이를 통해 철도 신호용 계전기 관련 품목\\n분류에 대한 인도 대법원 판결(Westinghouse Saxby FarmerLtd. Vs. Commisioner of Central Excise)\\n을 개별 부품을 자동차 부품에 분류할 수 있는 법적근거로 확대 해석하지 않도록 환기하였다. 또한, 부품\\n(Parts)의 품목분류 시, HS 협약에 따른 규정을 우선 적용하고 해당 품목과 관련된 다양한 사례를 종합적으\\n로 참고하여 판단 할 것을 권고하였다. 관세 관련 고시 및 지침은 인도 관세간접세위원회(CBIC)의 공식 웹사\\n이트에서 확인 가능하다. \\n<인도 관세간접세위원회(CBIC) 지침 조회 화면>\\n자료: https://www.cbic.gov.in/Customs-Circulars-Instructions\\n', metadata={'source': 'data/PDF_with_contents/3. 정책 및 무역\\\\[법률_규범_특허][코트라][2022]한-인도 CEPA 활용법 및 인도 통상 애로.pdf', 'page': 8}),\n",
       " Document(page_content='185Ⅰ\\nⅡ\\nⅢ\\nⅣ\\nⅤ\\nⅥ로스앤젤레스총영사관\\n대상으로 미국 내 실험실을 소개하고 실험실의 최근 동향에 대\\n해서 설명 (참석자 : 총 93명 / 현장 참석: 32명, 온라인 참석: 61명)\\n■2023.7.27. 미 서부 진출 한인 바이오텍 및 생명 기업 대상 웨\\n비나 (인공지능의 헬스케어 분야 적용) 개최 \\n- 한국 생명공학 및 헬스케어 기업들을 대상으로 AI 기술의 헬스\\n케어 적용에 대한 최신 투자 동향, FDA 규제에 대한 정보를 제공하고, 실제 AI 기술을 적용하고 있는 헬스케어 기업의 사례를 공유(참석자 : 총 83명)\\n■2023.12.7. \"생명공학 기업들이 미국에서 투자받는 방법(투자자 \\n관점)”에 대한 웨비나 개최 \\n- 미국 내에서 활동하는 5명의 벤처기업 투자가(VC: Venture \\nCapital)를 초청해서 패널 형식으로 진행. 최근 미국의 계속되는 금리 인상과 한국 내 경기둔화로 인해서 바이오산업의 투자 환경이 많이 악화된바, 미국 투자자의 관점에서 한국기업이 미국에서 투자받기 위한 전략을 논의\\n4. 공관 조치 결과\\n■주로스앤젤레스총영사관은 세미나 동영상 녹화 자료를 공관 유튜\\n브 채널에 게재하여 관심 있는 이들이 활용할 수 있도록 조치\\n5. 시사점 및 참고사항\\n■2022년 최초 시행한 웨비나를 2023년도에 지속 시행함으로써 \\n세미나 참석자 증가 유도 및 홍보 효과 측면에서 더 큰 효과 거양', metadata={'source': 'data/PDF_with_contents/3. 정책 및 무역\\\\[국가지원사례][외교부][2023]재외공관의 해외진출기업 지원 사례집.pdf', 'page': 184}),\n",
       " Document(page_content='502023 재외공관의  해외진출기업 지원 사례집\\n■특히, 사실이 아닌 루머로 인해 불안감을 키우는 경우가 있는 만\\n큼, 대사관으로서는 주재국 노동/산업 당국과 긴밀한 관계를 구축하고, 우리 동포 기업인을 대상으로 대사관이 파악할 수 있는 최신 규제 관련 정보나 동향을 정기적으로 공유할 필요가 있음. ', metadata={'page': 49, 'source': 'data/PDF_with_contents/3. 정책 및 무역\\\\[국가지원사례][외교부][2023]재외공관의 해외진출기업 지원 사례집.pdf'}),\n",
       " Document(page_content='사례로 정리해보는\\n한-인도 CEPA \\n활용법 및 인도 통상 애로\\nKOTRA자료 22-055', metadata={'page': 0, 'source': 'data/PDF_with_contents/3. 정책 및 무역\\\\[법률_규범_특허][코트라][2022]한-인도 CEPA 활용법 및 인도 통상 애로.pdf'}),\n",
       " Document(page_content='145\\n제Ⅳ절 | 인도 통상정책1. 반덤핑·상계관세·긴급수입제한조치 조사 사례 조회방법\\n홈페이지 접속 http://www.dgtr.gov.in/\\n2. 확인하고자 하는 무역구제(반덤핑·상계관세·긴급수입제한조치) 조사 선택\\n① 반덤핑 조사(Antidumping Investigations)\\n② 상계관세 조사(Countervailing Duty Investigation)\\n③ 긴급수입제한조치 조사(Safeguard Investigation in India)\\n\\ue194\\ue192\\n\\ue193', metadata={'page': 146, 'source': 'data/PDF_with_contents/3. 정책 및 무역\\\\[정책][관세청][2019.11.07]신남방국 통관·통상환경 및 FTA 활용방안.pdf'}),\n",
       " Document(page_content='259Ⅰ\\nⅡ\\nⅢ\\nⅣ\\nⅤ\\nⅥ인도대사관\\n인도대사관\\n인도 진출 한국기업 CSR 우수사례집 발간  \\n1. 사례 개요\\n■인도는 회사법(Companies Act)으로 일정 조건을 만족하는 기업 \\n순이익의 2%를 CSR 활동에 강제 지출하게 하였고, 미 이행시 제재가 취해지는 유일한 국가\\n■인도 진출 한국기업의 우수 CSR 활동을 사례집으로 발간하여, \\nCSR 활동을 해야 하는 진출 기업에게 가이드라인을 제시하고 인도 정부와 인도인 대상으로 한국기업 이미지 제고  \\n2. 공관 지원조치 사항 \\n■2022.10월-11월   CSR 우수사례 공고 \\n■2022.12월 총 39건의 사례가 모집되었으며, 그중 5건을 선정\\n하여 해당 기업에 대사 명의로 ‘CSR 우수 기업 증서’ 수여\\n■2023.1월 한글본 CSR 우수사례집, 영문본 K-CSR 각각 발간 ', metadata={'page': 258, 'source': 'data/PDF_with_contents/3. 정책 및 무역\\\\[국가지원사례][외교부][2023]재외공관의 해외진출기업 지원 사례집.pdf'}),\n",
       " Document(page_content='<자료원 : 동 사이트 및 KOTRA 뉴델리 무역관 자료 종합> \\n ', metadata={'page': 140, 'source': 'data/PDF_with_contents/[전체 정보][KOTRA 해외경제정보 Dream][2023]인도.pdf'})]"
      ]
     },
     "execution_count": 18,
     "metadata": {},
     "output_type": "execute_result"
    }
   ],
   "source": [
    "ensemble_retriever.get_relevant_documents(query)"
   ]
  },
  {
   "cell_type": "markdown",
   "id": "ee435db7-4203-4e19-99bf-489a4e0990c1",
   "metadata": {},
   "source": [
    "## TESTING"
   ]
  },
  {
   "cell_type": "code",
   "execution_count": 19,
   "id": "5febb44b-a337-4c1c-9103-fe4aa2725aa9",
   "metadata": {},
   "outputs": [],
   "source": [
    "from langchain_core.prompts import ChatPromptTemplate, MessagesPlaceholder\n",
    "\n",
    "\n",
    "\n",
    "# 사용자 질문 맥락화 프롬프트\n",
    "contextualize_q_system_prompt = \"\"\"\n",
    "주요 목표는 사용자의 질문을 이해하기 쉽게 다시 작성하는 것입니다.\n",
    "사용자의 질문과 채팅 기록이 주어졌을 때, 채팅 기록의 맥락을 참조할 수 있습니다.\n",
    "채팅 기록이 없더라도 이해할 수 있는 독립적인 질문으로 작성하세요.\n",
    "질문에 바로 대답하지 말고, 필요하다면 질문을 다시 작성하세요. 그렇지 않다면 질문을 그대로 반환합니다.        \n",
    "\"\"\"\n",
    "contextualize_q_prompt = ChatPromptTemplate.from_messages([\n",
    "    (\"system\", contextualize_q_system_prompt),\n",
    "    MessagesPlaceholder(\"chat_history\"),\n",
    "    (\"human\", \"{input}\"),\n",
    "])\n",
    "\n",
    "# 질문 프롬프트\n",
    "qa_system_prompt = \"\"\"\n",
    "당신은 질문에 대해 정보를 제공해주는 어시스턴트입니다.\n",
    "소규모 기업 혹은 스타트업에 인도에 수출 사업을 도와 사실 기반의 정보만을 제공해주면서 가능한 한 도움이 되도록 만들어졌습니다.\n",
    "사전 정보가 아닌 주어진 자료를 참고하여 정보를 제공해주세요.\n",
    "만약 자료에 나와있지 않는 상황의 경우에는 인터넷에 검색해보라고 말해주세요.\n",
    "\n",
    "자료:\n",
    "{context}\n",
    "\n",
    "질문:\n",
    "{input}\n",
    "\n",
    "FORMAT:\n",
    "- 진출 사업\n",
    "- 진출 사업 동향\n",
    "- 진출 사업 메리트\n",
    "- 진출 사업 관련 정책\n",
    "- 진출 사업을 위한 도움말\n",
    "- 진출 사업 관련 알아야 할 것들\n",
    "\"\"\"\n",
    "\n",
    "qa_prompt = ChatPromptTemplate.from_messages([\n",
    "    (\"system\", qa_system_prompt),\n",
    "    MessagesPlaceholder(\"chat_history\"),\n",
    "    (\"human\", \"{input}\"),\n",
    "])"
   ]
  },
  {
   "cell_type": "code",
   "execution_count": 20,
   "id": "68bffe26-f3df-4ac0-b8ea-7c9a2357e049",
   "metadata": {
    "tags": []
   },
   "outputs": [],
   "source": [
    "llm = ChatOpenAI(\n",
    "    model=\"gpt-3.5-turbo\",\n",
    "    max_tokens=2048,\n",
    "    temperature=0,\n",
    ")"
   ]
  },
  {
   "cell_type": "code",
   "execution_count": 21,
   "id": "1b112a1f-1ed1-4f30-a2b8-58aa86b9ea9f",
   "metadata": {
    "tags": []
   },
   "outputs": [],
   "source": [
    "# from langchain_core.output_parsers import StrOutputParser\n",
    "from langchain_core.runnables import RunnableParallel, RunnablePassthrough\n",
    "from langchain_core.output_parsers.string import StrOutputParser\n",
    "from langchain.chains import create_history_aware_retriever\n",
    "from langchain.chains.retrieval import create_retrieval_chain\n",
    "from langchain.chains.combine_documents import create_stuff_documents_chain\n",
    "from operator import itemgetter\n",
    "output_parser = StrOutputParser()\n",
    "\n",
    "\n",
    "history_aware_retriever = create_history_aware_retriever(\n",
    "    llm = llm,\n",
    "    retriever = ensemble_retriever,\n",
    "    prompt = contextualize_q_prompt\n",
    ")\n",
    "\n",
    "# 응답 생성 + 프롬프트 엔지니어링\n",
    "question_answer_chain = create_stuff_documents_chain(llm, qa_prompt)\n",
    "\n",
    "rag_chain = create_retrieval_chain(history_aware_retriever, question_answer_chain)\n",
    "\n"
   ]
  },
  {
   "cell_type": "code",
   "execution_count": 22,
   "id": "16ea74fc-570a-405f-9cdc-6b0d7c552cbc",
   "metadata": {},
   "outputs": [
    {
     "data": {
      "text/plain": [
       "RunnableBinding(bound=RunnableAssign(mapper={\n",
       "  context: RunnableBinding(bound=RunnableBranch(branches=[(RunnableLambda(lambda x: not x.get('chat_history', False)), RunnableLambda(lambda x: x['input'])\n",
       "           | EnsembleRetriever(retrievers=[BM25Retriever(vectorizer=<rank_bm25.BM25Okapi object at 0x0000015C1A9D3F10>, k=5), VectorStoreRetriever(tags=['Chroma', 'OpenAIEmbeddings'], vectorstore=<langchain_community.vectorstores.chroma.Chroma object at 0x0000015C76AFF2E0>, search_type='mmr', search_kwargs={'k': 5})], weights=[0.65, 0.35]))], default=ChatPromptTemplate(input_variables=['chat_history', 'input'], input_types={'chat_history': typing.List[typing.Union[langchain_core.messages.ai.AIMessage, langchain_core.messages.human.HumanMessage, langchain_core.messages.chat.ChatMessage, langchain_core.messages.system.SystemMessage, langchain_core.messages.function.FunctionMessage, langchain_core.messages.tool.ToolMessage]]}, messages=[SystemMessagePromptTemplate(prompt=PromptTemplate(input_variables=[], template='\\n주요 목표는 사용자의 질문을 이해하기 쉽게 다시 작성하는 것입니다.\\n사용자의 질문과 채팅 기록이 주어졌을 때, 채팅 기록의 맥락을 참조할 수 있습니다.\\n채팅 기록이 없더라도 이해할 수 있는 독립적인 질문으로 작성하세요.\\n질문에 바로 대답하지 말고, 필요하다면 질문을 다시 작성하세요. 그렇지 않다면 질문을 그대로 반환합니다.        \\n')), MessagesPlaceholder(variable_name='chat_history'), HumanMessagePromptTemplate(prompt=PromptTemplate(input_variables=['input'], template='{input}'))])\n",
       "           | ChatOpenAI(client=<openai.resources.chat.completions.Completions object at 0x0000015C1C96D150>, async_client=<openai.resources.chat.completions.AsyncCompletions object at 0x0000015C1C343460>, temperature=0.0, openai_api_key=SecretStr('**********'), openai_proxy='', max_tokens=2048)\n",
       "           | StrOutputParser()\n",
       "           | EnsembleRetriever(retrievers=[BM25Retriever(vectorizer=<rank_bm25.BM25Okapi object at 0x0000015C1A9D3F10>, k=5), VectorStoreRetriever(tags=['Chroma', 'OpenAIEmbeddings'], vectorstore=<langchain_community.vectorstores.chroma.Chroma object at 0x0000015C76AFF2E0>, search_type='mmr', search_kwargs={'k': 5})], weights=[0.65, 0.35])), config={'run_name': 'retrieve_documents'})\n",
       "})\n",
       "| RunnableAssign(mapper={\n",
       "    answer: RunnableBinding(bound=RunnableBinding(bound=RunnableAssign(mapper={\n",
       "              context: RunnableLambda(format_docs)\n",
       "            }), config={'run_name': 'format_inputs'})\n",
       "            | ChatPromptTemplate(input_variables=['chat_history', 'context', 'input'], input_types={'chat_history': typing.List[typing.Union[langchain_core.messages.ai.AIMessage, langchain_core.messages.human.HumanMessage, langchain_core.messages.chat.ChatMessage, langchain_core.messages.system.SystemMessage, langchain_core.messages.function.FunctionMessage, langchain_core.messages.tool.ToolMessage]]}, messages=[SystemMessagePromptTemplate(prompt=PromptTemplate(input_variables=['context', 'input'], template='\\n당신은 질문에 대해 정보를 제공해주는 어시스턴트입니다.\\n소규모 기업 혹은 스타트업에 인도에 수출 사업을 도와 사실 기반의 정보만을 제공해주면서 가능한 한 도움이 되도록 만들어졌습니다.\\n사전 정보가 아닌 주어진 자료를 참고하여 정보를 제공해주세요.\\n만약 자료에 나와있지 않는 상황의 경우에는 인터넷에 검색해보라고 말해주세요.\\n\\n자료:\\n{context}\\n\\n질문:\\n{input}\\n\\nFORMAT:\\n- 진출 사업\\n- 진출 사업 동향\\n- 진출 사업 메리트\\n- 진출 사업 관련 정책\\n- 진출 사업을 위한 도움말\\n- 진출 사업 관련 알아야 할 것들\\n')), MessagesPlaceholder(variable_name='chat_history'), HumanMessagePromptTemplate(prompt=PromptTemplate(input_variables=['input'], template='{input}'))])\n",
       "            | ChatOpenAI(client=<openai.resources.chat.completions.Completions object at 0x0000015C1C96D150>, async_client=<openai.resources.chat.completions.AsyncCompletions object at 0x0000015C1C343460>, temperature=0.0, openai_api_key=SecretStr('**********'), openai_proxy='', max_tokens=2048)\n",
       "            | StrOutputParser(), config={'run_name': 'stuff_documents_chain'})\n",
       "  }), config={'run_name': 'retrieval_chain'})"
      ]
     },
     "execution_count": 22,
     "metadata": {},
     "output_type": "execute_result"
    }
   ],
   "source": [
    "rag_chain"
   ]
  },
  {
   "cell_type": "code",
   "execution_count": 23,
   "id": "cfbd02fa-1e2c-4a5a-87f5-83c54983e8e8",
   "metadata": {
    "scrolled": true
   },
   "outputs": [],
   "source": [
    "query = \"인도 DRI(국세정보국) 관세조사 시 대응방안에 대한 사례를 알려주세요.\"\n",
    "result = rag_chain.invoke(\n",
    "    {\n",
    "        \"input\": query,\n",
    "        \"chat_history\": [],\n",
    "    }\n",
    ")"
   ]
  },
  {
   "cell_type": "code",
   "execution_count": 24,
   "id": "6a49420e-4a86-4b56-acbc-f08988af1375",
   "metadata": {},
   "outputs": [
    {
     "data": {
      "text/plain": [
       "'- 진출 사업: 한-인도 CEPA를 활용한 수출 사업\\n- 진출 사업 동향: 인도 DRI(국세정보국)의 관세조사가 자동차 부품 관련 부분적 해석에 근거하여 실시되고 있음.\\n- 진출 사업 메리트: 한-인도 CEPA를 활용하여 관세 혜택을 받을 수 있으며, 수출 시 원활한 절차 진행이 가능함.\\n- 진출 사업 관련 정책: 2022년 1월에 인도 관세간접세위원회(CBIC)가 자의적 품목분류를 규제하기 위한 지침을 발표함.\\n- 진출 사업을 위한 도움말: 관세 관련 고시 및 지침은 CBIC의 공식 웹사이트에서 확인 가능하며, 관련 기업은 근거자료를 확보하여 대응할 필요가 있음.\\n- 진출 사업 관련 알아야 할 것들: 부품(Parts)의 품목분류 시 HS 협약에 따른 규정을 우선 적용하고 다양한 사례를 참고하여 판단해야 함. 인도 DRI의 관세조사에 대비하여 적절한 대응 방안을 마련해야 함.'"
      ]
     },
     "execution_count": 24,
     "metadata": {},
     "output_type": "execute_result"
    }
   ],
   "source": [
    "result['answer']"
   ]
  },
  {
   "cell_type": "code",
   "execution_count": 25,
   "id": "2bc91b02-be76-49a7-a82d-dd014762c130",
   "metadata": {
    "scrolled": true
   },
   "outputs": [],
   "source": [
    "query = \"원산지증명서 오류 발급 시 정정 방법을 알려줘\"\n",
    "result = rag_chain.invoke(\n",
    "    {\n",
    "        \"input\": query,\n",
    "        \"chat_history\": [],\n",
    "    }\n",
    ")"
   ]
  },
  {
   "cell_type": "code",
   "execution_count": 26,
   "id": "2c80436c-4e69-4118-adf7-3d373edf0da9",
   "metadata": {},
   "outputs": [
    {
     "data": {
      "text/plain": [
       "'원산지증명서 오류 발급 시 정정 방법은 다음과 같습니다:\\n\\n1. 원산지증명서 오류 발생 시, 먼저 해당 오류를 파악하고 정정이 필요한 부분을 확인합니다.\\n2. 정정이 필요한 부분을 수정하여 정정된 원산지증명서를 발급해야 합니다.\\n3. 정정된 원산지증명서를 발급하기 위해서는 기존에 발급된 원산지증명서의 원본을 회수해야 합니다.\\n4. 한-인도 CEPA 협정을 적용하기 위해서는 정정된 원산지증명서를 제출해야 합니다.\\n5. 정정된 원산지증명서를 제출한 후, 인도 세관의 심사를 거쳐 CEPA 혜택을 받을 수 있습니다.\\n\\n이러한 절차를 통해 원산지증명서 오류를 정정하고, 한-인도 CEPA 혜택을 적용할 수 있습니다.'"
      ]
     },
     "execution_count": 26,
     "metadata": {},
     "output_type": "execute_result"
    }
   ],
   "source": [
    "result['answer']"
   ]
  },
  {
   "cell_type": "code",
   "execution_count": 48,
   "id": "dcc1e5ae-e696-4871-8462-25e8bcac4d9c",
   "metadata": {},
   "outputs": [],
   "source": [
    "from langchain_community.chat_message_histories import ChatMessageHistory\n",
    "from langchain_core.chat_history import BaseChatMessageHistory\n",
    "from langchain_core.runnables.history import RunnableWithMessageHistory\n",
    "\n",
    "\n",
    "store = {}  # 세션 기록을 저장할 딕셔너리\n",
    "\n",
    "\n",
    "def get_session_history(session_ids: str) -> BaseChatMessageHistory:\n",
    "    print(session_ids)\n",
    "    if session_ids not in store:  # 세션 ID가 store에 없는 경우\n",
    "        # 새로운 ChatMessageHistory 객체를 생성하여 store에 저장\n",
    "        store[session_ids] = ChatMessageHistory()\n",
    "    return store[session_ids]  # 해당 세션 ID에 대한 세션 기록 반환\n",
    "\n",
    "\n",
    "with_message_history = (\n",
    "    RunnableWithMessageHistory(  # RunnableWithMessageHistory 객체 생성\n",
    "        rag_chain,  # 실행할 Runnable 객체\n",
    "        get_session_history,  # 세션 기록을 가져오는 함수\n",
    "        input_messages_key=\"input\",  # 입력 메시지의 키\n",
    "        history_messages_key=\"history\",  # 기록 메시지의 키\n",
    "    )\n",
    ")"
   ]
  },
  {
   "cell_type": "code",
   "execution_count": 49,
   "id": "4c7505bf-923e-460e-bad5-e815a0325d63",
   "metadata": {},
   "outputs": [
    {
     "name": "stdout",
     "output_type": "stream",
     "text": [
      "abc123\n"
     ]
    },
    {
     "name": "stderr",
     "output_type": "stream",
     "text": [
      "Error in RootListenersTracer.on_chain_end callback: KeyError('output')\n"
     ]
    }
   ],
   "source": [
    "query = \"원산지증명서 오류 발급 시 정정 방법을 알려줘\"\n",
    "SESSION_ID = \"abc123\"\n",
    "\n",
    "result = with_message_history.invoke(\n",
    "    # 수학 관련 질문 \"코사인의 의미는 무엇인가요?\"를 입력으로 전달합니다.\n",
    "    {\n",
    "        \"input\": query,\n",
    "        \"chat_history\": [],\n",
    "    },\n",
    "    # 설정 정보로 세션 ID \"abc123\"을 전달합니다.\n",
    "    config={\"configurable\": {\"session_id\": SESSION_ID}},\n",
    ")"
   ]
  },
  {
   "cell_type": "code",
   "execution_count": 50,
   "id": "2e13354f-b58d-4f05-aca7-34346fd26fdb",
   "metadata": {},
   "outputs": [
    {
     "data": {
      "text/plain": [
       "'원산지증명서 오류 발급 시 정정 방법은 다음과 같습니다:\\n\\n1. 한국 세관에 원산지증명서 정정신청을 합니다.\\n2. 정정된 원산지증명서를 제출하고, 한-인도 CEPA를 적용합니다.\\n3. 원산지증명서의 원본(오류 발급본)을 회수합니다.\\n\\n이러한 절차를 통해 오류가 있는 원산지증명서를 정정하고, 한-인도 CEPA를 적용할 수 있습니다.원산지증명서의 정정은 신속하게 처리되어야 하며, 관련된 모든 당사자들에게 적절히 통보되어야 합니다.'"
      ]
     },
     "execution_count": 50,
     "metadata": {},
     "output_type": "execute_result"
    }
   ],
   "source": [
    "result['answer']"
   ]
  },
  {
   "cell_type": "code",
   "execution_count": 51,
   "id": "a5160d90-c6ef-4479-a836-e3b1d4b95783",
   "metadata": {},
   "outputs": [
    {
     "name": "stdout",
     "output_type": "stream",
     "text": [
      "abc123\n"
     ]
    },
    {
     "name": "stderr",
     "output_type": "stream",
     "text": [
      "Error in RootListenersTracer.on_chain_end callback: KeyError('output')\n"
     ]
    },
    {
     "data": {
      "text/plain": [
       "'**진출 사업:** 인도 DRI(국세정보국) 관세조사 시 대응방안\\n\\n**진출 사업 동향:** 인도 DRI(국세정보국)의 관세조사는 자동차 부품 관련 자의적 해석에 근거한 조사를 시행하고 있으며, 이로 인해 한-인도 CEPA 활용 불가 및 차액 관세 납부 등의 피해가 발생하고 있습니다.\\n\\n**진출 사업 메리트:** 대비책을 마련하여 인도 DRI(국세정보국)의 관세조사에 대응할 수 있다면, 한-인도 CEPA 혜택을 최대한 활용하고 추가 관세 부담을 최소화할 수 있습니다.\\n\\n**진출 사업 관련 정책:** 2022년 1월 5일, 인도 관세간접세위원회(CBIC)가 세관 및 국세정보국(DRI)의 자의적 품목분류를 규제하기 위한 지침을 발표하였습니다.\\n\\n**진출 사업을 위한 도움말:** 관련 기업들은 근거자료를 확보하고, HS 협약에 따른 규정을 우선 적용하며, 다양한 사례를 종합적으로 참고하여 판단하는 것이 중요합니다.\\n\\n**진출 사업 관련 알아야 할 것들:** 인도 DRI(국세정보국)의 관세조사에 대비하기 위해서는 정확한 원산지증명서를 제출하고, HS 코드에 대한 이해와 관련 서류를 준비하는 것이 중요합니다. 또한, 인도 관세간접세위원회(CBIC)의 공식 웹사이트를 통해 관세 관련 고시 및 지침을 확인하는 것이 도움이 될 수 있습니다.'"
      ]
     },
     "execution_count": 51,
     "metadata": {},
     "output_type": "execute_result"
    }
   ],
   "source": [
    "query = \"인도 DRI(국세정보국) 관세조사 시 대응방안에 대한 사례를 알려주세요.\"\n",
    "SESSION_ID = \"abc123\"\n",
    "\n",
    "result = with_message_history.invoke(\n",
    "    # 수학 관련 질문 \"코사인의 의미는 무엇인가요?\"를 입력으로 전달합니다.\n",
    "    {\n",
    "        \"input\": query,\n",
    "        \"chat_history\": [],\n",
    "    },\n",
    "    # 설정 정보로 세션 ID \"abc123\"을 전달합니다.\n",
    "    config={\"configurable\": {\"session_id\": SESSION_ID}},\n",
    ")\n",
    "\n",
    "result['answer']"
   ]
  },
  {
   "cell_type": "code",
   "execution_count": null,
   "id": "cbc40dac-d8d3-4f10-8e8b-811f0d690862",
   "metadata": {},
   "outputs": [],
   "source": []
  },
  {
   "cell_type": "code",
   "execution_count": 61,
   "id": "ef323524-c636-4c80-a9ad-0e66c49bf6dd",
   "metadata": {},
   "outputs": [
    {
     "name": "stderr",
     "output_type": "stream",
     "text": [
      "C:\\Users\\User\\anaconda3\\envs\\BP\\lib\\site-packages\\langchain_core\\_api\\deprecation.py:139: LangChainDeprecationWarning: The class `OpenAIEmbeddings` was deprecated in LangChain 0.0.9 and will be removed in 0.3.0. An updated version of the class exists in the langchain-openai package and should be used instead. To use it run `pip install -U langchain-openai` and import as `from langchain_openai import OpenAIEmbeddings`.\n",
      "  warn_deprecated(\n"
     ]
    }
   ],
   "source": [
    "embeddings = OpenAIEmbeddings( model=\"text-embedding-ada-002\" )    \n",
    "# 나중에 허깅페이스에서 임베딩 모델 가져오기 \n",
    "\n",
    "persist_dir = \"./database\"\n",
    "\n",
    "vector_store = Chroma(\n",
    "    persist_directory=persist_dir,  # 있으면 가져오고 없으면 생성\n",
    "    embedding_function=embeddings\n",
    ")\n",
    "\n"
   ]
  },
  {
   "cell_type": "code",
   "execution_count": null,
   "id": "eed8eee5-447f-45a5-88dd-fe3cd00619ad",
   "metadata": {},
   "outputs": [],
   "source": [
    "vector_store.add_documents()"
   ]
  },
  {
   "cell_type": "code",
   "execution_count": 65,
   "id": "93a5cf2d-f1f9-45dc-a347-7509f5cd5049",
   "metadata": {
    "scrolled": true
   },
   "outputs": [
    {
     "data": {
      "text/plain": [
       "Document(page_content='사례로 정리해보는\\n한-인도 CEPA \\n활용법 및 인도 통상 애로\\nKOTRA자료 22-055\\n', metadata={'source': './data/[법률_규범_특허][코트라][2022]한-인도 CEPA 활용법 및 인도 통상 애로.pdf', 'file_path': './data/[법률_규범_특허][코트라][2022]한-인도 CEPA 활용법 및 인도 통상 애로.pdf', 'page': 0, 'total_pages': 41, 'format': 'PDF 1.6', 'title': '', 'author': '', 'subject': '', 'keywords': '', 'creator': 'Adobe InDesign 17.2 (Macintosh)', 'producer': 'Adobe PDF Library 16.0.7', 'creationDate': \"D:20220610145706+09'00'\", 'modDate': \"D:20220614154828+09'00'\", 'trapped': ''})"
      ]
     },
     "execution_count": 65,
     "metadata": {},
     "output_type": "execute_result"
    }
   ],
   "source": [
    "docs[0]"
   ]
  },
  {
   "cell_type": "code",
   "execution_count": 66,
   "id": "4ff011f1-01db-4869-bc98-cccac409fa4f",
   "metadata": {},
   "outputs": [
    {
     "data": {
      "text/plain": [
       "'사례로 정리해보는\\n한-인도 CEPA \\n활용법 및 인도 통상 애로\\nKOTRA자료 22-055\\n'"
      ]
     },
     "execution_count": 66,
     "metadata": {},
     "output_type": "execute_result"
    }
   ],
   "source": [
    "docs[0].page_content"
   ]
  },
  {
   "cell_type": "code",
   "execution_count": 69,
   "id": "24a92abb-6e4a-4c05-aea2-401d57513eb0",
   "metadata": {},
   "outputs": [
    {
     "ename": "AttributeError",
     "evalue": "'Document' object has no attribute 'get'",
     "output_type": "error",
     "traceback": [
      "\u001b[1;31m---------------------------------------------------------------------------\u001b[0m",
      "\u001b[1;31mAttributeError\u001b[0m                            Traceback (most recent call last)",
      "Cell \u001b[1;32mIn[69], line 1\u001b[0m\n\u001b[1;32m----> 1\u001b[0m \u001b[43mdocs\u001b[49m\u001b[43m[\u001b[49m\u001b[38;5;241;43m0\u001b[39;49m\u001b[43m]\u001b[49m\u001b[38;5;241;43m.\u001b[39;49m\u001b[43mget\u001b[49m()\n",
      "\u001b[1;31mAttributeError\u001b[0m: 'Document' object has no attribute 'get'"
     ]
    }
   ],
   "source": [
    "docs[0].get()"
   ]
  },
  {
   "cell_type": "code",
   "execution_count": null,
   "id": "1a876992-0c75-4c51-a3c5-89e97d8925e3",
   "metadata": {},
   "outputs": [],
   "source": []
  }
 ],
 "metadata": {
  "kernelspec": {
   "display_name": "BP",
   "language": "python",
   "name": "bp"
  },
  "language_info": {
   "codemirror_mode": {
    "name": "ipython",
    "version": 3
   },
   "file_extension": ".py",
   "mimetype": "text/x-python",
   "name": "python",
   "nbconvert_exporter": "python",
   "pygments_lexer": "ipython3",
   "version": "3.10.14"
  }
 },
 "nbformat": 4,
 "nbformat_minor": 5
}
