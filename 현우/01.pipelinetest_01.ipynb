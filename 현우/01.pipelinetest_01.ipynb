{
 "cells": [
  {
   "cell_type": "code",
   "execution_count": 23,
   "metadata": {},
   "outputs": [],
   "source": [
    "import os "
   ]
  },
  {
   "cell_type": "code",
   "execution_count": 24,
   "metadata": {},
   "outputs": [
    {
     "name": "stdout",
     "output_type": "stream",
     "text": [
      "[초기화] vector_store 초기화 완료\n",
      "[초기화] retriever 초기화 완료\n"
     ]
    }
   ],
   "source": [
    "from RAGPipeLine import Ragpipeline\n",
    "\n",
    "pipeline = Ragpipeline()\n"
   ]
  },
  {
   "cell_type": "code",
   "execution_count": 26,
   "metadata": {},
   "outputs": [],
   "source": [
    "from django.db import models\n",
    "import uuid # UUID(Universally Unique Identifier) 모듈을 임포트합니다. UUID는 고유한 식별자를 생성하는 데 사용됩니다.\n"
   ]
  },
  {
   "cell_type": "code",
   "execution_count": 28,
   "metadata": {},
   "outputs": [],
   "source": [
    "class RagDocument():\n",
    "    id = models.UUIDField(primary_key=True, default=uuid.uuid4, editable=False)                 # id 필드는 UUID 형식의 기본 키(primary key)입니다. 기본값은 uuid.uuid4 함수를 사용해 생성됩니다. 이 필드는 수정할 수 없습니다(editable=False).\n",
    "    file = models.FileField(upload_to='documents/', default='documents/default.txt')            # file 필드는 파일을 저장하는 필드입니다. 파일은 documents/ 디렉토리에 업로드됩니다. 기본값은 documents/default.txt 파일입니다.\n",
    "    uploaded_at = models.DateTimeField(auto_now_add=True)                       # uploaded_at 필드는 파일이 업로드된 시간을 저장하는 날짜/시간 필드입니다. \n",
    "\n",
    "    def __str__(self):                  # __str__ 메서드는 file 필드의 파일 이름을 반환합니다. 이 메서드는 Django 관리자(admin) 인터페이스 등에서 객체를 사람이 읽을 수 있는 형태로 표시하는 데 사용됩니다.\n",
    "        return self.file.name"
   ]
  },
  {
   "cell_type": "code",
   "execution_count": 29,
   "metadata": {},
   "outputs": [],
   "source": [
    "obj = RagDocument"
   ]
  },
  {
   "cell_type": "code",
   "execution_count": 30,
   "metadata": {},
   "outputs": [],
   "source": [
    "obj.file.path = './documents/sample.txt'"
   ]
  },
  {
   "cell_type": "code",
   "execution_count": 31,
   "metadata": {},
   "outputs": [],
   "source": [
    "file_path = obj.file.path "
   ]
  },
  {
   "cell_type": "code",
   "execution_count": 32,
   "metadata": {},
   "outputs": [
    {
     "data": {
      "text/plain": [
       "'./documents/sample.txt'"
      ]
     },
     "execution_count": 32,
     "metadata": {},
     "output_type": "execute_result"
    }
   ],
   "source": [
    "file_path"
   ]
  },
  {
   "cell_type": "code",
   "execution_count": 33,
   "metadata": {},
   "outputs": [
    {
     "data": {
      "text/plain": [
       "<django.db.models.fields.files.FileField>"
      ]
     },
     "execution_count": 33,
     "metadata": {},
     "output_type": "execute_result"
    }
   ],
   "source": [
    "obj.file"
   ]
  },
  {
   "cell_type": "code",
   "execution_count": null,
   "metadata": {},
   "outputs": [],
   "source": [
    "# 벡터 DB에 문서 업데이트 시도\n",
    "file_path = obj.file.path\n",
    "with open(file_path, 'rb') as f:\n",
    "    if pipeline.update_vector_db(f, obj.file):\n",
    "        print(\"[문서업로드] 벡터 스토어 업데이트에 성공하였습니다.\")\n",
    "    else:\n",
    "        # 유사한 문서가 존재하여 업데이트에 실패 시 저장된 문서 삭제\n",
    "        obj.delete()\n",
    "        os.remove(file_path)\n",
    "        print(\"[문서업로드] 유사한 문서가 발견되어 벡터스토어 업데이트가 거절되었습니다.\")\n"
   ]
  },
  {
   "cell_type": "code",
   "execution_count": 35,
   "metadata": {},
   "outputs": [],
   "source": [
    "import pandas as pd "
   ]
  },
  {
   "cell_type": "code",
   "execution_count": 40,
   "metadata": {},
   "outputs": [],
   "source": [
    "df = pd.read_excel('./documents/크롤링_리스트.xlsx')"
   ]
  },
  {
   "cell_type": "code",
   "execution_count": 42,
   "metadata": {},
   "outputs": [],
   "source": [
    "df.to_csv('./documents/크롤링_리스트.csv')"
   ]
  },
  {
   "cell_type": "code",
   "execution_count": 54,
   "metadata": {},
   "outputs": [],
   "source": [
    "from langchain.document_loaders import PyPDFLoader\n",
    "from langchain_community.document_loaders import PyMuPDFLoader\n",
    "from langchain_community.document_loaders import UnstructuredPDFLoader\n",
    "from langchain_community.document_loaders import PDFPlumberLoader\n",
    "from langchain_community.document_loaders import PyPDFDirectoryLoader\n",
    "\n",
    "from langchain_community.document_loaders.csv_loader import CSVLoader\n",
    "\n",
    "from langchain.text_splitter import RecursiveCharacterTextSplitter"
   ]
  },
  {
   "cell_type": "code",
   "execution_count": 44,
   "metadata": {},
   "outputs": [],
   "source": [
    "loader = CSVLoader(file_path=\"documents/크롤링_리스트.csv\")\n",
    "data = loader.load()"
   ]
  },
  {
   "cell_type": "code",
   "execution_count": 47,
   "metadata": {},
   "outputs": [
    {
     "data": {
      "text/plain": [
       "61"
      ]
     },
     "execution_count": 47,
     "metadata": {},
     "output_type": "execute_result"
    }
   ],
   "source": [
    "# 행의 수 출력\n",
    "len(data)"
   ]
  },
  {
   "cell_type": "code",
   "execution_count": 46,
   "metadata": {},
   "outputs": [
    {
     "data": {
      "text/plain": [
       "[Document(metadata={'source': 'documents/크롤링_리스트.csv', 'row': 0}, page_content=': 0\\n정보 출처: 인도 특허청\\n세부 구분: 법률_규범\\n추출할 정보 설명: \\n담당자: 문승현\\n우선순위: 1.0\\nURL: https://iprsearch.ipindia.gov.in/PublicSearch/PublicationSearch/PatentSearchResult'),\n",
       " Document(metadata={'source': 'documents/크롤링_리스트.csv', 'row': 1}, page_content=': 1\\n정보 출처: 제약산업정보포털\\n세부 구분: 정책\\n추출할 정보 설명: 인도 통관 및 운송에 대한 내용\\n담당자: \\n우선순위: 4.0\\nURL: https://www.khidi.or.kr/board/view?pageNum=6&rowCnt=10&no1=50&linkId=47399284&menuId=MENU01864&maxIndex=&minIndex=&schType=0&schText=&schStartDate=&schEndDate=&boardStyle=&categoryId=&continent=&country='),\n",
       " Document(metadata={'source': 'documents/크롤링_리스트.csv', 'row': 2}, page_content=': 2\\n정보 출처: 인도 무역청\\n세부 구분: 법률_규범\\n추출할 정보 설명: 용석 : 전체 사이트 모든 내용(셀레니움?)(크롤링시 상의 필요)\\n담당자: \\n우선순위: 2.0\\nURL: https://www.indiantradeportal.in/index.jsp?lang=0'),\n",
       " Document(metadata={'source': 'documents/크롤링_리스트.csv', 'row': 3}, page_content=': 3\\n정보 출처: 인도 무역구제총국\\n세부 구분: 법률_규범\\n추출할 정보 설명: 용석 : 전체 사이트 모든 내용(셀레니움?)(크롤링시 상의 필요)\\n담당자: \\n우선순위: 3.0\\nURL: https://www.dgtr.gov.in/'),\n",
       " Document(metadata={'source': 'documents/크롤링_리스트.csv', 'row': 4}, page_content=': 4\\n정보 출처: FedEx 공식 네이버 블로그\\n세부 구분: 시장동향\\n추출할 정보 설명: 인도 및 세계 비지니스 동향 포함 (일부 카테고리 전체 크롤링)\\n담당자: \\n우선순위: \\nURL: https://post.naver.com/my.naver?memberNo=40955917')]"
      ]
     },
     "execution_count": 46,
     "metadata": {},
     "output_type": "execute_result"
    }
   ],
   "source": [
    "data[:5]"
   ]
  },
  {
   "cell_type": "code",
   "execution_count": 51,
   "metadata": {},
   "outputs": [
    {
     "data": {
      "text/plain": [
       "{'source': 'documents/크롤링_리스트.csv', 'row': 0}"
      ]
     },
     "execution_count": 51,
     "metadata": {},
     "output_type": "execute_result"
    }
   ],
   "source": [
    "data[0].metadata"
   ]
  },
  {
   "cell_type": "code",
   "execution_count": 52,
   "metadata": {},
   "outputs": [
    {
     "data": {
      "text/plain": [
       "': 0\\n정보 출처: 인도 특허청\\n세부 구분: 법률_규범\\n추출할 정보 설명: \\n담당자: 문승현\\n우선순위: 1.0\\nURL: https://iprsearch.ipindia.gov.in/PublicSearch/PublicationSearch/PatentSearchResult'"
      ]
     },
     "execution_count": 52,
     "metadata": {},
     "output_type": "execute_result"
    }
   ],
   "source": [
    "data[0].page_content"
   ]
  },
  {
   "cell_type": "code",
   "execution_count": 58,
   "metadata": {},
   "outputs": [],
   "source": [
    "\n",
    "\n",
    "loader = PyPDFLoader(\"documents/[정책][제약산업정보포털][2019.04.08]인도 통관 및 운송.pdf\")\n",
    "docs = loader.load()"
   ]
  },
  {
   "cell_type": "code",
   "execution_count": 59,
   "metadata": {},
   "outputs": [
    {
     "data": {
      "text/plain": [
       "[Document(metadata={'source': 'documents/[정책][제약산업정보포털][2019.04.08]인도 통관 및 운송.pdf', 'page': 0}, page_content='5. 통관 및 운송\\n \\n \\n가. 통관제도\\n  \\n \\n통관 유형별 절차\\n \\n1) 정식통관 \\n \\n인도에서 일반적인 경우 통관에 소요되는 시간은 행정상 운송 수입의 경우 3~4 근무일, 항공 운송은 약 1~2 근무일이 소요된다. 일단 물\\n품이 입항하게 되면 보세구역장치에 적하되고, 이후 전자데이터 교환(EDI) 신고 또는 수작업신고 통해 수입신고를 하게 된다. 이후 인도\\n관세청의 수입요건, 관세 평가 등을 검사하는 Appraiser Section과 관련 서류 및 관세율을 재점검하는 Audit Section 과정을 거치게 되\\n며, 이를 통과하면 모든 서류에 서명 받게 된다. 이후 Challan No.라는 인도 관세 납부를 위한 번호를 부여받게 되고, 이를 근거로 관세를\\n완납하게 되면 물품을 반출할 수 있다. 또한, 정식통관의 경우 인도 세관은 일반적으로 화물 도착 후 7일 이후부터 체화료(Demurrage\\nCharge)를 부과하고, 컨테이너 운송의 경우 5일 이후부터 항공운송인 경우 3일 이후부터 체화료가 부과한다. \\n \\n2) 임시 통관 \\n \\n인도에 들여온 품목을 사용하지 않고 24개월 이내에 다시 반출할 목적이 있는 경우 임시통관이 이루어지게 된다. 임시통관을 위해서는 해\\n당 품목의 관세를 납부해야하는데, 다시 반출할 시 장치했던 시간에 비례하여 관세를 환급받을 수 있다. 인도 내로 반입되지 않고 바로 반\\n출할 경우 최대 98%까지 환급이 가능하나, 인도 내 해당 물품이 사용될 경우 기간과 상관없이 관세의 환급이 불가하다. \\n \\n  ㅇ ATA Carnet \\n    - ATA 까르네(ATA Carnet)는 Admission Temporaire이라는 임시통관을 뜻하는 불어와 Temporary Admission의 영어 그리고 수첩\\n을 뜻하는 불어 Carnet의 머리글자 조합으로, 임시 통관을 위한 수첩을 말한다. ATA 협약에는 인도를 포함하여 전 세계 71개국이 서명하\\n여 발효 중이며, ATA 통관 수첩은 국제 관세 서류(International Uniform Customs Document)의 일종으로 물품의 임시 통관 시 관세\\n및 보증금을 제공하지 않아도 되는 일종의 보증서 역할 및 수출입 신고 시 세관에 제출하는 수출입 신고서 역할을 한다.  \\n \\n3) 전시물품의 통관  \\n \\n전시·박람회, 학회, 세미나, 견본품 및 각종 회의를 위한 물품의 통관은 관세가 면제된다. 하지만 그 관세액이 5000루피를 초과해서는 안\\n되며 1년에 그 누적 관세액이 60,000루피를 초과하거나 샘플의 개수가 15개를 초과해서는 안 된다. 샘플의 가치가 10,000루피 이하일\\n경우 관세가 면제되나, 샘플의 가치가 10,000루피 이상일 경우 9개월 안에 반출 되어야 하며, 필요의 경우 각 세관의 Assistant\\nCommissioner of Customs 권한으로 그 기간을 연장할 수 있다. 세관에서 판단하여 고가의 샘플의 경우 보증 관세를 지불하고 9개월 안\\n에 재 반출한다는 조건으로 통관할 수 있다.  \\n \\n4) 약식통관  \\n \\n인도는 2,000루피 이하의 제품의 경우 약식통관이 가능하다. 이는 전자상거래의 물품에도 적용된다. 인도는 2,000루피 이하의 품목을\\n3가지 분류로 나누어 HS코드를 적용하고 있으며, 그 분류는 다음과 같다.   \\n \\n    - 9804.10.00 의약품 \\n    - 9805.10.00 가공 또는 가공되지 않은 고기, 생선, 야채 등의 음식물 및 비누, 과일 등의 생활용품 \\n    - 9804.90.00 기타  \\n \\n인도 상공국 산하 무역국(Directorate General of Foreign Trade)은 위의 3가지 분류 HS코드의 과세가격에 총 42.08%의 관세를 부과\\n하고 있다. 다만, 수입 제한·금지 품목으로 분류되지 않으며, 자가사용으로 판단되는 물픔은 면세된다.  '),\n",
       " Document(metadata={'source': 'documents/[정책][제약산업정보포털][2019.04.08]인도 통관 및 운송.pdf', 'page': 1}, page_content=' \\n5) 허가 통관 \\n \\n수입의 제한 품목 및 식물, 씨앗, 과일 등 허가증이나 수입 라이센스가 필요로하는 품목의 경우 허가 통관을 실시하게 된다. 정식 통관과\\n그 절차가 다르지는 않으나 필요 허가증 또는 라이센스를 수입신고 시 수입 서류와 함께 세관에 제출해야 한다. 식물, 씨앗, 과일의 경우\\n동식물 검역소에서 샘플의 테스트를 통해 발부받을 수 있으며, 제한 품목의 경우 그에 해당하는 수입 라이센스를 발부받아 수입할 수 있다\\n.   \\n \\n통관 시 유의사항\\n \\n  ㅇ 통관의 지연: 인도의 통관은 행정상 일반적으로 3~4 근무일이 소요된다. 이를 단축하기 위해 통관 시스템 현대화를 위해 많은 노력을\\n기울이지만 아직까지 그 행정 시스템이 완전하지 않으며, 한국과 다르게 거의 모든 서류를 오프라인으로 직접 제출해야 하기 때문에 통관\\n지연이 자주 발생한다. 또한, 사소한 서류 기재 요류 등을 이유로 통관이 장기간 지연되거나, 이를 빌미로 뒷돈을 요구하는 경우가 발생하\\n기도 한다.    \\n \\n  ㅇ 통관 정보의 불투명: 인도의 관세 행정은 한국에 비해 그 정보 및 기준이 전반적으로 불투명하며, 실무선의 재량권이 크고 융통성 없\\n는 처리 관행으로 인해 통관 애로가 자주 발생한다. 인도는 한국과 달리 통관 단계(Appraiser Section)에서 관세평가를 하는데, 중고 기계\\n등과 같은 물품의 경우 송장(Invoice)상의 가격과소평가(Undervalue)를 문제 삼아 직권으로 상품 가치를 정하고 높은 관세를 부과하는\\n경우도 종종 발생한다.  \\n \\n  ㅇ FTA 사후 협정 적용 불가능: 인도는 공식적으로는 FTA 사후 협정 적용을 인정하고 있으나, 세관의 행정 시스템이 갖추어지지 않아 실\\n무적으로 FTA 사후 협정 적용이 불가능하다. 다만, 통관 시 FTA 협정 적용을 위한 원산지 증명서를 발급 중이라는 증명서를 제출하면,\\nFTA 사후 협정 적용을 받아주는 경우가 있으나 통관을 담당하는 세관 공무원의 재량이 크게 작용한다. 또한, 관세 혜택이 주어지는 다른\\n제도의 경우에도 증빙이 충분치 않다는 이유로 통관을 거부하는 사례도 자주 발생한다.  \\n \\n  ㅇ 인도 지역별 세관관할: 인도의 세관 행정은 명목상 통일되어 있으나, 지역별 차이나 관할 세관 당국 간 소통 미비로 인하여 관세통관\\n상의 애로 해소가 발생하는 경우가 있다. 사전품목분류 심사제도의 경우에도 각 관할 세관별로 운영할 가능성이 높으며, 이에 한 관할지에\\n서 사전품목분류를 확정받았다 하더라도 다른 관할지에서는 이를 그대로 적용하지 않을 가능성이 있다.  \\n \\n  ㅇ 서류의 수정: 인도는 통관에 필요한 서류에 기재 오류나 상호 간의 불일치가 있을 시 이를 수정하기가 매우 어려우며 이로 인해 통관\\n절차가 2, 3주씩 지연되기도 한다. 영문 한 글자 오타를 수정하는 데 3주를 허비해야 할 수도 있으며, 허위신고를 이유로 과태료가 발생할\\n수 있다.   \\n \\n \\n나. 주요 포워딩 업체 및 통관업체\\n \\n \\nㅇ KGL Network Private Limited\\n \\n주소Plot No. 261-262, 2nd Floor, -6,, Street Number 6, Mahipalpur Extension, Mahipalpur, New\\nDelhi, Delhi 110037\\n전화번호 +91)11-4570 9700\\n이메일 YsCHANG@kglindia.com\\n홈페이지 http://kglindia.com/\\n비고 한국업체 '),\n",
       " Document(metadata={'source': 'documents/[정책][제약산업정보포털][2019.04.08]인도 통관 및 운송.pdf', 'page': 2}, page_content=' \\nㅇ Taewoong Logistics\\n \\n \\nㅇ CJ Korea Express India Pvt. Ltd\\n \\n \\nㅇ FIRST FLIGHT\\n \\n \\nㅇ Gati Ltd.\\n \\n \\n \\n 주소 No 75 beekeyen towers coral merchant street manady Chennai, Chennai, Tamil Nadu 600001\\n전화번호 +91)44-4343-2716\\n이메일 James@taewoong.in\\n홈페이지 http://www.e-tgl.com/eng/company02.do\\n비고 한국업체 \\n주소416, 4th Floor, Suncity Business Tower, Sector 54, Golf Course Road, Gurugram, Haryana\\n122002\\n전화번호 124-457-6688\\n이메일 SUCHELO.KIM@Cj.net\\n홈페이지 https://www.cjlogistics.com/en/network/en-in\\n비고 한국업체 \\n주소G - 1001/02, 10th Floor, Lotus Corporate Park, Off Jay Coach Flyover, Western Express Highway,\\nGoregaon (E), Mumbai - 400 063. INDIA\\n전화번호 +91)22-62686666\\n이메일 ffcl@firstflight.net\\n홈페이지 https://firstflight.net/\\n주소 Plot No.20, Survey No.12,\\n전화번호 +91)40-71204284\\n이메일 customerservice@gati.com\\n홈페이지 https://www.gati.com/contact-us/contact-details/'),\n",
       " Document(metadata={'source': 'documents/[정책][제약산업정보포털][2019.04.08]인도 통관 및 운송.pdf', 'page': 3}, page_content='국가정보(무역-통관 및 운송) 항목은 \"공공누리 1유형 출처표시\" 조건에 따라\\n이용 할 수 있습니다.')]"
      ]
     },
     "execution_count": 59,
     "metadata": {},
     "output_type": "execute_result"
    }
   ],
   "source": [
    "docs"
   ]
  },
  {
   "cell_type": "code",
   "execution_count": 62,
   "metadata": {},
   "outputs": [
    {
     "data": {
      "text/plain": [
       "{'source': 'documents/[정책][제약산업정보포털][2019.04.08]인도 통관 및 운송.pdf', 'page': 0}"
      ]
     },
     "execution_count": 62,
     "metadata": {},
     "output_type": "execute_result"
    }
   ],
   "source": [
    "docs[0].metadata"
   ]
  },
  {
   "cell_type": "code",
   "execution_count": 63,
   "metadata": {},
   "outputs": [
    {
     "data": {
      "text/plain": [
       "'5. 통관 및 운송\\n \\n \\n가. 통관제도\\n  \\n \\n통관 유형별 절차\\n \\n1) 정식통관 \\n \\n인도에서 일반적인 경우 통관에 소요되는 시간은 행정상 운송 수입의 경우 3~4 근무일, 항공 운송은 약 1~2 근무일이 소요된다. 일단 물\\n품이 입항하게 되면 보세구역장치에 적하되고, 이후 전자데이터 교환(EDI) 신고 또는 수작업신고 통해 수입신고를 하게 된다. 이후 인도\\n관세청의 수입요건, 관세 평가 등을 검사하는 Appraiser Section과 관련 서류 및 관세율을 재점검하는 Audit Section 과정을 거치게 되\\n며, 이를 통과하면 모든 서류에 서명 받게 된다. 이후 Challan No.라는 인도 관세 납부를 위한 번호를 부여받게 되고, 이를 근거로 관세를\\n완납하게 되면 물품을 반출할 수 있다. 또한, 정식통관의 경우 인도 세관은 일반적으로 화물 도착 후 7일 이후부터 체화료(Demurrage\\nCharge)를 부과하고, 컨테이너 운송의 경우 5일 이후부터 항공운송인 경우 3일 이후부터 체화료가 부과한다. \\n \\n2) 임시 통관 \\n \\n인도에 들여온 품목을 사용하지 않고 24개월 이내에 다시 반출할 목적이 있는 경우 임시통관이 이루어지게 된다. 임시통관을 위해서는 해\\n당 품목의 관세를 납부해야하는데, 다시 반출할 시 장치했던 시간에 비례하여 관세를 환급받을 수 있다. 인도 내로 반입되지 않고 바로 반\\n출할 경우 최대 98%까지 환급이 가능하나, 인도 내 해당 물품이 사용될 경우 기간과 상관없이 관세의 환급이 불가하다. \\n \\n  ㅇ ATA Carnet \\n    - ATA 까르네(ATA Carnet)는 Admission Temporaire이라는 임시통관을 뜻하는 불어와 Temporary Admission의 영어 그리고 수첩\\n을 뜻하는 불어 Carnet의 머리글자 조합으로, 임시 통관을 위한 수첩을 말한다. ATA 협약에는 인도를 포함하여 전 세계 71개국이 서명하\\n여 발효 중이며, ATA 통관 수첩은 국제 관세 서류(International Uniform Customs Document)의 일종으로 물품의 임시 통관 시 관세\\n및 보증금을 제공하지 않아도 되는 일종의 보증서 역할 및 수출입 신고 시 세관에 제출하는 수출입 신고서 역할을 한다.  \\n \\n3) 전시물품의 통관  \\n \\n전시·박람회, 학회, 세미나, 견본품 및 각종 회의를 위한 물품의 통관은 관세가 면제된다. 하지만 그 관세액이 5000루피를 초과해서는 안\\n되며 1년에 그 누적 관세액이 60,000루피를 초과하거나 샘플의 개수가 15개를 초과해서는 안 된다. 샘플의 가치가 10,000루피 이하일\\n경우 관세가 면제되나, 샘플의 가치가 10,000루피 이상일 경우 9개월 안에 반출 되어야 하며, 필요의 경우 각 세관의 Assistant\\nCommissioner of Customs 권한으로 그 기간을 연장할 수 있다. 세관에서 판단하여 고가의 샘플의 경우 보증 관세를 지불하고 9개월 안\\n에 재 반출한다는 조건으로 통관할 수 있다.  \\n \\n4) 약식통관  \\n \\n인도는 2,000루피 이하의 제품의 경우 약식통관이 가능하다. 이는 전자상거래의 물품에도 적용된다. 인도는 2,000루피 이하의 품목을\\n3가지 분류로 나누어 HS코드를 적용하고 있으며, 그 분류는 다음과 같다.   \\n \\n    - 9804.10.00 의약품 \\n    - 9805.10.00 가공 또는 가공되지 않은 고기, 생선, 야채 등의 음식물 및 비누, 과일 등의 생활용품 \\n    - 9804.90.00 기타  \\n \\n인도 상공국 산하 무역국(Directorate General of Foreign Trade)은 위의 3가지 분류 HS코드의 과세가격에 총 42.08%의 관세를 부과\\n하고 있다. 다만, 수입 제한·금지 품목으로 분류되지 않으며, 자가사용으로 판단되는 물픔은 면세된다.  '"
      ]
     },
     "execution_count": 63,
     "metadata": {},
     "output_type": "execute_result"
    }
   ],
   "source": [
    "docs[0].page_content"
   ]
  },
  {
   "cell_type": "code",
   "execution_count": 64,
   "metadata": {},
   "outputs": [],
   "source": [
    "# 단계 1: 문서 로드(Load Documents)\n",
    "loader = PyMuPDFLoader(\"documents/[정책][제약산업정보포털][2019.04.08]인도 통관 및 운송.pdf\")\n",
    "docs = loader.load()"
   ]
  },
  {
   "cell_type": "code",
   "execution_count": 65,
   "metadata": {},
   "outputs": [
    {
     "data": {
      "text/plain": [
       "[Document(metadata={'source': 'documents/[정책][제약산업정보포털][2019.04.08]인도 통관 및 운송.pdf', 'file_path': 'documents/[정책][제약산업정보포털][2019.04.08]인도 통관 및 운송.pdf', 'page': 0, 'total_pages': 4, 'format': 'PDF 1.4', 'title': '', 'author': '', 'subject': '', 'keywords': '', 'creator': '', 'producer': 'iText 2.1.7 by 1T3XT', 'creationDate': \"D:20190305111302+09'00'\", 'modDate': \"D:20190305111302+09'00'\", 'trapped': ''}, page_content='5. 통관 및 운송\\n \\n \\n가. 통관제도\\n  \\n \\n통관 유형별 절차\\n \\n1) 정식통관 \\n \\n인도에서 일반적인 경우 통관에 소요되는 시간은 행정상 운송 수입의 경우 3~4 근무일, 항공 운송은 약 1~2 근무일이 소요된다. 일단 물\\n품이 입항하게 되면 보세구역장치에 적하되고, 이후 전자데이터 교환(EDI) 신고 또는 수작업신고 통해 수입신고를 하게 된다. 이후 인도\\n관세청의 수입요건, 관세 평가 등을 검사하는 Appraiser Section과 관련 서류 및 관세율을 재점검하는 Audit Section 과정을 거치게 되\\n며, 이를 통과하면 모든 서류에 서명 받게 된다. 이후 Challan No.라는 인도 관세 납부를 위한 번호를 부여받게 되고, 이를 근거로 관세를\\n완납하게 되면 물품을 반출할 수 있다. 또한, 정식통관의 경우 인도 세관은 일반적으로 화물 도착 후 7일 이후부터 체화료(Demurrage\\nCharge)를 부과하고, 컨테이너 운송의 경우 5일 이후부터 항공운송인 경우 3일 이후부터 체화료가 부과한다. \\n \\n2) 임시 통관 \\n \\n인도에 들여온 품목을 사용하지 않고 24개월 이내에 다시 반출할 목적이 있는 경우 임시통관이 이루어지게 된다. 임시통관을 위해서는 해\\n당 품목의 관세를 납부해야하는데, 다시 반출할 시 장치했던 시간에 비례하여 관세를 환급받을 수 있다. 인도 내로 반입되지 않고 바로 반\\n출할 경우 최대 98%까지 환급이 가능하나, 인도 내 해당 물품이 사용될 경우 기간과 상관없이 관세의 환급이 불가하다. \\n \\n  ㅇ ATA Carnet \\n    - ATA 까르네(ATA Carnet)는 Admission Temporaire이라는 임시통관을 뜻하는 불어와 Temporary Admission의 영어 그리고 수첩\\n을 뜻하는 불어 Carnet의 머리글자 조합으로, 임시 통관을 위한 수첩을 말한다. ATA 협약에는 인도를 포함하여 전 세계 71개국이 서명하\\n여 발효 중이며, ATA 통관 수첩은 국제 관세 서류(International Uniform Customs Document)의 일종으로 물품의 임시 통관 시 관세\\n및 보증금을 제공하지 않아도 되는 일종의 보증서 역할 및 수출입 신고 시 세관에 제출하는 수출입 신고서 역할을 한다.  \\n \\n3) 전시물품의 통관  \\n \\n전시·박람회, 학회, 세미나, 견본품 및 각종 회의를 위한 물품의 통관은 관세가 면제된다. 하지만 그 관세액이 5000루피를 초과해서는 안\\n되며 1년에 그 누적 관세액이 60,000루피를 초과하거나 샘플의 개수가 15개를 초과해서는 안 된다. 샘플의 가치가 10,000루피 이하일\\n경우 관세가 면제되나, 샘플의 가치가 10,000루피 이상일 경우 9개월 안에 반출 되어야 하며, 필요의 경우 각 세관의 Assistant\\nCommissioner of Customs 권한으로 그 기간을 연장할 수 있다. 세관에서 판단하여 고가의 샘플의 경우 보증 관세를 지불하고 9개월 안\\n에 재 반출한다는 조건으로 통관할 수 있다.  \\n \\n4) 약식통관  \\n \\n인도는 2,000루피 이하의 제품의 경우 약식통관이 가능하다. 이는 전자상거래의 물품에도 적용된다. 인도는 2,000루피 이하의 품목을\\n3가지 분류로 나누어 HS코드를 적용하고 있으며, 그 분류는 다음과 같다.   \\n \\n    - 9804.10.00 의약품 \\n    - 9805.10.00 가공 또는 가공되지 않은 고기, 생선, 야채 등의 음식물 및 비누, 과일 등의 생활용품 \\n    - 9804.90.00 기타  \\n \\n인도 상공국 산하 무역국(Directorate General of Foreign Trade)은 위의 3가지 분류 HS코드의 과세가격에 총 42.08%의 관세를 부과\\n하고 있다. 다만, 수입 제한·금지 품목으로 분류되지 않으며, 자가사용으로 판단되는 물픔은 면세된다.  \\n'),\n",
       " Document(metadata={'source': 'documents/[정책][제약산업정보포털][2019.04.08]인도 통관 및 운송.pdf', 'file_path': 'documents/[정책][제약산업정보포털][2019.04.08]인도 통관 및 운송.pdf', 'page': 1, 'total_pages': 4, 'format': 'PDF 1.4', 'title': '', 'author': '', 'subject': '', 'keywords': '', 'creator': '', 'producer': 'iText 2.1.7 by 1T3XT', 'creationDate': \"D:20190305111302+09'00'\", 'modDate': \"D:20190305111302+09'00'\", 'trapped': ''}, page_content=' \\n5) 허가 통관 \\n \\n수입의 제한 품목 및 식물, 씨앗, 과일 등 허가증이나 수입 라이센스가 필요로하는 품목의 경우 허가 통관을 실시하게 된다. 정식 통관과\\n그 절차가 다르지는 않으나 필요 허가증 또는 라이센스를 수입신고 시 수입 서류와 함께 세관에 제출해야 한다. 식물, 씨앗, 과일의 경우\\n동식물 검역소에서 샘플의 테스트를 통해 발부받을 수 있으며, 제한 품목의 경우 그에 해당하는 수입 라이센스를 발부받아 수입할 수 있다\\n.   \\n \\n통관 시 유의사항\\n \\n  ㅇ 통관의 지연: 인도의 통관은 행정상 일반적으로 3~4 근무일이 소요된다. 이를 단축하기 위해 통관 시스템 현대화를 위해 많은 노력을\\n기울이지만 아직까지 그 행정 시스템이 완전하지 않으며, 한국과 다르게 거의 모든 서류를 오프라인으로 직접 제출해야 하기 때문에 통관\\n지연이 자주 발생한다. 또한, 사소한 서류 기재 요류 등을 이유로 통관이 장기간 지연되거나, 이를 빌미로 뒷돈을 요구하는 경우가 발생하\\n기도 한다.    \\n \\n  ㅇ 통관 정보의 불투명: 인도의 관세 행정은 한국에 비해 그 정보 및 기준이 전반적으로 불투명하며, 실무선의 재량권이 크고 융통성 없\\n는 처리 관행으로 인해 통관 애로가 자주 발생한다. 인도는 한국과 달리 통관 단계(Appraiser Section)에서 관세평가를 하는데, 중고 기계\\n등과 같은 물품의 경우 송장(Invoice)상의 가격과소평가(Undervalue)를 문제 삼아 직권으로 상품 가치를 정하고 높은 관세를 부과하는\\n경우도 종종 발생한다.  \\n \\n  ㅇ FTA 사후 협정 적용 불가능: 인도는 공식적으로는 FTA 사후 협정 적용을 인정하고 있으나, 세관의 행정 시스템이 갖추어지지 않아 실\\n무적으로 FTA 사후 협정 적용이 불가능하다. 다만, 통관 시 FTA 협정 적용을 위한 원산지 증명서를 발급 중이라는 증명서를 제출하면,\\nFTA 사후 협정 적용을 받아주는 경우가 있으나 통관을 담당하는 세관 공무원의 재량이 크게 작용한다. 또한, 관세 혜택이 주어지는 다른\\n제도의 경우에도 증빙이 충분치 않다는 이유로 통관을 거부하는 사례도 자주 발생한다.  \\n \\n  ㅇ 인도 지역별 세관관할: 인도의 세관 행정은 명목상 통일되어 있으나, 지역별 차이나 관할 세관 당국 간 소통 미비로 인하여 관세통관\\n상의 애로 해소가 발생하는 경우가 있다. 사전품목분류 심사제도의 경우에도 각 관할 세관별로 운영할 가능성이 높으며, 이에 한 관할지에\\n서 사전품목분류를 확정받았다 하더라도 다른 관할지에서는 이를 그대로 적용하지 않을 가능성이 있다.  \\n \\n  ㅇ 서류의 수정: 인도는 통관에 필요한 서류에 기재 오류나 상호 간의 불일치가 있을 시 이를 수정하기가 매우 어려우며 이로 인해 통관\\n절차가 2, 3주씩 지연되기도 한다. 영문 한 글자 오타를 수정하는 데 3주를 허비해야 할 수도 있으며, 허위신고를 이유로 과태료가 발생할\\n수 있다.   \\n \\n \\n나. 주요 포워딩 업체 및 통관업체\\n \\n \\nㅇ KGL Network Private Limited\\n \\n주소\\nPlot No. 261-262, 2nd Floor, -6,, Street Number 6, Mahipalpur Extension, Mahipalpur, New\\nDelhi, Delhi 110037\\n전화번호\\n+91)11-4570 9700\\n이메일\\nYsCHANG@kglindia.com\\n홈페이지\\nhttp://kglindia.com/\\n비고\\n한국업체 \\n'),\n",
       " Document(metadata={'source': 'documents/[정책][제약산업정보포털][2019.04.08]인도 통관 및 운송.pdf', 'file_path': 'documents/[정책][제약산업정보포털][2019.04.08]인도 통관 및 운송.pdf', 'page': 2, 'total_pages': 4, 'format': 'PDF 1.4', 'title': '', 'author': '', 'subject': '', 'keywords': '', 'creator': '', 'producer': 'iText 2.1.7 by 1T3XT', 'creationDate': \"D:20190305111302+09'00'\", 'modDate': \"D:20190305111302+09'00'\", 'trapped': ''}, page_content=' \\nㅇ Taewoong Logistics\\n \\n \\nㅇ CJ Korea Express India Pvt. Ltd\\n \\n \\nㅇ FIRST FLIGHT\\n \\n \\nㅇ Gati Ltd.\\n \\n \\n \\n \\n주소\\nNo 75 beekeyen towers coral merchant street manady Chennai, Chennai, Tamil Nadu 600001\\n전화번호\\n+91)44-4343-2716\\n이메일\\nJames@taewoong.in\\n홈페이지\\nhttp://www.e-tgl.com/eng/company02.do\\n비고\\n한국업체 \\n주소\\n416, 4th Floor, Suncity Business Tower, Sector 54, Golf Course Road, Gurugram, Haryana\\n122002\\n전화번호\\n124-457-6688\\n이메일\\nSUCHELO.KIM@Cj.net\\n홈페이지\\nhttps://www.cjlogistics.com/en/network/en-in\\n비고\\n한국업체 \\n주소\\nG - 1001/02, 10th Floor, Lotus Corporate Park, Off Jay Coach Flyover, Western Express Highway,\\nGoregaon (E), Mumbai - 400 063. INDIA\\n전화번호\\n+91)22-62686666\\n이메일\\nffcl@firstflight.net\\n홈페이지\\nhttps://firstflight.net/\\n주소\\nPlot No.20, Survey No.12,\\n전화번호\\n+91)40-71204284\\n이메일\\ncustomerservice@gati.com\\n홈페이지\\nhttps://www.gati.com/contact-us/contact-details/\\n'),\n",
       " Document(metadata={'source': 'documents/[정책][제약산업정보포털][2019.04.08]인도 통관 및 운송.pdf', 'file_path': 'documents/[정책][제약산업정보포털][2019.04.08]인도 통관 및 운송.pdf', 'page': 3, 'total_pages': 4, 'format': 'PDF 1.4', 'title': '', 'author': '', 'subject': '', 'keywords': '', 'creator': '', 'producer': 'iText 2.1.7 by 1T3XT', 'creationDate': \"D:20190305111302+09'00'\", 'modDate': \"D:20190305111302+09'00'\", 'trapped': ''}, page_content='국가정보(무역-통관 및 운송) 항목은 \"공공누리 1유형 출처표시\" 조건에 따라\\n이용 할 수 있습니다.\\n')]"
      ]
     },
     "execution_count": 65,
     "metadata": {},
     "output_type": "execute_result"
    }
   ],
   "source": [
    "docs"
   ]
  },
  {
   "cell_type": "code",
   "execution_count": 66,
   "metadata": {},
   "outputs": [
    {
     "data": {
      "text/plain": [
       "{'source': 'documents/[정책][제약산업정보포털][2019.04.08]인도 통관 및 운송.pdf',\n",
       " 'file_path': 'documents/[정책][제약산업정보포털][2019.04.08]인도 통관 및 운송.pdf',\n",
       " 'page': 0,\n",
       " 'total_pages': 4,\n",
       " 'format': 'PDF 1.4',\n",
       " 'title': '',\n",
       " 'author': '',\n",
       " 'subject': '',\n",
       " 'keywords': '',\n",
       " 'creator': '',\n",
       " 'producer': 'iText 2.1.7 by 1T3XT',\n",
       " 'creationDate': \"D:20190305111302+09'00'\",\n",
       " 'modDate': \"D:20190305111302+09'00'\",\n",
       " 'trapped': ''}"
      ]
     },
     "execution_count": 66,
     "metadata": {},
     "output_type": "execute_result"
    }
   ],
   "source": [
    "docs[0].metadata"
   ]
  },
  {
   "cell_type": "code",
   "execution_count": 67,
   "metadata": {},
   "outputs": [
    {
     "data": {
      "text/plain": [
       "'5. 통관 및 운송\\n \\n \\n가. 통관제도\\n  \\n \\n통관 유형별 절차\\n \\n1) 정식통관 \\n \\n인도에서 일반적인 경우 통관에 소요되는 시간은 행정상 운송 수입의 경우 3~4 근무일, 항공 운송은 약 1~2 근무일이 소요된다. 일단 물\\n품이 입항하게 되면 보세구역장치에 적하되고, 이후 전자데이터 교환(EDI) 신고 또는 수작업신고 통해 수입신고를 하게 된다. 이후 인도\\n관세청의 수입요건, 관세 평가 등을 검사하는 Appraiser Section과 관련 서류 및 관세율을 재점검하는 Audit Section 과정을 거치게 되\\n며, 이를 통과하면 모든 서류에 서명 받게 된다. 이후 Challan No.라는 인도 관세 납부를 위한 번호를 부여받게 되고, 이를 근거로 관세를\\n완납하게 되면 물품을 반출할 수 있다. 또한, 정식통관의 경우 인도 세관은 일반적으로 화물 도착 후 7일 이후부터 체화료(Demurrage\\nCharge)를 부과하고, 컨테이너 운송의 경우 5일 이후부터 항공운송인 경우 3일 이후부터 체화료가 부과한다. \\n \\n2) 임시 통관 \\n \\n인도에 들여온 품목을 사용하지 않고 24개월 이내에 다시 반출할 목적이 있는 경우 임시통관이 이루어지게 된다. 임시통관을 위해서는 해\\n당 품목의 관세를 납부해야하는데, 다시 반출할 시 장치했던 시간에 비례하여 관세를 환급받을 수 있다. 인도 내로 반입되지 않고 바로 반\\n출할 경우 최대 98%까지 환급이 가능하나, 인도 내 해당 물품이 사용될 경우 기간과 상관없이 관세의 환급이 불가하다. \\n \\n  ㅇ ATA Carnet \\n    - ATA 까르네(ATA Carnet)는 Admission Temporaire이라는 임시통관을 뜻하는 불어와 Temporary Admission의 영어 그리고 수첩\\n을 뜻하는 불어 Carnet의 머리글자 조합으로, 임시 통관을 위한 수첩을 말한다. ATA 협약에는 인도를 포함하여 전 세계 71개국이 서명하\\n여 발효 중이며, ATA 통관 수첩은 국제 관세 서류(International Uniform Customs Document)의 일종으로 물품의 임시 통관 시 관세\\n및 보증금을 제공하지 않아도 되는 일종의 보증서 역할 및 수출입 신고 시 세관에 제출하는 수출입 신고서 역할을 한다.  \\n \\n3) 전시물품의 통관  \\n \\n전시·박람회, 학회, 세미나, 견본품 및 각종 회의를 위한 물품의 통관은 관세가 면제된다. 하지만 그 관세액이 5000루피를 초과해서는 안\\n되며 1년에 그 누적 관세액이 60,000루피를 초과하거나 샘플의 개수가 15개를 초과해서는 안 된다. 샘플의 가치가 10,000루피 이하일\\n경우 관세가 면제되나, 샘플의 가치가 10,000루피 이상일 경우 9개월 안에 반출 되어야 하며, 필요의 경우 각 세관의 Assistant\\nCommissioner of Customs 권한으로 그 기간을 연장할 수 있다. 세관에서 판단하여 고가의 샘플의 경우 보증 관세를 지불하고 9개월 안\\n에 재 반출한다는 조건으로 통관할 수 있다.  \\n \\n4) 약식통관  \\n \\n인도는 2,000루피 이하의 제품의 경우 약식통관이 가능하다. 이는 전자상거래의 물품에도 적용된다. 인도는 2,000루피 이하의 품목을\\n3가지 분류로 나누어 HS코드를 적용하고 있으며, 그 분류는 다음과 같다.   \\n \\n    - 9804.10.00 의약품 \\n    - 9805.10.00 가공 또는 가공되지 않은 고기, 생선, 야채 등의 음식물 및 비누, 과일 등의 생활용품 \\n    - 9804.90.00 기타  \\n \\n인도 상공국 산하 무역국(Directorate General of Foreign Trade)은 위의 3가지 분류 HS코드의 과세가격에 총 42.08%의 관세를 부과\\n하고 있다. 다만, 수입 제한·금지 품목으로 분류되지 않으며, 자가사용으로 판단되는 물픔은 면세된다.  \\n'"
      ]
     },
     "execution_count": 67,
     "metadata": {},
     "output_type": "execute_result"
    }
   ],
   "source": [
    "docs[0].page_content"
   ]
  },
  {
   "cell_type": "code",
   "execution_count": null,
   "metadata": {},
   "outputs": [],
   "source": []
  }
 ],
 "metadata": {
  "kernelspec": {
   "display_name": "autorag",
   "language": "python",
   "name": "python3"
  },
  "language_info": {
   "codemirror_mode": {
    "name": "ipython",
    "version": 3
   },
   "file_extension": ".py",
   "mimetype": "text/x-python",
   "name": "python",
   "nbconvert_exporter": "python",
   "pygments_lexer": "ipython3",
   "version": "3.12.4"
  }
 },
 "nbformat": 4,
 "nbformat_minor": 2
}
