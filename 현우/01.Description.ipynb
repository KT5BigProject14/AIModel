{
 "cells": [
  {
   "cell_type": "code",
   "execution_count": 1,
   "metadata": {},
   "outputs": [],
   "source": [
    "import os \n",
    "import pandas as pd \n",
    "\n",
    "from RAGPipeLine import Ragpipeline\n",
    "from utils.mongo_RAGdoc import RagDocument\n"
   ]
  },
  {
   "cell_type": "code",
   "execution_count": 2,
   "metadata": {},
   "outputs": [
    {
     "name": "stdout",
     "output_type": "stream",
     "text": [
      "[초기화] vector_store 초기화 완료\n",
      "[초기화] retriever 초기화 완료\n",
      "[초기화] RAG chain 초기화 완료\n"
     ]
    }
   ],
   "source": [
    "pipeline = Ragpipeline()\n"
   ]
  },
  {
   "cell_type": "markdown",
   "metadata": {},
   "source": [
    "## 1. 데이터 업로드 및 DB 구축하기 "
   ]
  },
  {
   "cell_type": "code",
   "execution_count": 3,
   "metadata": {},
   "outputs": [],
   "source": [
    "obj = RagDocument()\n",
    "# obj.file.path = './documents/크롤링_리스트.csv'\n",
    "obj.file.path = './documents/[정책][제약산업정보포털][2019.04.08]인도 통관 및 운송.pdf'\n",
    "# 벡터 DB에 문서 업데이트 시도\n"
   ]
  },
  {
   "cell_type": "code",
   "execution_count": 4,
   "metadata": {},
   "outputs": [
    {
     "name": "stderr",
     "output_type": "stream",
     "text": [
      "유사도 검사 중...:  25%|██▌       | 1/4 [00:00<00:02,  1.16it/s]"
     ]
    },
    {
     "name": "stdout",
     "output_type": "stream",
     "text": [
      "기존 DB에 유사한 청크가 있음으로 판단되어 추가되지 않음  - 0.0\n"
     ]
    },
    {
     "name": "stderr",
     "output_type": "stream",
     "text": [
      "유사도 검사 중...:  50%|█████     | 2/4 [00:01<00:01,  1.49it/s]"
     ]
    },
    {
     "name": "stdout",
     "output_type": "stream",
     "text": [
      "기존 DB에 유사한 청크가 있음으로 판단되어 추가되지 않음  - 0.0\n"
     ]
    },
    {
     "name": "stderr",
     "output_type": "stream",
     "text": [
      "유사도 검사 중...:  75%|███████▌  | 3/4 [00:01<00:00,  1.92it/s]"
     ]
    },
    {
     "name": "stdout",
     "output_type": "stream",
     "text": [
      "기존 DB에 유사한 청크가 있음으로 판단되어 추가되지 않음  - 0.0\n"
     ]
    },
    {
     "name": "stderr",
     "output_type": "stream",
     "text": [
      "유사도 검사 중...: 100%|██████████| 4/4 [00:02<00:00,  1.95it/s]"
     ]
    },
    {
     "name": "stdout",
     "output_type": "stream",
     "text": [
      "기존 DB에 유사한 청크가 있음으로 판단되어 추가되지 않음  - 0.0\n",
      "모두 유사한 청크로 판단되어 해당 문서가 저장되지 않음\n",
      "[문서업로드] 유사한 문서가 발견되어 벡터스토어 업데이트가 거절되었습니다.\n"
     ]
    },
    {
     "name": "stderr",
     "output_type": "stream",
     "text": [
      "\n"
     ]
    }
   ],
   "source": [
    "with open(obj.file.path, 'rb') as f:\n",
    "    if pipeline.update_vector_db(f, obj.file):\n",
    "        print(\"[문서업로드] 벡터 스토어 업데이트에 성공하였습니다.\")\n",
    "    else:\n",
    "        # 유사한 문서가 존재하여 업데이트에 실패 시 저장된 문서 삭제\n",
    "        print(\"[문서업로드] 유사한 문서가 발견되어 벡터스토어 업데이트가 거절되었습니다.\")\n"
   ]
  },
  {
   "cell_type": "markdown",
   "metadata": {},
   "source": [
    "### 1.1 확인해보기 - DB 접근 및 질문에 대한 유사도 확인 "
   ]
  },
  {
   "cell_type": "code",
   "execution_count": 5,
   "metadata": {},
   "outputs": [],
   "source": [
    "vectorDB = pipeline.init_vectorDB()"
   ]
  },
  {
   "cell_type": "code",
   "execution_count": 6,
   "metadata": {},
   "outputs": [],
   "source": [
    "persist_dir = \"./database\"\n",
    "vectorDB = pipeline.init_vectorDB(persist_dir)"
   ]
  },
  {
   "cell_type": "code",
   "execution_count": 7,
   "metadata": {},
   "outputs": [],
   "source": [
    "database = vectorDB.get()"
   ]
  },
  {
   "cell_type": "code",
   "execution_count": 8,
   "metadata": {},
   "outputs": [
    {
     "data": {
      "text/plain": [
       "{'ids': ['2474460f-c5ac-42d6-868a-d8ea9add3ab1',\n",
       "  '62744446-86cd-47f6-ba86-acb25d79ad97',\n",
       "  'e81643f2-1880-4449-9a1b-9b3feed8ec44',\n",
       "  'f82806f3-3f38-4e16-8e80-d2d453c32b18'],\n",
       " 'embeddings': None,\n",
       " 'metadatas': [{'page': 1,\n",
       "   'source': './documents/[정책][제약산업정보포털][2019.04.08]인도 통관 및 운송.pdf'},\n",
       "  {'page': 3,\n",
       "   'source': './documents/[정책][제약산업정보포털][2019.04.08]인도 통관 및 운송.pdf'},\n",
       "  {'page': 2,\n",
       "   'source': './documents/[정책][제약산업정보포털][2019.04.08]인도 통관 및 운송.pdf'},\n",
       "  {'page': 0,\n",
       "   'source': './documents/[정책][제약산업정보포털][2019.04.08]인도 통관 및 운송.pdf'}],\n",
       " 'documents': [' \\n5) 허가 통관 \\n \\n수입의 제한 품목 및 식물, 씨앗, 과일 등 허가증이나 수입 라이센스가 필요로하는 품목의 경우 허가 통관을 실시하게 된다. 정식 통관과\\n그 절차가 다르지는 않으나 필요 허가증 또는 라이센스를 수입신고 시 수입 서류와 함께 세관에 제출해야 한다. 식물, 씨앗, 과일의 경우\\n동식물 검역소에서 샘플의 테스트를 통해 발부받을 수 있으며, 제한 품목의 경우 그에 해당하는 수입 라이센스를 발부받아 수입할 수 있다\\n.   \\n \\n통관 시 유의사항\\n \\n  ㅇ 통관의 지연: 인도의 통관은 행정상 일반적으로 3~4 근무일이 소요된다. 이를 단축하기 위해 통관 시스템 현대화를 위해 많은 노력을\\n기울이지만 아직까지 그 행정 시스템이 완전하지 않으며, 한국과 다르게 거의 모든 서류를 오프라인으로 직접 제출해야 하기 때문에 통관\\n지연이 자주 발생한다. 또한, 사소한 서류 기재 요류 등을 이유로 통관이 장기간 지연되거나, 이를 빌미로 뒷돈을 요구하는 경우가 발생하\\n기도 한다.    \\n \\n  ㅇ 통관 정보의 불투명: 인도의 관세 행정은 한국에 비해 그 정보 및 기준이 전반적으로 불투명하며, 실무선의 재량권이 크고 융통성 없\\n는 처리 관행으로 인해 통관 애로가 자주 발생한다. 인도는 한국과 달리 통관 단계(Appraiser Section)에서 관세평가를 하는데, 중고 기계\\n등과 같은 물품의 경우 송장(Invoice)상의 가격과소평가(Undervalue)를 문제 삼아 직권으로 상품 가치를 정하고 높은 관세를 부과하는\\n경우도 종종 발생한다.  \\n \\n  ㅇ FTA 사후 협정 적용 불가능: 인도는 공식적으로는 FTA 사후 협정 적용을 인정하고 있으나, 세관의 행정 시스템이 갖추어지지 않아 실\\n무적으로 FTA 사후 협정 적용이 불가능하다. 다만, 통관 시 FTA 협정 적용을 위한 원산지 증명서를 발급 중이라는 증명서를 제출하면,\\nFTA 사후 협정 적용을 받아주는 경우가 있으나 통관을 담당하는 세관 공무원의 재량이 크게 작용한다. 또한, 관세 혜택이 주어지는 다른\\n제도의 경우에도 증빙이 충분치 않다는 이유로 통관을 거부하는 사례도 자주 발생한다.  \\n \\n  ㅇ 인도 지역별 세관관할: 인도의 세관 행정은 명목상 통일되어 있으나, 지역별 차이나 관할 세관 당국 간 소통 미비로 인하여 관세통관\\n상의 애로 해소가 발생하는 경우가 있다. 사전품목분류 심사제도의 경우에도 각 관할 세관별로 운영할 가능성이 높으며, 이에 한 관할지에\\n서 사전품목분류를 확정받았다 하더라도 다른 관할지에서는 이를 그대로 적용하지 않을 가능성이 있다.  \\n \\n  ㅇ 서류의 수정: 인도는 통관에 필요한 서류에 기재 오류나 상호 간의 불일치가 있을 시 이를 수정하기가 매우 어려우며 이로 인해 통관\\n절차가 2, 3주씩 지연되기도 한다. 영문 한 글자 오타를 수정하는 데 3주를 허비해야 할 수도 있으며, 허위신고를 이유로 과태료가 발생할\\n수 있다.   \\n \\n \\n나. 주요 포워딩 업체 및 통관업체\\n \\n \\nㅇ KGL Network Private Limited\\n \\n주소Plot No. 261-262, 2nd Floor, -6,, Street Number 6, Mahipalpur Extension, Mahipalpur, New\\nDelhi, Delhi 110037\\n전화번호 +91)11-4570 9700\\n이메일 YsCHANG@kglindia.com\\n홈페이지 http://kglindia.com/\\n비고 한국업체 ',\n",
       "  '국가정보(무역-통관 및 운송) 항목은 \"공공누리 1유형 출처표시\" 조건에 따라\\n이용 할 수 있습니다.',\n",
       "  ' \\nㅇ Taewoong Logistics\\n \\n \\nㅇ CJ Korea Express India Pvt. Ltd\\n \\n \\nㅇ FIRST FLIGHT\\n \\n \\nㅇ Gati Ltd.\\n \\n \\n \\n 주소 No 75 beekeyen towers coral merchant street manady Chennai, Chennai, Tamil Nadu 600001\\n전화번호 +91)44-4343-2716\\n이메일 James@taewoong.in\\n홈페이지 http://www.e-tgl.com/eng/company02.do\\n비고 한국업체 \\n주소416, 4th Floor, Suncity Business Tower, Sector 54, Golf Course Road, Gurugram, Haryana\\n122002\\n전화번호 124-457-6688\\n이메일 SUCHELO.KIM@Cj.net\\n홈페이지 https://www.cjlogistics.com/en/network/en-in\\n비고 한국업체 \\n주소G - 1001/02, 10th Floor, Lotus Corporate Park, Off Jay Coach Flyover, Western Express Highway,\\nGoregaon (E), Mumbai - 400 063. INDIA\\n전화번호 +91)22-62686666\\n이메일 ffcl@firstflight.net\\n홈페이지 https://firstflight.net/\\n주소 Plot No.20, Survey No.12,\\n전화번호 +91)40-71204284\\n이메일 customerservice@gati.com\\n홈페이지 https://www.gati.com/contact-us/contact-details/',\n",
       "  '5. 통관 및 운송\\n \\n \\n가. 통관제도\\n  \\n \\n통관 유형별 절차\\n \\n1) 정식통관 \\n \\n인도에서 일반적인 경우 통관에 소요되는 시간은 행정상 운송 수입의 경우 3~4 근무일, 항공 운송은 약 1~2 근무일이 소요된다. 일단 물\\n품이 입항하게 되면 보세구역장치에 적하되고, 이후 전자데이터 교환(EDI) 신고 또는 수작업신고 통해 수입신고를 하게 된다. 이후 인도\\n관세청의 수입요건, 관세 평가 등을 검사하는 Appraiser Section과 관련 서류 및 관세율을 재점검하는 Audit Section 과정을 거치게 되\\n며, 이를 통과하면 모든 서류에 서명 받게 된다. 이후 Challan No.라는 인도 관세 납부를 위한 번호를 부여받게 되고, 이를 근거로 관세를\\n완납하게 되면 물품을 반출할 수 있다. 또한, 정식통관의 경우 인도 세관은 일반적으로 화물 도착 후 7일 이후부터 체화료(Demurrage\\nCharge)를 부과하고, 컨테이너 운송의 경우 5일 이후부터 항공운송인 경우 3일 이후부터 체화료가 부과한다. \\n \\n2) 임시 통관 \\n \\n인도에 들여온 품목을 사용하지 않고 24개월 이내에 다시 반출할 목적이 있는 경우 임시통관이 이루어지게 된다. 임시통관을 위해서는 해\\n당 품목의 관세를 납부해야하는데, 다시 반출할 시 장치했던 시간에 비례하여 관세를 환급받을 수 있다. 인도 내로 반입되지 않고 바로 반\\n출할 경우 최대 98%까지 환급이 가능하나, 인도 내 해당 물품이 사용될 경우 기간과 상관없이 관세의 환급이 불가하다. \\n \\n  ㅇ ATA Carnet \\n    - ATA 까르네(ATA Carnet)는 Admission Temporaire이라는 임시통관을 뜻하는 불어와 Temporary Admission의 영어 그리고 수첩\\n을 뜻하는 불어 Carnet의 머리글자 조합으로, 임시 통관을 위한 수첩을 말한다. ATA 협약에는 인도를 포함하여 전 세계 71개국이 서명하\\n여 발효 중이며, ATA 통관 수첩은 국제 관세 서류(International Uniform Customs Document)의 일종으로 물품의 임시 통관 시 관세\\n및 보증금을 제공하지 않아도 되는 일종의 보증서 역할 및 수출입 신고 시 세관에 제출하는 수출입 신고서 역할을 한다.  \\n \\n3) 전시물품의 통관  \\n \\n전시·박람회, 학회, 세미나, 견본품 및 각종 회의를 위한 물품의 통관은 관세가 면제된다. 하지만 그 관세액이 5000루피를 초과해서는 안\\n되며 1년에 그 누적 관세액이 60,000루피를 초과하거나 샘플의 개수가 15개를 초과해서는 안 된다. 샘플의 가치가 10,000루피 이하일\\n경우 관세가 면제되나, 샘플의 가치가 10,000루피 이상일 경우 9개월 안에 반출 되어야 하며, 필요의 경우 각 세관의 Assistant\\nCommissioner of Customs 권한으로 그 기간을 연장할 수 있다. 세관에서 판단하여 고가의 샘플의 경우 보증 관세를 지불하고 9개월 안\\n에 재 반출한다는 조건으로 통관할 수 있다.  \\n \\n4) 약식통관  \\n \\n인도는 2,000루피 이하의 제품의 경우 약식통관이 가능하다. 이는 전자상거래의 물품에도 적용된다. 인도는 2,000루피 이하의 품목을\\n3가지 분류로 나누어 HS코드를 적용하고 있으며, 그 분류는 다음과 같다.   \\n \\n    - 9804.10.00 의약품 \\n    - 9805.10.00 가공 또는 가공되지 않은 고기, 생선, 야채 등의 음식물 및 비누, 과일 등의 생활용품 \\n    - 9804.90.00 기타  \\n \\n인도 상공국 산하 무역국(Directorate General of Foreign Trade)은 위의 3가지 분류 HS코드의 과세가격에 총 42.08%의 관세를 부과\\n하고 있다. 다만, 수입 제한·금지 품목으로 분류되지 않으며, 자가사용으로 판단되는 물픔은 면세된다.  '],\n",
       " 'uris': None,\n",
       " 'data': None,\n",
       " 'included': ['metadatas', 'documents']}"
      ]
     },
     "execution_count": 8,
     "metadata": {},
     "output_type": "execute_result"
    }
   ],
   "source": [
    "database"
   ]
  },
  {
   "cell_type": "code",
   "execution_count": 9,
   "metadata": {},
   "outputs": [
    {
     "data": {
      "text/plain": [
       "dict_keys(['ids', 'embeddings', 'metadatas', 'documents', 'uris', 'data', 'included'])"
      ]
     },
     "execution_count": 9,
     "metadata": {},
     "output_type": "execute_result"
    }
   ],
   "source": [
    "database.keys()"
   ]
  },
  {
   "cell_type": "code",
   "execution_count": 10,
   "metadata": {},
   "outputs": [
    {
     "name": "stdout",
     "output_type": "stream",
     "text": [
      "4\n",
      "4\n"
     ]
    }
   ],
   "source": [
    "print(len(database['metadatas']))\n",
    "print(len(database['documents']))"
   ]
  },
  {
   "cell_type": "code",
   "execution_count": 11,
   "metadata": {},
   "outputs": [
    {
     "data": {
      "text/plain": [
       "[{'page': 1, 'source': './documents/[정책][제약산업정보포털][2019.04.08]인도 통관 및 운송.pdf'},\n",
       " {'page': 3, 'source': './documents/[정책][제약산업정보포털][2019.04.08]인도 통관 및 운송.pdf'},\n",
       " {'page': 2, 'source': './documents/[정책][제약산업정보포털][2019.04.08]인도 통관 및 운송.pdf'},\n",
       " {'page': 0, 'source': './documents/[정책][제약산업정보포털][2019.04.08]인도 통관 및 운송.pdf'}]"
      ]
     },
     "execution_count": 11,
     "metadata": {},
     "output_type": "execute_result"
    }
   ],
   "source": [
    "database['metadatas']"
   ]
  },
  {
   "cell_type": "code",
   "execution_count": 12,
   "metadata": {},
   "outputs": [
    {
     "data": {
      "text/plain": [
       "[' \\n5) 허가 통관 \\n \\n수입의 제한 품목 및 식물, 씨앗, 과일 등 허가증이나 수입 라이센스가 필요로하는 품목의 경우 허가 통관을 실시하게 된다. 정식 통관과\\n그 절차가 다르지는 않으나 필요 허가증 또는 라이센스를 수입신고 시 수입 서류와 함께 세관에 제출해야 한다. 식물, 씨앗, 과일의 경우\\n동식물 검역소에서 샘플의 테스트를 통해 발부받을 수 있으며, 제한 품목의 경우 그에 해당하는 수입 라이센스를 발부받아 수입할 수 있다\\n.   \\n \\n통관 시 유의사항\\n \\n  ㅇ 통관의 지연: 인도의 통관은 행정상 일반적으로 3~4 근무일이 소요된다. 이를 단축하기 위해 통관 시스템 현대화를 위해 많은 노력을\\n기울이지만 아직까지 그 행정 시스템이 완전하지 않으며, 한국과 다르게 거의 모든 서류를 오프라인으로 직접 제출해야 하기 때문에 통관\\n지연이 자주 발생한다. 또한, 사소한 서류 기재 요류 등을 이유로 통관이 장기간 지연되거나, 이를 빌미로 뒷돈을 요구하는 경우가 발생하\\n기도 한다.    \\n \\n  ㅇ 통관 정보의 불투명: 인도의 관세 행정은 한국에 비해 그 정보 및 기준이 전반적으로 불투명하며, 실무선의 재량권이 크고 융통성 없\\n는 처리 관행으로 인해 통관 애로가 자주 발생한다. 인도는 한국과 달리 통관 단계(Appraiser Section)에서 관세평가를 하는데, 중고 기계\\n등과 같은 물품의 경우 송장(Invoice)상의 가격과소평가(Undervalue)를 문제 삼아 직권으로 상품 가치를 정하고 높은 관세를 부과하는\\n경우도 종종 발생한다.  \\n \\n  ㅇ FTA 사후 협정 적용 불가능: 인도는 공식적으로는 FTA 사후 협정 적용을 인정하고 있으나, 세관의 행정 시스템이 갖추어지지 않아 실\\n무적으로 FTA 사후 협정 적용이 불가능하다. 다만, 통관 시 FTA 협정 적용을 위한 원산지 증명서를 발급 중이라는 증명서를 제출하면,\\nFTA 사후 협정 적용을 받아주는 경우가 있으나 통관을 담당하는 세관 공무원의 재량이 크게 작용한다. 또한, 관세 혜택이 주어지는 다른\\n제도의 경우에도 증빙이 충분치 않다는 이유로 통관을 거부하는 사례도 자주 발생한다.  \\n \\n  ㅇ 인도 지역별 세관관할: 인도의 세관 행정은 명목상 통일되어 있으나, 지역별 차이나 관할 세관 당국 간 소통 미비로 인하여 관세통관\\n상의 애로 해소가 발생하는 경우가 있다. 사전품목분류 심사제도의 경우에도 각 관할 세관별로 운영할 가능성이 높으며, 이에 한 관할지에\\n서 사전품목분류를 확정받았다 하더라도 다른 관할지에서는 이를 그대로 적용하지 않을 가능성이 있다.  \\n \\n  ㅇ 서류의 수정: 인도는 통관에 필요한 서류에 기재 오류나 상호 간의 불일치가 있을 시 이를 수정하기가 매우 어려우며 이로 인해 통관\\n절차가 2, 3주씩 지연되기도 한다. 영문 한 글자 오타를 수정하는 데 3주를 허비해야 할 수도 있으며, 허위신고를 이유로 과태료가 발생할\\n수 있다.   \\n \\n \\n나. 주요 포워딩 업체 및 통관업체\\n \\n \\nㅇ KGL Network Private Limited\\n \\n주소Plot No. 261-262, 2nd Floor, -6,, Street Number 6, Mahipalpur Extension, Mahipalpur, New\\nDelhi, Delhi 110037\\n전화번호 +91)11-4570 9700\\n이메일 YsCHANG@kglindia.com\\n홈페이지 http://kglindia.com/\\n비고 한국업체 ',\n",
       " '국가정보(무역-통관 및 운송) 항목은 \"공공누리 1유형 출처표시\" 조건에 따라\\n이용 할 수 있습니다.',\n",
       " ' \\nㅇ Taewoong Logistics\\n \\n \\nㅇ CJ Korea Express India Pvt. Ltd\\n \\n \\nㅇ FIRST FLIGHT\\n \\n \\nㅇ Gati Ltd.\\n \\n \\n \\n 주소 No 75 beekeyen towers coral merchant street manady Chennai, Chennai, Tamil Nadu 600001\\n전화번호 +91)44-4343-2716\\n이메일 James@taewoong.in\\n홈페이지 http://www.e-tgl.com/eng/company02.do\\n비고 한국업체 \\n주소416, 4th Floor, Suncity Business Tower, Sector 54, Golf Course Road, Gurugram, Haryana\\n122002\\n전화번호 124-457-6688\\n이메일 SUCHELO.KIM@Cj.net\\n홈페이지 https://www.cjlogistics.com/en/network/en-in\\n비고 한국업체 \\n주소G - 1001/02, 10th Floor, Lotus Corporate Park, Off Jay Coach Flyover, Western Express Highway,\\nGoregaon (E), Mumbai - 400 063. INDIA\\n전화번호 +91)22-62686666\\n이메일 ffcl@firstflight.net\\n홈페이지 https://firstflight.net/\\n주소 Plot No.20, Survey No.12,\\n전화번호 +91)40-71204284\\n이메일 customerservice@gati.com\\n홈페이지 https://www.gati.com/contact-us/contact-details/',\n",
       " '5. 통관 및 운송\\n \\n \\n가. 통관제도\\n  \\n \\n통관 유형별 절차\\n \\n1) 정식통관 \\n \\n인도에서 일반적인 경우 통관에 소요되는 시간은 행정상 운송 수입의 경우 3~4 근무일, 항공 운송은 약 1~2 근무일이 소요된다. 일단 물\\n품이 입항하게 되면 보세구역장치에 적하되고, 이후 전자데이터 교환(EDI) 신고 또는 수작업신고 통해 수입신고를 하게 된다. 이후 인도\\n관세청의 수입요건, 관세 평가 등을 검사하는 Appraiser Section과 관련 서류 및 관세율을 재점검하는 Audit Section 과정을 거치게 되\\n며, 이를 통과하면 모든 서류에 서명 받게 된다. 이후 Challan No.라는 인도 관세 납부를 위한 번호를 부여받게 되고, 이를 근거로 관세를\\n완납하게 되면 물품을 반출할 수 있다. 또한, 정식통관의 경우 인도 세관은 일반적으로 화물 도착 후 7일 이후부터 체화료(Demurrage\\nCharge)를 부과하고, 컨테이너 운송의 경우 5일 이후부터 항공운송인 경우 3일 이후부터 체화료가 부과한다. \\n \\n2) 임시 통관 \\n \\n인도에 들여온 품목을 사용하지 않고 24개월 이내에 다시 반출할 목적이 있는 경우 임시통관이 이루어지게 된다. 임시통관을 위해서는 해\\n당 품목의 관세를 납부해야하는데, 다시 반출할 시 장치했던 시간에 비례하여 관세를 환급받을 수 있다. 인도 내로 반입되지 않고 바로 반\\n출할 경우 최대 98%까지 환급이 가능하나, 인도 내 해당 물품이 사용될 경우 기간과 상관없이 관세의 환급이 불가하다. \\n \\n  ㅇ ATA Carnet \\n    - ATA 까르네(ATA Carnet)는 Admission Temporaire이라는 임시통관을 뜻하는 불어와 Temporary Admission의 영어 그리고 수첩\\n을 뜻하는 불어 Carnet의 머리글자 조합으로, 임시 통관을 위한 수첩을 말한다. ATA 협약에는 인도를 포함하여 전 세계 71개국이 서명하\\n여 발효 중이며, ATA 통관 수첩은 국제 관세 서류(International Uniform Customs Document)의 일종으로 물품의 임시 통관 시 관세\\n및 보증금을 제공하지 않아도 되는 일종의 보증서 역할 및 수출입 신고 시 세관에 제출하는 수출입 신고서 역할을 한다.  \\n \\n3) 전시물품의 통관  \\n \\n전시·박람회, 학회, 세미나, 견본품 및 각종 회의를 위한 물품의 통관은 관세가 면제된다. 하지만 그 관세액이 5000루피를 초과해서는 안\\n되며 1년에 그 누적 관세액이 60,000루피를 초과하거나 샘플의 개수가 15개를 초과해서는 안 된다. 샘플의 가치가 10,000루피 이하일\\n경우 관세가 면제되나, 샘플의 가치가 10,000루피 이상일 경우 9개월 안에 반출 되어야 하며, 필요의 경우 각 세관의 Assistant\\nCommissioner of Customs 권한으로 그 기간을 연장할 수 있다. 세관에서 판단하여 고가의 샘플의 경우 보증 관세를 지불하고 9개월 안\\n에 재 반출한다는 조건으로 통관할 수 있다.  \\n \\n4) 약식통관  \\n \\n인도는 2,000루피 이하의 제품의 경우 약식통관이 가능하다. 이는 전자상거래의 물품에도 적용된다. 인도는 2,000루피 이하의 품목을\\n3가지 분류로 나누어 HS코드를 적용하고 있으며, 그 분류는 다음과 같다.   \\n \\n    - 9804.10.00 의약품 \\n    - 9805.10.00 가공 또는 가공되지 않은 고기, 생선, 야채 등의 음식물 및 비누, 과일 등의 생활용품 \\n    - 9804.90.00 기타  \\n \\n인도 상공국 산하 무역국(Directorate General of Foreign Trade)은 위의 3가지 분류 HS코드의 과세가격에 총 42.08%의 관세를 부과\\n하고 있다. 다만, 수입 제한·금지 품목으로 분류되지 않으며, 자가사용으로 판단되는 물픔은 면세된다.  ']"
      ]
     },
     "execution_count": 12,
     "metadata": {},
     "output_type": "execute_result"
    }
   ],
   "source": [
    "database['documents']"
   ]
  },
  {
   "cell_type": "code",
   "execution_count": 13,
   "metadata": {},
   "outputs": [
    {
     "name": "stdout",
     "output_type": "stream",
     "text": [
      "[Document(metadata={'page': 0, 'source': './documents/[정책][제약산업정보포털][2019.04.08]인도 통관 및 운송.pdf'}, page_content='5. 통관 및 운송\\n \\n \\n가. 통관제도\\n  \\n \\n통관 유형별 절차\\n \\n1) 정식통관 \\n \\n인도에서 일반적인 경우 통관에 소요되는 시간은 행정상 운송 수입의 경우 3~4 근무일, 항공 운송은 약 1~2 근무일이 소요된다. 일단 물\\n품이 입항하게 되면 보세구역장치에 적하되고, 이후 전자데이터 교환(EDI) 신고 또는 수작업신고 통해 수입신고를 하게 된다. 이후 인도\\n관세청의 수입요건, 관세 평가 등을 검사하는 Appraiser Section과 관련 서류 및 관세율을 재점검하는 Audit Section 과정을 거치게 되\\n며, 이를 통과하면 모든 서류에 서명 받게 된다. 이후 Challan No.라는 인도 관세 납부를 위한 번호를 부여받게 되고, 이를 근거로 관세를\\n완납하게 되면 물품을 반출할 수 있다. 또한, 정식통관의 경우 인도 세관은 일반적으로 화물 도착 후 7일 이후부터 체화료(Demurrage\\nCharge)를 부과하고, 컨테이너 운송의 경우 5일 이후부터 항공운송인 경우 3일 이후부터 체화료가 부과한다. \\n \\n2) 임시 통관 \\n \\n인도에 들여온 품목을 사용하지 않고 24개월 이내에 다시 반출할 목적이 있는 경우 임시통관이 이루어지게 된다. 임시통관을 위해서는 해\\n당 품목의 관세를 납부해야하는데, 다시 반출할 시 장치했던 시간에 비례하여 관세를 환급받을 수 있다. 인도 내로 반입되지 않고 바로 반\\n출할 경우 최대 98%까지 환급이 가능하나, 인도 내 해당 물품이 사용될 경우 기간과 상관없이 관세의 환급이 불가하다. \\n \\n  ㅇ ATA Carnet \\n    - ATA 까르네(ATA Carnet)는 Admission Temporaire이라는 임시통관을 뜻하는 불어와 Temporary Admission의 영어 그리고 수첩\\n을 뜻하는 불어 Carnet의 머리글자 조합으로, 임시 통관을 위한 수첩을 말한다. ATA 협약에는 인도를 포함하여 전 세계 71개국이 서명하\\n여 발효 중이며, ATA 통관 수첩은 국제 관세 서류(International Uniform Customs Document)의 일종으로 물품의 임시 통관 시 관세\\n및 보증금을 제공하지 않아도 되는 일종의 보증서 역할 및 수출입 신고 시 세관에 제출하는 수출입 신고서 역할을 한다.  \\n \\n3) 전시물품의 통관  \\n \\n전시·박람회, 학회, 세미나, 견본품 및 각종 회의를 위한 물품의 통관은 관세가 면제된다. 하지만 그 관세액이 5000루피를 초과해서는 안\\n되며 1년에 그 누적 관세액이 60,000루피를 초과하거나 샘플의 개수가 15개를 초과해서는 안 된다. 샘플의 가치가 10,000루피 이하일\\n경우 관세가 면제되나, 샘플의 가치가 10,000루피 이상일 경우 9개월 안에 반출 되어야 하며, 필요의 경우 각 세관의 Assistant\\nCommissioner of Customs 권한으로 그 기간을 연장할 수 있다. 세관에서 판단하여 고가의 샘플의 경우 보증 관세를 지불하고 9개월 안\\n에 재 반출한다는 조건으로 통관할 수 있다.  \\n \\n4) 약식통관  \\n \\n인도는 2,000루피 이하의 제품의 경우 약식통관이 가능하다. 이는 전자상거래의 물품에도 적용된다. 인도는 2,000루피 이하의 품목을\\n3가지 분류로 나누어 HS코드를 적용하고 있으며, 그 분류는 다음과 같다.   \\n \\n    - 9804.10.00 의약품 \\n    - 9805.10.00 가공 또는 가공되지 않은 고기, 생선, 야채 등의 음식물 및 비누, 과일 등의 생활용품 \\n    - 9804.90.00 기타  \\n \\n인도 상공국 산하 무역국(Directorate General of Foreign Trade)은 위의 3가지 분류 HS코드의 과세가격에 총 42.08%의 관세를 부과\\n하고 있다. 다만, 수입 제한·금지 품목으로 분류되지 않으며, 자가사용으로 판단되는 물픔은 면세된다.  '), Document(metadata={'page': 3, 'source': './documents/[정책][제약산업정보포털][2019.04.08]인도 통관 및 운송.pdf'}, page_content='국가정보(무역-통관 및 운송) 항목은 \"공공누리 1유형 출처표시\" 조건에 따라\\n이용 할 수 있습니다.'), Document(metadata={'page': 1, 'source': './documents/[정책][제약산업정보포털][2019.04.08]인도 통관 및 운송.pdf'}, page_content=' \\n5) 허가 통관 \\n \\n수입의 제한 품목 및 식물, 씨앗, 과일 등 허가증이나 수입 라이센스가 필요로하는 품목의 경우 허가 통관을 실시하게 된다. 정식 통관과\\n그 절차가 다르지는 않으나 필요 허가증 또는 라이센스를 수입신고 시 수입 서류와 함께 세관에 제출해야 한다. 식물, 씨앗, 과일의 경우\\n동식물 검역소에서 샘플의 테스트를 통해 발부받을 수 있으며, 제한 품목의 경우 그에 해당하는 수입 라이센스를 발부받아 수입할 수 있다\\n.   \\n \\n통관 시 유의사항\\n \\n  ㅇ 통관의 지연: 인도의 통관은 행정상 일반적으로 3~4 근무일이 소요된다. 이를 단축하기 위해 통관 시스템 현대화를 위해 많은 노력을\\n기울이지만 아직까지 그 행정 시스템이 완전하지 않으며, 한국과 다르게 거의 모든 서류를 오프라인으로 직접 제출해야 하기 때문에 통관\\n지연이 자주 발생한다. 또한, 사소한 서류 기재 요류 등을 이유로 통관이 장기간 지연되거나, 이를 빌미로 뒷돈을 요구하는 경우가 발생하\\n기도 한다.    \\n \\n  ㅇ 통관 정보의 불투명: 인도의 관세 행정은 한국에 비해 그 정보 및 기준이 전반적으로 불투명하며, 실무선의 재량권이 크고 융통성 없\\n는 처리 관행으로 인해 통관 애로가 자주 발생한다. 인도는 한국과 달리 통관 단계(Appraiser Section)에서 관세평가를 하는데, 중고 기계\\n등과 같은 물품의 경우 송장(Invoice)상의 가격과소평가(Undervalue)를 문제 삼아 직권으로 상품 가치를 정하고 높은 관세를 부과하는\\n경우도 종종 발생한다.  \\n \\n  ㅇ FTA 사후 협정 적용 불가능: 인도는 공식적으로는 FTA 사후 협정 적용을 인정하고 있으나, 세관의 행정 시스템이 갖추어지지 않아 실\\n무적으로 FTA 사후 협정 적용이 불가능하다. 다만, 통관 시 FTA 협정 적용을 위한 원산지 증명서를 발급 중이라는 증명서를 제출하면,\\nFTA 사후 협정 적용을 받아주는 경우가 있으나 통관을 담당하는 세관 공무원의 재량이 크게 작용한다. 또한, 관세 혜택이 주어지는 다른\\n제도의 경우에도 증빙이 충분치 않다는 이유로 통관을 거부하는 사례도 자주 발생한다.  \\n \\n  ㅇ 인도 지역별 세관관할: 인도의 세관 행정은 명목상 통일되어 있으나, 지역별 차이나 관할 세관 당국 간 소통 미비로 인하여 관세통관\\n상의 애로 해소가 발생하는 경우가 있다. 사전품목분류 심사제도의 경우에도 각 관할 세관별로 운영할 가능성이 높으며, 이에 한 관할지에\\n서 사전품목분류를 확정받았다 하더라도 다른 관할지에서는 이를 그대로 적용하지 않을 가능성이 있다.  \\n \\n  ㅇ 서류의 수정: 인도는 통관에 필요한 서류에 기재 오류나 상호 간의 불일치가 있을 시 이를 수정하기가 매우 어려우며 이로 인해 통관\\n절차가 2, 3주씩 지연되기도 한다. 영문 한 글자 오타를 수정하는 데 3주를 허비해야 할 수도 있으며, 허위신고를 이유로 과태료가 발생할\\n수 있다.   \\n \\n \\n나. 주요 포워딩 업체 및 통관업체\\n \\n \\nㅇ KGL Network Private Limited\\n \\n주소Plot No. 261-262, 2nd Floor, -6,, Street Number 6, Mahipalpur Extension, Mahipalpur, New\\nDelhi, Delhi 110037\\n전화번호 +91)11-4570 9700\\n이메일 YsCHANG@kglindia.com\\n홈페이지 http://kglindia.com/\\n비고 한국업체 ')]\n",
      "--------------------------------------------------\n",
      "문서 내용: 5. 통관 및 운송\n",
      " \n",
      " \n",
      "가. 통관제도\n",
      "  \n",
      " \n",
      "통관 유형별 절차\n",
      " \n",
      "1) 정식통관 \n",
      " \n",
      "인도에서 일반적인 경우 통관에 소요되는 시간은 행정상 운송 수입의 경우 3~4 근무일, 항공 운송은 약 1~2 근무일이 소요된다. 일단 물\n",
      "품이 입항하게 되면 보세구역장치에 적하되고, 이후 전자데이터 교환(EDI) 신고 또는 수작업신고 통해 수입신고를 하게 된다. 이후 인도\n",
      "관세청의 수입요건, 관세 평가 등을 검사하는 Appraiser Section과 관련 서류 및 관세율을 재점검하는 Audit Section 과정을 거치게 되\n",
      "며, 이를 통과하면 모든 서류에 서명 받게 된다. 이후 Challan No.라는 인도 관세 납부를 위한 번호를 부여받게 되고, 이를 근거로 관세를\n",
      "완납하게 되면 물품을 반출할 수 있다. 또한, 정식통관의 경우 인도 세관은 일반적으로 화물 도착 후 7일 이후부터 체화료(Demurrage\n",
      "Charge)를 부과하고, 컨테이너 운송의 경우 5일 이후부터 항공운송인 경우 3일 이후부터 체화료가 부과한다. \n",
      " \n",
      "2) 임시 통관 \n",
      " \n",
      "인도에 들여온 품목을 사용하지 않고 24개월 이내에 다시 반출할 목적이 있는 경우 임시통관이 이루어지게 된다. 임시통관을 위해서는 해\n",
      "당 품목의 관세를 납부해야하는데, 다시 반출할 시 장치했던 시간에 비례하여 관세를 환급받을 수 있다. 인도 내로 반입되지 않고 바로 반\n",
      "출할 경우 최대 98%까지 환급이 가능하나, 인도 내 해당 물품이 사용될 경우 기간과 상관없이 관세의 환급이 불가하다. \n",
      " \n",
      "  ㅇ ATA Carnet \n",
      "    - ATA 까르네(ATA Carnet)는 Admission Temporaire이라는 임시통관을 뜻하는 불어와 Temporary Admission의 영어 그리고 수첩\n",
      "을 뜻하는 불어 Carnet의 머리글자 조합으로, 임시 통관을 위한 수첩을 말한다. ATA 협약에는 인도를 포함하여 전 세계 71개국이 서명하\n",
      "여 발효 중이며, ATA 통관 수첩은 국제 관세 서류(International Uniform Customs Document)의 일종으로 물품의 임시 통관 시 관세\n",
      "및 보증금을 제공하지 않아도 되는 일종의 보증서 역할 및 수출입 신고 시 세관에 제출하는 수출입 신고서 역할을 한다.  \n",
      " \n",
      "3) 전시물품의 통관  \n",
      " \n",
      "전시·박람회, 학회, 세미나, 견본품 및 각종 회의를 위한 물품의 통관은 관세가 면제된다. 하지만 그 관세액이 5000루피를 초과해서는 안\n",
      "되며 1년에 그 누적 관세액이 60,000루피를 초과하거나 샘플의 개수가 15개를 초과해서는 안 된다. 샘플의 가치가 10,000루피 이하일\n",
      "경우 관세가 면제되나, 샘플의 가치가 10,000루피 이상일 경우 9개월 안에 반출 되어야 하며, 필요의 경우 각 세관의 Assistant\n",
      "Commissioner of Customs 권한으로 그 기간을 연장할 수 있다. 세관에서 판단하여 고가의 샘플의 경우 보증 관세를 지불하고 9개월 안\n",
      "에 재 반출한다는 조건으로 통관할 수 있다.  \n",
      " \n",
      "4) 약식통관  \n",
      " \n",
      "인도는 2,000루피 이하의 제품의 경우 약식통관이 가능하다. 이는 전자상거래의 물품에도 적용된다. 인도는 2,000루피 이하의 품목을\n",
      "3가지 분류로 나누어 HS코드를 적용하고 있으며, 그 분류는 다음과 같다.   \n",
      " \n",
      "    - 9804.10.00 의약품 \n",
      "    - 9805.10.00 가공 또는 가공되지 않은 고기, 생선, 야채 등의 음식물 및 비누, 과일 등의 생활용품 \n",
      "    - 9804.90.00 기타  \n",
      " \n",
      "인도 상공국 산하 무역국(Directorate General of Foreign Trade)은 위의 3가지 분류 HS코드의 과세가격에 총 42.08%의 관세를 부과\n",
      "하고 있다. 다만, 수입 제한·금지 품목으로 분류되지 않으며, 자가사용으로 판단되는 물픔은 면세된다.  \n",
      "문서 내용: 국가정보(무역-통관 및 운송) 항목은 \"공공누리 1유형 출처표시\" 조건에 따라\n",
      "이용 할 수 있습니다.\n",
      "문서 내용:  \n",
      "5) 허가 통관 \n",
      " \n",
      "수입의 제한 품목 및 식물, 씨앗, 과일 등 허가증이나 수입 라이센스가 필요로하는 품목의 경우 허가 통관을 실시하게 된다. 정식 통관과\n",
      "그 절차가 다르지는 않으나 필요 허가증 또는 라이센스를 수입신고 시 수입 서류와 함께 세관에 제출해야 한다. 식물, 씨앗, 과일의 경우\n",
      "동식물 검역소에서 샘플의 테스트를 통해 발부받을 수 있으며, 제한 품목의 경우 그에 해당하는 수입 라이센스를 발부받아 수입할 수 있다\n",
      ".   \n",
      " \n",
      "통관 시 유의사항\n",
      " \n",
      "  ㅇ 통관의 지연: 인도의 통관은 행정상 일반적으로 3~4 근무일이 소요된다. 이를 단축하기 위해 통관 시스템 현대화를 위해 많은 노력을\n",
      "기울이지만 아직까지 그 행정 시스템이 완전하지 않으며, 한국과 다르게 거의 모든 서류를 오프라인으로 직접 제출해야 하기 때문에 통관\n",
      "지연이 자주 발생한다. 또한, 사소한 서류 기재 요류 등을 이유로 통관이 장기간 지연되거나, 이를 빌미로 뒷돈을 요구하는 경우가 발생하\n",
      "기도 한다.    \n",
      " \n",
      "  ㅇ 통관 정보의 불투명: 인도의 관세 행정은 한국에 비해 그 정보 및 기준이 전반적으로 불투명하며, 실무선의 재량권이 크고 융통성 없\n",
      "는 처리 관행으로 인해 통관 애로가 자주 발생한다. 인도는 한국과 달리 통관 단계(Appraiser Section)에서 관세평가를 하는데, 중고 기계\n",
      "등과 같은 물품의 경우 송장(Invoice)상의 가격과소평가(Undervalue)를 문제 삼아 직권으로 상품 가치를 정하고 높은 관세를 부과하는\n",
      "경우도 종종 발생한다.  \n",
      " \n",
      "  ㅇ FTA 사후 협정 적용 불가능: 인도는 공식적으로는 FTA 사후 협정 적용을 인정하고 있으나, 세관의 행정 시스템이 갖추어지지 않아 실\n",
      "무적으로 FTA 사후 협정 적용이 불가능하다. 다만, 통관 시 FTA 협정 적용을 위한 원산지 증명서를 발급 중이라는 증명서를 제출하면,\n",
      "FTA 사후 협정 적용을 받아주는 경우가 있으나 통관을 담당하는 세관 공무원의 재량이 크게 작용한다. 또한, 관세 혜택이 주어지는 다른\n",
      "제도의 경우에도 증빙이 충분치 않다는 이유로 통관을 거부하는 사례도 자주 발생한다.  \n",
      " \n",
      "  ㅇ 인도 지역별 세관관할: 인도의 세관 행정은 명목상 통일되어 있으나, 지역별 차이나 관할 세관 당국 간 소통 미비로 인하여 관세통관\n",
      "상의 애로 해소가 발생하는 경우가 있다. 사전품목분류 심사제도의 경우에도 각 관할 세관별로 운영할 가능성이 높으며, 이에 한 관할지에\n",
      "서 사전품목분류를 확정받았다 하더라도 다른 관할지에서는 이를 그대로 적용하지 않을 가능성이 있다.  \n",
      " \n",
      "  ㅇ 서류의 수정: 인도는 통관에 필요한 서류에 기재 오류나 상호 간의 불일치가 있을 시 이를 수정하기가 매우 어려우며 이로 인해 통관\n",
      "절차가 2, 3주씩 지연되기도 한다. 영문 한 글자 오타를 수정하는 데 3주를 허비해야 할 수도 있으며, 허위신고를 이유로 과태료가 발생할\n",
      "수 있다.   \n",
      " \n",
      " \n",
      "나. 주요 포워딩 업체 및 통관업체\n",
      " \n",
      " \n",
      "ㅇ KGL Network Private Limited\n",
      " \n",
      "주소Plot No. 261-262, 2nd Floor, -6,, Street Number 6, Mahipalpur Extension, Mahipalpur, New\n",
      "Delhi, Delhi 110037\n",
      "전화번호 +91)11-4570 9700\n",
      "이메일 YsCHANG@kglindia.com\n",
      "홈페이지 http://kglindia.com/\n",
      "비고 한국업체 \n"
     ]
    }
   ],
   "source": [
    "# 문서 조회1\n",
    "query = '인도 통관 및 운송'   # 질문할 문장\n",
    "k = 3                      # 유사도 상위 k 개 문서 가져오기.\n",
    "\n",
    "result = vectorDB.similarity_search(query, k = k) #← 데이터베이스에서 유사도가 높은 문서를 가져옴\n",
    "print(result)\n",
    "print('-'*50)\n",
    "for doc in result:\n",
    "    print(f\"문서 내용: {doc.page_content}\") # 문서 내용 표시"
   ]
  },
  {
   "cell_type": "code",
   "execution_count": 14,
   "metadata": {},
   "outputs": [
    {
     "name": "stdout",
     "output_type": "stream",
     "text": [
      "[히스토리 생성] 새로운 히스토리를 생성합니다. 세션 ID: abc123\n"
     ]
    },
    {
     "name": "stderr",
     "output_type": "stream",
     "text": [
      "Number of requested results 5 is greater than number of elements in index 4, updating n_results = 4\n"
     ]
    },
    {
     "name": "stdout",
     "output_type": "stream",
     "text": [
      "[응답 생성] 실제 모델 응답: response => \n",
      "{'input': '인도 통관 및 운송에 대해서 알려줘.', 'chat_history': [], 'context': [Document(metadata={'page': 0, 'source': './documents/[정책][제약산업정보포털][2019.04.08]인도 통관 및 운송.pdf'}, page_content='5. 통관 및 운송\\n \\n \\n가. 통관제도\\n  \\n \\n통관 유형별 절차\\n \\n1) 정식통관 \\n \\n인도에서 일반적인 경우 통관에 소요되는 시간은 행정상 운송 수입의 경우 3~4 근무일, 항공 운송은 약 1~2 근무일이 소요된다. 일단 물\\n품이 입항하게 되면 보세구역장치에 적하되고, 이후 전자데이터 교환(EDI) 신고 또는 수작업신고 통해 수입신고를 하게 된다. 이후 인도\\n관세청의 수입요건, 관세 평가 등을 검사하는 Appraiser Section과 관련 서류 및 관세율을 재점검하는 Audit Section 과정을 거치게 되\\n며, 이를 통과하면 모든 서류에 서명 받게 된다. 이후 Challan No.라는 인도 관세 납부를 위한 번호를 부여받게 되고, 이를 근거로 관세를\\n완납하게 되면 물품을 반출할 수 있다. 또한, 정식통관의 경우 인도 세관은 일반적으로 화물 도착 후 7일 이후부터 체화료(Demurrage\\nCharge)를 부과하고, 컨테이너 운송의 경우 5일 이후부터 항공운송인 경우 3일 이후부터 체화료가 부과한다. \\n \\n2) 임시 통관 \\n \\n인도에 들여온 품목을 사용하지 않고 24개월 이내에 다시 반출할 목적이 있는 경우 임시통관이 이루어지게 된다. 임시통관을 위해서는 해\\n당 품목의 관세를 납부해야하는데, 다시 반출할 시 장치했던 시간에 비례하여 관세를 환급받을 수 있다. 인도 내로 반입되지 않고 바로 반\\n출할 경우 최대 98%까지 환급이 가능하나, 인도 내 해당 물품이 사용될 경우 기간과 상관없이 관세의 환급이 불가하다. \\n \\n  ㅇ ATA Carnet \\n    - ATA 까르네(ATA Carnet)는 Admission Temporaire이라는 임시통관을 뜻하는 불어와 Temporary Admission의 영어 그리고 수첩\\n을 뜻하는 불어 Carnet의 머리글자 조합으로, 임시 통관을 위한 수첩을 말한다. ATA 협약에는 인도를 포함하여 전 세계 71개국이 서명하\\n여 발효 중이며, ATA 통관 수첩은 국제 관세 서류(International Uniform Customs Document)의 일종으로 물품의 임시 통관 시 관세\\n및 보증금을 제공하지 않아도 되는 일종의 보증서 역할 및 수출입 신고 시 세관에 제출하는 수출입 신고서 역할을 한다.  \\n \\n3) 전시물품의 통관  \\n \\n전시·박람회, 학회, 세미나, 견본품 및 각종 회의를 위한 물품의 통관은 관세가 면제된다. 하지만 그 관세액이 5000루피를 초과해서는 안\\n되며 1년에 그 누적 관세액이 60,000루피를 초과하거나 샘플의 개수가 15개를 초과해서는 안 된다. 샘플의 가치가 10,000루피 이하일\\n경우 관세가 면제되나, 샘플의 가치가 10,000루피 이상일 경우 9개월 안에 반출 되어야 하며, 필요의 경우 각 세관의 Assistant\\nCommissioner of Customs 권한으로 그 기간을 연장할 수 있다. 세관에서 판단하여 고가의 샘플의 경우 보증 관세를 지불하고 9개월 안\\n에 재 반출한다는 조건으로 통관할 수 있다.  \\n \\n4) 약식통관  \\n \\n인도는 2,000루피 이하의 제품의 경우 약식통관이 가능하다. 이는 전자상거래의 물품에도 적용된다. 인도는 2,000루피 이하의 품목을\\n3가지 분류로 나누어 HS코드를 적용하고 있으며, 그 분류는 다음과 같다.   \\n \\n    - 9804.10.00 의약품 \\n    - 9805.10.00 가공 또는 가공되지 않은 고기, 생선, 야채 등의 음식물 및 비누, 과일 등의 생활용품 \\n    - 9804.90.00 기타  \\n \\n인도 상공국 산하 무역국(Directorate General of Foreign Trade)은 위의 3가지 분류 HS코드의 과세가격에 총 42.08%의 관세를 부과\\n하고 있다. 다만, 수입 제한·금지 품목으로 분류되지 않으며, 자가사용으로 판단되는 물픔은 면세된다.  '), Document(metadata={'page': 3, 'source': './documents/[정책][제약산업정보포털][2019.04.08]인도 통관 및 운송.pdf'}, page_content='국가정보(무역-통관 및 운송) 항목은 \"공공누리 1유형 출처표시\" 조건에 따라\\n이용 할 수 있습니다.'), Document(metadata={'page': 1, 'source': './documents/[정책][제약산업정보포털][2019.04.08]인도 통관 및 운송.pdf'}, page_content=' \\n5) 허가 통관 \\n \\n수입의 제한 품목 및 식물, 씨앗, 과일 등 허가증이나 수입 라이센스가 필요로하는 품목의 경우 허가 통관을 실시하게 된다. 정식 통관과\\n그 절차가 다르지는 않으나 필요 허가증 또는 라이센스를 수입신고 시 수입 서류와 함께 세관에 제출해야 한다. 식물, 씨앗, 과일의 경우\\n동식물 검역소에서 샘플의 테스트를 통해 발부받을 수 있으며, 제한 품목의 경우 그에 해당하는 수입 라이센스를 발부받아 수입할 수 있다\\n.   \\n \\n통관 시 유의사항\\n \\n  ㅇ 통관의 지연: 인도의 통관은 행정상 일반적으로 3~4 근무일이 소요된다. 이를 단축하기 위해 통관 시스템 현대화를 위해 많은 노력을\\n기울이지만 아직까지 그 행정 시스템이 완전하지 않으며, 한국과 다르게 거의 모든 서류를 오프라인으로 직접 제출해야 하기 때문에 통관\\n지연이 자주 발생한다. 또한, 사소한 서류 기재 요류 등을 이유로 통관이 장기간 지연되거나, 이를 빌미로 뒷돈을 요구하는 경우가 발생하\\n기도 한다.    \\n \\n  ㅇ 통관 정보의 불투명: 인도의 관세 행정은 한국에 비해 그 정보 및 기준이 전반적으로 불투명하며, 실무선의 재량권이 크고 융통성 없\\n는 처리 관행으로 인해 통관 애로가 자주 발생한다. 인도는 한국과 달리 통관 단계(Appraiser Section)에서 관세평가를 하는데, 중고 기계\\n등과 같은 물품의 경우 송장(Invoice)상의 가격과소평가(Undervalue)를 문제 삼아 직권으로 상품 가치를 정하고 높은 관세를 부과하는\\n경우도 종종 발생한다.  \\n \\n  ㅇ FTA 사후 협정 적용 불가능: 인도는 공식적으로는 FTA 사후 협정 적용을 인정하고 있으나, 세관의 행정 시스템이 갖추어지지 않아 실\\n무적으로 FTA 사후 협정 적용이 불가능하다. 다만, 통관 시 FTA 협정 적용을 위한 원산지 증명서를 발급 중이라는 증명서를 제출하면,\\nFTA 사후 협정 적용을 받아주는 경우가 있으나 통관을 담당하는 세관 공무원의 재량이 크게 작용한다. 또한, 관세 혜택이 주어지는 다른\\n제도의 경우에도 증빙이 충분치 않다는 이유로 통관을 거부하는 사례도 자주 발생한다.  \\n \\n  ㅇ 인도 지역별 세관관할: 인도의 세관 행정은 명목상 통일되어 있으나, 지역별 차이나 관할 세관 당국 간 소통 미비로 인하여 관세통관\\n상의 애로 해소가 발생하는 경우가 있다. 사전품목분류 심사제도의 경우에도 각 관할 세관별로 운영할 가능성이 높으며, 이에 한 관할지에\\n서 사전품목분류를 확정받았다 하더라도 다른 관할지에서는 이를 그대로 적용하지 않을 가능성이 있다.  \\n \\n  ㅇ 서류의 수정: 인도는 통관에 필요한 서류에 기재 오류나 상호 간의 불일치가 있을 시 이를 수정하기가 매우 어려우며 이로 인해 통관\\n절차가 2, 3주씩 지연되기도 한다. 영문 한 글자 오타를 수정하는 데 3주를 허비해야 할 수도 있으며, 허위신고를 이유로 과태료가 발생할\\n수 있다.   \\n \\n \\n나. 주요 포워딩 업체 및 통관업체\\n \\n \\nㅇ KGL Network Private Limited\\n \\n주소Plot No. 261-262, 2nd Floor, -6,, Street Number 6, Mahipalpur Extension, Mahipalpur, New\\nDelhi, Delhi 110037\\n전화번호 +91)11-4570 9700\\n이메일 YsCHANG@kglindia.com\\n홈페이지 http://kglindia.com/\\n비고 한국업체 '), Document(metadata={'page': 2, 'source': './documents/[정책][제약산업정보포털][2019.04.08]인도 통관 및 운송.pdf'}, page_content=' \\nㅇ Taewoong Logistics\\n \\n \\nㅇ CJ Korea Express India Pvt. Ltd\\n \\n \\nㅇ FIRST FLIGHT\\n \\n \\nㅇ Gati Ltd.\\n \\n \\n \\n 주소 No 75 beekeyen towers coral merchant street manady Chennai, Chennai, Tamil Nadu 600001\\n전화번호 +91)44-4343-2716\\n이메일 James@taewoong.in\\n홈페이지 http://www.e-tgl.com/eng/company02.do\\n비고 한국업체 \\n주소416, 4th Floor, Suncity Business Tower, Sector 54, Golf Course Road, Gurugram, Haryana\\n122002\\n전화번호 124-457-6688\\n이메일 SUCHELO.KIM@Cj.net\\n홈페이지 https://www.cjlogistics.com/en/network/en-in\\n비고 한국업체 \\n주소G - 1001/02, 10th Floor, Lotus Corporate Park, Off Jay Coach Flyover, Western Express Highway,\\nGoregaon (E), Mumbai - 400 063. INDIA\\n전화번호 +91)22-62686666\\n이메일 ffcl@firstflight.net\\n홈페이지 https://firstflight.net/\\n주소 Plot No.20, Survey No.12,\\n전화번호 +91)40-71204284\\n이메일 customerservice@gati.com\\n홈페이지 https://www.gati.com/contact-us/contact-details/')], 'answer': '인도의 통관 및 운송에 대한 정보는 다음과 같습니다:\\n\\n1. **통관**\\n   - **통관 유형별 절차**: \\n     - 정식통관: 일반적으로 3~4 근무일이 소요되며, 관세평가, 관세 납부 후 물품 반출 가능.\\n     - 임시통관: 24개월 이내 재반출 목적으로 사용되는 경우.\\n     - 전시물품의 통관: 관세 면제되나 일정 조건 충족 필요.\\n     - 약식통관: 2,000루피 이하 제품에 적용 가능.\\n     - 허가 통관: 수입 제한 품목 및 식물, 씨앗, 과일 등 허가증이 필요한 품목.\\n\\n   - **통관 시 유의사항**:\\n     - 통관의 지연: 행정상 3~4 근무일이 소요되며, 행정 시스템이 완전하지 않아 지연 발생 가능.\\n     - 통관 정보의 불투명: 정보 및 기준이 불투명하며, 실무선의 재량권이 크고 융통성 없는 처리 관행.\\n     - FTA 사후 협정 적용 불가능: FTA 사후 협정 적용이 어려우며, 관세 혜택 제도에도 증빙 부족으로 거부 사례 발생 가능.\\n     - 인도 지역별 세관관할: 지역별 차이나 관할 세관 당국 간 소통 미비로 인한 애로 발생 가능.\\n     - 서류의 수정: 서류 수정이 어려워 통관 절차 지연 및 과태료 발생 가능.\\n\\n2. **운송**\\n   - **주요 포워딩 업체 및 통관업체**:\\n     - KGL Network Private Limited\\n     - Taewoong Logistics\\n     - CJ Korea Express India Pvt. Ltd\\n     - FIRST FLIGHT\\n     - Gati Ltd.\\n\\n이 정보를 참고하여 인도에서의 통관 및 운송에 대한 이해를 높이시기 바랍니다. 추가적인 도움이 필요하시면 언제든지 물어보세요.'}\n",
      "\n",
      "[응답 생성] 세션 ID [abc123]에서 답변을 생성했습니다.\n",
      "인도의 통관 및 운송에 대한 정보는 다음과 같습니다:\n",
      "\n",
      "1. **통관**\n",
      "   - **통관 유형별 절차**: \n",
      "     - 정식통관: 일반적으로 3~4 근무일이 소요되며, 관세평가, 관세 납부 후 물품 반출 가능.\n",
      "     - 임시통관: 24개월 이내 재반출 목적으로 사용되는 경우.\n",
      "     - 전시물품의 통관: 관세 면제되나 일정 조건 충족 필요.\n",
      "     - 약식통관: 2,000루피 이하 제품에 적용 가능.\n",
      "     - 허가 통관: 수입 제한 품목 및 식물, 씨앗, 과일 등 허가증이 필요한 품목.\n",
      "\n",
      "   - **통관 시 유의사항**:\n",
      "     - 통관의 지연: 행정상 3~4 근무일이 소요되며, 행정 시스템이 완전하지 않아 지연 발생 가능.\n",
      "     - 통관 정보의 불투명: 정보 및 기준이 불투명하며, 실무선의 재량권이 크고 융통성 없는 처리 관행.\n",
      "     - FTA 사후 협정 적용 불가능: FTA 사후 협정 적용이 어려우며, 관세 혜택 제도에도 증빙 부족으로 거부 사례 발생 가능.\n",
      "     - 인도 지역별 세관관할: 지역별 차이나 관할 세관 당국 간 소통 미비로 인한 애로 발생 가능.\n",
      "     - 서류의 수정: 서류 수정이 어려워 통관 절차 지연 및 과태료 발생 가능.\n",
      "\n",
      "2. **운송**\n",
      "   - **주요 포워딩 업체 및 통관업체**:\n",
      "     - KGL Network Private Limited\n",
      "     - Taewoong Logistics\n",
      "     - CJ Korea Express India Pvt. Ltd\n",
      "     - FIRST FLIGHT\n",
      "     - Gati Ltd.\n",
      "\n",
      "이 정보를 참고하여 인도에서의 통관 및 운송에 대한 이해를 높이시기 바랍니다. 추가적인 도움이 필요하시면 언제든지 물어보세요.\n"
     ]
    }
   ],
   "source": [
    "question   = '인도 통관 및 운송에 대해서 알려줘.'\n",
    "session_id = 'abc123'\n",
    "answer = pipeline.chat_generation(question, session_id)\n",
    "\n",
    "print(answer)"
   ]
  },
  {
   "cell_type": "code",
   "execution_count": 15,
   "metadata": {},
   "outputs": [
    {
     "name": "stderr",
     "output_type": "stream",
     "text": [
      "Number of requested results 5 is greater than number of elements in index 4, updating n_results = 4\n"
     ]
    },
    {
     "name": "stdout",
     "output_type": "stream",
     "text": [
      "- 인도 통관 및 운송 절차\n",
      "- 인도 통관 시스템의 특징\n",
      "- 인도 통관의 유의사항\n",
      "- 인도 통관 관세 및 보증금\n",
      "- 인도 통관 시 발생하는 문제 해결 방법\n"
     ]
    }
   ],
   "source": [
    "question   = '인도 통관 및 운송'\n",
    "titles = pipeline.title_generation(question)\n",
    "\n",
    "print(titles)"
   ]
  },
  {
   "cell_type": "code",
   "execution_count": 18,
   "metadata": {},
   "outputs": [
    {
     "data": {
      "text/plain": [
       "[' 인도 통관 및 운송 절차\\n',\n",
       " ' 인도 통관 시스템의 특징\\n',\n",
       " ' 인도 통관의 유의사항\\n',\n",
       " ' 인도 통관 관세 및 보증금\\n',\n",
       " ' 인도 통관 시 발생하는 문제 해결 방법']"
      ]
     },
     "execution_count": 18,
     "metadata": {},
     "output_type": "execute_result"
    }
   ],
   "source": [
    "titles.split('-')[1:]"
   ]
  },
  {
   "cell_type": "code",
   "execution_count": 19,
   "metadata": {},
   "outputs": [
    {
     "data": {
      "text/plain": [
       "' 인도 통관 및 운송 절차\\n'"
      ]
     },
     "execution_count": 19,
     "metadata": {},
     "output_type": "execute_result"
    }
   ],
   "source": [
    "titles.split('-')[1]"
   ]
  },
  {
   "cell_type": "code",
   "execution_count": null,
   "metadata": {},
   "outputs": [],
   "source": [
    "post = pipeline.post_generation(titles.split('-')[1])\n",
    "    \n",
    "print(post)"
   ]
  }
 ],
 "metadata": {
  "kernelspec": {
   "display_name": "autorag",
   "language": "python",
   "name": "python3"
  },
  "language_info": {
   "codemirror_mode": {
    "name": "ipython",
    "version": 3
   },
   "file_extension": ".py",
   "mimetype": "text/x-python",
   "name": "python",
   "nbconvert_exporter": "python",
   "pygments_lexer": "ipython3",
   "version": "3.12.4"
  }
 },
 "nbformat": 4,
 "nbformat_minor": 2
}
