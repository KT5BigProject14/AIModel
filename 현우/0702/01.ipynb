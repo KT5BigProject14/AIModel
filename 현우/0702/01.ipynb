{
 "cells": [
  {
   "cell_type": "code",
   "execution_count": 1,
   "metadata": {},
   "outputs": [],
   "source": [
    "import os\n",
    "import sys\n",
    "\n",
    "# 예제 문서 \n",
    "# PDF 문서 로드 및 텍스트 추출\n",
    "from langchain_community.document_loaders import PyPDFLoader\n",
    "from langchain_community.document_loaders import PyMuPDFLoader\n",
    "from langchain_text_splitters import RecursiveCharacterTextSplitter\n",
    "\n",
    "from langchain_community.vectorstores import Chroma\n",
    "from langchain_community.vectorstores import FAISS\n",
    "\n",
    "from langchain_openai import OpenAIEmbeddings\n",
    "\n",
    "\n",
    "# utils 폴더의 경로를 추가\n",
    "sys.path.append(os.path.abspath(os.path.join('..', 'utils')))\n",
    "\n",
    "# sys.path.append(os.path.dirname(os.path.abspath(os.path.dirname('..'))))\n",
    "from config import config"
   ]
  },
  {
   "cell_type": "code",
   "execution_count": 3,
   "metadata": {},
   "outputs": [],
   "source": [
    "## DB 생성 \n",
    "\n",
    "\n",
    "DBfolder = \"../dataDB/PDFvectorDB\"  \n",
    "\n",
    "embeddings = OpenAIEmbeddings( model=config['embed_model']['model_name'] )\n",
    "\n",
    "database = Chroma(\n",
    "                persist_directory=DBfolder,         # 이미 DB가 있으면 불러오고 없으면 새로 만듬\n",
    "                embedding_function = embeddings\n",
    ")\n",
    "\n",
    "# database = FAISS.from_documents(\n",
    "#                             docs,\n",
    "#                             persist_directory=folder \n",
    "#                             embeddings)\n",
    "# )\n",
    "\n",
    "# # 리스트 내용을 각각 document로 변환\n",
    "# documents = [Document(page_content=text_list[i], metadata={'category':meta[i]}) for i in range(data.shape[0])]\n",
    "\n",
    "# # Insert\n",
    "# database.add_documents(documents)"
   ]
  },
  {
   "cell_type": "markdown",
   "metadata": {},
   "source": [
    "### 새롭게 입력된 PDF "
   ]
  },
  {
   "cell_type": "code",
   "execution_count": 14,
   "metadata": {},
   "outputs": [
    {
     "name": "stdout",
     "output_type": "stream",
     "text": [
      "문서의 페이지수: 41\n",
      "분할된 청크의수: 58\n"
     ]
    }
   ],
   "source": [
    "# 예제 문서 \n",
    "# PDF 문서 로드 및 텍스트 추출\n",
    "from langchain_community.document_loaders import PyPDFLoader\n",
    "from langchain_community.document_loaders import PyMuPDFLoader\n",
    "\n",
    "file_path = \"../../raw_data/[법률_규범_특허][코트라][2022]한-인도 CEPA 활용법 및 인도 통상 애로.pdf\"\n",
    "\n",
    "# loader = PyPDFLoader(file_path, extract_images=False)\n",
    "loader = PyMuPDFLoader(file_path, extract_images=False)\n",
    "\n",
    "docs = loader.load()\n",
    "print(f\"문서의 페이지수: {len(docs)}\")\n",
    "\n",
    "from langchain_text_splitters import RecursiveCharacterTextSplitter\n",
    "\n",
    "# 단계 2: 문서 분할(Split Documents)\n",
    "# HugoingFace Embedding 모델의 Tokenizer를 사용하여 토큰화\n",
    "from transformers import AutoTokenizer\n",
    "\n",
    "tokenizer = AutoTokenizer.from_pretrained('snunlp/KR-SBERT-V40K-klueNLI-augSTS')\n",
    "\n",
    "# text_splitter = RecursiveCharacterTextSplitter(tokenizer=tokenizer, chunk_size=1000, chunk_overlap=50)\n",
    "\n",
    "text_splitter = RecursiveCharacterTextSplitter(chunk_size=1000, chunk_overlap=50)\n",
    "\n",
    "\n",
    "split_documents = text_splitter.split_documents(docs)\n",
    "print(f\"분할된 청크의수: {len(split_documents)}\")"
   ]
  },
  {
   "cell_type": "code",
   "execution_count": 19,
   "metadata": {},
   "outputs": [
    {
     "data": {
      "text/plain": [
       "[Document(page_content='사례로 정리해보는\\n한-인도 CEPA \\n활용법 및 인도 통상 애로\\nKOTRA자료 22-055\\n', metadata={'source': '../../raw_data/[법률_규범_특허][코트라][2022]한-인도 CEPA 활용법 및 인도 통상 애로.pdf', 'file_path': '../../raw_data/[법률_규범_특허][코트라][2022]한-인도 CEPA 활용법 및 인도 통상 애로.pdf', 'page': 0, 'total_pages': 41, 'format': 'PDF 1.6', 'title': '', 'author': '', 'subject': '', 'keywords': '', 'creator': 'Adobe InDesign 17.2 (Macintosh)', 'producer': 'Adobe PDF Library 16.0.7', 'creationDate': \"D:20220610145706+09'00'\", 'modDate': \"D:20220614154828+09'00'\", 'trapped': ''}),\n",
       " Document(page_content='인사말\\n한-인도 CEPA 발효 11년이 지난 2021년, 양국 간 교역액은 약 236억 달러를 달성하며 역대 최고치\\n를 기록하였습니다. 한국의 대인도 수출과 수입 모두 전년 대비 약 30%, 64% 상승하며, 무역수지는 75\\n억 달러 흑자를 기록하였습니다. 인도는 한국의 대인도 수출품 85%에 대한 관세를 철폐 또는 감축하면\\n서, 관세장벽은 많이 허물어졌습니다.\\n그러나 인도는 한국산 물품에 대해 원산지관리를 강화하고, 세관 담당자가 임의적으로 품목분류를 변\\n경하여 관세 추징을 하는 등 한국기업이 CEPA 특혜관세를 적용 받기 어렵게 만들고 있습니다. 아울러, \\n인도는 BIS 인증 대상을 확대하고 수입모니터링 시스템을 시행하며 비관세장벽을 높이고 있습니다.\\nKOTRA는 이러한 환경에서 우리 기업을 지원하기 위해 2018년 뉴델리 무역관, 2019년 첸나이 무역\\n관에 CEPA 활용지원센터를 개소하고 우리 기업의 인도 수출 준비부터 CEPA 활용 및 통관 관련 지원을 \\n하고 있습니다. \\n지난해 인도 통상환경에서 기업 수출 담당자가 겪은 다양한 애로 사례들과 관련하여 CEPA 활용지원\\n센터에서 함께 대응하였습니다. 축적된 실사례와 대응방안을 담아 우리기업에게 도움을 드리고자 ‘사례\\n로 정리해보는 한-인도 CEPA 활용법 및 인도 통상 애로’라는 자료를 발간하게 되었습니다.\\n자료에 담긴 사례들과 대응방안이 인도 진출을 준비하고 있거나, 진출한 한국기업들의 피해를 줄이고 \\n더 쉽게 CEPA를 활용하는데 도움이 되길 바랍니다.\\n2022년 5월\\nKOTRA 서남아지역본부장 빈준화\\n', metadata={'source': '../../raw_data/[법률_규범_특허][코트라][2022]한-인도 CEPA 활용법 및 인도 통상 애로.pdf', 'file_path': '../../raw_data/[법률_규범_특허][코트라][2022]한-인도 CEPA 활용법 및 인도 통상 애로.pdf', 'page': 1, 'total_pages': 41, 'format': 'PDF 1.6', 'title': '', 'author': '', 'subject': '', 'keywords': '', 'creator': 'Adobe InDesign 17.2 (Macintosh)', 'producer': 'Adobe PDF Library 16.0.7', 'creationDate': \"D:20220610145706+09'00'\", 'modDate': \"D:20220614154828+09'00'\", 'trapped': ''}),\n",
       " Document(page_content='CONTENTS\\n사례로 정리해보는\\n한-인도 CEPA \\n활용법 및 인도 통상 애로\\n01. 인도 수출 및 CEPA 활용 시 주의사항 알아두기   \\n1. 품목분류   / 06\\n\\t\\n가. \\x07\\nHS코드 관련 인도세관의 품목분류 차이 발생 시 원산지증명서 발급 방법   / 06\\n\\t\\n나. 인도 DRI(국세정보국) 관세조사 시 대응방안   / 08\\n2. 원산지증명서   / 11\\n\\t\\n가. 원산지증명서 오류 발급 시 정정 방법   / 11\\n\\t\\n나. 원산지증명서 원본 여부 논란 발생 시 대응방안   / 12\\n3. CEPA 활용   / 14\\n\\t\\n가. 인도 CAROTAR 2020(원산지관리강화규칙)에 의한 Form I \\n\\t\\n\\t\\n작성 및 제출 방법   / 14\\n\\t\\n나. \\x07\\n2022년 HS협약 개정에 따라 HS코드가 변경된 물품의 수출 시 주의사항   / 17\\n\\t\\n다. 중고 설비 인도 수출 시 한-인도 CEPA 활용 방법   / 19\\n02. 인도 비관세장벽 이해하기 \\n1. 인증제도   / 22\\n\\t\\n가. BIS 인증대상 확대 및 인증진행 지연   / 22\\n\\t\\n\\t\\n[참고] BIS 인증제도 개요\\n \\t 나. 인도 지정실험실에 샘플 발송 시 주의사항   / 27\\n \\t 다. 화장품 인증 완료 후 까다로운 라벨링 부착 규정   / 29\\n\\t\\n\\t\\n[참고] CDSCO 인증제도 개요\\n2. 수입 전 등록 및 허가제도   / 32\\n\\t\\n가. 철강제품 수입 전 모니터링 시스템 상 화물정보 등록 의무   / 32\\n\\t\\n\\t\\n[참고]인도의 수입모니터링 시스템\\n\\t\\n나. 인도 대외무역총국(DGFT) 수입 전 허가제도   / 35\\n\\t\\n\\t\\n[참고]수입허가 신청방법\\n', metadata={'source': '../../raw_data/[법률_규범_특허][코트라][2022]한-인도 CEPA 활용법 및 인도 통상 애로.pdf', 'file_path': '../../raw_data/[법률_규범_특허][코트라][2022]한-인도 CEPA 활용법 및 인도 통상 애로.pdf', 'page': 2, 'total_pages': 41, 'format': 'PDF 1.6', 'title': '', 'author': '', 'subject': '', 'keywords': '', 'creator': 'Adobe InDesign 17.2 (Macintosh)', 'producer': 'Adobe PDF Library 16.0.7', 'creationDate': \"D:20220610145706+09'00'\", 'modDate': \"D:20220614154828+09'00'\", 'trapped': ''}),\n",
       " Document(page_content='인도 수출 및 CEPA\\n활용 시 주의사항 알아두기 \\n \\n \\n01\\n1. 품목분류\\n가. HS코드 관련 인도세관의 품목분류 차이 발생 시 원산지증명서 발급 방법\\n나. 인도 DRI(국세정보국) 관세조사 시 대응방안\\n2. 원산지증명서\\n가. 원산지증명서 오류 발급 시 정정 방법\\n나. 원산지증명서 원본 여부 논란 발생 시 대응방안\\n3. CEPA 활용\\n가. 인도 CAROT\\nAR 2020(원산지관리강화규칙)에 의한 Form I 작성 및 제출 방법\\n나. 2022년 HS협약 개정에 따라 HS코드가 변경된 물품의 수출 시 주의사항\\n다. 중고 설비 인도 수출 시 한-인도 CEPA 활용 방법\\n사례로 정리해보는 한-인도\\nCEPA 활용법 및 인도 통상 애로\\n', metadata={'source': '../../raw_data/[법률_규범_특허][코트라][2022]한-인도 CEPA 활용법 및 인도 통상 애로.pdf', 'file_path': '../../raw_data/[법률_규범_특허][코트라][2022]한-인도 CEPA 활용법 및 인도 통상 애로.pdf', 'page': 3, 'total_pages': 41, 'format': 'PDF 1.6', 'title': '', 'author': '', 'subject': '', 'keywords': '', 'creator': 'Adobe InDesign 17.2 (Macintosh)', 'producer': 'Adobe PDF Library 16.0.7', 'creationDate': \"D:20220610145706+09'00'\", 'modDate': \"D:20220614154828+09'00'\", 'trapped': ''}),\n",
       " Document(page_content='06 | 사례로 정리해보는 한-인도 CEPA 활용법 및 인도 통상 애로\\n인도 수출 및 CEPA 활용 시 주의사항 알아두기 \\n01\\n1. 품목분류\\n가. HS코드 관련 인도세관의 품목분류 차이 발생 시 원산지증명서 발급 방법 \\n① 주요 내용\\n인도 수출 시, 한-인도 CEPA에 의한 양허세율을 적용하기 위해서는 한국 세관 또는 대한상공회의소에서 \\n발급된 원산지증명서가 필요하다. 원산지증명서에는 해당물품의 HS코드 6자리를 기재하여야 한다. 그러나 \\n인도세관에서 해당 물품에 대하여 다른 HS코드로 분류할 것을 주장하여 한국에서 발급된 원산지증명서 및 \\nCEPA의 적용을 불인정하는 사례가 있다.\\n② 사례\\n핸드폰, TV 등에 사용되는 스폰지 가스켓(Sponge Gasket)이라는 부품을 인도에 수출하고 있는 A사는 한\\n국에서 원산지증명서 발급 시 해당 물품의 HS 코드가 7410.21에 해당한다는 것을 확인하였다. 약 1년 넘게 \\n해당 HS 코드로 인도에 수출을 하며 한-인도 CEPA의 적용을 받아오던 중 인도 세관 담당자로부터 해당 물\\n품의 HS 코드를 3919.90로 하여서 수출 및 한-인도 CEPA 적용 신청을 다시 할 것을 요청 받았다. 다행히 \\nHS 코드 7410.21와 3919.90에 해당하는 물품 모두 한-인도 CEPA 협정 상 양허대상 물품에 해당하고 적\\n용 후 세율도 0%로 동일하여 인도 세관에 요청하는 HS 코드로 변경할 경우에도 CEPA 활용을 할 수 있는 \\n상황이었다. \\n그러나, 한국에서 원산지증명서 발급 시 수출신고필증 사본, 상업송장(Invoice), 원산지소명서 등을 제출하\\n여야 하는데 수출신고필증 상 HS 코드가 원산지증명서 상에 그대로 기재된다. 한국에서 품목분류사전심사 \\n등을 통해 해당 HS 코드가 정확하다고 확인되어 해당 HS 코드로 신고를 해온 물품의 경우에는 수출신고필\\n증 상의 HS 코드를 임의로 변경할 수 없다. 수입국에서 품목분류에 대한 해석의 차이가 있을 수 있지만 관세 \\n', metadata={'source': '../../raw_data/[법률_규범_특허][코트라][2022]한-인도 CEPA 활용법 및 인도 통상 애로.pdf', 'file_path': '../../raw_data/[법률_규범_특허][코트라][2022]한-인도 CEPA 활용법 및 인도 통상 애로.pdf', 'page': 4, 'total_pages': 41, 'format': 'PDF 1.6', 'title': '', 'author': '', 'subject': '', 'keywords': '', 'creator': 'Adobe InDesign 17.2 (Macintosh)', 'producer': 'Adobe PDF Library 16.0.7', 'creationDate': \"D:20220610145706+09'00'\", 'modDate': \"D:20220614154828+09'00'\", 'trapped': ''}),\n",
       " Document(page_content=\"인도 수출 및 CEPA 활용 시 주의사항 알아두기 | 07\\n환급 등의 이유 및 품목분류의 정합성을 위해 동일한 물품에 대하여 수출신고서 상 HS 코드를 다르게 적용할 \\n수 없기 때문이다. 해당 업체는 한-인도 CEPA 활용을 위해 수입국에서 적용되는 HS 코드가 다른 경우 원산\\n지증명서 발급 방법에 대해서 확인이 필요했기 때문에 뉴델리 CEPA 활용지원센터에 지원을 요청했다.\\n뉴델리 CEPA활용지원센터에서  해당 사례 관련하여 한국 세관과 지원방법을 알아본 결과, 수입국에서 수\\n출국의 HS 코드와 상이한 HS 코드를 원산지증명서 상 기재할 것을 요청하는 경우 원산지증명서 발급 방법\\n에 관한 지침에 따라 증명 서류를 제출하고, 해당 수출물품이 HS 코드의 변경 전 후의 원산지기준을 모두 충\\n족하는 것이 확인될 때에는 인도 세관에서 요청하는 HS 코드를 기재한 원산지증명서를 발급 가능하다는 것\\n을 알 수 있었고, 해당 업체는 한-인도 CEPA 적용 관련 품목분류 논쟁을 방지할 수 있었다.\\n③ 시사점\\nHS 코드란 국제무역거래의 대상이 되는 물품을 분류해놓은 품목분류표이다. HS 협약에 따라 6자리까지 \\n국제 공통으로 사용되고 7자리부터 각 국가의 법에 따라 다르게 정하고 있으나, 각 국가마다 품목분류 해석\\n의 차이가 있을 수 있기 때문에 FTA 협정을 체결한 상대국에서 다른 HS 코드를 사용할 것을 요구할 수 있다. \\n이러한 경우 HS 코드 변경에 따른 세율의 차이가 발생하거나 FTA 활용이 어려워질 수 있다. 또한, 변경 후의 \\n세율이 높은 경우 이전에 수입한 건에 대해서도 차액 관세를 추징 당할 수도 있다. 인도 수출 물품에 대한 품\\n목분류 분쟁 또는 FTA 특혜관세의 품목의 불인정 등 애로가 발생할 경우 지역별 본부세관 및 수출입기업지\\n원센터에 신고하거나 해외 FTA 활용지원센터에 지원을 요청할 수 있다. \\n한국 관세청의 '품목분류 해석상이 등에 따른 업무처리 지침'에 따르면 협정상대국(인도)에서 적용되는 HS \\n코드를 확인할 수 있는 서류(수입신고필증 및 품목분류 사전심사결과서 등)를 한국의 원산지증명서 발급기관\\n에 제출할 경우 인도세관에서 요청하는 HS코드를 적용하여 원산지증명서 발급이 가능하다. 대한상공회의소\\n의 온라인 시스템을 이용하여 원산지증명서를 발급하는 경우에는 해당 변경으로 인한 문제 발생 시 수출자의 \\n책임으로 한다는 내용의 사유서를 첨부하여 '발급기관 전달사항'란에 정확한 사유 및 변경 전/후 HS 코드를 \\n기관\\n적용 HS 코드\\n물품명\\n적용 HS 코드\\n대한상공회의소\\n7410.21\\n구리의 박(箔)\\nCTH + 25%\\n인도 세관\\n3919.90\\n플라스틱 시트(Sheet)\\nCTSH + 35%\\n자료: 뉴델리 CEPA 활용지원센터\\n<스폰지 가스켓(Sponge Gasket) 관련 인도 세관의 HS 코드 적용 불일치 내용> \\n\", metadata={'source': '../../raw_data/[법률_규범_특허][코트라][2022]한-인도 CEPA 활용법 및 인도 통상 애로.pdf', 'file_path': '../../raw_data/[법률_규범_특허][코트라][2022]한-인도 CEPA 활용법 및 인도 통상 애로.pdf', 'page': 5, 'total_pages': 41, 'format': 'PDF 1.6', 'title': '', 'author': '', 'subject': '', 'keywords': '', 'creator': 'Adobe InDesign 17.2 (Macintosh)', 'producer': 'Adobe PDF Library 16.0.7', 'creationDate': \"D:20220610145706+09'00'\", 'modDate': \"D:20220614154828+09'00'\", 'trapped': ''}),\n",
       " Document(page_content='08 | 사례로 정리해보는 한-인도 CEPA 활용법 및 인도 통상 애로\\n기재하여 신청하면 가능하다. 다만, 한국과 인도의 양국에서 사용하는 HS 코드에 따른 원산지기준이 다를 경\\n우, 원산지기준을 모두 충족하여야 한다.\\n나. 인도 DRI(국세정보국) 관세조사 시 대응방안\\n① 주요 내용\\n2021년 3월, 철도 신호용 계전기 관련 인도 대법원의 판결(Westinghouse Saxby FarmerLtd. Vs. \\nCommisioner of Central Excise)에 따라 개별 부품이 자동차의 부품으로 분류될 근거가 됨으로써 인도 국\\n세정보국(DRI)는 자동차 부품 관련 자의적 해석에 근거한 관세조사를 시행하고 있다. 이로 인해, 인도에 진\\n출한 관련 기업들의 한-인도 CEPA  활용 불가 및 차액 관세 납부 등의 피해가 발생하고 있다. \\n한-인도 CEPA 적용을 위한 원산지증명서 서식\\n자료: 한-인도 CEPA 협정문\\n', metadata={'source': '../../raw_data/[법률_규범_특허][코트라][2022]한-인도 CEPA 활용법 및 인도 통상 애로.pdf', 'file_path': '../../raw_data/[법률_규범_특허][코트라][2022]한-인도 CEPA 활용법 및 인도 통상 애로.pdf', 'page': 6, 'total_pages': 41, 'format': 'PDF 1.6', 'title': '', 'author': '', 'subject': '', 'keywords': '', 'creator': 'Adobe InDesign 17.2 (Macintosh)', 'producer': 'Adobe PDF Library 16.0.7', 'creationDate': \"D:20220610145706+09'00'\", 'modDate': \"D:20220614154828+09'00'\", 'trapped': ''}),\n",
       " Document(page_content='인도 수출 및 CEPA 활용 시 주의사항 알아두기 | 09\\n이에 따라, 관련 기업, 주인도 대사관, 한국 관세청의 품목분류 담당자 등과와 회의를 통해 해당 판결문의 \\n내용은 HS 협약에 따른 해석과 차이가 있으므로 인도 국세정보국(DRI)의 자의적 품목분류 해석에 근거한 관\\n세 조사를 철회할 것을 요청하는 서신을 인도 산업무역진흥청으로 발송 및 인도 상공부에도 해당 내용을 공\\n유하였다. \\n2022년 1월 인도 관세간접세위원회(CBIC)는 인도 세관 담당자 대상으로 지침을 발표하여 철도 신호용 계\\n② 사례\\n뉴델리·첸나이 CEPA활용지원센터는 인도 진출 자동차 및 자동차 부품 관련 기업들로부터 인도 재무부 산\\n하의 국세정보국(DRI)이 일방적인 관세조사를 확대함으로써 기업들이 기존에 적용하고 있는 HS 코드가 아\\n닌 높은 세율의 HS 코드를 적용하여야함을 주장하며 차액에 해당하는 관세를 납부할 것을 요구하고 있다는 \\n내용의 애로사항을 접수하였다. \\n인도 국세정보국(DRI)는 사전고지 없이 자동차 부품 관련 기업 대상 관세조사를 시작하고, 2년 또는 5년 \\n동안 수입을 한 물품에 대하여 상이한 HS 코드를 소급적용하여 차액 관세를 납부할 것을 요구하였다. 부당한 \\n추징을 피하기 위한 소송이 가능하지만, 많은 시간과 비용 투입의 부담이 예상되기 때문에 국세정보국(DRI)\\n에서 요구하는 대로 HS 코드 변경에 따른 관세를 추가 납부하고 추후 한-인도 CEPA의 관세혜택을 포기하\\n게 되는 경우도 발생하였다.    \\n조사 결과 2021년 3월 발표된 철도 신호용 계전기의 품목분류 관련 대법원의 판결 내용이 자동차 부품\\n이 개별 부품의 HS 코드가 아닌 자동차 부품의 HS 코드로 분류될 수 있는 근거를 제공하게 된다는 것을 \\n확인하였다. \\n기관\\n적용 HS 코드\\n2021년 \\n대법원 판례\\n(Civil Appeal \\nNo.37 of 2009)\\n• \\x07\\nWesting House Saxby Farmers Ltd(웨스트뱅갈주 국영회사)관련 인도 대법원 \\n판결에서 철도 신호용 계전기(Relay)를 특게 세번(8536호)이 아닌 철도 차량 \\n부품(8608호)으로 분류함이 타당하다고 판결함 \\n• \\x07\\n해당 대법원 판결은 품목분류 통칙과 호의 용어 등 HS 국제협약과 상충되는 \\n내용이나, 인도 세관에서 해당 판결문을 근거로 개별 부품이 자동차 제조에 사용되는 \\n경우, 모두 자동차 부품(8708호)로 분류하여야 한다고 주장할 여지가 있음.\\n자료: 뉴델리 CEPA 활용지원센터\\n<철도 신호용 계전기의 품목분류 관련 인도 대법원 판결 주요 내용>\\n', metadata={'source': '../../raw_data/[법률_규범_특허][코트라][2022]한-인도 CEPA 활용법 및 인도 통상 애로.pdf', 'file_path': '../../raw_data/[법률_규범_특허][코트라][2022]한-인도 CEPA 활용법 및 인도 통상 애로.pdf', 'page': 7, 'total_pages': 41, 'format': 'PDF 1.6', 'title': '', 'author': '', 'subject': '', 'keywords': '', 'creator': 'Adobe InDesign 17.2 (Macintosh)', 'producer': 'Adobe PDF Library 16.0.7', 'creationDate': \"D:20220610145706+09'00'\", 'modDate': \"D:20220614154828+09'00'\", 'trapped': ''}),\n",
       " Document(page_content='10 | 사례로 정리해보는 한-인도 CEPA 활용법 및 인도 통상 애로\\n전기의 품목분류 관련 인도 대법원 판결의 내용을 확대 적용하여 일반화하지 않도록 요청 및 부품(Parts)의 \\n품목분류 시 HS 협약을 우선 적용하고 다양한 사례를 참고할 것을 강조하였다. 뉴델리·첸나이 CEPA활용지\\n원센터는 관련 기업들에게 국세정보국(DRI)이 자의적인 품목분류 해석을 통한 조사 및 추가 관세 납부를 요\\n구할 수 있으므로 이에 대응할 수 있도록 근거자료를 확보할 것을 안내 및 해당 지침의 내용을 공유하였다.\\n③ 시사점\\n2022년 1월 5일, 인도 관세간접세위원회(CBIC)는 세관 및 국세정보국(DRI)의 자의적 품목분류를 규제하\\n기 위한 지침(Instruction No.01/2022-Customs)을 발표하였다. 이를 통해 철도 신호용 계전기 관련 품목\\n분류에 대한 인도 대법원 판결(Westinghouse Saxby FarmerLtd. Vs. Commisioner of Central Excise)\\n을 개별 부품을 자동차 부품에 분류할 수 있는 법적근거로 확대 해석하지 않도록 환기하였다. 또한, 부품\\n(Parts)의 품목분류 시, HS 협약에 따른 규정을 우선 적용하고 해당 품목과 관련된 다양한 사례를 종합적으\\n로 참고하여 판단 할 것을 권고하였다. 관세 관련 고시 및 지침은 인도 관세간접세위원회(CBIC)의 공식 웹사\\n이트에서 확인 가능하다. \\n<인도 관세간접세위원회(CBIC) 지침 조회 화면>\\n자료: https://www.cbic.gov.in/Customs-Circulars-Instructions\\n', metadata={'source': '../../raw_data/[법률_규범_특허][코트라][2022]한-인도 CEPA 활용법 및 인도 통상 애로.pdf', 'file_path': '../../raw_data/[법률_규범_특허][코트라][2022]한-인도 CEPA 활용법 및 인도 통상 애로.pdf', 'page': 8, 'total_pages': 41, 'format': 'PDF 1.6', 'title': '', 'author': '', 'subject': '', 'keywords': '', 'creator': 'Adobe InDesign 17.2 (Macintosh)', 'producer': 'Adobe PDF Library 16.0.7', 'creationDate': \"D:20220610145706+09'00'\", 'modDate': \"D:20220614154828+09'00'\", 'trapped': ''}),\n",
       " Document(page_content='인도 수출 및 CEPA 활용 시 주의사항 알아두기 | 11\\n2. 원산지증명서\\n가. 원산지증명서 오류 발급 시 정정 방법\\n① 주요 내용\\n한-인도 CEPA 협정 4.4조에 의하면 수출국에서 선적일로부터 7일 내 원산지증명서를 발급하여야 하며, 7\\n일 이후에 발급된 원산지증명서의 경우에는 ‘소급적용(ISSUED RETROSPECTIVELY)’ 문구가 표시되어 있\\n어야 한다. 해당 내용이 협정과 다르게 표시될 경우, 원산지증명서 오류 발급으로 간주된다. \\n② 사례\\n한국에서 인도로 스피커 부품을 수출하고 있는 B사는 기업 측의 착오로 한국 세관에 원산지증명서 발급 신\\n청 시 선적일로부터 5일이 되었음에도 ‘소급적용’ 문구 표시를 신청하여 발급받았다. 인도 세관에서는 한-인\\n도 CEPA 협정에 따라 해당 원산지증명서를 적합하지 않다고 판단하여, ‘소급적용’ 문구가 없는 원산지증명\\n서를 제출할 것을 요청하였다. 이와 같은 오류가 있는 경우, 한-인도 CEPA 적용을 위해 원산지증명서의 재\\n발급이 필요하나 재발급을 위해서는 기존에 발급된 원산지증명서 원본을 회수한 이후에 가능하므로 한-인도 \\nCEPA 적용이 늦어지게 되고, 통관 지연에 따른 보관료 등이 발생할 것으로 예상되었다. 뉴델리 CEPA활용\\n지원센터는 한국 세관과 관련 내용을 확인한 후, 다음과 같은 정정 발급을 통해 보다 빠르게 한-인도 CEPA\\n를 적용할 수 있도록 안내하였다.\\n1. 한국 세관에\\n원산지증명서 정정신청 \\n2. 정정 원산지증명서 제출,\\n한-인도 CEPA 적용\\n3. 원산지증명서\\n원본(오류 발급본) 회수\\n③ 시사점\\n자유무역협정의 이행을 위한 관세법의 특례에 관한 법률 제12조에 따라 관세당국에서 수출물품의 원산지\\n증명 능력이 있다고 인정받은 경우, 원산지증명서 발급이 간소화 된다. 해당 인증을 취득한 기업(원산지 인증 \\n수출자)은 원산지증명서 발급 신청 시 해당 물품의 원산지를 입증하기 위한 자료 제출이 생략되고, 발급 기관\\n의 심사도 간소화된다. 이렇게 인증 수출자 제도를 통해 원산지증명서 발급을 신청하면 절차가 간소화되지\\n만, 신청자가 협정 별 내용을 숙지하고 신중하게 신청하는 것이 중요하다. 예를 들어, 협정 별 ‘소급적용’ 문\\n', metadata={'source': '../../raw_data/[법률_규범_특허][코트라][2022]한-인도 CEPA 활용법 및 인도 통상 애로.pdf', 'file_path': '../../raw_data/[법률_규범_특허][코트라][2022]한-인도 CEPA 활용법 및 인도 통상 애로.pdf', 'page': 9, 'total_pages': 41, 'format': 'PDF 1.6', 'title': '', 'author': '', 'subject': '', 'keywords': '', 'creator': 'Adobe InDesign 17.2 (Macintosh)', 'producer': 'Adobe PDF Library 16.0.7', 'creationDate': \"D:20220610145706+09'00'\", 'modDate': \"D:20220614154828+09'00'\", 'trapped': ''})]"
      ]
     },
     "execution_count": 19,
     "metadata": {},
     "output_type": "execute_result"
    }
   ],
   "source": [
    "docs[:10]"
   ]
  },
  {
   "cell_type": "code",
   "execution_count": 17,
   "metadata": {},
   "outputs": [
    {
     "data": {
      "text/plain": [
       "[Document(page_content='사례로 정리해보는\\n한-인도 CEPA \\n활용법 및 인도 통상 애로\\nKOTRA자료 22-055', metadata={'source': '../../raw_data/[법률_규범_특허][코트라][2022]한-인도 CEPA 활용법 및 인도 통상 애로.pdf', 'file_path': '../../raw_data/[법률_규범_특허][코트라][2022]한-인도 CEPA 활용법 및 인도 통상 애로.pdf', 'page': 0, 'total_pages': 41, 'format': 'PDF 1.6', 'title': '', 'author': '', 'subject': '', 'keywords': '', 'creator': 'Adobe InDesign 17.2 (Macintosh)', 'producer': 'Adobe PDF Library 16.0.7', 'creationDate': \"D:20220610145706+09'00'\", 'modDate': \"D:20220614154828+09'00'\", 'trapped': ''}),\n",
       " Document(page_content='인사말\\n한-인도 CEPA 발효 11년이 지난 2021년, 양국 간 교역액은 약 236억 달러를 달성하며 역대 최고치\\n를 기록하였습니다. 한국의 대인도 수출과 수입 모두 전년 대비 약 30%, 64% 상승하며, 무역수지는 75\\n억 달러 흑자를 기록하였습니다. 인도는 한국의 대인도 수출품 85%에 대한 관세를 철폐 또는 감축하면\\n서, 관세장벽은 많이 허물어졌습니다.\\n그러나 인도는 한국산 물품에 대해 원산지관리를 강화하고, 세관 담당자가 임의적으로 품목분류를 변\\n경하여 관세 추징을 하는 등 한국기업이 CEPA 특혜관세를 적용 받기 어렵게 만들고 있습니다. 아울러, \\n인도는 BIS 인증 대상을 확대하고 수입모니터링 시스템을 시행하며 비관세장벽을 높이고 있습니다.\\nKOTRA는 이러한 환경에서 우리 기업을 지원하기 위해 2018년 뉴델리 무역관, 2019년 첸나이 무역\\n관에 CEPA 활용지원센터를 개소하고 우리 기업의 인도 수출 준비부터 CEPA 활용 및 통관 관련 지원을 \\n하고 있습니다. \\n지난해 인도 통상환경에서 기업 수출 담당자가 겪은 다양한 애로 사례들과 관련하여 CEPA 활용지원\\n센터에서 함께 대응하였습니다. 축적된 실사례와 대응방안을 담아 우리기업에게 도움을 드리고자 ‘사례\\n로 정리해보는 한-인도 CEPA 활용법 및 인도 통상 애로’라는 자료를 발간하게 되었습니다.\\n자료에 담긴 사례들과 대응방안이 인도 진출을 준비하고 있거나, 진출한 한국기업들의 피해를 줄이고 \\n더 쉽게 CEPA를 활용하는데 도움이 되길 바랍니다.\\n2022년 5월\\nKOTRA 서남아지역본부장 빈준화', metadata={'source': '../../raw_data/[법률_규범_특허][코트라][2022]한-인도 CEPA 활용법 및 인도 통상 애로.pdf', 'file_path': '../../raw_data/[법률_규범_특허][코트라][2022]한-인도 CEPA 활용법 및 인도 통상 애로.pdf', 'page': 1, 'total_pages': 41, 'format': 'PDF 1.6', 'title': '', 'author': '', 'subject': '', 'keywords': '', 'creator': 'Adobe InDesign 17.2 (Macintosh)', 'producer': 'Adobe PDF Library 16.0.7', 'creationDate': \"D:20220610145706+09'00'\", 'modDate': \"D:20220614154828+09'00'\", 'trapped': ''}),\n",
       " Document(page_content='CONTENTS\\n사례로 정리해보는\\n한-인도 CEPA \\n활용법 및 인도 통상 애로\\n01. 인도 수출 및 CEPA 활용 시 주의사항 알아두기   \\n1. 품목분류   / 06\\n\\t\\n가. \\x07\\nHS코드 관련 인도세관의 품목분류 차이 발생 시 원산지증명서 발급 방법   / 06\\n\\t\\n나. 인도 DRI(국세정보국) 관세조사 시 대응방안   / 08\\n2. 원산지증명서   / 11\\n\\t\\n가. 원산지증명서 오류 발급 시 정정 방법   / 11\\n\\t\\n나. 원산지증명서 원본 여부 논란 발생 시 대응방안   / 12\\n3. CEPA 활용   / 14\\n\\t\\n가. 인도 CAROTAR 2020(원산지관리강화규칙)에 의한 Form I \\n\\t\\n\\t\\n작성 및 제출 방법   / 14\\n\\t\\n나. \\x07\\n2022년 HS협약 개정에 따라 HS코드가 변경된 물품의 수출 시 주의사항   / 17\\n\\t\\n다. 중고 설비 인도 수출 시 한-인도 CEPA 활용 방법   / 19\\n02. 인도 비관세장벽 이해하기 \\n1. 인증제도   / 22\\n\\t\\n가. BIS 인증대상 확대 및 인증진행 지연   / 22\\n\\t\\n\\t\\n[참고] BIS 인증제도 개요\\n \\t 나. 인도 지정실험실에 샘플 발송 시 주의사항   / 27\\n \\t 다. 화장품 인증 완료 후 까다로운 라벨링 부착 규정   / 29\\n\\t\\n\\t\\n[참고] CDSCO 인증제도 개요\\n2. 수입 전 등록 및 허가제도   / 32\\n\\t\\n가. 철강제품 수입 전 모니터링 시스템 상 화물정보 등록 의무   / 32\\n\\t\\n\\t\\n[참고]인도의 수입모니터링 시스템\\n\\t\\n나. 인도 대외무역총국(DGFT) 수입 전 허가제도   / 35\\n\\t\\n\\t\\n[참고]수입허가 신청방법', metadata={'source': '../../raw_data/[법률_규범_특허][코트라][2022]한-인도 CEPA 활용법 및 인도 통상 애로.pdf', 'file_path': '../../raw_data/[법률_규범_특허][코트라][2022]한-인도 CEPA 활용법 및 인도 통상 애로.pdf', 'page': 2, 'total_pages': 41, 'format': 'PDF 1.6', 'title': '', 'author': '', 'subject': '', 'keywords': '', 'creator': 'Adobe InDesign 17.2 (Macintosh)', 'producer': 'Adobe PDF Library 16.0.7', 'creationDate': \"D:20220610145706+09'00'\", 'modDate': \"D:20220614154828+09'00'\", 'trapped': ''}),\n",
       " Document(page_content='인도 수출 및 CEPA\\n활용 시 주의사항 알아두기 \\n \\n \\n01\\n1. 품목분류\\n가. HS코드 관련 인도세관의 품목분류 차이 발생 시 원산지증명서 발급 방법\\n나. 인도 DRI(국세정보국) 관세조사 시 대응방안\\n2. 원산지증명서\\n가. 원산지증명서 오류 발급 시 정정 방법\\n나. 원산지증명서 원본 여부 논란 발생 시 대응방안\\n3. CEPA 활용\\n가. 인도 CAROT\\nAR 2020(원산지관리강화규칙)에 의한 Form I 작성 및 제출 방법\\n나. 2022년 HS협약 개정에 따라 HS코드가 변경된 물품의 수출 시 주의사항\\n다. 중고 설비 인도 수출 시 한-인도 CEPA 활용 방법\\n사례로 정리해보는 한-인도\\nCEPA 활용법 및 인도 통상 애로', metadata={'source': '../../raw_data/[법률_규범_특허][코트라][2022]한-인도 CEPA 활용법 및 인도 통상 애로.pdf', 'file_path': '../../raw_data/[법률_규범_특허][코트라][2022]한-인도 CEPA 활용법 및 인도 통상 애로.pdf', 'page': 3, 'total_pages': 41, 'format': 'PDF 1.6', 'title': '', 'author': '', 'subject': '', 'keywords': '', 'creator': 'Adobe InDesign 17.2 (Macintosh)', 'producer': 'Adobe PDF Library 16.0.7', 'creationDate': \"D:20220610145706+09'00'\", 'modDate': \"D:20220614154828+09'00'\", 'trapped': ''}),\n",
       " Document(page_content='06 | 사례로 정리해보는 한-인도 CEPA 활용법 및 인도 통상 애로\\n인도 수출 및 CEPA 활용 시 주의사항 알아두기 \\n01\\n1. 품목분류\\n가. HS코드 관련 인도세관의 품목분류 차이 발생 시 원산지증명서 발급 방법 \\n① 주요 내용\\n인도 수출 시, 한-인도 CEPA에 의한 양허세율을 적용하기 위해서는 한국 세관 또는 대한상공회의소에서 \\n발급된 원산지증명서가 필요하다. 원산지증명서에는 해당물품의 HS코드 6자리를 기재하여야 한다. 그러나 \\n인도세관에서 해당 물품에 대하여 다른 HS코드로 분류할 것을 주장하여 한국에서 발급된 원산지증명서 및 \\nCEPA의 적용을 불인정하는 사례가 있다.\\n② 사례\\n핸드폰, TV 등에 사용되는 스폰지 가스켓(Sponge Gasket)이라는 부품을 인도에 수출하고 있는 A사는 한\\n국에서 원산지증명서 발급 시 해당 물품의 HS 코드가 7410.21에 해당한다는 것을 확인하였다. 약 1년 넘게 \\n해당 HS 코드로 인도에 수출을 하며 한-인도 CEPA의 적용을 받아오던 중 인도 세관 담당자로부터 해당 물\\n품의 HS 코드를 3919.90로 하여서 수출 및 한-인도 CEPA 적용 신청을 다시 할 것을 요청 받았다. 다행히 \\nHS 코드 7410.21와 3919.90에 해당하는 물품 모두 한-인도 CEPA 협정 상 양허대상 물품에 해당하고 적\\n용 후 세율도 0%로 동일하여 인도 세관에 요청하는 HS 코드로 변경할 경우에도 CEPA 활용을 할 수 있는 \\n상황이었다. \\n그러나, 한국에서 원산지증명서 발급 시 수출신고필증 사본, 상업송장(Invoice), 원산지소명서 등을 제출하\\n여야 하는데 수출신고필증 상 HS 코드가 원산지증명서 상에 그대로 기재된다. 한국에서 품목분류사전심사 \\n등을 통해 해당 HS 코드가 정확하다고 확인되어 해당 HS 코드로 신고를 해온 물품의 경우에는 수출신고필\\n증 상의 HS 코드를 임의로 변경할 수 없다. 수입국에서 품목분류에 대한 해석의 차이가 있을 수 있지만 관세', metadata={'source': '../../raw_data/[법률_규범_특허][코트라][2022]한-인도 CEPA 활용법 및 인도 통상 애로.pdf', 'file_path': '../../raw_data/[법률_규범_특허][코트라][2022]한-인도 CEPA 활용법 및 인도 통상 애로.pdf', 'page': 4, 'total_pages': 41, 'format': 'PDF 1.6', 'title': '', 'author': '', 'subject': '', 'keywords': '', 'creator': 'Adobe InDesign 17.2 (Macintosh)', 'producer': 'Adobe PDF Library 16.0.7', 'creationDate': \"D:20220610145706+09'00'\", 'modDate': \"D:20220614154828+09'00'\", 'trapped': ''}),\n",
       " Document(page_content=\"인도 수출 및 CEPA 활용 시 주의사항 알아두기 | 07\\n환급 등의 이유 및 품목분류의 정합성을 위해 동일한 물품에 대하여 수출신고서 상 HS 코드를 다르게 적용할 \\n수 없기 때문이다. 해당 업체는 한-인도 CEPA 활용을 위해 수입국에서 적용되는 HS 코드가 다른 경우 원산\\n지증명서 발급 방법에 대해서 확인이 필요했기 때문에 뉴델리 CEPA 활용지원센터에 지원을 요청했다.\\n뉴델리 CEPA활용지원센터에서  해당 사례 관련하여 한국 세관과 지원방법을 알아본 결과, 수입국에서 수\\n출국의 HS 코드와 상이한 HS 코드를 원산지증명서 상 기재할 것을 요청하는 경우 원산지증명서 발급 방법\\n에 관한 지침에 따라 증명 서류를 제출하고, 해당 수출물품이 HS 코드의 변경 전 후의 원산지기준을 모두 충\\n족하는 것이 확인될 때에는 인도 세관에서 요청하는 HS 코드를 기재한 원산지증명서를 발급 가능하다는 것\\n을 알 수 있었고, 해당 업체는 한-인도 CEPA 적용 관련 품목분류 논쟁을 방지할 수 있었다.\\n③ 시사점\\nHS 코드란 국제무역거래의 대상이 되는 물품을 분류해놓은 품목분류표이다. HS 협약에 따라 6자리까지 \\n국제 공통으로 사용되고 7자리부터 각 국가의 법에 따라 다르게 정하고 있으나, 각 국가마다 품목분류 해석\\n의 차이가 있을 수 있기 때문에 FTA 협정을 체결한 상대국에서 다른 HS 코드를 사용할 것을 요구할 수 있다. \\n이러한 경우 HS 코드 변경에 따른 세율의 차이가 발생하거나 FTA 활용이 어려워질 수 있다. 또한, 변경 후의 \\n세율이 높은 경우 이전에 수입한 건에 대해서도 차액 관세를 추징 당할 수도 있다. 인도 수출 물품에 대한 품\\n목분류 분쟁 또는 FTA 특혜관세의 품목의 불인정 등 애로가 발생할 경우 지역별 본부세관 및 수출입기업지\\n원센터에 신고하거나 해외 FTA 활용지원센터에 지원을 요청할 수 있다. \\n한국 관세청의 '품목분류 해석상이 등에 따른 업무처리 지침'에 따르면 협정상대국(인도)에서 적용되는 HS\", metadata={'source': '../../raw_data/[법률_규범_특허][코트라][2022]한-인도 CEPA 활용법 및 인도 통상 애로.pdf', 'file_path': '../../raw_data/[법률_규범_특허][코트라][2022]한-인도 CEPA 활용법 및 인도 통상 애로.pdf', 'page': 5, 'total_pages': 41, 'format': 'PDF 1.6', 'title': '', 'author': '', 'subject': '', 'keywords': '', 'creator': 'Adobe InDesign 17.2 (Macintosh)', 'producer': 'Adobe PDF Library 16.0.7', 'creationDate': \"D:20220610145706+09'00'\", 'modDate': \"D:20220614154828+09'00'\", 'trapped': ''}),\n",
       " Document(page_content=\"코드를 확인할 수 있는 서류(수입신고필증 및 품목분류 사전심사결과서 등)를 한국의 원산지증명서 발급기관\\n에 제출할 경우 인도세관에서 요청하는 HS코드를 적용하여 원산지증명서 발급이 가능하다. 대한상공회의소\\n의 온라인 시스템을 이용하여 원산지증명서를 발급하는 경우에는 해당 변경으로 인한 문제 발생 시 수출자의 \\n책임으로 한다는 내용의 사유서를 첨부하여 '발급기관 전달사항'란에 정확한 사유 및 변경 전/후 HS 코드를 \\n기관\\n적용 HS 코드\\n물품명\\n적용 HS 코드\\n대한상공회의소\\n7410.21\\n구리의 박(箔)\\nCTH + 25%\\n인도 세관\\n3919.90\\n플라스틱 시트(Sheet)\\nCTSH + 35%\\n자료: 뉴델리 CEPA 활용지원센터\\n<스폰지 가스켓(Sponge Gasket) 관련 인도 세관의 HS 코드 적용 불일치 내용>\", metadata={'source': '../../raw_data/[법률_규범_특허][코트라][2022]한-인도 CEPA 활용법 및 인도 통상 애로.pdf', 'file_path': '../../raw_data/[법률_규범_특허][코트라][2022]한-인도 CEPA 활용법 및 인도 통상 애로.pdf', 'page': 5, 'total_pages': 41, 'format': 'PDF 1.6', 'title': '', 'author': '', 'subject': '', 'keywords': '', 'creator': 'Adobe InDesign 17.2 (Macintosh)', 'producer': 'Adobe PDF Library 16.0.7', 'creationDate': \"D:20220610145706+09'00'\", 'modDate': \"D:20220614154828+09'00'\", 'trapped': ''}),\n",
       " Document(page_content='08 | 사례로 정리해보는 한-인도 CEPA 활용법 및 인도 통상 애로\\n기재하여 신청하면 가능하다. 다만, 한국과 인도의 양국에서 사용하는 HS 코드에 따른 원산지기준이 다를 경\\n우, 원산지기준을 모두 충족하여야 한다.\\n나. 인도 DRI(국세정보국) 관세조사 시 대응방안\\n① 주요 내용\\n2021년 3월, 철도 신호용 계전기 관련 인도 대법원의 판결(Westinghouse Saxby FarmerLtd. Vs. \\nCommisioner of Central Excise)에 따라 개별 부품이 자동차의 부품으로 분류될 근거가 됨으로써 인도 국\\n세정보국(DRI)는 자동차 부품 관련 자의적 해석에 근거한 관세조사를 시행하고 있다. 이로 인해, 인도에 진\\n출한 관련 기업들의 한-인도 CEPA  활용 불가 및 차액 관세 납부 등의 피해가 발생하고 있다. \\n한-인도 CEPA 적용을 위한 원산지증명서 서식\\n자료: 한-인도 CEPA 협정문', metadata={'source': '../../raw_data/[법률_규범_특허][코트라][2022]한-인도 CEPA 활용법 및 인도 통상 애로.pdf', 'file_path': '../../raw_data/[법률_규범_특허][코트라][2022]한-인도 CEPA 활용법 및 인도 통상 애로.pdf', 'page': 6, 'total_pages': 41, 'format': 'PDF 1.6', 'title': '', 'author': '', 'subject': '', 'keywords': '', 'creator': 'Adobe InDesign 17.2 (Macintosh)', 'producer': 'Adobe PDF Library 16.0.7', 'creationDate': \"D:20220610145706+09'00'\", 'modDate': \"D:20220614154828+09'00'\", 'trapped': ''}),\n",
       " Document(page_content='인도 수출 및 CEPA 활용 시 주의사항 알아두기 | 09\\n이에 따라, 관련 기업, 주인도 대사관, 한국 관세청의 품목분류 담당자 등과와 회의를 통해 해당 판결문의 \\n내용은 HS 협약에 따른 해석과 차이가 있으므로 인도 국세정보국(DRI)의 자의적 품목분류 해석에 근거한 관\\n세 조사를 철회할 것을 요청하는 서신을 인도 산업무역진흥청으로 발송 및 인도 상공부에도 해당 내용을 공\\n유하였다. \\n2022년 1월 인도 관세간접세위원회(CBIC)는 인도 세관 담당자 대상으로 지침을 발표하여 철도 신호용 계\\n② 사례\\n뉴델리·첸나이 CEPA활용지원센터는 인도 진출 자동차 및 자동차 부품 관련 기업들로부터 인도 재무부 산\\n하의 국세정보국(DRI)이 일방적인 관세조사를 확대함으로써 기업들이 기존에 적용하고 있는 HS 코드가 아\\n닌 높은 세율의 HS 코드를 적용하여야함을 주장하며 차액에 해당하는 관세를 납부할 것을 요구하고 있다는 \\n내용의 애로사항을 접수하였다. \\n인도 국세정보국(DRI)는 사전고지 없이 자동차 부품 관련 기업 대상 관세조사를 시작하고, 2년 또는 5년 \\n동안 수입을 한 물품에 대하여 상이한 HS 코드를 소급적용하여 차액 관세를 납부할 것을 요구하였다. 부당한 \\n추징을 피하기 위한 소송이 가능하지만, 많은 시간과 비용 투입의 부담이 예상되기 때문에 국세정보국(DRI)\\n에서 요구하는 대로 HS 코드 변경에 따른 관세를 추가 납부하고 추후 한-인도 CEPA의 관세혜택을 포기하\\n게 되는 경우도 발생하였다.    \\n조사 결과 2021년 3월 발표된 철도 신호용 계전기의 품목분류 관련 대법원의 판결 내용이 자동차 부품\\n이 개별 부품의 HS 코드가 아닌 자동차 부품의 HS 코드로 분류될 수 있는 근거를 제공하게 된다는 것을 \\n확인하였다. \\n기관\\n적용 HS 코드\\n2021년 \\n대법원 판례\\n(Civil Appeal \\nNo.37 of 2009)\\n• \\x07\\nWesting House Saxby Farmers Ltd(웨스트뱅갈주 국영회사)관련 인도 대법원', metadata={'source': '../../raw_data/[법률_규범_특허][코트라][2022]한-인도 CEPA 활용법 및 인도 통상 애로.pdf', 'file_path': '../../raw_data/[법률_규범_특허][코트라][2022]한-인도 CEPA 활용법 및 인도 통상 애로.pdf', 'page': 7, 'total_pages': 41, 'format': 'PDF 1.6', 'title': '', 'author': '', 'subject': '', 'keywords': '', 'creator': 'Adobe InDesign 17.2 (Macintosh)', 'producer': 'Adobe PDF Library 16.0.7', 'creationDate': \"D:20220610145706+09'00'\", 'modDate': \"D:20220614154828+09'00'\", 'trapped': ''}),\n",
       " Document(page_content='판결에서 철도 신호용 계전기(Relay)를 특게 세번(8536호)이 아닌 철도 차량 \\n부품(8608호)으로 분류함이 타당하다고 판결함 \\n• \\x07\\n해당 대법원 판결은 품목분류 통칙과 호의 용어 등 HS 국제협약과 상충되는 \\n내용이나, 인도 세관에서 해당 판결문을 근거로 개별 부품이 자동차 제조에 사용되는 \\n경우, 모두 자동차 부품(8708호)로 분류하여야 한다고 주장할 여지가 있음.\\n자료: 뉴델리 CEPA 활용지원센터\\n<철도 신호용 계전기의 품목분류 관련 인도 대법원 판결 주요 내용>', metadata={'source': '../../raw_data/[법률_규범_특허][코트라][2022]한-인도 CEPA 활용법 및 인도 통상 애로.pdf', 'file_path': '../../raw_data/[법률_규범_특허][코트라][2022]한-인도 CEPA 활용법 및 인도 통상 애로.pdf', 'page': 7, 'total_pages': 41, 'format': 'PDF 1.6', 'title': '', 'author': '', 'subject': '', 'keywords': '', 'creator': 'Adobe InDesign 17.2 (Macintosh)', 'producer': 'Adobe PDF Library 16.0.7', 'creationDate': \"D:20220610145706+09'00'\", 'modDate': \"D:20220614154828+09'00'\", 'trapped': ''})]"
      ]
     },
     "execution_count": 17,
     "metadata": {},
     "output_type": "execute_result"
    }
   ],
   "source": [
    "split_documents[:10]"
   ]
  },
  {
   "cell_type": "code",
   "execution_count": 20,
   "metadata": {},
   "outputs": [
    {
     "data": {
      "text/plain": [
       "['fd598c10-66f1-4c44-b68b-39d922b12910',\n",
       " 'f8fdb529-57fc-4b5c-b3ec-2e749980229a',\n",
       " '4fe57113-05bb-482a-8493-941d0eb6039a',\n",
       " '3b4f72b4-e8b7-44d5-8c93-ffa703a22946',\n",
       " 'fbeb245d-14b5-47b3-ac04-d0abdfa92f28',\n",
       " '37bcf7fd-23ab-46e1-aa27-5ee5655f174d',\n",
       " 'c82530ae-e92f-4104-9637-822b2aa4724d',\n",
       " '34749c8d-4f5e-446d-aee3-122b9d264fb9',\n",
       " 'b0e0e316-afbb-45f9-a9ab-7604f6605318',\n",
       " '124bd102-8460-4d91-b8c5-f5dd57046d06',\n",
       " '704c8b6b-78b4-4ad3-a1cc-f7fd5636762d',\n",
       " '71a0b7a1-57f8-4a79-904b-9f22beceb3ba',\n",
       " '39f335a1-267f-479b-91c2-574564a0eb55',\n",
       " '42eb4381-0c8a-4b28-81df-ebbd36e050e8',\n",
       " '432b85a9-c924-49d2-9eed-f2053983eb0a',\n",
       " '0d35b40a-b44b-4a9a-9e18-b0c3cf9463f4',\n",
       " '88132a13-0d9a-4382-b4bb-9c457023c77a',\n",
       " '884ca8f3-6d9e-49c7-9ec7-ea5ec655c8d5',\n",
       " '780e5edf-9b74-4179-aa82-797b728914a1',\n",
       " '2cc92d2c-7ab4-4779-8b8c-657924c2d32f',\n",
       " '8b2cda88-b5b4-422b-b7da-f68778bbe61f',\n",
       " '9d4fefe8-597a-4e54-a914-3102b7b63988',\n",
       " 'b613494f-e410-4c64-8be8-f023dd8729af',\n",
       " '7362e276-9c8c-42ab-b99e-c3b6bdb4c7aa',\n",
       " '8c7abdbf-38a8-4d7e-b789-9dc81525b185',\n",
       " 'd9d1ca70-2584-4e9b-b4d8-c6644783820c',\n",
       " '7148af03-7026-4770-91eb-8c7415899e76',\n",
       " 'c6d4f2b0-90e3-4f09-9748-b3ff823a2679',\n",
       " 'd71e46ee-0057-4b33-9886-6b6592027054',\n",
       " '8f4ed312-178e-41e0-9daf-eeaa3ccab429',\n",
       " '0ed42d1a-bf71-4e33-8e4c-adc27feca261',\n",
       " '55b4d33a-18f3-4467-b8d6-bb7cd9fbf359',\n",
       " 'a2262be2-d4cc-4954-82e4-2df447ada58d',\n",
       " '974be1d4-af0b-4989-bb83-590f72f6a026',\n",
       " '27e19bd7-29ec-4618-92d2-10ec5db61273',\n",
       " '1122ead7-ef80-4a68-b863-db97de3cdae5',\n",
       " 'a26a59cb-1ec6-4625-996e-39c121ffdda1',\n",
       " '78667671-0f40-4346-b88e-962d1cfb50e5',\n",
       " 'ecb9d0e0-80ef-4d73-9e40-3a238e69a81d',\n",
       " '17099512-12fc-46ee-ab2c-4afc86d1d521',\n",
       " 'cf2eb93a-1441-4119-8471-4b5d72eabdcf',\n",
       " '9a3fb2f1-098c-430a-bd00-6157bd6604e0',\n",
       " '37092f49-d54e-42ff-a561-df9f71575b26',\n",
       " '96be84c9-96c5-4741-a451-0f646fc5ccdb',\n",
       " '3359d34c-9ce3-456c-bf99-66a6c2193f5d',\n",
       " '975c9416-e310-4c0d-9e81-5ac2a545f69a',\n",
       " 'f5f56c94-c777-4f04-bedd-00abcbd9eff4',\n",
       " 'd876fac0-7b57-4b3c-a2ce-894dc8cb9683',\n",
       " 'eba1d3fa-fb72-43f8-a1e9-c7941c862aab',\n",
       " '4a02b518-2baf-40c0-b4ff-c61c7a182573',\n",
       " '233f806f-4d4c-4e9f-8f17-7affc6e2c451',\n",
       " '7da8eb95-33bf-4658-9687-be1c837731c6',\n",
       " 'ad5c03a5-e746-4f95-b767-10d41f07a057',\n",
       " '61c569f4-e0d9-4565-a476-2282f5d8789c',\n",
       " 'f26cdf7a-002d-4fc4-a4e5-29a1d941f4f2',\n",
       " '0ab9639d-2855-40d6-a5da-cf876b3cd7b6',\n",
       " 'feed6d9a-598e-4ef9-854d-e3704e31b2e1',\n",
       " 'fb955648-0ca0-402f-acfc-68712d8017cd']"
      ]
     },
     "execution_count": 20,
     "metadata": {},
     "output_type": "execute_result"
    }
   ],
   "source": [
    "# documents = [Document(page_content=text, metadata={'category':'윤영인 기자단'}) for text in text_list]\n",
    "\n",
    "database.add_documents(split_documents)"
   ]
  },
  {
   "cell_type": "code",
   "execution_count": null,
   "metadata": {},
   "outputs": [],
   "source": []
  }
 ],
 "metadata": {
  "kernelspec": {
   "display_name": "llm",
   "language": "python",
   "name": "python3"
  },
  "language_info": {
   "codemirror_mode": {
    "name": "ipython",
    "version": 3
   },
   "file_extension": ".py",
   "mimetype": "text/x-python",
   "name": "python",
   "nbconvert_exporter": "python",
   "pygments_lexer": "ipython3",
   "version": "3.10.14"
  }
 },
 "nbformat": 4,
 "nbformat_minor": 2
}
