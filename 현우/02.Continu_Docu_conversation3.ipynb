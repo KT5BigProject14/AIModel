{
 "cells": [
  {
   "cell_type": "code",
   "execution_count": 1,
   "metadata": {},
   "outputs": [
    {
     "name": "stdout",
     "output_type": "stream",
     "text": [
      "sk-proj-yduIlTB2fj0SFevKALhHT3BlbkFJ6Q7Z2tUbDZkV6129JWOL\n"
     ]
    }
   ],
   "source": [
    "from dotenv import load_dotenv\n",
    "import os \n",
    "\n",
    "\n",
    "load_dotenv()\n",
    "\n",
    "\n",
    "OPENAI_API_KEY = os.getenv('OPENAI_API_KEY')\n",
    "\n",
    "print(OPENAI_API_KEY)"
   ]
  },
  {
   "cell_type": "code",
   "execution_count": 2,
   "metadata": {},
   "outputs": [
    {
     "name": "stdout",
     "output_type": "stream",
     "text": [
      "LangSmith 추적을 시작합니다.\n",
      "[프로젝트명]\n",
      "final_model\n"
     ]
    }
   ],
   "source": [
    "# LangSmith 추적을 설정합니다. https://smith.langchain.com\n",
    "# https://smith.langchain.com/o/6459a739-5a87-57df-b2aa-7bf48e50a36b/projects?paginationState=%7B%22pageIndex%22%3A0%2C%22pageSize%22%3A10%7D\n",
    "# !pip install -qU langchain-teddynote\n",
    "from langchain_teddynote import logging\n",
    "\n",
    "# 프로젝트 이름을 입력합니다.\n",
    "logging.langsmith(\"final_model\")"
   ]
  },
  {
   "cell_type": "code",
   "execution_count": 3,
   "metadata": {},
   "outputs": [
    {
     "name": "stdout",
     "output_type": "stream",
     "text": [
      "문서의 페이지수: 41\n"
     ]
    }
   ],
   "source": [
    "# 예제 문서 \n",
    "# PDF 문서 로드 및 텍스트 추출\n",
    "from langchain_community.document_loaders import PyPDFLoader\n",
    "from langchain_community.document_loaders import PyMuPDFLoader\n",
    "\n",
    "file_path = \"../raw_data/[법률_규범_특허][코트라][2022]한-인도 CEPA 활용법 및 인도 통상 애로.pdf\"\n",
    "\n",
    "# loader = PyPDFLoader(file_path, extract_images=False)\n",
    "loader = PyMuPDFLoader(file_path, extract_images=False)\n",
    "\n",
    "docs = loader.load()\n",
    "print(f\"문서의 페이지수: {len(docs)}\")"
   ]
  },
  {
   "cell_type": "code",
   "execution_count": 4,
   "metadata": {},
   "outputs": [
    {
     "data": {
      "text/plain": [
       "'사례로 정리해보는\\n한-인도 CEPA \\n활용법 및 인도 통상 애로\\nKOTRA자료 22-055\\n'"
      ]
     },
     "execution_count": 4,
     "metadata": {},
     "output_type": "execute_result"
    }
   ],
   "source": [
    "docs[0].page_content"
   ]
  },
  {
   "cell_type": "code",
   "execution_count": 5,
   "metadata": {},
   "outputs": [
    {
     "name": "stdout",
     "output_type": "stream",
     "text": [
      "분할된 청크의수: 58\n"
     ]
    }
   ],
   "source": [
    "from langchain_text_splitters import RecursiveCharacterTextSplitter\n",
    "# 단계 2: 문서 분할(Split Documents)\n",
    "text_splitter = RecursiveCharacterTextSplitter(chunk_size=1000, chunk_overlap=50)\n",
    "split_documents = text_splitter.split_documents(docs)\n",
    "print(f\"분할된 청크의수: {len(split_documents)}\")"
   ]
  },
  {
   "cell_type": "markdown",
   "metadata": {},
   "source": [
    "### LLM모델 및 임베딩 모델준비 "
   ]
  },
  {
   "cell_type": "code",
   "execution_count": 6,
   "metadata": {},
   "outputs": [],
   "source": [
    "# llm 모델 \n",
    "from langchain_openai import ChatOpenAI\n",
    "from config import config\n",
    "\n",
    "llm = ChatOpenAI(\n",
    "            model       = config['llm_predictor']['model_name'],            # gpt-3.5-turbo\n",
    "            temperature = config['llm_predictor']['temperature']            # temperature\" : 0\n",
    "        )\n",
    "\n",
    "# 임베딩 모델 \n",
    "from langchain_openai import OpenAIEmbeddings\n",
    "\n",
    "from config import config\n",
    "embeddings = OpenAIEmbeddings( model=config['embed_model']['model_name'] )\n"
   ]
  },
  {
   "cell_type": "markdown",
   "metadata": {},
   "source": [
    "### 벡터DB 및 리트리버 준비"
   ]
  },
  {
   "cell_type": "code",
   "execution_count": 7,
   "metadata": {},
   "outputs": [],
   "source": [
    "from langchain_community.vectorstores import Chroma\n",
    "from langchain_community.vectorstores import FAISS\n",
    "\n",
    "# vector_store = Chroma(\n",
    "#             persist_directory=config[\"chroma\"][\"persist_dir\"],      # \"persist_dir\" : \"./database\",\n",
    "#             embedding_function=embeddings              # OpenAIEmbeddings( model=config['embed_model']['model_name'] )\n",
    "#         )\n",
    "\n",
    "# FAISS를 사용하여 문서와 임베딩으로부터 데이터베이스를 생성합니다.\n",
    "database = FAISS.from_documents(docs, embeddings)\n",
    "\n"
   ]
  },
  {
   "cell_type": "code",
   "execution_count": 8,
   "metadata": {},
   "outputs": [],
   "source": [
    "query = \"원산지증명서 오류 발급 시 정정 방법을 알려줘\""
   ]
  },
  {
   "cell_type": "code",
   "execution_count": 9,
   "metadata": {},
   "outputs": [
    {
     "name": "stdout",
     "output_type": "stream",
     "text": [
      "인도 수출 및 CEPA 활용 시 주의사항 알아두기 | 11\n",
      "2. 원산지증명서\n",
      "가. 원산지증명서 오류 발급 시 정정 방법\n",
      "① 주요 내용\n",
      "한-인도 CEPA 협정 4.4조에 의하면 수출국에서 선적일로부터 7일 내 원산지증명서를 발급하여야 하며, 7\n",
      "일 이후에 발급된 원산지증명서의 경우에는 ‘소급적용(ISSUED RETROSPECTIVELY)’ 문구가 표시되어 있\n",
      "어야 한다. 해당 내용이 협정과 다르게 표시될 경우, 원산지증명서 오류 발급으로 간주된다. \n",
      "② 사례\n",
      "한국에서 인도로 스피커 부품을 수출하고 있는 B사는 기업 측의 착오로 한국 세관에 원산지증명서 발급 신\n",
      "청 시 선적일로부터 5일이 되었음에도 ‘소급적용’ 문구 표시를 신청하여 발급받았다. 인도 세관에서는 한-인\n",
      "도 CEPA 협정에 따라 해당 원산지증명서를 적합하지 않다고 판단하여, ‘소급적용’ 문구가 없는 원산지증명\n",
      "서를 제출할 것을 요청하였다. 이와 같은 오류가 있는 경우, 한-인도 CEPA 적용을 위해 원산지증명서의 재\n",
      "발급이 필요하나 재발급을 위해서는 기존에 발급된 원산지증명서 원본을 회수한 이후에 가능하므로 한-인도 \n",
      "CEPA 적용이 늦어지게 되고, 통관 지연에 따른 보관료 등이 발생할 것으로 예상되었다. 뉴델리 CEPA활용\n",
      "지원센터는 한국 세관과 관련 내용을 확인한 후, 다음과 같은 정정 발급을 통해 보다 빠르게 한-인도 CEPA\n",
      "를 적용할 수 있도록 안내하였다.\n",
      "1. 한국 세관에\n",
      "원산지증명서 정정신청 \n",
      "2. 정정 원산지증명서 제출,\n",
      "한-인도 CEPA 적용\n",
      "3. 원산지증명서\n",
      "원본(오류 발급본) 회수\n",
      "③ 시사점\n",
      "자유무역협정의 이행을 위한 관세법의 특례에 관한 법률 제12조에 따라 관세당국에서 수출물품의 원산지\n",
      "증명 능력이 있다고 인정받은 경우, 원산지증명서 발급이 간소화 된다. 해당 인증을 취득한 기업(원산지 인증 \n",
      "수출자)은 원산지증명서 발급 신청 시 해당 물품의 원산지를 입증하기 위한 자료 제출이 생략되고, 발급 기관\n",
      "의 심사도 간소화된다. 이렇게 인증 수출자 제도를 통해 원산지증명서 발급을 신청하면 절차가 간소화되지\n",
      "만, 신청자가 협정 별 내용을 숙지하고 신중하게 신청하는 것이 중요하다. 예를 들어, 협정 별 ‘소급적용’ 문\n",
      "\n"
     ]
    }
   ],
   "source": [
    "test_doc = database.similarity_search(query)\n",
    "\n",
    "# 결과를 출력합니다.\n",
    "print(test_doc[0].page_content)"
   ]
  },
  {
   "cell_type": "code",
   "execution_count": 10,
   "metadata": {},
   "outputs": [
    {
     "name": "stdout",
     "output_type": "stream",
     "text": [
      "유사도 검사 중...results : [(Document(page_content='인도 수출 및 CEPA 활용 시 주의사항 알아두기 | 11\\n2. 원산지증명서\\n가. 원산지증명서 오류 발급 시 정정 방법\\n① 주요 내용\\n한-인도 CEPA 협정 4.4조에 의하면 수출국에서 선적일로부터 7일 내 원산지증명서를 발급하여야 하며, 7\\n일 이후에 발급된 원산지증명서의 경우에는 ‘소급적용(ISSUED RETROSPECTIVELY)’ 문구가 표시되어 있\\n어야 한다. 해당 내용이 협정과 다르게 표시될 경우, 원산지증명서 오류 발급으로 간주된다. \\n② 사례\\n한국에서 인도로 스피커 부품을 수출하고 있는 B사는 기업 측의 착오로 한국 세관에 원산지증명서 발급 신\\n청 시 선적일로부터 5일이 되었음에도 ‘소급적용’ 문구 표시를 신청하여 발급받았다. 인도 세관에서는 한-인\\n도 CEPA 협정에 따라 해당 원산지증명서를 적합하지 않다고 판단하여, ‘소급적용’ 문구가 없는 원산지증명\\n서를 제출할 것을 요청하였다. 이와 같은 오류가 있는 경우, 한-인도 CEPA 적용을 위해 원산지증명서의 재\\n발급이 필요하나 재발급을 위해서는 기존에 발급된 원산지증명서 원본을 회수한 이후에 가능하므로 한-인도 \\nCEPA 적용이 늦어지게 되고, 통관 지연에 따른 보관료 등이 발생할 것으로 예상되었다. 뉴델리 CEPA활용\\n지원센터는 한국 세관과 관련 내용을 확인한 후, 다음과 같은 정정 발급을 통해 보다 빠르게 한-인도 CEPA\\n를 적용할 수 있도록 안내하였다.\\n1. 한국 세관에\\n원산지증명서 정정신청 \\n2. 정정 원산지증명서 제출,\\n한-인도 CEPA 적용\\n3. 원산지증명서\\n원본(오류 발급본) 회수\\n③ 시사점\\n자유무역협정의 이행을 위한 관세법의 특례에 관한 법률 제12조에 따라 관세당국에서 수출물품의 원산지\\n증명 능력이 있다고 인정받은 경우, 원산지증명서 발급이 간소화 된다. 해당 인증을 취득한 기업(원산지 인증 \\n수출자)은 원산지증명서 발급 신청 시 해당 물품의 원산지를 입증하기 위한 자료 제출이 생략되고, 발급 기관\\n의 심사도 간소화된다. 이렇게 인증 수출자 제도를 통해 원산지증명서 발급을 신청하면 절차가 간소화되지\\n만, 신청자가 협정 별 내용을 숙지하고 신중하게 신청하는 것이 중요하다. 예를 들어, 협정 별 ‘소급적용’ 문\\n', metadata={'source': '../raw_data/[법률_규범_특허][코트라][2022]한-인도 CEPA 활용법 및 인도 통상 애로.pdf', 'file_path': '../raw_data/[법률_규범_특허][코트라][2022]한-인도 CEPA 활용법 및 인도 통상 애로.pdf', 'page': 9, 'total_pages': 41, 'format': 'PDF 1.6', 'title': '', 'author': '', 'subject': '', 'keywords': '', 'creator': 'Adobe InDesign 17.2 (Macintosh)', 'producer': 'Adobe PDF Library 16.0.7', 'creationDate': \"D:20220610145706+09'00'\", 'modDate': \"D:20220614154828+09'00'\", 'trapped': ''}), 0.00060448423)]\n",
      "score: 0.0006044842302799225\n",
      "유사도 검사 중...results : [(Document(page_content='인도 수출 및 CEPA 활용 시 주의사항 알아두기 | 13\\n다만, 대한상공회의소에서 발급하는 원산지증명서를 조회할 경우에는 수출자 및 발급자의 서명이 확인되지 \\n않기 때문에 인도 세관에서 의문을 제기할 수 있다. 주인도 관세협력관, 뉴델리 · 첸나이 CEPA활용지원센터\\n는 한국 관세청에 이를 공유하여 수출자 및 발급자의 서명이 없어도 원산지증명서 원본 여부 확인에 지장이 \\n없음을 알리는 문구를 화면에 추가할 수 있었다. 이에 따라, 한국 세관 뿐 아니라 대항상공회의소에서 발급한 \\n원산지증명서도 해당 화면에서 확인이 가능하며 이를 활용하여 인도 세관에 원산지증명서 원본 여부를 증명\\n할 수 있게 되었다.\\n③ 시사점\\n아래와 같이 한국 관세청에서 제공하는 서비스를 통해 원산지증명서의 원본 여부를 확인할 수 있다. 원산지\\n증명서 상 표시된 Reference no. 와 Reference code 입력 후 확인 가능하다.\\n<한국 원산지증명서 진위여부 조회 화면>\\n자료 :http://www.customs.go.kr/kcs/co/co.do\\n', metadata={'source': '../raw_data/[법률_규범_특허][코트라][2022]한-인도 CEPA 활용법 및 인도 통상 애로.pdf', 'file_path': '../raw_data/[법률_규범_특허][코트라][2022]한-인도 CEPA 활용법 및 인도 통상 애로.pdf', 'page': 11, 'total_pages': 41, 'format': 'PDF 1.6', 'title': '', 'author': '', 'subject': '', 'keywords': '', 'creator': 'Adobe InDesign 17.2 (Macintosh)', 'producer': 'Adobe PDF Library 16.0.7', 'creationDate': \"D:20220610145706+09'00'\", 'modDate': \"D:20220614154828+09'00'\", 'trapped': ''}), 0.0)]\n",
      "score: 0.0\n",
      "유사도 검사 중...results : [(Document(page_content='인도 비관세장벽 이해하기 | 39\\n<3> 대필수 정보 입력, 관련 서류 첨부 및 약관 동의\\n• \\x07\\n물품 유형 및 물품의 세부 정보(원산지, CIF 기준 수입가격, 물품 규격 등), 물품의 예정 수입항 및 실사용\\n자 정보 입력\\n• 제출 정보와 수입허가 신청에 관련된 법적 책임에 대한 약관에 동의한 후, 다음 단계 이동\\n<세부정보 입력화면>\\n<약관동의 화면>\\n', metadata={'source': '../raw_data/[법률_규범_특허][코트라][2022]한-인도 CEPA 활용법 및 인도 통상 애로.pdf', 'file_path': '../raw_data/[법률_규범_특허][코트라][2022]한-인도 CEPA 활용법 및 인도 통상 애로.pdf', 'page': 37, 'total_pages': 41, 'format': 'PDF 1.6', 'title': '', 'author': '', 'subject': '', 'keywords': '', 'creator': 'Adobe InDesign 17.2 (Macintosh)', 'producer': 'Adobe PDF Library 16.0.7', 'creationDate': \"D:20220610145706+09'00'\", 'modDate': \"D:20220614154828+09'00'\", 'trapped': ''}), 5.346904e-05)]\n",
      "score: 5.346904072212055e-05\n",
      "유사도 검사 중...results : [(Document(page_content='사례로 정리해보는\\n한-인도 CEPA \\n활용법 및 인도 통상 애로\\nKOTRA자료 22-055\\n', metadata={'source': '../raw_data/[법률_규범_특허][코트라][2022]한-인도 CEPA 활용법 및 인도 통상 애로.pdf', 'file_path': '../raw_data/[법률_규범_특허][코트라][2022]한-인도 CEPA 활용법 및 인도 통상 애로.pdf', 'page': 0, 'total_pages': 41, 'format': 'PDF 1.6', 'title': '', 'author': '', 'subject': '', 'keywords': '', 'creator': 'Adobe InDesign 17.2 (Macintosh)', 'producer': 'Adobe PDF Library 16.0.7', 'creationDate': \"D:20220610145706+09'00'\", 'modDate': \"D:20220614154828+09'00'\", 'trapped': ''}), 0.0)]\n",
      "score: 0.0\n"
     ]
    }
   ],
   "source": [
    "for i in range(len(test_doc)):\n",
    "\n",
    "    results = database.similarity_search_with_score(test_doc[i].page_content, k=1)\n",
    "\n",
    "    print(f'유사도 검사 중...results : {results}')\n",
    "    print(f'score: {results[0][1]}')"
   ]
  },
  {
   "cell_type": "code",
   "execution_count": 11,
   "metadata": {},
   "outputs": [],
   "source": [
    "from langchain.retrievers import BM25Retriever\n",
    "from langchain.retrievers import EnsembleRetriever\n",
    "\n",
    "# retriever = vector.as_retriever()\n",
    "faiss_retriever = database.as_retriever(\n",
    "            search_kwargs = {\"k\": config[\"retriever_k\"]},           # 유사도 높은 순으로 가져올 벡터 개수 \n",
    "            search_type   = config[\"search_type\"]                        # 유사도 측정 방법 \n",
    "        )\n",
    "\n",
    "# BM25를 이용한 Sparce search(keyward 기반) retriever에 docs를 불러오기\n",
    "bm25_retriever = BM25Retriever.from_documents(\n",
    "    docs,\n",
    ")\n",
    "bm25_retriever.k = 5\n",
    "\n",
    "# Ensenble retriever\n",
    "ensemble_retriever = EnsembleRetriever(\n",
    "\n",
    "    retrievers=[bm25_retriever, faiss_retriever],\n",
    "    weights=[0.65, 0.35], # 가중치\n",
    "    search_type=config['ensemble_search_type'], # mmr 기반\n",
    ")"
   ]
  },
  {
   "cell_type": "code",
   "execution_count": 12,
   "metadata": {},
   "outputs": [
    {
     "name": "stderr",
     "output_type": "stream",
     "text": [
      "c:\\Users\\User\\anaconda3\\envs\\llm\\lib\\site-packages\\langchain_core\\_api\\deprecation.py:139: LangChainDeprecationWarning: The method `BaseRetriever.get_relevant_documents` was deprecated in langchain-core 0.1.46 and will be removed in 0.3.0. Use invoke instead.\n",
      "  warn_deprecated(\n"
     ]
    },
    {
     "data": {
      "text/plain": [
       "[Document(page_content='인도 수출 및 CEPA 활용 시 주의사항 알아두기 | 11\\n2. 원산지증명서\\n가. 원산지증명서 오류 발급 시 정정 방법\\n① 주요 내용\\n한-인도 CEPA 협정 4.4조에 의하면 수출국에서 선적일로부터 7일 내 원산지증명서를 발급하여야 하며, 7\\n일 이후에 발급된 원산지증명서의 경우에는 ‘소급적용(ISSUED RETROSPECTIVELY)’ 문구가 표시되어 있\\n어야 한다. 해당 내용이 협정과 다르게 표시될 경우, 원산지증명서 오류 발급으로 간주된다. \\n② 사례\\n한국에서 인도로 스피커 부품을 수출하고 있는 B사는 기업 측의 착오로 한국 세관에 원산지증명서 발급 신\\n청 시 선적일로부터 5일이 되었음에도 ‘소급적용’ 문구 표시를 신청하여 발급받았다. 인도 세관에서는 한-인\\n도 CEPA 협정에 따라 해당 원산지증명서를 적합하지 않다고 판단하여, ‘소급적용’ 문구가 없는 원산지증명\\n서를 제출할 것을 요청하였다. 이와 같은 오류가 있는 경우, 한-인도 CEPA 적용을 위해 원산지증명서의 재\\n발급이 필요하나 재발급을 위해서는 기존에 발급된 원산지증명서 원본을 회수한 이후에 가능하므로 한-인도 \\nCEPA 적용이 늦어지게 되고, 통관 지연에 따른 보관료 등이 발생할 것으로 예상되었다. 뉴델리 CEPA활용\\n지원센터는 한국 세관과 관련 내용을 확인한 후, 다음과 같은 정정 발급을 통해 보다 빠르게 한-인도 CEPA\\n를 적용할 수 있도록 안내하였다.\\n1. 한국 세관에\\n원산지증명서 정정신청 \\n2. 정정 원산지증명서 제출,\\n한-인도 CEPA 적용\\n3. 원산지증명서\\n원본(오류 발급본) 회수\\n③ 시사점\\n자유무역협정의 이행을 위한 관세법의 특례에 관한 법률 제12조에 따라 관세당국에서 수출물품의 원산지\\n증명 능력이 있다고 인정받은 경우, 원산지증명서 발급이 간소화 된다. 해당 인증을 취득한 기업(원산지 인증 \\n수출자)은 원산지증명서 발급 신청 시 해당 물품의 원산지를 입증하기 위한 자료 제출이 생략되고, 발급 기관\\n의 심사도 간소화된다. 이렇게 인증 수출자 제도를 통해 원산지증명서 발급을 신청하면 절차가 간소화되지\\n만, 신청자가 협정 별 내용을 숙지하고 신중하게 신청하는 것이 중요하다. 예를 들어, 협정 별 ‘소급적용’ 문\\n', metadata={'source': '../raw_data/[법률_규범_특허][코트라][2022]한-인도 CEPA 활용법 및 인도 통상 애로.pdf', 'file_path': '../raw_data/[법률_규범_특허][코트라][2022]한-인도 CEPA 활용법 및 인도 통상 애로.pdf', 'page': 9, 'total_pages': 41, 'format': 'PDF 1.6', 'title': '', 'author': '', 'subject': '', 'keywords': '', 'creator': 'Adobe InDesign 17.2 (Macintosh)', 'producer': 'Adobe PDF Library 16.0.7', 'creationDate': \"D:20220610145706+09'00'\", 'modDate': \"D:20220614154828+09'00'\", 'trapped': ''}),\n",
       " Document(page_content='인도 수출 및 CEPA\\n활용 시 주의사항 알아두기 \\n \\n \\n01\\n1. 품목분류\\n가. HS코드 관련 인도세관의 품목분류 차이 발생 시 원산지증명서 발급 방법\\n나. 인도 DRI(국세정보국) 관세조사 시 대응방안\\n2. 원산지증명서\\n가. 원산지증명서 오류 발급 시 정정 방법\\n나. 원산지증명서 원본 여부 논란 발생 시 대응방안\\n3. CEPA 활용\\n가. 인도 CAROT\\nAR 2020(원산지관리강화규칙)에 의한 Form I 작성 및 제출 방법\\n나. 2022년 HS협약 개정에 따라 HS코드가 변경된 물품의 수출 시 주의사항\\n다. 중고 설비 인도 수출 시 한-인도 CEPA 활용 방법\\n사례로 정리해보는 한-인도\\nCEPA 활용법 및 인도 통상 애로\\n', metadata={'source': '../raw_data/[법률_규범_특허][코트라][2022]한-인도 CEPA 활용법 및 인도 통상 애로.pdf', 'file_path': '../raw_data/[법률_규범_특허][코트라][2022]한-인도 CEPA 활용법 및 인도 통상 애로.pdf', 'page': 3, 'total_pages': 41, 'format': 'PDF 1.6', 'title': '', 'author': '', 'subject': '', 'keywords': '', 'creator': 'Adobe InDesign 17.2 (Macintosh)', 'producer': 'Adobe PDF Library 16.0.7', 'creationDate': \"D:20220610145706+09'00'\", 'modDate': \"D:20220614154828+09'00'\", 'trapped': ''}),\n",
       " Document(page_content='CONTENTS\\n사례로 정리해보는\\n한-인도 CEPA \\n활용법 및 인도 통상 애로\\n01. 인도 수출 및 CEPA 활용 시 주의사항 알아두기   \\n1. 품목분류   / 06\\n\\t\\n가. \\x07\\nHS코드 관련 인도세관의 품목분류 차이 발생 시 원산지증명서 발급 방법   / 06\\n\\t\\n나. 인도 DRI(국세정보국) 관세조사 시 대응방안   / 08\\n2. 원산지증명서   / 11\\n\\t\\n가. 원산지증명서 오류 발급 시 정정 방법   / 11\\n\\t\\n나. 원산지증명서 원본 여부 논란 발생 시 대응방안   / 12\\n3. CEPA 활용   / 14\\n\\t\\n가. 인도 CAROTAR 2020(원산지관리강화규칙)에 의한 Form I \\n\\t\\n\\t\\n작성 및 제출 방법   / 14\\n\\t\\n나. \\x07\\n2022년 HS협약 개정에 따라 HS코드가 변경된 물품의 수출 시 주의사항   / 17\\n\\t\\n다. 중고 설비 인도 수출 시 한-인도 CEPA 활용 방법   / 19\\n02. 인도 비관세장벽 이해하기 \\n1. 인증제도   / 22\\n\\t\\n가. BIS 인증대상 확대 및 인증진행 지연   / 22\\n\\t\\n\\t\\n[참고] BIS 인증제도 개요\\n \\t 나. 인도 지정실험실에 샘플 발송 시 주의사항   / 27\\n \\t 다. 화장품 인증 완료 후 까다로운 라벨링 부착 규정   / 29\\n\\t\\n\\t\\n[참고] CDSCO 인증제도 개요\\n2. 수입 전 등록 및 허가제도   / 32\\n\\t\\n가. 철강제품 수입 전 모니터링 시스템 상 화물정보 등록 의무   / 32\\n\\t\\n\\t\\n[참고]인도의 수입모니터링 시스템\\n\\t\\n나. 인도 대외무역총국(DGFT) 수입 전 허가제도   / 35\\n\\t\\n\\t\\n[참고]수입허가 신청방법\\n', metadata={'source': '../raw_data/[법률_규범_특허][코트라][2022]한-인도 CEPA 활용법 및 인도 통상 애로.pdf', 'file_path': '../raw_data/[법률_규범_특허][코트라][2022]한-인도 CEPA 활용법 및 인도 통상 애로.pdf', 'page': 2, 'total_pages': 41, 'format': 'PDF 1.6', 'title': '', 'author': '', 'subject': '', 'keywords': '', 'creator': 'Adobe InDesign 17.2 (Macintosh)', 'producer': 'Adobe PDF Library 16.0.7', 'creationDate': \"D:20220610145706+09'00'\", 'modDate': \"D:20220614154828+09'00'\", 'trapped': ''}),\n",
       " Document(page_content='06 | 사례로 정리해보는 한-인도 CEPA 활용법 및 인도 통상 애로\\n인도 수출 및 CEPA 활용 시 주의사항 알아두기 \\n01\\n1. 품목분류\\n가. HS코드 관련 인도세관의 품목분류 차이 발생 시 원산지증명서 발급 방법 \\n① 주요 내용\\n인도 수출 시, 한-인도 CEPA에 의한 양허세율을 적용하기 위해서는 한국 세관 또는 대한상공회의소에서 \\n발급된 원산지증명서가 필요하다. 원산지증명서에는 해당물품의 HS코드 6자리를 기재하여야 한다. 그러나 \\n인도세관에서 해당 물품에 대하여 다른 HS코드로 분류할 것을 주장하여 한국에서 발급된 원산지증명서 및 \\nCEPA의 적용을 불인정하는 사례가 있다.\\n② 사례\\n핸드폰, TV 등에 사용되는 스폰지 가스켓(Sponge Gasket)이라는 부품을 인도에 수출하고 있는 A사는 한\\n국에서 원산지증명서 발급 시 해당 물품의 HS 코드가 7410.21에 해당한다는 것을 확인하였다. 약 1년 넘게 \\n해당 HS 코드로 인도에 수출을 하며 한-인도 CEPA의 적용을 받아오던 중 인도 세관 담당자로부터 해당 물\\n품의 HS 코드를 3919.90로 하여서 수출 및 한-인도 CEPA 적용 신청을 다시 할 것을 요청 받았다. 다행히 \\nHS 코드 7410.21와 3919.90에 해당하는 물품 모두 한-인도 CEPA 협정 상 양허대상 물품에 해당하고 적\\n용 후 세율도 0%로 동일하여 인도 세관에 요청하는 HS 코드로 변경할 경우에도 CEPA 활용을 할 수 있는 \\n상황이었다. \\n그러나, 한국에서 원산지증명서 발급 시 수출신고필증 사본, 상업송장(Invoice), 원산지소명서 등을 제출하\\n여야 하는데 수출신고필증 상 HS 코드가 원산지증명서 상에 그대로 기재된다. 한국에서 품목분류사전심사 \\n등을 통해 해당 HS 코드가 정확하다고 확인되어 해당 HS 코드로 신고를 해온 물품의 경우에는 수출신고필\\n증 상의 HS 코드를 임의로 변경할 수 없다. 수입국에서 품목분류에 대한 해석의 차이가 있을 수 있지만 관세 \\n', metadata={'source': '../raw_data/[법률_규범_특허][코트라][2022]한-인도 CEPA 활용법 및 인도 통상 애로.pdf', 'file_path': '../raw_data/[법률_규범_특허][코트라][2022]한-인도 CEPA 활용법 및 인도 통상 애로.pdf', 'page': 4, 'total_pages': 41, 'format': 'PDF 1.6', 'title': '', 'author': '', 'subject': '', 'keywords': '', 'creator': 'Adobe InDesign 17.2 (Macintosh)', 'producer': 'Adobe PDF Library 16.0.7', 'creationDate': \"D:20220610145706+09'00'\", 'modDate': \"D:20220614154828+09'00'\", 'trapped': ''}),\n",
       " Document(page_content=\"인도 수출 및 CEPA 활용 시 주의사항 알아두기 | 07\\n환급 등의 이유 및 품목분류의 정합성을 위해 동일한 물품에 대하여 수출신고서 상 HS 코드를 다르게 적용할 \\n수 없기 때문이다. 해당 업체는 한-인도 CEPA 활용을 위해 수입국에서 적용되는 HS 코드가 다른 경우 원산\\n지증명서 발급 방법에 대해서 확인이 필요했기 때문에 뉴델리 CEPA 활용지원센터에 지원을 요청했다.\\n뉴델리 CEPA활용지원센터에서  해당 사례 관련하여 한국 세관과 지원방법을 알아본 결과, 수입국에서 수\\n출국의 HS 코드와 상이한 HS 코드를 원산지증명서 상 기재할 것을 요청하는 경우 원산지증명서 발급 방법\\n에 관한 지침에 따라 증명 서류를 제출하고, 해당 수출물품이 HS 코드의 변경 전 후의 원산지기준을 모두 충\\n족하는 것이 확인될 때에는 인도 세관에서 요청하는 HS 코드를 기재한 원산지증명서를 발급 가능하다는 것\\n을 알 수 있었고, 해당 업체는 한-인도 CEPA 적용 관련 품목분류 논쟁을 방지할 수 있었다.\\n③ 시사점\\nHS 코드란 국제무역거래의 대상이 되는 물품을 분류해놓은 품목분류표이다. HS 협약에 따라 6자리까지 \\n국제 공통으로 사용되고 7자리부터 각 국가의 법에 따라 다르게 정하고 있으나, 각 국가마다 품목분류 해석\\n의 차이가 있을 수 있기 때문에 FTA 협정을 체결한 상대국에서 다른 HS 코드를 사용할 것을 요구할 수 있다. \\n이러한 경우 HS 코드 변경에 따른 세율의 차이가 발생하거나 FTA 활용이 어려워질 수 있다. 또한, 변경 후의 \\n세율이 높은 경우 이전에 수입한 건에 대해서도 차액 관세를 추징 당할 수도 있다. 인도 수출 물품에 대한 품\\n목분류 분쟁 또는 FTA 특혜관세의 품목의 불인정 등 애로가 발생할 경우 지역별 본부세관 및 수출입기업지\\n원센터에 신고하거나 해외 FTA 활용지원센터에 지원을 요청할 수 있다. \\n한국 관세청의 '품목분류 해석상이 등에 따른 업무처리 지침'에 따르면 협정상대국(인도)에서 적용되는 HS \\n코드를 확인할 수 있는 서류(수입신고필증 및 품목분류 사전심사결과서 등)를 한국의 원산지증명서 발급기관\\n에 제출할 경우 인도세관에서 요청하는 HS코드를 적용하여 원산지증명서 발급이 가능하다. 대한상공회의소\\n의 온라인 시스템을 이용하여 원산지증명서를 발급하는 경우에는 해당 변경으로 인한 문제 발생 시 수출자의 \\n책임으로 한다는 내용의 사유서를 첨부하여 '발급기관 전달사항'란에 정확한 사유 및 변경 전/후 HS 코드를 \\n기관\\n적용 HS 코드\\n물품명\\n적용 HS 코드\\n대한상공회의소\\n7410.21\\n구리의 박(箔)\\nCTH + 25%\\n인도 세관\\n3919.90\\n플라스틱 시트(Sheet)\\nCTSH + 35%\\n자료: 뉴델리 CEPA 활용지원센터\\n<스폰지 가스켓(Sponge Gasket) 관련 인도 세관의 HS 코드 적용 불일치 내용> \\n\", metadata={'source': '../raw_data/[법률_규범_특허][코트라][2022]한-인도 CEPA 활용법 및 인도 통상 애로.pdf', 'file_path': '../raw_data/[법률_규범_특허][코트라][2022]한-인도 CEPA 활용법 및 인도 통상 애로.pdf', 'page': 5, 'total_pages': 41, 'format': 'PDF 1.6', 'title': '', 'author': '', 'subject': '', 'keywords': '', 'creator': 'Adobe InDesign 17.2 (Macintosh)', 'producer': 'Adobe PDF Library 16.0.7', 'creationDate': \"D:20220610145706+09'00'\", 'modDate': \"D:20220614154828+09'00'\", 'trapped': ''}),\n",
       " Document(page_content='인도 수출 및 CEPA 활용 시 주의사항 알아두기 | 13\\n다만, 대한상공회의소에서 발급하는 원산지증명서를 조회할 경우에는 수출자 및 발급자의 서명이 확인되지 \\n않기 때문에 인도 세관에서 의문을 제기할 수 있다. 주인도 관세협력관, 뉴델리 · 첸나이 CEPA활용지원센터\\n는 한국 관세청에 이를 공유하여 수출자 및 발급자의 서명이 없어도 원산지증명서 원본 여부 확인에 지장이 \\n없음을 알리는 문구를 화면에 추가할 수 있었다. 이에 따라, 한국 세관 뿐 아니라 대항상공회의소에서 발급한 \\n원산지증명서도 해당 화면에서 확인이 가능하며 이를 활용하여 인도 세관에 원산지증명서 원본 여부를 증명\\n할 수 있게 되었다.\\n③ 시사점\\n아래와 같이 한국 관세청에서 제공하는 서비스를 통해 원산지증명서의 원본 여부를 확인할 수 있다. 원산지\\n증명서 상 표시된 Reference no. 와 Reference code 입력 후 확인 가능하다.\\n<한국 원산지증명서 진위여부 조회 화면>\\n자료 :http://www.customs.go.kr/kcs/co/co.do\\n', metadata={'source': '../raw_data/[법률_규범_특허][코트라][2022]한-인도 CEPA 활용법 및 인도 통상 애로.pdf', 'file_path': '../raw_data/[법률_규범_특허][코트라][2022]한-인도 CEPA 활용법 및 인도 통상 애로.pdf', 'page': 11, 'total_pages': 41, 'format': 'PDF 1.6', 'title': '', 'author': '', 'subject': '', 'keywords': '', 'creator': 'Adobe InDesign 17.2 (Macintosh)', 'producer': 'Adobe PDF Library 16.0.7', 'creationDate': \"D:20220610145706+09'00'\", 'modDate': \"D:20220614154828+09'00'\", 'trapped': ''}),\n",
       " Document(page_content='인도 비관세장벽 이해하기 | 39\\n<3> 대필수 정보 입력, 관련 서류 첨부 및 약관 동의\\n• \\x07\\n물품 유형 및 물품의 세부 정보(원산지, CIF 기준 수입가격, 물품 규격 등), 물품의 예정 수입항 및 실사용\\n자 정보 입력\\n• 제출 정보와 수입허가 신청에 관련된 법적 책임에 대한 약관에 동의한 후, 다음 단계 이동\\n<세부정보 입력화면>\\n<약관동의 화면>\\n', metadata={'source': '../raw_data/[법률_규범_특허][코트라][2022]한-인도 CEPA 활용법 및 인도 통상 애로.pdf', 'file_path': '../raw_data/[법률_규범_특허][코트라][2022]한-인도 CEPA 활용법 및 인도 통상 애로.pdf', 'page': 37, 'total_pages': 41, 'format': 'PDF 1.6', 'title': '', 'author': '', 'subject': '', 'keywords': '', 'creator': 'Adobe InDesign 17.2 (Macintosh)', 'producer': 'Adobe PDF Library 16.0.7', 'creationDate': \"D:20220610145706+09'00'\", 'modDate': \"D:20220614154828+09'00'\", 'trapped': ''}),\n",
       " Document(page_content='사례로 정리해보는\\n한-인도 CEPA \\n활용법 및 인도 통상 애로\\nKOTRA자료 22-055\\n', metadata={'source': '../raw_data/[법률_규범_특허][코트라][2022]한-인도 CEPA 활용법 및 인도 통상 애로.pdf', 'file_path': '../raw_data/[법률_규범_특허][코트라][2022]한-인도 CEPA 활용법 및 인도 통상 애로.pdf', 'page': 0, 'total_pages': 41, 'format': 'PDF 1.6', 'title': '', 'author': '', 'subject': '', 'keywords': '', 'creator': 'Adobe InDesign 17.2 (Macintosh)', 'producer': 'Adobe PDF Library 16.0.7', 'creationDate': \"D:20220610145706+09'00'\", 'modDate': \"D:20220614154828+09'00'\", 'trapped': ''}),\n",
       " Document(page_content='인도 비관세장벽 이해하기 | 41\\n', metadata={'source': '../raw_data/[법률_규범_특허][코트라][2022]한-인도 CEPA 활용법 및 인도 통상 애로.pdf', 'file_path': '../raw_data/[법률_규범_특허][코트라][2022]한-인도 CEPA 활용법 및 인도 통상 애로.pdf', 'page': 39, 'total_pages': 41, 'format': 'PDF 1.6', 'title': '', 'author': '', 'subject': '', 'keywords': '', 'creator': 'Adobe InDesign 17.2 (Macintosh)', 'producer': 'Adobe PDF Library 16.0.7', 'creationDate': \"D:20220610145706+09'00'\", 'modDate': \"D:20220614154828+09'00'\", 'trapped': ''})]"
      ]
     },
     "execution_count": 12,
     "metadata": {},
     "output_type": "execute_result"
    }
   ],
   "source": [
    "retrival_result1 = ensemble_retriever.get_relevant_documents(query)\n",
    "\n",
    "retrival_result1"
   ]
  },
  {
   "cell_type": "code",
   "execution_count": 13,
   "metadata": {},
   "outputs": [
    {
     "data": {
      "text/plain": [
       "[Document(page_content='인도 수출 및 CEPA 활용 시 주의사항 알아두기 | 11\\n2. 원산지증명서\\n가. 원산지증명서 오류 발급 시 정정 방법\\n① 주요 내용\\n한-인도 CEPA 협정 4.4조에 의하면 수출국에서 선적일로부터 7일 내 원산지증명서를 발급하여야 하며, 7\\n일 이후에 발급된 원산지증명서의 경우에는 ‘소급적용(ISSUED RETROSPECTIVELY)’ 문구가 표시되어 있\\n어야 한다. 해당 내용이 협정과 다르게 표시될 경우, 원산지증명서 오류 발급으로 간주된다. \\n② 사례\\n한국에서 인도로 스피커 부품을 수출하고 있는 B사는 기업 측의 착오로 한국 세관에 원산지증명서 발급 신\\n청 시 선적일로부터 5일이 되었음에도 ‘소급적용’ 문구 표시를 신청하여 발급받았다. 인도 세관에서는 한-인\\n도 CEPA 협정에 따라 해당 원산지증명서를 적합하지 않다고 판단하여, ‘소급적용’ 문구가 없는 원산지증명\\n서를 제출할 것을 요청하였다. 이와 같은 오류가 있는 경우, 한-인도 CEPA 적용을 위해 원산지증명서의 재\\n발급이 필요하나 재발급을 위해서는 기존에 발급된 원산지증명서 원본을 회수한 이후에 가능하므로 한-인도 \\nCEPA 적용이 늦어지게 되고, 통관 지연에 따른 보관료 등이 발생할 것으로 예상되었다. 뉴델리 CEPA활용\\n지원센터는 한국 세관과 관련 내용을 확인한 후, 다음과 같은 정정 발급을 통해 보다 빠르게 한-인도 CEPA\\n를 적용할 수 있도록 안내하였다.\\n1. 한국 세관에\\n원산지증명서 정정신청 \\n2. 정정 원산지증명서 제출,\\n한-인도 CEPA 적용\\n3. 원산지증명서\\n원본(오류 발급본) 회수\\n③ 시사점\\n자유무역협정의 이행을 위한 관세법의 특례에 관한 법률 제12조에 따라 관세당국에서 수출물품의 원산지\\n증명 능력이 있다고 인정받은 경우, 원산지증명서 발급이 간소화 된다. 해당 인증을 취득한 기업(원산지 인증 \\n수출자)은 원산지증명서 발급 신청 시 해당 물품의 원산지를 입증하기 위한 자료 제출이 생략되고, 발급 기관\\n의 심사도 간소화된다. 이렇게 인증 수출자 제도를 통해 원산지증명서 발급을 신청하면 절차가 간소화되지\\n만, 신청자가 협정 별 내용을 숙지하고 신중하게 신청하는 것이 중요하다. 예를 들어, 협정 별 ‘소급적용’ 문\\n', metadata={'source': '../raw_data/[법률_규범_특허][코트라][2022]한-인도 CEPA 활용법 및 인도 통상 애로.pdf', 'file_path': '../raw_data/[법률_규범_특허][코트라][2022]한-인도 CEPA 활용법 및 인도 통상 애로.pdf', 'page': 9, 'total_pages': 41, 'format': 'PDF 1.6', 'title': '', 'author': '', 'subject': '', 'keywords': '', 'creator': 'Adobe InDesign 17.2 (Macintosh)', 'producer': 'Adobe PDF Library 16.0.7', 'creationDate': \"D:20220610145706+09'00'\", 'modDate': \"D:20220614154828+09'00'\", 'trapped': ''}),\n",
       " Document(page_content='인도 수출 및 CEPA\\n활용 시 주의사항 알아두기 \\n \\n \\n01\\n1. 품목분류\\n가. HS코드 관련 인도세관의 품목분류 차이 발생 시 원산지증명서 발급 방법\\n나. 인도 DRI(국세정보국) 관세조사 시 대응방안\\n2. 원산지증명서\\n가. 원산지증명서 오류 발급 시 정정 방법\\n나. 원산지증명서 원본 여부 논란 발생 시 대응방안\\n3. CEPA 활용\\n가. 인도 CAROT\\nAR 2020(원산지관리강화규칙)에 의한 Form I 작성 및 제출 방법\\n나. 2022년 HS협약 개정에 따라 HS코드가 변경된 물품의 수출 시 주의사항\\n다. 중고 설비 인도 수출 시 한-인도 CEPA 활용 방법\\n사례로 정리해보는 한-인도\\nCEPA 활용법 및 인도 통상 애로\\n', metadata={'source': '../raw_data/[법률_규범_특허][코트라][2022]한-인도 CEPA 활용법 및 인도 통상 애로.pdf', 'file_path': '../raw_data/[법률_규범_특허][코트라][2022]한-인도 CEPA 활용법 및 인도 통상 애로.pdf', 'page': 3, 'total_pages': 41, 'format': 'PDF 1.6', 'title': '', 'author': '', 'subject': '', 'keywords': '', 'creator': 'Adobe InDesign 17.2 (Macintosh)', 'producer': 'Adobe PDF Library 16.0.7', 'creationDate': \"D:20220610145706+09'00'\", 'modDate': \"D:20220614154828+09'00'\", 'trapped': ''}),\n",
       " Document(page_content='CONTENTS\\n사례로 정리해보는\\n한-인도 CEPA \\n활용법 및 인도 통상 애로\\n01. 인도 수출 및 CEPA 활용 시 주의사항 알아두기   \\n1. 품목분류   / 06\\n\\t\\n가. \\x07\\nHS코드 관련 인도세관의 품목분류 차이 발생 시 원산지증명서 발급 방법   / 06\\n\\t\\n나. 인도 DRI(국세정보국) 관세조사 시 대응방안   / 08\\n2. 원산지증명서   / 11\\n\\t\\n가. 원산지증명서 오류 발급 시 정정 방법   / 11\\n\\t\\n나. 원산지증명서 원본 여부 논란 발생 시 대응방안   / 12\\n3. CEPA 활용   / 14\\n\\t\\n가. 인도 CAROTAR 2020(원산지관리강화규칙)에 의한 Form I \\n\\t\\n\\t\\n작성 및 제출 방법   / 14\\n\\t\\n나. \\x07\\n2022년 HS협약 개정에 따라 HS코드가 변경된 물품의 수출 시 주의사항   / 17\\n\\t\\n다. 중고 설비 인도 수출 시 한-인도 CEPA 활용 방법   / 19\\n02. 인도 비관세장벽 이해하기 \\n1. 인증제도   / 22\\n\\t\\n가. BIS 인증대상 확대 및 인증진행 지연   / 22\\n\\t\\n\\t\\n[참고] BIS 인증제도 개요\\n \\t 나. 인도 지정실험실에 샘플 발송 시 주의사항   / 27\\n \\t 다. 화장품 인증 완료 후 까다로운 라벨링 부착 규정   / 29\\n\\t\\n\\t\\n[참고] CDSCO 인증제도 개요\\n2. 수입 전 등록 및 허가제도   / 32\\n\\t\\n가. 철강제품 수입 전 모니터링 시스템 상 화물정보 등록 의무   / 32\\n\\t\\n\\t\\n[참고]인도의 수입모니터링 시스템\\n\\t\\n나. 인도 대외무역총국(DGFT) 수입 전 허가제도   / 35\\n\\t\\n\\t\\n[참고]수입허가 신청방법\\n', metadata={'source': '../raw_data/[법률_규범_특허][코트라][2022]한-인도 CEPA 활용법 및 인도 통상 애로.pdf', 'file_path': '../raw_data/[법률_규범_특허][코트라][2022]한-인도 CEPA 활용법 및 인도 통상 애로.pdf', 'page': 2, 'total_pages': 41, 'format': 'PDF 1.6', 'title': '', 'author': '', 'subject': '', 'keywords': '', 'creator': 'Adobe InDesign 17.2 (Macintosh)', 'producer': 'Adobe PDF Library 16.0.7', 'creationDate': \"D:20220610145706+09'00'\", 'modDate': \"D:20220614154828+09'00'\", 'trapped': ''}),\n",
       " Document(page_content='06 | 사례로 정리해보는 한-인도 CEPA 활용법 및 인도 통상 애로\\n인도 수출 및 CEPA 활용 시 주의사항 알아두기 \\n01\\n1. 품목분류\\n가. HS코드 관련 인도세관의 품목분류 차이 발생 시 원산지증명서 발급 방법 \\n① 주요 내용\\n인도 수출 시, 한-인도 CEPA에 의한 양허세율을 적용하기 위해서는 한국 세관 또는 대한상공회의소에서 \\n발급된 원산지증명서가 필요하다. 원산지증명서에는 해당물품의 HS코드 6자리를 기재하여야 한다. 그러나 \\n인도세관에서 해당 물품에 대하여 다른 HS코드로 분류할 것을 주장하여 한국에서 발급된 원산지증명서 및 \\nCEPA의 적용을 불인정하는 사례가 있다.\\n② 사례\\n핸드폰, TV 등에 사용되는 스폰지 가스켓(Sponge Gasket)이라는 부품을 인도에 수출하고 있는 A사는 한\\n국에서 원산지증명서 발급 시 해당 물품의 HS 코드가 7410.21에 해당한다는 것을 확인하였다. 약 1년 넘게 \\n해당 HS 코드로 인도에 수출을 하며 한-인도 CEPA의 적용을 받아오던 중 인도 세관 담당자로부터 해당 물\\n품의 HS 코드를 3919.90로 하여서 수출 및 한-인도 CEPA 적용 신청을 다시 할 것을 요청 받았다. 다행히 \\nHS 코드 7410.21와 3919.90에 해당하는 물품 모두 한-인도 CEPA 협정 상 양허대상 물품에 해당하고 적\\n용 후 세율도 0%로 동일하여 인도 세관에 요청하는 HS 코드로 변경할 경우에도 CEPA 활용을 할 수 있는 \\n상황이었다. \\n그러나, 한국에서 원산지증명서 발급 시 수출신고필증 사본, 상업송장(Invoice), 원산지소명서 등을 제출하\\n여야 하는데 수출신고필증 상 HS 코드가 원산지증명서 상에 그대로 기재된다. 한국에서 품목분류사전심사 \\n등을 통해 해당 HS 코드가 정확하다고 확인되어 해당 HS 코드로 신고를 해온 물품의 경우에는 수출신고필\\n증 상의 HS 코드를 임의로 변경할 수 없다. 수입국에서 품목분류에 대한 해석의 차이가 있을 수 있지만 관세 \\n', metadata={'source': '../raw_data/[법률_규범_특허][코트라][2022]한-인도 CEPA 활용법 및 인도 통상 애로.pdf', 'file_path': '../raw_data/[법률_규범_특허][코트라][2022]한-인도 CEPA 활용법 및 인도 통상 애로.pdf', 'page': 4, 'total_pages': 41, 'format': 'PDF 1.6', 'title': '', 'author': '', 'subject': '', 'keywords': '', 'creator': 'Adobe InDesign 17.2 (Macintosh)', 'producer': 'Adobe PDF Library 16.0.7', 'creationDate': \"D:20220610145706+09'00'\", 'modDate': \"D:20220614154828+09'00'\", 'trapped': ''}),\n",
       " Document(page_content=\"인도 수출 및 CEPA 활용 시 주의사항 알아두기 | 07\\n환급 등의 이유 및 품목분류의 정합성을 위해 동일한 물품에 대하여 수출신고서 상 HS 코드를 다르게 적용할 \\n수 없기 때문이다. 해당 업체는 한-인도 CEPA 활용을 위해 수입국에서 적용되는 HS 코드가 다른 경우 원산\\n지증명서 발급 방법에 대해서 확인이 필요했기 때문에 뉴델리 CEPA 활용지원센터에 지원을 요청했다.\\n뉴델리 CEPA활용지원센터에서  해당 사례 관련하여 한국 세관과 지원방법을 알아본 결과, 수입국에서 수\\n출국의 HS 코드와 상이한 HS 코드를 원산지증명서 상 기재할 것을 요청하는 경우 원산지증명서 발급 방법\\n에 관한 지침에 따라 증명 서류를 제출하고, 해당 수출물품이 HS 코드의 변경 전 후의 원산지기준을 모두 충\\n족하는 것이 확인될 때에는 인도 세관에서 요청하는 HS 코드를 기재한 원산지증명서를 발급 가능하다는 것\\n을 알 수 있었고, 해당 업체는 한-인도 CEPA 적용 관련 품목분류 논쟁을 방지할 수 있었다.\\n③ 시사점\\nHS 코드란 국제무역거래의 대상이 되는 물품을 분류해놓은 품목분류표이다. HS 협약에 따라 6자리까지 \\n국제 공통으로 사용되고 7자리부터 각 국가의 법에 따라 다르게 정하고 있으나, 각 국가마다 품목분류 해석\\n의 차이가 있을 수 있기 때문에 FTA 협정을 체결한 상대국에서 다른 HS 코드를 사용할 것을 요구할 수 있다. \\n이러한 경우 HS 코드 변경에 따른 세율의 차이가 발생하거나 FTA 활용이 어려워질 수 있다. 또한, 변경 후의 \\n세율이 높은 경우 이전에 수입한 건에 대해서도 차액 관세를 추징 당할 수도 있다. 인도 수출 물품에 대한 품\\n목분류 분쟁 또는 FTA 특혜관세의 품목의 불인정 등 애로가 발생할 경우 지역별 본부세관 및 수출입기업지\\n원센터에 신고하거나 해외 FTA 활용지원센터에 지원을 요청할 수 있다. \\n한국 관세청의 '품목분류 해석상이 등에 따른 업무처리 지침'에 따르면 협정상대국(인도)에서 적용되는 HS \\n코드를 확인할 수 있는 서류(수입신고필증 및 품목분류 사전심사결과서 등)를 한국의 원산지증명서 발급기관\\n에 제출할 경우 인도세관에서 요청하는 HS코드를 적용하여 원산지증명서 발급이 가능하다. 대한상공회의소\\n의 온라인 시스템을 이용하여 원산지증명서를 발급하는 경우에는 해당 변경으로 인한 문제 발생 시 수출자의 \\n책임으로 한다는 내용의 사유서를 첨부하여 '발급기관 전달사항'란에 정확한 사유 및 변경 전/후 HS 코드를 \\n기관\\n적용 HS 코드\\n물품명\\n적용 HS 코드\\n대한상공회의소\\n7410.21\\n구리의 박(箔)\\nCTH + 25%\\n인도 세관\\n3919.90\\n플라스틱 시트(Sheet)\\nCTSH + 35%\\n자료: 뉴델리 CEPA 활용지원센터\\n<스폰지 가스켓(Sponge Gasket) 관련 인도 세관의 HS 코드 적용 불일치 내용> \\n\", metadata={'source': '../raw_data/[법률_규범_특허][코트라][2022]한-인도 CEPA 활용법 및 인도 통상 애로.pdf', 'file_path': '../raw_data/[법률_규범_특허][코트라][2022]한-인도 CEPA 활용법 및 인도 통상 애로.pdf', 'page': 5, 'total_pages': 41, 'format': 'PDF 1.6', 'title': '', 'author': '', 'subject': '', 'keywords': '', 'creator': 'Adobe InDesign 17.2 (Macintosh)', 'producer': 'Adobe PDF Library 16.0.7', 'creationDate': \"D:20220610145706+09'00'\", 'modDate': \"D:20220614154828+09'00'\", 'trapped': ''}),\n",
       " Document(page_content='인도 수출 및 CEPA 활용 시 주의사항 알아두기 | 13\\n다만, 대한상공회의소에서 발급하는 원산지증명서를 조회할 경우에는 수출자 및 발급자의 서명이 확인되지 \\n않기 때문에 인도 세관에서 의문을 제기할 수 있다. 주인도 관세협력관, 뉴델리 · 첸나이 CEPA활용지원센터\\n는 한국 관세청에 이를 공유하여 수출자 및 발급자의 서명이 없어도 원산지증명서 원본 여부 확인에 지장이 \\n없음을 알리는 문구를 화면에 추가할 수 있었다. 이에 따라, 한국 세관 뿐 아니라 대항상공회의소에서 발급한 \\n원산지증명서도 해당 화면에서 확인이 가능하며 이를 활용하여 인도 세관에 원산지증명서 원본 여부를 증명\\n할 수 있게 되었다.\\n③ 시사점\\n아래와 같이 한국 관세청에서 제공하는 서비스를 통해 원산지증명서의 원본 여부를 확인할 수 있다. 원산지\\n증명서 상 표시된 Reference no. 와 Reference code 입력 후 확인 가능하다.\\n<한국 원산지증명서 진위여부 조회 화면>\\n자료 :http://www.customs.go.kr/kcs/co/co.do\\n', metadata={'source': '../raw_data/[법률_규범_특허][코트라][2022]한-인도 CEPA 활용법 및 인도 통상 애로.pdf', 'file_path': '../raw_data/[법률_규범_특허][코트라][2022]한-인도 CEPA 활용법 및 인도 통상 애로.pdf', 'page': 11, 'total_pages': 41, 'format': 'PDF 1.6', 'title': '', 'author': '', 'subject': '', 'keywords': '', 'creator': 'Adobe InDesign 17.2 (Macintosh)', 'producer': 'Adobe PDF Library 16.0.7', 'creationDate': \"D:20220610145706+09'00'\", 'modDate': \"D:20220614154828+09'00'\", 'trapped': ''}),\n",
       " Document(page_content='인도 비관세장벽 이해하기 | 39\\n<3> 대필수 정보 입력, 관련 서류 첨부 및 약관 동의\\n• \\x07\\n물품 유형 및 물품의 세부 정보(원산지, CIF 기준 수입가격, 물품 규격 등), 물품의 예정 수입항 및 실사용\\n자 정보 입력\\n• 제출 정보와 수입허가 신청에 관련된 법적 책임에 대한 약관에 동의한 후, 다음 단계 이동\\n<세부정보 입력화면>\\n<약관동의 화면>\\n', metadata={'source': '../raw_data/[법률_규범_특허][코트라][2022]한-인도 CEPA 활용법 및 인도 통상 애로.pdf', 'file_path': '../raw_data/[법률_규범_특허][코트라][2022]한-인도 CEPA 활용법 및 인도 통상 애로.pdf', 'page': 37, 'total_pages': 41, 'format': 'PDF 1.6', 'title': '', 'author': '', 'subject': '', 'keywords': '', 'creator': 'Adobe InDesign 17.2 (Macintosh)', 'producer': 'Adobe PDF Library 16.0.7', 'creationDate': \"D:20220610145706+09'00'\", 'modDate': \"D:20220614154828+09'00'\", 'trapped': ''}),\n",
       " Document(page_content='사례로 정리해보는\\n한-인도 CEPA \\n활용법 및 인도 통상 애로\\nKOTRA자료 22-055\\n', metadata={'source': '../raw_data/[법률_규범_특허][코트라][2022]한-인도 CEPA 활용법 및 인도 통상 애로.pdf', 'file_path': '../raw_data/[법률_규범_특허][코트라][2022]한-인도 CEPA 활용법 및 인도 통상 애로.pdf', 'page': 0, 'total_pages': 41, 'format': 'PDF 1.6', 'title': '', 'author': '', 'subject': '', 'keywords': '', 'creator': 'Adobe InDesign 17.2 (Macintosh)', 'producer': 'Adobe PDF Library 16.0.7', 'creationDate': \"D:20220610145706+09'00'\", 'modDate': \"D:20220614154828+09'00'\", 'trapped': ''}),\n",
       " Document(page_content='인도 비관세장벽 이해하기 | 41\\n', metadata={'source': '../raw_data/[법률_규범_특허][코트라][2022]한-인도 CEPA 활용법 및 인도 통상 애로.pdf', 'file_path': '../raw_data/[법률_규범_특허][코트라][2022]한-인도 CEPA 활용법 및 인도 통상 애로.pdf', 'page': 39, 'total_pages': 41, 'format': 'PDF 1.6', 'title': '', 'author': '', 'subject': '', 'keywords': '', 'creator': 'Adobe InDesign 17.2 (Macintosh)', 'producer': 'Adobe PDF Library 16.0.7', 'creationDate': \"D:20220610145706+09'00'\", 'modDate': \"D:20220614154828+09'00'\", 'trapped': ''})]"
      ]
     },
     "execution_count": 13,
     "metadata": {},
     "output_type": "execute_result"
    }
   ],
   "source": [
    "retrival_result2 = ensemble_retriever.invoke(query)\n",
    "\n",
    "retrival_result2"
   ]
  },
  {
   "cell_type": "code",
   "execution_count": 15,
   "metadata": {},
   "outputs": [
    {
     "name": "stdout",
     "output_type": "stream",
     "text": [
      "유사도 검사 중...results : [(Document(page_content='인도 수출 및 CEPA 활용 시 주의사항 알아두기 | 11\\n2. 원산지증명서\\n가. 원산지증명서 오류 발급 시 정정 방법\\n① 주요 내용\\n한-인도 CEPA 협정 4.4조에 의하면 수출국에서 선적일로부터 7일 내 원산지증명서를 발급하여야 하며, 7\\n일 이후에 발급된 원산지증명서의 경우에는 ‘소급적용(ISSUED RETROSPECTIVELY)’ 문구가 표시되어 있\\n어야 한다. 해당 내용이 협정과 다르게 표시될 경우, 원산지증명서 오류 발급으로 간주된다. \\n② 사례\\n한국에서 인도로 스피커 부품을 수출하고 있는 B사는 기업 측의 착오로 한국 세관에 원산지증명서 발급 신\\n청 시 선적일로부터 5일이 되었음에도 ‘소급적용’ 문구 표시를 신청하여 발급받았다. 인도 세관에서는 한-인\\n도 CEPA 협정에 따라 해당 원산지증명서를 적합하지 않다고 판단하여, ‘소급적용’ 문구가 없는 원산지증명\\n서를 제출할 것을 요청하였다. 이와 같은 오류가 있는 경우, 한-인도 CEPA 적용을 위해 원산지증명서의 재\\n발급이 필요하나 재발급을 위해서는 기존에 발급된 원산지증명서 원본을 회수한 이후에 가능하므로 한-인도 \\nCEPA 적용이 늦어지게 되고, 통관 지연에 따른 보관료 등이 발생할 것으로 예상되었다. 뉴델리 CEPA활용\\n지원센터는 한국 세관과 관련 내용을 확인한 후, 다음과 같은 정정 발급을 통해 보다 빠르게 한-인도 CEPA\\n를 적용할 수 있도록 안내하였다.\\n1. 한국 세관에\\n원산지증명서 정정신청 \\n2. 정정 원산지증명서 제출,\\n한-인도 CEPA 적용\\n3. 원산지증명서\\n원본(오류 발급본) 회수\\n③ 시사점\\n자유무역협정의 이행을 위한 관세법의 특례에 관한 법률 제12조에 따라 관세당국에서 수출물품의 원산지\\n증명 능력이 있다고 인정받은 경우, 원산지증명서 발급이 간소화 된다. 해당 인증을 취득한 기업(원산지 인증 \\n수출자)은 원산지증명서 발급 신청 시 해당 물품의 원산지를 입증하기 위한 자료 제출이 생략되고, 발급 기관\\n의 심사도 간소화된다. 이렇게 인증 수출자 제도를 통해 원산지증명서 발급을 신청하면 절차가 간소화되지\\n만, 신청자가 협정 별 내용을 숙지하고 신중하게 신청하는 것이 중요하다. 예를 들어, 협정 별 ‘소급적용’ 문\\n', metadata={'source': '../raw_data/[법률_규범_특허][코트라][2022]한-인도 CEPA 활용법 및 인도 통상 애로.pdf', 'file_path': '../raw_data/[법률_규범_특허][코트라][2022]한-인도 CEPA 활용법 및 인도 통상 애로.pdf', 'page': 9, 'total_pages': 41, 'format': 'PDF 1.6', 'title': '', 'author': '', 'subject': '', 'keywords': '', 'creator': 'Adobe InDesign 17.2 (Macintosh)', 'producer': 'Adobe PDF Library 16.0.7', 'creationDate': \"D:20220610145706+09'00'\", 'modDate': \"D:20220614154828+09'00'\", 'trapped': ''}), 0.00060448423)]\n",
      "score: 0.0006044842302799225\n",
      "유사도 검사 중...results : [(Document(page_content='인도 수출 및 CEPA\\n활용 시 주의사항 알아두기 \\n \\n \\n01\\n1. 품목분류\\n가. HS코드 관련 인도세관의 품목분류 차이 발생 시 원산지증명서 발급 방법\\n나. 인도 DRI(국세정보국) 관세조사 시 대응방안\\n2. 원산지증명서\\n가. 원산지증명서 오류 발급 시 정정 방법\\n나. 원산지증명서 원본 여부 논란 발생 시 대응방안\\n3. CEPA 활용\\n가. 인도 CAROT\\nAR 2020(원산지관리강화규칙)에 의한 Form I 작성 및 제출 방법\\n나. 2022년 HS협약 개정에 따라 HS코드가 변경된 물품의 수출 시 주의사항\\n다. 중고 설비 인도 수출 시 한-인도 CEPA 활용 방법\\n사례로 정리해보는 한-인도\\nCEPA 활용법 및 인도 통상 애로\\n', metadata={'source': '../raw_data/[법률_규범_특허][코트라][2022]한-인도 CEPA 활용법 및 인도 통상 애로.pdf', 'file_path': '../raw_data/[법률_규범_특허][코트라][2022]한-인도 CEPA 활용법 및 인도 통상 애로.pdf', 'page': 3, 'total_pages': 41, 'format': 'PDF 1.6', 'title': '', 'author': '', 'subject': '', 'keywords': '', 'creator': 'Adobe InDesign 17.2 (Macintosh)', 'producer': 'Adobe PDF Library 16.0.7', 'creationDate': \"D:20220610145706+09'00'\", 'modDate': \"D:20220614154828+09'00'\", 'trapped': ''}), 7.639866e-06)]\n",
      "score: 7.639866453246213e-06\n",
      "유사도 검사 중...results : [(Document(page_content='CONTENTS\\n사례로 정리해보는\\n한-인도 CEPA \\n활용법 및 인도 통상 애로\\n01. 인도 수출 및 CEPA 활용 시 주의사항 알아두기   \\n1. 품목분류   / 06\\n\\t\\n가. \\x07\\nHS코드 관련 인도세관의 품목분류 차이 발생 시 원산지증명서 발급 방법   / 06\\n\\t\\n나. 인도 DRI(국세정보국) 관세조사 시 대응방안   / 08\\n2. 원산지증명서   / 11\\n\\t\\n가. 원산지증명서 오류 발급 시 정정 방법   / 11\\n\\t\\n나. 원산지증명서 원본 여부 논란 발생 시 대응방안   / 12\\n3. CEPA 활용   / 14\\n\\t\\n가. 인도 CAROTAR 2020(원산지관리강화규칙)에 의한 Form I \\n\\t\\n\\t\\n작성 및 제출 방법   / 14\\n\\t\\n나. \\x07\\n2022년 HS협약 개정에 따라 HS코드가 변경된 물품의 수출 시 주의사항   / 17\\n\\t\\n다. 중고 설비 인도 수출 시 한-인도 CEPA 활용 방법   / 19\\n02. 인도 비관세장벽 이해하기 \\n1. 인증제도   / 22\\n\\t\\n가. BIS 인증대상 확대 및 인증진행 지연   / 22\\n\\t\\n\\t\\n[참고] BIS 인증제도 개요\\n \\t 나. 인도 지정실험실에 샘플 발송 시 주의사항   / 27\\n \\t 다. 화장품 인증 완료 후 까다로운 라벨링 부착 규정   / 29\\n\\t\\n\\t\\n[참고] CDSCO 인증제도 개요\\n2. 수입 전 등록 및 허가제도   / 32\\n\\t\\n가. 철강제품 수입 전 모니터링 시스템 상 화물정보 등록 의무   / 32\\n\\t\\n\\t\\n[참고]인도의 수입모니터링 시스템\\n\\t\\n나. 인도 대외무역총국(DGFT) 수입 전 허가제도   / 35\\n\\t\\n\\t\\n[참고]수입허가 신청방법\\n', metadata={'source': '../raw_data/[법률_규범_특허][코트라][2022]한-인도 CEPA 활용법 및 인도 통상 애로.pdf', 'file_path': '../raw_data/[법률_규범_특허][코트라][2022]한-인도 CEPA 활용법 및 인도 통상 애로.pdf', 'page': 2, 'total_pages': 41, 'format': 'PDF 1.6', 'title': '', 'author': '', 'subject': '', 'keywords': '', 'creator': 'Adobe InDesign 17.2 (Macintosh)', 'producer': 'Adobe PDF Library 16.0.7', 'creationDate': \"D:20220610145706+09'00'\", 'modDate': \"D:20220614154828+09'00'\", 'trapped': ''}), 1.2075225e-05)]\n",
      "score: 1.2075224731233902e-05\n",
      "유사도 검사 중...results : [(Document(page_content='06 | 사례로 정리해보는 한-인도 CEPA 활용법 및 인도 통상 애로\\n인도 수출 및 CEPA 활용 시 주의사항 알아두기 \\n01\\n1. 품목분류\\n가. HS코드 관련 인도세관의 품목분류 차이 발생 시 원산지증명서 발급 방법 \\n① 주요 내용\\n인도 수출 시, 한-인도 CEPA에 의한 양허세율을 적용하기 위해서는 한국 세관 또는 대한상공회의소에서 \\n발급된 원산지증명서가 필요하다. 원산지증명서에는 해당물품의 HS코드 6자리를 기재하여야 한다. 그러나 \\n인도세관에서 해당 물품에 대하여 다른 HS코드로 분류할 것을 주장하여 한국에서 발급된 원산지증명서 및 \\nCEPA의 적용을 불인정하는 사례가 있다.\\n② 사례\\n핸드폰, TV 등에 사용되는 스폰지 가스켓(Sponge Gasket)이라는 부품을 인도에 수출하고 있는 A사는 한\\n국에서 원산지증명서 발급 시 해당 물품의 HS 코드가 7410.21에 해당한다는 것을 확인하였다. 약 1년 넘게 \\n해당 HS 코드로 인도에 수출을 하며 한-인도 CEPA의 적용을 받아오던 중 인도 세관 담당자로부터 해당 물\\n품의 HS 코드를 3919.90로 하여서 수출 및 한-인도 CEPA 적용 신청을 다시 할 것을 요청 받았다. 다행히 \\nHS 코드 7410.21와 3919.90에 해당하는 물품 모두 한-인도 CEPA 협정 상 양허대상 물품에 해당하고 적\\n용 후 세율도 0%로 동일하여 인도 세관에 요청하는 HS 코드로 변경할 경우에도 CEPA 활용을 할 수 있는 \\n상황이었다. \\n그러나, 한국에서 원산지증명서 발급 시 수출신고필증 사본, 상업송장(Invoice), 원산지소명서 등을 제출하\\n여야 하는데 수출신고필증 상 HS 코드가 원산지증명서 상에 그대로 기재된다. 한국에서 품목분류사전심사 \\n등을 통해 해당 HS 코드가 정확하다고 확인되어 해당 HS 코드로 신고를 해온 물품의 경우에는 수출신고필\\n증 상의 HS 코드를 임의로 변경할 수 없다. 수입국에서 품목분류에 대한 해석의 차이가 있을 수 있지만 관세 \\n', metadata={'source': '../raw_data/[법률_규범_특허][코트라][2022]한-인도 CEPA 활용법 및 인도 통상 애로.pdf', 'file_path': '../raw_data/[법률_규범_특허][코트라][2022]한-인도 CEPA 활용법 및 인도 통상 애로.pdf', 'page': 4, 'total_pages': 41, 'format': 'PDF 1.6', 'title': '', 'author': '', 'subject': '', 'keywords': '', 'creator': 'Adobe InDesign 17.2 (Macintosh)', 'producer': 'Adobe PDF Library 16.0.7', 'creationDate': \"D:20220610145706+09'00'\", 'modDate': \"D:20220614154828+09'00'\", 'trapped': ''}), 2.5643409e-05)]\n",
      "score: 2.5643408662290312e-05\n",
      "유사도 검사 중...results : [(Document(page_content=\"인도 수출 및 CEPA 활용 시 주의사항 알아두기 | 07\\n환급 등의 이유 및 품목분류의 정합성을 위해 동일한 물품에 대하여 수출신고서 상 HS 코드를 다르게 적용할 \\n수 없기 때문이다. 해당 업체는 한-인도 CEPA 활용을 위해 수입국에서 적용되는 HS 코드가 다른 경우 원산\\n지증명서 발급 방법에 대해서 확인이 필요했기 때문에 뉴델리 CEPA 활용지원센터에 지원을 요청했다.\\n뉴델리 CEPA활용지원센터에서  해당 사례 관련하여 한국 세관과 지원방법을 알아본 결과, 수입국에서 수\\n출국의 HS 코드와 상이한 HS 코드를 원산지증명서 상 기재할 것을 요청하는 경우 원산지증명서 발급 방법\\n에 관한 지침에 따라 증명 서류를 제출하고, 해당 수출물품이 HS 코드의 변경 전 후의 원산지기준을 모두 충\\n족하는 것이 확인될 때에는 인도 세관에서 요청하는 HS 코드를 기재한 원산지증명서를 발급 가능하다는 것\\n을 알 수 있었고, 해당 업체는 한-인도 CEPA 적용 관련 품목분류 논쟁을 방지할 수 있었다.\\n③ 시사점\\nHS 코드란 국제무역거래의 대상이 되는 물품을 분류해놓은 품목분류표이다. HS 협약에 따라 6자리까지 \\n국제 공통으로 사용되고 7자리부터 각 국가의 법에 따라 다르게 정하고 있으나, 각 국가마다 품목분류 해석\\n의 차이가 있을 수 있기 때문에 FTA 협정을 체결한 상대국에서 다른 HS 코드를 사용할 것을 요구할 수 있다. \\n이러한 경우 HS 코드 변경에 따른 세율의 차이가 발생하거나 FTA 활용이 어려워질 수 있다. 또한, 변경 후의 \\n세율이 높은 경우 이전에 수입한 건에 대해서도 차액 관세를 추징 당할 수도 있다. 인도 수출 물품에 대한 품\\n목분류 분쟁 또는 FTA 특혜관세의 품목의 불인정 등 애로가 발생할 경우 지역별 본부세관 및 수출입기업지\\n원센터에 신고하거나 해외 FTA 활용지원센터에 지원을 요청할 수 있다. \\n한국 관세청의 '품목분류 해석상이 등에 따른 업무처리 지침'에 따르면 협정상대국(인도)에서 적용되는 HS \\n코드를 확인할 수 있는 서류(수입신고필증 및 품목분류 사전심사결과서 등)를 한국의 원산지증명서 발급기관\\n에 제출할 경우 인도세관에서 요청하는 HS코드를 적용하여 원산지증명서 발급이 가능하다. 대한상공회의소\\n의 온라인 시스템을 이용하여 원산지증명서를 발급하는 경우에는 해당 변경으로 인한 문제 발생 시 수출자의 \\n책임으로 한다는 내용의 사유서를 첨부하여 '발급기관 전달사항'란에 정확한 사유 및 변경 전/후 HS 코드를 \\n기관\\n적용 HS 코드\\n물품명\\n적용 HS 코드\\n대한상공회의소\\n7410.21\\n구리의 박(箔)\\nCTH + 25%\\n인도 세관\\n3919.90\\n플라스틱 시트(Sheet)\\nCTSH + 35%\\n자료: 뉴델리 CEPA 활용지원센터\\n<스폰지 가스켓(Sponge Gasket) 관련 인도 세관의 HS 코드 적용 불일치 내용> \\n\", metadata={'source': '../raw_data/[법률_규범_특허][코트라][2022]한-인도 CEPA 활용법 및 인도 통상 애로.pdf', 'file_path': '../raw_data/[법률_규범_특허][코트라][2022]한-인도 CEPA 활용법 및 인도 통상 애로.pdf', 'page': 5, 'total_pages': 41, 'format': 'PDF 1.6', 'title': '', 'author': '', 'subject': '', 'keywords': '', 'creator': 'Adobe InDesign 17.2 (Macintosh)', 'producer': 'Adobe PDF Library 16.0.7', 'creationDate': \"D:20220610145706+09'00'\", 'modDate': \"D:20220614154828+09'00'\", 'trapped': ''}), 4.6160785e-06)]\n",
      "score: 4.616078513208777e-06\n",
      "유사도 검사 중...results : [(Document(page_content='인도 수출 및 CEPA 활용 시 주의사항 알아두기 | 13\\n다만, 대한상공회의소에서 발급하는 원산지증명서를 조회할 경우에는 수출자 및 발급자의 서명이 확인되지 \\n않기 때문에 인도 세관에서 의문을 제기할 수 있다. 주인도 관세협력관, 뉴델리 · 첸나이 CEPA활용지원센터\\n는 한국 관세청에 이를 공유하여 수출자 및 발급자의 서명이 없어도 원산지증명서 원본 여부 확인에 지장이 \\n없음을 알리는 문구를 화면에 추가할 수 있었다. 이에 따라, 한국 세관 뿐 아니라 대항상공회의소에서 발급한 \\n원산지증명서도 해당 화면에서 확인이 가능하며 이를 활용하여 인도 세관에 원산지증명서 원본 여부를 증명\\n할 수 있게 되었다.\\n③ 시사점\\n아래와 같이 한국 관세청에서 제공하는 서비스를 통해 원산지증명서의 원본 여부를 확인할 수 있다. 원산지\\n증명서 상 표시된 Reference no. 와 Reference code 입력 후 확인 가능하다.\\n<한국 원산지증명서 진위여부 조회 화면>\\n자료 :http://www.customs.go.kr/kcs/co/co.do\\n', metadata={'source': '../raw_data/[법률_규범_특허][코트라][2022]한-인도 CEPA 활용법 및 인도 통상 애로.pdf', 'file_path': '../raw_data/[법률_규범_특허][코트라][2022]한-인도 CEPA 활용법 및 인도 통상 애로.pdf', 'page': 11, 'total_pages': 41, 'format': 'PDF 1.6', 'title': '', 'author': '', 'subject': '', 'keywords': '', 'creator': 'Adobe InDesign 17.2 (Macintosh)', 'producer': 'Adobe PDF Library 16.0.7', 'creationDate': \"D:20220610145706+09'00'\", 'modDate': \"D:20220614154828+09'00'\", 'trapped': ''}), 0.0)]\n",
      "score: 0.0\n",
      "유사도 검사 중...results : [(Document(page_content='인도 비관세장벽 이해하기 | 39\\n<3> 대필수 정보 입력, 관련 서류 첨부 및 약관 동의\\n• \\x07\\n물품 유형 및 물품의 세부 정보(원산지, CIF 기준 수입가격, 물품 규격 등), 물품의 예정 수입항 및 실사용\\n자 정보 입력\\n• 제출 정보와 수입허가 신청에 관련된 법적 책임에 대한 약관에 동의한 후, 다음 단계 이동\\n<세부정보 입력화면>\\n<약관동의 화면>\\n', metadata={'source': '../raw_data/[법률_규범_특허][코트라][2022]한-인도 CEPA 활용법 및 인도 통상 애로.pdf', 'file_path': '../raw_data/[법률_규범_특허][코트라][2022]한-인도 CEPA 활용법 및 인도 통상 애로.pdf', 'page': 37, 'total_pages': 41, 'format': 'PDF 1.6', 'title': '', 'author': '', 'subject': '', 'keywords': '', 'creator': 'Adobe InDesign 17.2 (Macintosh)', 'producer': 'Adobe PDF Library 16.0.7', 'creationDate': \"D:20220610145706+09'00'\", 'modDate': \"D:20220614154828+09'00'\", 'trapped': ''}), 5.346904e-05)]\n",
      "score: 5.346904072212055e-05\n",
      "유사도 검사 중...results : [(Document(page_content='사례로 정리해보는\\n한-인도 CEPA \\n활용법 및 인도 통상 애로\\nKOTRA자료 22-055\\n', metadata={'source': '../raw_data/[법률_규범_특허][코트라][2022]한-인도 CEPA 활용법 및 인도 통상 애로.pdf', 'file_path': '../raw_data/[법률_규범_특허][코트라][2022]한-인도 CEPA 활용법 및 인도 통상 애로.pdf', 'page': 0, 'total_pages': 41, 'format': 'PDF 1.6', 'title': '', 'author': '', 'subject': '', 'keywords': '', 'creator': 'Adobe InDesign 17.2 (Macintosh)', 'producer': 'Adobe PDF Library 16.0.7', 'creationDate': \"D:20220610145706+09'00'\", 'modDate': \"D:20220614154828+09'00'\", 'trapped': ''}), 0.0)]\n",
      "score: 0.0\n",
      "유사도 검사 중...results : [(Document(page_content='인도 비관세장벽 이해하기 | 41\\n', metadata={'source': '../raw_data/[법률_규범_특허][코트라][2022]한-인도 CEPA 활용법 및 인도 통상 애로.pdf', 'file_path': '../raw_data/[법률_규범_특허][코트라][2022]한-인도 CEPA 활용법 및 인도 통상 애로.pdf', 'page': 39, 'total_pages': 41, 'format': 'PDF 1.6', 'title': '', 'author': '', 'subject': '', 'keywords': '', 'creator': 'Adobe InDesign 17.2 (Macintosh)', 'producer': 'Adobe PDF Library 16.0.7', 'creationDate': \"D:20220610145706+09'00'\", 'modDate': \"D:20220614154828+09'00'\", 'trapped': ''}), 8.42409e-05)]\n",
      "score: 8.424089901382104e-05\n"
     ]
    }
   ],
   "source": [
    "\n",
    "\n",
    "for i in range(len(retrival_result1)):\n",
    "\n",
    "    results = database.similarity_search_with_score(retrival_result2[i].page_content, k=1)\n",
    "\n",
    "    print(f'유사도 검사 중...results : {results}')\n",
    "    print(f'score: {results[0][1]}')"
   ]
  },
  {
   "cell_type": "markdown",
   "metadata": {},
   "source": [
    "### Chain"
   ]
  },
  {
   "cell_type": "code",
   "execution_count": 16,
   "metadata": {},
   "outputs": [],
   "source": [
    "from prompt import contextualize_q_prompt, qa_prompt\n",
    "\n",
    "\n",
    "from langchain.chains import create_history_aware_retriever\n",
    "# 1. 사용자의 질문 문맥화 -> 대화 히스토리 체인 \n",
    "history_aware_retriever = create_history_aware_retriever(\n",
    "                                                        llm = llm,\n",
    "                                                        retriever = ensemble_retriever,\n",
    "                                                        prompt = contextualize_q_prompt          # 사용자 질문 맥락화 프롬프트: 채팅 기록의 맥락을 참조 -> 자연스러운 대화를 위해 \n",
    ")\n",
    "\n",
    "from langchain.chains.combine_documents import create_stuff_documents_chain\n",
    "# 2. 응답 조건 프롬프트 체인 \n",
    "question_answer_chain = create_stuff_documents_chain(llm, qa_prompt)                    # llm과 응답 조건 프롬프트 체인 \n",
    "\n",
    "from langchain.chains import create_retrieval_chain\n",
    "# 3. 최종 체인 생성 : 1과 2를 연결 \n",
    "rag_chain = create_retrieval_chain(history_aware_retriever, question_answer_chain)\n"
   ]
  },
  {
   "cell_type": "code",
   "execution_count": 17,
   "metadata": {},
   "outputs": [
    {
     "data": {
      "text/plain": [
       "'인도 DRI(국세정보국) 관세조사 시 대응방안에 대한 사례는 다음과 같습니다:\\n\\n사례:\\n한국 기업 A사는 인도에 수출하는 핸드폰 및 TV 등에 사용되는 스폰지 가스켓(Sponge Gasket) 부품을 생산하고 있습니다. A사는 한국에서 해당 부품의 HS 코드가 7410.21에 해당한다는 것을 확인하고, 약 1년 넘게 해당 HS 코드로 인도에 수출 및 한-인도 CEPA의 혜택을 받아왔습니다.\\n\\n그러나 어느 날, 인도 세관 담당자로부터 해당 부품의 HS 코드를 3919.90으로 변경하고 다시 수출 및 CEPA 적용을 요청하는 요구를 받았습니다. 이에 A사는 해당 HS 코드 변경으로 인한 CEPA 혜택 적용 여부를 확인하기 위해 대응해야 했습니다.\\n\\nA사는 다행히도 HS 코드 7410.21과 3919.90 모두 한-인도 CEPA 협정 상 양허대상 물품에 해당하고 세율도 0%로 동일했습니다. 따라서, 인도 세관의 요청에 따라 HS 코드를 변경하여도 CEPA 혜택을 계속 적용할 수 있었습니다.\\n\\n이 사례에서 A사는 인도 DRI(국세정보국)의 자의적인 품목분류 변경에 대응하기 위해 CEPA 혜택을 유지하면서도 적절히 대응하는 방법을 찾아냈습니다.\\n\\n이를 통해 기업은 인도 DRI의 관세조사에 대비하고 CEPA 혜택을 유지하는 방법을 찾아야 함을 알 수 있습니다.'"
      ]
     },
     "execution_count": 17,
     "metadata": {},
     "output_type": "execute_result"
    }
   ],
   "source": [
    "query = \"인도 DRI(국세정보국) 관세조사 시 대응방안에 대한 사례를 알려주세요.\"\n",
    "result = rag_chain.invoke(\n",
    "    {\n",
    "        \"input\": query,\n",
    "        \"chat_history\": [],\n",
    "    }\n",
    ")\n",
    "\n",
    "result['answer']"
   ]
  },
  {
   "cell_type": "code",
   "execution_count": 18,
   "metadata": {},
   "outputs": [
    {
     "data": {
      "text/plain": [
       "\"원산지증명서 오류 발급 시 정정 방법은 다음과 같습니다:\\n\\n1. 한-인도 CEPA 협정에 따르면 수출국에서 선적일로부터 7일 내에 원산지증명서를 발급하여야 합니다. 7일 이후에 발급된 원산지증명서의 경우에는 '소급적용(ISSUED RETROSPECTIVELY)' 문구가 표시되어 있어야 합니다. 해당 내용이 협정과 다르게 표시될 경우, 원산지증명서 오류 발급으로 간주됩니다.\\n\\n2. 원산지증명서 오류가 발생한 경우, 정정을 위해 다음 단계를 따를 수 있습니다:\\n   - 한국 세관에 원산지증명서 정정신청을 합니다.\\n   - 정정된 원산지증명서를 제출하고, 한-인도 CEPA 적용을 요청합니다.\\n   - 원산지증명서의 원본(오류 발급본)을 회수합니다.\\n\\n3. 원산지증명서의 정정을 통해 보다 빠르게 한-인도 CEPA를 적용할 수 있도록 안내를 받을 수 있습니다.\\n\\n이러한 절차를 통해 원산지증명서 오류를 정정하여 한-인도 CEPA 협정을 적용할 수 있습니다.\""
      ]
     },
     "execution_count": 18,
     "metadata": {},
     "output_type": "execute_result"
    }
   ],
   "source": [
    "query = \"원산지증명서 오류 발급 시 정정 방법을 알려줘\"\n",
    "result = rag_chain.invoke(\n",
    "    {\n",
    "        \"input\": query,\n",
    "        \"chat_history\": [],\n",
    "    }\n",
    ")\n",
    "\n",
    "result['answer']"
   ]
  },
  {
   "cell_type": "code",
   "execution_count": 19,
   "metadata": {},
   "outputs": [],
   "source": [
    "\n",
    "from langchain_core.chat_history import BaseChatMessageHistory\n",
    "from langchain_community.chat_message_histories import ChatMessageHistory\n",
    "\n",
    "session_histories = {} # 세션 기록을 저장할 딕셔너리\n",
    "\n",
    "# 세션 ID를 기반으로 세션 기록을 가져오는 함수\n",
    "def get_session_history(session_id: str) -> BaseChatMessageHistory:\n",
    "    if session_id not in session_histories:\n",
    "        session_histories[session_id] = ChatMessageHistory()                            # 새로운 ChatMessageHistory 객체를 생성하여 store에 저장\n",
    "        print(f\"[히스토리 생성] 새로운 히스토리를 생성합니다. 세션 ID: {session_id}\")\n",
    "    return session_histories[session_id]                                                 # 해당 세션 ID에 대한 세션 기록 반환\n",
    "\n",
    "\n",
    "# LangChain Expression Language (LCEL)\n",
    "# RunnableWithMessageHistory 클래스를 사용하여 chain과 메시지 기록을 연결합니다.\n",
    "\n",
    "from langchain_core.runnables.history import RunnableWithMessageHistory\n",
    "\n",
    "conversational_rag_chain = RunnableWithMessageHistory(\n",
    "            rag_chain,                                  # 실행할 Runnable 객체 -> 체인LLM 모델 \n",
    "            get_session_history,                        # 세션 기록을 가져오는 함수\n",
    "            input_messages_key=\"input\",                 # 입력 메시지의 키: chain을 invoke() 할때 사용자 쿼리 입력으로 지정하는 key\n",
    "            history_messages_key=\"chat_history\",        # # 기록 메시지의 키: 대화 기록으로 지정하는 key\n",
    "            output_messages_key=\"answer\"\n",
    "        )"
   ]
  },
  {
   "cell_type": "markdown",
   "metadata": {},
   "source": [
    "## 질문하기 "
   ]
  },
  {
   "cell_type": "code",
   "execution_count": 21,
   "metadata": {},
   "outputs": [],
   "source": [
    "session_id = 'abc123'\n",
    "\n",
    "question = \"인도 DRI(국세정보국) 관세조사 시 대응방안에 대한 사례를 알려주세요.\"\n"
   ]
  },
  {
   "cell_type": "code",
   "execution_count": 22,
   "metadata": {},
   "outputs": [
    {
     "name": "stdout",
     "output_type": "stream",
     "text": [
      "[히스토리 생성] 새로운 히스토리를 생성합니다. 세션 ID: abc123\n"
     ]
    }
   ],
   "source": [
    "response = conversational_rag_chain.invoke(\n",
    "            {\n",
    "                \"input\": question,\n",
    "                \"chat_history\": [],\n",
    "            },\n",
    "            config={\"configurable\": {\"session_id\": session_id}}\n",
    "        )\n"
   ]
  },
  {
   "cell_type": "code",
   "execution_count": 23,
   "metadata": {},
   "outputs": [
    {
     "data": {
      "text/plain": [
       "'**진출 사업:** 인도 DRI(국세정보국) 관세조사 시 대응방안\\n\\n**진출 사업 동향:** 인도 DRI(국세정보국)의 관세조사는 자동차 부품 관련 자의적 해석에 근거하여 시행되고 있습니다.\\n\\n**진출 사업 메리트:** 대비책을 마련하여 관세조사에 대응할 수 있다면, 한-인도 CEPA 활용 불가 및 차액 관세 납부 등의 피해를 최소화할 수 있습니다.\\n\\n**진출 사업 관련 정책:** 2022년 1월 5일, 인도 관세간접세위원회(CBIC)는 세관 및 국세정보국(DRI)의 자의적 품목분류를 규제하기 위한 지침을 발표하였습니다.\\n\\n**진출 사업을 위한 도움말:** 관련 기업들은 근거자료를 확보하고, HS 협약에 따른 규정을 우선 적용하며 다양한 사례를 종합적으로 참고하여 판단해야 합니다.\\n\\n**진출 사업 관련 알아야 할 것들:** 관세 관련 고시 및 지침은 인도 관세간접세위원회(CBIC)의 공식 웹사이트에서 확인할 수 있으며, 대비책을 마련하여 관세조사에 대응할 수 있어야 합니다.'"
      ]
     },
     "execution_count": 23,
     "metadata": {},
     "output_type": "execute_result"
    }
   ],
   "source": [
    "response[\"answer\"]"
   ]
  }
 ],
 "metadata": {
  "kernelspec": {
   "display_name": "rag",
   "language": "python",
   "name": "python3"
  },
  "language_info": {
   "codemirror_mode": {
    "name": "ipython",
    "version": 3
   },
   "file_extension": ".py",
   "mimetype": "text/x-python",
   "name": "python",
   "nbconvert_exporter": "python",
   "pygments_lexer": "ipython3",
   "version": "3.10.14"
  }
 },
 "nbformat": 4,
 "nbformat_minor": 2
}
