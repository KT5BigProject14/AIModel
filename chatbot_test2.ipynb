{
 "cells": [
  {
   "cell_type": "code",
   "execution_count": 52,
   "id": "b6f297eb-1f95-4d52-b787-e1f494209fb3",
   "metadata": {
    "tags": []
   },
   "outputs": [],
   "source": [
    "PUBLIC_EXPENSIVE_SECRET_API = 'API_KEY'\n",
    "import os\n",
    "\n",
    "os.environ[\"OPENAI_API_KEY\"] = PUBLIC_EXPENSIVE_SECRET_API\n",
    "# print(f\"[API KEY]\\n{os.environ['OPENAI_API_KEY']}\")\n",
    "\n",
    "from langchain_openai import ChatOpenAI\n",
    "from langchain_teddynote.messages import stream_response  # 스트리밍 출력\n",
    "from langchain_core.prompts import PromptTemplate\n",
    "from langchain.schema import HumanMessage, SystemMessage, Document\n",
    "from langchain.embeddings import OpenAIEmbeddings\n",
    "from langchain.vectorstores import Chroma\n",
    "from langchain.chains import RetrievalQA\n",
    "\n"
   ]
  },
  {
   "cell_type": "code",
   "execution_count": 34,
   "id": "064bd294-cdf6-472b-a6f4-bd6fc2a42f10",
   "metadata": {},
   "outputs": [
    {
     "name": "stdout",
     "output_type": "stream",
     "text": [
      "문서의 페이지수: 41\n"
     ]
    }
   ],
   "source": [
    "from langchain_community.document_loaders import PyMuPDFLoader\n",
    "# 단계 1: 문서 로드(Load Documents)\n",
    "loader = PyMuPDFLoader(\"./data/[법률_규범_특허][코트라][2022]한-인도 CEPA 활용법 및 인도 통상 애로.pdf\")\n",
    "docs = loader.load()\n",
    "print(f\"문서의 페이지수: {len(docs)}\")"
   ]
  },
  {
   "cell_type": "code",
   "execution_count": 35,
   "id": "e7f96799-cdcb-493e-bfd6-aa57d8c8fcef",
   "metadata": {},
   "outputs": [
    {
     "name": "stdout",
     "output_type": "stream",
     "text": [
      "분할된 청크의수: 58\n"
     ]
    }
   ],
   "source": [
    "from langchain_text_splitters import RecursiveCharacterTextSplitter\n",
    "# 단계 2: 문서 분할(Split Documents)\n",
    "text_splitter = RecursiveCharacterTextSplitter(chunk_size=1000, chunk_overlap=50)\n",
    "split_documents = text_splitter.split_documents(docs)\n",
    "print(f\"분할된 청크의수: {len(split_documents)}\")"
   ]
  },
  {
   "cell_type": "code",
   "execution_count": 36,
   "id": "48832018-685a-4627-9f5d-13f77ca3ff87",
   "metadata": {},
   "outputs": [],
   "source": [
    "from langchain.retrievers import BM25Retriever, EnsembleRetriever\n",
    "from langchain_community.vectorstores import FAISS\n",
    "from langchain_openai import OpenAIEmbeddings\n",
    "from langchain_huggingface import HuggingFaceEmbeddings\n",
    "\n",
    "\n",
    "# BM25를 이용한 Sparce search(keyward 기반) retriever에 docs를 불러오기\n",
    "bm25_retriever = BM25Retriever.from_documents(\n",
    "    docs,\n",
    ")\n",
    "bm25_retriever.k = 5\n",
    "\n",
    "\n",
    "# FAISS vector db를 이용한 Semantic search(문맥 vector 유사도 기반) retriever 불러오기\n",
    "\n",
    "# # 오픈 소스 임베딩 함수를 생성합니다.\n",
    "# # stf_embeddings = SentenceTransformerEmbeddings(model_name=\"all-MiniLM-L6-v2\")\n",
    "embeddings = OpenAIEmbeddings(model=\"text-embedding-ada-002\")\n",
    "\n",
    "\n",
    "# FAISS를 사용하여 문서와 임베딩으로부터 데이터베이스를 생성합니다.\n",
    "database = FAISS.from_documents(docs, embeddings)\n",
    "\n",
    "faiss_retriever = database.as_retriever(search_kwargs={\"k\":5})"
   ]
  },
  {
   "cell_type": "code",
   "execution_count": 37,
   "id": "b76e3697-c1bc-487a-b60e-20cb72e30127",
   "metadata": {},
   "outputs": [],
   "source": [
    "# Ensenble retriever 선\n",
    "ensemble_retriever = EnsembleRetriever(\n",
    "\n",
    "    retrievers=[bm25_retriever, faiss_retriever],\n",
    "    weights=[0.65, 0.35], # 가중치\n",
    "    search_type='mmr', # mmr 기반\n",
    ")"
   ]
  },
  {
   "cell_type": "code",
   "execution_count": 38,
   "id": "50232fa9-c885-4d90-b945-ebab22c1bc86",
   "metadata": {},
   "outputs": [
    {
     "data": {
      "text/plain": [
       "[Document(page_content='인도 수출 및 CEPA 활용 시 주의사항 알아두기 | 11\\n2. 원산지증명서\\n가. 원산지증명서 오류 발급 시 정정 방법\\n① 주요 내용\\n한-인도 CEPA 협정 4.4조에 의하면 수출국에서 선적일로부터 7일 내 원산지증명서를 발급하여야 하며, 7\\n일 이후에 발급된 원산지증명서의 경우에는 ‘소급적용(ISSUED RETROSPECTIVELY)’ 문구가 표시되어 있\\n어야 한다. 해당 내용이 협정과 다르게 표시될 경우, 원산지증명서 오류 발급으로 간주된다. \\n② 사례\\n한국에서 인도로 스피커 부품을 수출하고 있는 B사는 기업 측의 착오로 한국 세관에 원산지증명서 발급 신\\n청 시 선적일로부터 5일이 되었음에도 ‘소급적용’ 문구 표시를 신청하여 발급받았다. 인도 세관에서는 한-인\\n도 CEPA 협정에 따라 해당 원산지증명서를 적합하지 않다고 판단하여, ‘소급적용’ 문구가 없는 원산지증명\\n서를 제출할 것을 요청하였다. 이와 같은 오류가 있는 경우, 한-인도 CEPA 적용을 위해 원산지증명서의 재\\n발급이 필요하나 재발급을 위해서는 기존에 발급된 원산지증명서 원본을 회수한 이후에 가능하므로 한-인도 \\nCEPA 적용이 늦어지게 되고, 통관 지연에 따른 보관료 등이 발생할 것으로 예상되었다. 뉴델리 CEPA활용\\n지원센터는 한국 세관과 관련 내용을 확인한 후, 다음과 같은 정정 발급을 통해 보다 빠르게 한-인도 CEPA\\n를 적용할 수 있도록 안내하였다.\\n1. 한국 세관에\\n원산지증명서 정정신청 \\n2. 정정 원산지증명서 제출,\\n한-인도 CEPA 적용\\n3. 원산지증명서\\n원본(오류 발급본) 회수\\n③ 시사점\\n자유무역협정의 이행을 위한 관세법의 특례에 관한 법률 제12조에 따라 관세당국에서 수출물품의 원산지\\n증명 능력이 있다고 인정받은 경우, 원산지증명서 발급이 간소화 된다. 해당 인증을 취득한 기업(원산지 인증 \\n수출자)은 원산지증명서 발급 신청 시 해당 물품의 원산지를 입증하기 위한 자료 제출이 생략되고, 발급 기관\\n의 심사도 간소화된다. 이렇게 인증 수출자 제도를 통해 원산지증명서 발급을 신청하면 절차가 간소화되지\\n만, 신청자가 협정 별 내용을 숙지하고 신중하게 신청하는 것이 중요하다. 예를 들어, 협정 별 ‘소급적용’ 문\\n', metadata={'source': './data/[법률_규범_특허][코트라][2022]한-인도 CEPA 활용법 및 인도 통상 애로.pdf', 'file_path': './data/[법률_규범_특허][코트라][2022]한-인도 CEPA 활용법 및 인도 통상 애로.pdf', 'page': 9, 'total_pages': 41, 'format': 'PDF 1.6', 'title': '', 'author': '', 'subject': '', 'keywords': '', 'creator': 'Adobe InDesign 17.2 (Macintosh)', 'producer': 'Adobe PDF Library 16.0.7', 'creationDate': \"D:20220610145706+09'00'\", 'modDate': \"D:20220614154828+09'00'\", 'trapped': ''}),\n",
       " Document(page_content='인도 수출 및 CEPA\\n활용 시 주의사항 알아두기 \\n \\n \\n01\\n1. 품목분류\\n가. HS코드 관련 인도세관의 품목분류 차이 발생 시 원산지증명서 발급 방법\\n나. 인도 DRI(국세정보국) 관세조사 시 대응방안\\n2. 원산지증명서\\n가. 원산지증명서 오류 발급 시 정정 방법\\n나. 원산지증명서 원본 여부 논란 발생 시 대응방안\\n3. CEPA 활용\\n가. 인도 CAROT\\nAR 2020(원산지관리강화규칙)에 의한 Form I 작성 및 제출 방법\\n나. 2022년 HS협약 개정에 따라 HS코드가 변경된 물품의 수출 시 주의사항\\n다. 중고 설비 인도 수출 시 한-인도 CEPA 활용 방법\\n사례로 정리해보는 한-인도\\nCEPA 활용법 및 인도 통상 애로\\n', metadata={'source': './data/[법률_규범_특허][코트라][2022]한-인도 CEPA 활용법 및 인도 통상 애로.pdf', 'file_path': './data/[법률_규범_특허][코트라][2022]한-인도 CEPA 활용법 및 인도 통상 애로.pdf', 'page': 3, 'total_pages': 41, 'format': 'PDF 1.6', 'title': '', 'author': '', 'subject': '', 'keywords': '', 'creator': 'Adobe InDesign 17.2 (Macintosh)', 'producer': 'Adobe PDF Library 16.0.7', 'creationDate': \"D:20220610145706+09'00'\", 'modDate': \"D:20220614154828+09'00'\", 'trapped': ''}),\n",
       " Document(page_content='CONTENTS\\n사례로 정리해보는\\n한-인도 CEPA \\n활용법 및 인도 통상 애로\\n01. 인도 수출 및 CEPA 활용 시 주의사항 알아두기   \\n1. 품목분류   / 06\\n\\t\\n가. \\x07\\nHS코드 관련 인도세관의 품목분류 차이 발생 시 원산지증명서 발급 방법   / 06\\n\\t\\n나. 인도 DRI(국세정보국) 관세조사 시 대응방안   / 08\\n2. 원산지증명서   / 11\\n\\t\\n가. 원산지증명서 오류 발급 시 정정 방법   / 11\\n\\t\\n나. 원산지증명서 원본 여부 논란 발생 시 대응방안   / 12\\n3. CEPA 활용   / 14\\n\\t\\n가. 인도 CAROTAR 2020(원산지관리강화규칙)에 의한 Form I \\n\\t\\n\\t\\n작성 및 제출 방법   / 14\\n\\t\\n나. \\x07\\n2022년 HS협약 개정에 따라 HS코드가 변경된 물품의 수출 시 주의사항   / 17\\n\\t\\n다. 중고 설비 인도 수출 시 한-인도 CEPA 활용 방법   / 19\\n02. 인도 비관세장벽 이해하기 \\n1. 인증제도   / 22\\n\\t\\n가. BIS 인증대상 확대 및 인증진행 지연   / 22\\n\\t\\n\\t\\n[참고] BIS 인증제도 개요\\n \\t 나. 인도 지정실험실에 샘플 발송 시 주의사항   / 27\\n \\t 다. 화장품 인증 완료 후 까다로운 라벨링 부착 규정   / 29\\n\\t\\n\\t\\n[참고] CDSCO 인증제도 개요\\n2. 수입 전 등록 및 허가제도   / 32\\n\\t\\n가. 철강제품 수입 전 모니터링 시스템 상 화물정보 등록 의무   / 32\\n\\t\\n\\t\\n[참고]인도의 수입모니터링 시스템\\n\\t\\n나. 인도 대외무역총국(DGFT) 수입 전 허가제도   / 35\\n\\t\\n\\t\\n[참고]수입허가 신청방법\\n', metadata={'source': './data/[법률_규범_특허][코트라][2022]한-인도 CEPA 활용법 및 인도 통상 애로.pdf', 'file_path': './data/[법률_규범_특허][코트라][2022]한-인도 CEPA 활용법 및 인도 통상 애로.pdf', 'page': 2, 'total_pages': 41, 'format': 'PDF 1.6', 'title': '', 'author': '', 'subject': '', 'keywords': '', 'creator': 'Adobe InDesign 17.2 (Macintosh)', 'producer': 'Adobe PDF Library 16.0.7', 'creationDate': \"D:20220610145706+09'00'\", 'modDate': \"D:20220614154828+09'00'\", 'trapped': ''}),\n",
       " Document(page_content='06 | 사례로 정리해보는 한-인도 CEPA 활용법 및 인도 통상 애로\\n인도 수출 및 CEPA 활용 시 주의사항 알아두기 \\n01\\n1. 품목분류\\n가. HS코드 관련 인도세관의 품목분류 차이 발생 시 원산지증명서 발급 방법 \\n① 주요 내용\\n인도 수출 시, 한-인도 CEPA에 의한 양허세율을 적용하기 위해서는 한국 세관 또는 대한상공회의소에서 \\n발급된 원산지증명서가 필요하다. 원산지증명서에는 해당물품의 HS코드 6자리를 기재하여야 한다. 그러나 \\n인도세관에서 해당 물품에 대하여 다른 HS코드로 분류할 것을 주장하여 한국에서 발급된 원산지증명서 및 \\nCEPA의 적용을 불인정하는 사례가 있다.\\n② 사례\\n핸드폰, TV 등에 사용되는 스폰지 가스켓(Sponge Gasket)이라는 부품을 인도에 수출하고 있는 A사는 한\\n국에서 원산지증명서 발급 시 해당 물품의 HS 코드가 7410.21에 해당한다는 것을 확인하였다. 약 1년 넘게 \\n해당 HS 코드로 인도에 수출을 하며 한-인도 CEPA의 적용을 받아오던 중 인도 세관 담당자로부터 해당 물\\n품의 HS 코드를 3919.90로 하여서 수출 및 한-인도 CEPA 적용 신청을 다시 할 것을 요청 받았다. 다행히 \\nHS 코드 7410.21와 3919.90에 해당하는 물품 모두 한-인도 CEPA 협정 상 양허대상 물품에 해당하고 적\\n용 후 세율도 0%로 동일하여 인도 세관에 요청하는 HS 코드로 변경할 경우에도 CEPA 활용을 할 수 있는 \\n상황이었다. \\n그러나, 한국에서 원산지증명서 발급 시 수출신고필증 사본, 상업송장(Invoice), 원산지소명서 등을 제출하\\n여야 하는데 수출신고필증 상 HS 코드가 원산지증명서 상에 그대로 기재된다. 한국에서 품목분류사전심사 \\n등을 통해 해당 HS 코드가 정확하다고 확인되어 해당 HS 코드로 신고를 해온 물품의 경우에는 수출신고필\\n증 상의 HS 코드를 임의로 변경할 수 없다. 수입국에서 품목분류에 대한 해석의 차이가 있을 수 있지만 관세 \\n', metadata={'source': './data/[법률_규범_특허][코트라][2022]한-인도 CEPA 활용법 및 인도 통상 애로.pdf', 'file_path': './data/[법률_규범_특허][코트라][2022]한-인도 CEPA 활용법 및 인도 통상 애로.pdf', 'page': 4, 'total_pages': 41, 'format': 'PDF 1.6', 'title': '', 'author': '', 'subject': '', 'keywords': '', 'creator': 'Adobe InDesign 17.2 (Macintosh)', 'producer': 'Adobe PDF Library 16.0.7', 'creationDate': \"D:20220610145706+09'00'\", 'modDate': \"D:20220614154828+09'00'\", 'trapped': ''}),\n",
       " Document(page_content=\"인도 수출 및 CEPA 활용 시 주의사항 알아두기 | 07\\n환급 등의 이유 및 품목분류의 정합성을 위해 동일한 물품에 대하여 수출신고서 상 HS 코드를 다르게 적용할 \\n수 없기 때문이다. 해당 업체는 한-인도 CEPA 활용을 위해 수입국에서 적용되는 HS 코드가 다른 경우 원산\\n지증명서 발급 방법에 대해서 확인이 필요했기 때문에 뉴델리 CEPA 활용지원센터에 지원을 요청했다.\\n뉴델리 CEPA활용지원센터에서  해당 사례 관련하여 한국 세관과 지원방법을 알아본 결과, 수입국에서 수\\n출국의 HS 코드와 상이한 HS 코드를 원산지증명서 상 기재할 것을 요청하는 경우 원산지증명서 발급 방법\\n에 관한 지침에 따라 증명 서류를 제출하고, 해당 수출물품이 HS 코드의 변경 전 후의 원산지기준을 모두 충\\n족하는 것이 확인될 때에는 인도 세관에서 요청하는 HS 코드를 기재한 원산지증명서를 발급 가능하다는 것\\n을 알 수 있었고, 해당 업체는 한-인도 CEPA 적용 관련 품목분류 논쟁을 방지할 수 있었다.\\n③ 시사점\\nHS 코드란 국제무역거래의 대상이 되는 물품을 분류해놓은 품목분류표이다. HS 협약에 따라 6자리까지 \\n국제 공통으로 사용되고 7자리부터 각 국가의 법에 따라 다르게 정하고 있으나, 각 국가마다 품목분류 해석\\n의 차이가 있을 수 있기 때문에 FTA 협정을 체결한 상대국에서 다른 HS 코드를 사용할 것을 요구할 수 있다. \\n이러한 경우 HS 코드 변경에 따른 세율의 차이가 발생하거나 FTA 활용이 어려워질 수 있다. 또한, 변경 후의 \\n세율이 높은 경우 이전에 수입한 건에 대해서도 차액 관세를 추징 당할 수도 있다. 인도 수출 물품에 대한 품\\n목분류 분쟁 또는 FTA 특혜관세의 품목의 불인정 등 애로가 발생할 경우 지역별 본부세관 및 수출입기업지\\n원센터에 신고하거나 해외 FTA 활용지원센터에 지원을 요청할 수 있다. \\n한국 관세청의 '품목분류 해석상이 등에 따른 업무처리 지침'에 따르면 협정상대국(인도)에서 적용되는 HS \\n코드를 확인할 수 있는 서류(수입신고필증 및 품목분류 사전심사결과서 등)를 한국의 원산지증명서 발급기관\\n에 제출할 경우 인도세관에서 요청하는 HS코드를 적용하여 원산지증명서 발급이 가능하다. 대한상공회의소\\n의 온라인 시스템을 이용하여 원산지증명서를 발급하는 경우에는 해당 변경으로 인한 문제 발생 시 수출자의 \\n책임으로 한다는 내용의 사유서를 첨부하여 '발급기관 전달사항'란에 정확한 사유 및 변경 전/후 HS 코드를 \\n기관\\n적용 HS 코드\\n물품명\\n적용 HS 코드\\n대한상공회의소\\n7410.21\\n구리의 박(箔)\\nCTH + 25%\\n인도 세관\\n3919.90\\n플라스틱 시트(Sheet)\\nCTSH + 35%\\n자료: 뉴델리 CEPA 활용지원센터\\n<스폰지 가스켓(Sponge Gasket) 관련 인도 세관의 HS 코드 적용 불일치 내용> \\n\", metadata={'source': './data/[법률_규범_특허][코트라][2022]한-인도 CEPA 활용법 및 인도 통상 애로.pdf', 'file_path': './data/[법률_규범_특허][코트라][2022]한-인도 CEPA 활용법 및 인도 통상 애로.pdf', 'page': 5, 'total_pages': 41, 'format': 'PDF 1.6', 'title': '', 'author': '', 'subject': '', 'keywords': '', 'creator': 'Adobe InDesign 17.2 (Macintosh)', 'producer': 'Adobe PDF Library 16.0.7', 'creationDate': \"D:20220610145706+09'00'\", 'modDate': \"D:20220614154828+09'00'\", 'trapped': ''}),\n",
       " Document(page_content='인도 수출 및 CEPA 활용 시 주의사항 알아두기 | 13\\n다만, 대한상공회의소에서 발급하는 원산지증명서를 조회할 경우에는 수출자 및 발급자의 서명이 확인되지 \\n않기 때문에 인도 세관에서 의문을 제기할 수 있다. 주인도 관세협력관, 뉴델리 · 첸나이 CEPA활용지원센터\\n는 한국 관세청에 이를 공유하여 수출자 및 발급자의 서명이 없어도 원산지증명서 원본 여부 확인에 지장이 \\n없음을 알리는 문구를 화면에 추가할 수 있었다. 이에 따라, 한국 세관 뿐 아니라 대항상공회의소에서 발급한 \\n원산지증명서도 해당 화면에서 확인이 가능하며 이를 활용하여 인도 세관에 원산지증명서 원본 여부를 증명\\n할 수 있게 되었다.\\n③ 시사점\\n아래와 같이 한국 관세청에서 제공하는 서비스를 통해 원산지증명서의 원본 여부를 확인할 수 있다. 원산지\\n증명서 상 표시된 Reference no. 와 Reference code 입력 후 확인 가능하다.\\n<한국 원산지증명서 진위여부 조회 화면>\\n자료 :http://www.customs.go.kr/kcs/co/co.do\\n', metadata={'source': './data/[법률_규범_특허][코트라][2022]한-인도 CEPA 활용법 및 인도 통상 애로.pdf', 'file_path': './data/[법률_규범_특허][코트라][2022]한-인도 CEPA 활용법 및 인도 통상 애로.pdf', 'page': 11, 'total_pages': 41, 'format': 'PDF 1.6', 'title': '', 'author': '', 'subject': '', 'keywords': '', 'creator': 'Adobe InDesign 17.2 (Macintosh)', 'producer': 'Adobe PDF Library 16.0.7', 'creationDate': \"D:20220610145706+09'00'\", 'modDate': \"D:20220614154828+09'00'\", 'trapped': ''}),\n",
       " Document(page_content='인도 비관세장벽 이해하기 | 39\\n<3> 대필수 정보 입력, 관련 서류 첨부 및 약관 동의\\n• \\x07\\n물품 유형 및 물품의 세부 정보(원산지, CIF 기준 수입가격, 물품 규격 등), 물품의 예정 수입항 및 실사용\\n자 정보 입력\\n• 제출 정보와 수입허가 신청에 관련된 법적 책임에 대한 약관에 동의한 후, 다음 단계 이동\\n<세부정보 입력화면>\\n<약관동의 화면>\\n', metadata={'source': './data/[법률_규범_특허][코트라][2022]한-인도 CEPA 활용법 및 인도 통상 애로.pdf', 'file_path': './data/[법률_규범_특허][코트라][2022]한-인도 CEPA 활용법 및 인도 통상 애로.pdf', 'page': 37, 'total_pages': 41, 'format': 'PDF 1.6', 'title': '', 'author': '', 'subject': '', 'keywords': '', 'creator': 'Adobe InDesign 17.2 (Macintosh)', 'producer': 'Adobe PDF Library 16.0.7', 'creationDate': \"D:20220610145706+09'00'\", 'modDate': \"D:20220614154828+09'00'\", 'trapped': ''}),\n",
       " Document(page_content='사례로 정리해보는\\n한-인도 CEPA \\n활용법 및 인도 통상 애로\\nKOTRA자료 22-055\\n', metadata={'source': './data/[법률_규범_특허][코트라][2022]한-인도 CEPA 활용법 및 인도 통상 애로.pdf', 'file_path': './data/[법률_규범_특허][코트라][2022]한-인도 CEPA 활용법 및 인도 통상 애로.pdf', 'page': 0, 'total_pages': 41, 'format': 'PDF 1.6', 'title': '', 'author': '', 'subject': '', 'keywords': '', 'creator': 'Adobe InDesign 17.2 (Macintosh)', 'producer': 'Adobe PDF Library 16.0.7', 'creationDate': \"D:20220610145706+09'00'\", 'modDate': \"D:20220614154828+09'00'\", 'trapped': ''}),\n",
       " Document(page_content='인도 비관세장벽 이해하기 | 41\\n', metadata={'source': './data/[법률_규범_특허][코트라][2022]한-인도 CEPA 활용법 및 인도 통상 애로.pdf', 'file_path': './data/[법률_규범_특허][코트라][2022]한-인도 CEPA 활용법 및 인도 통상 애로.pdf', 'page': 39, 'total_pages': 41, 'format': 'PDF 1.6', 'title': '', 'author': '', 'subject': '', 'keywords': '', 'creator': 'Adobe InDesign 17.2 (Macintosh)', 'producer': 'Adobe PDF Library 16.0.7', 'creationDate': \"D:20220610145706+09'00'\", 'modDate': \"D:20220614154828+09'00'\", 'trapped': ''})]"
      ]
     },
     "execution_count": 38,
     "metadata": {},
     "output_type": "execute_result"
    }
   ],
   "source": [
    "ensemble_retriever.get_relevant_documents(query)"
   ]
  },
  {
   "cell_type": "code",
   "execution_count": 39,
   "id": "2ff7bdb3-9423-44fb-a2e7-a9c6b4ce5eb9",
   "metadata": {},
   "outputs": [
    {
     "data": {
      "text/plain": [
       "[Document(page_content='08 | 사례로 정리해보는 한-인도 CEPA 활용법 및 인도 통상 애로\\n기재하여 신청하면 가능하다. 다만, 한국과 인도의 양국에서 사용하는 HS 코드에 따른 원산지기준이 다를 경\\n우, 원산지기준을 모두 충족하여야 한다.\\n나. 인도 DRI(국세정보국) 관세조사 시 대응방안\\n① 주요 내용\\n2021년 3월, 철도 신호용 계전기 관련 인도 대법원의 판결(Westinghouse Saxby FarmerLtd. Vs. \\nCommisioner of Central Excise)에 따라 개별 부품이 자동차의 부품으로 분류될 근거가 됨으로써 인도 국\\n세정보국(DRI)는 자동차 부품 관련 자의적 해석에 근거한 관세조사를 시행하고 있다. 이로 인해, 인도에 진\\n출한 관련 기업들의 한-인도 CEPA  활용 불가 및 차액 관세 납부 등의 피해가 발생하고 있다. \\n한-인도 CEPA 적용을 위한 원산지증명서 서식\\n자료: 한-인도 CEPA 협정문\\n', metadata={'source': './data/[법률_규범_특허][코트라][2022]한-인도 CEPA 활용법 및 인도 통상 애로.pdf', 'file_path': './data/[법률_규범_특허][코트라][2022]한-인도 CEPA 활용법 및 인도 통상 애로.pdf', 'page': 6, 'total_pages': 41, 'format': 'PDF 1.6', 'title': '', 'author': '', 'subject': '', 'keywords': '', 'creator': 'Adobe InDesign 17.2 (Macintosh)', 'producer': 'Adobe PDF Library 16.0.7', 'creationDate': \"D:20220610145706+09'00'\", 'modDate': \"D:20220614154828+09'00'\", 'trapped': ''}),\n",
       " Document(page_content='인도 수출 및 CEPA\\n활용 시 주의사항 알아두기 \\n \\n \\n01\\n1. 품목분류\\n가. HS코드 관련 인도세관의 품목분류 차이 발생 시 원산지증명서 발급 방법\\n나. 인도 DRI(국세정보국) 관세조사 시 대응방안\\n2. 원산지증명서\\n가. 원산지증명서 오류 발급 시 정정 방법\\n나. 원산지증명서 원본 여부 논란 발생 시 대응방안\\n3. CEPA 활용\\n가. 인도 CAROT\\nAR 2020(원산지관리강화규칙)에 의한 Form I 작성 및 제출 방법\\n나. 2022년 HS협약 개정에 따라 HS코드가 변경된 물품의 수출 시 주의사항\\n다. 중고 설비 인도 수출 시 한-인도 CEPA 활용 방법\\n사례로 정리해보는 한-인도\\nCEPA 활용법 및 인도 통상 애로\\n', metadata={'source': './data/[법률_규범_특허][코트라][2022]한-인도 CEPA 활용법 및 인도 통상 애로.pdf', 'file_path': './data/[법률_규범_특허][코트라][2022]한-인도 CEPA 활용법 및 인도 통상 애로.pdf', 'page': 3, 'total_pages': 41, 'format': 'PDF 1.6', 'title': '', 'author': '', 'subject': '', 'keywords': '', 'creator': 'Adobe InDesign 17.2 (Macintosh)', 'producer': 'Adobe PDF Library 16.0.7', 'creationDate': \"D:20220610145706+09'00'\", 'modDate': \"D:20220614154828+09'00'\", 'trapped': ''}),\n",
       " Document(page_content='CONTENTS\\n사례로 정리해보는\\n한-인도 CEPA \\n활용법 및 인도 통상 애로\\n01. 인도 수출 및 CEPA 활용 시 주의사항 알아두기   \\n1. 품목분류   / 06\\n\\t\\n가. \\x07\\nHS코드 관련 인도세관의 품목분류 차이 발생 시 원산지증명서 발급 방법   / 06\\n\\t\\n나. 인도 DRI(국세정보국) 관세조사 시 대응방안   / 08\\n2. 원산지증명서   / 11\\n\\t\\n가. 원산지증명서 오류 발급 시 정정 방법   / 11\\n\\t\\n나. 원산지증명서 원본 여부 논란 발생 시 대응방안   / 12\\n3. CEPA 활용   / 14\\n\\t\\n가. 인도 CAROTAR 2020(원산지관리강화규칙)에 의한 Form I \\n\\t\\n\\t\\n작성 및 제출 방법   / 14\\n\\t\\n나. \\x07\\n2022년 HS협약 개정에 따라 HS코드가 변경된 물품의 수출 시 주의사항   / 17\\n\\t\\n다. 중고 설비 인도 수출 시 한-인도 CEPA 활용 방법   / 19\\n02. 인도 비관세장벽 이해하기 \\n1. 인증제도   / 22\\n\\t\\n가. BIS 인증대상 확대 및 인증진행 지연   / 22\\n\\t\\n\\t\\n[참고] BIS 인증제도 개요\\n \\t 나. 인도 지정실험실에 샘플 발송 시 주의사항   / 27\\n \\t 다. 화장품 인증 완료 후 까다로운 라벨링 부착 규정   / 29\\n\\t\\n\\t\\n[참고] CDSCO 인증제도 개요\\n2. 수입 전 등록 및 허가제도   / 32\\n\\t\\n가. 철강제품 수입 전 모니터링 시스템 상 화물정보 등록 의무   / 32\\n\\t\\n\\t\\n[참고]인도의 수입모니터링 시스템\\n\\t\\n나. 인도 대외무역총국(DGFT) 수입 전 허가제도   / 35\\n\\t\\n\\t\\n[참고]수입허가 신청방법\\n', metadata={'source': './data/[법률_규범_특허][코트라][2022]한-인도 CEPA 활용법 및 인도 통상 애로.pdf', 'file_path': './data/[법률_규범_특허][코트라][2022]한-인도 CEPA 활용법 및 인도 통상 애로.pdf', 'page': 2, 'total_pages': 41, 'format': 'PDF 1.6', 'title': '', 'author': '', 'subject': '', 'keywords': '', 'creator': 'Adobe InDesign 17.2 (Macintosh)', 'producer': 'Adobe PDF Library 16.0.7', 'creationDate': \"D:20220610145706+09'00'\", 'modDate': \"D:20220614154828+09'00'\", 'trapped': ''}),\n",
       " Document(page_content='10 | 사례로 정리해보는 한-인도 CEPA 활용법 및 인도 통상 애로\\n전기의 품목분류 관련 인도 대법원 판결의 내용을 확대 적용하여 일반화하지 않도록 요청 및 부품(Parts)의 \\n품목분류 시 HS 협약을 우선 적용하고 다양한 사례를 참고할 것을 강조하였다. 뉴델리·첸나이 CEPA활용지\\n원센터는 관련 기업들에게 국세정보국(DRI)이 자의적인 품목분류 해석을 통한 조사 및 추가 관세 납부를 요\\n구할 수 있으므로 이에 대응할 수 있도록 근거자료를 확보할 것을 안내 및 해당 지침의 내용을 공유하였다.\\n③ 시사점\\n2022년 1월 5일, 인도 관세간접세위원회(CBIC)는 세관 및 국세정보국(DRI)의 자의적 품목분류를 규제하\\n기 위한 지침(Instruction No.01/2022-Customs)을 발표하였다. 이를 통해 철도 신호용 계전기 관련 품목\\n분류에 대한 인도 대법원 판결(Westinghouse Saxby FarmerLtd. Vs. Commisioner of Central Excise)\\n을 개별 부품을 자동차 부품에 분류할 수 있는 법적근거로 확대 해석하지 않도록 환기하였다. 또한, 부품\\n(Parts)의 품목분류 시, HS 협약에 따른 규정을 우선 적용하고 해당 품목과 관련된 다양한 사례를 종합적으\\n로 참고하여 판단 할 것을 권고하였다. 관세 관련 고시 및 지침은 인도 관세간접세위원회(CBIC)의 공식 웹사\\n이트에서 확인 가능하다. \\n<인도 관세간접세위원회(CBIC) 지침 조회 화면>\\n자료: https://www.cbic.gov.in/Customs-Circulars-Instructions\\n', metadata={'source': './data/[법률_규범_특허][코트라][2022]한-인도 CEPA 활용법 및 인도 통상 애로.pdf', 'file_path': './data/[법률_규범_특허][코트라][2022]한-인도 CEPA 활용법 및 인도 통상 애로.pdf', 'page': 8, 'total_pages': 41, 'format': 'PDF 1.6', 'title': '', 'author': '', 'subject': '', 'keywords': '', 'creator': 'Adobe InDesign 17.2 (Macintosh)', 'producer': 'Adobe PDF Library 16.0.7', 'creationDate': \"D:20220610145706+09'00'\", 'modDate': \"D:20220614154828+09'00'\", 'trapped': ''}),\n",
       " Document(page_content='06 | 사례로 정리해보는 한-인도 CEPA 활용법 및 인도 통상 애로\\n인도 수출 및 CEPA 활용 시 주의사항 알아두기 \\n01\\n1. 품목분류\\n가. HS코드 관련 인도세관의 품목분류 차이 발생 시 원산지증명서 발급 방법 \\n① 주요 내용\\n인도 수출 시, 한-인도 CEPA에 의한 양허세율을 적용하기 위해서는 한국 세관 또는 대한상공회의소에서 \\n발급된 원산지증명서가 필요하다. 원산지증명서에는 해당물품의 HS코드 6자리를 기재하여야 한다. 그러나 \\n인도세관에서 해당 물품에 대하여 다른 HS코드로 분류할 것을 주장하여 한국에서 발급된 원산지증명서 및 \\nCEPA의 적용을 불인정하는 사례가 있다.\\n② 사례\\n핸드폰, TV 등에 사용되는 스폰지 가스켓(Sponge Gasket)이라는 부품을 인도에 수출하고 있는 A사는 한\\n국에서 원산지증명서 발급 시 해당 물품의 HS 코드가 7410.21에 해당한다는 것을 확인하였다. 약 1년 넘게 \\n해당 HS 코드로 인도에 수출을 하며 한-인도 CEPA의 적용을 받아오던 중 인도 세관 담당자로부터 해당 물\\n품의 HS 코드를 3919.90로 하여서 수출 및 한-인도 CEPA 적용 신청을 다시 할 것을 요청 받았다. 다행히 \\nHS 코드 7410.21와 3919.90에 해당하는 물품 모두 한-인도 CEPA 협정 상 양허대상 물품에 해당하고 적\\n용 후 세율도 0%로 동일하여 인도 세관에 요청하는 HS 코드로 변경할 경우에도 CEPA 활용을 할 수 있는 \\n상황이었다. \\n그러나, 한국에서 원산지증명서 발급 시 수출신고필증 사본, 상업송장(Invoice), 원산지소명서 등을 제출하\\n여야 하는데 수출신고필증 상 HS 코드가 원산지증명서 상에 그대로 기재된다. 한국에서 품목분류사전심사 \\n등을 통해 해당 HS 코드가 정확하다고 확인되어 해당 HS 코드로 신고를 해온 물품의 경우에는 수출신고필\\n증 상의 HS 코드를 임의로 변경할 수 없다. 수입국에서 품목분류에 대한 해석의 차이가 있을 수 있지만 관세 \\n', metadata={'source': './data/[법률_규범_특허][코트라][2022]한-인도 CEPA 활용법 및 인도 통상 애로.pdf', 'file_path': './data/[법률_규범_특허][코트라][2022]한-인도 CEPA 활용법 및 인도 통상 애로.pdf', 'page': 4, 'total_pages': 41, 'format': 'PDF 1.6', 'title': '', 'author': '', 'subject': '', 'keywords': '', 'creator': 'Adobe InDesign 17.2 (Macintosh)', 'producer': 'Adobe PDF Library 16.0.7', 'creationDate': \"D:20220610145706+09'00'\", 'modDate': \"D:20220614154828+09'00'\", 'trapped': ''}),\n",
       " Document(page_content='사례로 정리해보는\\n한-인도 CEPA \\n활용법 및 인도 통상 애로\\nKOTRA자료 22-055\\n', metadata={'source': './data/[법률_규범_특허][코트라][2022]한-인도 CEPA 활용법 및 인도 통상 애로.pdf', 'file_path': './data/[법률_규범_특허][코트라][2022]한-인도 CEPA 활용법 및 인도 통상 애로.pdf', 'page': 0, 'total_pages': 41, 'format': 'PDF 1.6', 'title': '', 'author': '', 'subject': '', 'keywords': '', 'creator': 'Adobe InDesign 17.2 (Macintosh)', 'producer': 'Adobe PDF Library 16.0.7', 'creationDate': \"D:20220610145706+09'00'\", 'modDate': \"D:20220614154828+09'00'\", 'trapped': ''}),\n",
       " Document(page_content='인도 비관세장벽\\n이해하기 \\n02\\n1. 인증제도\\n가. BIS 인증대상 확대 및 인증진행 지연\\n\\t\\n[참고] BIS 인증제도 개요\\n나. 인도 지정실험실에 샘플 발송 시 주의사항\\n다. 화장품 인증 완료 후 까다로운 라벨링 부착 규정\\n\\t\\n[참고] CDSCO 인증제도 개요\\n2. 수입 전 등록 및 허가제도\\n가. 철강제품 수입 전 모니터링 시스템 상 화물정보 등록 의무\\n\\t\\n[참고]인도의 수입모니터링 시스템\\n나. 인도 대외무역총국(DGFT) 수입 전 허가제도\\n\\t\\n[참고]수입허가 신청방법\\n사례로 정리해보는 한-인도\\nCEPA 활용법 및 인도 통상 애로\\n', metadata={'source': './data/[법률_규범_특허][코트라][2022]한-인도 CEPA 활용법 및 인도 통상 애로.pdf', 'file_path': './data/[법률_규범_특허][코트라][2022]한-인도 CEPA 활용법 및 인도 통상 애로.pdf', 'page': 19, 'total_pages': 41, 'format': 'PDF 1.6', 'title': '', 'author': '', 'subject': '', 'keywords': '', 'creator': 'Adobe InDesign 17.2 (Macintosh)', 'producer': 'Adobe PDF Library 16.0.7', 'creationDate': \"D:20220610145706+09'00'\", 'modDate': \"D:20220614154828+09'00'\", 'trapped': ''}),\n",
       " Document(page_content='인도 비관세장벽 이해하기 | 41\\n', metadata={'source': './data/[법률_규범_특허][코트라][2022]한-인도 CEPA 활용법 및 인도 통상 애로.pdf', 'file_path': './data/[법률_규범_특허][코트라][2022]한-인도 CEPA 활용법 및 인도 통상 애로.pdf', 'page': 39, 'total_pages': 41, 'format': 'PDF 1.6', 'title': '', 'author': '', 'subject': '', 'keywords': '', 'creator': 'Adobe InDesign 17.2 (Macintosh)', 'producer': 'Adobe PDF Library 16.0.7', 'creationDate': \"D:20220610145706+09'00'\", 'modDate': \"D:20220614154828+09'00'\", 'trapped': ''}),\n",
       " Document(page_content='인도 비관세장벽 이해하기 | 39\\n<3> 대필수 정보 입력, 관련 서류 첨부 및 약관 동의\\n• \\x07\\n물품 유형 및 물품의 세부 정보(원산지, CIF 기준 수입가격, 물품 규격 등), 물품의 예정 수입항 및 실사용\\n자 정보 입력\\n• 제출 정보와 수입허가 신청에 관련된 법적 책임에 대한 약관에 동의한 후, 다음 단계 이동\\n<세부정보 입력화면>\\n<약관동의 화면>\\n', metadata={'source': './data/[법률_규범_특허][코트라][2022]한-인도 CEPA 활용법 및 인도 통상 애로.pdf', 'file_path': './data/[법률_규범_특허][코트라][2022]한-인도 CEPA 활용법 및 인도 통상 애로.pdf', 'page': 37, 'total_pages': 41, 'format': 'PDF 1.6', 'title': '', 'author': '', 'subject': '', 'keywords': '', 'creator': 'Adobe InDesign 17.2 (Macintosh)', 'producer': 'Adobe PDF Library 16.0.7', 'creationDate': \"D:20220610145706+09'00'\", 'modDate': \"D:20220614154828+09'00'\", 'trapped': ''})]"
      ]
     },
     "execution_count": 39,
     "metadata": {},
     "output_type": "execute_result"
    }
   ],
   "source": [
    "query = \"인도 DRI(국세정보국) 관세조사 시 대응방안에 대한 사례를 알려주세요.\"\n",
    "ensemble_retriever.invoke(query)"
   ]
  },
  {
   "cell_type": "code",
   "execution_count": 40,
   "id": "5febb44b-a337-4c1c-9103-fe4aa2725aa9",
   "metadata": {},
   "outputs": [],
   "source": [
    "from langchain_core.prompts import ChatPromptTemplate, MessagesPlaceholder\n",
    "\n",
    "\n",
    "\n",
    "# 사용자 질문 맥락화 프롬프트\n",
    "contextualize_q_system_prompt = \"\"\"\n",
    "주요 목표는 사용자의 질문을 이해하기 쉽게 다시 작성하는 것입니다.\n",
    "사용자의 질문과 채팅 기록이 주어졌을 때, 채팅 기록의 맥락을 참조할 수 있습니다.\n",
    "채팅 기록이 없더라도 이해할 수 있는 독립적인 질문으로 작성하세요.\n",
    "질문에 바로 대답하지 말고, 필요하다면 질문을 다시 작성하세요. 그렇지 않다면 질문을 그대로 반환합니다.        \n",
    "\"\"\"\n",
    "contextualize_q_prompt = ChatPromptTemplate.from_messages([\n",
    "    (\"system\", contextualize_q_system_prompt),\n",
    "    MessagesPlaceholder(\"chat_history\"),\n",
    "    (\"human\", \"{input}\"),\n",
    "])\n",
    "\n",
    "# 질문 프롬프트\n",
    "qa_system_prompt = \"\"\"\n",
    "당신은 질문에 대해 정보를 제공해주는 어시스턴트입니다.\n",
    "소규모 기업 혹은 스타트업에 인도에 수출 사업을 도와 사실 기반의 정보만을 제공해주면서 가능한 한 도움이 되도록 만들어졌습니다.\n",
    "사전 정보가 아닌 주어진 자료를 참고하여 정보를 제공해주세요.\n",
    "만약 자료에 나와있지 않는 상황의 경우에는 인터넷에 검색해보라고 말해주세요.\n",
    "\n",
    "자료:\n",
    "{context}\n",
    "\n",
    "질문:\n",
    "{input}\n",
    "\n",
    "FORMAT:\n",
    "- 진출 사업\n",
    "- 진출 사업 동향\n",
    "- 진출 사업 메리트\n",
    "- 진출 사업 관련 정책\n",
    "- 진출 사업을 위한 도움말\n",
    "- 진출 사업 관련 알아야 할 것들\n",
    "\"\"\"\n",
    "\n",
    "qa_prompt = ChatPromptTemplate.from_messages([\n",
    "    (\"system\", qa_system_prompt),\n",
    "    MessagesPlaceholder(\"chat_history\"),\n",
    "    (\"human\", \"{input}\"),\n",
    "])"
   ]
  },
  {
   "cell_type": "code",
   "execution_count": 41,
   "id": "68bffe26-f3df-4ac0-b8ea-7c9a2357e049",
   "metadata": {
    "tags": []
   },
   "outputs": [],
   "source": [
    "llm = ChatOpenAI(\n",
    "    model=\"gpt-3.5-turbo\",\n",
    "    max_tokens=2048,\n",
    "    temperature=0,\n",
    ")"
   ]
  },
  {
   "cell_type": "code",
   "execution_count": 42,
   "id": "1b112a1f-1ed1-4f30-a2b8-58aa86b9ea9f",
   "metadata": {
    "tags": []
   },
   "outputs": [],
   "source": [
    "# from langchain_core.output_parsers import StrOutputParser\n",
    "from langchain_core.runnables import RunnableParallel, RunnablePassthrough\n",
    "from langchain_core.output_parsers.string import StrOutputParser\n",
    "from langchain.chains import create_history_aware_retriever\n",
    "from langchain.chains.retrieval import create_retrieval_chain\n",
    "from langchain.chains.combine_documents import create_stuff_documents_chain\n",
    "from operator import itemgetter\n",
    "output_parser = StrOutputParser()\n",
    "\n",
    "\n",
    "history_aware_retriever = create_history_aware_retriever(\n",
    "    llm = llm,\n",
    "    retriever = ensemble_retriever,\n",
    "    prompt = contextualize_q_prompt\n",
    ")\n",
    "\n",
    "# 응답 생성 + 프롬프트 엔지니어링\n",
    "question_answer_chain = create_stuff_documents_chain(llm, qa_prompt)\n",
    "\n",
    "rag_chain = create_retrieval_chain(history_aware_retriever, question_answer_chain)\n",
    "\n"
   ]
  },
  {
   "cell_type": "code",
   "execution_count": 43,
   "id": "16ea74fc-570a-405f-9cdc-6b0d7c552cbc",
   "metadata": {},
   "outputs": [
    {
     "data": {
      "text/plain": [
       "RunnableBinding(bound=RunnableAssign(mapper={\n",
       "  context: RunnableBinding(bound=RunnableBranch(branches=[(RunnableLambda(lambda x: not x.get('chat_history', False)), RunnableLambda(lambda x: x['input'])\n",
       "           | EnsembleRetriever(retrievers=[BM25Retriever(vectorizer=<rank_bm25.BM25Okapi object at 0x000001D6A5BEF250>, k=5), VectorStoreRetriever(tags=['FAISS', 'OpenAIEmbeddings'], vectorstore=<langchain_community.vectorstores.faiss.FAISS object at 0x000001D6A5CB88E0>, search_kwargs={'k': 5})], weights=[0.65, 0.35]))], default=ChatPromptTemplate(input_variables=['chat_history', 'input'], input_types={'chat_history': typing.List[typing.Union[langchain_core.messages.ai.AIMessage, langchain_core.messages.human.HumanMessage, langchain_core.messages.chat.ChatMessage, langchain_core.messages.system.SystemMessage, langchain_core.messages.function.FunctionMessage, langchain_core.messages.tool.ToolMessage]]}, messages=[SystemMessagePromptTemplate(prompt=PromptTemplate(input_variables=[], template='\\n주요 목표는 사용자의 질문을 이해하기 쉽게 다시 작성하는 것입니다.\\n사용자의 질문과 채팅 기록이 주어졌을 때, 채팅 기록의 맥락을 참조할 수 있습니다.\\n채팅 기록이 없더라도 이해할 수 있는 독립적인 질문으로 작성하세요.\\n질문에 바로 대답하지 말고, 필요하다면 질문을 다시 작성하세요. 그렇지 않다면 질문을 그대로 반환합니다.        \\n')), MessagesPlaceholder(variable_name='chat_history'), HumanMessagePromptTemplate(prompt=PromptTemplate(input_variables=['input'], template='{input}'))])\n",
       "           | ChatOpenAI(client=<openai.resources.chat.completions.Completions object at 0x000001D6A5D4FB50>, async_client=<openai.resources.chat.completions.AsyncCompletions object at 0x000001D6A630E740>, temperature=0.0, openai_api_key=SecretStr('**********'), openai_proxy='', max_tokens=2048)\n",
       "           | StrOutputParser()\n",
       "           | EnsembleRetriever(retrievers=[BM25Retriever(vectorizer=<rank_bm25.BM25Okapi object at 0x000001D6A5BEF250>, k=5), VectorStoreRetriever(tags=['FAISS', 'OpenAIEmbeddings'], vectorstore=<langchain_community.vectorstores.faiss.FAISS object at 0x000001D6A5CB88E0>, search_kwargs={'k': 5})], weights=[0.65, 0.35])), config={'run_name': 'retrieve_documents'})\n",
       "})\n",
       "| RunnableAssign(mapper={\n",
       "    answer: RunnableBinding(bound=RunnableBinding(bound=RunnableAssign(mapper={\n",
       "              context: RunnableLambda(format_docs)\n",
       "            }), config={'run_name': 'format_inputs'})\n",
       "            | ChatPromptTemplate(input_variables=['chat_history', 'context', 'input'], input_types={'chat_history': typing.List[typing.Union[langchain_core.messages.ai.AIMessage, langchain_core.messages.human.HumanMessage, langchain_core.messages.chat.ChatMessage, langchain_core.messages.system.SystemMessage, langchain_core.messages.function.FunctionMessage, langchain_core.messages.tool.ToolMessage]]}, messages=[SystemMessagePromptTemplate(prompt=PromptTemplate(input_variables=['context', 'input'], template='\\n당신은 질문에 대해 정보를 제공해주는 어시스턴트입니다.\\n소규모 기업 혹은 스타트업에 인도에 수출 사업을 도와 사실 기반의 정보만을 제공해주면서 가능한 한 도움이 되도록 만들어졌습니다.\\n사전 정보가 아닌 주어진 자료를 참고하여 정보를 제공해주세요.\\n만약 자료에 나와있지 않는 상황의 경우에는 인터넷에 검색해보라고 말해주세요.\\n\\n자료:\\n{context}\\n\\n질문:\\n{input}\\n\\nFORMAT:\\n- 진출 사업\\n- 진출 사업 동향\\n- 진출 사업 메리트\\n- 진출 사업 관련 정책\\n- 진출 사업을 위한 도움말\\n- 진출 사업 관련 알아야 할 것들\\n')), MessagesPlaceholder(variable_name='chat_history'), HumanMessagePromptTemplate(prompt=PromptTemplate(input_variables=['input'], template='{input}'))])\n",
       "            | ChatOpenAI(client=<openai.resources.chat.completions.Completions object at 0x000001D6A5D4FB50>, async_client=<openai.resources.chat.completions.AsyncCompletions object at 0x000001D6A630E740>, temperature=0.0, openai_api_key=SecretStr('**********'), openai_proxy='', max_tokens=2048)\n",
       "            | StrOutputParser(), config={'run_name': 'stuff_documents_chain'})\n",
       "  }), config={'run_name': 'retrieval_chain'})"
      ]
     },
     "execution_count": 43,
     "metadata": {},
     "output_type": "execute_result"
    }
   ],
   "source": [
    "rag_chain"
   ]
  },
  {
   "cell_type": "code",
   "execution_count": 44,
   "id": "cfbd02fa-1e2c-4a5a-87f5-83c54983e8e8",
   "metadata": {
    "scrolled": true
   },
   "outputs": [],
   "source": [
    "query = \"인도 DRI(국세정보국) 관세조사 시 대응방안에 대한 사례를 알려주세요.\"\n",
    "result = rag_chain.invoke(\n",
    "    {\n",
    "        \"input\": query,\n",
    "        \"chat_history\": [],\n",
    "    }\n",
    ")"
   ]
  },
  {
   "cell_type": "code",
   "execution_count": 45,
   "id": "6a49420e-4a86-4b56-acbc-f08988af1375",
   "metadata": {},
   "outputs": [
    {
     "data": {
      "text/plain": [
       "'**진출 사업:** 인도 DRI(국세정보국) 관세조사 시 대응방안\\n\\n**진출 사업 동향:** 인도 DRI(국세정보국)의 관세조사는 자동차 부품 관련 자의적 해석에 근거하여 시행되고 있습니다.\\n\\n**진출 사업 메리트:** 대비책을 마련하여 관세조사에 대응할 수 있다면, 한-인도 CEPA 활용 불가 및 차액 관세 납부 등의 피해를 최소화할 수 있습니다.\\n\\n**진출 사업 관련 정책:** 2022년 1월 5일, 인도 관세간접세위원회(CBIC)는 세관 및 국세정보국(DRI)의 자의적 품목분류를 규제하기 위한 지침을 발표하였습니다.\\n\\n**진출 사업을 위한 도움말:** 관련 기업들은 근거자료를 확보하고, HS 협약에 따른 규정을 우선 적용하며 다양한 사례를 종합적으로 참고하여 판단해야 합니다.\\n\\n**진출 사업 관련 알아야 할 것들:** 관세 관련 고시 및 지침은 인도 관세간접세위원회(CBIC)의 공식 웹사이트에서 확인할 수 있으며, 관세조사에 대비하는 대응방안을 마련하는 것이 중요합니다.'"
      ]
     },
     "execution_count": 45,
     "metadata": {},
     "output_type": "execute_result"
    }
   ],
   "source": [
    "result['answer']"
   ]
  },
  {
   "cell_type": "code",
   "execution_count": 46,
   "id": "2bc91b02-be76-49a7-a82d-dd014762c130",
   "metadata": {
    "scrolled": true
   },
   "outputs": [],
   "source": [
    "query = \"원산지증명서 오류 발급 시 정정 방법을 알려줘\"\n",
    "result = rag_chain.invoke(\n",
    "    {\n",
    "        \"input\": query,\n",
    "        \"chat_history\": [],\n",
    "    }\n",
    ")"
   ]
  },
  {
   "cell_type": "code",
   "execution_count": 47,
   "id": "2c80436c-4e69-4118-adf7-3d373edf0da9",
   "metadata": {},
   "outputs": [
    {
     "data": {
      "text/plain": [
       "\"원산지증명서 오류 발급 시 정정하는 방법은 다음과 같습니다:\\n\\n1. 한-인도 CEPA 협정에 따르면 수출국에서 선적일로부터 7일 이내에 원산지증명서를 발급하여야 합니다. 7일 이후에 발급된 원산지증명서의 경우에는 '소급적용(ISSUED RETROSPECTIVELY)' 문구가 표시되어 있어야 합니다. 만약 이 내용이 협정과 다르게 표시되어 있다면, 원산지증명서 오류로 간주됩니다.\\n\\n2. 원산지증명서 오류가 발생했을 경우, 정정을 위해 다음 단계를 따를 수 있습니다:\\n   - 한국 세관에 원산지증명서 정정신청을 합니다.\\n   - 정정된 원산지증명서를 제출하고, 한-인도 CEPA를 적용합니다.\\n   - 원산지증명서의 원본(오류 발급본)을 회수합니다.\\n\\n3. 원산지증명서의 정정을 통해 한-인도 CEPA를 빠르게 적용할 수 있도록 하기 위해, 관련 당국과 협의하여 정확한 절차를 따라야 합니다.\\n\\n이러한 절차를 통해 원산지증명서 오류를 정정하고, 한-인도 CEPA 협정을 적용할 수 있습니다.\""
      ]
     },
     "execution_count": 47,
     "metadata": {},
     "output_type": "execute_result"
    }
   ],
   "source": [
    "result['answer']"
   ]
  },
  {
   "cell_type": "code",
   "execution_count": 48,
   "id": "dcc1e5ae-e696-4871-8462-25e8bcac4d9c",
   "metadata": {},
   "outputs": [],
   "source": [
    "from langchain_community.chat_message_histories import ChatMessageHistory\n",
    "from langchain_core.chat_history import BaseChatMessageHistory\n",
    "from langchain_core.runnables.history import RunnableWithMessageHistory\n",
    "\n",
    "\n",
    "store = {}  # 세션 기록을 저장할 딕셔너리\n",
    "\n",
    "\n",
    "def get_session_history(session_ids: str) -> BaseChatMessageHistory:\n",
    "    print(session_ids)\n",
    "    if session_ids not in store:  # 세션 ID가 store에 없는 경우\n",
    "        # 새로운 ChatMessageHistory 객체를 생성하여 store에 저장\n",
    "        store[session_ids] = ChatMessageHistory()\n",
    "    return store[session_ids]  # 해당 세션 ID에 대한 세션 기록 반환\n",
    "\n",
    "\n",
    "with_message_history = (\n",
    "    RunnableWithMessageHistory(  # RunnableWithMessageHistory 객체 생성\n",
    "        rag_chain,  # 실행할 Runnable 객체\n",
    "        get_session_history,  # 세션 기록을 가져오는 함수\n",
    "        input_messages_key=\"input\",  # 입력 메시지의 키\n",
    "        history_messages_key=\"history\",  # 기록 메시지의 키\n",
    "    )\n",
    ")"
   ]
  },
  {
   "cell_type": "code",
   "execution_count": 49,
   "id": "4c7505bf-923e-460e-bad5-e815a0325d63",
   "metadata": {},
   "outputs": [
    {
     "name": "stdout",
     "output_type": "stream",
     "text": [
      "abc123\n"
     ]
    },
    {
     "name": "stderr",
     "output_type": "stream",
     "text": [
      "Error in RootListenersTracer.on_chain_end callback: KeyError('output')\n"
     ]
    }
   ],
   "source": [
    "query = \"원산지증명서 오류 발급 시 정정 방법을 알려줘\"\n",
    "SESSION_ID = \"abc123\"\n",
    "\n",
    "result = with_message_history.invoke(\n",
    "    # 수학 관련 질문 \"코사인의 의미는 무엇인가요?\"를 입력으로 전달합니다.\n",
    "    {\n",
    "        \"input\": query,\n",
    "        \"chat_history\": [],\n",
    "    },\n",
    "    # 설정 정보로 세션 ID \"abc123\"을 전달합니다.\n",
    "    config={\"configurable\": {\"session_id\": SESSION_ID}},\n",
    ")"
   ]
  },
  {
   "cell_type": "code",
   "execution_count": 50,
   "id": "2e13354f-b58d-4f05-aca7-34346fd26fdb",
   "metadata": {},
   "outputs": [
    {
     "data": {
      "text/plain": [
       "'원산지증명서 오류 발급 시 정정 방법은 다음과 같습니다:\\n\\n1. 한국 세관에 원산지증명서 정정신청을 합니다.\\n2. 정정된 원산지증명서를 제출하고, 한-인도 CEPA를 적용합니다.\\n3. 원산지증명서의 원본(오류 발급본)을 회수합니다.\\n\\n이러한 절차를 통해 오류가 있는 원산지증명서를 정정하고, 한-인도 CEPA를 적용할 수 있습니다.원산지증명서의 정정은 신속하게 처리되어야 하며, 관련된 모든 당사자들에게 적절히 통보되어야 합니다.'"
      ]
     },
     "execution_count": 50,
     "metadata": {},
     "output_type": "execute_result"
    }
   ],
   "source": [
    "result['answer']"
   ]
  },
  {
   "cell_type": "code",
   "execution_count": 51,
   "id": "a5160d90-c6ef-4479-a836-e3b1d4b95783",
   "metadata": {},
   "outputs": [
    {
     "name": "stdout",
     "output_type": "stream",
     "text": [
      "abc123\n"
     ]
    },
    {
     "name": "stderr",
     "output_type": "stream",
     "text": [
      "Error in RootListenersTracer.on_chain_end callback: KeyError('output')\n"
     ]
    },
    {
     "data": {
      "text/plain": [
       "'**진출 사업:** 인도 DRI(국세정보국) 관세조사 시 대응방안\\n\\n**진출 사업 동향:** 인도 DRI(국세정보국)의 관세조사는 자동차 부품 관련 자의적 해석에 근거한 조사를 시행하고 있으며, 이로 인해 한-인도 CEPA 활용 불가 및 차액 관세 납부 등의 피해가 발생하고 있습니다.\\n\\n**진출 사업 메리트:** 대비책을 마련하여 인도 DRI(국세정보국)의 관세조사에 대응할 수 있다면, 한-인도 CEPA 혜택을 최대한 활용하고 추가 관세 부담을 최소화할 수 있습니다.\\n\\n**진출 사업 관련 정책:** 2022년 1월 5일, 인도 관세간접세위원회(CBIC)가 세관 및 국세정보국(DRI)의 자의적 품목분류를 규제하기 위한 지침을 발표하였습니다.\\n\\n**진출 사업을 위한 도움말:** 관련 기업들은 근거자료를 확보하고, HS 협약에 따른 규정을 우선 적용하며, 다양한 사례를 종합적으로 참고하여 판단하는 것이 중요합니다.\\n\\n**진출 사업 관련 알아야 할 것들:** 인도 DRI(국세정보국)의 관세조사에 대비하기 위해서는 정확한 원산지증명서를 제출하고, HS 코드에 대한 이해와 관련 서류를 준비하는 것이 중요합니다. 또한, 인도 관세간접세위원회(CBIC)의 공식 웹사이트를 통해 관세 관련 고시 및 지침을 확인하는 것이 도움이 될 수 있습니다.'"
      ]
     },
     "execution_count": 51,
     "metadata": {},
     "output_type": "execute_result"
    }
   ],
   "source": [
    "query = \"인도 DRI(국세정보국) 관세조사 시 대응방안에 대한 사례를 알려주세요.\"\n",
    "SESSION_ID = \"abc123\"\n",
    "\n",
    "result = with_message_history.invoke(\n",
    "    # 수학 관련 질문 \"코사인의 의미는 무엇인가요?\"를 입력으로 전달합니다.\n",
    "    {\n",
    "        \"input\": query,\n",
    "        \"chat_history\": [],\n",
    "    },\n",
    "    # 설정 정보로 세션 ID \"abc123\"을 전달합니다.\n",
    "    config={\"configurable\": {\"session_id\": SESSION_ID}},\n",
    ")\n",
    "\n",
    "result['answer']"
   ]
  }
 ],
 "metadata": {
  "kernelspec": {
   "display_name": "BP",
   "language": "python",
   "name": "bp"
  },
  "language_info": {
   "codemirror_mode": {
    "name": "ipython",
    "version": 3
   },
   "file_extension": ".py",
   "mimetype": "text/x-python",
   "name": "python",
   "nbconvert_exporter": "python",
   "pygments_lexer": "ipython3",
   "version": "3.10.14"
  }
 },
 "nbformat": 4,
 "nbformat_minor": 5
}
