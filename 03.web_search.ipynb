{
 "cells": [
  {
   "cell_type": "code",
   "execution_count": 1,
   "metadata": {},
   "outputs": [
    {
     "name": "stderr",
     "output_type": "stream",
     "text": [
      "USER_AGENT environment variable not set, consider setting it to identify your requests.\n"
     ]
    }
   ],
   "source": [
    "import os \n",
    "\n",
    "from utils.RAGPipeLine import Ragpipeline\n",
    "from utils.mongo_RAGdoc import RagDocument"
   ]
  },
  {
   "cell_type": "code",
   "execution_count": 2,
   "metadata": {},
   "outputs": [
    {
     "name": "stdout",
     "output_type": "stream",
     "text": [
      "[초기화] vector_store 초기화 완료\n",
      "[초기화] retriever 초기화 완료\n",
      "[초기화] RAG chain 초기화 완료\n"
     ]
    },
    {
     "name": "stderr",
     "output_type": "stream",
     "text": [
      "/home/khw/anaconda3/envs/bigproject/lib/python3.11/site-packages/langchain_core/_api/deprecation.py:139: LangChainDeprecationWarning: The class `GoogleSearchAPIWrapper` was deprecated in LangChain 0.0.33 and will be removed in 0.3.0. An updated version of the class exists in the langchain-google-community package and should be used instead. To use it run `pip install -U langchain-google-community` and import as `from langchain_google_community import GoogleSearchAPIWrapper`.\n",
      "  warn_deprecated(\n"
     ]
    }
   ],
   "source": [
    "pipeline = Ragpipeline()"
   ]
  },
  {
   "cell_type": "code",
   "execution_count": 3,
   "metadata": {},
   "outputs": [],
   "source": [
    "vectorDB = pipeline.init_vectorDB()\n",
    "\n",
    "# persist_dir = \"./database\"\n",
    "# vectorDB = pipeline.init_vectorDB(persist_dir)"
   ]
  },
  {
   "cell_type": "code",
   "execution_count": 4,
   "metadata": {},
   "outputs": [
    {
     "data": {
      "text/plain": [
       "0.47680326729277256"
      ]
     },
     "execution_count": 4,
     "metadata": {},
     "output_type": "execute_result"
    }
   ],
   "source": [
    "question = '럭키비키가 뭐야?'\n",
    "\n",
    "results = vectorDB.similarity_search_with_score(question, k=1)\n",
    "\n",
    "results[0][1]"
   ]
  },
  {
   "cell_type": "code",
   "execution_count": 5,
   "metadata": {},
   "outputs": [
    {
     "name": "stderr",
     "output_type": "stream",
     "text": [
      "Parent run 8ae529a0-58e9-4d97-b5f7-d093b673f835 not found for run ed4a34cc-94ec-40bf-80ee-f6567849435e. Treating as a root run.\n"
     ]
    },
    {
     "name": "stdout",
     "output_type": "stream",
     "text": [
      "0.47680326729277256\n",
      "제가 잘 모르는 내용이라서, 검색한 내용을 알려 드릴께요.\n",
      "[히스토리 생성] 새로운 히스토리를 생성합니다. 세션 ID: abc124\n"
     ]
    },
    {
     "name": "stderr",
     "output_type": "stream",
     "text": [
      "Fetching pages: 100%|##########| 2/2 [00:00<00:00,  2.44it/s]\n"
     ]
    },
    {
     "name": "stdout",
     "output_type": "stream",
     "text": [
      "{'input': '럭키비키가 뭐야?', 'chat_history': [], 'context': [Document(page_content='Skip to main content\\n\\nOpen menu Open navigation Go to Reddit Home\\n\\nr/kpopthoughts  A chip A close button\\n\\nGet app Get the Reddit app Log In Log in to Reddit\\n\\nExpand user menu Open settings menu\\n\\n  * Log In / Sign Up\\n  * Advertise on Reddit\\n  * Shop Collectible Avatars\\n\\n###  Get the Reddit app\\n\\nScan this QR code to download the app now\\n\\nOr check it out in the app stores\\n\\nGo to kpopthoughts\\n\\nr/kpopthoughts\\n\\nr/kpopthoughts\\n\\nWelcome to r/kpopthoughts, the friendly community for fans of the Korean music\\nindustry and everything within it. Be sure to look over our rules and\\nguidelines before joining the discussions.\\n\\n* * *\\n\\nMembers Online\\n\\n•\\n\\nsoftshiba\\n\\nADMIN  MOD\\n\\n#  IVE Wonyoung and her viral \"Lucky Vicky\" way of thinking\\n\\nAppreciation\\n\\nToday, this cute clip of Wonyoung on MCountdown was going kinda viral - she\\nsays: \"It\\'s a calm and boring Thursday, but thanks to MCountdown, if I hang in\\nthere for just one more day, it would be the weekend! I\\'m absolutely lucky\\nVicky\"\\n\\nVicky is Wonyoung\\'s English name, but there was this tweet showing the \"Lucky\\nVicky\" way of thinking, translated below:\\n\\n> Positive Thinking: The glass is half full\\n\\n> Negative Thinking: The glass is half empty\\n\\n> Wonyoung Thinking: I was going to drink water after practicing, but there\\'s\\n> only half a bottle left!! A full bottle would be too much and any less would\\n> be too little, so I thought it\\'d be nice to only have half 🤭 I\\'m such a\\n> lucky Vicky ☘️', metadata={'language': 'en-US', 'source': 'https://www.reddit.com/r/kpopthoughts/comments/1cioxdw/ive_wonyoung_and_her_viral_lucky_vicky_way_of/', 'title': 'Reddit - Dive into anything'}), Document(page_content=\"An example of her also showing this mindset was in her Spain vlog \\\\- fully on\\nYoutube here \\\\- when she was buying bread at a bakery:\\n\\n> I'm getting a fresh one! The person before me bought all the pain au\\n> chocolate there, so I get to buy the freshly baked one. I knew it - the\\n> goddess of fortune is on my side!\\n\\nHer way of thinking is even making its way into seminars and this was a recent\\npopular post! I just thought this was so wholesome and cute that her positive\\nway of thinking is going viral and wanted to share~ It's also inspiring to see\\nthat she's so positive and strong in general!\\n\\nRead more\\n\\n**Top 1%** Rank by size\\n\\n* &nbsp;\\n\\n* &nbsp;\\n\\n* * *\\n\\n* TOPICS\\n\\n* Internet Culture (Viral)\\n\\n  * Amazing\\n  * Animals & Pets\\n  * Cringe & Facepalm\\n  * Funny\\n  * Interesting\\n  * Memes\\n  * Oddly Satisfying\\n  * Reddit Meta\\n  * Wholesome & Heartwarming\\n\\n* Games\\n\\n  * Action Games\\n  * Adventure Games\\n  * Esports\\n  * Gaming Consoles & Gear\\n  * Gaming News & Discussion\\n  * Mobile Games\\n  * Other Games\\n  * Role-Playing Games\\n  * Simulation Games\\n  * Sports & Racing Games\\n  * Strategy Games\\n  * Tabletop Games\\n\\n* Q&As\\n\\n  * Q&As\\n  * Stories & Confessions\\n\\n* Technology\\n\\n  * 3D Printing\\n  * Artificial Intelligence & Machine Learning\\n  * Computers & Hardware\\n  * Consumer Electronics\\n  * DIY Electronics\\n  * Programming\\n  * Software & Apps\\n  * Streaming Services\\n  * Tech News & Discussion\\n  * Virtual & Augmented Reality\\n\\n* Pop Culture\", metadata={'language': 'en-US', 'source': 'https://www.reddit.com/r/kpopthoughts/comments/1cioxdw/ive_wonyoung_and_her_viral_lucky_vicky_way_of/', 'title': 'Reddit - Dive into anything'}), Document(page_content='* Pop Culture\\n\\n  * Celebrities\\n  * Creators & Influencers\\n  * Generations & Nostalgia\\n  * Podcasts\\n  * Streamers\\n  * Tarot & Astrology\\n\\n* Movies & TV\\n\\n  * Action Movies & Series\\n  * Animated Movies & Series\\n  * Comedy Movies & Series\\n  * Crime, Mystery, & Thriller Movies & Series\\n  * Documentary Movies & Series\\n  * Drama Movies & Series\\n  * Fantasy Movies & Series\\n  * Horror Movies & Series\\n  * Movie News & Discussion\\n  * Reality TV\\n  * Romance Movies & Series\\n  * Sci-Fi Movies & Series\\n  * Superhero Movies & Series\\n  * TV News & Discussion\\n\\n* * *\\n\\n* RESOURCES\\n\\n* About Reddit\\n* Advertise\\n* Help\\n* Blog\\n* Careers\\n* Press\\n\\n* * *\\n\\n* Communities\\n* Best of Reddit\\n* Topics\\n\\n* * *\\n\\n* Content Policy\\n* Privacy Policy\\n* User Agreement\\n\\nReddit, Inc. © 2024. All rights reserved.', metadata={'language': 'en-US', 'source': 'https://www.reddit.com/r/kpopthoughts/comments/1cioxdw/ive_wonyoung_and_her_viral_lucky_vicky_way_of/', 'title': 'Reddit - Dive into anything'}), Document(page_content='Something went wrong. Wait a moment and try again.\\n\\nTry again\\n\\nPlease enable Javascript and refresh the page to continue', metadata={'language': 'en', 'source': 'https://www.quora.com/Theres-another-way-to-say-youre-lucky-Thats-youre-jammy-I-used-it-with-one-of-my-British-friends-and-she-was-like-OMG-after-hearing-that-As-she-told-me-this-phrase-is-wrong-Is-that-so', 'title': \"There's another way to say you're lucky. That's you're jammy. I used it with one of my British friends and she was like OMG after hearing that. As she told me this phrase is wrong. Is that so? - Quora\"})], 'answer': '럭키비키는 아이즈원 출신으로 현재 솔로 가수로 활동 중인 장원영(Wonyoung)의 영어 이름입니다. 장원영은 자신의 긍정적인 사고방식을 표현하기 위해 \"럭키비키\"라는 닉네임을 사용하고 있습니다. 그녀는 일상 속에서 긍정적인 시각으로 상황을 바라보며, 자신을 행운을 가진 캐릭터인 \"럭키비키\"로 비유하고 있습니다.'}\n"
     ]
    }
   ],
   "source": [
    "question   = '럭키비키가 뭐야?'\n",
    "session_id = 'abc124'\n",
    "answer = pipeline.chat_generation(question, session_id)\n",
    "\n",
    "print(answer)"
   ]
  },
  {
   "cell_type": "code",
   "execution_count": 6,
   "metadata": {},
   "outputs": [
    {
     "name": "stdout",
     "output_type": "stream",
     "text": [
      "럭키비키는 아이즈원 출신으로 현재 솔로 가수로 활동 중인 장원영(Wonyoung)의 영어 이름입니다.\n",
      " 장원영은 자신의 긍정적인 사고방식을 표현하기 위해 \"럭키비키\"라는 닉네임을 사용하고 있습니다.\n",
      " 그녀는 일상 속에서 긍정적인 시각으로 상황을 바라보며, 자신을 행운을 가진 캐릭터인 \"럭키비키\"로 비유하고 있습니다.\n",
      ".\n",
      "근거:\n",
      "https://www.reddit.com/r/kpopthoughts/comments/1cioxdw/ive_wonyoung_and_her_viral_lucky_vicky_way_of/\n",
      "https://www.reddit.com/r/kpopthoughts/comments/1cioxdw/ive_wonyoung_and_her_viral_lucky_vicky_way_of/\n",
      "https://www.reddit.com/r/kpopthoughts/comments/1cioxdw/ive_wonyoung_and_her_viral_lucky_vicky_way_of/\n",
      "https://www.quora.com/Theres-another-way-to-say-youre-lucky-Thats-youre-jammy-I-used-it-with-one-of-my-British-friends-and-she-was-like-OMG-after-hearing-that-As-she-told-me-this-phrase-is-wrong-Is-that-so\n"
     ]
    }
   ],
   "source": [
    "for paragraph in answer['answer'].split('\\n'):\n",
    "    for sentence in paragraph.split('.'):\n",
    "        print(sentence +'.') # 문서 내용 표시\n",
    "    \n",
    "print('근거:')\n",
    "# 근거 추출\n",
    "for data in answer['context']:\n",
    "    print(data.metadata['source'])\n"
   ]
  },
  {
   "cell_type": "code",
   "execution_count": 7,
   "metadata": {},
   "outputs": [
    {
     "data": {
      "text/plain": [
       "'May 6, 2023 ... ... MINJI DAY 민지의 생일을 축하합니다 HAPPY BIRTHDAY TO MINJI #HAPPY_MINJI_DAY #NewJeans #MINJI #뉴진스 #민지\". May 9, 2024 ... 한눈에 보는 오늘 : 연예가 화제 - 뉴스 : [톱스타뉴스 이수현 기자]뉴진스(NewJeans) 민지가 생일 카페 후기로 팬들에게 웃음을 선사했다. ... 뉴진스(NewJeans) 민지(MINJI) 그림일기 . 유튜브 아이콘.svg. 2024년. 01.13 ... 2024년 생일에 20살이 되면 가장 하고 싶은 것이 \\'운전\\'이라고 밝혔다. 운전면허\\xa0... Apr 24, 2023 ... ... ✦BIRTHDAY TEE 상품 공개 2023. 04. 24. 11AM(KST) 판매 오픈 2023. 04. 25. 11AM(KST) @weverseshop #NewJeans #뉴진스 #민지 #MINJI. May 9, 2024 ... 뉴진스가 웃는게 웃는게 아니야…민지 생일위로·혜인 골절·다니엘 고백 [TEN이슈], 최지예 기자, 연예가화제 뉴스. Jun 24, 2024 ... NewJeans (@newjeans_official) 님의 TikTok. 2.5M. HAPPY\\xa0... May 7, 2023 ... HAPPY MINJI DAY 만큼 만큼 같이 보낼 수 있어서 기뻤던 민지 생일 #HAPPY_MINJI_DAY #NewJeans #MINJI #뉴진스 #민지. 뉴진스민지생일 |TikTok (틱톡) 에서 #뉴진스민지생일에 대한 최신 동영상을 시청하세요. May 7, 2024 ... 엔터톡 : 하니 좋아하긴 하는데 하니 왜케 귀엽냐ㅠㅋㅋㅋㅋㅋㅋ 해명 발음 못해서 해면 이러는 것도 그렇고 쫑알쫑알 거리는 게 너무 웃김 지금 민지\\xa0... Apr 26, 2024 ... 하이브 사옥 앞 정류장에 그룹 뉴진스 멤버 민지 생일 축하 광고가 설치되어 있다. 민지 생일은 오는 5월 7일이다. <강영국 기자>. 어도어 민희진 대표\\xa0...'"
      ]
     },
     "execution_count": 7,
     "metadata": {},
     "output_type": "execute_result"
    }
   ],
   "source": [
    "from langchain_community.utilities import GoogleSearchAPIWrapper\n",
    "from langchain_core.tools import Tool\n",
    "\n",
    "\n",
    "search = GoogleSearchAPIWrapper()\n",
    "\n",
    "search.run(\"뉴진스 민지 생일\")"
   ]
  },
  {
   "cell_type": "code",
   "execution_count": 8,
   "metadata": {},
   "outputs": [
    {
     "data": {
      "text/plain": [
       "'May 6, 2023 ... ... MINJI DAY 민지의 생일을 축하합니다 HAPPY BIRTHDAY TO MINJI #HAPPY_MINJI_DAY #NewJeans #MINJI #뉴진스 #민지\". May 9, 2024 ... 한눈에 보는 오늘 : 연예가 화제 - 뉴스 : [톱스타뉴스 이수현 기자]뉴진스(NewJeans) 민지가 생일 카페 후기로 팬들에게 웃음을 선사했다. ... 뉴진스(NewJeans) 민지(MINJI) 그림일기 . 유튜브 아이콘.svg. 2024년. 01.13 ... 2024년 생일에 20살이 되면 가장 하고 싶은 것이 \\'운전\\'이라고 밝혔다. 운전면허\\xa0... Apr 24, 2023 ... ... ✦BIRTHDAY TEE 상품 공개 2023. 04. 24. 11AM(KST) 판매 오픈 2023. 04. 25. 11AM(KST) @weverseshop #NewJeans #뉴진스 #민지 #MINJI. May 9, 2024 ... 뉴진스가 웃는게 웃는게 아니야…민지 생일위로·혜인 골절·다니엘 고백 [TEN이슈], 최지예 기자, 연예가화제 뉴스. Jun 24, 2024 ... NewJeans (@newjeans_official) 님의 TikTok. 2.5M. HAPPY\\xa0... May 7, 2023 ... HAPPY MINJI DAY 만큼 만큼 같이 보낼 수 있어서 기뻤던 민지 생일 #HAPPY_MINJI_DAY #NewJeans #MINJI #뉴진스 #민지. 뉴진스민지생일 |TikTok (틱톡) 에서 #뉴진스민지생일에 대한 최신 동영상을 시청하세요. May 7, 2024 ... 엔터톡 : 하니 좋아하긴 하는데 하니 왜케 귀엽냐ㅠㅋㅋㅋㅋㅋㅋ 해명 발음 못해서 해면 이러는 것도 그렇고 쫑알쫑알 거리는 게 너무 웃김 지금 민지\\xa0... Apr 26, 2024 ... 하이브 사옥 앞 정류장에 그룹 뉴진스 멤버 민지 생일 축하 광고가 설치되어 있다. 민지 생일은 오는 5월 7일이다. <강영국 기자>. 어도어 민희진 대표\\xa0...'"
      ]
     },
     "execution_count": 8,
     "metadata": {},
     "output_type": "execute_result"
    }
   ],
   "source": [
    "tool = Tool(\n",
    "    name=\"google_search\",\n",
    "    description=\"Search Google for recent results.\",\n",
    "    func=search.run,\n",
    ")\n",
    "\n",
    "tool.run(\"뉴진스 민지 생일\")"
   ]
  },
  {
   "cell_type": "code",
   "execution_count": null,
   "metadata": {},
   "outputs": [],
   "source": []
  }
 ],
 "metadata": {
  "kernelspec": {
   "display_name": "bigproject",
   "language": "python",
   "name": "python3"
  },
  "language_info": {
   "codemirror_mode": {
    "name": "ipython",
    "version": 3
   },
   "file_extension": ".py",
   "mimetype": "text/x-python",
   "name": "python",
   "nbconvert_exporter": "python",
   "pygments_lexer": "ipython3",
   "version": "3.11.9"
  }
 },
 "nbformat": 4,
 "nbformat_minor": 2
}
