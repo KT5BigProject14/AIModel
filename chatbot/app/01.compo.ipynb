{
 "cells": [
  {
   "cell_type": "code",
   "execution_count": 1,
   "metadata": {},
   "outputs": [
    {
     "name": "stdout",
     "output_type": "stream",
     "text": [
      "LangSmith 추적을 시작합니다.\n",
      "[프로젝트명]\n",
      "Big_Pro_01_compo\n"
     ]
    }
   ],
   "source": [
    "# LangSmith 추적을 설정합니다. https://smith.langchain.com\n",
    "# .env 파일에 LANGCHAIN_API_KEY를 입력합니다.\n",
    "# !pip install -qU langchain-teddynote\n",
    "from langchain_teddynote import logging\n",
    "\n",
    "# 프로젝트 이름을 입력합니다.\n",
    "logging.langsmith(\"Big_Pro_01_compo\")"
   ]
  },
  {
   "cell_type": "code",
   "execution_count": 2,
   "metadata": {},
   "outputs": [
    {
     "name": "stderr",
     "output_type": "stream",
     "text": [
      "USER_AGENT environment variable not set, consider setting it to identify your requests.\n"
     ]
    }
   ],
   "source": [
    "# import os \n",
    "# from langchain_teddynote.messages import stream_response\n",
    "\n",
    "from RAGPipeLine import Ragpipeline"
   ]
  },
  {
   "cell_type": "code",
   "execution_count": 3,
   "metadata": {},
   "outputs": [
    {
     "name": "stdout",
     "output_type": "stream",
     "text": [
      "[초기화] vector_store 초기화 완료\n",
      "[초기화] retriever 초기화 완료\n",
      "[초기화] RAG chain 초기화 완료\n"
     ]
    },
    {
     "name": "stderr",
     "output_type": "stream",
     "text": [
      "c:\\Users\\kim_h\\anaconda3\\envs\\bigproject\\Lib\\site-packages\\langchain_core\\_api\\deprecation.py:139: LangChainDeprecationWarning: The class `GoogleSearchAPIWrapper` was deprecated in LangChain 0.0.33 and will be removed in 0.3.0. An updated version of the class exists in the langchain-google-community package and should be used instead. To use it run `pip install -U langchain-google-community` and import as `from langchain_google_community import GoogleSearchAPIWrapper`.\n",
      "  warn_deprecated(\n"
     ]
    },
    {
     "name": "stdout",
     "output_type": "stream",
     "text": [
      "[초기화] RAG title chain 초기화 완료\n",
      "[초기화] RAG post chain 초기화 완료\n"
     ]
    }
   ],
   "source": [
    "pipeline = Ragpipeline()"
   ]
  },
  {
   "cell_type": "markdown",
   "metadata": {},
   "source": [
    "### 1.1 확인해보기 - DB 접근 및 질문에 대한 유사도 확인 "
   ]
  },
  {
   "cell_type": "code",
   "execution_count": 4,
   "metadata": {},
   "outputs": [
    {
     "name": "stdout",
     "output_type": "stream",
     "text": [
      "[초기화] vector_store 초기화 완료\n"
     ]
    }
   ],
   "source": [
    "vectorDB = pipeline.init_vectorDB()\n",
    "\n",
    "# 특정 데이터베이스에 접근하고 싶을때\n",
    "# persist_dir = \"./database\"        \n",
    "# vectorDB = pipeline.init_vectorDB(persist_dir)        "
   ]
  },
  {
   "cell_type": "code",
   "execution_count": 5,
   "metadata": {},
   "outputs": [
    {
     "name": "stdout",
     "output_type": "stream",
     "text": [
      "[초기화] retriever 초기화 완료\n"
     ]
    }
   ],
   "source": [
    "retriever = pipeline.init_retriever()"
   ]
  },
  {
   "cell_type": "code",
   "execution_count": 6,
   "metadata": {},
   "outputs": [
    {
     "name": "stderr",
     "output_type": "stream",
     "text": [
      "c:\\Users\\kim_h\\anaconda3\\envs\\bigproject\\Lib\\site-packages\\langchain_core\\_api\\deprecation.py:139: LangChainDeprecationWarning: The method `BaseRetriever.get_relevant_documents` was deprecated in langchain-core 0.1.46 and will be removed in 0.3.0. Use invoke instead.\n",
      "  warn_deprecated(\n"
     ]
    },
    {
     "data": {
      "text/plain": [
       "[Document(metadata={'category': '3. 정책 및 무역', 'datetimes': '2024-07-08 16:42:32', 'filename': 'data/PDF_with_contents/3. 정책 및 무역/[정책][관세청][2019.11.07]신남방국 통관·통상환경 및 FTA 활용방안.pdf', 'page_no': 9, 'subcategory': '1. 통관 조직 및 절차'}, page_content='제Ⅲ절\\n인도의 통관 절차\\n01\\n통관 조직 및 절차\\n'),\n",
       " Document(metadata={'category': '3. 정책 및 무역', 'datetimes': '2024-07-08 16:41:51', 'filename': 'data/PDF_with_contents/3. 정책 및 무역/[정책][KATI 농식품수출정보][2019]인도 전문 식품수입.pdf', 'page_no': 21, 'subcategory': '다. 통관 및 검역 유의사항'}, page_content='인도 전문 식품수입 벤더현황\\n다. 통관 및 검역 유의사항\\n(1) 인도 통관, 사전 준비가 관건\\n▪\\n인도의 통관은 수입 통관 및 검역을 위한 사전 준비 절차가 중요함\\n▪\\n통관에 필요한 서류를 제출하면 서류의 기재 오류나 서류 상호간 불일치를\\n수정하기가 매우 어려우며 이로 인해 통관 절차가 2~3주씩 지연되는 경우도\\n있어 철저한 서류 작성이 필수적임\\n▪\\n또한 인도로 수출하는 물품의 경우 포장명세서(P/L)와 상업송장(C/I)을\\n컨테이너별로 철저히 작성해야 함. 인도 세관은 한 컨테이너 안에서 박스별로\\n화물의 일치 여부를 조사하는 등 실물 검사가 철저하며 서류와 화물 불일치\\n시 통관이 불가능함\\n▪\\n특히 인도는 도로와 항만 등 인프라가 낙후되어 있고 운송수단도 노후하기\\n때문에 내륙운송 과정에서 사고가 자주 발생하므로 내륙운송보험에 가입해야\\n함\\n43\\n'),\n",
       " Document(metadata={'chunk': 0, 'filename': 'data/PDF_without_contents\\\\3. 정책 및 무역\\\\[정책][제약산업정보포털][2019.04.08]인도 통관 및 운송.pdf', 'keyword': '키워드: 통관제도, 통관 유형별 절차, 인도, 통관 소요 시간, 행정상 운송, 항공 운송, 수입신고, 인도 관세청, Appraiser Section, Audit Section.'}, page_content='5 통관 및 운송\\n가 통관제도\\n통관 유형별 절차\\n1 정식통관\\n인도에서 일반적인 경우 통관에 소요되는 시간은 행정상 운송 수입의 경우 34 근무일 항공 운송은 약 12 근무일이 소요된다 일단 물\\n품이 입항하게 되면 보세구역장치에 적하되고 이후 전자데이터 교환EDI 신고 또는 수작업신고 통해 수입신고를 하게 된다 이후 인도\\n관세청의 수입요건 관세 평가 등을 검사하는 Appraiser Section과 관련 서류 및 관세율을 재점검하는 Audit Section 과정을 거치게 되'),\n",
       " Document(metadata={'category': '3. 정책 및 무역', 'datetimes': '2024-07-08 16:42:32', 'filename': 'data/PDF_with_contents/3. 정책 및 무역/[정책][관세청][2019.11.07]신남방국 통관·통상환경 및 FTA 활용방안.pdf', 'page_no': 11, 'subcategory': '3. 인도의 주요 인증 제도'}, page_content='제Ⅲ절\\n인도의 통관 절차\\n03\\n인도의\\n주요 인증 제도\\n'),\n",
       " Document(metadata={'chunk': 554, 'filename': 'data/PDF_without_contents\\\\2. 경제 및 시장 분석\\\\[전체 정보][KOTRA 해외경제정보 Dream][2023]인도.pdf', 'keyword': '키워드: 인도, 교통, 도로, 열악, 고속도로 공사, 현대화, 교통혼잡, 출퇴근 시간, 순환도로, 우회로, 국제면허증, 자가운전, 자동차.'}, page_content='외의 농촌 지역의 경우 카드 결제가 되지 않는 경우가 많다\\n나 교통\\n교통상황\\n인도의 도로는 포장상태가 대체로 열악하나 최근 대규모 고속도로 공사를 통해 현대화 되고 있다 특히 출퇴근 시간에는 교통혼잡이 심한\\n편이다 순환도로나 우회로가 충분히 갖추어져 있지 않기 때문에 중요한 일정의 경우 예정시간보다 30분에서 1시간 가량 미리 출발하는\\n것이 좋다 인도는 한국과 운전면허와 관련된 조약이 체결되어 있기 때문에 국제면허증을 가지고 자가운전을 할 수가 있다 하지만 자동차')]"
      ]
     },
     "execution_count": 6,
     "metadata": {},
     "output_type": "execute_result"
    }
   ],
   "source": [
    "query = '인도 통관 및 운송'\n",
    "\n",
    "docs = retriever.get_relevant_documents(query)\n",
    "\n",
    "docs"
   ]
  },
  {
   "cell_type": "code",
   "execution_count": 7,
   "metadata": {},
   "outputs": [
    {
     "name": "stdout",
     "output_type": "stream",
     "text": [
      "--------------------------------------------------\n",
      "\n",
      "문서 내용: 제Ⅲ절\n",
      "인도의 통관 절차\n",
      "01\n",
      "통관 조직 및 절차\n",
      "\n",
      "출처 : {'category': '3. 정책 및 무역', 'datetimes': '2024-07-08 16:42:32', 'filename': 'data/PDF_with_contents/3. 정책 및 무역/[정책][관세청][2019.11.07]신남방국 통관·통상환경 및 FTA 활용방안.pdf', 'page_no': 9, 'subcategory': '1. 통관 조직 및 절차'}\n",
      "------------------------------------------------------------------------------------------------------------------------------------------------------\n",
      "\n",
      "\n",
      "문서 내용: 인도 전문 식품수입 벤더현황\n",
      "다. 통관 및 검역 유의사항\n",
      "(1) 인도 통관, 사전 준비가 관건\n",
      "▪\n",
      "인도의 통관은 수입 통관 및 검역을 위한 사전 준비 절차가 중요함\n",
      "▪\n",
      "통관에 필요한 서류를 제출하면 서류의 기재 오류나 서류 상호간 불일치를\n",
      "수정하기가 매우 어려우며 이로 인해 통관 절차가 2~3주씩 지연되는 경우도\n",
      "있어 철저한 서류 작성이 필수적임\n",
      "▪\n",
      "또한 인도로 수출하는 물품의 경우 포장명세서(P/L)와 상업송장(C/I)을\n",
      "컨테이너별로 철저히 작성해야 함. 인도 세관은 한 컨테이너 안에서 박스별로\n",
      "화물의 일치 여부를 조사하는 등 실물 검사가 철저하며 서류와 화물 불일치\n",
      "시 통관이 불가능함\n",
      "▪\n",
      "특히 인도는 도로와 항만 등 인프라가 낙후되어 있고 운송수단도 노후하기\n",
      "때문에 내륙운송 과정에서 사고가 자주 발생하므로 내륙운송보험에 가입해야\n",
      "함\n",
      "43\n",
      "\n",
      "출처 : {'category': '3. 정책 및 무역', 'datetimes': '2024-07-08 16:41:51', 'filename': 'data/PDF_with_contents/3. 정책 및 무역/[정책][KATI 농식품수출정보][2019]인도 전문 식품수입.pdf', 'page_no': 21, 'subcategory': '다. 통관 및 검역 유의사항'}\n",
      "------------------------------------------------------------------------------------------------------------------------------------------------------\n",
      "\n",
      "\n",
      "문서 내용: 5 통관 및 운송\n",
      "가 통관제도\n",
      "통관 유형별 절차\n",
      "1 정식통관\n",
      "인도에서 일반적인 경우 통관에 소요되는 시간은 행정상 운송 수입의 경우 34 근무일 항공 운송은 약 12 근무일이 소요된다 일단 물\n",
      "품이 입항하게 되면 보세구역장치에 적하되고 이후 전자데이터 교환EDI 신고 또는 수작업신고 통해 수입신고를 하게 된다 이후 인도\n",
      "관세청의 수입요건 관세 평가 등을 검사하는 Appraiser Section과 관련 서류 및 관세율을 재점검하는 Audit Section 과정을 거치게 되\n",
      "출처 : {'chunk': 0, 'filename': 'data/PDF_without_contents\\\\3. 정책 및 무역\\\\[정책][제약산업정보포털][2019.04.08]인도 통관 및 운송.pdf', 'keyword': '키워드: 통관제도, 통관 유형별 절차, 인도, 통관 소요 시간, 행정상 운송, 항공 운송, 수입신고, 인도 관세청, Appraiser Section, Audit Section.'}\n",
      "------------------------------------------------------------------------------------------------------------------------------------------------------\n",
      "\n"
     ]
    }
   ],
   "source": [
    "# 문서 조회1\n",
    "query = '인도 통관 및 운송'   # 질문할 문장\n",
    "k = 3                      # 유사도 상위 k 개 문서 가져오기.\n",
    "\n",
    "result = vectorDB.similarity_search(query, k = k) #← 데이터베이스에서 유사도가 높은 문서를 가져옴\n",
    "\n",
    "print('-'*50)\n",
    "for doc in result:\n",
    "    print()\n",
    "    print(f\"문서 내용: {doc.page_content}\") # 문서 내용 표시\n",
    "    print(f\"출처 : {doc.metadata}\")\n",
    "    print('---'*50)\n",
    "    print()"
   ]
  },
  {
   "cell_type": "code",
   "execution_count": 8,
   "metadata": {},
   "outputs": [
    {
     "name": "stdout",
     "output_type": "stream",
     "text": [
      "[(Document(metadata={'category': '3. 정책 및 무역', 'datetimes': '2024-07-08 16:42:32', 'filename': 'data/PDF_with_contents/3. 정책 및 무역/[정책][관세청][2019.11.07]신남방국 통관·통상환경 및 FTA 활용방안.pdf', 'page_no': 9, 'subcategory': '1. 통관 조직 및 절차'}, page_content='제Ⅲ절\\n인도의 통관 절차\\n01\\n통관 조직 및 절차\\n'), 0.2665858350778604), (Document(metadata={'category': '3. 정책 및 무역', 'datetimes': '2024-07-08 16:41:51', 'filename': 'data/PDF_with_contents/3. 정책 및 무역/[정책][KATI 농식품수출정보][2019]인도 전문 식품수입.pdf', 'page_no': 21, 'subcategory': '다. 통관 및 검역 유의사항'}, page_content='인도 전문 식품수입 벤더현황\\n다. 통관 및 검역 유의사항\\n(1) 인도 통관, 사전 준비가 관건\\n▪\\n인도의 통관은 수입 통관 및 검역을 위한 사전 준비 절차가 중요함\\n▪\\n통관에 필요한 서류를 제출하면 서류의 기재 오류나 서류 상호간 불일치를\\n수정하기가 매우 어려우며 이로 인해 통관 절차가 2~3주씩 지연되는 경우도\\n있어 철저한 서류 작성이 필수적임\\n▪\\n또한 인도로 수출하는 물품의 경우 포장명세서(P/L)와 상업송장(C/I)을\\n컨테이너별로 철저히 작성해야 함. 인도 세관은 한 컨테이너 안에서 박스별로\\n화물의 일치 여부를 조사하는 등 실물 검사가 철저하며 서류와 화물 불일치\\n시 통관이 불가능함\\n▪\\n특히 인도는 도로와 항만 등 인프라가 낙후되어 있고 운송수단도 노후하기\\n때문에 내륙운송 과정에서 사고가 자주 발생하므로 내륙운송보험에 가입해야\\n함\\n43\\n'), 0.2764557626001448), (Document(metadata={'chunk': 0, 'filename': 'data/PDF_without_contents\\\\3. 정책 및 무역\\\\[정책][제약산업정보포털][2019.04.08]인도 통관 및 운송.pdf', 'keyword': '키워드: 통관제도, 통관 유형별 절차, 인도, 통관 소요 시간, 행정상 운송, 항공 운송, 수입신고, 인도 관세청, Appraiser Section, Audit Section.'}, page_content='5 통관 및 운송\\n가 통관제도\\n통관 유형별 절차\\n1 정식통관\\n인도에서 일반적인 경우 통관에 소요되는 시간은 행정상 운송 수입의 경우 34 근무일 항공 운송은 약 12 근무일이 소요된다 일단 물\\n품이 입항하게 되면 보세구역장치에 적하되고 이후 전자데이터 교환EDI 신고 또는 수작업신고 통해 수입신고를 하게 된다 이후 인도\\n관세청의 수입요건 관세 평가 등을 검사하는 Appraiser Section과 관련 서류 및 관세율을 재점검하는 Audit Section 과정을 거치게 되'), 0.2805172801017761)]\n",
      "------------------------------------------------------------------------------------------------------------------------------------------------------\n",
      "\n",
      "문서 내용: 제Ⅲ절\n",
      "인도의 통관 절차\n",
      "01\n",
      "통관 조직 및 절차\n",
      "\n",
      "출처 : {'category': '3. 정책 및 무역', 'datetimes': '2024-07-08 16:42:32', 'filename': 'data/PDF_with_contents/3. 정책 및 무역/[정책][관세청][2019.11.07]신남방국 통관·통상환경 및 FTA 활용방안.pdf', 'page_no': 9, 'subcategory': '1. 통관 조직 및 절차'}\n",
      "유사도 : 0.2665858350778604\n",
      "------------------------------------------------------------------------------------------------------------------------------------------------------\n",
      "\n",
      "\n",
      "문서 내용: 인도 전문 식품수입 벤더현황\n",
      "다. 통관 및 검역 유의사항\n",
      "(1) 인도 통관, 사전 준비가 관건\n",
      "▪\n",
      "인도의 통관은 수입 통관 및 검역을 위한 사전 준비 절차가 중요함\n",
      "▪\n",
      "통관에 필요한 서류를 제출하면 서류의 기재 오류나 서류 상호간 불일치를\n",
      "수정하기가 매우 어려우며 이로 인해 통관 절차가 2~3주씩 지연되는 경우도\n",
      "있어 철저한 서류 작성이 필수적임\n",
      "▪\n",
      "또한 인도로 수출하는 물품의 경우 포장명세서(P/L)와 상업송장(C/I)을\n",
      "컨테이너별로 철저히 작성해야 함. 인도 세관은 한 컨테이너 안에서 박스별로\n",
      "화물의 일치 여부를 조사하는 등 실물 검사가 철저하며 서류와 화물 불일치\n",
      "시 통관이 불가능함\n",
      "▪\n",
      "특히 인도는 도로와 항만 등 인프라가 낙후되어 있고 운송수단도 노후하기\n",
      "때문에 내륙운송 과정에서 사고가 자주 발생하므로 내륙운송보험에 가입해야\n",
      "함\n",
      "43\n",
      "\n",
      "출처 : {'category': '3. 정책 및 무역', 'datetimes': '2024-07-08 16:41:51', 'filename': 'data/PDF_with_contents/3. 정책 및 무역/[정책][KATI 농식품수출정보][2019]인도 전문 식품수입.pdf', 'page_no': 21, 'subcategory': '다. 통관 및 검역 유의사항'}\n",
      "유사도 : 0.2764557626001448\n",
      "------------------------------------------------------------------------------------------------------------------------------------------------------\n",
      "\n",
      "\n",
      "문서 내용: 5 통관 및 운송\n",
      "가 통관제도\n",
      "통관 유형별 절차\n",
      "1 정식통관\n",
      "인도에서 일반적인 경우 통관에 소요되는 시간은 행정상 운송 수입의 경우 34 근무일 항공 운송은 약 12 근무일이 소요된다 일단 물\n",
      "품이 입항하게 되면 보세구역장치에 적하되고 이후 전자데이터 교환EDI 신고 또는 수작업신고 통해 수입신고를 하게 된다 이후 인도\n",
      "관세청의 수입요건 관세 평가 등을 검사하는 Appraiser Section과 관련 서류 및 관세율을 재점검하는 Audit Section 과정을 거치게 되\n",
      "출처 : {'chunk': 0, 'filename': 'data/PDF_without_contents\\\\3. 정책 및 무역\\\\[정책][제약산업정보포털][2019.04.08]인도 통관 및 운송.pdf', 'keyword': '키워드: 통관제도, 통관 유형별 절차, 인도, 통관 소요 시간, 행정상 운송, 항공 운송, 수입신고, 인도 관세청, Appraiser Section, Audit Section.'}\n",
      "유사도 : 0.2805172801017761\n",
      "------------------------------------------------------------------------------------------------------------------------------------------------------\n",
      "\n"
     ]
    }
   ],
   "source": [
    "# 문서 조회1\n",
    "query = '인도 통관 및 운송'   # 질문할 문장\n",
    "k = 3                      # 유사도 상위 k 개 문서 가져오기.\n",
    "\n",
    "result = vectorDB.similarity_search_with_score(query, k = k) #← 데이터베이스에서 유사도가 높은 문서를 가져옴\n",
    "print(result)\n",
    "print('---'*50)\n",
    "for doc in result:\n",
    "    print()\n",
    "    print(f\"문서 내용: {doc[0].page_content}\") # 문서 내용 표시\n",
    "    print(f\"출처 : {doc[0].metadata}\")\n",
    "    print(f\"유사도 : {doc[1]}\")\n",
    "    print('---'*50)\n",
    "    print()"
   ]
  },
  {
   "cell_type": "code",
   "execution_count": 9,
   "metadata": {},
   "outputs": [
    {
     "data": {
      "text/plain": [
       "0.2764713971410518"
      ]
     },
     "execution_count": 9,
     "metadata": {},
     "output_type": "execute_result"
    }
   ],
   "source": [
    "question = \"인도 통관 및 운송에 대해서 알려줘.\"\n",
    "\n",
    "results = vectorDB.similarity_search_with_score(question, k=1)\n",
    "\n",
    "results[0][1]"
   ]
  },
  {
   "cell_type": "code",
   "execution_count": 10,
   "metadata": {},
   "outputs": [
    {
     "data": {
      "text/plain": [
       "0.42325419187545776"
      ]
     },
     "execution_count": 10,
     "metadata": {},
     "output_type": "execute_result"
    }
   ],
   "source": [
    "question = \"럭키비키가 무엇인지 알려줘.\"\n",
    "\n",
    "results = vectorDB.similarity_search_with_score(question, k=3)\n",
    "\n",
    "results[0][1]"
   ]
  },
  {
   "cell_type": "markdown",
   "metadata": {},
   "source": [
    "## 1. 채팅 생성"
   ]
  },
  {
   "cell_type": "code",
   "execution_count": 11,
   "metadata": {},
   "outputs": [
    {
     "name": "stdout",
     "output_type": "stream",
     "text": [
      "0.2764713971410518\n",
      "[히스토리 생성] 새로운 히스토리를 생성합니다. 세션 ID: None, 유저: None\n"
     ]
    },
    {
     "ename": "BadRequestError",
     "evalue": "Error code: 400 - {'error': {'message': \"This model's maximum context length is 16385 tokens. However, your messages resulted in 22174 tokens. Please reduce the length of the messages.\", 'type': 'invalid_request_error', 'param': 'messages', 'code': 'context_length_exceeded'}}",
     "output_type": "error",
     "traceback": [
      "\u001b[1;31m---------------------------------------------------------------------------\u001b[0m",
      "\u001b[1;31mBadRequestError\u001b[0m                           Traceback (most recent call last)",
      "Cell \u001b[1;32mIn[11], line 2\u001b[0m\n\u001b[0;32m      1\u001b[0m question   \u001b[38;5;241m=\u001b[39m \u001b[38;5;124m'\u001b[39m\u001b[38;5;124m인도 통관 및 운송에 대해서 알려줘.\u001b[39m\u001b[38;5;124m'\u001b[39m\n\u001b[1;32m----> 2\u001b[0m answer \u001b[38;5;241m=\u001b[39m \u001b[43mpipeline\u001b[49m\u001b[38;5;241;43m.\u001b[39;49m\u001b[43mchat_generation\u001b[49m\u001b[43m(\u001b[49m\u001b[43mquestion\u001b[49m\u001b[43m)\u001b[49m\n\u001b[0;32m      4\u001b[0m \u001b[38;5;28mprint\u001b[39m(answer)\n",
      "File \u001b[1;32mc:\\KT\\0710\\AIModel\\chatbot\\app\\RAGPipeLine.py:204\u001b[0m, in \u001b[0;36mRagpipeline.chat_generation\u001b[1;34m(self, question)\u001b[0m\n\u001b[0;32m    194\u001b[0m     final_chain \u001b[38;5;241m=\u001b[39m \u001b[38;5;28mself\u001b[39m\u001b[38;5;241m.\u001b[39mchain\n\u001b[0;32m    196\u001b[0m conversational_rag_chain \u001b[38;5;241m=\u001b[39m RunnableWithMessageHistory(\n\u001b[0;32m    197\u001b[0m         final_chain,\n\u001b[0;32m    198\u001b[0m         get_session_history,\n\u001b[1;32m   (...)\u001b[0m\n\u001b[0;32m    201\u001b[0m         output_messages_key\u001b[38;5;241m=\u001b[39m\u001b[38;5;124m\"\u001b[39m\u001b[38;5;124manswer\u001b[39m\u001b[38;5;124m\"\u001b[39m\n\u001b[0;32m    202\u001b[0m     )\n\u001b[1;32m--> 204\u001b[0m response \u001b[38;5;241m=\u001b[39m \u001b[43mconversational_rag_chain\u001b[49m\u001b[38;5;241;43m.\u001b[39;49m\u001b[43minvoke\u001b[49m\u001b[43m(\u001b[49m\n\u001b[0;32m    205\u001b[0m \u001b[43m    \u001b[49m\u001b[43m{\u001b[49m\u001b[38;5;124;43m\"\u001b[39;49m\u001b[38;5;124;43minput\u001b[39;49m\u001b[38;5;124;43m\"\u001b[39;49m\u001b[43m:\u001b[49m\u001b[43m \u001b[49m\u001b[43mquestion\u001b[49m\u001b[43m}\u001b[49m\u001b[43m,\u001b[49m\n\u001b[0;32m    206\u001b[0m \u001b[43m    \u001b[49m\u001b[43mconfig\u001b[49m\u001b[38;5;241;43m=\u001b[39;49m\u001b[43m{\u001b[49m\u001b[38;5;124;43m\"\u001b[39;49m\u001b[38;5;124;43mconfigurable\u001b[39;49m\u001b[38;5;124;43m\"\u001b[39;49m\u001b[43m:\u001b[49m\u001b[43m \u001b[49m\u001b[43m{\u001b[49m\u001b[38;5;124;43m\"\u001b[39;49m\u001b[38;5;124;43msession_id\u001b[39;49m\u001b[38;5;124;43m\"\u001b[39;49m\u001b[43m:\u001b[49m\u001b[43m \u001b[49m\u001b[38;5;28;43mself\u001b[39;49m\u001b[38;5;241;43m.\u001b[39;49m\u001b[43mcurrent_session_id\u001b[49m\u001b[43m}\u001b[49m\u001b[43m}\u001b[49m\n\u001b[0;32m    207\u001b[0m \u001b[43m\u001b[49m\u001b[43m)\u001b[49m\n\u001b[0;32m    209\u001b[0m \u001b[38;5;66;03m# Redis에 세션 히스토리 저장\u001b[39;00m\n\u001b[0;32m    210\u001b[0m save_message_to_redis(\u001b[38;5;28mself\u001b[39m\u001b[38;5;241m.\u001b[39mcurrent_user_email,\n\u001b[0;32m    211\u001b[0m                       \u001b[38;5;28mself\u001b[39m\u001b[38;5;241m.\u001b[39mcurrent_session_id, question)\n",
      "File \u001b[1;32mc:\\Users\\kim_h\\anaconda3\\envs\\bigproject\\Lib\\site-packages\\langchain_core\\runnables\\base.py:4580\u001b[0m, in \u001b[0;36mRunnableBindingBase.invoke\u001b[1;34m(self, input, config, **kwargs)\u001b[0m\n\u001b[0;32m   4574\u001b[0m \u001b[38;5;28;01mdef\u001b[39;00m \u001b[38;5;21minvoke\u001b[39m(\n\u001b[0;32m   4575\u001b[0m     \u001b[38;5;28mself\u001b[39m,\n\u001b[0;32m   4576\u001b[0m     \u001b[38;5;28minput\u001b[39m: Input,\n\u001b[0;32m   4577\u001b[0m     config: Optional[RunnableConfig] \u001b[38;5;241m=\u001b[39m \u001b[38;5;28;01mNone\u001b[39;00m,\n\u001b[0;32m   4578\u001b[0m     \u001b[38;5;241m*\u001b[39m\u001b[38;5;241m*\u001b[39mkwargs: Optional[Any],\n\u001b[0;32m   4579\u001b[0m ) \u001b[38;5;241m-\u001b[39m\u001b[38;5;241m>\u001b[39m Output:\n\u001b[1;32m-> 4580\u001b[0m     \u001b[38;5;28;01mreturn\u001b[39;00m \u001b[38;5;28;43mself\u001b[39;49m\u001b[38;5;241;43m.\u001b[39;49m\u001b[43mbound\u001b[49m\u001b[38;5;241;43m.\u001b[39;49m\u001b[43minvoke\u001b[49m\u001b[43m(\u001b[49m\n\u001b[0;32m   4581\u001b[0m \u001b[43m        \u001b[49m\u001b[38;5;28;43minput\u001b[39;49m\u001b[43m,\u001b[49m\n\u001b[0;32m   4582\u001b[0m \u001b[43m        \u001b[49m\u001b[38;5;28;43mself\u001b[39;49m\u001b[38;5;241;43m.\u001b[39;49m\u001b[43m_merge_configs\u001b[49m\u001b[43m(\u001b[49m\u001b[43mconfig\u001b[49m\u001b[43m)\u001b[49m\u001b[43m,\u001b[49m\n\u001b[0;32m   4583\u001b[0m \u001b[43m        \u001b[49m\u001b[38;5;241;43m*\u001b[39;49m\u001b[38;5;241;43m*\u001b[39;49m\u001b[43m{\u001b[49m\u001b[38;5;241;43m*\u001b[39;49m\u001b[38;5;241;43m*\u001b[39;49m\u001b[38;5;28;43mself\u001b[39;49m\u001b[38;5;241;43m.\u001b[39;49m\u001b[43mkwargs\u001b[49m\u001b[43m,\u001b[49m\u001b[43m \u001b[49m\u001b[38;5;241;43m*\u001b[39;49m\u001b[38;5;241;43m*\u001b[39;49m\u001b[43mkwargs\u001b[49m\u001b[43m}\u001b[49m\u001b[43m,\u001b[49m\n\u001b[0;32m   4584\u001b[0m \u001b[43m    \u001b[49m\u001b[43m)\u001b[49m\n",
      "File \u001b[1;32mc:\\Users\\kim_h\\anaconda3\\envs\\bigproject\\Lib\\site-packages\\langchain_core\\runnables\\base.py:4580\u001b[0m, in \u001b[0;36mRunnableBindingBase.invoke\u001b[1;34m(self, input, config, **kwargs)\u001b[0m\n\u001b[0;32m   4574\u001b[0m \u001b[38;5;28;01mdef\u001b[39;00m \u001b[38;5;21minvoke\u001b[39m(\n\u001b[0;32m   4575\u001b[0m     \u001b[38;5;28mself\u001b[39m,\n\u001b[0;32m   4576\u001b[0m     \u001b[38;5;28minput\u001b[39m: Input,\n\u001b[0;32m   4577\u001b[0m     config: Optional[RunnableConfig] \u001b[38;5;241m=\u001b[39m \u001b[38;5;28;01mNone\u001b[39;00m,\n\u001b[0;32m   4578\u001b[0m     \u001b[38;5;241m*\u001b[39m\u001b[38;5;241m*\u001b[39mkwargs: Optional[Any],\n\u001b[0;32m   4579\u001b[0m ) \u001b[38;5;241m-\u001b[39m\u001b[38;5;241m>\u001b[39m Output:\n\u001b[1;32m-> 4580\u001b[0m     \u001b[38;5;28;01mreturn\u001b[39;00m \u001b[38;5;28;43mself\u001b[39;49m\u001b[38;5;241;43m.\u001b[39;49m\u001b[43mbound\u001b[49m\u001b[38;5;241;43m.\u001b[39;49m\u001b[43minvoke\u001b[49m\u001b[43m(\u001b[49m\n\u001b[0;32m   4581\u001b[0m \u001b[43m        \u001b[49m\u001b[38;5;28;43minput\u001b[39;49m\u001b[43m,\u001b[49m\n\u001b[0;32m   4582\u001b[0m \u001b[43m        \u001b[49m\u001b[38;5;28;43mself\u001b[39;49m\u001b[38;5;241;43m.\u001b[39;49m\u001b[43m_merge_configs\u001b[49m\u001b[43m(\u001b[49m\u001b[43mconfig\u001b[49m\u001b[43m)\u001b[49m\u001b[43m,\u001b[49m\n\u001b[0;32m   4583\u001b[0m \u001b[43m        \u001b[49m\u001b[38;5;241;43m*\u001b[39;49m\u001b[38;5;241;43m*\u001b[39;49m\u001b[43m{\u001b[49m\u001b[38;5;241;43m*\u001b[39;49m\u001b[38;5;241;43m*\u001b[39;49m\u001b[38;5;28;43mself\u001b[39;49m\u001b[38;5;241;43m.\u001b[39;49m\u001b[43mkwargs\u001b[49m\u001b[43m,\u001b[49m\u001b[43m \u001b[49m\u001b[38;5;241;43m*\u001b[39;49m\u001b[38;5;241;43m*\u001b[39;49m\u001b[43mkwargs\u001b[49m\u001b[43m}\u001b[49m\u001b[43m,\u001b[49m\n\u001b[0;32m   4584\u001b[0m \u001b[43m    \u001b[49m\u001b[43m)\u001b[49m\n",
      "File \u001b[1;32mc:\\Users\\kim_h\\anaconda3\\envs\\bigproject\\Lib\\site-packages\\langchain_core\\runnables\\base.py:2499\u001b[0m, in \u001b[0;36mRunnableSequence.invoke\u001b[1;34m(self, input, config, **kwargs)\u001b[0m\n\u001b[0;32m   2497\u001b[0m             \u001b[38;5;28minput\u001b[39m \u001b[38;5;241m=\u001b[39m step\u001b[38;5;241m.\u001b[39minvoke(\u001b[38;5;28minput\u001b[39m, config, \u001b[38;5;241m*\u001b[39m\u001b[38;5;241m*\u001b[39mkwargs)\n\u001b[0;32m   2498\u001b[0m         \u001b[38;5;28;01melse\u001b[39;00m:\n\u001b[1;32m-> 2499\u001b[0m             \u001b[38;5;28minput\u001b[39m \u001b[38;5;241m=\u001b[39m \u001b[43mstep\u001b[49m\u001b[38;5;241;43m.\u001b[39;49m\u001b[43minvoke\u001b[49m\u001b[43m(\u001b[49m\u001b[38;5;28;43minput\u001b[39;49m\u001b[43m,\u001b[49m\u001b[43m \u001b[49m\u001b[43mconfig\u001b[49m\u001b[43m)\u001b[49m\n\u001b[0;32m   2500\u001b[0m \u001b[38;5;66;03m# finish the root run\u001b[39;00m\n\u001b[0;32m   2501\u001b[0m \u001b[38;5;28;01mexcept\u001b[39;00m \u001b[38;5;167;01mBaseException\u001b[39;00m \u001b[38;5;28;01mas\u001b[39;00m e:\n",
      "File \u001b[1;32mc:\\Users\\kim_h\\anaconda3\\envs\\bigproject\\Lib\\site-packages\\langchain_core\\runnables\\branch.py:212\u001b[0m, in \u001b[0;36mRunnableBranch.invoke\u001b[1;34m(self, input, config, **kwargs)\u001b[0m\n\u001b[0;32m    210\u001b[0m             \u001b[38;5;28;01mbreak\u001b[39;00m\n\u001b[0;32m    211\u001b[0m     \u001b[38;5;28;01melse\u001b[39;00m:\n\u001b[1;32m--> 212\u001b[0m         output \u001b[38;5;241m=\u001b[39m \u001b[38;5;28;43mself\u001b[39;49m\u001b[38;5;241;43m.\u001b[39;49m\u001b[43mdefault\u001b[49m\u001b[38;5;241;43m.\u001b[39;49m\u001b[43minvoke\u001b[49m\u001b[43m(\u001b[49m\n\u001b[0;32m    213\u001b[0m \u001b[43m            \u001b[49m\u001b[38;5;28;43minput\u001b[39;49m\u001b[43m,\u001b[49m\n\u001b[0;32m    214\u001b[0m \u001b[43m            \u001b[49m\u001b[43mconfig\u001b[49m\u001b[38;5;241;43m=\u001b[39;49m\u001b[43mpatch_config\u001b[49m\u001b[43m(\u001b[49m\n\u001b[0;32m    215\u001b[0m \u001b[43m                \u001b[49m\u001b[43mconfig\u001b[49m\u001b[43m,\u001b[49m\u001b[43m \u001b[49m\u001b[43mcallbacks\u001b[49m\u001b[38;5;241;43m=\u001b[39;49m\u001b[43mrun_manager\u001b[49m\u001b[38;5;241;43m.\u001b[39;49m\u001b[43mget_child\u001b[49m\u001b[43m(\u001b[49m\u001b[43mtag\u001b[49m\u001b[38;5;241;43m=\u001b[39;49m\u001b[38;5;124;43m\"\u001b[39;49m\u001b[38;5;124;43mbranch:default\u001b[39;49m\u001b[38;5;124;43m\"\u001b[39;49m\u001b[43m)\u001b[49m\n\u001b[0;32m    216\u001b[0m \u001b[43m            \u001b[49m\u001b[43m)\u001b[49m\u001b[43m,\u001b[49m\n\u001b[0;32m    217\u001b[0m \u001b[43m            \u001b[49m\u001b[38;5;241;43m*\u001b[39;49m\u001b[38;5;241;43m*\u001b[39;49m\u001b[43mkwargs\u001b[49m\u001b[43m,\u001b[49m\n\u001b[0;32m    218\u001b[0m \u001b[43m        \u001b[49m\u001b[43m)\u001b[49m\n\u001b[0;32m    219\u001b[0m \u001b[38;5;28;01mexcept\u001b[39;00m \u001b[38;5;167;01mBaseException\u001b[39;00m \u001b[38;5;28;01mas\u001b[39;00m e:\n\u001b[0;32m    220\u001b[0m     run_manager\u001b[38;5;241m.\u001b[39mon_chain_error(e)\n",
      "File \u001b[1;32mc:\\Users\\kim_h\\anaconda3\\envs\\bigproject\\Lib\\site-packages\\langchain_core\\runnables\\base.py:4580\u001b[0m, in \u001b[0;36mRunnableBindingBase.invoke\u001b[1;34m(self, input, config, **kwargs)\u001b[0m\n\u001b[0;32m   4574\u001b[0m \u001b[38;5;28;01mdef\u001b[39;00m \u001b[38;5;21minvoke\u001b[39m(\n\u001b[0;32m   4575\u001b[0m     \u001b[38;5;28mself\u001b[39m,\n\u001b[0;32m   4576\u001b[0m     \u001b[38;5;28minput\u001b[39m: Input,\n\u001b[0;32m   4577\u001b[0m     config: Optional[RunnableConfig] \u001b[38;5;241m=\u001b[39m \u001b[38;5;28;01mNone\u001b[39;00m,\n\u001b[0;32m   4578\u001b[0m     \u001b[38;5;241m*\u001b[39m\u001b[38;5;241m*\u001b[39mkwargs: Optional[Any],\n\u001b[0;32m   4579\u001b[0m ) \u001b[38;5;241m-\u001b[39m\u001b[38;5;241m>\u001b[39m Output:\n\u001b[1;32m-> 4580\u001b[0m     \u001b[38;5;28;01mreturn\u001b[39;00m \u001b[38;5;28;43mself\u001b[39;49m\u001b[38;5;241;43m.\u001b[39;49m\u001b[43mbound\u001b[49m\u001b[38;5;241;43m.\u001b[39;49m\u001b[43minvoke\u001b[49m\u001b[43m(\u001b[49m\n\u001b[0;32m   4581\u001b[0m \u001b[43m        \u001b[49m\u001b[38;5;28;43minput\u001b[39;49m\u001b[43m,\u001b[49m\n\u001b[0;32m   4582\u001b[0m \u001b[43m        \u001b[49m\u001b[38;5;28;43mself\u001b[39;49m\u001b[38;5;241;43m.\u001b[39;49m\u001b[43m_merge_configs\u001b[49m\u001b[43m(\u001b[49m\u001b[43mconfig\u001b[49m\u001b[43m)\u001b[49m\u001b[43m,\u001b[49m\n\u001b[0;32m   4583\u001b[0m \u001b[43m        \u001b[49m\u001b[38;5;241;43m*\u001b[39;49m\u001b[38;5;241;43m*\u001b[39;49m\u001b[43m{\u001b[49m\u001b[38;5;241;43m*\u001b[39;49m\u001b[38;5;241;43m*\u001b[39;49m\u001b[38;5;28;43mself\u001b[39;49m\u001b[38;5;241;43m.\u001b[39;49m\u001b[43mkwargs\u001b[49m\u001b[43m,\u001b[49m\u001b[43m \u001b[49m\u001b[38;5;241;43m*\u001b[39;49m\u001b[38;5;241;43m*\u001b[39;49m\u001b[43mkwargs\u001b[49m\u001b[43m}\u001b[49m\u001b[43m,\u001b[49m\n\u001b[0;32m   4584\u001b[0m \u001b[43m    \u001b[49m\u001b[43m)\u001b[49m\n",
      "File \u001b[1;32mc:\\Users\\kim_h\\anaconda3\\envs\\bigproject\\Lib\\site-packages\\langchain_core\\runnables\\base.py:2497\u001b[0m, in \u001b[0;36mRunnableSequence.invoke\u001b[1;34m(self, input, config, **kwargs)\u001b[0m\n\u001b[0;32m   2493\u001b[0m config \u001b[38;5;241m=\u001b[39m patch_config(\n\u001b[0;32m   2494\u001b[0m     config, callbacks\u001b[38;5;241m=\u001b[39mrun_manager\u001b[38;5;241m.\u001b[39mget_child(\u001b[38;5;124mf\u001b[39m\u001b[38;5;124m\"\u001b[39m\u001b[38;5;124mseq:step:\u001b[39m\u001b[38;5;132;01m{\u001b[39;00mi\u001b[38;5;241m+\u001b[39m\u001b[38;5;241m1\u001b[39m\u001b[38;5;132;01m}\u001b[39;00m\u001b[38;5;124m\"\u001b[39m)\n\u001b[0;32m   2495\u001b[0m )\n\u001b[0;32m   2496\u001b[0m \u001b[38;5;28;01mif\u001b[39;00m i \u001b[38;5;241m==\u001b[39m \u001b[38;5;241m0\u001b[39m:\n\u001b[1;32m-> 2497\u001b[0m     \u001b[38;5;28minput\u001b[39m \u001b[38;5;241m=\u001b[39m \u001b[43mstep\u001b[49m\u001b[38;5;241;43m.\u001b[39;49m\u001b[43minvoke\u001b[49m\u001b[43m(\u001b[49m\u001b[38;5;28;43minput\u001b[39;49m\u001b[43m,\u001b[49m\u001b[43m \u001b[49m\u001b[43mconfig\u001b[49m\u001b[43m,\u001b[49m\u001b[43m \u001b[49m\u001b[38;5;241;43m*\u001b[39;49m\u001b[38;5;241;43m*\u001b[39;49m\u001b[43mkwargs\u001b[49m\u001b[43m)\u001b[49m\n\u001b[0;32m   2498\u001b[0m \u001b[38;5;28;01melse\u001b[39;00m:\n\u001b[0;32m   2499\u001b[0m     \u001b[38;5;28minput\u001b[39m \u001b[38;5;241m=\u001b[39m step\u001b[38;5;241m.\u001b[39minvoke(\u001b[38;5;28minput\u001b[39m, config)\n",
      "File \u001b[1;32mc:\\Users\\kim_h\\anaconda3\\envs\\bigproject\\Lib\\site-packages\\langchain_core\\runnables\\passthrough.py:469\u001b[0m, in \u001b[0;36mRunnableAssign.invoke\u001b[1;34m(self, input, config, **kwargs)\u001b[0m\n\u001b[0;32m    463\u001b[0m \u001b[38;5;28;01mdef\u001b[39;00m \u001b[38;5;21minvoke\u001b[39m(\n\u001b[0;32m    464\u001b[0m     \u001b[38;5;28mself\u001b[39m,\n\u001b[0;32m    465\u001b[0m     \u001b[38;5;28minput\u001b[39m: Dict[\u001b[38;5;28mstr\u001b[39m, Any],\n\u001b[0;32m    466\u001b[0m     config: Optional[RunnableConfig] \u001b[38;5;241m=\u001b[39m \u001b[38;5;28;01mNone\u001b[39;00m,\n\u001b[0;32m    467\u001b[0m     \u001b[38;5;241m*\u001b[39m\u001b[38;5;241m*\u001b[39mkwargs: Any,\n\u001b[0;32m    468\u001b[0m ) \u001b[38;5;241m-\u001b[39m\u001b[38;5;241m>\u001b[39m Dict[\u001b[38;5;28mstr\u001b[39m, Any]:\n\u001b[1;32m--> 469\u001b[0m     \u001b[38;5;28;01mreturn\u001b[39;00m \u001b[38;5;28;43mself\u001b[39;49m\u001b[38;5;241;43m.\u001b[39;49m\u001b[43m_call_with_config\u001b[49m\u001b[43m(\u001b[49m\u001b[38;5;28;43mself\u001b[39;49m\u001b[38;5;241;43m.\u001b[39;49m\u001b[43m_invoke\u001b[49m\u001b[43m,\u001b[49m\u001b[43m \u001b[49m\u001b[38;5;28;43minput\u001b[39;49m\u001b[43m,\u001b[49m\u001b[43m \u001b[49m\u001b[43mconfig\u001b[49m\u001b[43m,\u001b[49m\u001b[43m \u001b[49m\u001b[38;5;241;43m*\u001b[39;49m\u001b[38;5;241;43m*\u001b[39;49m\u001b[43mkwargs\u001b[49m\u001b[43m)\u001b[49m\n",
      "File \u001b[1;32mc:\\Users\\kim_h\\anaconda3\\envs\\bigproject\\Lib\\site-packages\\langchain_core\\runnables\\base.py:1593\u001b[0m, in \u001b[0;36mRunnable._call_with_config\u001b[1;34m(self, func, input, config, run_type, **kwargs)\u001b[0m\n\u001b[0;32m   1589\u001b[0m     context \u001b[38;5;241m=\u001b[39m copy_context()\n\u001b[0;32m   1590\u001b[0m     context\u001b[38;5;241m.\u001b[39mrun(_set_config_context, child_config)\n\u001b[0;32m   1591\u001b[0m     output \u001b[38;5;241m=\u001b[39m cast(\n\u001b[0;32m   1592\u001b[0m         Output,\n\u001b[1;32m-> 1593\u001b[0m         \u001b[43mcontext\u001b[49m\u001b[38;5;241;43m.\u001b[39;49m\u001b[43mrun\u001b[49m\u001b[43m(\u001b[49m\n\u001b[0;32m   1594\u001b[0m \u001b[43m            \u001b[49m\u001b[43mcall_func_with_variable_args\u001b[49m\u001b[43m,\u001b[49m\u001b[43m  \u001b[49m\u001b[38;5;66;43;03m# type: ignore[arg-type]\u001b[39;49;00m\n\u001b[0;32m   1595\u001b[0m \u001b[43m            \u001b[49m\u001b[43mfunc\u001b[49m\u001b[43m,\u001b[49m\u001b[43m  \u001b[49m\u001b[38;5;66;43;03m# type: ignore[arg-type]\u001b[39;49;00m\n\u001b[0;32m   1596\u001b[0m \u001b[43m            \u001b[49m\u001b[38;5;28;43minput\u001b[39;49m\u001b[43m,\u001b[49m\u001b[43m  \u001b[49m\u001b[38;5;66;43;03m# type: ignore[arg-type]\u001b[39;49;00m\n\u001b[0;32m   1597\u001b[0m \u001b[43m            \u001b[49m\u001b[43mconfig\u001b[49m\u001b[43m,\u001b[49m\n\u001b[0;32m   1598\u001b[0m \u001b[43m            \u001b[49m\u001b[43mrun_manager\u001b[49m\u001b[43m,\u001b[49m\n\u001b[0;32m   1599\u001b[0m \u001b[43m            \u001b[49m\u001b[38;5;241;43m*\u001b[39;49m\u001b[38;5;241;43m*\u001b[39;49m\u001b[43mkwargs\u001b[49m\u001b[43m,\u001b[49m\n\u001b[0;32m   1600\u001b[0m \u001b[43m        \u001b[49m\u001b[43m)\u001b[49m,\n\u001b[0;32m   1601\u001b[0m     )\n\u001b[0;32m   1602\u001b[0m \u001b[38;5;28;01mexcept\u001b[39;00m \u001b[38;5;167;01mBaseException\u001b[39;00m \u001b[38;5;28;01mas\u001b[39;00m e:\n\u001b[0;32m   1603\u001b[0m     run_manager\u001b[38;5;241m.\u001b[39mon_chain_error(e)\n",
      "File \u001b[1;32mc:\\Users\\kim_h\\anaconda3\\envs\\bigproject\\Lib\\site-packages\\langchain_core\\runnables\\config.py:380\u001b[0m, in \u001b[0;36mcall_func_with_variable_args\u001b[1;34m(func, input, config, run_manager, **kwargs)\u001b[0m\n\u001b[0;32m    378\u001b[0m \u001b[38;5;28;01mif\u001b[39;00m run_manager \u001b[38;5;129;01mis\u001b[39;00m \u001b[38;5;129;01mnot\u001b[39;00m \u001b[38;5;28;01mNone\u001b[39;00m \u001b[38;5;129;01mand\u001b[39;00m accepts_run_manager(func):\n\u001b[0;32m    379\u001b[0m     kwargs[\u001b[38;5;124m\"\u001b[39m\u001b[38;5;124mrun_manager\u001b[39m\u001b[38;5;124m\"\u001b[39m] \u001b[38;5;241m=\u001b[39m run_manager\n\u001b[1;32m--> 380\u001b[0m \u001b[38;5;28;01mreturn\u001b[39;00m \u001b[43mfunc\u001b[49m\u001b[43m(\u001b[49m\u001b[38;5;28;43minput\u001b[39;49m\u001b[43m,\u001b[49m\u001b[43m \u001b[49m\u001b[38;5;241;43m*\u001b[39;49m\u001b[38;5;241;43m*\u001b[39;49m\u001b[43mkwargs\u001b[49m\u001b[43m)\u001b[49m\n",
      "File \u001b[1;32mc:\\Users\\kim_h\\anaconda3\\envs\\bigproject\\Lib\\site-packages\\langchain_core\\runnables\\passthrough.py:456\u001b[0m, in \u001b[0;36mRunnableAssign._invoke\u001b[1;34m(self, input, run_manager, config, **kwargs)\u001b[0m\n\u001b[0;32m    443\u001b[0m \u001b[38;5;28;01mdef\u001b[39;00m \u001b[38;5;21m_invoke\u001b[39m(\n\u001b[0;32m    444\u001b[0m     \u001b[38;5;28mself\u001b[39m,\n\u001b[0;32m    445\u001b[0m     \u001b[38;5;28minput\u001b[39m: Dict[\u001b[38;5;28mstr\u001b[39m, Any],\n\u001b[1;32m   (...)\u001b[0m\n\u001b[0;32m    448\u001b[0m     \u001b[38;5;241m*\u001b[39m\u001b[38;5;241m*\u001b[39mkwargs: Any,\n\u001b[0;32m    449\u001b[0m ) \u001b[38;5;241m-\u001b[39m\u001b[38;5;241m>\u001b[39m Dict[\u001b[38;5;28mstr\u001b[39m, Any]:\n\u001b[0;32m    450\u001b[0m     \u001b[38;5;28;01massert\u001b[39;00m \u001b[38;5;28misinstance\u001b[39m(\n\u001b[0;32m    451\u001b[0m         \u001b[38;5;28minput\u001b[39m, \u001b[38;5;28mdict\u001b[39m\n\u001b[0;32m    452\u001b[0m     ), \u001b[38;5;124m\"\u001b[39m\u001b[38;5;124mThe input to RunnablePassthrough.assign() must be a dict.\u001b[39m\u001b[38;5;124m\"\u001b[39m\n\u001b[0;32m    454\u001b[0m     \u001b[38;5;28;01mreturn\u001b[39;00m {\n\u001b[0;32m    455\u001b[0m         \u001b[38;5;241m*\u001b[39m\u001b[38;5;241m*\u001b[39m\u001b[38;5;28minput\u001b[39m,\n\u001b[1;32m--> 456\u001b[0m         \u001b[38;5;241m*\u001b[39m\u001b[38;5;241m*\u001b[39m\u001b[38;5;28;43mself\u001b[39;49m\u001b[38;5;241;43m.\u001b[39;49m\u001b[43mmapper\u001b[49m\u001b[38;5;241;43m.\u001b[39;49m\u001b[43minvoke\u001b[49m\u001b[43m(\u001b[49m\n\u001b[0;32m    457\u001b[0m \u001b[43m            \u001b[49m\u001b[38;5;28;43minput\u001b[39;49m\u001b[43m,\u001b[49m\n\u001b[0;32m    458\u001b[0m \u001b[43m            \u001b[49m\u001b[43mpatch_config\u001b[49m\u001b[43m(\u001b[49m\u001b[43mconfig\u001b[49m\u001b[43m,\u001b[49m\u001b[43m \u001b[49m\u001b[43mcallbacks\u001b[49m\u001b[38;5;241;43m=\u001b[39;49m\u001b[43mrun_manager\u001b[49m\u001b[38;5;241;43m.\u001b[39;49m\u001b[43mget_child\u001b[49m\u001b[43m(\u001b[49m\u001b[43m)\u001b[49m\u001b[43m)\u001b[49m\u001b[43m,\u001b[49m\n\u001b[0;32m    459\u001b[0m \u001b[43m            \u001b[49m\u001b[38;5;241;43m*\u001b[39;49m\u001b[38;5;241;43m*\u001b[39;49m\u001b[43mkwargs\u001b[49m\u001b[43m,\u001b[49m\n\u001b[0;32m    460\u001b[0m \u001b[43m        \u001b[49m\u001b[43m)\u001b[49m,\n\u001b[0;32m    461\u001b[0m     }\n",
      "File \u001b[1;32mc:\\Users\\kim_h\\anaconda3\\envs\\bigproject\\Lib\\site-packages\\langchain_core\\runnables\\base.py:3144\u001b[0m, in \u001b[0;36mRunnableParallel.invoke\u001b[1;34m(self, input, config)\u001b[0m\n\u001b[0;32m   3131\u001b[0m     \u001b[38;5;28;01mwith\u001b[39;00m get_executor_for_config(config) \u001b[38;5;28;01mas\u001b[39;00m executor:\n\u001b[0;32m   3132\u001b[0m         futures \u001b[38;5;241m=\u001b[39m [\n\u001b[0;32m   3133\u001b[0m             executor\u001b[38;5;241m.\u001b[39msubmit(\n\u001b[0;32m   3134\u001b[0m                 step\u001b[38;5;241m.\u001b[39minvoke,\n\u001b[1;32m   (...)\u001b[0m\n\u001b[0;32m   3142\u001b[0m             \u001b[38;5;28;01mfor\u001b[39;00m key, step \u001b[38;5;129;01min\u001b[39;00m steps\u001b[38;5;241m.\u001b[39mitems()\n\u001b[0;32m   3143\u001b[0m         ]\n\u001b[1;32m-> 3144\u001b[0m         output \u001b[38;5;241m=\u001b[39m \u001b[43m{\u001b[49m\u001b[43mkey\u001b[49m\u001b[43m:\u001b[49m\u001b[43m \u001b[49m\u001b[43mfuture\u001b[49m\u001b[38;5;241;43m.\u001b[39;49m\u001b[43mresult\u001b[49m\u001b[43m(\u001b[49m\u001b[43m)\u001b[49m\u001b[43m \u001b[49m\u001b[38;5;28;43;01mfor\u001b[39;49;00m\u001b[43m \u001b[49m\u001b[43mkey\u001b[49m\u001b[43m,\u001b[49m\u001b[43m \u001b[49m\u001b[43mfuture\u001b[49m\u001b[43m \u001b[49m\u001b[38;5;129;43;01min\u001b[39;49;00m\u001b[43m \u001b[49m\u001b[38;5;28;43mzip\u001b[39;49m\u001b[43m(\u001b[49m\u001b[43msteps\u001b[49m\u001b[43m,\u001b[49m\u001b[43m \u001b[49m\u001b[43mfutures\u001b[49m\u001b[43m)\u001b[49m\u001b[43m}\u001b[49m\n\u001b[0;32m   3145\u001b[0m \u001b[38;5;66;03m# finish the root run\u001b[39;00m\n\u001b[0;32m   3146\u001b[0m \u001b[38;5;28;01mexcept\u001b[39;00m \u001b[38;5;167;01mBaseException\u001b[39;00m \u001b[38;5;28;01mas\u001b[39;00m e:\n",
      "File \u001b[1;32mc:\\Users\\kim_h\\anaconda3\\envs\\bigproject\\Lib\\site-packages\\langchain_core\\runnables\\base.py:3144\u001b[0m, in \u001b[0;36m<dictcomp>\u001b[1;34m(.0)\u001b[0m\n\u001b[0;32m   3131\u001b[0m     \u001b[38;5;28;01mwith\u001b[39;00m get_executor_for_config(config) \u001b[38;5;28;01mas\u001b[39;00m executor:\n\u001b[0;32m   3132\u001b[0m         futures \u001b[38;5;241m=\u001b[39m [\n\u001b[0;32m   3133\u001b[0m             executor\u001b[38;5;241m.\u001b[39msubmit(\n\u001b[0;32m   3134\u001b[0m                 step\u001b[38;5;241m.\u001b[39minvoke,\n\u001b[1;32m   (...)\u001b[0m\n\u001b[0;32m   3142\u001b[0m             \u001b[38;5;28;01mfor\u001b[39;00m key, step \u001b[38;5;129;01min\u001b[39;00m steps\u001b[38;5;241m.\u001b[39mitems()\n\u001b[0;32m   3143\u001b[0m         ]\n\u001b[1;32m-> 3144\u001b[0m         output \u001b[38;5;241m=\u001b[39m {key: \u001b[43mfuture\u001b[49m\u001b[38;5;241;43m.\u001b[39;49m\u001b[43mresult\u001b[49m\u001b[43m(\u001b[49m\u001b[43m)\u001b[49m \u001b[38;5;28;01mfor\u001b[39;00m key, future \u001b[38;5;129;01min\u001b[39;00m \u001b[38;5;28mzip\u001b[39m(steps, futures)}\n\u001b[0;32m   3145\u001b[0m \u001b[38;5;66;03m# finish the root run\u001b[39;00m\n\u001b[0;32m   3146\u001b[0m \u001b[38;5;28;01mexcept\u001b[39;00m \u001b[38;5;167;01mBaseException\u001b[39;00m \u001b[38;5;28;01mas\u001b[39;00m e:\n",
      "File \u001b[1;32mc:\\Users\\kim_h\\anaconda3\\envs\\bigproject\\Lib\\concurrent\\futures\\_base.py:456\u001b[0m, in \u001b[0;36mFuture.result\u001b[1;34m(self, timeout)\u001b[0m\n\u001b[0;32m    454\u001b[0m     \u001b[38;5;28;01mraise\u001b[39;00m CancelledError()\n\u001b[0;32m    455\u001b[0m \u001b[38;5;28;01melif\u001b[39;00m \u001b[38;5;28mself\u001b[39m\u001b[38;5;241m.\u001b[39m_state \u001b[38;5;241m==\u001b[39m FINISHED:\n\u001b[1;32m--> 456\u001b[0m     \u001b[38;5;28;01mreturn\u001b[39;00m \u001b[38;5;28;43mself\u001b[39;49m\u001b[38;5;241;43m.\u001b[39;49m\u001b[43m__get_result\u001b[49m\u001b[43m(\u001b[49m\u001b[43m)\u001b[49m\n\u001b[0;32m    457\u001b[0m \u001b[38;5;28;01melse\u001b[39;00m:\n\u001b[0;32m    458\u001b[0m     \u001b[38;5;28;01mraise\u001b[39;00m \u001b[38;5;167;01mTimeoutError\u001b[39;00m()\n",
      "File \u001b[1;32mc:\\Users\\kim_h\\anaconda3\\envs\\bigproject\\Lib\\concurrent\\futures\\_base.py:401\u001b[0m, in \u001b[0;36mFuture.__get_result\u001b[1;34m(self)\u001b[0m\n\u001b[0;32m    399\u001b[0m \u001b[38;5;28;01mif\u001b[39;00m \u001b[38;5;28mself\u001b[39m\u001b[38;5;241m.\u001b[39m_exception:\n\u001b[0;32m    400\u001b[0m     \u001b[38;5;28;01mtry\u001b[39;00m:\n\u001b[1;32m--> 401\u001b[0m         \u001b[38;5;28;01mraise\u001b[39;00m \u001b[38;5;28mself\u001b[39m\u001b[38;5;241m.\u001b[39m_exception\n\u001b[0;32m    402\u001b[0m     \u001b[38;5;28;01mfinally\u001b[39;00m:\n\u001b[0;32m    403\u001b[0m         \u001b[38;5;66;03m# Break a reference cycle with the exception in self._exception\u001b[39;00m\n\u001b[0;32m    404\u001b[0m         \u001b[38;5;28mself\u001b[39m \u001b[38;5;241m=\u001b[39m \u001b[38;5;28;01mNone\u001b[39;00m\n",
      "File \u001b[1;32mc:\\Users\\kim_h\\anaconda3\\envs\\bigproject\\Lib\\concurrent\\futures\\thread.py:58\u001b[0m, in \u001b[0;36m_WorkItem.run\u001b[1;34m(self)\u001b[0m\n\u001b[0;32m     55\u001b[0m     \u001b[38;5;28;01mreturn\u001b[39;00m\n\u001b[0;32m     57\u001b[0m \u001b[38;5;28;01mtry\u001b[39;00m:\n\u001b[1;32m---> 58\u001b[0m     result \u001b[38;5;241m=\u001b[39m \u001b[38;5;28;43mself\u001b[39;49m\u001b[38;5;241;43m.\u001b[39;49m\u001b[43mfn\u001b[49m\u001b[43m(\u001b[49m\u001b[38;5;241;43m*\u001b[39;49m\u001b[38;5;28;43mself\u001b[39;49m\u001b[38;5;241;43m.\u001b[39;49m\u001b[43margs\u001b[49m\u001b[43m,\u001b[49m\u001b[43m \u001b[49m\u001b[38;5;241;43m*\u001b[39;49m\u001b[38;5;241;43m*\u001b[39;49m\u001b[38;5;28;43mself\u001b[39;49m\u001b[38;5;241;43m.\u001b[39;49m\u001b[43mkwargs\u001b[49m\u001b[43m)\u001b[49m\n\u001b[0;32m     59\u001b[0m \u001b[38;5;28;01mexcept\u001b[39;00m \u001b[38;5;167;01mBaseException\u001b[39;00m \u001b[38;5;28;01mas\u001b[39;00m exc:\n\u001b[0;32m     60\u001b[0m     \u001b[38;5;28mself\u001b[39m\u001b[38;5;241m.\u001b[39mfuture\u001b[38;5;241m.\u001b[39mset_exception(exc)\n",
      "File \u001b[1;32mc:\\Users\\kim_h\\anaconda3\\envs\\bigproject\\Lib\\site-packages\\langchain_core\\runnables\\base.py:4580\u001b[0m, in \u001b[0;36mRunnableBindingBase.invoke\u001b[1;34m(self, input, config, **kwargs)\u001b[0m\n\u001b[0;32m   4574\u001b[0m \u001b[38;5;28;01mdef\u001b[39;00m \u001b[38;5;21minvoke\u001b[39m(\n\u001b[0;32m   4575\u001b[0m     \u001b[38;5;28mself\u001b[39m,\n\u001b[0;32m   4576\u001b[0m     \u001b[38;5;28minput\u001b[39m: Input,\n\u001b[0;32m   4577\u001b[0m     config: Optional[RunnableConfig] \u001b[38;5;241m=\u001b[39m \u001b[38;5;28;01mNone\u001b[39;00m,\n\u001b[0;32m   4578\u001b[0m     \u001b[38;5;241m*\u001b[39m\u001b[38;5;241m*\u001b[39mkwargs: Optional[Any],\n\u001b[0;32m   4579\u001b[0m ) \u001b[38;5;241m-\u001b[39m\u001b[38;5;241m>\u001b[39m Output:\n\u001b[1;32m-> 4580\u001b[0m     \u001b[38;5;28;01mreturn\u001b[39;00m \u001b[38;5;28;43mself\u001b[39;49m\u001b[38;5;241;43m.\u001b[39;49m\u001b[43mbound\u001b[49m\u001b[38;5;241;43m.\u001b[39;49m\u001b[43minvoke\u001b[49m\u001b[43m(\u001b[49m\n\u001b[0;32m   4581\u001b[0m \u001b[43m        \u001b[49m\u001b[38;5;28;43minput\u001b[39;49m\u001b[43m,\u001b[49m\n\u001b[0;32m   4582\u001b[0m \u001b[43m        \u001b[49m\u001b[38;5;28;43mself\u001b[39;49m\u001b[38;5;241;43m.\u001b[39;49m\u001b[43m_merge_configs\u001b[49m\u001b[43m(\u001b[49m\u001b[43mconfig\u001b[49m\u001b[43m)\u001b[49m\u001b[43m,\u001b[49m\n\u001b[0;32m   4583\u001b[0m \u001b[43m        \u001b[49m\u001b[38;5;241;43m*\u001b[39;49m\u001b[38;5;241;43m*\u001b[39;49m\u001b[43m{\u001b[49m\u001b[38;5;241;43m*\u001b[39;49m\u001b[38;5;241;43m*\u001b[39;49m\u001b[38;5;28;43mself\u001b[39;49m\u001b[38;5;241;43m.\u001b[39;49m\u001b[43mkwargs\u001b[49m\u001b[43m,\u001b[49m\u001b[43m \u001b[49m\u001b[38;5;241;43m*\u001b[39;49m\u001b[38;5;241;43m*\u001b[39;49m\u001b[43mkwargs\u001b[49m\u001b[43m}\u001b[49m\u001b[43m,\u001b[49m\n\u001b[0;32m   4584\u001b[0m \u001b[43m    \u001b[49m\u001b[43m)\u001b[49m\n",
      "File \u001b[1;32mc:\\Users\\kim_h\\anaconda3\\envs\\bigproject\\Lib\\site-packages\\langchain_core\\runnables\\branch.py:212\u001b[0m, in \u001b[0;36mRunnableBranch.invoke\u001b[1;34m(self, input, config, **kwargs)\u001b[0m\n\u001b[0;32m    210\u001b[0m             \u001b[38;5;28;01mbreak\u001b[39;00m\n\u001b[0;32m    211\u001b[0m     \u001b[38;5;28;01melse\u001b[39;00m:\n\u001b[1;32m--> 212\u001b[0m         output \u001b[38;5;241m=\u001b[39m \u001b[38;5;28;43mself\u001b[39;49m\u001b[38;5;241;43m.\u001b[39;49m\u001b[43mdefault\u001b[49m\u001b[38;5;241;43m.\u001b[39;49m\u001b[43minvoke\u001b[49m\u001b[43m(\u001b[49m\n\u001b[0;32m    213\u001b[0m \u001b[43m            \u001b[49m\u001b[38;5;28;43minput\u001b[39;49m\u001b[43m,\u001b[49m\n\u001b[0;32m    214\u001b[0m \u001b[43m            \u001b[49m\u001b[43mconfig\u001b[49m\u001b[38;5;241;43m=\u001b[39;49m\u001b[43mpatch_config\u001b[49m\u001b[43m(\u001b[49m\n\u001b[0;32m    215\u001b[0m \u001b[43m                \u001b[49m\u001b[43mconfig\u001b[49m\u001b[43m,\u001b[49m\u001b[43m \u001b[49m\u001b[43mcallbacks\u001b[49m\u001b[38;5;241;43m=\u001b[39;49m\u001b[43mrun_manager\u001b[49m\u001b[38;5;241;43m.\u001b[39;49m\u001b[43mget_child\u001b[49m\u001b[43m(\u001b[49m\u001b[43mtag\u001b[49m\u001b[38;5;241;43m=\u001b[39;49m\u001b[38;5;124;43m\"\u001b[39;49m\u001b[38;5;124;43mbranch:default\u001b[39;49m\u001b[38;5;124;43m\"\u001b[39;49m\u001b[43m)\u001b[49m\n\u001b[0;32m    216\u001b[0m \u001b[43m            \u001b[49m\u001b[43m)\u001b[49m\u001b[43m,\u001b[49m\n\u001b[0;32m    217\u001b[0m \u001b[43m            \u001b[49m\u001b[38;5;241;43m*\u001b[39;49m\u001b[38;5;241;43m*\u001b[39;49m\u001b[43mkwargs\u001b[49m\u001b[43m,\u001b[49m\n\u001b[0;32m    218\u001b[0m \u001b[43m        \u001b[49m\u001b[43m)\u001b[49m\n\u001b[0;32m    219\u001b[0m \u001b[38;5;28;01mexcept\u001b[39;00m \u001b[38;5;167;01mBaseException\u001b[39;00m \u001b[38;5;28;01mas\u001b[39;00m e:\n\u001b[0;32m    220\u001b[0m     run_manager\u001b[38;5;241m.\u001b[39mon_chain_error(e)\n",
      "File \u001b[1;32mc:\\Users\\kim_h\\anaconda3\\envs\\bigproject\\Lib\\site-packages\\langchain_core\\runnables\\base.py:2499\u001b[0m, in \u001b[0;36mRunnableSequence.invoke\u001b[1;34m(self, input, config, **kwargs)\u001b[0m\n\u001b[0;32m   2497\u001b[0m             \u001b[38;5;28minput\u001b[39m \u001b[38;5;241m=\u001b[39m step\u001b[38;5;241m.\u001b[39minvoke(\u001b[38;5;28minput\u001b[39m, config, \u001b[38;5;241m*\u001b[39m\u001b[38;5;241m*\u001b[39mkwargs)\n\u001b[0;32m   2498\u001b[0m         \u001b[38;5;28;01melse\u001b[39;00m:\n\u001b[1;32m-> 2499\u001b[0m             \u001b[38;5;28minput\u001b[39m \u001b[38;5;241m=\u001b[39m \u001b[43mstep\u001b[49m\u001b[38;5;241;43m.\u001b[39;49m\u001b[43minvoke\u001b[49m\u001b[43m(\u001b[49m\u001b[38;5;28;43minput\u001b[39;49m\u001b[43m,\u001b[49m\u001b[43m \u001b[49m\u001b[43mconfig\u001b[49m\u001b[43m)\u001b[49m\n\u001b[0;32m   2500\u001b[0m \u001b[38;5;66;03m# finish the root run\u001b[39;00m\n\u001b[0;32m   2501\u001b[0m \u001b[38;5;28;01mexcept\u001b[39;00m \u001b[38;5;167;01mBaseException\u001b[39;00m \u001b[38;5;28;01mas\u001b[39;00m e:\n",
      "File \u001b[1;32mc:\\Users\\kim_h\\anaconda3\\envs\\bigproject\\Lib\\site-packages\\langchain_core\\language_models\\chat_models.py:280\u001b[0m, in \u001b[0;36mBaseChatModel.invoke\u001b[1;34m(self, input, config, stop, **kwargs)\u001b[0m\n\u001b[0;32m    269\u001b[0m \u001b[38;5;28;01mdef\u001b[39;00m \u001b[38;5;21minvoke\u001b[39m(\n\u001b[0;32m    270\u001b[0m     \u001b[38;5;28mself\u001b[39m,\n\u001b[0;32m    271\u001b[0m     \u001b[38;5;28minput\u001b[39m: LanguageModelInput,\n\u001b[1;32m   (...)\u001b[0m\n\u001b[0;32m    275\u001b[0m     \u001b[38;5;241m*\u001b[39m\u001b[38;5;241m*\u001b[39mkwargs: Any,\n\u001b[0;32m    276\u001b[0m ) \u001b[38;5;241m-\u001b[39m\u001b[38;5;241m>\u001b[39m BaseMessage:\n\u001b[0;32m    277\u001b[0m     config \u001b[38;5;241m=\u001b[39m ensure_config(config)\n\u001b[0;32m    278\u001b[0m     \u001b[38;5;28;01mreturn\u001b[39;00m cast(\n\u001b[0;32m    279\u001b[0m         ChatGeneration,\n\u001b[1;32m--> 280\u001b[0m         \u001b[38;5;28;43mself\u001b[39;49m\u001b[38;5;241;43m.\u001b[39;49m\u001b[43mgenerate_prompt\u001b[49m\u001b[43m(\u001b[49m\n\u001b[0;32m    281\u001b[0m \u001b[43m            \u001b[49m\u001b[43m[\u001b[49m\u001b[38;5;28;43mself\u001b[39;49m\u001b[38;5;241;43m.\u001b[39;49m\u001b[43m_convert_input\u001b[49m\u001b[43m(\u001b[49m\u001b[38;5;28;43minput\u001b[39;49m\u001b[43m)\u001b[49m\u001b[43m]\u001b[49m\u001b[43m,\u001b[49m\n\u001b[0;32m    282\u001b[0m \u001b[43m            \u001b[49m\u001b[43mstop\u001b[49m\u001b[38;5;241;43m=\u001b[39;49m\u001b[43mstop\u001b[49m\u001b[43m,\u001b[49m\n\u001b[0;32m    283\u001b[0m \u001b[43m            \u001b[49m\u001b[43mcallbacks\u001b[49m\u001b[38;5;241;43m=\u001b[39;49m\u001b[43mconfig\u001b[49m\u001b[38;5;241;43m.\u001b[39;49m\u001b[43mget\u001b[49m\u001b[43m(\u001b[49m\u001b[38;5;124;43m\"\u001b[39;49m\u001b[38;5;124;43mcallbacks\u001b[39;49m\u001b[38;5;124;43m\"\u001b[39;49m\u001b[43m)\u001b[49m\u001b[43m,\u001b[49m\n\u001b[0;32m    284\u001b[0m \u001b[43m            \u001b[49m\u001b[43mtags\u001b[49m\u001b[38;5;241;43m=\u001b[39;49m\u001b[43mconfig\u001b[49m\u001b[38;5;241;43m.\u001b[39;49m\u001b[43mget\u001b[49m\u001b[43m(\u001b[49m\u001b[38;5;124;43m\"\u001b[39;49m\u001b[38;5;124;43mtags\u001b[39;49m\u001b[38;5;124;43m\"\u001b[39;49m\u001b[43m)\u001b[49m\u001b[43m,\u001b[49m\n\u001b[0;32m    285\u001b[0m \u001b[43m            \u001b[49m\u001b[43mmetadata\u001b[49m\u001b[38;5;241;43m=\u001b[39;49m\u001b[43mconfig\u001b[49m\u001b[38;5;241;43m.\u001b[39;49m\u001b[43mget\u001b[49m\u001b[43m(\u001b[49m\u001b[38;5;124;43m\"\u001b[39;49m\u001b[38;5;124;43mmetadata\u001b[39;49m\u001b[38;5;124;43m\"\u001b[39;49m\u001b[43m)\u001b[49m\u001b[43m,\u001b[49m\n\u001b[0;32m    286\u001b[0m \u001b[43m            \u001b[49m\u001b[43mrun_name\u001b[49m\u001b[38;5;241;43m=\u001b[39;49m\u001b[43mconfig\u001b[49m\u001b[38;5;241;43m.\u001b[39;49m\u001b[43mget\u001b[49m\u001b[43m(\u001b[49m\u001b[38;5;124;43m\"\u001b[39;49m\u001b[38;5;124;43mrun_name\u001b[39;49m\u001b[38;5;124;43m\"\u001b[39;49m\u001b[43m)\u001b[49m\u001b[43m,\u001b[49m\n\u001b[0;32m    287\u001b[0m \u001b[43m            \u001b[49m\u001b[43mrun_id\u001b[49m\u001b[38;5;241;43m=\u001b[39;49m\u001b[43mconfig\u001b[49m\u001b[38;5;241;43m.\u001b[39;49m\u001b[43mpop\u001b[49m\u001b[43m(\u001b[49m\u001b[38;5;124;43m\"\u001b[39;49m\u001b[38;5;124;43mrun_id\u001b[39;49m\u001b[38;5;124;43m\"\u001b[39;49m\u001b[43m,\u001b[49m\u001b[43m \u001b[49m\u001b[38;5;28;43;01mNone\u001b[39;49;00m\u001b[43m)\u001b[49m\u001b[43m,\u001b[49m\n\u001b[0;32m    288\u001b[0m \u001b[43m            \u001b[49m\u001b[38;5;241;43m*\u001b[39;49m\u001b[38;5;241;43m*\u001b[39;49m\u001b[43mkwargs\u001b[49m\u001b[43m,\u001b[49m\n\u001b[0;32m    289\u001b[0m \u001b[43m        \u001b[49m\u001b[43m)\u001b[49m\u001b[38;5;241m.\u001b[39mgenerations[\u001b[38;5;241m0\u001b[39m][\u001b[38;5;241m0\u001b[39m],\n\u001b[0;32m    290\u001b[0m     )\u001b[38;5;241m.\u001b[39mmessage\n",
      "File \u001b[1;32mc:\\Users\\kim_h\\anaconda3\\envs\\bigproject\\Lib\\site-packages\\langchain_core\\language_models\\chat_models.py:713\u001b[0m, in \u001b[0;36mBaseChatModel.generate_prompt\u001b[1;34m(self, prompts, stop, callbacks, **kwargs)\u001b[0m\n\u001b[0;32m    705\u001b[0m \u001b[38;5;28;01mdef\u001b[39;00m \u001b[38;5;21mgenerate_prompt\u001b[39m(\n\u001b[0;32m    706\u001b[0m     \u001b[38;5;28mself\u001b[39m,\n\u001b[0;32m    707\u001b[0m     prompts: List[PromptValue],\n\u001b[1;32m   (...)\u001b[0m\n\u001b[0;32m    710\u001b[0m     \u001b[38;5;241m*\u001b[39m\u001b[38;5;241m*\u001b[39mkwargs: Any,\n\u001b[0;32m    711\u001b[0m ) \u001b[38;5;241m-\u001b[39m\u001b[38;5;241m>\u001b[39m LLMResult:\n\u001b[0;32m    712\u001b[0m     prompt_messages \u001b[38;5;241m=\u001b[39m [p\u001b[38;5;241m.\u001b[39mto_messages() \u001b[38;5;28;01mfor\u001b[39;00m p \u001b[38;5;129;01min\u001b[39;00m prompts]\n\u001b[1;32m--> 713\u001b[0m     \u001b[38;5;28;01mreturn\u001b[39;00m \u001b[38;5;28;43mself\u001b[39;49m\u001b[38;5;241;43m.\u001b[39;49m\u001b[43mgenerate\u001b[49m\u001b[43m(\u001b[49m\u001b[43mprompt_messages\u001b[49m\u001b[43m,\u001b[49m\u001b[43m \u001b[49m\u001b[43mstop\u001b[49m\u001b[38;5;241;43m=\u001b[39;49m\u001b[43mstop\u001b[49m\u001b[43m,\u001b[49m\u001b[43m \u001b[49m\u001b[43mcallbacks\u001b[49m\u001b[38;5;241;43m=\u001b[39;49m\u001b[43mcallbacks\u001b[49m\u001b[43m,\u001b[49m\u001b[43m \u001b[49m\u001b[38;5;241;43m*\u001b[39;49m\u001b[38;5;241;43m*\u001b[39;49m\u001b[43mkwargs\u001b[49m\u001b[43m)\u001b[49m\n",
      "File \u001b[1;32mc:\\Users\\kim_h\\anaconda3\\envs\\bigproject\\Lib\\site-packages\\langchain_core\\language_models\\chat_models.py:570\u001b[0m, in \u001b[0;36mBaseChatModel.generate\u001b[1;34m(self, messages, stop, callbacks, tags, metadata, run_name, run_id, **kwargs)\u001b[0m\n\u001b[0;32m    568\u001b[0m         \u001b[38;5;28;01mif\u001b[39;00m run_managers:\n\u001b[0;32m    569\u001b[0m             run_managers[i]\u001b[38;5;241m.\u001b[39mon_llm_error(e, response\u001b[38;5;241m=\u001b[39mLLMResult(generations\u001b[38;5;241m=\u001b[39m[]))\n\u001b[1;32m--> 570\u001b[0m         \u001b[38;5;28;01mraise\u001b[39;00m e\n\u001b[0;32m    571\u001b[0m flattened_outputs \u001b[38;5;241m=\u001b[39m [\n\u001b[0;32m    572\u001b[0m     LLMResult(generations\u001b[38;5;241m=\u001b[39m[res\u001b[38;5;241m.\u001b[39mgenerations], llm_output\u001b[38;5;241m=\u001b[39mres\u001b[38;5;241m.\u001b[39mllm_output)  \u001b[38;5;66;03m# type: ignore[list-item]\u001b[39;00m\n\u001b[0;32m    573\u001b[0m     \u001b[38;5;28;01mfor\u001b[39;00m res \u001b[38;5;129;01min\u001b[39;00m results\n\u001b[0;32m    574\u001b[0m ]\n\u001b[0;32m    575\u001b[0m llm_output \u001b[38;5;241m=\u001b[39m \u001b[38;5;28mself\u001b[39m\u001b[38;5;241m.\u001b[39m_combine_llm_outputs([res\u001b[38;5;241m.\u001b[39mllm_output \u001b[38;5;28;01mfor\u001b[39;00m res \u001b[38;5;129;01min\u001b[39;00m results])\n",
      "File \u001b[1;32mc:\\Users\\kim_h\\anaconda3\\envs\\bigproject\\Lib\\site-packages\\langchain_core\\language_models\\chat_models.py:560\u001b[0m, in \u001b[0;36mBaseChatModel.generate\u001b[1;34m(self, messages, stop, callbacks, tags, metadata, run_name, run_id, **kwargs)\u001b[0m\n\u001b[0;32m    557\u001b[0m \u001b[38;5;28;01mfor\u001b[39;00m i, m \u001b[38;5;129;01min\u001b[39;00m \u001b[38;5;28menumerate\u001b[39m(messages):\n\u001b[0;32m    558\u001b[0m     \u001b[38;5;28;01mtry\u001b[39;00m:\n\u001b[0;32m    559\u001b[0m         results\u001b[38;5;241m.\u001b[39mappend(\n\u001b[1;32m--> 560\u001b[0m             \u001b[38;5;28;43mself\u001b[39;49m\u001b[38;5;241;43m.\u001b[39;49m\u001b[43m_generate_with_cache\u001b[49m\u001b[43m(\u001b[49m\n\u001b[0;32m    561\u001b[0m \u001b[43m                \u001b[49m\u001b[43mm\u001b[49m\u001b[43m,\u001b[49m\n\u001b[0;32m    562\u001b[0m \u001b[43m                \u001b[49m\u001b[43mstop\u001b[49m\u001b[38;5;241;43m=\u001b[39;49m\u001b[43mstop\u001b[49m\u001b[43m,\u001b[49m\n\u001b[0;32m    563\u001b[0m \u001b[43m                \u001b[49m\u001b[43mrun_manager\u001b[49m\u001b[38;5;241;43m=\u001b[39;49m\u001b[43mrun_managers\u001b[49m\u001b[43m[\u001b[49m\u001b[43mi\u001b[49m\u001b[43m]\u001b[49m\u001b[43m \u001b[49m\u001b[38;5;28;43;01mif\u001b[39;49;00m\u001b[43m \u001b[49m\u001b[43mrun_managers\u001b[49m\u001b[43m \u001b[49m\u001b[38;5;28;43;01melse\u001b[39;49;00m\u001b[43m \u001b[49m\u001b[38;5;28;43;01mNone\u001b[39;49;00m\u001b[43m,\u001b[49m\n\u001b[0;32m    564\u001b[0m \u001b[43m                \u001b[49m\u001b[38;5;241;43m*\u001b[39;49m\u001b[38;5;241;43m*\u001b[39;49m\u001b[43mkwargs\u001b[49m\u001b[43m,\u001b[49m\n\u001b[0;32m    565\u001b[0m \u001b[43m            \u001b[49m\u001b[43m)\u001b[49m\n\u001b[0;32m    566\u001b[0m         )\n\u001b[0;32m    567\u001b[0m     \u001b[38;5;28;01mexcept\u001b[39;00m \u001b[38;5;167;01mBaseException\u001b[39;00m \u001b[38;5;28;01mas\u001b[39;00m e:\n\u001b[0;32m    568\u001b[0m         \u001b[38;5;28;01mif\u001b[39;00m run_managers:\n",
      "File \u001b[1;32mc:\\Users\\kim_h\\anaconda3\\envs\\bigproject\\Lib\\site-packages\\langchain_core\\language_models\\chat_models.py:785\u001b[0m, in \u001b[0;36mBaseChatModel._generate_with_cache\u001b[1;34m(self, messages, stop, run_manager, **kwargs)\u001b[0m\n\u001b[0;32m    783\u001b[0m \u001b[38;5;28;01melse\u001b[39;00m:\n\u001b[0;32m    784\u001b[0m     \u001b[38;5;28;01mif\u001b[39;00m inspect\u001b[38;5;241m.\u001b[39msignature(\u001b[38;5;28mself\u001b[39m\u001b[38;5;241m.\u001b[39m_generate)\u001b[38;5;241m.\u001b[39mparameters\u001b[38;5;241m.\u001b[39mget(\u001b[38;5;124m\"\u001b[39m\u001b[38;5;124mrun_manager\u001b[39m\u001b[38;5;124m\"\u001b[39m):\n\u001b[1;32m--> 785\u001b[0m         result \u001b[38;5;241m=\u001b[39m \u001b[38;5;28;43mself\u001b[39;49m\u001b[38;5;241;43m.\u001b[39;49m\u001b[43m_generate\u001b[49m\u001b[43m(\u001b[49m\n\u001b[0;32m    786\u001b[0m \u001b[43m            \u001b[49m\u001b[43mmessages\u001b[49m\u001b[43m,\u001b[49m\u001b[43m \u001b[49m\u001b[43mstop\u001b[49m\u001b[38;5;241;43m=\u001b[39;49m\u001b[43mstop\u001b[49m\u001b[43m,\u001b[49m\u001b[43m \u001b[49m\u001b[43mrun_manager\u001b[49m\u001b[38;5;241;43m=\u001b[39;49m\u001b[43mrun_manager\u001b[49m\u001b[43m,\u001b[49m\u001b[43m \u001b[49m\u001b[38;5;241;43m*\u001b[39;49m\u001b[38;5;241;43m*\u001b[39;49m\u001b[43mkwargs\u001b[49m\n\u001b[0;32m    787\u001b[0m \u001b[43m        \u001b[49m\u001b[43m)\u001b[49m\n\u001b[0;32m    788\u001b[0m     \u001b[38;5;28;01melse\u001b[39;00m:\n\u001b[0;32m    789\u001b[0m         result \u001b[38;5;241m=\u001b[39m \u001b[38;5;28mself\u001b[39m\u001b[38;5;241m.\u001b[39m_generate(messages, stop\u001b[38;5;241m=\u001b[39mstop, \u001b[38;5;241m*\u001b[39m\u001b[38;5;241m*\u001b[39mkwargs)\n",
      "File \u001b[1;32mc:\\Users\\kim_h\\anaconda3\\envs\\bigproject\\Lib\\site-packages\\langchain_openai\\chat_models\\base.py:545\u001b[0m, in \u001b[0;36mBaseChatOpenAI._generate\u001b[1;34m(self, messages, stop, run_manager, **kwargs)\u001b[0m\n\u001b[0;32m    541\u001b[0m \u001b[38;5;28;01mif\u001b[39;00m \u001b[38;5;28mself\u001b[39m\u001b[38;5;241m.\u001b[39mstreaming:\n\u001b[0;32m    542\u001b[0m     stream_iter \u001b[38;5;241m=\u001b[39m \u001b[38;5;28mself\u001b[39m\u001b[38;5;241m.\u001b[39m_stream(\n\u001b[0;32m    543\u001b[0m         messages, stop\u001b[38;5;241m=\u001b[39mstop, run_manager\u001b[38;5;241m=\u001b[39mrun_manager, \u001b[38;5;241m*\u001b[39m\u001b[38;5;241m*\u001b[39mkwargs\n\u001b[0;32m    544\u001b[0m     )\n\u001b[1;32m--> 545\u001b[0m     \u001b[38;5;28;01mreturn\u001b[39;00m \u001b[43mgenerate_from_stream\u001b[49m\u001b[43m(\u001b[49m\u001b[43mstream_iter\u001b[49m\u001b[43m)\u001b[49m\n\u001b[0;32m    546\u001b[0m payload \u001b[38;5;241m=\u001b[39m \u001b[38;5;28mself\u001b[39m\u001b[38;5;241m.\u001b[39m_get_request_payload(messages, stop\u001b[38;5;241m=\u001b[39mstop, \u001b[38;5;241m*\u001b[39m\u001b[38;5;241m*\u001b[39mkwargs)\n\u001b[0;32m    547\u001b[0m response \u001b[38;5;241m=\u001b[39m \u001b[38;5;28mself\u001b[39m\u001b[38;5;241m.\u001b[39mclient\u001b[38;5;241m.\u001b[39mcreate(\u001b[38;5;241m*\u001b[39m\u001b[38;5;241m*\u001b[39mpayload)\n",
      "File \u001b[1;32mc:\\Users\\kim_h\\anaconda3\\envs\\bigproject\\Lib\\site-packages\\langchain_core\\language_models\\chat_models.py:98\u001b[0m, in \u001b[0;36mgenerate_from_stream\u001b[1;34m(stream)\u001b[0m\n\u001b[0;32m     88\u001b[0m \u001b[38;5;250m\u001b[39m\u001b[38;5;124;03m\"\"\"Generate from a stream.\u001b[39;00m\n\u001b[0;32m     89\u001b[0m \n\u001b[0;32m     90\u001b[0m \u001b[38;5;124;03mArgs:\u001b[39;00m\n\u001b[1;32m   (...)\u001b[0m\n\u001b[0;32m     94\u001b[0m \u001b[38;5;124;03m    ChatResult: Chat result.\u001b[39;00m\n\u001b[0;32m     95\u001b[0m \u001b[38;5;124;03m\"\"\"\u001b[39;00m\n\u001b[0;32m     97\u001b[0m generation: Optional[ChatGenerationChunk] \u001b[38;5;241m=\u001b[39m \u001b[38;5;28;01mNone\u001b[39;00m\n\u001b[1;32m---> 98\u001b[0m \u001b[43m\u001b[49m\u001b[38;5;28;43;01mfor\u001b[39;49;00m\u001b[43m \u001b[49m\u001b[43mchunk\u001b[49m\u001b[43m \u001b[49m\u001b[38;5;129;43;01min\u001b[39;49;00m\u001b[43m \u001b[49m\u001b[43mstream\u001b[49m\u001b[43m:\u001b[49m\n\u001b[0;32m     99\u001b[0m \u001b[43m    \u001b[49m\u001b[38;5;28;43;01mif\u001b[39;49;00m\u001b[43m \u001b[49m\u001b[43mgeneration\u001b[49m\u001b[43m \u001b[49m\u001b[38;5;129;43;01mis\u001b[39;49;00m\u001b[43m \u001b[49m\u001b[38;5;28;43;01mNone\u001b[39;49;00m\u001b[43m:\u001b[49m\n\u001b[0;32m    100\u001b[0m \u001b[43m        \u001b[49m\u001b[43mgeneration\u001b[49m\u001b[43m \u001b[49m\u001b[38;5;241;43m=\u001b[39;49m\u001b[43m \u001b[49m\u001b[43mchunk\u001b[49m\n",
      "File \u001b[1;32mc:\\Users\\kim_h\\anaconda3\\envs\\bigproject\\Lib\\site-packages\\langchain_openai\\chat_models\\base.py:487\u001b[0m, in \u001b[0;36mBaseChatOpenAI._stream\u001b[1;34m(self, messages, stop, run_manager, **kwargs)\u001b[0m\n\u001b[0;32m    485\u001b[0m payload \u001b[38;5;241m=\u001b[39m \u001b[38;5;28mself\u001b[39m\u001b[38;5;241m.\u001b[39m_get_request_payload(messages, stop\u001b[38;5;241m=\u001b[39mstop, \u001b[38;5;241m*\u001b[39m\u001b[38;5;241m*\u001b[39mkwargs)\n\u001b[0;32m    486\u001b[0m default_chunk_class: Type[BaseMessageChunk] \u001b[38;5;241m=\u001b[39m AIMessageChunk\n\u001b[1;32m--> 487\u001b[0m \u001b[38;5;28;01mwith\u001b[39;00m \u001b[38;5;28;43mself\u001b[39;49m\u001b[38;5;241;43m.\u001b[39;49m\u001b[43mclient\u001b[49m\u001b[38;5;241;43m.\u001b[39;49m\u001b[43mcreate\u001b[49m\u001b[43m(\u001b[49m\u001b[38;5;241;43m*\u001b[39;49m\u001b[38;5;241;43m*\u001b[39;49m\u001b[43mpayload\u001b[49m\u001b[43m)\u001b[49m \u001b[38;5;28;01mas\u001b[39;00m response:\n\u001b[0;32m    488\u001b[0m     \u001b[38;5;28;01mfor\u001b[39;00m chunk \u001b[38;5;129;01min\u001b[39;00m response:\n\u001b[0;32m    489\u001b[0m         \u001b[38;5;28;01mif\u001b[39;00m \u001b[38;5;129;01mnot\u001b[39;00m \u001b[38;5;28misinstance\u001b[39m(chunk, \u001b[38;5;28mdict\u001b[39m):\n",
      "File \u001b[1;32mc:\\Users\\kim_h\\anaconda3\\envs\\bigproject\\Lib\\site-packages\\openai\\_utils\\_utils.py:277\u001b[0m, in \u001b[0;36mrequired_args.<locals>.inner.<locals>.wrapper\u001b[1;34m(*args, **kwargs)\u001b[0m\n\u001b[0;32m    275\u001b[0m             msg \u001b[38;5;241m=\u001b[39m \u001b[38;5;124mf\u001b[39m\u001b[38;5;124m\"\u001b[39m\u001b[38;5;124mMissing required argument: \u001b[39m\u001b[38;5;132;01m{\u001b[39;00mquote(missing[\u001b[38;5;241m0\u001b[39m])\u001b[38;5;132;01m}\u001b[39;00m\u001b[38;5;124m\"\u001b[39m\n\u001b[0;32m    276\u001b[0m     \u001b[38;5;28;01mraise\u001b[39;00m \u001b[38;5;167;01mTypeError\u001b[39;00m(msg)\n\u001b[1;32m--> 277\u001b[0m \u001b[38;5;28;01mreturn\u001b[39;00m \u001b[43mfunc\u001b[49m\u001b[43m(\u001b[49m\u001b[38;5;241;43m*\u001b[39;49m\u001b[43margs\u001b[49m\u001b[43m,\u001b[49m\u001b[43m \u001b[49m\u001b[38;5;241;43m*\u001b[39;49m\u001b[38;5;241;43m*\u001b[39;49m\u001b[43mkwargs\u001b[49m\u001b[43m)\u001b[49m\n",
      "File \u001b[1;32mc:\\Users\\kim_h\\anaconda3\\envs\\bigproject\\Lib\\site-packages\\openai\\resources\\chat\\completions.py:643\u001b[0m, in \u001b[0;36mCompletions.create\u001b[1;34m(self, messages, model, frequency_penalty, function_call, functions, logit_bias, logprobs, max_tokens, n, parallel_tool_calls, presence_penalty, response_format, seed, service_tier, stop, stream, stream_options, temperature, tool_choice, tools, top_logprobs, top_p, user, extra_headers, extra_query, extra_body, timeout)\u001b[0m\n\u001b[0;32m    609\u001b[0m \u001b[38;5;129m@required_args\u001b[39m([\u001b[38;5;124m\"\u001b[39m\u001b[38;5;124mmessages\u001b[39m\u001b[38;5;124m\"\u001b[39m, \u001b[38;5;124m\"\u001b[39m\u001b[38;5;124mmodel\u001b[39m\u001b[38;5;124m\"\u001b[39m], [\u001b[38;5;124m\"\u001b[39m\u001b[38;5;124mmessages\u001b[39m\u001b[38;5;124m\"\u001b[39m, \u001b[38;5;124m\"\u001b[39m\u001b[38;5;124mmodel\u001b[39m\u001b[38;5;124m\"\u001b[39m, \u001b[38;5;124m\"\u001b[39m\u001b[38;5;124mstream\u001b[39m\u001b[38;5;124m\"\u001b[39m])\n\u001b[0;32m    610\u001b[0m \u001b[38;5;28;01mdef\u001b[39;00m \u001b[38;5;21mcreate\u001b[39m(\n\u001b[0;32m    611\u001b[0m     \u001b[38;5;28mself\u001b[39m,\n\u001b[1;32m   (...)\u001b[0m\n\u001b[0;32m    641\u001b[0m     timeout: \u001b[38;5;28mfloat\u001b[39m \u001b[38;5;241m|\u001b[39m httpx\u001b[38;5;241m.\u001b[39mTimeout \u001b[38;5;241m|\u001b[39m \u001b[38;5;28;01mNone\u001b[39;00m \u001b[38;5;241m|\u001b[39m NotGiven \u001b[38;5;241m=\u001b[39m NOT_GIVEN,\n\u001b[0;32m    642\u001b[0m ) \u001b[38;5;241m-\u001b[39m\u001b[38;5;241m>\u001b[39m ChatCompletion \u001b[38;5;241m|\u001b[39m Stream[ChatCompletionChunk]:\n\u001b[1;32m--> 643\u001b[0m     \u001b[38;5;28;01mreturn\u001b[39;00m \u001b[38;5;28;43mself\u001b[39;49m\u001b[38;5;241;43m.\u001b[39;49m\u001b[43m_post\u001b[49m\u001b[43m(\u001b[49m\n\u001b[0;32m    644\u001b[0m \u001b[43m        \u001b[49m\u001b[38;5;124;43m\"\u001b[39;49m\u001b[38;5;124;43m/chat/completions\u001b[39;49m\u001b[38;5;124;43m\"\u001b[39;49m\u001b[43m,\u001b[49m\n\u001b[0;32m    645\u001b[0m \u001b[43m        \u001b[49m\u001b[43mbody\u001b[49m\u001b[38;5;241;43m=\u001b[39;49m\u001b[43mmaybe_transform\u001b[49m\u001b[43m(\u001b[49m\n\u001b[0;32m    646\u001b[0m \u001b[43m            \u001b[49m\u001b[43m{\u001b[49m\n\u001b[0;32m    647\u001b[0m \u001b[43m                \u001b[49m\u001b[38;5;124;43m\"\u001b[39;49m\u001b[38;5;124;43mmessages\u001b[39;49m\u001b[38;5;124;43m\"\u001b[39;49m\u001b[43m:\u001b[49m\u001b[43m \u001b[49m\u001b[43mmessages\u001b[49m\u001b[43m,\u001b[49m\n\u001b[0;32m    648\u001b[0m \u001b[43m                \u001b[49m\u001b[38;5;124;43m\"\u001b[39;49m\u001b[38;5;124;43mmodel\u001b[39;49m\u001b[38;5;124;43m\"\u001b[39;49m\u001b[43m:\u001b[49m\u001b[43m \u001b[49m\u001b[43mmodel\u001b[49m\u001b[43m,\u001b[49m\n\u001b[0;32m    649\u001b[0m \u001b[43m                \u001b[49m\u001b[38;5;124;43m\"\u001b[39;49m\u001b[38;5;124;43mfrequency_penalty\u001b[39;49m\u001b[38;5;124;43m\"\u001b[39;49m\u001b[43m:\u001b[49m\u001b[43m \u001b[49m\u001b[43mfrequency_penalty\u001b[49m\u001b[43m,\u001b[49m\n\u001b[0;32m    650\u001b[0m \u001b[43m                \u001b[49m\u001b[38;5;124;43m\"\u001b[39;49m\u001b[38;5;124;43mfunction_call\u001b[39;49m\u001b[38;5;124;43m\"\u001b[39;49m\u001b[43m:\u001b[49m\u001b[43m \u001b[49m\u001b[43mfunction_call\u001b[49m\u001b[43m,\u001b[49m\n\u001b[0;32m    651\u001b[0m \u001b[43m                \u001b[49m\u001b[38;5;124;43m\"\u001b[39;49m\u001b[38;5;124;43mfunctions\u001b[39;49m\u001b[38;5;124;43m\"\u001b[39;49m\u001b[43m:\u001b[49m\u001b[43m \u001b[49m\u001b[43mfunctions\u001b[49m\u001b[43m,\u001b[49m\n\u001b[0;32m    652\u001b[0m \u001b[43m                \u001b[49m\u001b[38;5;124;43m\"\u001b[39;49m\u001b[38;5;124;43mlogit_bias\u001b[39;49m\u001b[38;5;124;43m\"\u001b[39;49m\u001b[43m:\u001b[49m\u001b[43m \u001b[49m\u001b[43mlogit_bias\u001b[49m\u001b[43m,\u001b[49m\n\u001b[0;32m    653\u001b[0m \u001b[43m                \u001b[49m\u001b[38;5;124;43m\"\u001b[39;49m\u001b[38;5;124;43mlogprobs\u001b[39;49m\u001b[38;5;124;43m\"\u001b[39;49m\u001b[43m:\u001b[49m\u001b[43m \u001b[49m\u001b[43mlogprobs\u001b[49m\u001b[43m,\u001b[49m\n\u001b[0;32m    654\u001b[0m \u001b[43m                \u001b[49m\u001b[38;5;124;43m\"\u001b[39;49m\u001b[38;5;124;43mmax_tokens\u001b[39;49m\u001b[38;5;124;43m\"\u001b[39;49m\u001b[43m:\u001b[49m\u001b[43m \u001b[49m\u001b[43mmax_tokens\u001b[49m\u001b[43m,\u001b[49m\n\u001b[0;32m    655\u001b[0m \u001b[43m                \u001b[49m\u001b[38;5;124;43m\"\u001b[39;49m\u001b[38;5;124;43mn\u001b[39;49m\u001b[38;5;124;43m\"\u001b[39;49m\u001b[43m:\u001b[49m\u001b[43m \u001b[49m\u001b[43mn\u001b[49m\u001b[43m,\u001b[49m\n\u001b[0;32m    656\u001b[0m \u001b[43m                \u001b[49m\u001b[38;5;124;43m\"\u001b[39;49m\u001b[38;5;124;43mparallel_tool_calls\u001b[39;49m\u001b[38;5;124;43m\"\u001b[39;49m\u001b[43m:\u001b[49m\u001b[43m \u001b[49m\u001b[43mparallel_tool_calls\u001b[49m\u001b[43m,\u001b[49m\n\u001b[0;32m    657\u001b[0m \u001b[43m                \u001b[49m\u001b[38;5;124;43m\"\u001b[39;49m\u001b[38;5;124;43mpresence_penalty\u001b[39;49m\u001b[38;5;124;43m\"\u001b[39;49m\u001b[43m:\u001b[49m\u001b[43m \u001b[49m\u001b[43mpresence_penalty\u001b[49m\u001b[43m,\u001b[49m\n\u001b[0;32m    658\u001b[0m \u001b[43m                \u001b[49m\u001b[38;5;124;43m\"\u001b[39;49m\u001b[38;5;124;43mresponse_format\u001b[39;49m\u001b[38;5;124;43m\"\u001b[39;49m\u001b[43m:\u001b[49m\u001b[43m \u001b[49m\u001b[43mresponse_format\u001b[49m\u001b[43m,\u001b[49m\n\u001b[0;32m    659\u001b[0m \u001b[43m                \u001b[49m\u001b[38;5;124;43m\"\u001b[39;49m\u001b[38;5;124;43mseed\u001b[39;49m\u001b[38;5;124;43m\"\u001b[39;49m\u001b[43m:\u001b[49m\u001b[43m \u001b[49m\u001b[43mseed\u001b[49m\u001b[43m,\u001b[49m\n\u001b[0;32m    660\u001b[0m \u001b[43m                \u001b[49m\u001b[38;5;124;43m\"\u001b[39;49m\u001b[38;5;124;43mservice_tier\u001b[39;49m\u001b[38;5;124;43m\"\u001b[39;49m\u001b[43m:\u001b[49m\u001b[43m \u001b[49m\u001b[43mservice_tier\u001b[49m\u001b[43m,\u001b[49m\n\u001b[0;32m    661\u001b[0m \u001b[43m                \u001b[49m\u001b[38;5;124;43m\"\u001b[39;49m\u001b[38;5;124;43mstop\u001b[39;49m\u001b[38;5;124;43m\"\u001b[39;49m\u001b[43m:\u001b[49m\u001b[43m \u001b[49m\u001b[43mstop\u001b[49m\u001b[43m,\u001b[49m\n\u001b[0;32m    662\u001b[0m \u001b[43m                \u001b[49m\u001b[38;5;124;43m\"\u001b[39;49m\u001b[38;5;124;43mstream\u001b[39;49m\u001b[38;5;124;43m\"\u001b[39;49m\u001b[43m:\u001b[49m\u001b[43m \u001b[49m\u001b[43mstream\u001b[49m\u001b[43m,\u001b[49m\n\u001b[0;32m    663\u001b[0m \u001b[43m                \u001b[49m\u001b[38;5;124;43m\"\u001b[39;49m\u001b[38;5;124;43mstream_options\u001b[39;49m\u001b[38;5;124;43m\"\u001b[39;49m\u001b[43m:\u001b[49m\u001b[43m \u001b[49m\u001b[43mstream_options\u001b[49m\u001b[43m,\u001b[49m\n\u001b[0;32m    664\u001b[0m \u001b[43m                \u001b[49m\u001b[38;5;124;43m\"\u001b[39;49m\u001b[38;5;124;43mtemperature\u001b[39;49m\u001b[38;5;124;43m\"\u001b[39;49m\u001b[43m:\u001b[49m\u001b[43m \u001b[49m\u001b[43mtemperature\u001b[49m\u001b[43m,\u001b[49m\n\u001b[0;32m    665\u001b[0m \u001b[43m                \u001b[49m\u001b[38;5;124;43m\"\u001b[39;49m\u001b[38;5;124;43mtool_choice\u001b[39;49m\u001b[38;5;124;43m\"\u001b[39;49m\u001b[43m:\u001b[49m\u001b[43m \u001b[49m\u001b[43mtool_choice\u001b[49m\u001b[43m,\u001b[49m\n\u001b[0;32m    666\u001b[0m \u001b[43m                \u001b[49m\u001b[38;5;124;43m\"\u001b[39;49m\u001b[38;5;124;43mtools\u001b[39;49m\u001b[38;5;124;43m\"\u001b[39;49m\u001b[43m:\u001b[49m\u001b[43m \u001b[49m\u001b[43mtools\u001b[49m\u001b[43m,\u001b[49m\n\u001b[0;32m    667\u001b[0m \u001b[43m                \u001b[49m\u001b[38;5;124;43m\"\u001b[39;49m\u001b[38;5;124;43mtop_logprobs\u001b[39;49m\u001b[38;5;124;43m\"\u001b[39;49m\u001b[43m:\u001b[49m\u001b[43m \u001b[49m\u001b[43mtop_logprobs\u001b[49m\u001b[43m,\u001b[49m\n\u001b[0;32m    668\u001b[0m \u001b[43m                \u001b[49m\u001b[38;5;124;43m\"\u001b[39;49m\u001b[38;5;124;43mtop_p\u001b[39;49m\u001b[38;5;124;43m\"\u001b[39;49m\u001b[43m:\u001b[49m\u001b[43m \u001b[49m\u001b[43mtop_p\u001b[49m\u001b[43m,\u001b[49m\n\u001b[0;32m    669\u001b[0m \u001b[43m                \u001b[49m\u001b[38;5;124;43m\"\u001b[39;49m\u001b[38;5;124;43muser\u001b[39;49m\u001b[38;5;124;43m\"\u001b[39;49m\u001b[43m:\u001b[49m\u001b[43m \u001b[49m\u001b[43muser\u001b[49m\u001b[43m,\u001b[49m\n\u001b[0;32m    670\u001b[0m \u001b[43m            \u001b[49m\u001b[43m}\u001b[49m\u001b[43m,\u001b[49m\n\u001b[0;32m    671\u001b[0m \u001b[43m            \u001b[49m\u001b[43mcompletion_create_params\u001b[49m\u001b[38;5;241;43m.\u001b[39;49m\u001b[43mCompletionCreateParams\u001b[49m\u001b[43m,\u001b[49m\n\u001b[0;32m    672\u001b[0m \u001b[43m        \u001b[49m\u001b[43m)\u001b[49m\u001b[43m,\u001b[49m\n\u001b[0;32m    673\u001b[0m \u001b[43m        \u001b[49m\u001b[43moptions\u001b[49m\u001b[38;5;241;43m=\u001b[39;49m\u001b[43mmake_request_options\u001b[49m\u001b[43m(\u001b[49m\n\u001b[0;32m    674\u001b[0m \u001b[43m            \u001b[49m\u001b[43mextra_headers\u001b[49m\u001b[38;5;241;43m=\u001b[39;49m\u001b[43mextra_headers\u001b[49m\u001b[43m,\u001b[49m\u001b[43m \u001b[49m\u001b[43mextra_query\u001b[49m\u001b[38;5;241;43m=\u001b[39;49m\u001b[43mextra_query\u001b[49m\u001b[43m,\u001b[49m\u001b[43m \u001b[49m\u001b[43mextra_body\u001b[49m\u001b[38;5;241;43m=\u001b[39;49m\u001b[43mextra_body\u001b[49m\u001b[43m,\u001b[49m\u001b[43m \u001b[49m\u001b[43mtimeout\u001b[49m\u001b[38;5;241;43m=\u001b[39;49m\u001b[43mtimeout\u001b[49m\n\u001b[0;32m    675\u001b[0m \u001b[43m        \u001b[49m\u001b[43m)\u001b[49m\u001b[43m,\u001b[49m\n\u001b[0;32m    676\u001b[0m \u001b[43m        \u001b[49m\u001b[43mcast_to\u001b[49m\u001b[38;5;241;43m=\u001b[39;49m\u001b[43mChatCompletion\u001b[49m\u001b[43m,\u001b[49m\n\u001b[0;32m    677\u001b[0m \u001b[43m        \u001b[49m\u001b[43mstream\u001b[49m\u001b[38;5;241;43m=\u001b[39;49m\u001b[43mstream\u001b[49m\u001b[43m \u001b[49m\u001b[38;5;129;43;01mor\u001b[39;49;00m\u001b[43m \u001b[49m\u001b[38;5;28;43;01mFalse\u001b[39;49;00m\u001b[43m,\u001b[49m\n\u001b[0;32m    678\u001b[0m \u001b[43m        \u001b[49m\u001b[43mstream_cls\u001b[49m\u001b[38;5;241;43m=\u001b[39;49m\u001b[43mStream\u001b[49m\u001b[43m[\u001b[49m\u001b[43mChatCompletionChunk\u001b[49m\u001b[43m]\u001b[49m\u001b[43m,\u001b[49m\n\u001b[0;32m    679\u001b[0m \u001b[43m    \u001b[49m\u001b[43m)\u001b[49m\n",
      "File \u001b[1;32mc:\\Users\\kim_h\\anaconda3\\envs\\bigproject\\Lib\\site-packages\\openai\\_base_client.py:1266\u001b[0m, in \u001b[0;36mSyncAPIClient.post\u001b[1;34m(self, path, cast_to, body, options, files, stream, stream_cls)\u001b[0m\n\u001b[0;32m   1252\u001b[0m \u001b[38;5;28;01mdef\u001b[39;00m \u001b[38;5;21mpost\u001b[39m(\n\u001b[0;32m   1253\u001b[0m     \u001b[38;5;28mself\u001b[39m,\n\u001b[0;32m   1254\u001b[0m     path: \u001b[38;5;28mstr\u001b[39m,\n\u001b[1;32m   (...)\u001b[0m\n\u001b[0;32m   1261\u001b[0m     stream_cls: \u001b[38;5;28mtype\u001b[39m[_StreamT] \u001b[38;5;241m|\u001b[39m \u001b[38;5;28;01mNone\u001b[39;00m \u001b[38;5;241m=\u001b[39m \u001b[38;5;28;01mNone\u001b[39;00m,\n\u001b[0;32m   1262\u001b[0m ) \u001b[38;5;241m-\u001b[39m\u001b[38;5;241m>\u001b[39m ResponseT \u001b[38;5;241m|\u001b[39m _StreamT:\n\u001b[0;32m   1263\u001b[0m     opts \u001b[38;5;241m=\u001b[39m FinalRequestOptions\u001b[38;5;241m.\u001b[39mconstruct(\n\u001b[0;32m   1264\u001b[0m         method\u001b[38;5;241m=\u001b[39m\u001b[38;5;124m\"\u001b[39m\u001b[38;5;124mpost\u001b[39m\u001b[38;5;124m\"\u001b[39m, url\u001b[38;5;241m=\u001b[39mpath, json_data\u001b[38;5;241m=\u001b[39mbody, files\u001b[38;5;241m=\u001b[39mto_httpx_files(files), \u001b[38;5;241m*\u001b[39m\u001b[38;5;241m*\u001b[39moptions\n\u001b[0;32m   1265\u001b[0m     )\n\u001b[1;32m-> 1266\u001b[0m     \u001b[38;5;28;01mreturn\u001b[39;00m cast(ResponseT, \u001b[38;5;28;43mself\u001b[39;49m\u001b[38;5;241;43m.\u001b[39;49m\u001b[43mrequest\u001b[49m\u001b[43m(\u001b[49m\u001b[43mcast_to\u001b[49m\u001b[43m,\u001b[49m\u001b[43m \u001b[49m\u001b[43mopts\u001b[49m\u001b[43m,\u001b[49m\u001b[43m \u001b[49m\u001b[43mstream\u001b[49m\u001b[38;5;241;43m=\u001b[39;49m\u001b[43mstream\u001b[49m\u001b[43m,\u001b[49m\u001b[43m \u001b[49m\u001b[43mstream_cls\u001b[49m\u001b[38;5;241;43m=\u001b[39;49m\u001b[43mstream_cls\u001b[49m\u001b[43m)\u001b[49m)\n",
      "File \u001b[1;32mc:\\Users\\kim_h\\anaconda3\\envs\\bigproject\\Lib\\site-packages\\openai\\_base_client.py:942\u001b[0m, in \u001b[0;36mSyncAPIClient.request\u001b[1;34m(self, cast_to, options, remaining_retries, stream, stream_cls)\u001b[0m\n\u001b[0;32m    933\u001b[0m \u001b[38;5;28;01mdef\u001b[39;00m \u001b[38;5;21mrequest\u001b[39m(\n\u001b[0;32m    934\u001b[0m     \u001b[38;5;28mself\u001b[39m,\n\u001b[0;32m    935\u001b[0m     cast_to: Type[ResponseT],\n\u001b[1;32m   (...)\u001b[0m\n\u001b[0;32m    940\u001b[0m     stream_cls: \u001b[38;5;28mtype\u001b[39m[_StreamT] \u001b[38;5;241m|\u001b[39m \u001b[38;5;28;01mNone\u001b[39;00m \u001b[38;5;241m=\u001b[39m \u001b[38;5;28;01mNone\u001b[39;00m,\n\u001b[0;32m    941\u001b[0m ) \u001b[38;5;241m-\u001b[39m\u001b[38;5;241m>\u001b[39m ResponseT \u001b[38;5;241m|\u001b[39m _StreamT:\n\u001b[1;32m--> 942\u001b[0m     \u001b[38;5;28;01mreturn\u001b[39;00m \u001b[38;5;28;43mself\u001b[39;49m\u001b[38;5;241;43m.\u001b[39;49m\u001b[43m_request\u001b[49m\u001b[43m(\u001b[49m\n\u001b[0;32m    943\u001b[0m \u001b[43m        \u001b[49m\u001b[43mcast_to\u001b[49m\u001b[38;5;241;43m=\u001b[39;49m\u001b[43mcast_to\u001b[49m\u001b[43m,\u001b[49m\n\u001b[0;32m    944\u001b[0m \u001b[43m        \u001b[49m\u001b[43moptions\u001b[49m\u001b[38;5;241;43m=\u001b[39;49m\u001b[43moptions\u001b[49m\u001b[43m,\u001b[49m\n\u001b[0;32m    945\u001b[0m \u001b[43m        \u001b[49m\u001b[43mstream\u001b[49m\u001b[38;5;241;43m=\u001b[39;49m\u001b[43mstream\u001b[49m\u001b[43m,\u001b[49m\n\u001b[0;32m    946\u001b[0m \u001b[43m        \u001b[49m\u001b[43mstream_cls\u001b[49m\u001b[38;5;241;43m=\u001b[39;49m\u001b[43mstream_cls\u001b[49m\u001b[43m,\u001b[49m\n\u001b[0;32m    947\u001b[0m \u001b[43m        \u001b[49m\u001b[43mremaining_retries\u001b[49m\u001b[38;5;241;43m=\u001b[39;49m\u001b[43mremaining_retries\u001b[49m\u001b[43m,\u001b[49m\n\u001b[0;32m    948\u001b[0m \u001b[43m    \u001b[49m\u001b[43m)\u001b[49m\n",
      "File \u001b[1;32mc:\\Users\\kim_h\\anaconda3\\envs\\bigproject\\Lib\\site-packages\\openai\\_base_client.py:1046\u001b[0m, in \u001b[0;36mSyncAPIClient._request\u001b[1;34m(self, cast_to, options, remaining_retries, stream, stream_cls)\u001b[0m\n\u001b[0;32m   1043\u001b[0m         err\u001b[38;5;241m.\u001b[39mresponse\u001b[38;5;241m.\u001b[39mread()\n\u001b[0;32m   1045\u001b[0m     log\u001b[38;5;241m.\u001b[39mdebug(\u001b[38;5;124m\"\u001b[39m\u001b[38;5;124mRe-raising status error\u001b[39m\u001b[38;5;124m\"\u001b[39m)\n\u001b[1;32m-> 1046\u001b[0m     \u001b[38;5;28;01mraise\u001b[39;00m \u001b[38;5;28mself\u001b[39m\u001b[38;5;241m.\u001b[39m_make_status_error_from_response(err\u001b[38;5;241m.\u001b[39mresponse) \u001b[38;5;28;01mfrom\u001b[39;00m \u001b[38;5;28;01mNone\u001b[39;00m\n\u001b[0;32m   1048\u001b[0m \u001b[38;5;28;01mreturn\u001b[39;00m \u001b[38;5;28mself\u001b[39m\u001b[38;5;241m.\u001b[39m_process_response(\n\u001b[0;32m   1049\u001b[0m     cast_to\u001b[38;5;241m=\u001b[39mcast_to,\n\u001b[0;32m   1050\u001b[0m     options\u001b[38;5;241m=\u001b[39moptions,\n\u001b[1;32m   (...)\u001b[0m\n\u001b[0;32m   1053\u001b[0m     stream_cls\u001b[38;5;241m=\u001b[39mstream_cls,\n\u001b[0;32m   1054\u001b[0m )\n",
      "\u001b[1;31mBadRequestError\u001b[0m: Error code: 400 - {'error': {'message': \"This model's maximum context length is 16385 tokens. However, your messages resulted in 22174 tokens. Please reduce the length of the messages.\", 'type': 'invalid_request_error', 'param': 'messages', 'code': 'context_length_exceeded'}}"
     ]
    }
   ],
   "source": [
    "question   = '인도 통관 및 운송에 대해서 알려줘.'\n",
    "answer = pipeline.chat_generation(question)\n",
    "\n",
    "print(answer)"
   ]
  },
  {
   "cell_type": "code",
   "execution_count": 12,
   "metadata": {},
   "outputs": [
    {
     "data": {
      "text/plain": [
       "dict_keys(['input', 'chat_history', 'context', 'answer'])"
      ]
     },
     "execution_count": 12,
     "metadata": {},
     "output_type": "execute_result"
    }
   ],
   "source": [
    "answer.keys()"
   ]
  },
  {
   "cell_type": "code",
   "execution_count": 13,
   "metadata": {},
   "outputs": [
    {
     "name": "stdout",
     "output_type": "stream",
     "text": [
      "인도의 통관 및 운송 절차는 다음과 같이 진행됩니다:\n",
      "\n",
      "1. 통관 절차:\n",
      "- 인도의 통관은 수입 통관 및 검역을 위한 사전 준비 절차가 중요합니다. 통관에 필요한 서류를 정확하게 제출해야 하며, 서류의 오류나 불일치로 인해 통관이 지연될 수 있습니다.\n",
      "- 수출하는 물품의 경우 포장명세서(P/L)와 상업송장(C/I)을 컨테이너별로 철저히 작성해야 합니다. 인도 세관은 실물 검사를 철저히 실시하며, 서류와 화물이 일치하지 않을 경우 통관이 불가능할 수 있습니다.\n",
      "- 인도의 인프라가 낙후되어 있고 운송수단이 노후하기 때문에 내륙운송 과정에서 사고가 발생할 수 있습니다. 따라서 내륙운송보험에 가입하는 것이 권장됩니다.\n",
      "\n",
      "2. 운송 시간:\n",
      "- 인도에서 통관에 소요되는 시간은 행정상 운송 수입의 경우 약 34 근무일이 소요되며, 항공 운송의 경우 약 12 근무일이 소요됩니다.\n",
      "- 물품이 입항하면 보세구역에 적하되고, 이후 전자데이터 교환(EDI) 신고 또는 수작업 신고를 통해 수입신고를 진행합니다. 이후 관세청의 수입요건 및 관세 평가 등을 검사하는 과정을 거치며, 관련 서류 및 관세율을 재점검합니다.\n",
      "\n",
      "이러한 통관 및 운송 절차를 준수하고 이해하는 것이 인도에서의 수출 사업을 원활히 진행하는 데 도움이 될 것입니다.\n"
     ]
    }
   ],
   "source": [
    "print(answer['answer'])\n",
    "# stream_response(answer['answer'])"
   ]
  },
  {
   "cell_type": "code",
   "execution_count": 14,
   "metadata": {},
   "outputs": [
    {
     "name": "stdout",
     "output_type": "stream",
     "text": [
      "근거:\n",
      "{'category': '3. 정책 및 무역', 'datetimes': '2024-07-08 16:42:32', 'filename': 'data/PDF_with_contents/3. 정책 및 무역/[정책][관세청][2019.11.07]신남방국 통관·통상환경 및 FTA 활용방안.pdf', 'page_no': 9, 'subcategory': '1. 통관 조직 및 절차'}\n",
      "{'chunk': 0, 'filename': 'data/PDF_without_contents\\\\3. 정책 및 무역\\\\[정책][제약산업정보포털][2019.04.08]인도 통관 및 운송.pdf', 'keyword': '키워드: 통관제도, 통관 유형별 절차, 인도, 통관 소요 시간, 행정상 운송, 항공 운송, 수입신고, 인도 관세청, Appraiser Section, Audit Section.'}\n",
      "{'chunk': 52, 'filename': 'data/PDF_without_contents\\\\1. 법률 및 규제\\\\[법률_규범_특허][코트라][2022]인도 비즈니스 가이드.pdf', 'keyword': '키워드: 인프라, 토지 거래, 비용 리스크, 인종, 언어, 생활문화, 제곱 미터 당 비용'}\n",
      "{'category': '3. 정책 및 무역', 'datetimes': '2024-07-08 16:41:51', 'filename': 'data/PDF_with_contents/3. 정책 및 무역/[정책][KATI 농식품수출정보][2019]인도 전문 식품수입.pdf', 'page_no': 21, 'subcategory': '다. 통관 및 검역 유의사항'}\n",
      "{'chunk': 232, 'filename': 'data/PDF_without_contents\\\\2. 경제 및 시장 분석\\\\[전체 정보][KOTRA 해외경제정보 Dream][2023]인도.pdf', 'keyword': '키워드: 통관제도, 통관 유형별 절차, 인도, 일반통관, 수입 신고, 전자데이터교환EDI, 수작업신고, 인도 관세청, Appraiser Section, Audit Section.'}\n"
     ]
    }
   ],
   "source": [
    "\n",
    "print('근거:')\n",
    "# 근거 추출\n",
    "for data in answer['context']:\n",
    "    print(data.metadata)\n"
   ]
  },
  {
   "cell_type": "markdown",
   "metadata": {},
   "source": [
    "## 2. 게시물 제목 생성"
   ]
  },
  {
   "cell_type": "code",
   "execution_count": 13,
   "metadata": {},
   "outputs": [
    {
     "name": "stdout",
     "output_type": "stream",
     "text": [
      "1. \"인도 수입 통관의 중요성과 유의사항\"\n",
      "2. \"인도 통관 및 검역 프로세스 파악하기\"\n",
      "3. \"인도 내륙운송 보험가입 필요성\"\n",
      "4. \"인도 통관 유형별 절차와 시간 소요\"\n",
      "5. \"인도의 통관 및 운송 시스템 파악하기\""
     ]
    }
   ],
   "source": [
    "question   = '인도 통관 및 운송'\n",
    "titles = pipeline.title_generation(question)           # 제목 개수 정할 수 있음"
   ]
  },
  {
   "cell_type": "code",
   "execution_count": 14,
   "metadata": {},
   "outputs": [
    {
     "data": {
      "text/plain": [
       "[Document(metadata={'category': '3. 정책 및 무역', 'datetimes': '2024-07-08 16:42:32', 'filename': 'data/PDF_with_contents/3. 정책 및 무역/[정책][관세청][2019.11.07]신남방국 통관·통상환경 및 FTA 활용방안.pdf', 'page_no': 9, 'subcategory': '1. 통관 조직 및 절차'}, page_content='제Ⅲ절\\n인도의 통관 절차\\n01\\n통관 조직 및 절차\\n'),\n",
       " Document(metadata={'category': '3. 정책 및 무역', 'datetimes': '2024-07-08 16:41:51', 'filename': 'data/PDF_with_contents/3. 정책 및 무역/[정책][KATI 농식품수출정보][2019]인도 전문 식품수입.pdf', 'page_no': 21, 'subcategory': '다. 통관 및 검역 유의사항'}, page_content='인도 전문 식품수입 벤더현황\\n다. 통관 및 검역 유의사항\\n(1) 인도 통관, 사전 준비가 관건\\n▪\\n인도의 통관은 수입 통관 및 검역을 위한 사전 준비 절차가 중요함\\n▪\\n통관에 필요한 서류를 제출하면 서류의 기재 오류나 서류 상호간 불일치를\\n수정하기가 매우 어려우며 이로 인해 통관 절차가 2~3주씩 지연되는 경우도\\n있어 철저한 서류 작성이 필수적임\\n▪\\n또한 인도로 수출하는 물품의 경우 포장명세서(P/L)와 상업송장(C/I)을\\n컨테이너별로 철저히 작성해야 함. 인도 세관은 한 컨테이너 안에서 박스별로\\n화물의 일치 여부를 조사하는 등 실물 검사가 철저하며 서류와 화물 불일치\\n시 통관이 불가능함\\n▪\\n특히 인도는 도로와 항만 등 인프라가 낙후되어 있고 운송수단도 노후하기\\n때문에 내륙운송 과정에서 사고가 자주 발생하므로 내륙운송보험에 가입해야\\n함\\n43\\n'),\n",
       " Document(metadata={'chunk': 0, 'filename': 'data/PDF_without_contents\\\\3. 정책 및 무역\\\\[정책][제약산업정보포털][2019.04.08]인도 통관 및 운송.pdf', 'keyword': '키워드: 통관제도, 통관 유형별 절차, 인도, 통관 소요 시간, 행정상 운송, 항공 운송, 수입신고, 인도 관세청, Appraiser Section, Audit Section.'}, page_content='5 통관 및 운송\\n가 통관제도\\n통관 유형별 절차\\n1 정식통관\\n인도에서 일반적인 경우 통관에 소요되는 시간은 행정상 운송 수입의 경우 34 근무일 항공 운송은 약 12 근무일이 소요된다 일단 물\\n품이 입항하게 되면 보세구역장치에 적하되고 이후 전자데이터 교환EDI 신고 또는 수작업신고 통해 수입신고를 하게 된다 이후 인도\\n관세청의 수입요건 관세 평가 등을 검사하는 Appraiser Section과 관련 서류 및 관세율을 재점검하는 Audit Section 과정을 거치게 되'),\n",
       " Document(metadata={'category': '3. 정책 및 무역', 'datetimes': '2024-07-08 16:42:32', 'filename': 'data/PDF_with_contents/3. 정책 및 무역/[정책][관세청][2019.11.07]신남방국 통관·통상환경 및 FTA 활용방안.pdf', 'page_no': 11, 'subcategory': '3. 인도의 주요 인증 제도'}, page_content='제Ⅲ절\\n인도의 통관 절차\\n03\\n인도의\\n주요 인증 제도\\n'),\n",
       " Document(metadata={'chunk': 554, 'filename': 'data/PDF_without_contents\\\\2. 경제 및 시장 분석\\\\[전체 정보][KOTRA 해외경제정보 Dream][2023]인도.pdf', 'keyword': '키워드: 인도, 교통, 도로, 열악, 고속도로 공사, 현대화, 교통혼잡, 출퇴근 시간, 순환도로, 우회로, 국제면허증, 자가운전, 자동차.'}, page_content='외의 농촌 지역의 경우 카드 결제가 되지 않는 경우가 많다\\n나 교통\\n교통상황\\n인도의 도로는 포장상태가 대체로 열악하나 최근 대규모 고속도로 공사를 통해 현대화 되고 있다 특히 출퇴근 시간에는 교통혼잡이 심한\\n편이다 순환도로나 우회로가 충분히 갖추어져 있지 않기 때문에 중요한 일정의 경우 예정시간보다 30분에서 1시간 가량 미리 출발하는\\n것이 좋다 인도는 한국과 운전면허와 관련된 조약이 체결되어 있기 때문에 국제면허증을 가지고 자가운전을 할 수가 있다 하지만 자동차')]"
      ]
     },
     "execution_count": 14,
     "metadata": {},
     "output_type": "execute_result"
    }
   ],
   "source": [
    "titles['context']"
   ]
  },
  {
   "cell_type": "code",
   "execution_count": 15,
   "metadata": {},
   "outputs": [
    {
     "name": "stdout",
     "output_type": "stream",
     "text": [
      "1. \"인도 수입 통관의 중요성과 유의사항\"\n",
      "2. \"인도 통관 및 검역 프로세스 파악하기\"\n",
      "3. \"인도 내륙운송 보험가입 필요성\"\n",
      "4. \"인도 통관 유형별 절차와 시간 소요\"\n",
      "5. \"인도의 통관 및 운송 시스템 파악하기\"\n"
     ]
    }
   ],
   "source": [
    "print(titles['answer'])"
   ]
  },
  {
   "cell_type": "markdown",
   "metadata": {},
   "source": [
    "## 3. 게시물 생성"
   ]
  },
  {
   "cell_type": "code",
   "execution_count": 19,
   "metadata": {},
   "outputs": [
    {
     "name": "stdout",
     "output_type": "stream",
     "text": [
      "## 고객의 질문:\n",
      "인도 수입 통관의 중요성과 유의사항\n",
      "\n",
      "## 제공된 맥락 정보:\n",
      "인도 전문 식품수입 벤더현황\n",
      "다. 통관 및 검역 유의사항\n",
      "(1) 인도 통관, 사전 준비가 관건\n",
      "▪ 인도의 통관은 수입 통관 및 검역을 위한 사전 준비 절차가 중요함\n",
      "▪ 통관에 필요한 서류를 제출하면 서류의 기재 오류나 서류 상호간 불일치를 수정하기가 매우 어려우며 이로 인해 통관 절차가 2~3주씩 지연되는 경우도 있어 철저한 서류 작성이 필수적임\n",
      "▪ 또한 인도로 수출하는 물품의 경우 포장명세서(P/L)와 상업송장(C/I)을 컨테이너별로 철저히 작성해야 함. 인도 세관은 한 컨테이너 안에서 박스별로 화물의 일치 여부를 조사하는 등 실물 검사가 철저하며 서류와 화물 불일치 시 통관이 불가능함\n",
      "▪ 특히 인도는 도로와 항만 등 인프라가 낙후되어 있고 운송수단도 노후하기 때문에 내륙운송 과정에서 사고가 자주 발생하므로 내륙운송보험에 가입해야 함\n",
      "\n",
      "### 1. 수입 통관의 중요성\n",
      "인도에서의 수입 통관은 비즈니스 성공에 있어서 중요한 요소 중 하나입니다. 올바른 통관 절차를 준수하고 필요한 서류를 정확하게 제출하는 것은 시간과 비용을 절약하고 불필요한 지연을 방지하는 데 도움이 됩니다. 서류 작성 시 신중함이 필수이며, 오류나 불일치로 인한 통관 지연은 회사의 생산 및 판매 활동에 부정적인 영향을 미칠 수 있습니다.\n",
      "\n",
      "### 2. 필수 서류 및 유의사항\n",
      "인도로 물품을 수출할 때는 포장명세서(P/L)와 상업송장(C/I)을 각각의 컨테이너에 철저히 작성해야 합니다. 또한, 내륙운송 과정에서 발생할 수 있는 사고에 대비하여 내륙운송보험에 가입하는 것이 중요합니다. 서류와 화물의 일치 여부를 철저히 확인하는 인도 세관의 실물 검사는 통관을 원활하게 진행하기 위해 필수적입니다.\n",
      "\n",
      "### 3. 세부 수입 절차\n",
      "인도의 수입 통관 절차는 세관검사 후 납부하는 등 일반적인 순서를 따릅니다. 수입자는 수입 물품에 대한 수입신고를 하기 전에 반드시 수출입자코드를 발급받아야 하며, 적하목록(IGM)을 제출해야 합니다. 또한, 수입자는 수입신고서와 관련 서류를 제출하여 물품에 대한 수입신고를 진행해야 합니다. 가격 신고는 세액을 스스로 신고하고 납부하는 Self-assessment 방식으로 이루어지며, 원산지 증명서 등의 서류도 필요합니다.\n",
      "\n",
      "이렇게 인도의 수입 통관에 대한 이해와 준비는 성공적인 비즈니스 운영을 위해 중요한 요소이므로 신중한 계획과 실행이 필요합니다.{'input': '1. \"인도 수입 통관의 중요성과 유의사항\"', 'context': [Document(metadata={'category': '3. 정책 및 무역', 'datetimes': '2024-07-08 16:41:51', 'filename': 'data/PDF_with_contents/3. 정책 및 무역/[정책][KATI 농식품수출정보][2019]인도 전문 식품수입.pdf', 'page_no': 21, 'subcategory': '다. 통관 및 검역 유의사항'}, page_content='인도 전문 식품수입 벤더현황\\n다. 통관 및 검역 유의사항\\n(1) 인도 통관, 사전 준비가 관건\\n▪\\n인도의 통관은 수입 통관 및 검역을 위한 사전 준비 절차가 중요함\\n▪\\n통관에 필요한 서류를 제출하면 서류의 기재 오류나 서류 상호간 불일치를\\n수정하기가 매우 어려우며 이로 인해 통관 절차가 2~3주씩 지연되는 경우도\\n있어 철저한 서류 작성이 필수적임\\n▪\\n또한 인도로 수출하는 물품의 경우 포장명세서(P/L)와 상업송장(C/I)을\\n컨테이너별로 철저히 작성해야 함. 인도 세관은 한 컨테이너 안에서 박스별로\\n화물의 일치 여부를 조사하는 등 실물 검사가 철저하며 서류와 화물 불일치\\n시 통관이 불가능함\\n▪\\n특히 인도는 도로와 항만 등 인프라가 낙후되어 있고 운송수단도 노후하기\\n때문에 내륙운송 과정에서 사고가 자주 발생하므로 내륙운송보험에 가입해야\\n함\\n43\\n'), Document(metadata={'category': '2. 경제 및 시장 분석', 'datetimes': '2024-07-08 16:41:14', 'filename': 'data/PDF_with_contents/2. 경제 및 시장 분석/[인도_펫산업_시장분석][한국농수산식품유통공사][2017] 2017년 농식품 해외시장 맞춤조사(인도_개사료).pdf', 'page_no': 26, 'subcategory': '4. 통관 및 검역 주의사항'}, page_content='4. 통관 및 검역 유의사항\\n인도 통관, 사전 준비가 관건\\n인도의 통관은 수입 통관 및 검역을 위한 사전 준비 절차가 중요함\\n통관에 필요한 서류를 구비할 시 서류의 기재오류나 서류 상호간 불일치를\\n수정하기가 매우 어려우며 이로 인해 통관 절차가 2 ~ 3주씩 지연되는 경우도\\n있어 철저한 서류 작성이 필수적임\\n또한 인도로 수출하는 물품의 경우 포장명세서(P/L)와 상업송장(C/I)을\\n컨테이너별로 철저히 작성해야함. 인도 세관은 한 컨테이너 안에서 박스별로\\n화물이 일치하는지를 조사하는 등 실물검사가 철저하며 서류와 화물 불일치 시\\n통관이 불가능함\\n특히 인도는 도로와 항만 등 인프라가 낙후되어 있고 운송수단도 노후하기\\n때문에 내륙운송과정에서 사고가 자주 발생하므로 내륙운송보험에 가입해야함\\nInterview Info\\n“원산지증명서, 개사료 성분분석표, 포장명세서, 송장, 선하증권은 반드시 필요하며, 검역은 약 30~40일 정도가\\n소요된다. 수입회사 입장에서는 성분분석표를 기관에 반드시 제출해야하므로 제품의 성분분석표는 수출업체\\n가 항상 준비해줘야 한다.”\\n- 애완동물 사료 수입 유통업체 Sayon Overseas\\n구매 담당자 Mr. Dheepakh와의 인터뷰 中, 2017.04\\nInterview Info\\n“개사료 제품의 수입절차는 특별한 것은 없으나 사료에 들어가는 재료 중에 육류 성분이 있으면 축산·낙농업부\\n가 발행하는 수입 위생 허가증과 같은 서류를 추가로 발급받아야 한다.”\\n- 강아지용 비타민 수입 유통업체 Venttura Bioceuticals\\n구매 담당자 Mr. Uday Kulkarni와의 인터뷰 中, 2017.04\\n- 52 -\\n'), Document(metadata={'category': '3. 정책 및 무역', 'datetimes': '2024-07-08 16:42:32', 'filename': 'data/PDF_with_contents/3. 정책 및 무역/[정책][관세청][2019.11.07]신남방국 통관·통상환경 및 FTA 활용방안.pdf', 'page_no': 9, 'subcategory': '1. 통관 조직 및 절차'}, page_content='제Ⅲ절\\n인도의 통관 절차\\n01\\n통관 조직 및 절차\\n'), Document(metadata={'category': '2. 경제 및 시장 분석', 'datetimes': '2024-07-08 16:41:14', 'filename': 'data/PDF_with_contents/2. 경제 및 시장 분석/[인도_펫산업_시장분석][한국농수산식품유통공사][2017] 2017년 농식품 해외시장 맞춤조사(인도_개사료).pdf', 'page_no': 23, 'subcategory': '1. 통관 및 검역 절차'}, page_content='1. 통관 및 검역절차\\nStep 01. 수입 신고 전 준비\\n인도의 수입 통관 순서는 세관검사 후 납부하는 등 일반 선진국의 관행을\\n따르고 있음\\n수입자는 수입 물품에 대한 수입신고를 하기 전 필수적으로 인도상공부 무역국\\n(DGFT; Director General of Foreign Trade)으로부터 수출입자코드(Importer-\\nExporter Code)를 발급 받아야 함\\n또한 적하목록(IGM, Import General Menifest)를 제출해야 함. 제출기한은\\n해상·항공 운송일 경우 선박 또는 항공기가 도착지에 도착하기 전이며, 육상\\n운송일 경우 도착지에 도착 후 12시간 이내임. 적하목록 미제출 시 화물을\\n운송수단으로부터 양하할 수 없음\\nStep 02. 수입 신고 및 가격 신고\\n수입자는 적하목록 제출 후, 관할 세관에 수입신고서와 관련 서류를 제출하여\\n물품에 대한 수입신고를 함. EDI(Electronic Data Interchange)를 통한 신고는\\nICEGATE를 통해 전자적 방법으로 신고하는 것이고, EDI를 통하지 않은 신고는\\n수입신고서 4부를 준비하여 2부는 세관에, 1부는 거래은행에 제출하고, 1부는\\n수입자가 보관해야 함. 수입신고서는 하기의 서류를 수반하여야 함\\n- 송장(Signed Invoice)\\n- 포장명세서(Packing List)\\n- 선하증권 또는 화물인도지시서/항공화물운송장(Bill of Lading or Delivery Or\\nder/Airway Bill)\\n- 필요한 경우 물품 관련 수입 라이센스\\n- 필요한 경우 신용장/환어음\\n- 보험서류(Insurance document)\\n- 화학물질의 경우 검사보고서\\n- 특혜세율을 적용 받는 경우 원산지 증명서(Certificate of Origin) 등\\n가격 신고는 2011년부터 원칙적으로 납세자가 스스로 세액을 신고·납부 후\\n세관 당국이 신고한 내용을 확인하는 `Self-assessment`로 이루어짐. 수입신고자는\\n수입신고서를 제출하는 때에 수입물품에 대한 품목분류·적용 관세율·과세표준·\\n관세 감면 여부를 결정하여 가격을 신고함\\n참고로 한-인도 CEPA 협정은 HS코드에 따라 특혜관세, 원산지 결정기준이\\n결정되므로 수입 신고 시 인도 HS코드 선택에 신중해야 함\\n- 48 -\\n'), Document(metadata={'chunk': 45, 'filename': 'data/PDF_without_contents\\\\1. 법률 및 규제\\\\[법률_규범_특허][코트라][2022]인도 비즈니스 가이드.pdf', 'keyword': '키워드: 인도 진출, 원부자재 수입, 생산활동, 세금 관계, 원가 관리, 인력수급, 제조업'}, page_content='하다14 이 사항이 미비하면 생각하지 못한 높은 비용이 발생하는 것은 물론 통관에 많은 시간이\\n소요되어 생산활동에 막대한 지장을 초래한다\\n즉 진출 목적에 해당하는 원부자재 수입과 조달에서 생산활동 그리고 판매에 이르기까지 각각의\\n경우의 수를 열거하면서 각각마다 적용되는 세금 관계를 확인하고 이를 원가 관리에 반영하여\\n실질적인 진출 효과 유무와 정도를 시뮬레이션해야 한다\\n122인적자원과 인건비 리스크\\n14억 인구 대국인 인도에서 인력수급이 원할 하지 않을 수 있다는 놀라운 사실이다 제조업이나')], 'answer': '## 고객의 질문:\\n인도 수입 통관의 중요성과 유의사항\\n\\n## 제공된 맥락 정보:\\n인도 전문 식품수입 벤더현황\\n다. 통관 및 검역 유의사항\\n(1) 인도 통관, 사전 준비가 관건\\n▪ 인도의 통관은 수입 통관 및 검역을 위한 사전 준비 절차가 중요함\\n▪ 통관에 필요한 서류를 제출하면 서류의 기재 오류나 서류 상호간 불일치를 수정하기가 매우 어려우며 이로 인해 통관 절차가 2~3주씩 지연되는 경우도 있어 철저한 서류 작성이 필수적임\\n▪ 또한 인도로 수출하는 물품의 경우 포장명세서(P/L)와 상업송장(C/I)을 컨테이너별로 철저히 작성해야 함. 인도 세관은 한 컨테이너 안에서 박스별로 화물의 일치 여부를 조사하는 등 실물 검사가 철저하며 서류와 화물 불일치 시 통관이 불가능함\\n▪ 특히 인도는 도로와 항만 등 인프라가 낙후되어 있고 운송수단도 노후하기 때문에 내륙운송 과정에서 사고가 자주 발생하므로 내륙운송보험에 가입해야 함\\n\\n### 1. 수입 통관의 중요성\\n인도에서의 수입 통관은 비즈니스 성공에 있어서 중요한 요소 중 하나입니다. 올바른 통관 절차를 준수하고 필요한 서류를 정확하게 제출하는 것은 시간과 비용을 절약하고 불필요한 지연을 방지하는 데 도움이 됩니다. 서류 작성 시 신중함이 필수이며, 오류나 불일치로 인한 통관 지연은 회사의 생산 및 판매 활동에 부정적인 영향을 미칠 수 있습니다.\\n\\n### 2. 필수 서류 및 유의사항\\n인도로 물품을 수출할 때는 포장명세서(P/L)와 상업송장(C/I)을 각각의 컨테이너에 철저히 작성해야 합니다. 또한, 내륙운송 과정에서 발생할 수 있는 사고에 대비하여 내륙운송보험에 가입하는 것이 중요합니다. 서류와 화물의 일치 여부를 철저히 확인하는 인도 세관의 실물 검사는 통관을 원활하게 진행하기 위해 필수적입니다.\\n\\n### 3. 세부 수입 절차\\n인도의 수입 통관 절차는 세관검사 후 납부하는 등 일반적인 순서를 따릅니다. 수입자는 수입 물품에 대한 수입신고를 하기 전에 반드시 수출입자코드를 발급받아야 하며, 적하목록(IGM)을 제출해야 합니다. 또한, 수입자는 수입신고서와 관련 서류를 제출하여 물품에 대한 수입신고를 진행해야 합니다. 가격 신고는 세액을 스스로 신고하고 납부하는 Self-assessment 방식으로 이루어지며, 원산지 증명서 등의 서류도 필요합니다.\\n\\n이렇게 인도의 수입 통관에 대한 이해와 준비는 성공적인 비즈니스 운영을 위해 중요한 요소이므로 신중한 계획과 실행이 필요합니다.'}\n"
     ]
    }
   ],
   "source": [
    "post = pipeline.text_generation(titles['answer'].split('\\n')[0])\n",
    "    \n",
    "print(post)"
   ]
  },
  {
   "cell_type": "code",
   "execution_count": 20,
   "metadata": {},
   "outputs": [
    {
     "name": "stdout",
     "output_type": "stream",
     "text": [
      "## 고객의 질문:\n",
      "인도 수입 통관의 중요성과 유의사항\n",
      "\n",
      "## 제공된 맥락 정보:\n",
      "인도 전문 식품수입 벤더현황\n",
      "다. 통관 및 검역 유의사항\n",
      "(1) 인도 통관, 사전 준비가 관건\n",
      "▪ 인도의 통관은 수입 통관 및 검역을 위한 사전 준비 절차가 중요함\n",
      "▪ 통관에 필요한 서류를 제출하면 서류의 기재 오류나 서류 상호간 불일치를 수정하기가 매우 어려우며 이로 인해 통관 절차가 2~3주씩 지연되는 경우도 있어 철저한 서류 작성이 필수적임\n",
      "▪ 또한 인도로 수출하는 물품의 경우 포장명세서(P/L)와 상업송장(C/I)을 컨테이너별로 철저히 작성해야 함. 인도 세관은 한 컨테이너 안에서 박스별로 화물의 일치 여부를 조사하는 등 실물 검사가 철저하며 서류와 화물 불일치 시 통관이 불가능함\n",
      "▪ 특히 인도는 도로와 항만 등 인프라가 낙후되어 있고 운송수단도 노후하기 때문에 내륙운송 과정에서 사고가 자주 발생하므로 내륙운송보험에 가입해야 함\n",
      "\n",
      "### 1. 수입 통관의 중요성\n",
      "인도에서의 수입 통관은 비즈니스 성공에 있어서 중요한 요소 중 하나입니다. 올바른 통관 절차를 준수하고 필요한 서류를 정확하게 제출하는 것은 시간과 비용을 절약하고 불필요한 지연을 방지하는 데 도움이 됩니다. 서류 작성 시 신중함이 필수이며, 오류나 불일치로 인한 통관 지연은 회사의 생산 및 판매 활동에 부정적인 영향을 미칠 수 있습니다.\n",
      "\n",
      "### 2. 필수 서류 및 유의사항\n",
      "인도로 물품을 수출할 때는 포장명세서(P/L)와 상업송장(C/I)을 각각의 컨테이너에 철저히 작성해야 합니다. 또한, 내륙운송 과정에서 발생할 수 있는 사고에 대비하여 내륙운송보험에 가입하는 것이 중요합니다. 서류와 화물의 일치 여부를 철저히 확인하는 인도 세관의 실물 검사는 통관을 원활하게 진행하기 위해 필수적입니다.\n",
      "\n",
      "### 3. 세부 수입 절차\n",
      "인도의 수입 통관 절차는 세관검사 후 납부하는 등 일반적인 순서를 따릅니다. 수입자는 수입 물품에 대한 수입신고를 하기 전에 반드시 수출입자코드를 발급받아야 하며, 적하목록(IGM)을 제출해야 합니다. 또한, 수입자는 수입신고서와 관련 서류를 제출하여 물품에 대한 수입신고를 진행해야 합니다. 가격 신고는 세액을 스스로 신고하고 납부하는 Self-assessment 방식으로 이루어지며, 원산지 증명서 등의 서류도 필요합니다.\n",
      "\n",
      "이렇게 인도의 수입 통관에 대한 이해와 준비는 성공적인 비즈니스 운영을 위해 중요한 요소이므로 신중한 계획과 실행이 필요합니다.\n"
     ]
    }
   ],
   "source": [
    "print(post['answer'])"
   ]
  },
  {
   "cell_type": "code",
   "execution_count": 22,
   "metadata": {},
   "outputs": [
    {
     "data": {
      "text/plain": [
       "[Document(metadata={'category': '3. 정책 및 무역', 'datetimes': '2024-07-08 16:41:51', 'filename': 'data/PDF_with_contents/3. 정책 및 무역/[정책][KATI 농식품수출정보][2019]인도 전문 식품수입.pdf', 'page_no': 21, 'subcategory': '다. 통관 및 검역 유의사항'}, page_content='인도 전문 식품수입 벤더현황\\n다. 통관 및 검역 유의사항\\n(1) 인도 통관, 사전 준비가 관건\\n▪\\n인도의 통관은 수입 통관 및 검역을 위한 사전 준비 절차가 중요함\\n▪\\n통관에 필요한 서류를 제출하면 서류의 기재 오류나 서류 상호간 불일치를\\n수정하기가 매우 어려우며 이로 인해 통관 절차가 2~3주씩 지연되는 경우도\\n있어 철저한 서류 작성이 필수적임\\n▪\\n또한 인도로 수출하는 물품의 경우 포장명세서(P/L)와 상업송장(C/I)을\\n컨테이너별로 철저히 작성해야 함. 인도 세관은 한 컨테이너 안에서 박스별로\\n화물의 일치 여부를 조사하는 등 실물 검사가 철저하며 서류와 화물 불일치\\n시 통관이 불가능함\\n▪\\n특히 인도는 도로와 항만 등 인프라가 낙후되어 있고 운송수단도 노후하기\\n때문에 내륙운송 과정에서 사고가 자주 발생하므로 내륙운송보험에 가입해야\\n함\\n43\\n'),\n",
       " Document(metadata={'category': '2. 경제 및 시장 분석', 'datetimes': '2024-07-08 16:41:14', 'filename': 'data/PDF_with_contents/2. 경제 및 시장 분석/[인도_펫산업_시장분석][한국농수산식품유통공사][2017] 2017년 농식품 해외시장 맞춤조사(인도_개사료).pdf', 'page_no': 26, 'subcategory': '4. 통관 및 검역 주의사항'}, page_content='4. 통관 및 검역 유의사항\\n인도 통관, 사전 준비가 관건\\n인도의 통관은 수입 통관 및 검역을 위한 사전 준비 절차가 중요함\\n통관에 필요한 서류를 구비할 시 서류의 기재오류나 서류 상호간 불일치를\\n수정하기가 매우 어려우며 이로 인해 통관 절차가 2 ~ 3주씩 지연되는 경우도\\n있어 철저한 서류 작성이 필수적임\\n또한 인도로 수출하는 물품의 경우 포장명세서(P/L)와 상업송장(C/I)을\\n컨테이너별로 철저히 작성해야함. 인도 세관은 한 컨테이너 안에서 박스별로\\n화물이 일치하는지를 조사하는 등 실물검사가 철저하며 서류와 화물 불일치 시\\n통관이 불가능함\\n특히 인도는 도로와 항만 등 인프라가 낙후되어 있고 운송수단도 노후하기\\n때문에 내륙운송과정에서 사고가 자주 발생하므로 내륙운송보험에 가입해야함\\nInterview Info\\n“원산지증명서, 개사료 성분분석표, 포장명세서, 송장, 선하증권은 반드시 필요하며, 검역은 약 30~40일 정도가\\n소요된다. 수입회사 입장에서는 성분분석표를 기관에 반드시 제출해야하므로 제품의 성분분석표는 수출업체\\n가 항상 준비해줘야 한다.”\\n- 애완동물 사료 수입 유통업체 Sayon Overseas\\n구매 담당자 Mr. Dheepakh와의 인터뷰 中, 2017.04\\nInterview Info\\n“개사료 제품의 수입절차는 특별한 것은 없으나 사료에 들어가는 재료 중에 육류 성분이 있으면 축산·낙농업부\\n가 발행하는 수입 위생 허가증과 같은 서류를 추가로 발급받아야 한다.”\\n- 강아지용 비타민 수입 유통업체 Venttura Bioceuticals\\n구매 담당자 Mr. Uday Kulkarni와의 인터뷰 中, 2017.04\\n- 52 -\\n'),\n",
       " Document(metadata={'category': '3. 정책 및 무역', 'datetimes': '2024-07-08 16:42:32', 'filename': 'data/PDF_with_contents/3. 정책 및 무역/[정책][관세청][2019.11.07]신남방국 통관·통상환경 및 FTA 활용방안.pdf', 'page_no': 9, 'subcategory': '1. 통관 조직 및 절차'}, page_content='제Ⅲ절\\n인도의 통관 절차\\n01\\n통관 조직 및 절차\\n'),\n",
       " Document(metadata={'category': '2. 경제 및 시장 분석', 'datetimes': '2024-07-08 16:41:14', 'filename': 'data/PDF_with_contents/2. 경제 및 시장 분석/[인도_펫산업_시장분석][한국농수산식품유통공사][2017] 2017년 농식품 해외시장 맞춤조사(인도_개사료).pdf', 'page_no': 23, 'subcategory': '1. 통관 및 검역 절차'}, page_content='1. 통관 및 검역절차\\nStep 01. 수입 신고 전 준비\\n인도의 수입 통관 순서는 세관검사 후 납부하는 등 일반 선진국의 관행을\\n따르고 있음\\n수입자는 수입 물품에 대한 수입신고를 하기 전 필수적으로 인도상공부 무역국\\n(DGFT; Director General of Foreign Trade)으로부터 수출입자코드(Importer-\\nExporter Code)를 발급 받아야 함\\n또한 적하목록(IGM, Import General Menifest)를 제출해야 함. 제출기한은\\n해상·항공 운송일 경우 선박 또는 항공기가 도착지에 도착하기 전이며, 육상\\n운송일 경우 도착지에 도착 후 12시간 이내임. 적하목록 미제출 시 화물을\\n운송수단으로부터 양하할 수 없음\\nStep 02. 수입 신고 및 가격 신고\\n수입자는 적하목록 제출 후, 관할 세관에 수입신고서와 관련 서류를 제출하여\\n물품에 대한 수입신고를 함. EDI(Electronic Data Interchange)를 통한 신고는\\nICEGATE를 통해 전자적 방법으로 신고하는 것이고, EDI를 통하지 않은 신고는\\n수입신고서 4부를 준비하여 2부는 세관에, 1부는 거래은행에 제출하고, 1부는\\n수입자가 보관해야 함. 수입신고서는 하기의 서류를 수반하여야 함\\n- 송장(Signed Invoice)\\n- 포장명세서(Packing List)\\n- 선하증권 또는 화물인도지시서/항공화물운송장(Bill of Lading or Delivery Or\\nder/Airway Bill)\\n- 필요한 경우 물품 관련 수입 라이센스\\n- 필요한 경우 신용장/환어음\\n- 보험서류(Insurance document)\\n- 화학물질의 경우 검사보고서\\n- 특혜세율을 적용 받는 경우 원산지 증명서(Certificate of Origin) 등\\n가격 신고는 2011년부터 원칙적으로 납세자가 스스로 세액을 신고·납부 후\\n세관 당국이 신고한 내용을 확인하는 `Self-assessment`로 이루어짐. 수입신고자는\\n수입신고서를 제출하는 때에 수입물품에 대한 품목분류·적용 관세율·과세표준·\\n관세 감면 여부를 결정하여 가격을 신고함\\n참고로 한-인도 CEPA 협정은 HS코드에 따라 특혜관세, 원산지 결정기준이\\n결정되므로 수입 신고 시 인도 HS코드 선택에 신중해야 함\\n- 48 -\\n'),\n",
       " Document(metadata={'chunk': 45, 'filename': 'data/PDF_without_contents\\\\1. 법률 및 규제\\\\[법률_규범_특허][코트라][2022]인도 비즈니스 가이드.pdf', 'keyword': '키워드: 인도 진출, 원부자재 수입, 생산활동, 세금 관계, 원가 관리, 인력수급, 제조업'}, page_content='하다14 이 사항이 미비하면 생각하지 못한 높은 비용이 발생하는 것은 물론 통관에 많은 시간이\\n소요되어 생산활동에 막대한 지장을 초래한다\\n즉 진출 목적에 해당하는 원부자재 수입과 조달에서 생산활동 그리고 판매에 이르기까지 각각의\\n경우의 수를 열거하면서 각각마다 적용되는 세금 관계를 확인하고 이를 원가 관리에 반영하여\\n실질적인 진출 효과 유무와 정도를 시뮬레이션해야 한다\\n122인적자원과 인건비 리스크\\n14억 인구 대국인 인도에서 인력수급이 원할 하지 않을 수 있다는 놀라운 사실이다 제조업이나')]"
      ]
     },
     "execution_count": 22,
     "metadata": {},
     "output_type": "execute_result"
    }
   ],
   "source": [
    "post['context']"
   ]
  },
  {
   "cell_type": "markdown",
   "metadata": {},
   "source": [
    "## 4. Websearch"
   ]
  },
  {
   "cell_type": "code",
   "execution_count": 13,
   "metadata": {},
   "outputs": [
    {
     "name": "stdout",
     "output_type": "stream",
     "text": [
      "0.41114476323127747\n",
      "제가 잘 모르는 내용이라서, 검색한 내용을 알려 드릴께요.\n",
      "장원영의 \"럭키비키\"는 그녀가 행운을 불러오거나 행운을 유지하기 위해 사용하는 물건이나 행위를 가리키는 것으로 알려져 있습니다. 이는 그녀가 자신의 운을 끌어올리고 긍정적인 에너지를 유지하기 위해 특정한 아이템이나 습관을 가지고 있다는 것을 의미할 수 있습니다. 장원영의 \"럭키비키\"에 대해 더 자세히 알고 싶으시다면 그녀의 SNS나 인터뷰 등을 참고하시는 것이 도움이 될 것입니다.1. What items or habits does Jang Won-young use as her \"lucky charm\" to bring or maintain good luck?\n",
      "2. How does Jang Won-young's \"Lucky Vicky\" help her attract positive energy and improve her luck?\n",
      "3. Where can I find more information about Jang Won-young's \"Lucky Vicky\" through her social media or interviews?"
     ]
    },
    {
     "name": "stderr",
     "output_type": "stream",
     "text": [
      "Fetching pages: 100%|##########| 3/3 [00:02<00:00,  1.14it/s]\n"
     ]
    },
    {
     "name": "stdout",
     "output_type": "stream",
     "text": [
      "장원영의 \"럭키비키\"는 그녀의 영어 이름인 \"Vicky\"와 함께 사용되며, 긍정적인 마음가짐과 행운을 상징하는 표현입니다. 장원영은 자신의 이름인 \"Vicky\"와 함께 긍정적인 사고를 갖고, 일상 속에서 작은 일들에도 행운을 발견하고자 하는 의미에서 \"럭키비키\"라는 표현을 사용합니다. 이는 일상 속에서 긍정적인 시각을 유지하고 행운을 발견하는 자세를 나타내는 말로 사용되고 있습니다."
     ]
    }
   ],
   "source": [
    "question   = '장원영의 럭키비키가 뭐야?'\n",
    "answer = pipeline.chat_generation(question)\n",
    "\n"
   ]
  },
  {
   "cell_type": "code",
   "execution_count": 14,
   "metadata": {},
   "outputs": [
    {
     "name": "stdout",
     "output_type": "stream",
     "text": [
      "장원영의 \"럭키비키\"는 그녀의 영어 이름인 \"Vicky\"와 함께 사용되며, 긍정적인 마음가짐과 행운을 상징하는 표현입니다.\n",
      " 장원영은 자신의 이름인 \"Vicky\"와 함께 긍정적인 사고를 갖고, 일상 속에서 작은 일들에도 행운을 발견하고자 하는 의미에서 \"럭키비키\"라는 표현을 사용합니다.\n",
      " 이는 일상 속에서 긍정적인 시각을 유지하고 행운을 발견하는 자세를 나타내는 말로 사용되고 있습니다.\n",
      ".\n",
      "근거:\n",
      "https://www.nytimes.com/1972/10/13/archives/in-japan-today-is-a-moderately-lucky-day-but-look-out-for.html\n",
      "https://www.ciee.org/go-abroad/college-study-abroad/blog/speed-run-showing-korea-my-best-friend\n",
      "https://www.reddit.com/r/kpopthoughts/comments/1cioxdw/ive_wonyoung_and_her_viral_lucky_vicky_way_of/\n",
      "https://en.wikipedia.org/wiki/Get_Lucky_(Daft_Punk_song)\n",
      "https://kpop.fandom.com/wiki/NU%27EST\n"
     ]
    }
   ],
   "source": [
    "for paragraph in answer['answer'].split('\\n'):\n",
    "    for sentence in paragraph.split('.'):\n",
    "        print(sentence +'.') # 문서 내용 표시\n",
    "    \n",
    "print('근거:')\n",
    "# 근거 추출\n",
    "for data in answer['context']:\n",
    "    print(data.metadata['source'])"
   ]
  },
  {
   "cell_type": "code",
   "execution_count": 15,
   "metadata": {},
   "outputs": [
    {
     "name": "stdout",
     "output_type": "stream",
     "text": [
      "0.4171750843524933\n",
      "제가 잘 모르는 내용이라서, 검색한 내용을 알려 드릴께요.\n",
      "죄송합니다. 뉴진스 민지의 생일에 대한 정보는 제공할 수 없습니다. 다른 질문이 있으시면 도와드리겠습니다.1. What information can be provided about New Jin's Minji's birthday?\n",
      "2. Is there any information available about New Jin's Minji's birthday?\n",
      "3. Can you provide details about New Jin's Minji's birthday?"
     ]
    },
    {
     "name": "stderr",
     "output_type": "stream",
     "text": [
      "Fetching pages: 100%|##########| 1/1 [00:01<00:00,  1.39s/it]\n"
     ]
    },
    {
     "name": "stdout",
     "output_type": "stream",
     "text": [
      "뉴진스의 멤버 민지의 생일은 2004년 5월 7일입니다. 현재 민지는 2022년 기준으로 18세이십니다."
     ]
    }
   ],
   "source": [
    "question   = '뉴진스 민지의 생일을 알려줘.'\n",
    "answer = pipeline.chat_generation(question)\n"
   ]
  },
  {
   "cell_type": "code",
   "execution_count": 16,
   "metadata": {},
   "outputs": [
    {
     "name": "stdout",
     "output_type": "stream",
     "text": [
      "뉴진스의 멤버 민지의 생일은 2004년 5월 7일입니다.\n",
      " 현재 민지는 2022년 기준으로 18세이십니다.\n",
      ".\n",
      "근거:\n",
      "https://newjeans.fandom.com/wiki/Minji\n",
      "https://newjeans.fandom.com/wiki/Minji\n"
     ]
    }
   ],
   "source": [
    "for paragraph in answer['answer'].split('\\n'):\n",
    "    for sentence in paragraph.split('.'):\n",
    "        print(sentence +'.') # 문서 내용 표시\n",
    "    \n",
    "print('근거:')\n",
    "# 근거 추출\n",
    "for data in answer['context']:\n",
    "    print(data.metadata['source'])"
   ]
  },
  {
   "cell_type": "code",
   "execution_count": 17,
   "metadata": {},
   "outputs": [],
   "source": [
    "from datetime import datetime"
   ]
  },
  {
   "cell_type": "code",
   "execution_count": 20,
   "metadata": {},
   "outputs": [
    {
     "data": {
      "text/plain": [
       "'2024/07/10 23:57:40'"
      ]
     },
     "execution_count": 20,
     "metadata": {},
     "output_type": "execute_result"
    }
   ],
   "source": [
    "datetime.today().strftime(\"%Y/%m/%d %H:%M:%S\")"
   ]
  },
  {
   "cell_type": "code",
   "execution_count": null,
   "metadata": {},
   "outputs": [],
   "source": []
  }
 ],
 "metadata": {
  "kernelspec": {
   "display_name": "bigproject",
   "language": "python",
   "name": "python3"
  },
  "language_info": {
   "codemirror_mode": {
    "name": "ipython",
    "version": 3
   },
   "file_extension": ".py",
   "mimetype": "text/x-python",
   "name": "python",
   "nbconvert_exporter": "python",
   "pygments_lexer": "ipython3",
   "version": "3.11.9"
  }
 },
 "nbformat": 4,
 "nbformat_minor": 2
}
