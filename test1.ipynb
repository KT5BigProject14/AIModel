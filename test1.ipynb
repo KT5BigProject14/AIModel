{
 "cells": [
  {
   "cell_type": "code",
   "execution_count": 1,
   "metadata": {},
   "outputs": [],
   "source": [
    "import os\n",
    "from dotenv import load_dotenv\n",
    "load_dotenv()\n",
    "import streamlit as st\n",
    "import time\n",
    "import base64\n",
    "import uuid\n",
    "import tempfile\n",
    "from langchain_upstage import UpstageEmbeddings\n",
    "from langchain_chroma import Chroma\n",
    "from langchain_community.document_loaders import PyPDFLoader\n",
    "\n",
    "from langchain_upstage import ChatUpstage\n",
    "from langchain_core.messages import HumanMessage, SystemMessage"
   ]
  },
  {
   "cell_type": "code",
   "execution_count": 2,
   "metadata": {},
   "outputs": [
    {
     "name": "stdout",
     "output_type": "stream",
     "text": [
      "Oh, hey there! I'm doing great, thanks for asking. Just been a bit busy with work and stuff. How about you?\n"
     ]
    }
   ],
   "source": [
    "chat = ChatUpstage(upstage_api_key=os.getenv(\"UPSTAGE_API_KEY\"))\n",
    "\n",
    "messages = [\n",
    "  SystemMessage(content=\"You are a helpful assistant.\"),\n",
    "  HumanMessage(content=\"Hi, how are you?\")\n",
    "]\n",
    "response = chat.invoke(messages)\n",
    "print(response.content)"
   ]
  },
  {
   "cell_type": "markdown",
   "metadata": {},
   "source": [
    "### PDF 파일 업로드"
   ]
  },
  {
   "cell_type": "code",
   "execution_count": null,
   "metadata": {},
   "outputs": [],
   "source": [
    "# from langchain.document_loaders import PyPDFLoader\n",
    "\n",
    "from langchain_community.document_loaders import PyPDFLoader"
   ]
  },
  {
   "cell_type": "code",
   "execution_count": 4,
   "metadata": {},
   "outputs": [],
   "source": [
    "loader = PyPDFLoader(\"../pdfs/EU-탄소중립산업법-주요-내용.pdf\")\n"
   ]
  },
  {
   "cell_type": "code",
   "execution_count": 6,
   "metadata": {},
   "outputs": [
    {
     "data": {
      "text/plain": [
       "[Document(page_content='1. 도입 배경\\n2021.12.8, EU집행위는 제3국의 경제적 위협 으로부터 유럽연합 (EU) 및 회원국을 보호하기 위해 통상위협대응 규정 (안)을 \\n발표했습니다 . EU집행위는 EU가 제3국의 경제적 위협에 신속히 대응하고 필요시 최후의 수단으로 대응조치\\n(countermeasure) 를 취하여 EU와 회원국의 경제적 이익을 보호 하기 위해 본 규정 (안)을 준비했습니다 . (제1조) \\n본 규정 (안)은 지정학적 긴장이 고조되며 , 통상이 점점 더 무기화되어 가고 있는 시점에 EU가 통상 정책을 강화하고 , 제3국의 \\n경제적 위협에 효과적으로 대응하기 위한 해결방안으로 제시한 것입니다 . 2018.3 미국이 철강 232 조 관세를 부과함에 따라 \\nEU는 직접적인 피해를 입었습니다 . 또한 , 2019. 12 세계무역기구 TO) 상소기구가 마비되어 WTO 분쟁해결의 효율성이 약 없\\n게 되어 , EU는 경제적 위협에 더욱 취약해졌습니다 .\\n본 규정 (안)의 도입은 2019.12 집행위가 통상권한집행 규정 (Trade Enforcement Regulation) 을 개정하기 위한 입법안을 \\n제시한 후 처음 논의가 되었습니다 . 당시 유럽의회는 경제적 위협에 대한 우려를 제기했지만 , 개정된 통상권한집행 규정은 EU가 \\n경제적 위협에 대응할 수 있는 방법을 규정하지 않았습니다 . 그 후속조치로 집행위 , 의회 , 이사회는 2021 년 말 까지 집행위가 경\\n제적 위협에 대응하기 위한 별도의 입법안을 마련하겠다는 것을 명시한 공동 선언문을 채택했습니다 .\\n그 결과 이번에 발표된 통상위협대응 규정 (안)은 제3국의 경제적 위협에 대응하기 위해 EU가 취할 조치를 2단계로 명시하고 있\\n습니다 . 첫째 , 집행위는 제3국의 경제적 위협을 분석하여 , 그 위협의 유무를 공식적으로 결정한 후, 경제적 위협이 중단될 수 있\\n도록 제3국과 협의를 합니다 . 둘째 , 제3국과의 협의가 경제적 위협을 중단하는 결과를 가져오지 못할 경우 , 최후의 수단으로 EU', metadata={'source': '../pdfs/EU-탄소중립산업법-주요-내용.pdf', 'page': 0}),\n",
       " Document(page_content='습니다 . 첫째 , 집행위는 제3국의 경제적 위협을 분석하여 , 그 위협의 유무를 공식적으로 결정한 후, 경제적 위협이 중단될 수 있\\n도록 제3국과 협의를 합니다 . 둘째 , 제3국과의 협의가 경제적 위협을 중단하는 결과를 가져오지 못할 경우 , 최후의 수단으로 EU \\n자체의 대응조치를 취하게 됩니다 .\\n2. 핵심 \\n(1)제3국의 경제적 위협에 대한 정의 (제2조)\\n본 규정 (안)은 EU 또는 회원국의 특정 행위의 중단 , 수정 또는 채택에 부당한 영향력을 행사할 목적으로 EU 또는 회원국의 \\n합법적인 주권 행사를 방해하여 , 통상 또는 투자에 영향을 미치는 조치를 적용하거나 적용하겠다고 위협할 경우 적용됩니다 .\\n본 규정은 경제적 위협을 포괄적으로 정의하여 , 집행위가 본 규정을 최대한 활용하여 EU의 통상과 투자를 제한하는 다양한 \\n유형의 위협에 대응할 수 있도록 하였습니다 . \\n예를 들어 , 경제적 위협은 다음과 같은 형태를 취할 수 있습니다 : ① 차별적인 수입 관세 , ② 사업 수행에 필요한 승인의 의도적인 \\n한국무역협회 브뤼셀지부  eireenkang@kita.net 2023.3.24.\\nEU 탄소중립산업법 주요 내용\\n  EU 집행위는 16일(목, 현지시간 ) 탄소중립산업 관련 제조 역량을 강화하고 관련 산업의 역외 유출\\n을 방지하기 위한 탄소중립 산업법 (Net-Zero Industry Act, NZIA) 초안을 발표하였다 . 동 법안은 \\n2030 년까지 전략 탄소중립 산업 제조 역량을 EU 연간 수요의 40% 수준까지 확대하는 것을 목표로 \\n한다 .\\n  이를 위해 EU는 8개의 탄소중립 전략기술 (태양광 발전 및 태양열 , 육상 및 해상 풍력발전 , 배터리 및 \\n저장 , 히트펌프 및 지열에너지 , 전해조 및 수소연료전지 , 지속가능 바이오가스 및 바이오메탄 , 탄소 포집 \\n저장 (CCUS), 그리드 )을 지정했으며 역내 제조 역량 향상에 기여할 수 있다고 판단되면 ‘탄소중립 전', metadata={'source': '../pdfs/EU-탄소중립산업법-주요-내용.pdf', 'page': 0}),\n",
       " Document(page_content='한다 .\\n  이를 위해 EU는 8개의 탄소중립 전략기술 (태양광 발전 및 태양열 , 육상 및 해상 풍력발전 , 배터리 및 \\n저장 , 히트펌프 및 지열에너지 , 전해조 및 수소연료전지 , 지속가능 바이오가스 및 바이오메탄 , 탄소 포집 \\n저장 (CCUS), 그리드 )을 지정했으며 역내 제조 역량 향상에 기여할 수 있다고 판단되면 ‘탄소중립 전\\n략 프로젝트 ’로 선정하여 관련 행정 및 허가 기간 등을 혁신적으로 단축할 계획이다 . 또한 공공조달\\n시 평가항목에 지속가능성 및 회복력 기여도를 포함하여 EU의 환경 , 노동기준 , 공급망 다각화 노력을 \\n준수하는 사업자에 유리한 입찰환경을 조성한다는 입장이다 .\\n  EU의 역내 탄소중립 산업 관련 공급망 기업을 육성하기 위한 노력이 강화될 것으로 예상되므로 관\\n련 우리 기업은 동 법안을 예의주시하여 EU 진출의 기회를 모색하고 , 우리 정부도 탄소중립 산업 육\\n성을 위한 정책을 재정비할 필요가 있다 .', metadata={'source': '../pdfs/EU-탄소중립산업법-주요-내용.pdf', 'page': 0}),\n",
       " Document(page_content=\"- 1 -\\n1. 배경 및 목적\\n \\n ㅇ (배경 ) 지난 2월 EU 집행위원장이 미국 인플레이션 감축법 (IRA) 에 대응을 위해 발표한 ‘그린딜 산업\\n계획 (Green Deal Industry Plan)' 1)의 4가지 중점 추진 계획* 중 하나\\n     * 1)기후중립산업법 , 2)청청기술 생산의 투자 및 자금지원 확대 , 3)기술인력 양성 , 4)공급망 강화를 위한 국제 협력\\n ㅇ (목적 ) 2050 년 탄소중립 달성에 필수적인 탄소중립기술의 제조역량을 강화하고 유럽 에너지시스템의 \\n효율 및 회복력 보호\\n2. 주요내용\\n1목표설정 \\n ㅇ 부속서 2)에 기술된 8가지의 탄소중립 전략기술의 역내 제조역량 확충을 통해 그린딜 및 REPowerEU 에 \\n명시된 기술 및 상품의 연간 보급 수요 중 최소 40% 는 역내에서 생산하도록 유도\\n2대상 기술 및 상품\\n ㅇ ①국제에너지기구 (IEA) 평가 상 Level 8에 해당하는 기술성숙도 (TRL) 에 도달 , ②2030 년까지 온실가\\n스 55% 감축을 위해 필요한 기술 , ③EU 에너지시스템의 회복력과 공급망 안전 관련성을 기준으로 8\\n개의 전략 탄소중립기술 (Strategic Net-Zero technologies) 을 선정\\n   - ❶태양광 발전 및 태양열 기술 , ❷육상 및 해상 풍력발전 기술 , ❸배터리 및 저장기술 , ❹히트펌프 및 지열\\n에너지 기술 , ❺ 전해조 및 수소연료전지 , ❻지속가능 바이오가스 및 바이오메탄 기술 , ❼탄소 포집 저장\\n(CCUS) 기술 , ❽그리드 기술 \\n    \\n   - 원자력은 전략 탄소중립기술에는 제외되었으나 , 탄소중립기술에는 조건부로 , 즉 “연료 주기 , 소형 모\\n듈식 원자로 및 관련 최고등급연료에서 발생된 폐기물을 최소화하면서 핵공정에서 에너지를 생산하는 \\n첨단기술 ’(advanced technologies to produce energy from nuclear processes with\", metadata={'source': '../pdfs/EU-탄소중립산업법-주요-내용.pdf', 'page': 1}),\n",
       " Document(page_content='- 원자력은 전략 탄소중립기술에는 제외되었으나 , 탄소중립기술에는 조건부로 , 즉 “연료 주기 , 소형 모\\n듈식 원자로 및 관련 최고등급연료에서 발생된 폐기물을 최소화하면서 핵공정에서 에너지를 생산하는 \\n첨단기술 ’(advanced technologies to produce energy from nuclear processes with \\nminimal waste from the fuel cycle, small modular reactors, and related best-in-class \\nfuels) 이 포함\\n1) EU Commission, Communication: A Green Deal Industrial Plan for the Net-Zero Age, 2023.2.1.\\n2) EU Commission, Annexes to the proposal for a Regulation of the European Parliament and of the Council \\non establishing a framework of measures for strengthening Europe’s net-zero technology products \\nmanufacturing ecosystem', metadata={'source': '../pdfs/EU-탄소중립산업법-주요-내용.pdf', 'page': 1})]"
      ]
     },
     "execution_count": 6,
     "metadata": {},
     "output_type": "execute_result"
    }
   ],
   "source": [
    "from langchain.text_splitter import RecursiveCharacterTextSplitter\n",
    "\n",
    "text_splitter = RecursiveCharacterTextSplitter(\n",
    "    chunk_size=1000,\n",
    "    chunk_overlap=200\n",
    "    )\n",
    "\n",
    "pages = loader.load_and_split(text_splitter)\n",
    "\n",
    "pages[:5]"
   ]
  },
  {
   "cell_type": "code",
   "execution_count": 8,
   "metadata": {},
   "outputs": [
    {
     "name": "stderr",
     "output_type": "stream",
     "text": [
      "c:\\Users\\User\\anaconda3\\envs\\llm\\lib\\site-packages\\langchain_core\\_api\\deprecation.py:139: LangChainDeprecationWarning: Since Chroma 0.4.x the manual persistence method is no longer supported as docs are automatically persisted.\n",
      "  warn_deprecated(\n"
     ]
    }
   ],
   "source": [
    "from langchain.embeddings import OpenAIEmbeddings\n",
    "from langchain_upstage import UpstageEmbeddings\n",
    "\n",
    "from langchain.vectorstores import Chroma\n",
    "\n",
    "directory = \"./pdf_db\"       # 경로 지정 -> 크로마 함수에서 폴더 만들어 줄것임\n",
    "\n",
    "\n",
    "vectorstore = Chroma.from_documents(\n",
    "                        pages, \n",
    "                        UpstageEmbeddings(model=\"solar-embedding-1-large\"),\n",
    "                        persist_directory=directory # persists the vectors to the file system\n",
    "                        )\n",
    "\n",
    "\n",
    "vectorstore.persist()"
   ]
  },
  {
   "cell_type": "code",
   "execution_count": 9,
   "metadata": {},
   "outputs": [],
   "source": [
    "from langchain.callbacks.streaming_stdout import StreamingStdOutCallbackHandler\n",
    "import os \n",
    "from langchain.chains import RetrievalQA\n",
    "\n",
    "# 검색기 설정 \n",
    "retriever = vectorstore.as_retriever(\n",
    "                                search_type=\"similarity\", # Cosine Similarity\n",
    "                                search_kwargs={\"k\": 3,} \n",
    "                                \n",
    ")\n"
   ]
  },
  {
   "cell_type": "code",
   "execution_count": 10,
   "metadata": {},
   "outputs": [],
   "source": [
    "# QA 체인 설정\n",
    "qa = RetrievalQA.from_llm(llm=chat, retriever=retriever, return_source_documents=True)"
   ]
  },
  {
   "cell_type": "code",
   "execution_count": 11,
   "metadata": {},
   "outputs": [
    {
     "name": "stderr",
     "output_type": "stream",
     "text": [
      "c:\\Users\\User\\anaconda3\\envs\\llm\\lib\\site-packages\\langchain_core\\_api\\deprecation.py:139: LangChainDeprecationWarning: The method `Chain.__call__` was deprecated in langchain 0.1.0 and will be removed in 0.3.0. Use invoke instead.\n",
      "  warn_deprecated(\n"
     ]
    },
    {
     "name": "stdout",
     "output_type": "stream",
     "text": [
      "탄소중립 전략 프로젝트는 EU가 지정한 8개의 탄소중립 전략기술(태양광 발전 및 태양열, 육상 및 해상 풍력발전, 배터리 및 저장, 히트펌프 및 지열에너지, 전해조 및 수소연료전지, 지속가능 바이오가스 및 바이오메탄, 탄소 포집 저장(CCUS), 그리드)의 역내 제조 역량 및 EU 에너지시스템 회복력 강화에 기여하는 프로젝트와 역내 소재 CO2 저장 프로젝트를 말합니다. 이러한 프로젝트는 '탄소중립 전략 프로젝트(Net-zero Strategic Project)'로 선정됩니다.\n"
     ]
    }
   ],
   "source": [
    "query = '탄소중립 전략 프로젝트에 대해서 알려줘.'\n",
    "result = qa(query)          # 질문 -> qa -> answer\n",
    "\n",
    "print(result[\"result\"])     # 대답 출력 "
   ]
  },
  {
   "cell_type": "markdown",
   "metadata": {},
   "source": [
    "### 메세지 기억하고 대답 근거 출력하기"
   ]
  },
  {
   "cell_type": "code",
   "execution_count": 16,
   "metadata": {},
   "outputs": [],
   "source": [
    "# 1) 챗봇에 '기억'을 입히기 위한 첫번째 단계 \n",
    "\n",
    "# 이전의 메시지들과 최신 사용자 질문을 분석해, 문맥에 대한 정보가 없이 혼자서만 봤을때 이해할 수 있도록 질문을 다시 구성함\n",
    "# 즉 새로 들어온 그 질문 자체에만 집중할 수 있도록 다시 재편성\n",
    "from langchain.chains import create_history_aware_retriever\n",
    "from langchain_core.prompts import ChatPromptTemplate, MessagesPlaceholder\n",
    "\n",
    "contextualize_q_system_prompt = \"\"\"이전 대화 내용과 최신 사용자 질문이 있을 때, 이 질문이 이전 대화 내용과 관련이 있을 수 있습니다. \n",
    "이런 경우, 대화 내용을 알 필요 없이 독립적으로 이해할 수 있는 질문으로 바꾸세요. \n",
    "질문에 답할 필요는 없고, 필요하다면 그저 다시 구성하거나 그대로 두세요.\"\"\"\n",
    "\n",
    "# MessagesPlaceholder: 'chat_history' 입력 키를 사용하여 이전 메세지 기록들을 프롬프트에 포함시킴.\n",
    "# 즉 프롬프트, 메세지 기록 (문맥 정보), 사용자의 질문으로 프롬프트가 구성됨. \n",
    "contextualize_q_prompt = ChatPromptTemplate.from_messages(\n",
    "    [\n",
    "        (\"system\", contextualize_q_system_prompt),\n",
    "        MessagesPlaceholder(\"chat_history\"),\n",
    "        (\"human\", \"{input}\"),\n",
    "    ]\n",
    ")\n",
    "\n",
    "# 이를 토대로 메세지 기록을 기억하는 retriever를 생성합니다.\n",
    "history_aware_retriever = create_history_aware_retriever(\n",
    "    chat, retriever, contextualize_q_prompt\n",
    ")\n"
   ]
  },
  {
   "cell_type": "code",
   "execution_count": 17,
   "metadata": {},
   "outputs": [],
   "source": [
    "# 2) 두번째 단계로, 방금 전 생성한 체인을 사용하여 문서를 불러올 수 있는 retriever 체인을 생성합니다.\n",
    "from langchain.chains import create_retrieval_chain\n",
    "from langchain.chains.combine_documents import create_stuff_documents_chain\n",
    "\n",
    "qa_system_prompt = \"\"\"질문-답변 업무를 돕는 보조원입니다. \n",
    "질문에 답하기 위해 검색된 내용을 사용하세요. \n",
    "답을 모르면 모른다고 말하세요. \n",
    "답변은 세 문장 이내로 간결하게 유지하세요.\n",
    "\n",
    "## 답변 예시\n",
    "📍답변 내용: \n",
    "📍증거: \n",
    "\n",
    "{context}\"\"\"\n",
    "qa_prompt = ChatPromptTemplate.from_messages(\n",
    "    [\n",
    "        (\"system\", qa_system_prompt),\n",
    "        MessagesPlaceholder(\"chat_history\"),\n",
    "        (\"human\", \"{input}\"),\n",
    "    ]\n",
    ")\n",
    "\n",
    "question_answer_chain = create_stuff_documents_chain(chat, qa_prompt)\n",
    "\n",
    "# 결과값은 input, chat_history, context, answer 포함함.\n",
    "rag_chain = create_retrieval_chain(history_aware_retriever, question_answer_chain)\n"
   ]
  },
  {
   "cell_type": "code",
   "execution_count": 19,
   "metadata": {},
   "outputs": [],
   "source": [
    "history_messages = []"
   ]
  },
  {
   "cell_type": "code",
   "execution_count": 20,
   "metadata": {},
   "outputs": [],
   "source": [
    "prompt = input()\n",
    "# 탄소중립플랫폼(Net-Zero Europe Platform) 설립\n",
    "\n",
    "history_messages.append(prompt)\n"
   ]
  },
  {
   "cell_type": "code",
   "execution_count": 21,
   "metadata": {},
   "outputs": [],
   "source": [
    "result = rag_chain.invoke({\"input\": prompt, \"chat_history\": history_messages})\n"
   ]
  },
  {
   "cell_type": "code",
   "execution_count": 22,
   "metadata": {},
   "outputs": [
    {
     "data": {
      "text/plain": [
       "[Document(page_content='6장. 혁신26조 탄소중립 규제샌드 박스\\n27조 중소기업을 위한 조치\\n7장. 거버넌스28조 탄소중립 유럽 플랫폼 설립 및 과업\\n29조 탄소중립 유럽 플랫폼 구조 및 기능\\n30조 국가 에너지 ·기후계획과의 조율\\n8장 모니터링 31조 모니터링\\n9장 최종조항32조 권한 위임\\n33조 위임권 행사\\n34조 위원회 절차\\n35조 평가\\n36조 기밀정보 처리\\n37조 Regulation (EU) 2018/1724(Single Digital Gateway) 개정\\n38조 발효 및 시행', metadata={'page': 7, 'source': '../pdfs/EU-탄소중립산업법-주요-내용.pdf'}),\n",
       " Document(page_content='6장. 혁신26조 탄소중립 규제샌드 박스\\n27조 중소기업을 위한 조치\\n7장. 거버넌스28조 탄소중립 유럽 플랫폼 설립 및 과업\\n29조 탄소중립 유럽 플랫폼 구조 및 기능\\n30조 국가 에너지 ·기후계획과의 조율\\n8장 모니터링 31조 모니터링\\n9장 최종조항32조 권한 위임\\n33조 위임권 행사\\n34조 위원회 절차\\n35조 평가\\n36조 기밀정보 처리\\n37조 Regulation (EU) 2018/1724(Single Digital Gateway) 개정\\n38조 발효 및 시행', metadata={'page': 7, 'source': '../pdfs/EU-탄소중립산업법-주요-내용.pdf'}),\n",
       " Document(page_content='- 3 -\\n6소비자 인센티브 지급 및 숙련인력 육성\\n ㅇ 회원국 , 지역 , 공공법에 적용받는 기관은 탄소중립기술 최종제품의 구매 촉진 지원책을 도입할 수 있고 \\n인센티브는 탄소중립 최종제품 소비자가격의 5%를 초과할 수 없음\\n ㅇ 유럽탄소중립산업 아카데미 (European Net-Zero Industry Academy) 를 설립 , 탄소중립기술 개발 , 생산 , \\n운영 , 재활용 등과 관련된 교육 훈련 프로그램 개발 및 운영 , 자격증 등을 설계\\n7탄소중립플랫폼 (Net-Zero Europe Platform) 설립\\n ㅇ 탄소중립 기술분야 투자 , 제조목표 달성을 위한 회원국의 프로젝트 조정 , 국가간 소통 증진 , 제3국과의 \\n파트너쉽 구축 , 기술인력 양성 등의 전반적 모니터링과 리포팅을 위한 플랫폼 도입\\n8 탄소중립 규제샌드박스 (Net-Zero Regulatory Sandbox)\\n ㅇ EU 회원국 또는 복수 회원국 간 탄소중립 규제샌드박스를 도입 , 규제당국의 감독하에 혁신 기술 및 상\\n품의 시장 출시 전 기술 개발을 지원하고 , 특히 중소기업에 대해 우선권 부여\\n3. 평가 및 시사점\\n ㅇ 미국 IRA와 달리 공공조달 내 ‘지속가능성 및 회복력 기여 ’평가 항목의 역외산에 대한 차별적인 조항이\\n나 현지 조달 의무화 조건은 포함되지 않음\\n  - ‘단일 국가에 대한 EU의 의존도 65%’ 기준에 해당되는 국가는 중국 , 터키 등 일부 국가에 한정될 것\\n으로 보여 영향은 제한적\\n  - 다만 , 가격 차이가 10% 이상 나는 경우 , ‘지속가능성 및 회복력 기여 ’ 평가 기준의 예외를 받을 수 \\n있어 , 실질적으로 중국 저가 상품과의 가격 격차를 쉽게 극복하기는 어려울 전망\\n ㅇ 또한 소비자 인센티브 부분 역시 8가지 탄소중립기술 최종상품에 제한되며 , 역외산 차별적인 조항은 포\\n함되지 않음\\n ㅇ 탄소중립 전략 프로젝트에 포함된 CO 2 주입 목표 (2030 까지 5천만 톤) 설정으로 , 석유 및 천연가스 생\\n산기업에 대한 책임이 강화', metadata={'page': 3, 'source': '../pdfs/EU-탄소중립산업법-주요-내용.pdf'})]"
      ]
     },
     "execution_count": 22,
     "metadata": {},
     "output_type": "execute_result"
    }
   ],
   "source": [
    "result[\"context\"]"
   ]
  },
  {
   "cell_type": "code",
   "execution_count": 23,
   "metadata": {},
   "outputs": [
    {
     "data": {
      "text/plain": [
       "'탄소중립플랫폼(Net-Zero Europe Platform) 설립은 탄소중립 유럽법(EU Taxonomy Regulation)의 7장에 해당하는 내용입니다. 이 플랫폼은 탄소중립 기술 분야로의 투자와 제조 목표 달성을 위한 회원국의 프로젝트 조정, 국가 간 소통 강화, 제3국과의 파트너십 구축, 기술 인력 양성 등의 전반적인 모니터링과 리포팅을 담당합니다. 이를 통해 탄소중립 기술의 개발과 상용화를 촉진하고, 유럽 내 탄소중립 경제로의 전환을 위한 노력을 조정하고 강화하는 역할을 합니다.'"
      ]
     },
     "execution_count": 23,
     "metadata": {},
     "output_type": "execute_result"
    }
   ],
   "source": [
    "result[\"answer\"]"
   ]
  },
  {
   "cell_type": "code",
   "execution_count": null,
   "metadata": {},
   "outputs": [],
   "source": []
  }
 ],
 "metadata": {
  "kernelspec": {
   "display_name": "llm",
   "language": "python",
   "name": "python3"
  },
  "language_info": {
   "codemirror_mode": {
    "name": "ipython",
    "version": 3
   },
   "file_extension": ".py",
   "mimetype": "text/x-python",
   "name": "python",
   "nbconvert_exporter": "python",
   "pygments_lexer": "ipython3",
   "version": "3.10.14"
  }
 },
 "nbformat": 4,
 "nbformat_minor": 2
}
