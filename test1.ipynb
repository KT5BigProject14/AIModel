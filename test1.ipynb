{
 "cells": [
  {
   "cell_type": "markdown",
   "metadata": {},
   "source": [
    "### PDF파일 하나 업로드하고 대화하기"
   ]
  },
  {
   "cell_type": "code",
   "execution_count": 2,
   "metadata": {},
   "outputs": [],
   "source": [
    "import os\n",
    "from dotenv import load_dotenv\n",
    "load_dotenv()\n",
    "import streamlit as st\n",
    "import time\n",
    "import base64\n",
    "import uuid\n",
    "import tempfile\n",
    "from langchain_upstage import UpstageEmbeddings\n",
    "from langchain_chroma import Chroma\n",
    "from langchain_community.document_loaders import PyPDFLoader\n",
    "\n",
    "from langchain_upstage import ChatUpstage\n",
    "from langchain_core.messages import HumanMessage, SystemMessage"
   ]
  },
  {
   "cell_type": "code",
   "execution_count": 3,
   "metadata": {},
   "outputs": [
    {
     "name": "stdout",
     "output_type": "stream",
     "text": [
      "Good evening! I'm doing well, thank you for asking. How about you?\n"
     ]
    }
   ],
   "source": [
    "chat = ChatUpstage(upstage_api_key=os.getenv(\"UPSTAGE_API_KEY\"))\n",
    "\n",
    "messages = [\n",
    "  SystemMessage(content=\"You are a helpful assistant.\"),\n",
    "  HumanMessage(content=\"Hi, how are you?\")\n",
    "]\n",
    "response = chat.invoke(messages)\n",
    "print(response.content)"
   ]
  },
  {
   "cell_type": "markdown",
   "metadata": {},
   "source": [
    "### PDF 파일 업로드"
   ]
  },
  {
   "cell_type": "code",
   "execution_count": 4,
   "metadata": {},
   "outputs": [],
   "source": [
    "# from langchain.document_loaders import PyPDFLoader\n",
    "\n",
    "from langchain_community.document_loaders import PyPDFLoader"
   ]
  },
  {
   "cell_type": "code",
   "execution_count": 5,
   "metadata": {},
   "outputs": [],
   "source": [
    "loader = PyPDFLoader(\"../pdfs/EU-탄소중립산업법-주요-내용.pdf\")\n"
   ]
  },
  {
   "cell_type": "code",
   "execution_count": 6,
   "metadata": {},
   "outputs": [
    {
     "data": {
      "text/plain": [
       "[Document(page_content='1. 도입 배경\\n2021.12.8, EU집행위는 제3국의 경제적 위협 으로부터 유럽연합 (EU) 및 회원국을 보호하기 위해 통상위협대응 규정 (안)을 \\n발표했습니다 . EU집행위는 EU가 제3국의 경제적 위협에 신속히 대응하고 필요시 최후의 수단으로 대응조치\\n(countermeasure) 를 취하여 EU와 회원국의 경제적 이익을 보호 하기 위해 본 규정 (안)을 준비했습니다 . (제1조) \\n본 규정 (안)은 지정학적 긴장이 고조되며 , 통상이 점점 더 무기화되어 가고 있는 시점에 EU가 통상 정책을 강화하고 , 제3국의 \\n경제적 위협에 효과적으로 대응하기 위한 해결방안으로 제시한 것입니다 . 2018.3 미국이 철강 232 조 관세를 부과함에 따라 \\nEU는 직접적인 피해를 입었습니다 . 또한 , 2019. 12 세계무역기구 TO) 상소기구가 마비되어 WTO 분쟁해결의 효율성이 약 없\\n게 되어 , EU는 경제적 위협에 더욱 취약해졌습니다 .\\n본 규정 (안)의 도입은 2019.12 집행위가 통상권한집행 규정 (Trade Enforcement Regulation) 을 개정하기 위한 입법안을 \\n제시한 후 처음 논의가 되었습니다 . 당시 유럽의회는 경제적 위협에 대한 우려를 제기했지만 , 개정된 통상권한집행 규정은 EU가 \\n경제적 위협에 대응할 수 있는 방법을 규정하지 않았습니다 . 그 후속조치로 집행위 , 의회 , 이사회는 2021 년 말 까지 집행위가 경\\n제적 위협에 대응하기 위한 별도의 입법안을 마련하겠다는 것을 명시한 공동 선언문을 채택했습니다 .\\n그 결과 이번에 발표된 통상위협대응 규정 (안)은 제3국의 경제적 위협에 대응하기 위해 EU가 취할 조치를 2단계로 명시하고 있\\n습니다 . 첫째 , 집행위는 제3국의 경제적 위협을 분석하여 , 그 위협의 유무를 공식적으로 결정한 후, 경제적 위협이 중단될 수 있\\n도록 제3국과 협의를 합니다 . 둘째 , 제3국과의 협의가 경제적 위협을 중단하는 결과를 가져오지 못할 경우 , 최후의 수단으로 EU', metadata={'source': '../pdfs/EU-탄소중립산업법-주요-내용.pdf', 'page': 0}),\n",
       " Document(page_content='습니다 . 첫째 , 집행위는 제3국의 경제적 위협을 분석하여 , 그 위협의 유무를 공식적으로 결정한 후, 경제적 위협이 중단될 수 있\\n도록 제3국과 협의를 합니다 . 둘째 , 제3국과의 협의가 경제적 위협을 중단하는 결과를 가져오지 못할 경우 , 최후의 수단으로 EU \\n자체의 대응조치를 취하게 됩니다 .\\n2. 핵심 \\n(1)제3국의 경제적 위협에 대한 정의 (제2조)\\n본 규정 (안)은 EU 또는 회원국의 특정 행위의 중단 , 수정 또는 채택에 부당한 영향력을 행사할 목적으로 EU 또는 회원국의 \\n합법적인 주권 행사를 방해하여 , 통상 또는 투자에 영향을 미치는 조치를 적용하거나 적용하겠다고 위협할 경우 적용됩니다 .\\n본 규정은 경제적 위협을 포괄적으로 정의하여 , 집행위가 본 규정을 최대한 활용하여 EU의 통상과 투자를 제한하는 다양한 \\n유형의 위협에 대응할 수 있도록 하였습니다 . \\n예를 들어 , 경제적 위협은 다음과 같은 형태를 취할 수 있습니다 : ① 차별적인 수입 관세 , ② 사업 수행에 필요한 승인의 의도적인 \\n한국무역협회 브뤼셀지부  eireenkang@kita.net 2023.3.24.\\nEU 탄소중립산업법 주요 내용\\n  EU 집행위는 16일(목, 현지시간 ) 탄소중립산업 관련 제조 역량을 강화하고 관련 산업의 역외 유출\\n을 방지하기 위한 탄소중립 산업법 (Net-Zero Industry Act, NZIA) 초안을 발표하였다 . 동 법안은 \\n2030 년까지 전략 탄소중립 산업 제조 역량을 EU 연간 수요의 40% 수준까지 확대하는 것을 목표로 \\n한다 .\\n  이를 위해 EU는 8개의 탄소중립 전략기술 (태양광 발전 및 태양열 , 육상 및 해상 풍력발전 , 배터리 및 \\n저장 , 히트펌프 및 지열에너지 , 전해조 및 수소연료전지 , 지속가능 바이오가스 및 바이오메탄 , 탄소 포집 \\n저장 (CCUS), 그리드 )을 지정했으며 역내 제조 역량 향상에 기여할 수 있다고 판단되면 ‘탄소중립 전', metadata={'source': '../pdfs/EU-탄소중립산업법-주요-내용.pdf', 'page': 0}),\n",
       " Document(page_content='한다 .\\n  이를 위해 EU는 8개의 탄소중립 전략기술 (태양광 발전 및 태양열 , 육상 및 해상 풍력발전 , 배터리 및 \\n저장 , 히트펌프 및 지열에너지 , 전해조 및 수소연료전지 , 지속가능 바이오가스 및 바이오메탄 , 탄소 포집 \\n저장 (CCUS), 그리드 )을 지정했으며 역내 제조 역량 향상에 기여할 수 있다고 판단되면 ‘탄소중립 전\\n략 프로젝트 ’로 선정하여 관련 행정 및 허가 기간 등을 혁신적으로 단축할 계획이다 . 또한 공공조달\\n시 평가항목에 지속가능성 및 회복력 기여도를 포함하여 EU의 환경 , 노동기준 , 공급망 다각화 노력을 \\n준수하는 사업자에 유리한 입찰환경을 조성한다는 입장이다 .\\n  EU의 역내 탄소중립 산업 관련 공급망 기업을 육성하기 위한 노력이 강화될 것으로 예상되므로 관\\n련 우리 기업은 동 법안을 예의주시하여 EU 진출의 기회를 모색하고 , 우리 정부도 탄소중립 산업 육\\n성을 위한 정책을 재정비할 필요가 있다 .', metadata={'source': '../pdfs/EU-탄소중립산업법-주요-내용.pdf', 'page': 0}),\n",
       " Document(page_content=\"- 1 -\\n1. 배경 및 목적\\n \\n ㅇ (배경 ) 지난 2월 EU 집행위원장이 미국 인플레이션 감축법 (IRA) 에 대응을 위해 발표한 ‘그린딜 산업\\n계획 (Green Deal Industry Plan)' 1)의 4가지 중점 추진 계획* 중 하나\\n     * 1)기후중립산업법 , 2)청청기술 생산의 투자 및 자금지원 확대 , 3)기술인력 양성 , 4)공급망 강화를 위한 국제 협력\\n ㅇ (목적 ) 2050 년 탄소중립 달성에 필수적인 탄소중립기술의 제조역량을 강화하고 유럽 에너지시스템의 \\n효율 및 회복력 보호\\n2. 주요내용\\n1목표설정 \\n ㅇ 부속서 2)에 기술된 8가지의 탄소중립 전략기술의 역내 제조역량 확충을 통해 그린딜 및 REPowerEU 에 \\n명시된 기술 및 상품의 연간 보급 수요 중 최소 40% 는 역내에서 생산하도록 유도\\n2대상 기술 및 상품\\n ㅇ ①국제에너지기구 (IEA) 평가 상 Level 8에 해당하는 기술성숙도 (TRL) 에 도달 , ②2030 년까지 온실가\\n스 55% 감축을 위해 필요한 기술 , ③EU 에너지시스템의 회복력과 공급망 안전 관련성을 기준으로 8\\n개의 전략 탄소중립기술 (Strategic Net-Zero technologies) 을 선정\\n   - ❶태양광 발전 및 태양열 기술 , ❷육상 및 해상 풍력발전 기술 , ❸배터리 및 저장기술 , ❹히트펌프 및 지열\\n에너지 기술 , ❺ 전해조 및 수소연료전지 , ❻지속가능 바이오가스 및 바이오메탄 기술 , ❼탄소 포집 저장\\n(CCUS) 기술 , ❽그리드 기술 \\n    \\n   - 원자력은 전략 탄소중립기술에는 제외되었으나 , 탄소중립기술에는 조건부로 , 즉 “연료 주기 , 소형 모\\n듈식 원자로 및 관련 최고등급연료에서 발생된 폐기물을 최소화하면서 핵공정에서 에너지를 생산하는 \\n첨단기술 ’(advanced technologies to produce energy from nuclear processes with\", metadata={'source': '../pdfs/EU-탄소중립산업법-주요-내용.pdf', 'page': 1}),\n",
       " Document(page_content='- 원자력은 전략 탄소중립기술에는 제외되었으나 , 탄소중립기술에는 조건부로 , 즉 “연료 주기 , 소형 모\\n듈식 원자로 및 관련 최고등급연료에서 발생된 폐기물을 최소화하면서 핵공정에서 에너지를 생산하는 \\n첨단기술 ’(advanced technologies to produce energy from nuclear processes with \\nminimal waste from the fuel cycle, small modular reactors, and related best-in-class \\nfuels) 이 포함\\n1) EU Commission, Communication: A Green Deal Industrial Plan for the Net-Zero Age, 2023.2.1.\\n2) EU Commission, Annexes to the proposal for a Regulation of the European Parliament and of the Council \\non establishing a framework of measures for strengthening Europe’s net-zero technology products \\nmanufacturing ecosystem', metadata={'source': '../pdfs/EU-탄소중립산업법-주요-내용.pdf', 'page': 1})]"
      ]
     },
     "execution_count": 6,
     "metadata": {},
     "output_type": "execute_result"
    }
   ],
   "source": [
    "from langchain.text_splitter import RecursiveCharacterTextSplitter\n",
    "\n",
    "text_splitter = RecursiveCharacterTextSplitter(\n",
    "    chunk_size=1000,\n",
    "    chunk_overlap=200\n",
    "    )\n",
    "\n",
    "pages = loader.load_and_split(text_splitter)\n",
    "\n",
    "pages[:5]"
   ]
  },
  {
   "cell_type": "code",
   "execution_count": 7,
   "metadata": {},
   "outputs": [
    {
     "name": "stderr",
     "output_type": "stream",
     "text": [
      "c:\\Users\\User\\anaconda3\\envs\\llm\\lib\\site-packages\\langchain_core\\_api\\deprecation.py:139: LangChainDeprecationWarning: Since Chroma 0.4.x the manual persistence method is no longer supported as docs are automatically persisted.\n",
      "  warn_deprecated(\n"
     ]
    }
   ],
   "source": [
    "from langchain.embeddings import OpenAIEmbeddings\n",
    "from langchain_upstage import UpstageEmbeddings\n",
    "\n",
    "from langchain.vectorstores import Chroma\n",
    "\n",
    "directory = \"./pdf_db\"       # 경로 지정 -> 크로마 함수에서 폴더 만들어 줄것임\n",
    "\n",
    "\n",
    "vectorstore = Chroma.from_documents(\n",
    "                        pages, \n",
    "                        UpstageEmbeddings(model=\"solar-embedding-1-large\"),\n",
    "                        persist_directory=directory # persists the vectors to the file system\n",
    "                        )\n",
    "\n",
    "\n",
    "vectorstore.persist()"
   ]
  },
  {
   "cell_type": "code",
   "execution_count": 8,
   "metadata": {},
   "outputs": [],
   "source": [
    "from langchain.callbacks.streaming_stdout import StreamingStdOutCallbackHandler\n",
    "import os \n",
    "from langchain.chains import RetrievalQA\n",
    "\n",
    "# 검색기 설정 \n",
    "retriever = vectorstore.as_retriever(\n",
    "                                search_type=\"similarity\", # Cosine Similarity\n",
    "                                search_kwargs={\"k\": 3,} \n",
    "                                \n",
    ")\n"
   ]
  },
  {
   "cell_type": "code",
   "execution_count": 9,
   "metadata": {},
   "outputs": [],
   "source": [
    "# QA 체인 설정\n",
    "qa = RetrievalQA.from_llm(llm=chat, retriever=retriever, return_source_documents=True)"
   ]
  },
  {
   "cell_type": "code",
   "execution_count": 10,
   "metadata": {},
   "outputs": [
    {
     "name": "stderr",
     "output_type": "stream",
     "text": [
      "c:\\Users\\User\\anaconda3\\envs\\llm\\lib\\site-packages\\langchain_core\\_api\\deprecation.py:139: LangChainDeprecationWarning: The method `Chain.__call__` was deprecated in langchain 0.1.0 and will be removed in 0.3.0. Use invoke instead.\n",
      "  warn_deprecated(\n"
     ]
    },
    {
     "name": "stdout",
     "output_type": "stream",
     "text": [
      "탄소중립 전략 프로젝트는 EU에서 탄소중립을 달성하기 위해 중요한 역할을 하는 프로젝트입니다. 이 프로젝트는 EU 내에서 8개의 핵심 탄소중립 기술의 제조 역량을 강화하고, EU 에너지 시스템의 회복력을 향상시키는 데 기여합니다. 또한, EU 내 탄소 포집, 활용 및 저장 (CCUS) 프로젝트도 탄소중립 전략 프로젝트로 선정됩니다. EU는 2030년까지 연간 5천만 톤의 CO2를 저장할 수 있는 능력을 갖추는 것을 목표로 하고 있습니다. 탄소 포집 프로젝트의 경우, 각 회원국은 잠재적인 저장소, 탄소 포집 프로젝트 현황 등의 데이터를 수집하여 집행위원회에 보고해야 합니다. 천연가스 및 원유 채굴권을 가진 기업들은 이산화탄소 주입 및 저장을 위한 목표를 설정하고, 탄소 포집 프로젝트 개발 등의 세부 계획을 제출해야 합니다. 이러한 전략 프로젝트는 부지 조성, 설계, 인프라 구축 등의 허가 절차를 우선적으로 처리하며, 행정 절차, 민원 등을 지원합니다.\n"
     ]
    }
   ],
   "source": [
    "query = '탄소중립 전략 프로젝트에 대해서 알려줘.'\n",
    "result = qa(query)          # 질문 -> qa -> answer\n",
    "\n",
    "print(result[\"result\"])     # 대답 출력 "
   ]
  },
  {
   "cell_type": "markdown",
   "metadata": {},
   "source": [
    "### 메세지 기억하고 대답 근거 출력하기"
   ]
  },
  {
   "cell_type": "code",
   "execution_count": 11,
   "metadata": {},
   "outputs": [],
   "source": [
    "# 1) 챗봇에 '기억'을 입히기 위한 첫번째 단계 \n",
    "\n",
    "# 이전의 메시지들과 최신 사용자 질문을 분석해, 문맥에 대한 정보가 없이 혼자서만 봤을때 이해할 수 있도록 질문을 다시 구성함\n",
    "# 즉 새로 들어온 그 질문 자체에만 집중할 수 있도록 다시 재편성\n",
    "from langchain.chains import create_history_aware_retriever\n",
    "from langchain_core.prompts import ChatPromptTemplate, MessagesPlaceholder\n",
    "\n",
    "contextualize_q_system_prompt = \"\"\"이전 대화 내용과 최신 사용자 질문이 있을 때, 이 질문이 이전 대화 내용과 관련이 있을 수 있습니다. \n",
    "이런 경우, 대화 내용을 알 필요 없이 독립적으로 이해할 수 있는 질문으로 바꾸세요. \n",
    "질문에 답할 필요는 없고, 필요하다면 그저 다시 구성하거나 그대로 두세요.\"\"\"\n",
    "\n",
    "# MessagesPlaceholder: 'chat_history' 입력 키를 사용하여 이전 메세지 기록들을 프롬프트에 포함시킴.\n",
    "# 즉 프롬프트, 메세지 기록 (문맥 정보), 사용자의 질문으로 프롬프트가 구성됨. \n",
    "contextualize_q_prompt = ChatPromptTemplate.from_messages(\n",
    "    [\n",
    "        (\"system\", contextualize_q_system_prompt),\n",
    "        MessagesPlaceholder(\"chat_history\"),\n",
    "        (\"human\", \"{input}\"),\n",
    "    ]\n",
    ")\n",
    "\n",
    "# 이를 토대로 메세지 기록을 기억하는 retriever를 생성합니다.\n",
    "history_aware_retriever = create_history_aware_retriever(\n",
    "    chat, retriever, contextualize_q_prompt\n",
    ")\n"
   ]
  },
  {
   "cell_type": "code",
   "execution_count": 12,
   "metadata": {},
   "outputs": [],
   "source": [
    "# 2) 두번째 단계로, 방금 전 생성한 체인을 사용하여 문서를 불러올 수 있는 retriever 체인을 생성합니다.\n",
    "from langchain.chains import create_retrieval_chain\n",
    "from langchain.chains.combine_documents import create_stuff_documents_chain\n",
    "\n",
    "qa_system_prompt = \"\"\"질문-답변 업무를 돕는 보조원입니다. \n",
    "질문에 답하기 위해 검색된 내용을 사용하세요. \n",
    "답을 모르면 모른다고 말하세요. \n",
    "답변은 세 문장 이내로 간결하게 유지하세요.\n",
    "\n",
    "## 답변 예시\n",
    "📍답변 내용: \n",
    "📍증거: \n",
    "\n",
    "{context}\"\"\"\n",
    "qa_prompt = ChatPromptTemplate.from_messages(\n",
    "    [\n",
    "        (\"system\", qa_system_prompt),\n",
    "        MessagesPlaceholder(\"chat_history\"),\n",
    "        (\"human\", \"{input}\"),\n",
    "    ]\n",
    ")\n",
    "\n",
    "question_answer_chain = create_stuff_documents_chain(chat, qa_prompt)\n",
    "\n",
    "# 결과값은 input, chat_history, context, answer 포함함.\n",
    "rag_chain = create_retrieval_chain(history_aware_retriever, question_answer_chain)\n"
   ]
  },
  {
   "cell_type": "code",
   "execution_count": 13,
   "metadata": {},
   "outputs": [],
   "source": [
    "history_messages = []"
   ]
  },
  {
   "cell_type": "code",
   "execution_count": 14,
   "metadata": {},
   "outputs": [
    {
     "name": "stdout",
     "output_type": "stream",
     "text": [
      "EU 탄소중립산업법은 탄소중립 산업으로의 전환을 지원하기 위한 입법 패키지입니다\n",
      " 이 법의 중요한 요소 중 하나는 탄소중립플랫폼(Net-Zero Europe Platform)의 설립입니다\n",
      "\n",
      "\n",
      "탄소중립플랫폼은 탄소중립 산업으로의 전환을 지원하기 위한 중앙 집중식 협의 및 협력 메커니즘으로 기능합니다\n",
      " 이 플랫폼은 EU 회원국, 지역 및 지방 정부, 산업 대표, 노동조합, 시민 사회 단체 등 다양한 이해관계자들을 모아 탄소중립 전환에 대한 조정과 협력을 촉진합니다\n",
      "\n",
      "\n",
      "이 플랫폼은 탄소중립 전환을 위한 정책 및 전략에 대한 의견을 제공하고, 모범 사례를 공유하며, 전환 과정에서 발생하는 문제점에 대한 해결책을 모색합니다\n",
      " 또한, 정책 및 규제에 대한 권고사항을 제시하고, 탄소중립 전환을 위한 자금 및 지원 프로그램에 대한 정보를 제공합니다\n",
      "\n",
      "\n",
      "탄소중립플랫폼의 설립은 EU가 탄소중립 목표를 달성하기 위해 필요한 협력과 조정을 강화하기 위한 중요한 단계입니다\n",
      " 이를 통해 다양한 이해관계자들이 협력하고 지식을 공유함으로써 탄소중립 산업으로의 전환을 더욱 효과적으로 추진할 수 있을 것으로 기대됩니다\n",
      "\n",
      "------------------------------\n",
      "page_content='* 참고 : <탄소중립산업법 조항 개요>\\n*참고:한국무역협회 , ‘EU 탄소중립산업법 주요 내용과 시사점 ’\\n한국무역협회 브뤼셀지부 \\n/ KBA Europe 사무국Avenue Louise 66, 1050 Brussels, Belgium\\nTel   +32 2 639 0990  / Homepage   kba-europe.com  \\n Email   kba@kba-europe.com\\n   * EU Trade Brief 및 KBA 뉴스레터 구독 문의는 kba@kba-europe.com 으로 메일 주시기 바랍니다 .구분 항목\\n1장. 주제, 범위, 정의1조 주제\\n2조 범위\\n3조 정의\\n1절. 간소화 및 허가 과정\\n2장. 탄소중립 기술 \\n제조를 위한 여건 \\n마련4조 행정창구 일원화\\n5조 온라인 정보접근\\n6조 허가 절차 기간\\n7조 환경영향평가와 허가\\n8조 계획\\n9조 UNECE( 유엔-유럽 경제위원회 ) 협약에의 적용가능성\\n2절. 탄소중립 전략 프로젝트\\n10조 선택기준\\n11조 적용과 승인\\n12조 탄소중립 전략 프로젝트 우선 순위\\n13조 탄소중립 전략 프로젝트에 대한 허가 절차 기간 \\n14조 시행 촉진\\n15조 자금조달\\n3장. 탄소추출 역량16조 탄소추출 역량 목표\\n17조 탄소 저장역량데이터 투명성\\n18조 석유 및 가스생산자의 기여\\n19조 공공 조달 절차의 지속 가능성 및 탄력성 기여\\n4장. 시장접근20조 재생에너지 배치 관련 경매 지침\\n21조 공공개입 형태\\n22조 시장 이니셔티브에 대한 접근 조정\\n5장. 숙련인력\\n접근성23조 유럽 탄소중립산업 아카데미\\n24조 공공조달절차에서의 탄소중립 기여도 평가\\n25조 탄소중립 유럽플랫폼과 기술\\n6장. 혁신26조 탄소중립 규제샌드 박스\\n27조 중소기업을 위한 조치\\n7장. 거버넌스28조 탄소중립 유럽 플랫폼 설립 및 과업\\n29조 탄소중립 유럽 플랫폼 구조 및 기능\\n30조 국가 에너지 ·기후계획과의 조율\\n8장 모니터링 31조 모니터링\\n9장 최종조항32조 권한 위임\\n33조 위임권 행사\\n34조 위원회 절차\\n35조 평가\\n36조 기밀정보 처리' metadata={'page': 7, 'source': '../pdfs/EU-탄소중립산업법-주요-내용.pdf'}\n",
      "page_content='* 참고 : <탄소중립산업법 조항 개요>\\n*참고:한국무역협회 , ‘EU 탄소중립산업법 주요 내용과 시사점 ’\\n한국무역협회 브뤼셀지부 \\n/ KBA Europe 사무국Avenue Louise 66, 1050 Brussels, Belgium\\nTel   +32 2 639 0990  / Homepage   kba-europe.com  \\n Email   kba@kba-europe.com\\n   * EU Trade Brief 및 KBA 뉴스레터 구독 문의는 kba@kba-europe.com 으로 메일 주시기 바랍니다 .구분 항목\\n1장. 주제, 범위, 정의1조 주제\\n2조 범위\\n3조 정의\\n1절. 간소화 및 허가 과정\\n2장. 탄소중립 기술 \\n제조를 위한 여건 \\n마련4조 행정창구 일원화\\n5조 온라인 정보접근\\n6조 허가 절차 기간\\n7조 환경영향평가와 허가\\n8조 계획\\n9조 UNECE( 유엔-유럽 경제위원회 ) 협약에의 적용가능성\\n2절. 탄소중립 전략 프로젝트\\n10조 선택기준\\n11조 적용과 승인\\n12조 탄소중립 전략 프로젝트 우선 순위\\n13조 탄소중립 전략 프로젝트에 대한 허가 절차 기간 \\n14조 시행 촉진\\n15조 자금조달\\n3장. 탄소추출 역량16조 탄소추출 역량 목표\\n17조 탄소 저장역량데이터 투명성\\n18조 석유 및 가스생산자의 기여\\n19조 공공 조달 절차의 지속 가능성 및 탄력성 기여\\n4장. 시장접근20조 재생에너지 배치 관련 경매 지침\\n21조 공공개입 형태\\n22조 시장 이니셔티브에 대한 접근 조정\\n5장. 숙련인력\\n접근성23조 유럽 탄소중립산업 아카데미\\n24조 공공조달절차에서의 탄소중립 기여도 평가\\n25조 탄소중립 유럽플랫폼과 기술\\n6장. 혁신26조 탄소중립 규제샌드 박스\\n27조 중소기업을 위한 조치\\n7장. 거버넌스28조 탄소중립 유럽 플랫폼 설립 및 과업\\n29조 탄소중립 유럽 플랫폼 구조 및 기능\\n30조 국가 에너지 ·기후계획과의 조율\\n8장 모니터링 31조 모니터링\\n9장 최종조항32조 권한 위임\\n33조 위임권 행사\\n34조 위원회 절차\\n35조 평가\\n36조 기밀정보 처리' metadata={'page': 7, 'source': '../pdfs/EU-탄소중립산업법-주요-내용.pdf'}\n",
      "page_content='* 참고 : <탄소중립산업법 조항 개요>\\n*참고:한국무역협회 , ‘EU 탄소중립산업법 주요 내용과 시사점 ’\\n한국무역협회 브뤼셀지부 \\n/ KBA Europe 사무국Avenue Louise 66, 1050 Brussels, Belgium\\nTel   +32 2 639 0990  / Homepage   kba-europe.com  \\n Email   kba@kba-europe.com\\n   * EU Trade Brief 및 KBA 뉴스레터 구독 문의는 kba@kba-europe.com 으로 메일 주시기 바랍니다 .구분 항목\\n1장. 주제, 범위, 정의1조 주제\\n2조 범위\\n3조 정의\\n1절. 간소화 및 허가 과정\\n2장. 탄소중립 기술 \\n제조를 위한 여건 \\n마련4조 행정창구 일원화\\n5조 온라인 정보접근\\n6조 허가 절차 기간\\n7조 환경영향평가와 허가\\n8조 계획\\n9조 UNECE( 유엔-유럽 경제위원회 ) 협약에의 적용가능성\\n2절. 탄소중립 전략 프로젝트\\n10조 선택기준\\n11조 적용과 승인\\n12조 탄소중립 전략 프로젝트 우선 순위\\n13조 탄소중립 전략 프로젝트에 대한 허가 절차 기간 \\n14조 시행 촉진\\n15조 자금조달\\n3장. 탄소추출 역량16조 탄소추출 역량 목표\\n17조 탄소 저장역량데이터 투명성\\n18조 석유 및 가스생산자의 기여\\n19조 공공 조달 절차의 지속 가능성 및 탄력성 기여\\n4장. 시장접근20조 재생에너지 배치 관련 경매 지침\\n21조 공공개입 형태\\n22조 시장 이니셔티브에 대한 접근 조정\\n5장. 숙련인력\\n접근성23조 유럽 탄소중립산업 아카데미\\n24조 공공조달절차에서의 탄소중립 기여도 평가\\n25조 탄소중립 유럽플랫폼과 기술\\n6장. 혁신26조 탄소중립 규제샌드 박스\\n27조 중소기업을 위한 조치\\n7장. 거버넌스28조 탄소중립 유럽 플랫폼 설립 및 과업\\n29조 탄소중립 유럽 플랫폼 구조 및 기능\\n30조 국가 에너지 ·기후계획과의 조율\\n8장 모니터링 31조 모니터링\\n9장 최종조항32조 권한 위임\\n33조 위임권 행사\\n34조 위원회 절차\\n35조 평가\\n36조 기밀정보 처리' metadata={'page': 7, 'source': '../pdfs/EU-탄소중립산업법-주요-내용.pdf'}\n"
     ]
    }
   ],
   "source": [
    "prompt = input()\n",
    "# 1. EU 탄소중립산업법에서 탄소중립플랫폼(Net-Zero Europe Platform) 설립 부분에 대해 설명해줘.\n",
    "# 2. EU 경제안보전략 입법 현황에서 수출통제 백서에 대해 이사회의 입장을 알려줘.\n",
    "\n",
    "history_messages.append(prompt)\n",
    "\n",
    "result = rag_chain.invoke({\"input\": prompt, \"chat_history\": history_messages})\n",
    "\n",
    "\n",
    "sentences = result[\"answer\"].split('.')\n",
    "\n",
    "for i in range(len(sentences)):\n",
    "    print(sentences[i])\n",
    "    \n",
    "print('---'*10)\n",
    "\n",
    "\n",
    "for con in result[\"context\"]:\n",
    "    print(con)\n"
   ]
  },
  {
   "cell_type": "code",
   "execution_count": 15,
   "metadata": {},
   "outputs": [],
   "source": [
    "loader = PyPDFLoader(\"../pdfs/EU경제안보전략이니셔티브-입법-현황.pdf\")"
   ]
  },
  {
   "cell_type": "code",
   "execution_count": 16,
   "metadata": {},
   "outputs": [],
   "source": [
    "pages2 = loader.load_and_split(text_splitter)"
   ]
  },
  {
   "cell_type": "code",
   "execution_count": 17,
   "metadata": {},
   "outputs": [
    {
     "data": {
      "text/plain": [
       "{'ids': ['029ef2b9-eadf-4309-8646-c284adc24c30',\n",
       "  '09e95f4b-61c1-4ee9-bf58-3771f6b3a88b',\n",
       "  '0b58abbd-a0b8-49ef-b565-edae20e1b3b5',\n",
       "  '17acd51a-45af-483d-9dc8-3fb8a5ae9f6d',\n",
       "  '1d4c65c7-825d-4660-8cf7-c585dad30fdf',\n",
       "  '250563e6-bf49-4695-a745-cc1243677bfb',\n",
       "  '273f9fff-2cf7-4979-aae5-c77b26cc3f3d',\n",
       "  '27a08592-0a85-4950-b1a9-10d2235b1440',\n",
       "  '27a29fb4-2439-4b2e-897d-d16e3caa0b99',\n",
       "  '28b326b5-f0a0-4a86-aab6-b3dcecc240e1',\n",
       "  '28bd6d04-d8db-41b3-9141-8d0d11c3eb71',\n",
       "  '2982baf9-46fb-4059-9597-8e17fca66858',\n",
       "  '30092516-c3fb-44f5-b372-60bf1f98404f',\n",
       "  '35b601c8-4c2a-4950-bc2a-6fea7a4fc99e',\n",
       "  '36046d91-ddad-47f0-ab8f-d4fb4c9f06ca',\n",
       "  '43f70152-894b-477c-abd3-a37dac5f12a1',\n",
       "  '473aba31-b895-4aaa-b31d-ddef42e0c965',\n",
       "  '4753904d-d4cb-4aff-b3e6-2d6c4358e17c',\n",
       "  '52487f46-98ad-4fe4-82b2-4a4f0a386b1c',\n",
       "  '66658181-5679-4205-b171-8020e6bff879',\n",
       "  '68905eb5-a054-45c5-977d-8c442065245b',\n",
       "  '6dfa7fd3-956b-4a21-8d47-1acfbbbd167a',\n",
       "  '70e00cfd-b3a6-419a-b629-926fb0be400b',\n",
       "  '73c09bbc-b5b4-45d1-8f7b-7e7693a38227',\n",
       "  '77768c54-e644-4aa1-9a1e-b02916430c18',\n",
       "  '7876d5f1-9235-4b2d-bc7f-db2c7910570a',\n",
       "  '7bc36043-d74f-4770-9a47-fb77ec9f8d11',\n",
       "  '7d2c36aa-5b72-49a3-b286-55b94356e76e',\n",
       "  '858bdf93-b0c2-4874-ac33-214a895a05fe',\n",
       "  '8604907e-bd4d-46b7-b5fa-24f26cca9583',\n",
       "  '87fd5d3c-c307-44b2-88d0-97e0ff4e5040',\n",
       "  '8c06a748-62fc-4b30-85e2-64df9620ddc4',\n",
       "  '8f692a1d-9ca2-408a-b658-d88dbc03a940',\n",
       "  '91122a20-cee7-47d2-bf84-4454c3684eba',\n",
       "  '97ac7358-16b8-4f34-9ac6-a318221821f9',\n",
       "  '9f574c47-0a24-4930-bbb4-587a9a45e10d',\n",
       "  'a1c369ec-1765-42ac-91aa-ad4d7b314149',\n",
       "  'a3e2bb35-763e-4f9e-b61b-40e10de82088',\n",
       "  'ad72035c-fd66-4bd6-b541-f32580b42038',\n",
       "  'b38318b5-5fb4-43d7-83f0-ff713c757f06',\n",
       "  'b462341b-8ed2-4b04-bb5a-e7f0ce6a71b6',\n",
       "  'bbdd143b-47a3-4c39-bc04-c4183d68e56a',\n",
       "  'bec498af-54f6-4513-823e-de9a4cdff5a5',\n",
       "  'c3135cdd-8c9f-4836-8ad2-b7994d01bcd0',\n",
       "  'c879a48a-933b-4eaa-b15d-7c3c210700f1',\n",
       "  'c88d3181-9d1e-4654-874f-d80effb82a9b',\n",
       "  'd8d9779e-f403-414a-8cd1-c8e05a9c3ffa',\n",
       "  'dc2458b3-0f5a-4f90-821b-5bc5a4a76a60',\n",
       "  'ef40afbc-0f6a-43d1-be76-122565db1675',\n",
       "  'f78fe93f-0be1-471a-b4fa-9fa8f10486a2',\n",
       "  'fa7ce494-c9e4-4ca9-9d40-b49e2db5ee9e',\n",
       "  'fad4d26e-e048-4ac4-aabb-95509c0ea8ac',\n",
       "  'ffeaa52f-fd21-4f46-b8f2-285c5966526b'],\n",
       " 'embeddings': None,\n",
       " 'metadatas': [{'page': 2, 'source': '../pdfs/EU-탄소중립산업법-주요-내용.pdf'},\n",
       "  {'page': 4, 'source': '../pdfs/EU-탄소중립산업법-주요-내용.pdf'},\n",
       "  {'page': 2, 'source': '../pdfs/EU경제안보전략이니셔티브-입법-현황.pdf'},\n",
       "  {'page': 5, 'source': '../pdfs/EU-탄소중립산업법-주요-내용.pdf'},\n",
       "  {'page': 0, 'source': '../pdfs/EU경제안보전략이니셔티브-입법-현황.pdf'},\n",
       "  {'page': 1, 'source': '../pdfs/EU-탄소중립산업법-주요-내용.pdf'},\n",
       "  {'page': 3, 'source': '../pdfs/EU-탄소중립산업법-주요-내용.pdf'},\n",
       "  {'page': 7, 'source': '../pdfs/EU-탄소중립산업법-주요-내용.pdf'},\n",
       "  {'page': 5, 'source': '../pdfs/EU-탄소중립산업법-주요-내용.pdf'},\n",
       "  {'page': 0, 'source': '../pdfs/EU-탄소중립산업법-주요-내용.pdf'},\n",
       "  {'page': 0, 'source': '../pdfs/EU-탄소중립산업법-주요-내용.pdf'},\n",
       "  {'page': 0, 'source': '../pdfs/EU-탄소중립산업법-주요-내용.pdf'},\n",
       "  {'page': 6, 'source': '../pdfs/EU-탄소중립산업법-주요-내용.pdf'},\n",
       "  {'page': 5, 'source': '../pdfs/EU-탄소중립산업법-주요-내용.pdf'},\n",
       "  {'page': 7, 'source': '../pdfs/EU-탄소중립산업법-주요-내용.pdf'},\n",
       "  {'page': 5, 'source': '../pdfs/EU-탄소중립산업법-주요-내용.pdf'},\n",
       "  {'page': 4, 'source': '../pdfs/EU-탄소중립산업법-주요-내용.pdf'},\n",
       "  {'page': 7, 'source': '../pdfs/EU-탄소중립산업법-주요-내용.pdf'},\n",
       "  {'page': 5, 'source': '../pdfs/EU-탄소중립산업법-주요-내용.pdf'},\n",
       "  {'page': 2, 'source': '../pdfs/EU-탄소중립산업법-주요-내용.pdf'},\n",
       "  {'page': 4, 'source': '../pdfs/EU-탄소중립산업법-주요-내용.pdf'},\n",
       "  {'page': 1, 'source': '../pdfs/EU경제안보전략이니셔티브-입법-현황.pdf'},\n",
       "  {'page': 0, 'source': '../pdfs/EU경제안보전략이니셔티브-입법-현황.pdf'},\n",
       "  {'page': 6, 'source': '../pdfs/EU-탄소중립산업법-주요-내용.pdf'},\n",
       "  {'page': 7, 'source': '../pdfs/EU-탄소중립산업법-주요-내용.pdf'},\n",
       "  {'page': 0, 'source': '../pdfs/EU-탄소중립산업법-주요-내용.pdf'},\n",
       "  {'page': 6, 'source': '../pdfs/EU-탄소중립산업법-주요-내용.pdf'},\n",
       "  {'page': 7, 'source': '../pdfs/EU-탄소중립산업법-주요-내용.pdf'},\n",
       "  {'page': 0, 'source': '../pdfs/EU-탄소중립산업법-주요-내용.pdf'},\n",
       "  {'page': 1, 'source': '../pdfs/EU-탄소중립산업법-주요-내용.pdf'},\n",
       "  {'page': 1, 'source': '../pdfs/EU-탄소중립산업법-주요-내용.pdf'},\n",
       "  {'page': 2, 'source': '../pdfs/EU-탄소중립산업법-주요-내용.pdf'},\n",
       "  {'page': 4, 'source': '../pdfs/EU-탄소중립산업법-주요-내용.pdf'},\n",
       "  {'page': 5, 'source': '../pdfs/EU-탄소중립산업법-주요-내용.pdf'},\n",
       "  {'page': 0, 'source': '../pdfs/EU-탄소중립산업법-주요-내용.pdf'},\n",
       "  {'page': 4, 'source': '../pdfs/EU-탄소중립산업법-주요-내용.pdf'},\n",
       "  {'page': 2, 'source': '../pdfs/EU-탄소중립산업법-주요-내용.pdf'},\n",
       "  {'page': 7, 'source': '../pdfs/EU-탄소중립산업법-주요-내용.pdf'},\n",
       "  {'page': 1, 'source': '../pdfs/EU-탄소중립산업법-주요-내용.pdf'},\n",
       "  {'page': 1, 'source': '../pdfs/EU-탄소중립산업법-주요-내용.pdf'},\n",
       "  {'page': 4, 'source': '../pdfs/EU-탄소중립산업법-주요-내용.pdf'},\n",
       "  {'page': 4, 'source': '../pdfs/EU-탄소중립산업법-주요-내용.pdf'},\n",
       "  {'page': 3, 'source': '../pdfs/EU-탄소중립산업법-주요-내용.pdf'},\n",
       "  {'page': 3, 'source': '../pdfs/EU-탄소중립산업법-주요-내용.pdf'},\n",
       "  {'page': 2, 'source': '../pdfs/EU-탄소중립산업법-주요-내용.pdf'},\n",
       "  {'page': 1, 'source': '../pdfs/EU경제안보전략이니셔티브-입법-현황.pdf'},\n",
       "  {'page': 4, 'source': '../pdfs/EU-탄소중립산업법-주요-내용.pdf'},\n",
       "  {'page': 1, 'source': '../pdfs/EU-탄소중립산업법-주요-내용.pdf'},\n",
       "  {'page': 4, 'source': '../pdfs/EU-탄소중립산업법-주요-내용.pdf'},\n",
       "  {'page': 2, 'source': '../pdfs/EU-탄소중립산업법-주요-내용.pdf'},\n",
       "  {'page': 0, 'source': '../pdfs/EU-탄소중립산업법-주요-내용.pdf'},\n",
       "  {'page': 0, 'source': '../pdfs/EU-탄소중립산업법-주요-내용.pdf'},\n",
       "  {'page': 0, 'source': '../pdfs/EU-탄소중립산업법-주요-내용.pdf'}],\n",
       " 'documents': ['* 연간 제조역량을 GW로 표시할 수 없는 경우\\n5공공조달\\n ㅇ 공공조달 , 재생에너지 생산 및 소비진작을 위한 입찰 진행시 가격 , 성능 외에 지속가능성 및 회복력 기\\n여도 (sustainability and resilience contribution)*를 평가항목에 포함\\n   * (a) 적용되는 법안에서 요구하는 환경 지속가능성 최소 기준 충족\\n     (b) 혁신적인 솔루션을 개발시 , 구현 계획의 영향 및 품질 , 리스크 관리 방안\\n     (c) 해당되는 경우 에너지 시스템 통합에 대한 입찰자의 기여도\\n     (d) EU 전체 수요중 65% 이상을 단일 국가에 의존하고 있는 특정 탄소중립 기술의 포함 여부와 비율\\n   - 지속가능성 (환경기준 , 에너지시스템 통합 및 위험관리조치 , 공급망 다각화 등) 및 회복력에 대해 \\n15~30% 의 가중치 부여 가능\\n ㅇ 단, 10% 이상의 가격 차이 발생시 지속가능 및 회복력 기여 평가 예외 적용이 가능구 분탄소중립 제조역량 \\nCO 2 저장소 기타*\\n1GW 이상 1GW 미만\\n탄소중립 전략프로젝트 12개월 9개월 18개월 12개월\\n이외 탄소중립 제조 프로젝트 18개월 12개월 - 18개월',\n",
       "  '- 4 - ㅇ 최근 개편된 보조금 심사규정 개편안에 따른 ‘한시적 위기 및 전환 프레임워크 3)’*, ‘일반 적용 면제 규\\n정4)’**을 통해 탄소중립산업 프로젝트에 대한 회원국 보조금 지급이 확대될 것으로 기대되나 , 여전히 \\n명확한 자금지원에 대한 언급이 부족\\n     * 한시적 위기 및 전환 프레임워크 (Temporary Crisis and Transition Framework, TCTF) \\n      - 신재생에너지 및 에너지 저장 산업 촉진 및 산업 공정의 탈탄소화 등 탄소중립경제 전환에 핵심적인 산업 섹터에 대한 보\\n조금 지원을 2025 년 12월까지 한시적으로 적용\\n      - 1) EU 각 회원국은 TCTF 에 따라 , △보조금 지원액을 투자비용 대비 일정 비율로 간소화 및 효율화하고 , △중소기업 또는 \\n낙후지역 기업에 대한 보조금 , 세액공제 , 부채 또는 보증 등 방식을 통한 보조금에 대한 상한을 확대하며 (5∼15%), △매\\n칭 보조금 을 도입 , 각 회원국은 유럽경제지역 (EEA) 역외 이전의 위험이 높은 개별 기업에 대해 제3국에서 혜택을 받을 수 \\n있는 보조금 액수에 상응하는 금액  또는 EEA 지역 내 투자를 유지할 인센티브로써 필요한 금액 중 낮은 금액을 보조금으\\n로 지급 할 수 있음\\n      ** 일반적용면제규정 (General Block Exemption Regulation, GBER) \\n      - 집행위 통보 의무가 면제되는 보조금으로 현재 EU 회원국이 지급하는 보조금의 약 90% 가 GBER 에 의한 보조금 , 이번 \\nGBER 대상 금액 상향 조정으로 비율은 더욱 증가할 전망\\n   - 이미 존재하고 있는 Recovery and Resilience Facility, InvestEU 등의 프로그램과 Innovation \\nFund 가 탄소중립기술제조 프로젝트에 활용될 것으로 보임\\n ㅇ EU는 별도 자료 5)를 통해 동법안에서 제시한 목표 달성을 위해 2023 년부터 2030 년까지 약 920 억 유',\n",
       "  '3\\x00\\x00\\x00\\x00-\\x00EU\\x00수출통제\\x00적용대상\\x00규정\\x00시\\x00다자간\\x00수출\\x00통제\\x00체제(예:\\x00Wassenaar\\x00Arrangement,\\x00Missile\\x00\\nTechnology\\x00Control\\x00Regime,\\x00Nuclear\\x00Suppliers\\x00Group\\x00등)에\\x00기반하는\\x00것이\\x00법적\\x00절차상\\x00문제가\\x00없으나,\\x00\\n동\\x00체제의\\x00회원국인\\x00러시아가\\x00신기술(emerging\\x00technology)의\\x00적용대상\\x00추가에\\x00반대하고\\x00있어\\x00\\nEU\\x00입장에서는\\x00다자간\\x00협의에\\x00기반한\\x00수출통제\\x00적용대상\\x00개정이\\x00어려운\\x00상황\\n\\x00\\x00\\x00\\x00-\\x00이에\\x00차선책으로,\\x00집행위와\\x00이사회\\x00모두\\x00상기\\x00규정의\\x00제17조와\\x00위임법을\\x00통해\\x00신속하게\\x00적용\\n대상을\\x00수정할\\x00수\\x00있는\\x00입법\\x00과정을\\x00선호\\n\\x00\\x00\\x00\\x00-\\x00집행위는\\x00이러한\\x00절차의\\x00법적\\x00합치\\x00여부에\\x00대해\\x00조사\\x00중이며\\x007월\\x00말까지\\x00결과가\\x00나올\\x00것으로\\x00예상\\x00\\n\\x00\\x00❷\\x00집행위와\\x00회원국\\x00고위\\x00그룹\\x00간\\x00협력\\n\\x00\\x00\\x00\\x00-\\x00집행위는\\x00작업반(working\\x00group)이\\x00정치적\\x00논의로\\x00확대되는\\x00것을\\x00고려하지\\x00않으나,\\x00이사회는\\x00\\n작업반과\\x00고위직\\x00관계자의\\x00정기적인\\x00비공개\\x00면담\\x00진행\\x00및\\x00필요시\\x00상임위와\\x00의회에\\x00기밀문서\\x00\\n형식으로\\x00보고하는\\x00것을\\x00제안\\n\\x00\\x00\\x00\\x00-\\x00이사회는\\x00이중용도\\x00품목에\\x00대한\\x00정보\\x00공유\\x00활성화를\\x00위한\\x00권고안도\\x00제시한다는\\x00입장\\n\\x00\\x00❸\\x00EU\\x00이중용도\\x00규정\\x00수정\\x00적극\\x00협조\\n\\x00\\x00\\x00\\x00-\\x00이사회는\\x00이중용도\\x00기술\\x00수출통제\\x00규정의\\x00민감성으로\\x00인해\\x00시행과\\x00개정이\\x00어려운\\x00점을\\x00\\n인지하고\\x00있음\\n\\x00\\x00\\x00\\x00-\\x00향후\\x00이중용도\\x00사용\\x00품목\\x00적용\\x00대상의\\x00개정\\x00필요\\x00시,\\x00최대한\\x00협조할\\x00것으로\\x00예상\\x00',\n",
       "  '- 5 -[EU 탄소중립산업 주요 기술의 2030 제조역량 목표 , 현황 , 장애요소 및 전망 ]\\n산업  항목 내 용\\n태양광\\n패널목표 · 2030 년까지 EU 역내 태양광 패널 제조 역량 30기가와트 (GW) 달성\\n현황· 현재 EU 역내 폴리실리콘 제조 역량은 23GW, 잉곳 및 웨이퍼 2GW, 태양 전지 1GW, 태양\\n전지 모듈 9GW 수준\\n· EU 기업들은 2030 년까지 30GW 의 웨이퍼 및 60GW 모듈 어셈블리 능력 확보를 위해 관련 \\n제조 역량을 확대중\\n· 폴리실리콘의 경우 , 작년 노르웨이 폴리실리콘 제조업체가 조업을 중단하는 등 오히려 제조 역량이 \\n감소하고 있는 상황\\n장애\\n요소· 고순도 폴리실리콘 , 잉곳 가공 및 웨이퍼 제작 , 태양전지 모듈 어셈블리 및 인버터 , 그리드 연\\n계 등의 對중국 의존도가 매우 높음 (특히 , 잉곳 및 웨이퍼의 경우 EU 전체 수요의 90% 를 중\\n국에 의존 )\\n· 중국 제품과의 가격경쟁 , 美 인플레이션 감축법 (IRA) 에 따른 관련 투자 유출 우려 등이 장애요\\n소로 지적\\n전망· 태양광 관련 모든 단계의 가치사슬이 EU 역내에 존재하나 , 2030 년 목표 달성을 위해서는 단\\n계별 제조 역량 확대를 위한 프레임워크 및 지원이 필요하다는 분석 \\n풍력\\n터빈목표 · 2030 년까지 EU 역내 연간 36GW 의 풍력터빈 제조 역량 확보\\n현황· 현재 EU 풍력터빈 제조 약량은 연간 20~25GW 수준 . 2022 년 EU 역내 16GW 의 풍력 발전 \\n역량이 확대되었으며 , 99% 의 터빈이 EU 역내에서 제작됨 . 다만 , 이는 동 법이 제시한 목표의 \\n절반에 그치는 수준\\n장애\\n요소· 현재 EU 역내 수요를 충당할 풍력 터빈 제조 역량을 보유하고 있는 것으로 평가되나 , 최근 크로\\n아티아 , 이탈리아 등 회원국이 중국 업체와 풍력 터빈 제작을 계약하는 등 중국 업체에 대한 의존\\n도가 확대되고 있는 상황\\n전망· 업계는 풍력 터빈의 경우 기술 혁신 보다는 제조 역량 확대가 핵심이며 , 2030 년 목표 달성은',\n",
       "  '합의가\\x00필요한\\x00규정\\x00자체\\x00수정\\x00절차\\x00선호\\n1)\\x0020개의\\x00EU\\x00GOVSATCOM,\\x00우주,\\x00연합안보연결,\\x00호라이즌\\x002020,\\x00호라이즌\\x00유럽,\\x00유라톰,\\x00운송,\\x00네트워크,\\x00통신,\\x00연결,\\x00디지털,\\x00방산개\\n발·연구·금융·공공조달,\\x00화공,\\x00보건,\\x00EU\\x00공동관심\\x00프로젝트\\x00및\\x00프로그램\\n2)\\x00첨단반도체,\\x00AI,\\x00양자기술,\\x00생명공학,\\x00연결·디지털,\\x00첨단감지/센싱,\\x00우주,\\x00에너지,\\x00로보틱스,\\x00첨단소재,\\x00핵심의약품,\\x00금융시스템\\x00등\\nkba-europe.com, eu.kita.net\\n브뤼셀지부\\x00(kba@kba-europe.com)｢EU\\x00경제안보전략\\x00 이니셔티브 ｣ 입법\\x00현황\\n2024.06.05',\n",
       "  '- 원자력은 전략 탄소중립기술에는 제외되었으나 , 탄소중립기술에는 조건부로 , 즉 “연료 주기 , 소형 모\\n듈식 원자로 및 관련 최고등급연료에서 발생된 폐기물을 최소화하면서 핵공정에서 에너지를 생산하는 \\n첨단기술 ’(advanced technologies to produce energy from nuclear processes with \\nminimal waste from the fuel cycle, small modular reactors, and related best-in-class \\nfuels) 이 포함\\n1) EU Commission, Communication: A Green Deal Industrial Plan for the Net-Zero Age, 2023.2.1.\\n2) EU Commission, Annexes to the proposal for a Regulation of the European Parliament and of the Council \\non establishing a framework of measures for strengthening Europe’s net-zero technology products \\nmanufacturing ecosystem',\n",
       "  '- 3 -\\n6소비자 인센티브 지급 및 숙련인력 육성\\n ㅇ 회원국 , 지역 , 공공법에 적용받는 기관은 탄소중립기술 최종제품의 구매 촉진 지원책을 도입할 수 있고 \\n인센티브는 탄소중립 최종제품 소비자가격의 5%를 초과할 수 없음\\n ㅇ 유럽탄소중립산업 아카데미 (European Net-Zero Industry Academy) 를 설립 , 탄소중립기술 개발 , 생산 , \\n운영 , 재활용 등과 관련된 교육 훈련 프로그램 개발 및 운영 , 자격증 등을 설계\\n7탄소중립플랫폼 (Net-Zero Europe Platform) 설립\\n ㅇ 탄소중립 기술분야 투자 , 제조목표 달성을 위한 회원국의 프로젝트 조정 , 국가간 소통 증진 , 제3국과의 \\n파트너쉽 구축 , 기술인력 양성 등의 전반적 모니터링과 리포팅을 위한 플랫폼 도입\\n8 탄소중립 규제샌드박스 (Net-Zero Regulatory Sandbox)\\n ㅇ EU 회원국 또는 복수 회원국 간 탄소중립 규제샌드박스를 도입 , 규제당국의 감독하에 혁신 기술 및 상\\n품의 시장 출시 전 기술 개발을 지원하고 , 특히 중소기업에 대해 우선권 부여\\n3. 평가 및 시사점\\n ㅇ 미국 IRA와 달리 공공조달 내 ‘지속가능성 및 회복력 기여 ’평가 항목의 역외산에 대한 차별적인 조항이\\n나 현지 조달 의무화 조건은 포함되지 않음\\n  - ‘단일 국가에 대한 EU의 의존도 65%’ 기준에 해당되는 국가는 중국 , 터키 등 일부 국가에 한정될 것\\n으로 보여 영향은 제한적\\n  - 다만 , 가격 차이가 10% 이상 나는 경우 , ‘지속가능성 및 회복력 기여 ’ 평가 기준의 예외를 받을 수 \\n있어 , 실질적으로 중국 저가 상품과의 가격 격차를 쉽게 극복하기는 어려울 전망\\n ㅇ 또한 소비자 인센티브 부분 역시 8가지 탄소중립기술 최종상품에 제한되며 , 역외산 차별적인 조항은 포\\n함되지 않음\\n ㅇ 탄소중립 전략 프로젝트에 포함된 CO 2 주입 목표 (2030 까지 5천만 톤) 설정으로 , 석유 및 천연가스 생\\n산기업에 대한 책임이 강화',\n",
       "  '6장. 혁신26조 탄소중립 규제샌드 박스\\n27조 중소기업을 위한 조치\\n7장. 거버넌스28조 탄소중립 유럽 플랫폼 설립 및 과업\\n29조 탄소중립 유럽 플랫폼 구조 및 기능\\n30조 국가 에너지 ·기후계획과의 조율\\n8장 모니터링 31조 모니터링\\n9장 최종조항32조 권한 위임\\n33조 위임권 행사\\n34조 위원회 절차\\n35조 평가\\n36조 기밀정보 처리\\n37조 Regulation (EU) 2018/1724(Single Digital Gateway) 개정\\n38조 발효 및 시행',\n",
       "  '장애\\n요소· 현재 EU 역내 수요를 충당할 풍력 터빈 제조 역량을 보유하고 있는 것으로 평가되나 , 최근 크로\\n아티아 , 이탈리아 등 회원국이 중국 업체와 풍력 터빈 제작을 계약하는 등 중국 업체에 대한 의존\\n도가 확대되고 있는 상황\\n전망· 업계는 풍력 터빈의 경우 기술 혁신 보다는 제조 역량 확대가 핵심이며 , 2030 년 목표 달성은 \\n충분히 가능하지만 유럽투자은행 (EIB) 및 혁신기금 (Innovation Fund) 을 통한 재정적 지원이 \\n불가결하다고 평가\\n히트\\n펌프목표 · 2030 년까지 연간 31GW 의 히트펌프 제조 역량 확보가 목표\\n현황· 현재 EU 역내 생산 역량은 약 22GW 으로 이는 EU 전체 수요의 60% 차지\\n· 對중국 수입 의존도 약 30%\\n장애\\n요소· 히트펌프 생산을 위한 숙련 기술자 확보\\n· 향후 규제가 도입될 F-gases 의 지속적인 사용 가능성 여부\\n전망· 최근 급증하고 있는 히트펌프 수요 충족을 위해 업계가 제조 역량을 확대중이며 제시된 목표는 \\n업계의 전망치보다 50% 정도 낮아 목표 달성이 가능할 것으로 전망\\n전기\\n분해\\n장치목표 · 2030 년까지 수소생산을 위한 전기분해 역량 100GW 수준으로 확대\\n현황· 현재 EU 역내 전기분해 역량은 170 메가와트 수준에 불과하며 , 현재 EU의 제조 역량은 전체 \\n수요의 25%, 중국 의존도는 55% 수준\\n장애\\n요소\\n및\\n전망· 업계는 복잡한 허가절차 , 역내 가치사슬 미비 , 숙련 기술자 , 핵심원자재 부족 및 복잡한 자금조\\n달 접근성 등의 개선 없이 2030 년까지 100GW 전기분해 역량 확보는 쉽지 않을 것으로 평가',\n",
       "  '한다 .\\n  이를 위해 EU는 8개의 탄소중립 전략기술 (태양광 발전 및 태양열 , 육상 및 해상 풍력발전 , 배터리 및 \\n저장 , 히트펌프 및 지열에너지 , 전해조 및 수소연료전지 , 지속가능 바이오가스 및 바이오메탄 , 탄소 포집 \\n저장 (CCUS), 그리드 )을 지정했으며 역내 제조 역량 향상에 기여할 수 있다고 판단되면 ‘탄소중립 전\\n략 프로젝트 ’로 선정하여 관련 행정 및 허가 기간 등을 혁신적으로 단축할 계획이다 . 또한 공공조달\\n시 평가항목에 지속가능성 및 회복력 기여도를 포함하여 EU의 환경 , 노동기준 , 공급망 다각화 노력을 \\n준수하는 사업자에 유리한 입찰환경을 조성한다는 입장이다 .\\n  EU의 역내 탄소중립 산업 관련 공급망 기업을 육성하기 위한 노력이 강화될 것으로 예상되므로 관\\n련 우리 기업은 동 법안을 예의주시하여 EU 진출의 기회를 모색하고 , 우리 정부도 탄소중립 산업 육\\n성을 위한 정책을 재정비할 필요가 있다 .',\n",
       "  '한다 .\\n  이를 위해 EU는 8개의 탄소중립 전략기술 (태양광 발전 및 태양열 , 육상 및 해상 풍력발전 , 배터리 및 \\n저장 , 히트펌프 및 지열에너지 , 전해조 및 수소연료전지 , 지속가능 바이오가스 및 바이오메탄 , 탄소 포집 \\n저장 (CCUS), 그리드 )을 지정했으며 역내 제조 역량 향상에 기여할 수 있다고 판단되면 ‘탄소중립 전\\n략 프로젝트 ’로 선정하여 관련 행정 및 허가 기간 등을 혁신적으로 단축할 계획이다 . 또한 공공조달\\n시 평가항목에 지속가능성 및 회복력 기여도를 포함하여 EU의 환경 , 노동기준 , 공급망 다각화 노력을 \\n준수하는 사업자에 유리한 입찰환경을 조성한다는 입장이다 .\\n  EU의 역내 탄소중립 산업 관련 공급망 기업을 육성하기 위한 노력이 강화될 것으로 예상되므로 관\\n련 우리 기업은 동 법안을 예의주시하여 EU 진출의 기회를 모색하고 , 우리 정부도 탄소중립 산업 육\\n성을 위한 정책을 재정비할 필요가 있다 .',\n",
       "  '1. 도입 배경\\n2021.12.8, EU집행위는 제3국의 경제적 위협 으로부터 유럽연합 (EU) 및 회원국을 보호하기 위해 통상위협대응 규정 (안)을 \\n발표했습니다 . EU집행위는 EU가 제3국의 경제적 위협에 신속히 대응하고 필요시 최후의 수단으로 대응조치\\n(countermeasure) 를 취하여 EU와 회원국의 경제적 이익을 보호 하기 위해 본 규정 (안)을 준비했습니다 . (제1조) \\n본 규정 (안)은 지정학적 긴장이 고조되며 , 통상이 점점 더 무기화되어 가고 있는 시점에 EU가 통상 정책을 강화하고 , 제3국의 \\n경제적 위협에 효과적으로 대응하기 위한 해결방안으로 제시한 것입니다 . 2018.3 미국이 철강 232 조 관세를 부과함에 따라 \\nEU는 직접적인 피해를 입었습니다 . 또한 , 2019. 12 세계무역기구 TO) 상소기구가 마비되어 WTO 분쟁해결의 효율성이 약 없\\n게 되어 , EU는 경제적 위협에 더욱 취약해졌습니다 .\\n본 규정 (안)의 도입은 2019.12 집행위가 통상권한집행 규정 (Trade Enforcement Regulation) 을 개정하기 위한 입법안을 \\n제시한 후 처음 논의가 되었습니다 . 당시 유럽의회는 경제적 위협에 대한 우려를 제기했지만 , 개정된 통상권한집행 규정은 EU가 \\n경제적 위협에 대응할 수 있는 방법을 규정하지 않았습니다 . 그 후속조치로 집행위 , 의회 , 이사회는 2021 년 말 까지 집행위가 경\\n제적 위협에 대응하기 위한 별도의 입법안을 마련하겠다는 것을 명시한 공동 선언문을 채택했습니다 .\\n그 결과 이번에 발표된 통상위협대응 규정 (안)은 제3국의 경제적 위협에 대응하기 위해 EU가 취할 조치를 2단계로 명시하고 있\\n습니다 . 첫째 , 집행위는 제3국의 경제적 위협을 분석하여 , 그 위협의 유무를 공식적으로 결정한 후, 경제적 위협이 중단될 수 있\\n도록 제3국과 협의를 합니다 . 둘째 , 제3국과의 협의가 경제적 위협을 중단하는 결과를 가져오지 못할 경우 , 최후의 수단으로 EU',\n",
       "  '- 6 -                                      *참고:Politico, ‘A reality check on the EU’s green industry ambitions’배터리목표 · 2030 년까지 역내 전기차 배터리 수요의 90% 에 해당하는 550GWh 배터리 제조 역량 확보\\n현황· 현재 EU 역내 배터리 제조역량은 77GWh 수준으로 중국 등 아시아 경쟁상대에 비해 매우 낮은 \\n수준으로 평가\\n전망· 업계는 목표 달성이 대체로 가능한 수준으로 평가하지만 , 이를 위해 회복력 있는 공급망 , 저렴\\n한 에너지 가격 및 숙련 기술자 등 전체 배터리 가치사슬의 리쇼어링이 필요\\n· 리튬 및 망간 등 핵심원자재의 공급 확보가 필수',\n",
       "  '장애\\n요소· 현재 EU 역내 수요를 충당할 풍력 터빈 제조 역량을 보유하고 있는 것으로 평가되나 , 최근 크로\\n아티아 , 이탈리아 등 회원국이 중국 업체와 풍력 터빈 제작을 계약하는 등 중국 업체에 대한 의존\\n도가 확대되고 있는 상황\\n전망· 업계는 풍력 터빈의 경우 기술 혁신 보다는 제조 역량 확대가 핵심이며 , 2030 년 목표 달성은 \\n충분히 가능하지만 유럽투자은행 (EIB) 및 혁신기금 (Innovation Fund) 을 통한 재정적 지원이 \\n불가결하다고 평가\\n히트\\n펌프목표 · 2030 년까지 연간 31GW 의 히트펌프 제조 역량 확보가 목표\\n현황· 현재 EU 역내 생산 역량은 약 22GW 으로 이는 EU 전체 수요의 60% 차지\\n· 對중국 수입 의존도 약 30%\\n장애\\n요소· 히트펌프 생산을 위한 숙련 기술자 확보\\n· 향후 규제가 도입될 F-gases 의 지속적인 사용 가능성 여부\\n전망· 최근 급증하고 있는 히트펌프 수요 충족을 위해 업계가 제조 역량을 확대중이며 제시된 목표는 \\n업계의 전망치보다 50% 정도 낮아 목표 달성이 가능할 것으로 전망\\n전기\\n분해\\n장치목표 · 2030 년까지 수소생산을 위한 전기분해 역량 100GW 수준으로 확대\\n현황· 현재 EU 역내 전기분해 역량은 170 메가와트 수준에 불과하며 , 현재 EU의 제조 역량은 전체 \\n수요의 25%, 중국 의존도는 55% 수준\\n장애\\n요소\\n및\\n전망· 업계는 복잡한 허가절차 , 역내 가치사슬 미비 , 숙련 기술자 , 핵심원자재 부족 및 복잡한 자금조\\n달 접근성 등의 개선 없이 2030 년까지 100GW 전기분해 역량 확보는 쉽지 않을 것으로 평가',\n",
       "  '* 참고 : <탄소중립산업법 조항 개요>\\n*참고:한국무역협회 , ‘EU 탄소중립산업법 주요 내용과 시사점 ’\\n한국무역협회 브뤼셀지부 \\n/ KBA Europe 사무국Avenue Louise 66, 1050 Brussels, Belgium\\nTel   +32 2 639 0990  / Homepage   kba-europe.com  \\n Email   kba@kba-europe.com\\n   * EU Trade Brief 및 KBA 뉴스레터 구독 문의는 kba@kba-europe.com 으로 메일 주시기 바랍니다 .구분 항목\\n1장. 주제, 범위, 정의1조 주제\\n2조 범위\\n3조 정의\\n1절. 간소화 및 허가 과정\\n2장. 탄소중립 기술 \\n제조를 위한 여건 \\n마련4조 행정창구 일원화\\n5조 온라인 정보접근\\n6조 허가 절차 기간\\n7조 환경영향평가와 허가\\n8조 계획\\n9조 UNECE( 유엔-유럽 경제위원회 ) 협약에의 적용가능성\\n2절. 탄소중립 전략 프로젝트\\n10조 선택기준\\n11조 적용과 승인\\n12조 탄소중립 전략 프로젝트 우선 순위\\n13조 탄소중립 전략 프로젝트에 대한 허가 절차 기간 \\n14조 시행 촉진\\n15조 자금조달\\n3장. 탄소추출 역량16조 탄소추출 역량 목표\\n17조 탄소 저장역량데이터 투명성\\n18조 석유 및 가스생산자의 기여\\n19조 공공 조달 절차의 지속 가능성 및 탄력성 기여\\n4장. 시장접근20조 재생에너지 배치 관련 경매 지침\\n21조 공공개입 형태\\n22조 시장 이니셔티브에 대한 접근 조정\\n5장. 숙련인력\\n접근성23조 유럽 탄소중립산업 아카데미\\n24조 공공조달절차에서의 탄소중립 기여도 평가\\n25조 탄소중립 유럽플랫폼과 기술\\n6장. 혁신26조 탄소중립 규제샌드 박스\\n27조 중소기업을 위한 조치\\n7장. 거버넌스28조 탄소중립 유럽 플랫폼 설립 및 과업\\n29조 탄소중립 유럽 플랫폼 구조 및 기능\\n30조 국가 에너지 ·기후계획과의 조율\\n8장 모니터링 31조 모니터링\\n9장 최종조항32조 권한 위임\\n33조 위임권 행사\\n34조 위원회 절차\\n35조 평가\\n36조 기밀정보 처리',\n",
       "  '- 5 -[EU 탄소중립산업 주요 기술의 2030 제조역량 목표 , 현황 , 장애요소 및 전망 ]\\n산업  항목 내 용\\n태양광\\n패널목표 · 2030 년까지 EU 역내 태양광 패널 제조 역량 30기가와트 (GW) 달성\\n현황· 현재 EU 역내 폴리실리콘 제조 역량은 23GW, 잉곳 및 웨이퍼 2GW, 태양 전지 1GW, 태양\\n전지 모듈 9GW 수준\\n· EU 기업들은 2030 년까지 30GW 의 웨이퍼 및 60GW 모듈 어셈블리 능력 확보를 위해 관련 \\n제조 역량을 확대중\\n· 폴리실리콘의 경우 , 작년 노르웨이 폴리실리콘 제조업체가 조업을 중단하는 등 오히려 제조 역량이 \\n감소하고 있는 상황\\n장애\\n요소· 고순도 폴리실리콘 , 잉곳 가공 및 웨이퍼 제작 , 태양전지 모듈 어셈블리 및 인버터 , 그리드 연\\n계 등의 對중국 의존도가 매우 높음 (특히 , 잉곳 및 웨이퍼의 경우 EU 전체 수요의 90% 를 중\\n국에 의존 )\\n· 중국 제품과의 가격경쟁 , 美 인플레이션 감축법 (IRA) 에 따른 관련 투자 유출 우려 등이 장애요\\n소로 지적\\n전망· 태양광 관련 모든 단계의 가치사슬이 EU 역내에 존재하나 , 2030 년 목표 달성을 위해서는 단\\n계별 제조 역량 확대를 위한 프레임워크 및 지원이 필요하다는 분석 \\n풍력\\n터빈목표 · 2030 년까지 EU 역내 연간 36GW 의 풍력터빈 제조 역량 확보\\n현황· 현재 EU 풍력터빈 제조 약량은 연간 20~25GW 수준 . 2022 년 EU 역내 16GW 의 풍력 발전 \\n역량이 확대되었으며 , 99% 의 터빈이 EU 역내에서 제작됨 . 다만 , 이는 동 법이 제시한 목표의 \\n절반에 그치는 수준\\n장애\\n요소· 현재 EU 역내 수요를 충당할 풍력 터빈 제조 역량을 보유하고 있는 것으로 평가되나 , 최근 크로\\n아티아 , 이탈리아 등 회원국이 중국 업체와 풍력 터빈 제작을 계약하는 등 중국 업체에 대한 의존\\n도가 확대되고 있는 상황\\n전망· 업계는 풍력 터빈의 경우 기술 혁신 보다는 제조 역량 확대가 핵심이며 , 2030 년 목표 달성은',\n",
       "  \"4) EU Commission, state_aid_legislation_GBER_amendment_2023_EC_communication, 2023.3.9.\\n5) EU Commission, Investment needs assessment and funding availabilities to strengthen EU's Net-Zero \\ntechnology manufacturing capacity, 2023.3.23.\",\n",
       "  '6장. 혁신26조 탄소중립 규제샌드 박스\\n27조 중소기업을 위한 조치\\n7장. 거버넌스28조 탄소중립 유럽 플랫폼 설립 및 과업\\n29조 탄소중립 유럽 플랫폼 구조 및 기능\\n30조 국가 에너지 ·기후계획과의 조율\\n8장 모니터링 31조 모니터링\\n9장 최종조항32조 권한 위임\\n33조 위임권 행사\\n34조 위원회 절차\\n35조 평가\\n36조 기밀정보 처리\\n37조 Regulation (EU) 2018/1724(Single Digital Gateway) 개정\\n38조 발효 및 시행',\n",
       "  '- 5 -[EU 탄소중립산업 주요 기술의 2030 제조역량 목표 , 현황 , 장애요소 및 전망 ]\\n산업  항목 내 용\\n태양광\\n패널목표 · 2030 년까지 EU 역내 태양광 패널 제조 역량 30기가와트 (GW) 달성\\n현황· 현재 EU 역내 폴리실리콘 제조 역량은 23GW, 잉곳 및 웨이퍼 2GW, 태양 전지 1GW, 태양\\n전지 모듈 9GW 수준\\n· EU 기업들은 2030 년까지 30GW 의 웨이퍼 및 60GW 모듈 어셈블리 능력 확보를 위해 관련 \\n제조 역량을 확대중\\n· 폴리실리콘의 경우 , 작년 노르웨이 폴리실리콘 제조업체가 조업을 중단하는 등 오히려 제조 역량이 \\n감소하고 있는 상황\\n장애\\n요소· 고순도 폴리실리콘 , 잉곳 가공 및 웨이퍼 제작 , 태양전지 모듈 어셈블리 및 인버터 , 그리드 연\\n계 등의 對중국 의존도가 매우 높음 (특히 , 잉곳 및 웨이퍼의 경우 EU 전체 수요의 90% 를 중\\n국에 의존 )\\n· 중국 제품과의 가격경쟁 , 美 인플레이션 감축법 (IRA) 에 따른 관련 투자 유출 우려 등이 장애요\\n소로 지적\\n전망· 태양광 관련 모든 단계의 가치사슬이 EU 역내에 존재하나 , 2030 년 목표 달성을 위해서는 단\\n계별 제조 역량 확대를 위한 프레임워크 및 지원이 필요하다는 분석 \\n풍력\\n터빈목표 · 2030 년까지 EU 역내 연간 36GW 의 풍력터빈 제조 역량 확보\\n현황· 현재 EU 풍력터빈 제조 약량은 연간 20~25GW 수준 . 2022 년 EU 역내 16GW 의 풍력 발전 \\n역량이 확대되었으며 , 99% 의 터빈이 EU 역내에서 제작됨 . 다만 , 이는 동 법이 제시한 목표의 \\n절반에 그치는 수준\\n장애\\n요소· 현재 EU 역내 수요를 충당할 풍력 터빈 제조 역량을 보유하고 있는 것으로 평가되나 , 최근 크로\\n아티아 , 이탈리아 등 회원국이 중국 업체와 풍력 터빈 제작을 계약하는 등 중국 업체에 대한 의존\\n도가 확대되고 있는 상황\\n전망· 업계는 풍력 터빈의 경우 기술 혁신 보다는 제조 역량 확대가 핵심이며 , 2030 년 목표 달성은',\n",
       "  '- 2 -\\n3 탄소중립 전략 프로젝트 (Net-zero Strategic Project)\\n \\n ㅇ 8개 핵심 탄소중립기술의 역내 제조역량 및 EU 에너지시스템 회복력 강화에 기여하는 프로젝트와 역\\n내 소재 CO 2 저장 프로젝트*를 `탄소중립 전략 프로젝트 (Net-zero Strategic Project)’ 로 선정\\n     * EU는 2030 년까지 역내 , 배타적경제구역 및 UN해양법협약 (UNCLOS) 상의 대륙붕에 위치한 저장소에서 연간 5천만 톤의 \\nCO2 포집 ·저장 역량 확보 목표를 설정\\n       \\n   - 특히 CO 2 저장 프로젝트의 경우 , 각 회원국은 잠재 CO 2 저장소 , CO 2 포집 프로젝트 현황 등 데이터\\n를 수집 , 집행위에 보고해야 하며 , \\n   - 천연가스 및 원유 채굴권을 가진 기업들에는 이산화탄소 주입 ·저장 가능 목표량 설정 , 세부 목표달성 \\n계획 (CO 2 포집 프로젝트 개발 등) 등의 제출 의무를 부여\\n ㅇ 전략 프로젝트는 부지건설 , 설계 및 인프라 조성 같은 허가가 최우선적으로 이루어져야 하며 행정처리 , \\n민원 등을 지원\\n4규제완화\\n ㅇ (One Stop Shop)  법안 발효 3개월 이내 회원국은 탄소중립기술제조 및 전략 프로젝트 허가를 담당\\n할 1개 기관을 선정 , 동 기관이 단일창구 역할 수행\\n ㅇ (허가기간 단축 ) 신규 탄소중립 전략 프로젝트 및 기타 프로젝트에 대한 허가 기간을 최대 18개월 , 기\\n존 제조시설을 확장할 시에는 신규 허가 기간의 절반으로 단축\\n    * 연간 제조역량을 GW로 표시할 수 없는 경우\\n5공공조달\\n ㅇ 공공조달 , 재생에너지 생산 및 소비진작을 위한 입찰 진행시 가격 , 성능 외에 지속가능성 및 회복력 기\\n여도 (sustainability and resilience contribution)*를 평가항목에 포함\\n   * (a) 적용되는 법안에서 요구하는 환경 지속가능성 최소 기준 충족',\n",
       "  \"- 이미 존재하고 있는 Recovery and Resilience Facility, InvestEU 등의 프로그램과 Innovation \\nFund 가 탄소중립기술제조 프로젝트에 활용될 것으로 보임\\n ㅇ EU는 별도 자료 5)를 통해 동법안에서 제시한 목표 달성을 위해 2023 년부터 2030 년까지 약 920 억 유\\n로의 투자가 필요할 것으로 추산\\n   - 현재와 같은 역외국과의 교역현황 가정시 520 억 유로 , 수입의존 배제시 1천 190 억 유로 규모 예상\\n ㅇ 폴란드 , 헝가리 등에 진출 , 제조시설을 운영중인 우리나라 배터리 기업의 경우 , 추가 시설 확장 시에 \\n‘탄소중립 전략 프로젝트 ’ 선정 및 ‘한시적 위기 및 전환 프레임워크 ’에 따른 보조금 혜택을 누릴 수 \\n있을 것으로 보여 상세 모니터링 필요\\n  - 다만 , EU의 총 수요 중 65% 이상을 중국에 의존하는 탄소중립기술의 사용 여부 등에 대해 향후 철저\\n한 관리가 필요\\n o  동 법안에서 제시한 주요 기술의 2030 제조역량 목표 및 현황 분석시 , 히트펌프를 제외하고는 목표달\\n성에 상당한 어려움이 예상되며 , 이번에 발표된 보조금 개편안과 탄소중립산업법이 목표 달성에 확실한 \\n지원책이 되기에는 미흡한 것으로 평가\\n3) EU Commission, Communication from the Commission Temporary Crisis Framework for State Aid \\nmeasures to support the economy following the aggression against Ukraine by Russia, 2023.3.9.\\n4) EU Commission, state_aid_legislation_GBER_amendment_2023_EC_communication, 2023.3.9.\\n5) EU Commission, Investment needs assessment and funding availabilities to strengthen EU's Net-Zero\",\n",
       "  '■\\x00(이사회\\x00입장\\x00주요\\x00내용)\\x00이사회는\\x00아래와\\x00같이\\x00입장을\\x00채택(5/30)3)\\n\\x00\\x00\\x00\\x00❶\\x00수출통제\\x00대상\\x00수정\\n\\x00\\x00\\x00\\x00-\\x00EU는\\x00현재\\x00‘EU\\x00이중용도*\\x00기술\\x00수출통제4)’를\\x00시행\\x00중이며,\\x00부록1에서\\x00이중용도\\x00사용\\x00품목을\\x00\\n통해\\x00적용대상을\\x00규정\\n \\x00\\x00\\x00\\x00\\x00\\x00\\x00*\\x00민간\\x00및\\x00군사\\x00용도로\\x00모두\\x00사용할\\x00수\\x00있는\\x00상품,\\x00소프트웨어\\x00및\\x00기술\\n3)\\x00Council\\x00of\\x00the\\x00European\\x00Union,\\x00Council\\x00Conclusions\\x00on\\x00the\\x00White\\x00Paper\\x00on\\x00Export\\x00Controls,\\x002024.5.30.\\n4)\\x00Official\\x00Journal,\\x00REGULATION\\x00setting\\x00up\\x00a\\x00Union\\x00regime\\x00for\\x00the\\x00control\\x00of\\x00exports,\\x00brokering,\\x00technical\\x00assistance,\\x00\\ntransit\\x00and\\x00transfer\\x00of\\x00dual-use\\x00items,\\x002021.6.11.',\n",
       "  '1◆ EU\\x00경제안보전략\\x00 이니셔티브\\n▶\\x00EU\\x00집행위는\\x00역내\\x00핵심\\x00산업에\\x00대한\\x00공급망\\x00회복,\\x00첨단\\x00기술\\x00확보\\x00및\\x00이중\\x00용도\\x00기술\\x00보호를\\x00위한\\x00\\n경제안보전략\\x00이니셔티브*를\\x00발표(`24.1)\\n\\x00\\x00\\x00\\x00\\x00*\\x00세부내용은\\x00EU\\x00통상정보\\x00‘EU\\x00경제안보전략\\x00이니셔티브’\\x00참고\\n▶\\x005가지\\x00이니셔티브(①FDI\\x00심사\\x00제도\\x00개정/②해외투자\\x00백서/③수출통제\\x00백서/④잠재적\\x00이중용도\\x00\\n기술\\x00R&D\\x00지원\\x00강화\\x00백서/⑤연구보안\\x00강화)\\x00관련\\x00기존\\x00규정\\x00강화와\\x00새로운\\x00규정\\x00도입\\x00목표\\n\\uf000 FDI 심사 제도 \\n■\\x00(개요)\\x00모든\\x00회원국의\\x00FDI\\x00심사\\x00제도\\x00의무화를\\x00위해\\x00통일된\\x00심사\\x00최소\\x00요건과\\x00심사\\x00대상을\\x00\\n규정하고\\x00회원국\\x00간\\x00심사\\x00정보\\x00및\\x00의견\\x00공유\\x00시스템을\\x00구축\\x00\\n■\\x00(진행\\x00상황)\\x00회원국\\x00간\\x00현재\\x00제3,\\x004조(Art)에\\x00대해\\x00검토\\x00중으로\\x00논의\\x00진행\\x00속도가\\x00느린\\x00편.\\x00회의당\\x00\\n2개\\x00조항에\\x00대해\\x00논의가\\x00가능하고,\\x006월\\x00중\\x002개의\\x00회의가\\x00예정되어\\x00있어\\x00벨기에\\x00의장국\\x00임기\\x00내\\x00\\n이사회\\x00입장\\x00확정은\\x00어려울\\x00것으로\\x00전망\\n■\\x00(입법\\x00일정)\\x00수석\\x00보고관(leading\\x00rapporteur)\\x00임명은\\x0011월\\x00경으로\\x00예상.\\x003자\\x00협의가\\x00`25년\\x00안에\\x00\\n성사되고\\x00당해\\x00안에\\x00최종\\x00합의\\x00도달\\x00시,\\x0015개월의\\x00전환\\x00기간\\x00후\\x00`27년\\x00시행\\x00예상\\n■\\x00(주요\\x00논점)\\x00필수\\x00심사\\x00대상\\x00변경시\\x00필요\\x00절차에\\x00대해\\x00논의\\n\\x00\\x00\\x00\\x00-\\x00필수\\x00심사\\x00대상은\\x00부록1(EU\\x00공동관심\\x00프로그램/프로젝트1))과\\x00부록2(경제안보에\\x00영향을\\x00미치는\\x00핵심\\x00\\n기술2))에서\\x00규정\\n\\x00\\x00\\x00\\x00-\\x00심사\\x00대상\\x00변경시,\\x00집행위\\x00단독으로\\x00작성·수정이\\x00가능한\\x00위임법보다\\x00집행위,\\x00의회,\\x00이사회의\\x00\\n합의가\\x00필요한\\x00규정\\x00자체\\x00수정\\x00절차\\x00선호\\n1)\\x0020개의\\x00EU\\x00GOVSATCOM,\\x00우주,\\x00연합안보연결,\\x00호라이즌\\x002020,\\x00호라이즌\\x00유럽,\\x00유라톰,\\x00운송,\\x00네트워크,\\x00통신,\\x00연결,\\x00디지털,\\x00방산개\\n발·연구·금융·공공조달,\\x00화공,\\x00보건,\\x00EU\\x00공동관심\\x00프로젝트\\x00및\\x00프로그램',\n",
       "  '- 6 -                                      *참고:Politico, ‘A reality check on the EU’s green industry ambitions’배터리목표 · 2030 년까지 역내 전기차 배터리 수요의 90% 에 해당하는 550GWh 배터리 제조 역량 확보\\n현황· 현재 EU 역내 배터리 제조역량은 77GWh 수준으로 중국 등 아시아 경쟁상대에 비해 매우 낮은 \\n수준으로 평가\\n전망· 업계는 목표 달성이 대체로 가능한 수준으로 평가하지만 , 이를 위해 회복력 있는 공급망 , 저렴\\n한 에너지 가격 및 숙련 기술자 등 전체 배터리 가치사슬의 리쇼어링이 필요\\n· 리튬 및 망간 등 핵심원자재의 공급 확보가 필수',\n",
       "  '* 참고 : <탄소중립산업법 조항 개요>\\n*참고:한국무역협회 , ‘EU 탄소중립산업법 주요 내용과 시사점 ’\\n한국무역협회 브뤼셀지부 \\n/ KBA Europe 사무국Avenue Louise 66, 1050 Brussels, Belgium\\nTel   +32 2 639 0990  / Homepage   kba-europe.com  \\n Email   kba@kba-europe.com\\n   * EU Trade Brief 및 KBA 뉴스레터 구독 문의는 kba@kba-europe.com 으로 메일 주시기 바랍니다 .구분 항목\\n1장. 주제, 범위, 정의1조 주제\\n2조 범위\\n3조 정의\\n1절. 간소화 및 허가 과정\\n2장. 탄소중립 기술 \\n제조를 위한 여건 \\n마련4조 행정창구 일원화\\n5조 온라인 정보접근\\n6조 허가 절차 기간\\n7조 환경영향평가와 허가\\n8조 계획\\n9조 UNECE( 유엔-유럽 경제위원회 ) 협약에의 적용가능성\\n2절. 탄소중립 전략 프로젝트\\n10조 선택기준\\n11조 적용과 승인\\n12조 탄소중립 전략 프로젝트 우선 순위\\n13조 탄소중립 전략 프로젝트에 대한 허가 절차 기간 \\n14조 시행 촉진\\n15조 자금조달\\n3장. 탄소추출 역량16조 탄소추출 역량 목표\\n17조 탄소 저장역량데이터 투명성\\n18조 석유 및 가스생산자의 기여\\n19조 공공 조달 절차의 지속 가능성 및 탄력성 기여\\n4장. 시장접근20조 재생에너지 배치 관련 경매 지침\\n21조 공공개입 형태\\n22조 시장 이니셔티브에 대한 접근 조정\\n5장. 숙련인력\\n접근성23조 유럽 탄소중립산업 아카데미\\n24조 공공조달절차에서의 탄소중립 기여도 평가\\n25조 탄소중립 유럽플랫폼과 기술\\n6장. 혁신26조 탄소중립 규제샌드 박스\\n27조 중소기업을 위한 조치\\n7장. 거버넌스28조 탄소중립 유럽 플랫폼 설립 및 과업\\n29조 탄소중립 유럽 플랫폼 구조 및 기능\\n30조 국가 에너지 ·기후계획과의 조율\\n8장 모니터링 31조 모니터링\\n9장 최종조항32조 권한 위임\\n33조 위임권 행사\\n34조 위원회 절차\\n35조 평가\\n36조 기밀정보 처리',\n",
       "  '습니다 . 첫째 , 집행위는 제3국의 경제적 위협을 분석하여 , 그 위협의 유무를 공식적으로 결정한 후, 경제적 위협이 중단될 수 있\\n도록 제3국과 협의를 합니다 . 둘째 , 제3국과의 협의가 경제적 위협을 중단하는 결과를 가져오지 못할 경우 , 최후의 수단으로 EU \\n자체의 대응조치를 취하게 됩니다 .\\n2. 핵심 \\n(1)제3국의 경제적 위협에 대한 정의 (제2조)\\n본 규정 (안)은 EU 또는 회원국의 특정 행위의 중단 , 수정 또는 채택에 부당한 영향력을 행사할 목적으로 EU 또는 회원국의 \\n합법적인 주권 행사를 방해하여 , 통상 또는 투자에 영향을 미치는 조치를 적용하거나 적용하겠다고 위협할 경우 적용됩니다 .\\n본 규정은 경제적 위협을 포괄적으로 정의하여 , 집행위가 본 규정을 최대한 활용하여 EU의 통상과 투자를 제한하는 다양한 \\n유형의 위협에 대응할 수 있도록 하였습니다 . \\n예를 들어 , 경제적 위협은 다음과 같은 형태를 취할 수 있습니다 : ① 차별적인 수입 관세 , ② 사업 수행에 필요한 승인의 의도적인 \\n한국무역협회 브뤼셀지부  eireenkang@kita.net 2023.3.24.\\nEU 탄소중립산업법 주요 내용\\n  EU 집행위는 16일(목, 현지시간 ) 탄소중립산업 관련 제조 역량을 강화하고 관련 산업의 역외 유출\\n을 방지하기 위한 탄소중립 산업법 (Net-Zero Industry Act, NZIA) 초안을 발표하였다 . 동 법안은 \\n2030 년까지 전략 탄소중립 산업 제조 역량을 EU 연간 수요의 40% 수준까지 확대하는 것을 목표로 \\n한다 .\\n  이를 위해 EU는 8개의 탄소중립 전략기술 (태양광 발전 및 태양열 , 육상 및 해상 풍력발전 , 배터리 및 \\n저장 , 히트펌프 및 지열에너지 , 전해조 및 수소연료전지 , 지속가능 바이오가스 및 바이오메탄 , 탄소 포집 \\n저장 (CCUS), 그리드 )을 지정했으며 역내 제조 역량 향상에 기여할 수 있다고 판단되면 ‘탄소중립 전',\n",
       "  '- 6 -                                      *참고:Politico, ‘A reality check on the EU’s green industry ambitions’배터리목표 · 2030 년까지 역내 전기차 배터리 수요의 90% 에 해당하는 550GWh 배터리 제조 역량 확보\\n현황· 현재 EU 역내 배터리 제조역량은 77GWh 수준으로 중국 등 아시아 경쟁상대에 비해 매우 낮은 \\n수준으로 평가\\n전망· 업계는 목표 달성이 대체로 가능한 수준으로 평가하지만 , 이를 위해 회복력 있는 공급망 , 저렴\\n한 에너지 가격 및 숙련 기술자 등 전체 배터리 가치사슬의 리쇼어링이 필요\\n· 리튬 및 망간 등 핵심원자재의 공급 확보가 필수',\n",
       "  '* 참고 : <탄소중립산업법 조항 개요>\\n*참고:한국무역협회 , ‘EU 탄소중립산업법 주요 내용과 시사점 ’\\n한국무역협회 브뤼셀지부 \\n/ KBA Europe 사무국Avenue Louise 66, 1050 Brussels, Belgium\\nTel   +32 2 639 0990  / Homepage   kba-europe.com  \\n Email   kba@kba-europe.com\\n   * EU Trade Brief 및 KBA 뉴스레터 구독 문의는 kba@kba-europe.com 으로 메일 주시기 바랍니다 .구분 항목\\n1장. 주제, 범위, 정의1조 주제\\n2조 범위\\n3조 정의\\n1절. 간소화 및 허가 과정\\n2장. 탄소중립 기술 \\n제조를 위한 여건 \\n마련4조 행정창구 일원화\\n5조 온라인 정보접근\\n6조 허가 절차 기간\\n7조 환경영향평가와 허가\\n8조 계획\\n9조 UNECE( 유엔-유럽 경제위원회 ) 협약에의 적용가능성\\n2절. 탄소중립 전략 프로젝트\\n10조 선택기준\\n11조 적용과 승인\\n12조 탄소중립 전략 프로젝트 우선 순위\\n13조 탄소중립 전략 프로젝트에 대한 허가 절차 기간 \\n14조 시행 촉진\\n15조 자금조달\\n3장. 탄소추출 역량16조 탄소추출 역량 목표\\n17조 탄소 저장역량데이터 투명성\\n18조 석유 및 가스생산자의 기여\\n19조 공공 조달 절차의 지속 가능성 및 탄력성 기여\\n4장. 시장접근20조 재생에너지 배치 관련 경매 지침\\n21조 공공개입 형태\\n22조 시장 이니셔티브에 대한 접근 조정\\n5장. 숙련인력\\n접근성23조 유럽 탄소중립산업 아카데미\\n24조 공공조달절차에서의 탄소중립 기여도 평가\\n25조 탄소중립 유럽플랫폼과 기술\\n6장. 혁신26조 탄소중립 규제샌드 박스\\n27조 중소기업을 위한 조치\\n7장. 거버넌스28조 탄소중립 유럽 플랫폼 설립 및 과업\\n29조 탄소중립 유럽 플랫폼 구조 및 기능\\n30조 국가 에너지 ·기후계획과의 조율\\n8장 모니터링 31조 모니터링\\n9장 최종조항32조 권한 위임\\n33조 위임권 행사\\n34조 위원회 절차\\n35조 평가\\n36조 기밀정보 처리',\n",
       "  '한다 .\\n  이를 위해 EU는 8개의 탄소중립 전략기술 (태양광 발전 및 태양열 , 육상 및 해상 풍력발전 , 배터리 및 \\n저장 , 히트펌프 및 지열에너지 , 전해조 및 수소연료전지 , 지속가능 바이오가스 및 바이오메탄 , 탄소 포집 \\n저장 (CCUS), 그리드 )을 지정했으며 역내 제조 역량 향상에 기여할 수 있다고 판단되면 ‘탄소중립 전\\n략 프로젝트 ’로 선정하여 관련 행정 및 허가 기간 등을 혁신적으로 단축할 계획이다 . 또한 공공조달\\n시 평가항목에 지속가능성 및 회복력 기여도를 포함하여 EU의 환경 , 노동기준 , 공급망 다각화 노력을 \\n준수하는 사업자에 유리한 입찰환경을 조성한다는 입장이다 .\\n  EU의 역내 탄소중립 산업 관련 공급망 기업을 육성하기 위한 노력이 강화될 것으로 예상되므로 관\\n련 우리 기업은 동 법안을 예의주시하여 EU 진출의 기회를 모색하고 , 우리 정부도 탄소중립 산업 육\\n성을 위한 정책을 재정비할 필요가 있다 .',\n",
       "  \"- 1 -\\n1. 배경 및 목적\\n \\n ㅇ (배경 ) 지난 2월 EU 집행위원장이 미국 인플레이션 감축법 (IRA) 에 대응을 위해 발표한 ‘그린딜 산업\\n계획 (Green Deal Industry Plan)' 1)의 4가지 중점 추진 계획* 중 하나\\n     * 1)기후중립산업법 , 2)청청기술 생산의 투자 및 자금지원 확대 , 3)기술인력 양성 , 4)공급망 강화를 위한 국제 협력\\n ㅇ (목적 ) 2050 년 탄소중립 달성에 필수적인 탄소중립기술의 제조역량을 강화하고 유럽 에너지시스템의 \\n효율 및 회복력 보호\\n2. 주요내용\\n1목표설정 \\n ㅇ 부속서 2)에 기술된 8가지의 탄소중립 전략기술의 역내 제조역량 확충을 통해 그린딜 및 REPowerEU 에 \\n명시된 기술 및 상품의 연간 보급 수요 중 최소 40% 는 역내에서 생산하도록 유도\\n2대상 기술 및 상품\\n ㅇ ①국제에너지기구 (IEA) 평가 상 Level 8에 해당하는 기술성숙도 (TRL) 에 도달 , ②2030 년까지 온실가\\n스 55% 감축을 위해 필요한 기술 , ③EU 에너지시스템의 회복력과 공급망 안전 관련성을 기준으로 8\\n개의 전략 탄소중립기술 (Strategic Net-Zero technologies) 을 선정\\n   - ❶태양광 발전 및 태양열 기술 , ❷육상 및 해상 풍력발전 기술 , ❸배터리 및 저장기술 , ❹히트펌프 및 지열\\n에너지 기술 , ❺ 전해조 및 수소연료전지 , ❻지속가능 바이오가스 및 바이오메탄 기술 , ❼탄소 포집 저장\\n(CCUS) 기술 , ❽그리드 기술 \\n    \\n   - 원자력은 전략 탄소중립기술에는 제외되었으나 , 탄소중립기술에는 조건부로 , 즉 “연료 주기 , 소형 모\\n듈식 원자로 및 관련 최고등급연료에서 발생된 폐기물을 최소화하면서 핵공정에서 에너지를 생산하는 \\n첨단기술 ’(advanced technologies to produce energy from nuclear processes with\",\n",
       "  '- 원자력은 전략 탄소중립기술에는 제외되었으나 , 탄소중립기술에는 조건부로 , 즉 “연료 주기 , 소형 모\\n듈식 원자로 및 관련 최고등급연료에서 발생된 폐기물을 최소화하면서 핵공정에서 에너지를 생산하는 \\n첨단기술 ’(advanced technologies to produce energy from nuclear processes with \\nminimal waste from the fuel cycle, small modular reactors, and related best-in-class \\nfuels) 이 포함\\n1) EU Commission, Communication: A Green Deal Industrial Plan for the Net-Zero Age, 2023.2.1.\\n2) EU Commission, Annexes to the proposal for a Regulation of the European Parliament and of the Council \\non establishing a framework of measures for strengthening Europe’s net-zero technology products \\nmanufacturing ecosystem',\n",
       "  '* 연간 제조역량을 GW로 표시할 수 없는 경우\\n5공공조달\\n ㅇ 공공조달 , 재생에너지 생산 및 소비진작을 위한 입찰 진행시 가격 , 성능 외에 지속가능성 및 회복력 기\\n여도 (sustainability and resilience contribution)*를 평가항목에 포함\\n   * (a) 적용되는 법안에서 요구하는 환경 지속가능성 최소 기준 충족\\n     (b) 혁신적인 솔루션을 개발시 , 구현 계획의 영향 및 품질 , 리스크 관리 방안\\n     (c) 해당되는 경우 에너지 시스템 통합에 대한 입찰자의 기여도\\n     (d) EU 전체 수요중 65% 이상을 단일 국가에 의존하고 있는 특정 탄소중립 기술의 포함 여부와 비율\\n   - 지속가능성 (환경기준 , 에너지시스템 통합 및 위험관리조치 , 공급망 다각화 등) 및 회복력에 대해 \\n15~30% 의 가중치 부여 가능\\n ㅇ 단, 10% 이상의 가격 차이 발생시 지속가능 및 회복력 기여 평가 예외 적용이 가능구 분탄소중립 제조역량 \\nCO 2 저장소 기타*\\n1GW 이상 1GW 미만\\n탄소중립 전략프로젝트 12개월 9개월 18개월 12개월\\n이외 탄소중립 제조 프로젝트 18개월 12개월 - 18개월',\n",
       "  \"4) EU Commission, state_aid_legislation_GBER_amendment_2023_EC_communication, 2023.3.9.\\n5) EU Commission, Investment needs assessment and funding availabilities to strengthen EU's Net-Zero \\ntechnology manufacturing capacity, 2023.3.23.\",\n",
       "  '장애\\n요소· 현재 EU 역내 수요를 충당할 풍력 터빈 제조 역량을 보유하고 있는 것으로 평가되나 , 최근 크로\\n아티아 , 이탈리아 등 회원국이 중국 업체와 풍력 터빈 제작을 계약하는 등 중국 업체에 대한 의존\\n도가 확대되고 있는 상황\\n전망· 업계는 풍력 터빈의 경우 기술 혁신 보다는 제조 역량 확대가 핵심이며 , 2030 년 목표 달성은 \\n충분히 가능하지만 유럽투자은행 (EIB) 및 혁신기금 (Innovation Fund) 을 통한 재정적 지원이 \\n불가결하다고 평가\\n히트\\n펌프목표 · 2030 년까지 연간 31GW 의 히트펌프 제조 역량 확보가 목표\\n현황· 현재 EU 역내 생산 역량은 약 22GW 으로 이는 EU 전체 수요의 60% 차지\\n· 對중국 수입 의존도 약 30%\\n장애\\n요소· 히트펌프 생산을 위한 숙련 기술자 확보\\n· 향후 규제가 도입될 F-gases 의 지속적인 사용 가능성 여부\\n전망· 최근 급증하고 있는 히트펌프 수요 충족을 위해 업계가 제조 역량을 확대중이며 제시된 목표는 \\n업계의 전망치보다 50% 정도 낮아 목표 달성이 가능할 것으로 전망\\n전기\\n분해\\n장치목표 · 2030 년까지 수소생산을 위한 전기분해 역량 100GW 수준으로 확대\\n현황· 현재 EU 역내 전기분해 역량은 170 메가와트 수준에 불과하며 , 현재 EU의 제조 역량은 전체 \\n수요의 25%, 중국 의존도는 55% 수준\\n장애\\n요소\\n및\\n전망· 업계는 복잡한 허가절차 , 역내 가치사슬 미비 , 숙련 기술자 , 핵심원자재 부족 및 복잡한 자금조\\n달 접근성 등의 개선 없이 2030 년까지 100GW 전기분해 역량 확보는 쉽지 않을 것으로 평가',\n",
       "  '1. 도입 배경\\n2021.12.8, EU집행위는 제3국의 경제적 위협 으로부터 유럽연합 (EU) 및 회원국을 보호하기 위해 통상위협대응 규정 (안)을 \\n발표했습니다 . EU집행위는 EU가 제3국의 경제적 위협에 신속히 대응하고 필요시 최후의 수단으로 대응조치\\n(countermeasure) 를 취하여 EU와 회원국의 경제적 이익을 보호 하기 위해 본 규정 (안)을 준비했습니다 . (제1조) \\n본 규정 (안)은 지정학적 긴장이 고조되며 , 통상이 점점 더 무기화되어 가고 있는 시점에 EU가 통상 정책을 강화하고 , 제3국의 \\n경제적 위협에 효과적으로 대응하기 위한 해결방안으로 제시한 것입니다 . 2018.3 미국이 철강 232 조 관세를 부과함에 따라 \\nEU는 직접적인 피해를 입었습니다 . 또한 , 2019. 12 세계무역기구 TO) 상소기구가 마비되어 WTO 분쟁해결의 효율성이 약 없\\n게 되어 , EU는 경제적 위협에 더욱 취약해졌습니다 .\\n본 규정 (안)의 도입은 2019.12 집행위가 통상권한집행 규정 (Trade Enforcement Regulation) 을 개정하기 위한 입법안을 \\n제시한 후 처음 논의가 되었습니다 . 당시 유럽의회는 경제적 위협에 대한 우려를 제기했지만 , 개정된 통상권한집행 규정은 EU가 \\n경제적 위협에 대응할 수 있는 방법을 규정하지 않았습니다 . 그 후속조치로 집행위 , 의회 , 이사회는 2021 년 말 까지 집행위가 경\\n제적 위협에 대응하기 위한 별도의 입법안을 마련하겠다는 것을 명시한 공동 선언문을 채택했습니다 .\\n그 결과 이번에 발표된 통상위협대응 규정 (안)은 제3국의 경제적 위협에 대응하기 위해 EU가 취할 조치를 2단계로 명시하고 있\\n습니다 . 첫째 , 집행위는 제3국의 경제적 위협을 분석하여 , 그 위협의 유무를 공식적으로 결정한 후, 경제적 위협이 중단될 수 있\\n도록 제3국과 협의를 합니다 . 둘째 , 제3국과의 협의가 경제적 위협을 중단하는 결과를 가져오지 못할 경우 , 최후의 수단으로 EU',\n",
       "  \"- 이미 존재하고 있는 Recovery and Resilience Facility, InvestEU 등의 프로그램과 Innovation \\nFund 가 탄소중립기술제조 프로젝트에 활용될 것으로 보임\\n ㅇ EU는 별도 자료 5)를 통해 동법안에서 제시한 목표 달성을 위해 2023 년부터 2030 년까지 약 920 억 유\\n로의 투자가 필요할 것으로 추산\\n   - 현재와 같은 역외국과의 교역현황 가정시 520 억 유로 , 수입의존 배제시 1천 190 억 유로 규모 예상\\n ㅇ 폴란드 , 헝가리 등에 진출 , 제조시설을 운영중인 우리나라 배터리 기업의 경우 , 추가 시설 확장 시에 \\n‘탄소중립 전략 프로젝트 ’ 선정 및 ‘한시적 위기 및 전환 프레임워크 ’에 따른 보조금 혜택을 누릴 수 \\n있을 것으로 보여 상세 모니터링 필요\\n  - 다만 , EU의 총 수요 중 65% 이상을 중국에 의존하는 탄소중립기술의 사용 여부 등에 대해 향후 철저\\n한 관리가 필요\\n o  동 법안에서 제시한 주요 기술의 2030 제조역량 목표 및 현황 분석시 , 히트펌프를 제외하고는 목표달\\n성에 상당한 어려움이 예상되며 , 이번에 발표된 보조금 개편안과 탄소중립산업법이 목표 달성에 확실한 \\n지원책이 되기에는 미흡한 것으로 평가\\n3) EU Commission, Communication from the Commission Temporary Crisis Framework for State Aid \\nmeasures to support the economy following the aggression against Ukraine by Russia, 2023.3.9.\\n4) EU Commission, state_aid_legislation_GBER_amendment_2023_EC_communication, 2023.3.9.\\n5) EU Commission, Investment needs assessment and funding availabilities to strengthen EU's Net-Zero\",\n",
       "  '* 연간 제조역량을 GW로 표시할 수 없는 경우\\n5공공조달\\n ㅇ 공공조달 , 재생에너지 생산 및 소비진작을 위한 입찰 진행시 가격 , 성능 외에 지속가능성 및 회복력 기\\n여도 (sustainability and resilience contribution)*를 평가항목에 포함\\n   * (a) 적용되는 법안에서 요구하는 환경 지속가능성 최소 기준 충족\\n     (b) 혁신적인 솔루션을 개발시 , 구현 계획의 영향 및 품질 , 리스크 관리 방안\\n     (c) 해당되는 경우 에너지 시스템 통합에 대한 입찰자의 기여도\\n     (d) EU 전체 수요중 65% 이상을 단일 국가에 의존하고 있는 특정 탄소중립 기술의 포함 여부와 비율\\n   - 지속가능성 (환경기준 , 에너지시스템 통합 및 위험관리조치 , 공급망 다각화 등) 및 회복력에 대해 \\n15~30% 의 가중치 부여 가능\\n ㅇ 단, 10% 이상의 가격 차이 발생시 지속가능 및 회복력 기여 평가 예외 적용이 가능구 분탄소중립 제조역량 \\nCO 2 저장소 기타*\\n1GW 이상 1GW 미만\\n탄소중립 전략프로젝트 12개월 9개월 18개월 12개월\\n이외 탄소중립 제조 프로젝트 18개월 12개월 - 18개월',\n",
       "  '6장. 혁신26조 탄소중립 규제샌드 박스\\n27조 중소기업을 위한 조치\\n7장. 거버넌스28조 탄소중립 유럽 플랫폼 설립 및 과업\\n29조 탄소중립 유럽 플랫폼 구조 및 기능\\n30조 국가 에너지 ·기후계획과의 조율\\n8장 모니터링 31조 모니터링\\n9장 최종조항32조 권한 위임\\n33조 위임권 행사\\n34조 위원회 절차\\n35조 평가\\n36조 기밀정보 처리\\n37조 Regulation (EU) 2018/1724(Single Digital Gateway) 개정\\n38조 발효 및 시행',\n",
       "  \"- 1 -\\n1. 배경 및 목적\\n \\n ㅇ (배경 ) 지난 2월 EU 집행위원장이 미국 인플레이션 감축법 (IRA) 에 대응을 위해 발표한 ‘그린딜 산업\\n계획 (Green Deal Industry Plan)' 1)의 4가지 중점 추진 계획* 중 하나\\n     * 1)기후중립산업법 , 2)청청기술 생산의 투자 및 자금지원 확대 , 3)기술인력 양성 , 4)공급망 강화를 위한 국제 협력\\n ㅇ (목적 ) 2050 년 탄소중립 달성에 필수적인 탄소중립기술의 제조역량을 강화하고 유럽 에너지시스템의 \\n효율 및 회복력 보호\\n2. 주요내용\\n1목표설정 \\n ㅇ 부속서 2)에 기술된 8가지의 탄소중립 전략기술의 역내 제조역량 확충을 통해 그린딜 및 REPowerEU 에 \\n명시된 기술 및 상품의 연간 보급 수요 중 최소 40% 는 역내에서 생산하도록 유도\\n2대상 기술 및 상품\\n ㅇ ①국제에너지기구 (IEA) 평가 상 Level 8에 해당하는 기술성숙도 (TRL) 에 도달 , ②2030 년까지 온실가\\n스 55% 감축을 위해 필요한 기술 , ③EU 에너지시스템의 회복력과 공급망 안전 관련성을 기준으로 8\\n개의 전략 탄소중립기술 (Strategic Net-Zero technologies) 을 선정\\n   - ❶태양광 발전 및 태양열 기술 , ❷육상 및 해상 풍력발전 기술 , ❸배터리 및 저장기술 , ❹히트펌프 및 지열\\n에너지 기술 , ❺ 전해조 및 수소연료전지 , ❻지속가능 바이오가스 및 바이오메탄 기술 , ❼탄소 포집 저장\\n(CCUS) 기술 , ❽그리드 기술 \\n    \\n   - 원자력은 전략 탄소중립기술에는 제외되었으나 , 탄소중립기술에는 조건부로 , 즉 “연료 주기 , 소형 모\\n듈식 원자로 및 관련 최고등급연료에서 발생된 폐기물을 최소화하면서 핵공정에서 에너지를 생산하는 \\n첨단기술 ’(advanced technologies to produce energy from nuclear processes with\",\n",
       "  \"- 1 -\\n1. 배경 및 목적\\n \\n ㅇ (배경 ) 지난 2월 EU 집행위원장이 미국 인플레이션 감축법 (IRA) 에 대응을 위해 발표한 ‘그린딜 산업\\n계획 (Green Deal Industry Plan)' 1)의 4가지 중점 추진 계획* 중 하나\\n     * 1)기후중립산업법 , 2)청청기술 생산의 투자 및 자금지원 확대 , 3)기술인력 양성 , 4)공급망 강화를 위한 국제 협력\\n ㅇ (목적 ) 2050 년 탄소중립 달성에 필수적인 탄소중립기술의 제조역량을 강화하고 유럽 에너지시스템의 \\n효율 및 회복력 보호\\n2. 주요내용\\n1목표설정 \\n ㅇ 부속서 2)에 기술된 8가지의 탄소중립 전략기술의 역내 제조역량 확충을 통해 그린딜 및 REPowerEU 에 \\n명시된 기술 및 상품의 연간 보급 수요 중 최소 40% 는 역내에서 생산하도록 유도\\n2대상 기술 및 상품\\n ㅇ ①국제에너지기구 (IEA) 평가 상 Level 8에 해당하는 기술성숙도 (TRL) 에 도달 , ②2030 년까지 온실가\\n스 55% 감축을 위해 필요한 기술 , ③EU 에너지시스템의 회복력과 공급망 안전 관련성을 기준으로 8\\n개의 전략 탄소중립기술 (Strategic Net-Zero technologies) 을 선정\\n   - ❶태양광 발전 및 태양열 기술 , ❷육상 및 해상 풍력발전 기술 , ❸배터리 및 저장기술 , ❹히트펌프 및 지열\\n에너지 기술 , ❺ 전해조 및 수소연료전지 , ❻지속가능 바이오가스 및 바이오메탄 기술 , ❼탄소 포집 저장\\n(CCUS) 기술 , ❽그리드 기술 \\n    \\n   - 원자력은 전략 탄소중립기술에는 제외되었으나 , 탄소중립기술에는 조건부로 , 즉 “연료 주기 , 소형 모\\n듈식 원자로 및 관련 최고등급연료에서 발생된 폐기물을 최소화하면서 핵공정에서 에너지를 생산하는 \\n첨단기술 ’(advanced technologies to produce energy from nuclear processes with\",\n",
       "  '- 4 - ㅇ 최근 개편된 보조금 심사규정 개편안에 따른 ‘한시적 위기 및 전환 프레임워크 3)’*, ‘일반 적용 면제 규\\n정4)’**을 통해 탄소중립산업 프로젝트에 대한 회원국 보조금 지급이 확대될 것으로 기대되나 , 여전히 \\n명확한 자금지원에 대한 언급이 부족\\n     * 한시적 위기 및 전환 프레임워크 (Temporary Crisis and Transition Framework, TCTF) \\n      - 신재생에너지 및 에너지 저장 산업 촉진 및 산업 공정의 탈탄소화 등 탄소중립경제 전환에 핵심적인 산업 섹터에 대한 보\\n조금 지원을 2025 년 12월까지 한시적으로 적용\\n      - 1) EU 각 회원국은 TCTF 에 따라 , △보조금 지원액을 투자비용 대비 일정 비율로 간소화 및 효율화하고 , △중소기업 또는 \\n낙후지역 기업에 대한 보조금 , 세액공제 , 부채 또는 보증 등 방식을 통한 보조금에 대한 상한을 확대하며 (5∼15%), △매\\n칭 보조금 을 도입 , 각 회원국은 유럽경제지역 (EEA) 역외 이전의 위험이 높은 개별 기업에 대해 제3국에서 혜택을 받을 수 \\n있는 보조금 액수에 상응하는 금액  또는 EEA 지역 내 투자를 유지할 인센티브로써 필요한 금액 중 낮은 금액을 보조금으\\n로 지급 할 수 있음\\n      ** 일반적용면제규정 (General Block Exemption Regulation, GBER) \\n      - 집행위 통보 의무가 면제되는 보조금으로 현재 EU 회원국이 지급하는 보조금의 약 90% 가 GBER 에 의한 보조금 , 이번 \\nGBER 대상 금액 상향 조정으로 비율은 더욱 증가할 전망\\n   - 이미 존재하고 있는 Recovery and Resilience Facility, InvestEU 등의 프로그램과 Innovation \\nFund 가 탄소중립기술제조 프로젝트에 활용될 것으로 보임\\n ㅇ EU는 별도 자료 5)를 통해 동법안에서 제시한 목표 달성을 위해 2023 년부터 2030 년까지 약 920 억 유',\n",
       "  '- 4 - ㅇ 최근 개편된 보조금 심사규정 개편안에 따른 ‘한시적 위기 및 전환 프레임워크 3)’*, ‘일반 적용 면제 규\\n정4)’**을 통해 탄소중립산업 프로젝트에 대한 회원국 보조금 지급이 확대될 것으로 기대되나 , 여전히 \\n명확한 자금지원에 대한 언급이 부족\\n     * 한시적 위기 및 전환 프레임워크 (Temporary Crisis and Transition Framework, TCTF) \\n      - 신재생에너지 및 에너지 저장 산업 촉진 및 산업 공정의 탈탄소화 등 탄소중립경제 전환에 핵심적인 산업 섹터에 대한 보\\n조금 지원을 2025 년 12월까지 한시적으로 적용\\n      - 1) EU 각 회원국은 TCTF 에 따라 , △보조금 지원액을 투자비용 대비 일정 비율로 간소화 및 효율화하고 , △중소기업 또는 \\n낙후지역 기업에 대한 보조금 , 세액공제 , 부채 또는 보증 등 방식을 통한 보조금에 대한 상한을 확대하며 (5∼15%), △매\\n칭 보조금 을 도입 , 각 회원국은 유럽경제지역 (EEA) 역외 이전의 위험이 높은 개별 기업에 대해 제3국에서 혜택을 받을 수 \\n있는 보조금 액수에 상응하는 금액  또는 EEA 지역 내 투자를 유지할 인센티브로써 필요한 금액 중 낮은 금액을 보조금으\\n로 지급 할 수 있음\\n      ** 일반적용면제규정 (General Block Exemption Regulation, GBER) \\n      - 집행위 통보 의무가 면제되는 보조금으로 현재 EU 회원국이 지급하는 보조금의 약 90% 가 GBER 에 의한 보조금 , 이번 \\nGBER 대상 금액 상향 조정으로 비율은 더욱 증가할 전망\\n   - 이미 존재하고 있는 Recovery and Resilience Facility, InvestEU 등의 프로그램과 Innovation \\nFund 가 탄소중립기술제조 프로젝트에 활용될 것으로 보임\\n ㅇ EU는 별도 자료 5)를 통해 동법안에서 제시한 목표 달성을 위해 2023 년부터 2030 년까지 약 920 억 유',\n",
       "  '- 3 -\\n6소비자 인센티브 지급 및 숙련인력 육성\\n ㅇ 회원국 , 지역 , 공공법에 적용받는 기관은 탄소중립기술 최종제품의 구매 촉진 지원책을 도입할 수 있고 \\n인센티브는 탄소중립 최종제품 소비자가격의 5%를 초과할 수 없음\\n ㅇ 유럽탄소중립산업 아카데미 (European Net-Zero Industry Academy) 를 설립 , 탄소중립기술 개발 , 생산 , \\n운영 , 재활용 등과 관련된 교육 훈련 프로그램 개발 및 운영 , 자격증 등을 설계\\n7탄소중립플랫폼 (Net-Zero Europe Platform) 설립\\n ㅇ 탄소중립 기술분야 투자 , 제조목표 달성을 위한 회원국의 프로젝트 조정 , 국가간 소통 증진 , 제3국과의 \\n파트너쉽 구축 , 기술인력 양성 등의 전반적 모니터링과 리포팅을 위한 플랫폼 도입\\n8 탄소중립 규제샌드박스 (Net-Zero Regulatory Sandbox)\\n ㅇ EU 회원국 또는 복수 회원국 간 탄소중립 규제샌드박스를 도입 , 규제당국의 감독하에 혁신 기술 및 상\\n품의 시장 출시 전 기술 개발을 지원하고 , 특히 중소기업에 대해 우선권 부여\\n3. 평가 및 시사점\\n ㅇ 미국 IRA와 달리 공공조달 내 ‘지속가능성 및 회복력 기여 ’평가 항목의 역외산에 대한 차별적인 조항이\\n나 현지 조달 의무화 조건은 포함되지 않음\\n  - ‘단일 국가에 대한 EU의 의존도 65%’ 기준에 해당되는 국가는 중국 , 터키 등 일부 국가에 한정될 것\\n으로 보여 영향은 제한적\\n  - 다만 , 가격 차이가 10% 이상 나는 경우 , ‘지속가능성 및 회복력 기여 ’ 평가 기준의 예외를 받을 수 \\n있어 , 실질적으로 중국 저가 상품과의 가격 격차를 쉽게 극복하기는 어려울 전망\\n ㅇ 또한 소비자 인센티브 부분 역시 8가지 탄소중립기술 최종상품에 제한되며 , 역외산 차별적인 조항은 포\\n함되지 않음\\n ㅇ 탄소중립 전략 프로젝트에 포함된 CO 2 주입 목표 (2030 까지 5천만 톤) 설정으로 , 석유 및 천연가스 생\\n산기업에 대한 책임이 강화',\n",
       "  '- 3 -\\n6소비자 인센티브 지급 및 숙련인력 육성\\n ㅇ 회원국 , 지역 , 공공법에 적용받는 기관은 탄소중립기술 최종제품의 구매 촉진 지원책을 도입할 수 있고 \\n인센티브는 탄소중립 최종제품 소비자가격의 5%를 초과할 수 없음\\n ㅇ 유럽탄소중립산업 아카데미 (European Net-Zero Industry Academy) 를 설립 , 탄소중립기술 개발 , 생산 , \\n운영 , 재활용 등과 관련된 교육 훈련 프로그램 개발 및 운영 , 자격증 등을 설계\\n7탄소중립플랫폼 (Net-Zero Europe Platform) 설립\\n ㅇ 탄소중립 기술분야 투자 , 제조목표 달성을 위한 회원국의 프로젝트 조정 , 국가간 소통 증진 , 제3국과의 \\n파트너쉽 구축 , 기술인력 양성 등의 전반적 모니터링과 리포팅을 위한 플랫폼 도입\\n8 탄소중립 규제샌드박스 (Net-Zero Regulatory Sandbox)\\n ㅇ EU 회원국 또는 복수 회원국 간 탄소중립 규제샌드박스를 도입 , 규제당국의 감독하에 혁신 기술 및 상\\n품의 시장 출시 전 기술 개발을 지원하고 , 특히 중소기업에 대해 우선권 부여\\n3. 평가 및 시사점\\n ㅇ 미국 IRA와 달리 공공조달 내 ‘지속가능성 및 회복력 기여 ’평가 항목의 역외산에 대한 차별적인 조항이\\n나 현지 조달 의무화 조건은 포함되지 않음\\n  - ‘단일 국가에 대한 EU의 의존도 65%’ 기준에 해당되는 국가는 중국 , 터키 등 일부 국가에 한정될 것\\n으로 보여 영향은 제한적\\n  - 다만 , 가격 차이가 10% 이상 나는 경우 , ‘지속가능성 및 회복력 기여 ’ 평가 기준의 예외를 받을 수 \\n있어 , 실질적으로 중국 저가 상품과의 가격 격차를 쉽게 극복하기는 어려울 전망\\n ㅇ 또한 소비자 인센티브 부분 역시 8가지 탄소중립기술 최종상품에 제한되며 , 역외산 차별적인 조항은 포\\n함되지 않음\\n ㅇ 탄소중립 전략 프로젝트에 포함된 CO 2 주입 목표 (2030 까지 5천만 톤) 설정으로 , 석유 및 천연가스 생\\n산기업에 대한 책임이 강화',\n",
       "  '- 2 -\\n3 탄소중립 전략 프로젝트 (Net-zero Strategic Project)\\n \\n ㅇ 8개 핵심 탄소중립기술의 역내 제조역량 및 EU 에너지시스템 회복력 강화에 기여하는 프로젝트와 역\\n내 소재 CO 2 저장 프로젝트*를 `탄소중립 전략 프로젝트 (Net-zero Strategic Project)’ 로 선정\\n     * EU는 2030 년까지 역내 , 배타적경제구역 및 UN해양법협약 (UNCLOS) 상의 대륙붕에 위치한 저장소에서 연간 5천만 톤의 \\nCO2 포집 ·저장 역량 확보 목표를 설정\\n       \\n   - 특히 CO 2 저장 프로젝트의 경우 , 각 회원국은 잠재 CO 2 저장소 , CO 2 포집 프로젝트 현황 등 데이터\\n를 수집 , 집행위에 보고해야 하며 , \\n   - 천연가스 및 원유 채굴권을 가진 기업들에는 이산화탄소 주입 ·저장 가능 목표량 설정 , 세부 목표달성 \\n계획 (CO 2 포집 프로젝트 개발 등) 등의 제출 의무를 부여\\n ㅇ 전략 프로젝트는 부지건설 , 설계 및 인프라 조성 같은 허가가 최우선적으로 이루어져야 하며 행정처리 , \\n민원 등을 지원\\n4규제완화\\n ㅇ (One Stop Shop)  법안 발효 3개월 이내 회원국은 탄소중립기술제조 및 전략 프로젝트 허가를 담당\\n할 1개 기관을 선정 , 동 기관이 단일창구 역할 수행\\n ㅇ (허가기간 단축 ) 신규 탄소중립 전략 프로젝트 및 기타 프로젝트에 대한 허가 기간을 최대 18개월 , 기\\n존 제조시설을 확장할 시에는 신규 허가 기간의 절반으로 단축\\n    * 연간 제조역량을 GW로 표시할 수 없는 경우\\n5공공조달\\n ㅇ 공공조달 , 재생에너지 생산 및 소비진작을 위한 입찰 진행시 가격 , 성능 외에 지속가능성 및 회복력 기\\n여도 (sustainability and resilience contribution)*를 평가항목에 포함\\n   * (a) 적용되는 법안에서 요구하는 환경 지속가능성 최소 기준 충족',\n",
       "  '2\\x00\\x00\\x00\\x00-\\x00대다수\\x00회원국(22개국*)이\\x00FDI\\x00심사\\x00규정을\\x00시행하고\\x00있어\\x00EU\\x00차원의\\x00FDI\\x00규정\\x00도입이\\x00무난할\\x00\\n것으로\\x00예상\\n\\x00\\x00\\x00\\x00\\x00*\\x00아일랜드(도입\\x00준비중),\\x00불가리아,\\x00크로아티아,\\x00사이프러스,\\x00그리스\\x00제외\\n\\uf000 해외투자 백서 \\n■\\x00(개요)\\x00주요국(일본,\\x00중국)의\\x00해외투자\\x00규제에\\x00대응하고,\\x00EU의\\x00자본과\\x00핵심\\x00기술*이\\x00EU\\x00역외로\\x00\\n유출될\\x00위험을\\x00분석,\\x00모니터링\\x00및\\x00관리\\n\\x00\\x00\\x00\\x00\\x00*첨단\\x00반도체,\\x00인공지능,\\x00양자기술,\\x00생명공학\\x00등\\n■\\x00(입법\\x00일정)\\x00\\n\\x00\\n\\x00\\x00\\x00\\x00-\\x00(`24.1~`24.4)\\x00해외투자\\x00모니터링·검토에\\x00대해\\x00공개\\x00협의\\x00→\\x00(~`24.\\x00상반기)\\x00협의\\x00결과\\x00평가\\x00\\n및\\x00집행위\\x00권고안\\x00채택\\x00→\\x00(~`25.\\x00상반기)\\x00회원국,\\x00해외투자\\x00모니터링\\x00권고안과\\x00해외투자\\x00위험\\x00\\n측정\\x00평가\\x00→\\x00(~`25.하반기)\\x00집행위\\x00종합\\x00평가\\x00\\n■\\x00(주요\\x00논점)\\x00해외투자\\x00관련\\x00비즈니스와\\x00안보\\x00위협에\\x00대한\\x00포괄적인\\x00모니터링이\\x00가능한\\x00EU\\x00차원의\\x00\\n규정\\x00도출\\n\\x00\\x00\\x00\\x00-\\x00미국은\\x00국내\\x00자본의\\x00해외\\x00투자로\\x00제3국에서의\\x00빅테크\\x00기술이\\x00개발되는\\x00것을\\x00경계하고\\x00있는\\x00반면,\\x00\\nEU는\\x00기술\\x00유출로\\x00인한\\x00안보\\x00위협에\\x00중점을\\x00두고\\x00있음\\n\\x00\\x00\\x00\\x00-\\x00EU\\x00역내\\x00핵심\\x00기술\\x00보유국(네덜란드,\\x00독일\\x00등)은\\x00기술\\x00유출로\\x00발생될\\x00비즈니스\\x00피해에\\x00중점을\\x00두고,\\x00\\n러시아와\\x00인접한\\x00국가(폴란드\\x00등\\x00동유럽\\x00국가)는\\x00안보\\x00위협을\\x00더\\x00중시하는\\x00등\\x00회원국\\x00간\\x00시각차\\x00존재\\n\\uf000 수출통제 백서 \\n■\\x00(개요)\\x00EU\\x00차원의\\x00통합된\\x00수출통제\\x00시행을\\x00위해,\\x00개별\\x00회원국이\\x00특정\\x00품목(군)에\\x00대한\\x00수출통제\\x00\\n시행\\x00전에\\x00회원국\\x00간\\x00정보\\x00공유\\x00및\\x00조정\\x00방안(집행위\\x00및\\x00회원국에\\x00통지\\x00등)을\\x00마련\\n■\\x00(이사회\\x00입장\\x00주요\\x00내용)\\x00이사회는\\x00아래와\\x00같이\\x00입장을\\x00채택(5/30)3)\\n\\x00\\x00\\x00\\x00❶\\x00수출통제\\x00대상\\x00수정\\n\\x00\\x00\\x00\\x00-\\x00EU는\\x00현재\\x00‘EU\\x00이중용도*\\x00기술\\x00수출통제4)’를\\x00시행\\x00중이며,\\x00부록1에서\\x00이중용도\\x00사용\\x00품목을\\x00\\n통해\\x00적용대상을\\x00규정\\n \\x00\\x00\\x00\\x00\\x00\\x00\\x00*\\x00민간\\x00및\\x00군사\\x00용도로\\x00모두\\x00사용할\\x00수\\x00있는\\x00상품,\\x00소프트웨어\\x00및\\x00기술',\n",
       "  \"- 이미 존재하고 있는 Recovery and Resilience Facility, InvestEU 등의 프로그램과 Innovation \\nFund 가 탄소중립기술제조 프로젝트에 활용될 것으로 보임\\n ㅇ EU는 별도 자료 5)를 통해 동법안에서 제시한 목표 달성을 위해 2023 년부터 2030 년까지 약 920 억 유\\n로의 투자가 필요할 것으로 추산\\n   - 현재와 같은 역외국과의 교역현황 가정시 520 억 유로 , 수입의존 배제시 1천 190 억 유로 규모 예상\\n ㅇ 폴란드 , 헝가리 등에 진출 , 제조시설을 운영중인 우리나라 배터리 기업의 경우 , 추가 시설 확장 시에 \\n‘탄소중립 전략 프로젝트 ’ 선정 및 ‘한시적 위기 및 전환 프레임워크 ’에 따른 보조금 혜택을 누릴 수 \\n있을 것으로 보여 상세 모니터링 필요\\n  - 다만 , EU의 총 수요 중 65% 이상을 중국에 의존하는 탄소중립기술의 사용 여부 등에 대해 향후 철저\\n한 관리가 필요\\n o  동 법안에서 제시한 주요 기술의 2030 제조역량 목표 및 현황 분석시 , 히트펌프를 제외하고는 목표달\\n성에 상당한 어려움이 예상되며 , 이번에 발표된 보조금 개편안과 탄소중립산업법이 목표 달성에 확실한 \\n지원책이 되기에는 미흡한 것으로 평가\\n3) EU Commission, Communication from the Commission Temporary Crisis Framework for State Aid \\nmeasures to support the economy following the aggression against Ukraine by Russia, 2023.3.9.\\n4) EU Commission, state_aid_legislation_GBER_amendment_2023_EC_communication, 2023.3.9.\\n5) EU Commission, Investment needs assessment and funding availabilities to strengthen EU's Net-Zero\",\n",
       "  '- 원자력은 전략 탄소중립기술에는 제외되었으나 , 탄소중립기술에는 조건부로 , 즉 “연료 주기 , 소형 모\\n듈식 원자로 및 관련 최고등급연료에서 발생된 폐기물을 최소화하면서 핵공정에서 에너지를 생산하는 \\n첨단기술 ’(advanced technologies to produce energy from nuclear processes with \\nminimal waste from the fuel cycle, small modular reactors, and related best-in-class \\nfuels) 이 포함\\n1) EU Commission, Communication: A Green Deal Industrial Plan for the Net-Zero Age, 2023.2.1.\\n2) EU Commission, Annexes to the proposal for a Regulation of the European Parliament and of the Council \\non establishing a framework of measures for strengthening Europe’s net-zero technology products \\nmanufacturing ecosystem',\n",
       "  \"4) EU Commission, state_aid_legislation_GBER_amendment_2023_EC_communication, 2023.3.9.\\n5) EU Commission, Investment needs assessment and funding availabilities to strengthen EU's Net-Zero \\ntechnology manufacturing capacity, 2023.3.23.\",\n",
       "  '- 2 -\\n3 탄소중립 전략 프로젝트 (Net-zero Strategic Project)\\n \\n ㅇ 8개 핵심 탄소중립기술의 역내 제조역량 및 EU 에너지시스템 회복력 강화에 기여하는 프로젝트와 역\\n내 소재 CO 2 저장 프로젝트*를 `탄소중립 전략 프로젝트 (Net-zero Strategic Project)’ 로 선정\\n     * EU는 2030 년까지 역내 , 배타적경제구역 및 UN해양법협약 (UNCLOS) 상의 대륙붕에 위치한 저장소에서 연간 5천만 톤의 \\nCO2 포집 ·저장 역량 확보 목표를 설정\\n       \\n   - 특히 CO 2 저장 프로젝트의 경우 , 각 회원국은 잠재 CO 2 저장소 , CO 2 포집 프로젝트 현황 등 데이터\\n를 수집 , 집행위에 보고해야 하며 , \\n   - 천연가스 및 원유 채굴권을 가진 기업들에는 이산화탄소 주입 ·저장 가능 목표량 설정 , 세부 목표달성 \\n계획 (CO 2 포집 프로젝트 개발 등) 등의 제출 의무를 부여\\n ㅇ 전략 프로젝트는 부지건설 , 설계 및 인프라 조성 같은 허가가 최우선적으로 이루어져야 하며 행정처리 , \\n민원 등을 지원\\n4규제완화\\n ㅇ (One Stop Shop)  법안 발효 3개월 이내 회원국은 탄소중립기술제조 및 전략 프로젝트 허가를 담당\\n할 1개 기관을 선정 , 동 기관이 단일창구 역할 수행\\n ㅇ (허가기간 단축 ) 신규 탄소중립 전략 프로젝트 및 기타 프로젝트에 대한 허가 기간을 최대 18개월 , 기\\n존 제조시설을 확장할 시에는 신규 허가 기간의 절반으로 단축\\n    * 연간 제조역량을 GW로 표시할 수 없는 경우\\n5공공조달\\n ㅇ 공공조달 , 재생에너지 생산 및 소비진작을 위한 입찰 진행시 가격 , 성능 외에 지속가능성 및 회복력 기\\n여도 (sustainability and resilience contribution)*를 평가항목에 포함\\n   * (a) 적용되는 법안에서 요구하는 환경 지속가능성 최소 기준 충족',\n",
       "  '습니다 . 첫째 , 집행위는 제3국의 경제적 위협을 분석하여 , 그 위협의 유무를 공식적으로 결정한 후, 경제적 위협이 중단될 수 있\\n도록 제3국과 협의를 합니다 . 둘째 , 제3국과의 협의가 경제적 위협을 중단하는 결과를 가져오지 못할 경우 , 최후의 수단으로 EU \\n자체의 대응조치를 취하게 됩니다 .\\n2. 핵심 \\n(1)제3국의 경제적 위협에 대한 정의 (제2조)\\n본 규정 (안)은 EU 또는 회원국의 특정 행위의 중단 , 수정 또는 채택에 부당한 영향력을 행사할 목적으로 EU 또는 회원국의 \\n합법적인 주권 행사를 방해하여 , 통상 또는 투자에 영향을 미치는 조치를 적용하거나 적용하겠다고 위협할 경우 적용됩니다 .\\n본 규정은 경제적 위협을 포괄적으로 정의하여 , 집행위가 본 규정을 최대한 활용하여 EU의 통상과 투자를 제한하는 다양한 \\n유형의 위협에 대응할 수 있도록 하였습니다 . \\n예를 들어 , 경제적 위협은 다음과 같은 형태를 취할 수 있습니다 : ① 차별적인 수입 관세 , ② 사업 수행에 필요한 승인의 의도적인 \\n한국무역협회 브뤼셀지부  eireenkang@kita.net 2023.3.24.\\nEU 탄소중립산업법 주요 내용\\n  EU 집행위는 16일(목, 현지시간 ) 탄소중립산업 관련 제조 역량을 강화하고 관련 산업의 역외 유출\\n을 방지하기 위한 탄소중립 산업법 (Net-Zero Industry Act, NZIA) 초안을 발표하였다 . 동 법안은 \\n2030 년까지 전략 탄소중립 산업 제조 역량을 EU 연간 수요의 40% 수준까지 확대하는 것을 목표로 \\n한다 .\\n  이를 위해 EU는 8개의 탄소중립 전략기술 (태양광 발전 및 태양열 , 육상 및 해상 풍력발전 , 배터리 및 \\n저장 , 히트펌프 및 지열에너지 , 전해조 및 수소연료전지 , 지속가능 바이오가스 및 바이오메탄 , 탄소 포집 \\n저장 (CCUS), 그리드 )을 지정했으며 역내 제조 역량 향상에 기여할 수 있다고 판단되면 ‘탄소중립 전',\n",
       "  '1. 도입 배경\\n2021.12.8, EU집행위는 제3국의 경제적 위협 으로부터 유럽연합 (EU) 및 회원국을 보호하기 위해 통상위협대응 규정 (안)을 \\n발표했습니다 . EU집행위는 EU가 제3국의 경제적 위협에 신속히 대응하고 필요시 최후의 수단으로 대응조치\\n(countermeasure) 를 취하여 EU와 회원국의 경제적 이익을 보호 하기 위해 본 규정 (안)을 준비했습니다 . (제1조) \\n본 규정 (안)은 지정학적 긴장이 고조되며 , 통상이 점점 더 무기화되어 가고 있는 시점에 EU가 통상 정책을 강화하고 , 제3국의 \\n경제적 위협에 효과적으로 대응하기 위한 해결방안으로 제시한 것입니다 . 2018.3 미국이 철강 232 조 관세를 부과함에 따라 \\nEU는 직접적인 피해를 입었습니다 . 또한 , 2019. 12 세계무역기구 TO) 상소기구가 마비되어 WTO 분쟁해결의 효율성이 약 없\\n게 되어 , EU는 경제적 위협에 더욱 취약해졌습니다 .\\n본 규정 (안)의 도입은 2019.12 집행위가 통상권한집행 규정 (Trade Enforcement Regulation) 을 개정하기 위한 입법안을 \\n제시한 후 처음 논의가 되었습니다 . 당시 유럽의회는 경제적 위협에 대한 우려를 제기했지만 , 개정된 통상권한집행 규정은 EU가 \\n경제적 위협에 대응할 수 있는 방법을 규정하지 않았습니다 . 그 후속조치로 집행위 , 의회 , 이사회는 2021 년 말 까지 집행위가 경\\n제적 위협에 대응하기 위한 별도의 입법안을 마련하겠다는 것을 명시한 공동 선언문을 채택했습니다 .\\n그 결과 이번에 발표된 통상위협대응 규정 (안)은 제3국의 경제적 위협에 대응하기 위해 EU가 취할 조치를 2단계로 명시하고 있\\n습니다 . 첫째 , 집행위는 제3국의 경제적 위협을 분석하여 , 그 위협의 유무를 공식적으로 결정한 후, 경제적 위협이 중단될 수 있\\n도록 제3국과 협의를 합니다 . 둘째 , 제3국과의 협의가 경제적 위협을 중단하는 결과를 가져오지 못할 경우 , 최후의 수단으로 EU',\n",
       "  '습니다 . 첫째 , 집행위는 제3국의 경제적 위협을 분석하여 , 그 위협의 유무를 공식적으로 결정한 후, 경제적 위협이 중단될 수 있\\n도록 제3국과 협의를 합니다 . 둘째 , 제3국과의 협의가 경제적 위협을 중단하는 결과를 가져오지 못할 경우 , 최후의 수단으로 EU \\n자체의 대응조치를 취하게 됩니다 .\\n2. 핵심 \\n(1)제3국의 경제적 위협에 대한 정의 (제2조)\\n본 규정 (안)은 EU 또는 회원국의 특정 행위의 중단 , 수정 또는 채택에 부당한 영향력을 행사할 목적으로 EU 또는 회원국의 \\n합법적인 주권 행사를 방해하여 , 통상 또는 투자에 영향을 미치는 조치를 적용하거나 적용하겠다고 위협할 경우 적용됩니다 .\\n본 규정은 경제적 위협을 포괄적으로 정의하여 , 집행위가 본 규정을 최대한 활용하여 EU의 통상과 투자를 제한하는 다양한 \\n유형의 위협에 대응할 수 있도록 하였습니다 . \\n예를 들어 , 경제적 위협은 다음과 같은 형태를 취할 수 있습니다 : ① 차별적인 수입 관세 , ② 사업 수행에 필요한 승인의 의도적인 \\n한국무역협회 브뤼셀지부  eireenkang@kita.net 2023.3.24.\\nEU 탄소중립산업법 주요 내용\\n  EU 집행위는 16일(목, 현지시간 ) 탄소중립산업 관련 제조 역량을 강화하고 관련 산업의 역외 유출\\n을 방지하기 위한 탄소중립 산업법 (Net-Zero Industry Act, NZIA) 초안을 발표하였다 . 동 법안은 \\n2030 년까지 전략 탄소중립 산업 제조 역량을 EU 연간 수요의 40% 수준까지 확대하는 것을 목표로 \\n한다 .\\n  이를 위해 EU는 8개의 탄소중립 전략기술 (태양광 발전 및 태양열 , 육상 및 해상 풍력발전 , 배터리 및 \\n저장 , 히트펌프 및 지열에너지 , 전해조 및 수소연료전지 , 지속가능 바이오가스 및 바이오메탄 , 탄소 포집 \\n저장 (CCUS), 그리드 )을 지정했으며 역내 제조 역량 향상에 기여할 수 있다고 판단되면 ‘탄소중립 전'],\n",
       " 'uris': None,\n",
       " 'data': None,\n",
       " 'included': ['metadatas', 'documents']}"
      ]
     },
     "execution_count": 17,
     "metadata": {},
     "output_type": "execute_result"
    }
   ],
   "source": [
    "vectorstore.get()"
   ]
  },
  {
   "cell_type": "code",
   "execution_count": 18,
   "metadata": {},
   "outputs": [
    {
     "data": {
      "text/plain": [
       "['712a7379-c570-402f-a6fc-738a2393155e',\n",
       " 'a20b1d54-a3d5-40eb-aeef-3d6fa6bcb2fa',\n",
       " '90742a79-520b-47e2-a133-112ea4a948e1',\n",
       " 'c53e1aaa-18e6-40b8-b41a-7c2cf3c88df9',\n",
       " '102b8a7b-371e-4b82-9830-aacae6511a31']"
      ]
     },
     "execution_count": 18,
     "metadata": {},
     "output_type": "execute_result"
    }
   ],
   "source": [
    "vectorstore.add_documents(pages2)"
   ]
  },
  {
   "cell_type": "code",
   "execution_count": 19,
   "metadata": {},
   "outputs": [
    {
     "data": {
      "text/plain": [
       "{'ids': ['029ef2b9-eadf-4309-8646-c284adc24c30',\n",
       "  '09e95f4b-61c1-4ee9-bf58-3771f6b3a88b',\n",
       "  '0b58abbd-a0b8-49ef-b565-edae20e1b3b5',\n",
       "  '102b8a7b-371e-4b82-9830-aacae6511a31',\n",
       "  '17acd51a-45af-483d-9dc8-3fb8a5ae9f6d',\n",
       "  '1d4c65c7-825d-4660-8cf7-c585dad30fdf',\n",
       "  '250563e6-bf49-4695-a745-cc1243677bfb',\n",
       "  '273f9fff-2cf7-4979-aae5-c77b26cc3f3d',\n",
       "  '27a08592-0a85-4950-b1a9-10d2235b1440',\n",
       "  '27a29fb4-2439-4b2e-897d-d16e3caa0b99',\n",
       "  '28b326b5-f0a0-4a86-aab6-b3dcecc240e1',\n",
       "  '28bd6d04-d8db-41b3-9141-8d0d11c3eb71',\n",
       "  '2982baf9-46fb-4059-9597-8e17fca66858',\n",
       "  '30092516-c3fb-44f5-b372-60bf1f98404f',\n",
       "  '35b601c8-4c2a-4950-bc2a-6fea7a4fc99e',\n",
       "  '36046d91-ddad-47f0-ab8f-d4fb4c9f06ca',\n",
       "  '43f70152-894b-477c-abd3-a37dac5f12a1',\n",
       "  '473aba31-b895-4aaa-b31d-ddef42e0c965',\n",
       "  '4753904d-d4cb-4aff-b3e6-2d6c4358e17c',\n",
       "  '52487f46-98ad-4fe4-82b2-4a4f0a386b1c',\n",
       "  '66658181-5679-4205-b171-8020e6bff879',\n",
       "  '68905eb5-a054-45c5-977d-8c442065245b',\n",
       "  '6dfa7fd3-956b-4a21-8d47-1acfbbbd167a',\n",
       "  '70e00cfd-b3a6-419a-b629-926fb0be400b',\n",
       "  '712a7379-c570-402f-a6fc-738a2393155e',\n",
       "  '73c09bbc-b5b4-45d1-8f7b-7e7693a38227',\n",
       "  '77768c54-e644-4aa1-9a1e-b02916430c18',\n",
       "  '7876d5f1-9235-4b2d-bc7f-db2c7910570a',\n",
       "  '7bc36043-d74f-4770-9a47-fb77ec9f8d11',\n",
       "  '7d2c36aa-5b72-49a3-b286-55b94356e76e',\n",
       "  '858bdf93-b0c2-4874-ac33-214a895a05fe',\n",
       "  '8604907e-bd4d-46b7-b5fa-24f26cca9583',\n",
       "  '87fd5d3c-c307-44b2-88d0-97e0ff4e5040',\n",
       "  '8c06a748-62fc-4b30-85e2-64df9620ddc4',\n",
       "  '8f692a1d-9ca2-408a-b658-d88dbc03a940',\n",
       "  '90742a79-520b-47e2-a133-112ea4a948e1',\n",
       "  '91122a20-cee7-47d2-bf84-4454c3684eba',\n",
       "  '97ac7358-16b8-4f34-9ac6-a318221821f9',\n",
       "  '9f574c47-0a24-4930-bbb4-587a9a45e10d',\n",
       "  'a1c369ec-1765-42ac-91aa-ad4d7b314149',\n",
       "  'a20b1d54-a3d5-40eb-aeef-3d6fa6bcb2fa',\n",
       "  'a3e2bb35-763e-4f9e-b61b-40e10de82088',\n",
       "  'ad72035c-fd66-4bd6-b541-f32580b42038',\n",
       "  'b38318b5-5fb4-43d7-83f0-ff713c757f06',\n",
       "  'b462341b-8ed2-4b04-bb5a-e7f0ce6a71b6',\n",
       "  'bbdd143b-47a3-4c39-bc04-c4183d68e56a',\n",
       "  'bec498af-54f6-4513-823e-de9a4cdff5a5',\n",
       "  'c3135cdd-8c9f-4836-8ad2-b7994d01bcd0',\n",
       "  'c53e1aaa-18e6-40b8-b41a-7c2cf3c88df9',\n",
       "  'c879a48a-933b-4eaa-b15d-7c3c210700f1',\n",
       "  'c88d3181-9d1e-4654-874f-d80effb82a9b',\n",
       "  'd8d9779e-f403-414a-8cd1-c8e05a9c3ffa',\n",
       "  'dc2458b3-0f5a-4f90-821b-5bc5a4a76a60',\n",
       "  'ef40afbc-0f6a-43d1-be76-122565db1675',\n",
       "  'f78fe93f-0be1-471a-b4fa-9fa8f10486a2',\n",
       "  'fa7ce494-c9e4-4ca9-9d40-b49e2db5ee9e',\n",
       "  'fad4d26e-e048-4ac4-aabb-95509c0ea8ac',\n",
       "  'ffeaa52f-fd21-4f46-b8f2-285c5966526b'],\n",
       " 'embeddings': None,\n",
       " 'metadatas': [{'page': 2, 'source': '../pdfs/EU-탄소중립산업법-주요-내용.pdf'},\n",
       "  {'page': 4, 'source': '../pdfs/EU-탄소중립산업법-주요-내용.pdf'},\n",
       "  {'page': 2, 'source': '../pdfs/EU경제안보전략이니셔티브-입법-현황.pdf'},\n",
       "  {'page': 2, 'source': '../pdfs/EU경제안보전략이니셔티브-입법-현황.pdf'},\n",
       "  {'page': 5, 'source': '../pdfs/EU-탄소중립산업법-주요-내용.pdf'},\n",
       "  {'page': 0, 'source': '../pdfs/EU경제안보전략이니셔티브-입법-현황.pdf'},\n",
       "  {'page': 1, 'source': '../pdfs/EU-탄소중립산업법-주요-내용.pdf'},\n",
       "  {'page': 3, 'source': '../pdfs/EU-탄소중립산업법-주요-내용.pdf'},\n",
       "  {'page': 7, 'source': '../pdfs/EU-탄소중립산업법-주요-내용.pdf'},\n",
       "  {'page': 5, 'source': '../pdfs/EU-탄소중립산업법-주요-내용.pdf'},\n",
       "  {'page': 0, 'source': '../pdfs/EU-탄소중립산업법-주요-내용.pdf'},\n",
       "  {'page': 0, 'source': '../pdfs/EU-탄소중립산업법-주요-내용.pdf'},\n",
       "  {'page': 0, 'source': '../pdfs/EU-탄소중립산업법-주요-내용.pdf'},\n",
       "  {'page': 6, 'source': '../pdfs/EU-탄소중립산업법-주요-내용.pdf'},\n",
       "  {'page': 5, 'source': '../pdfs/EU-탄소중립산업법-주요-내용.pdf'},\n",
       "  {'page': 7, 'source': '../pdfs/EU-탄소중립산업법-주요-내용.pdf'},\n",
       "  {'page': 5, 'source': '../pdfs/EU-탄소중립산업법-주요-내용.pdf'},\n",
       "  {'page': 4, 'source': '../pdfs/EU-탄소중립산업법-주요-내용.pdf'},\n",
       "  {'page': 7, 'source': '../pdfs/EU-탄소중립산업법-주요-내용.pdf'},\n",
       "  {'page': 5, 'source': '../pdfs/EU-탄소중립산업법-주요-내용.pdf'},\n",
       "  {'page': 2, 'source': '../pdfs/EU-탄소중립산업법-주요-내용.pdf'},\n",
       "  {'page': 4, 'source': '../pdfs/EU-탄소중립산업법-주요-내용.pdf'},\n",
       "  {'page': 1, 'source': '../pdfs/EU경제안보전략이니셔티브-입법-현황.pdf'},\n",
       "  {'page': 0, 'source': '../pdfs/EU경제안보전략이니셔티브-입법-현황.pdf'},\n",
       "  {'page': 0, 'source': '../pdfs/EU경제안보전략이니셔티브-입법-현황.pdf'},\n",
       "  {'page': 6, 'source': '../pdfs/EU-탄소중립산업법-주요-내용.pdf'},\n",
       "  {'page': 7, 'source': '../pdfs/EU-탄소중립산업법-주요-내용.pdf'},\n",
       "  {'page': 0, 'source': '../pdfs/EU-탄소중립산업법-주요-내용.pdf'},\n",
       "  {'page': 6, 'source': '../pdfs/EU-탄소중립산업법-주요-내용.pdf'},\n",
       "  {'page': 7, 'source': '../pdfs/EU-탄소중립산업법-주요-내용.pdf'},\n",
       "  {'page': 0, 'source': '../pdfs/EU-탄소중립산업법-주요-내용.pdf'},\n",
       "  {'page': 1, 'source': '../pdfs/EU-탄소중립산업법-주요-내용.pdf'},\n",
       "  {'page': 1, 'source': '../pdfs/EU-탄소중립산업법-주요-내용.pdf'},\n",
       "  {'page': 2, 'source': '../pdfs/EU-탄소중립산업법-주요-내용.pdf'},\n",
       "  {'page': 4, 'source': '../pdfs/EU-탄소중립산업법-주요-내용.pdf'},\n",
       "  {'page': 1, 'source': '../pdfs/EU경제안보전략이니셔티브-입법-현황.pdf'},\n",
       "  {'page': 5, 'source': '../pdfs/EU-탄소중립산업법-주요-내용.pdf'},\n",
       "  {'page': 0, 'source': '../pdfs/EU-탄소중립산업법-주요-내용.pdf'},\n",
       "  {'page': 4, 'source': '../pdfs/EU-탄소중립산업법-주요-내용.pdf'},\n",
       "  {'page': 2, 'source': '../pdfs/EU-탄소중립산업법-주요-내용.pdf'},\n",
       "  {'page': 0, 'source': '../pdfs/EU경제안보전략이니셔티브-입법-현황.pdf'},\n",
       "  {'page': 7, 'source': '../pdfs/EU-탄소중립산업법-주요-내용.pdf'},\n",
       "  {'page': 1, 'source': '../pdfs/EU-탄소중립산업법-주요-내용.pdf'},\n",
       "  {'page': 1, 'source': '../pdfs/EU-탄소중립산업법-주요-내용.pdf'},\n",
       "  {'page': 4, 'source': '../pdfs/EU-탄소중립산업법-주요-내용.pdf'},\n",
       "  {'page': 4, 'source': '../pdfs/EU-탄소중립산업법-주요-내용.pdf'},\n",
       "  {'page': 3, 'source': '../pdfs/EU-탄소중립산업법-주요-내용.pdf'},\n",
       "  {'page': 3, 'source': '../pdfs/EU-탄소중립산업법-주요-내용.pdf'},\n",
       "  {'page': 1, 'source': '../pdfs/EU경제안보전략이니셔티브-입법-현황.pdf'},\n",
       "  {'page': 2, 'source': '../pdfs/EU-탄소중립산업법-주요-내용.pdf'},\n",
       "  {'page': 1, 'source': '../pdfs/EU경제안보전략이니셔티브-입법-현황.pdf'},\n",
       "  {'page': 4, 'source': '../pdfs/EU-탄소중립산업법-주요-내용.pdf'},\n",
       "  {'page': 1, 'source': '../pdfs/EU-탄소중립산업법-주요-내용.pdf'},\n",
       "  {'page': 4, 'source': '../pdfs/EU-탄소중립산업법-주요-내용.pdf'},\n",
       "  {'page': 2, 'source': '../pdfs/EU-탄소중립산업법-주요-내용.pdf'},\n",
       "  {'page': 0, 'source': '../pdfs/EU-탄소중립산업법-주요-내용.pdf'},\n",
       "  {'page': 0, 'source': '../pdfs/EU-탄소중립산업법-주요-내용.pdf'},\n",
       "  {'page': 0, 'source': '../pdfs/EU-탄소중립산업법-주요-내용.pdf'}],\n",
       " 'documents': ['* 연간 제조역량을 GW로 표시할 수 없는 경우\\n5공공조달\\n ㅇ 공공조달 , 재생에너지 생산 및 소비진작을 위한 입찰 진행시 가격 , 성능 외에 지속가능성 및 회복력 기\\n여도 (sustainability and resilience contribution)*를 평가항목에 포함\\n   * (a) 적용되는 법안에서 요구하는 환경 지속가능성 최소 기준 충족\\n     (b) 혁신적인 솔루션을 개발시 , 구현 계획의 영향 및 품질 , 리스크 관리 방안\\n     (c) 해당되는 경우 에너지 시스템 통합에 대한 입찰자의 기여도\\n     (d) EU 전체 수요중 65% 이상을 단일 국가에 의존하고 있는 특정 탄소중립 기술의 포함 여부와 비율\\n   - 지속가능성 (환경기준 , 에너지시스템 통합 및 위험관리조치 , 공급망 다각화 등) 및 회복력에 대해 \\n15~30% 의 가중치 부여 가능\\n ㅇ 단, 10% 이상의 가격 차이 발생시 지속가능 및 회복력 기여 평가 예외 적용이 가능구 분탄소중립 제조역량 \\nCO 2 저장소 기타*\\n1GW 이상 1GW 미만\\n탄소중립 전략프로젝트 12개월 9개월 18개월 12개월\\n이외 탄소중립 제조 프로젝트 18개월 12개월 - 18개월',\n",
       "  '- 4 - ㅇ 최근 개편된 보조금 심사규정 개편안에 따른 ‘한시적 위기 및 전환 프레임워크 3)’*, ‘일반 적용 면제 규\\n정4)’**을 통해 탄소중립산업 프로젝트에 대한 회원국 보조금 지급이 확대될 것으로 기대되나 , 여전히 \\n명확한 자금지원에 대한 언급이 부족\\n     * 한시적 위기 및 전환 프레임워크 (Temporary Crisis and Transition Framework, TCTF) \\n      - 신재생에너지 및 에너지 저장 산업 촉진 및 산업 공정의 탈탄소화 등 탄소중립경제 전환에 핵심적인 산업 섹터에 대한 보\\n조금 지원을 2025 년 12월까지 한시적으로 적용\\n      - 1) EU 각 회원국은 TCTF 에 따라 , △보조금 지원액을 투자비용 대비 일정 비율로 간소화 및 효율화하고 , △중소기업 또는 \\n낙후지역 기업에 대한 보조금 , 세액공제 , 부채 또는 보증 등 방식을 통한 보조금에 대한 상한을 확대하며 (5∼15%), △매\\n칭 보조금 을 도입 , 각 회원국은 유럽경제지역 (EEA) 역외 이전의 위험이 높은 개별 기업에 대해 제3국에서 혜택을 받을 수 \\n있는 보조금 액수에 상응하는 금액  또는 EEA 지역 내 투자를 유지할 인센티브로써 필요한 금액 중 낮은 금액을 보조금으\\n로 지급 할 수 있음\\n      ** 일반적용면제규정 (General Block Exemption Regulation, GBER) \\n      - 집행위 통보 의무가 면제되는 보조금으로 현재 EU 회원국이 지급하는 보조금의 약 90% 가 GBER 에 의한 보조금 , 이번 \\nGBER 대상 금액 상향 조정으로 비율은 더욱 증가할 전망\\n   - 이미 존재하고 있는 Recovery and Resilience Facility, InvestEU 등의 프로그램과 Innovation \\nFund 가 탄소중립기술제조 프로젝트에 활용될 것으로 보임\\n ㅇ EU는 별도 자료 5)를 통해 동법안에서 제시한 목표 달성을 위해 2023 년부터 2030 년까지 약 920 억 유',\n",
       "  '3\\x00\\x00\\x00\\x00-\\x00EU\\x00수출통제\\x00적용대상\\x00규정\\x00시\\x00다자간\\x00수출\\x00통제\\x00체제(예:\\x00Wassenaar\\x00Arrangement,\\x00Missile\\x00\\nTechnology\\x00Control\\x00Regime,\\x00Nuclear\\x00Suppliers\\x00Group\\x00등)에\\x00기반하는\\x00것이\\x00법적\\x00절차상\\x00문제가\\x00없으나,\\x00\\n동\\x00체제의\\x00회원국인\\x00러시아가\\x00신기술(emerging\\x00technology)의\\x00적용대상\\x00추가에\\x00반대하고\\x00있어\\x00\\nEU\\x00입장에서는\\x00다자간\\x00협의에\\x00기반한\\x00수출통제\\x00적용대상\\x00개정이\\x00어려운\\x00상황\\n\\x00\\x00\\x00\\x00-\\x00이에\\x00차선책으로,\\x00집행위와\\x00이사회\\x00모두\\x00상기\\x00규정의\\x00제17조와\\x00위임법을\\x00통해\\x00신속하게\\x00적용\\n대상을\\x00수정할\\x00수\\x00있는\\x00입법\\x00과정을\\x00선호\\n\\x00\\x00\\x00\\x00-\\x00집행위는\\x00이러한\\x00절차의\\x00법적\\x00합치\\x00여부에\\x00대해\\x00조사\\x00중이며\\x007월\\x00말까지\\x00결과가\\x00나올\\x00것으로\\x00예상\\x00\\n\\x00\\x00❷\\x00집행위와\\x00회원국\\x00고위\\x00그룹\\x00간\\x00협력\\n\\x00\\x00\\x00\\x00-\\x00집행위는\\x00작업반(working\\x00group)이\\x00정치적\\x00논의로\\x00확대되는\\x00것을\\x00고려하지\\x00않으나,\\x00이사회는\\x00\\n작업반과\\x00고위직\\x00관계자의\\x00정기적인\\x00비공개\\x00면담\\x00진행\\x00및\\x00필요시\\x00상임위와\\x00의회에\\x00기밀문서\\x00\\n형식으로\\x00보고하는\\x00것을\\x00제안\\n\\x00\\x00\\x00\\x00-\\x00이사회는\\x00이중용도\\x00품목에\\x00대한\\x00정보\\x00공유\\x00활성화를\\x00위한\\x00권고안도\\x00제시한다는\\x00입장\\n\\x00\\x00❸\\x00EU\\x00이중용도\\x00규정\\x00수정\\x00적극\\x00협조\\n\\x00\\x00\\x00\\x00-\\x00이사회는\\x00이중용도\\x00기술\\x00수출통제\\x00규정의\\x00민감성으로\\x00인해\\x00시행과\\x00개정이\\x00어려운\\x00점을\\x00\\n인지하고\\x00있음\\n\\x00\\x00\\x00\\x00-\\x00향후\\x00이중용도\\x00사용\\x00품목\\x00적용\\x00대상의\\x00개정\\x00필요\\x00시,\\x00최대한\\x00협조할\\x00것으로\\x00예상\\x00',\n",
       "  '3\\x00\\x00\\x00\\x00-\\x00EU\\x00수출통제\\x00적용대상\\x00규정\\x00시\\x00다자간\\x00수출\\x00통제\\x00체제(예:\\x00Wassenaar\\x00Arrangement,\\x00Missile\\x00\\nTechnology\\x00Control\\x00Regime,\\x00Nuclear\\x00Suppliers\\x00Group\\x00등)에\\x00기반하는\\x00것이\\x00법적\\x00절차상\\x00문제가\\x00없으나,\\x00\\n동\\x00체제의\\x00회원국인\\x00러시아가\\x00신기술(emerging\\x00technology)의\\x00적용대상\\x00추가에\\x00반대하고\\x00있어\\x00\\nEU\\x00입장에서는\\x00다자간\\x00협의에\\x00기반한\\x00수출통제\\x00적용대상\\x00개정이\\x00어려운\\x00상황\\n\\x00\\x00\\x00\\x00-\\x00이에\\x00차선책으로,\\x00집행위와\\x00이사회\\x00모두\\x00상기\\x00규정의\\x00제17조와\\x00위임법을\\x00통해\\x00신속하게\\x00적용\\n대상을\\x00수정할\\x00수\\x00있는\\x00입법\\x00과정을\\x00선호\\n\\x00\\x00\\x00\\x00-\\x00집행위는\\x00이러한\\x00절차의\\x00법적\\x00합치\\x00여부에\\x00대해\\x00조사\\x00중이며\\x007월\\x00말까지\\x00결과가\\x00나올\\x00것으로\\x00예상\\x00\\n\\x00\\x00❷\\x00집행위와\\x00회원국\\x00고위\\x00그룹\\x00간\\x00협력\\n\\x00\\x00\\x00\\x00-\\x00집행위는\\x00작업반(working\\x00group)이\\x00정치적\\x00논의로\\x00확대되는\\x00것을\\x00고려하지\\x00않으나,\\x00이사회는\\x00\\n작업반과\\x00고위직\\x00관계자의\\x00정기적인\\x00비공개\\x00면담\\x00진행\\x00및\\x00필요시\\x00상임위와\\x00의회에\\x00기밀문서\\x00\\n형식으로\\x00보고하는\\x00것을\\x00제안\\n\\x00\\x00\\x00\\x00-\\x00이사회는\\x00이중용도\\x00품목에\\x00대한\\x00정보\\x00공유\\x00활성화를\\x00위한\\x00권고안도\\x00제시한다는\\x00입장\\n\\x00\\x00❸\\x00EU\\x00이중용도\\x00규정\\x00수정\\x00적극\\x00협조\\n\\x00\\x00\\x00\\x00-\\x00이사회는\\x00이중용도\\x00기술\\x00수출통제\\x00규정의\\x00민감성으로\\x00인해\\x00시행과\\x00개정이\\x00어려운\\x00점을\\x00\\n인지하고\\x00있음\\n\\x00\\x00\\x00\\x00-\\x00향후\\x00이중용도\\x00사용\\x00품목\\x00적용\\x00대상의\\x00개정\\x00필요\\x00시,\\x00최대한\\x00협조할\\x00것으로\\x00예상\\x00',\n",
       "  '- 5 -[EU 탄소중립산업 주요 기술의 2030 제조역량 목표 , 현황 , 장애요소 및 전망 ]\\n산업  항목 내 용\\n태양광\\n패널목표 · 2030 년까지 EU 역내 태양광 패널 제조 역량 30기가와트 (GW) 달성\\n현황· 현재 EU 역내 폴리실리콘 제조 역량은 23GW, 잉곳 및 웨이퍼 2GW, 태양 전지 1GW, 태양\\n전지 모듈 9GW 수준\\n· EU 기업들은 2030 년까지 30GW 의 웨이퍼 및 60GW 모듈 어셈블리 능력 확보를 위해 관련 \\n제조 역량을 확대중\\n· 폴리실리콘의 경우 , 작년 노르웨이 폴리실리콘 제조업체가 조업을 중단하는 등 오히려 제조 역량이 \\n감소하고 있는 상황\\n장애\\n요소· 고순도 폴리실리콘 , 잉곳 가공 및 웨이퍼 제작 , 태양전지 모듈 어셈블리 및 인버터 , 그리드 연\\n계 등의 對중국 의존도가 매우 높음 (특히 , 잉곳 및 웨이퍼의 경우 EU 전체 수요의 90% 를 중\\n국에 의존 )\\n· 중국 제품과의 가격경쟁 , 美 인플레이션 감축법 (IRA) 에 따른 관련 투자 유출 우려 등이 장애요\\n소로 지적\\n전망· 태양광 관련 모든 단계의 가치사슬이 EU 역내에 존재하나 , 2030 년 목표 달성을 위해서는 단\\n계별 제조 역량 확대를 위한 프레임워크 및 지원이 필요하다는 분석 \\n풍력\\n터빈목표 · 2030 년까지 EU 역내 연간 36GW 의 풍력터빈 제조 역량 확보\\n현황· 현재 EU 풍력터빈 제조 약량은 연간 20~25GW 수준 . 2022 년 EU 역내 16GW 의 풍력 발전 \\n역량이 확대되었으며 , 99% 의 터빈이 EU 역내에서 제작됨 . 다만 , 이는 동 법이 제시한 목표의 \\n절반에 그치는 수준\\n장애\\n요소· 현재 EU 역내 수요를 충당할 풍력 터빈 제조 역량을 보유하고 있는 것으로 평가되나 , 최근 크로\\n아티아 , 이탈리아 등 회원국이 중국 업체와 풍력 터빈 제작을 계약하는 등 중국 업체에 대한 의존\\n도가 확대되고 있는 상황\\n전망· 업계는 풍력 터빈의 경우 기술 혁신 보다는 제조 역량 확대가 핵심이며 , 2030 년 목표 달성은',\n",
       "  '합의가\\x00필요한\\x00규정\\x00자체\\x00수정\\x00절차\\x00선호\\n1)\\x0020개의\\x00EU\\x00GOVSATCOM,\\x00우주,\\x00연합안보연결,\\x00호라이즌\\x002020,\\x00호라이즌\\x00유럽,\\x00유라톰,\\x00운송,\\x00네트워크,\\x00통신,\\x00연결,\\x00디지털,\\x00방산개\\n발·연구·금융·공공조달,\\x00화공,\\x00보건,\\x00EU\\x00공동관심\\x00프로젝트\\x00및\\x00프로그램\\n2)\\x00첨단반도체,\\x00AI,\\x00양자기술,\\x00생명공학,\\x00연결·디지털,\\x00첨단감지/센싱,\\x00우주,\\x00에너지,\\x00로보틱스,\\x00첨단소재,\\x00핵심의약품,\\x00금융시스템\\x00등\\nkba-europe.com, eu.kita.net\\n브뤼셀지부\\x00(kba@kba-europe.com)｢EU\\x00경제안보전략\\x00 이니셔티브 ｣ 입법\\x00현황\\n2024.06.05',\n",
       "  '- 원자력은 전략 탄소중립기술에는 제외되었으나 , 탄소중립기술에는 조건부로 , 즉 “연료 주기 , 소형 모\\n듈식 원자로 및 관련 최고등급연료에서 발생된 폐기물을 최소화하면서 핵공정에서 에너지를 생산하는 \\n첨단기술 ’(advanced technologies to produce energy from nuclear processes with \\nminimal waste from the fuel cycle, small modular reactors, and related best-in-class \\nfuels) 이 포함\\n1) EU Commission, Communication: A Green Deal Industrial Plan for the Net-Zero Age, 2023.2.1.\\n2) EU Commission, Annexes to the proposal for a Regulation of the European Parliament and of the Council \\non establishing a framework of measures for strengthening Europe’s net-zero technology products \\nmanufacturing ecosystem',\n",
       "  '- 3 -\\n6소비자 인센티브 지급 및 숙련인력 육성\\n ㅇ 회원국 , 지역 , 공공법에 적용받는 기관은 탄소중립기술 최종제품의 구매 촉진 지원책을 도입할 수 있고 \\n인센티브는 탄소중립 최종제품 소비자가격의 5%를 초과할 수 없음\\n ㅇ 유럽탄소중립산업 아카데미 (European Net-Zero Industry Academy) 를 설립 , 탄소중립기술 개발 , 생산 , \\n운영 , 재활용 등과 관련된 교육 훈련 프로그램 개발 및 운영 , 자격증 등을 설계\\n7탄소중립플랫폼 (Net-Zero Europe Platform) 설립\\n ㅇ 탄소중립 기술분야 투자 , 제조목표 달성을 위한 회원국의 프로젝트 조정 , 국가간 소통 증진 , 제3국과의 \\n파트너쉽 구축 , 기술인력 양성 등의 전반적 모니터링과 리포팅을 위한 플랫폼 도입\\n8 탄소중립 규제샌드박스 (Net-Zero Regulatory Sandbox)\\n ㅇ EU 회원국 또는 복수 회원국 간 탄소중립 규제샌드박스를 도입 , 규제당국의 감독하에 혁신 기술 및 상\\n품의 시장 출시 전 기술 개발을 지원하고 , 특히 중소기업에 대해 우선권 부여\\n3. 평가 및 시사점\\n ㅇ 미국 IRA와 달리 공공조달 내 ‘지속가능성 및 회복력 기여 ’평가 항목의 역외산에 대한 차별적인 조항이\\n나 현지 조달 의무화 조건은 포함되지 않음\\n  - ‘단일 국가에 대한 EU의 의존도 65%’ 기준에 해당되는 국가는 중국 , 터키 등 일부 국가에 한정될 것\\n으로 보여 영향은 제한적\\n  - 다만 , 가격 차이가 10% 이상 나는 경우 , ‘지속가능성 및 회복력 기여 ’ 평가 기준의 예외를 받을 수 \\n있어 , 실질적으로 중국 저가 상품과의 가격 격차를 쉽게 극복하기는 어려울 전망\\n ㅇ 또한 소비자 인센티브 부분 역시 8가지 탄소중립기술 최종상품에 제한되며 , 역외산 차별적인 조항은 포\\n함되지 않음\\n ㅇ 탄소중립 전략 프로젝트에 포함된 CO 2 주입 목표 (2030 까지 5천만 톤) 설정으로 , 석유 및 천연가스 생\\n산기업에 대한 책임이 강화',\n",
       "  '6장. 혁신26조 탄소중립 규제샌드 박스\\n27조 중소기업을 위한 조치\\n7장. 거버넌스28조 탄소중립 유럽 플랫폼 설립 및 과업\\n29조 탄소중립 유럽 플랫폼 구조 및 기능\\n30조 국가 에너지 ·기후계획과의 조율\\n8장 모니터링 31조 모니터링\\n9장 최종조항32조 권한 위임\\n33조 위임권 행사\\n34조 위원회 절차\\n35조 평가\\n36조 기밀정보 처리\\n37조 Regulation (EU) 2018/1724(Single Digital Gateway) 개정\\n38조 발효 및 시행',\n",
       "  '장애\\n요소· 현재 EU 역내 수요를 충당할 풍력 터빈 제조 역량을 보유하고 있는 것으로 평가되나 , 최근 크로\\n아티아 , 이탈리아 등 회원국이 중국 업체와 풍력 터빈 제작을 계약하는 등 중국 업체에 대한 의존\\n도가 확대되고 있는 상황\\n전망· 업계는 풍력 터빈의 경우 기술 혁신 보다는 제조 역량 확대가 핵심이며 , 2030 년 목표 달성은 \\n충분히 가능하지만 유럽투자은행 (EIB) 및 혁신기금 (Innovation Fund) 을 통한 재정적 지원이 \\n불가결하다고 평가\\n히트\\n펌프목표 · 2030 년까지 연간 31GW 의 히트펌프 제조 역량 확보가 목표\\n현황· 현재 EU 역내 생산 역량은 약 22GW 으로 이는 EU 전체 수요의 60% 차지\\n· 對중국 수입 의존도 약 30%\\n장애\\n요소· 히트펌프 생산을 위한 숙련 기술자 확보\\n· 향후 규제가 도입될 F-gases 의 지속적인 사용 가능성 여부\\n전망· 최근 급증하고 있는 히트펌프 수요 충족을 위해 업계가 제조 역량을 확대중이며 제시된 목표는 \\n업계의 전망치보다 50% 정도 낮아 목표 달성이 가능할 것으로 전망\\n전기\\n분해\\n장치목표 · 2030 년까지 수소생산을 위한 전기분해 역량 100GW 수준으로 확대\\n현황· 현재 EU 역내 전기분해 역량은 170 메가와트 수준에 불과하며 , 현재 EU의 제조 역량은 전체 \\n수요의 25%, 중국 의존도는 55% 수준\\n장애\\n요소\\n및\\n전망· 업계는 복잡한 허가절차 , 역내 가치사슬 미비 , 숙련 기술자 , 핵심원자재 부족 및 복잡한 자금조\\n달 접근성 등의 개선 없이 2030 년까지 100GW 전기분해 역량 확보는 쉽지 않을 것으로 평가',\n",
       "  '한다 .\\n  이를 위해 EU는 8개의 탄소중립 전략기술 (태양광 발전 및 태양열 , 육상 및 해상 풍력발전 , 배터리 및 \\n저장 , 히트펌프 및 지열에너지 , 전해조 및 수소연료전지 , 지속가능 바이오가스 및 바이오메탄 , 탄소 포집 \\n저장 (CCUS), 그리드 )을 지정했으며 역내 제조 역량 향상에 기여할 수 있다고 판단되면 ‘탄소중립 전\\n략 프로젝트 ’로 선정하여 관련 행정 및 허가 기간 등을 혁신적으로 단축할 계획이다 . 또한 공공조달\\n시 평가항목에 지속가능성 및 회복력 기여도를 포함하여 EU의 환경 , 노동기준 , 공급망 다각화 노력을 \\n준수하는 사업자에 유리한 입찰환경을 조성한다는 입장이다 .\\n  EU의 역내 탄소중립 산업 관련 공급망 기업을 육성하기 위한 노력이 강화될 것으로 예상되므로 관\\n련 우리 기업은 동 법안을 예의주시하여 EU 진출의 기회를 모색하고 , 우리 정부도 탄소중립 산업 육\\n성을 위한 정책을 재정비할 필요가 있다 .',\n",
       "  '한다 .\\n  이를 위해 EU는 8개의 탄소중립 전략기술 (태양광 발전 및 태양열 , 육상 및 해상 풍력발전 , 배터리 및 \\n저장 , 히트펌프 및 지열에너지 , 전해조 및 수소연료전지 , 지속가능 바이오가스 및 바이오메탄 , 탄소 포집 \\n저장 (CCUS), 그리드 )을 지정했으며 역내 제조 역량 향상에 기여할 수 있다고 판단되면 ‘탄소중립 전\\n략 프로젝트 ’로 선정하여 관련 행정 및 허가 기간 등을 혁신적으로 단축할 계획이다 . 또한 공공조달\\n시 평가항목에 지속가능성 및 회복력 기여도를 포함하여 EU의 환경 , 노동기준 , 공급망 다각화 노력을 \\n준수하는 사업자에 유리한 입찰환경을 조성한다는 입장이다 .\\n  EU의 역내 탄소중립 산업 관련 공급망 기업을 육성하기 위한 노력이 강화될 것으로 예상되므로 관\\n련 우리 기업은 동 법안을 예의주시하여 EU 진출의 기회를 모색하고 , 우리 정부도 탄소중립 산업 육\\n성을 위한 정책을 재정비할 필요가 있다 .',\n",
       "  '1. 도입 배경\\n2021.12.8, EU집행위는 제3국의 경제적 위협 으로부터 유럽연합 (EU) 및 회원국을 보호하기 위해 통상위협대응 규정 (안)을 \\n발표했습니다 . EU집행위는 EU가 제3국의 경제적 위협에 신속히 대응하고 필요시 최후의 수단으로 대응조치\\n(countermeasure) 를 취하여 EU와 회원국의 경제적 이익을 보호 하기 위해 본 규정 (안)을 준비했습니다 . (제1조) \\n본 규정 (안)은 지정학적 긴장이 고조되며 , 통상이 점점 더 무기화되어 가고 있는 시점에 EU가 통상 정책을 강화하고 , 제3국의 \\n경제적 위협에 효과적으로 대응하기 위한 해결방안으로 제시한 것입니다 . 2018.3 미국이 철강 232 조 관세를 부과함에 따라 \\nEU는 직접적인 피해를 입었습니다 . 또한 , 2019. 12 세계무역기구 TO) 상소기구가 마비되어 WTO 분쟁해결의 효율성이 약 없\\n게 되어 , EU는 경제적 위협에 더욱 취약해졌습니다 .\\n본 규정 (안)의 도입은 2019.12 집행위가 통상권한집행 규정 (Trade Enforcement Regulation) 을 개정하기 위한 입법안을 \\n제시한 후 처음 논의가 되었습니다 . 당시 유럽의회는 경제적 위협에 대한 우려를 제기했지만 , 개정된 통상권한집행 규정은 EU가 \\n경제적 위협에 대응할 수 있는 방법을 규정하지 않았습니다 . 그 후속조치로 집행위 , 의회 , 이사회는 2021 년 말 까지 집행위가 경\\n제적 위협에 대응하기 위한 별도의 입법안을 마련하겠다는 것을 명시한 공동 선언문을 채택했습니다 .\\n그 결과 이번에 발표된 통상위협대응 규정 (안)은 제3국의 경제적 위협에 대응하기 위해 EU가 취할 조치를 2단계로 명시하고 있\\n습니다 . 첫째 , 집행위는 제3국의 경제적 위협을 분석하여 , 그 위협의 유무를 공식적으로 결정한 후, 경제적 위협이 중단될 수 있\\n도록 제3국과 협의를 합니다 . 둘째 , 제3국과의 협의가 경제적 위협을 중단하는 결과를 가져오지 못할 경우 , 최후의 수단으로 EU',\n",
       "  '- 6 -                                      *참고:Politico, ‘A reality check on the EU’s green industry ambitions’배터리목표 · 2030 년까지 역내 전기차 배터리 수요의 90% 에 해당하는 550GWh 배터리 제조 역량 확보\\n현황· 현재 EU 역내 배터리 제조역량은 77GWh 수준으로 중국 등 아시아 경쟁상대에 비해 매우 낮은 \\n수준으로 평가\\n전망· 업계는 목표 달성이 대체로 가능한 수준으로 평가하지만 , 이를 위해 회복력 있는 공급망 , 저렴\\n한 에너지 가격 및 숙련 기술자 등 전체 배터리 가치사슬의 리쇼어링이 필요\\n· 리튬 및 망간 등 핵심원자재의 공급 확보가 필수',\n",
       "  '장애\\n요소· 현재 EU 역내 수요를 충당할 풍력 터빈 제조 역량을 보유하고 있는 것으로 평가되나 , 최근 크로\\n아티아 , 이탈리아 등 회원국이 중국 업체와 풍력 터빈 제작을 계약하는 등 중국 업체에 대한 의존\\n도가 확대되고 있는 상황\\n전망· 업계는 풍력 터빈의 경우 기술 혁신 보다는 제조 역량 확대가 핵심이며 , 2030 년 목표 달성은 \\n충분히 가능하지만 유럽투자은행 (EIB) 및 혁신기금 (Innovation Fund) 을 통한 재정적 지원이 \\n불가결하다고 평가\\n히트\\n펌프목표 · 2030 년까지 연간 31GW 의 히트펌프 제조 역량 확보가 목표\\n현황· 현재 EU 역내 생산 역량은 약 22GW 으로 이는 EU 전체 수요의 60% 차지\\n· 對중국 수입 의존도 약 30%\\n장애\\n요소· 히트펌프 생산을 위한 숙련 기술자 확보\\n· 향후 규제가 도입될 F-gases 의 지속적인 사용 가능성 여부\\n전망· 최근 급증하고 있는 히트펌프 수요 충족을 위해 업계가 제조 역량을 확대중이며 제시된 목표는 \\n업계의 전망치보다 50% 정도 낮아 목표 달성이 가능할 것으로 전망\\n전기\\n분해\\n장치목표 · 2030 년까지 수소생산을 위한 전기분해 역량 100GW 수준으로 확대\\n현황· 현재 EU 역내 전기분해 역량은 170 메가와트 수준에 불과하며 , 현재 EU의 제조 역량은 전체 \\n수요의 25%, 중국 의존도는 55% 수준\\n장애\\n요소\\n및\\n전망· 업계는 복잡한 허가절차 , 역내 가치사슬 미비 , 숙련 기술자 , 핵심원자재 부족 및 복잡한 자금조\\n달 접근성 등의 개선 없이 2030 년까지 100GW 전기분해 역량 확보는 쉽지 않을 것으로 평가',\n",
       "  '* 참고 : <탄소중립산업법 조항 개요>\\n*참고:한국무역협회 , ‘EU 탄소중립산업법 주요 내용과 시사점 ’\\n한국무역협회 브뤼셀지부 \\n/ KBA Europe 사무국Avenue Louise 66, 1050 Brussels, Belgium\\nTel   +32 2 639 0990  / Homepage   kba-europe.com  \\n Email   kba@kba-europe.com\\n   * EU Trade Brief 및 KBA 뉴스레터 구독 문의는 kba@kba-europe.com 으로 메일 주시기 바랍니다 .구분 항목\\n1장. 주제, 범위, 정의1조 주제\\n2조 범위\\n3조 정의\\n1절. 간소화 및 허가 과정\\n2장. 탄소중립 기술 \\n제조를 위한 여건 \\n마련4조 행정창구 일원화\\n5조 온라인 정보접근\\n6조 허가 절차 기간\\n7조 환경영향평가와 허가\\n8조 계획\\n9조 UNECE( 유엔-유럽 경제위원회 ) 협약에의 적용가능성\\n2절. 탄소중립 전략 프로젝트\\n10조 선택기준\\n11조 적용과 승인\\n12조 탄소중립 전략 프로젝트 우선 순위\\n13조 탄소중립 전략 프로젝트에 대한 허가 절차 기간 \\n14조 시행 촉진\\n15조 자금조달\\n3장. 탄소추출 역량16조 탄소추출 역량 목표\\n17조 탄소 저장역량데이터 투명성\\n18조 석유 및 가스생산자의 기여\\n19조 공공 조달 절차의 지속 가능성 및 탄력성 기여\\n4장. 시장접근20조 재생에너지 배치 관련 경매 지침\\n21조 공공개입 형태\\n22조 시장 이니셔티브에 대한 접근 조정\\n5장. 숙련인력\\n접근성23조 유럽 탄소중립산업 아카데미\\n24조 공공조달절차에서의 탄소중립 기여도 평가\\n25조 탄소중립 유럽플랫폼과 기술\\n6장. 혁신26조 탄소중립 규제샌드 박스\\n27조 중소기업을 위한 조치\\n7장. 거버넌스28조 탄소중립 유럽 플랫폼 설립 및 과업\\n29조 탄소중립 유럽 플랫폼 구조 및 기능\\n30조 국가 에너지 ·기후계획과의 조율\\n8장 모니터링 31조 모니터링\\n9장 최종조항32조 권한 위임\\n33조 위임권 행사\\n34조 위원회 절차\\n35조 평가\\n36조 기밀정보 처리',\n",
       "  '- 5 -[EU 탄소중립산업 주요 기술의 2030 제조역량 목표 , 현황 , 장애요소 및 전망 ]\\n산업  항목 내 용\\n태양광\\n패널목표 · 2030 년까지 EU 역내 태양광 패널 제조 역량 30기가와트 (GW) 달성\\n현황· 현재 EU 역내 폴리실리콘 제조 역량은 23GW, 잉곳 및 웨이퍼 2GW, 태양 전지 1GW, 태양\\n전지 모듈 9GW 수준\\n· EU 기업들은 2030 년까지 30GW 의 웨이퍼 및 60GW 모듈 어셈블리 능력 확보를 위해 관련 \\n제조 역량을 확대중\\n· 폴리실리콘의 경우 , 작년 노르웨이 폴리실리콘 제조업체가 조업을 중단하는 등 오히려 제조 역량이 \\n감소하고 있는 상황\\n장애\\n요소· 고순도 폴리실리콘 , 잉곳 가공 및 웨이퍼 제작 , 태양전지 모듈 어셈블리 및 인버터 , 그리드 연\\n계 등의 對중국 의존도가 매우 높음 (특히 , 잉곳 및 웨이퍼의 경우 EU 전체 수요의 90% 를 중\\n국에 의존 )\\n· 중국 제품과의 가격경쟁 , 美 인플레이션 감축법 (IRA) 에 따른 관련 투자 유출 우려 등이 장애요\\n소로 지적\\n전망· 태양광 관련 모든 단계의 가치사슬이 EU 역내에 존재하나 , 2030 년 목표 달성을 위해서는 단\\n계별 제조 역량 확대를 위한 프레임워크 및 지원이 필요하다는 분석 \\n풍력\\n터빈목표 · 2030 년까지 EU 역내 연간 36GW 의 풍력터빈 제조 역량 확보\\n현황· 현재 EU 풍력터빈 제조 약량은 연간 20~25GW 수준 . 2022 년 EU 역내 16GW 의 풍력 발전 \\n역량이 확대되었으며 , 99% 의 터빈이 EU 역내에서 제작됨 . 다만 , 이는 동 법이 제시한 목표의 \\n절반에 그치는 수준\\n장애\\n요소· 현재 EU 역내 수요를 충당할 풍력 터빈 제조 역량을 보유하고 있는 것으로 평가되나 , 최근 크로\\n아티아 , 이탈리아 등 회원국이 중국 업체와 풍력 터빈 제작을 계약하는 등 중국 업체에 대한 의존\\n도가 확대되고 있는 상황\\n전망· 업계는 풍력 터빈의 경우 기술 혁신 보다는 제조 역량 확대가 핵심이며 , 2030 년 목표 달성은',\n",
       "  \"4) EU Commission, state_aid_legislation_GBER_amendment_2023_EC_communication, 2023.3.9.\\n5) EU Commission, Investment needs assessment and funding availabilities to strengthen EU's Net-Zero \\ntechnology manufacturing capacity, 2023.3.23.\",\n",
       "  '6장. 혁신26조 탄소중립 규제샌드 박스\\n27조 중소기업을 위한 조치\\n7장. 거버넌스28조 탄소중립 유럽 플랫폼 설립 및 과업\\n29조 탄소중립 유럽 플랫폼 구조 및 기능\\n30조 국가 에너지 ·기후계획과의 조율\\n8장 모니터링 31조 모니터링\\n9장 최종조항32조 권한 위임\\n33조 위임권 행사\\n34조 위원회 절차\\n35조 평가\\n36조 기밀정보 처리\\n37조 Regulation (EU) 2018/1724(Single Digital Gateway) 개정\\n38조 발효 및 시행',\n",
       "  '- 5 -[EU 탄소중립산업 주요 기술의 2030 제조역량 목표 , 현황 , 장애요소 및 전망 ]\\n산업  항목 내 용\\n태양광\\n패널목표 · 2030 년까지 EU 역내 태양광 패널 제조 역량 30기가와트 (GW) 달성\\n현황· 현재 EU 역내 폴리실리콘 제조 역량은 23GW, 잉곳 및 웨이퍼 2GW, 태양 전지 1GW, 태양\\n전지 모듈 9GW 수준\\n· EU 기업들은 2030 년까지 30GW 의 웨이퍼 및 60GW 모듈 어셈블리 능력 확보를 위해 관련 \\n제조 역량을 확대중\\n· 폴리실리콘의 경우 , 작년 노르웨이 폴리실리콘 제조업체가 조업을 중단하는 등 오히려 제조 역량이 \\n감소하고 있는 상황\\n장애\\n요소· 고순도 폴리실리콘 , 잉곳 가공 및 웨이퍼 제작 , 태양전지 모듈 어셈블리 및 인버터 , 그리드 연\\n계 등의 對중국 의존도가 매우 높음 (특히 , 잉곳 및 웨이퍼의 경우 EU 전체 수요의 90% 를 중\\n국에 의존 )\\n· 중국 제품과의 가격경쟁 , 美 인플레이션 감축법 (IRA) 에 따른 관련 투자 유출 우려 등이 장애요\\n소로 지적\\n전망· 태양광 관련 모든 단계의 가치사슬이 EU 역내에 존재하나 , 2030 년 목표 달성을 위해서는 단\\n계별 제조 역량 확대를 위한 프레임워크 및 지원이 필요하다는 분석 \\n풍력\\n터빈목표 · 2030 년까지 EU 역내 연간 36GW 의 풍력터빈 제조 역량 확보\\n현황· 현재 EU 풍력터빈 제조 약량은 연간 20~25GW 수준 . 2022 년 EU 역내 16GW 의 풍력 발전 \\n역량이 확대되었으며 , 99% 의 터빈이 EU 역내에서 제작됨 . 다만 , 이는 동 법이 제시한 목표의 \\n절반에 그치는 수준\\n장애\\n요소· 현재 EU 역내 수요를 충당할 풍력 터빈 제조 역량을 보유하고 있는 것으로 평가되나 , 최근 크로\\n아티아 , 이탈리아 등 회원국이 중국 업체와 풍력 터빈 제작을 계약하는 등 중국 업체에 대한 의존\\n도가 확대되고 있는 상황\\n전망· 업계는 풍력 터빈의 경우 기술 혁신 보다는 제조 역량 확대가 핵심이며 , 2030 년 목표 달성은',\n",
       "  '- 2 -\\n3 탄소중립 전략 프로젝트 (Net-zero Strategic Project)\\n \\n ㅇ 8개 핵심 탄소중립기술의 역내 제조역량 및 EU 에너지시스템 회복력 강화에 기여하는 프로젝트와 역\\n내 소재 CO 2 저장 프로젝트*를 `탄소중립 전략 프로젝트 (Net-zero Strategic Project)’ 로 선정\\n     * EU는 2030 년까지 역내 , 배타적경제구역 및 UN해양법협약 (UNCLOS) 상의 대륙붕에 위치한 저장소에서 연간 5천만 톤의 \\nCO2 포집 ·저장 역량 확보 목표를 설정\\n       \\n   - 특히 CO 2 저장 프로젝트의 경우 , 각 회원국은 잠재 CO 2 저장소 , CO 2 포집 프로젝트 현황 등 데이터\\n를 수집 , 집행위에 보고해야 하며 , \\n   - 천연가스 및 원유 채굴권을 가진 기업들에는 이산화탄소 주입 ·저장 가능 목표량 설정 , 세부 목표달성 \\n계획 (CO 2 포집 프로젝트 개발 등) 등의 제출 의무를 부여\\n ㅇ 전략 프로젝트는 부지건설 , 설계 및 인프라 조성 같은 허가가 최우선적으로 이루어져야 하며 행정처리 , \\n민원 등을 지원\\n4규제완화\\n ㅇ (One Stop Shop)  법안 발효 3개월 이내 회원국은 탄소중립기술제조 및 전략 프로젝트 허가를 담당\\n할 1개 기관을 선정 , 동 기관이 단일창구 역할 수행\\n ㅇ (허가기간 단축 ) 신규 탄소중립 전략 프로젝트 및 기타 프로젝트에 대한 허가 기간을 최대 18개월 , 기\\n존 제조시설을 확장할 시에는 신규 허가 기간의 절반으로 단축\\n    * 연간 제조역량을 GW로 표시할 수 없는 경우\\n5공공조달\\n ㅇ 공공조달 , 재생에너지 생산 및 소비진작을 위한 입찰 진행시 가격 , 성능 외에 지속가능성 및 회복력 기\\n여도 (sustainability and resilience contribution)*를 평가항목에 포함\\n   * (a) 적용되는 법안에서 요구하는 환경 지속가능성 최소 기준 충족',\n",
       "  \"- 이미 존재하고 있는 Recovery and Resilience Facility, InvestEU 등의 프로그램과 Innovation \\nFund 가 탄소중립기술제조 프로젝트에 활용될 것으로 보임\\n ㅇ EU는 별도 자료 5)를 통해 동법안에서 제시한 목표 달성을 위해 2023 년부터 2030 년까지 약 920 억 유\\n로의 투자가 필요할 것으로 추산\\n   - 현재와 같은 역외국과의 교역현황 가정시 520 억 유로 , 수입의존 배제시 1천 190 억 유로 규모 예상\\n ㅇ 폴란드 , 헝가리 등에 진출 , 제조시설을 운영중인 우리나라 배터리 기업의 경우 , 추가 시설 확장 시에 \\n‘탄소중립 전략 프로젝트 ’ 선정 및 ‘한시적 위기 및 전환 프레임워크 ’에 따른 보조금 혜택을 누릴 수 \\n있을 것으로 보여 상세 모니터링 필요\\n  - 다만 , EU의 총 수요 중 65% 이상을 중국에 의존하는 탄소중립기술의 사용 여부 등에 대해 향후 철저\\n한 관리가 필요\\n o  동 법안에서 제시한 주요 기술의 2030 제조역량 목표 및 현황 분석시 , 히트펌프를 제외하고는 목표달\\n성에 상당한 어려움이 예상되며 , 이번에 발표된 보조금 개편안과 탄소중립산업법이 목표 달성에 확실한 \\n지원책이 되기에는 미흡한 것으로 평가\\n3) EU Commission, Communication from the Commission Temporary Crisis Framework for State Aid \\nmeasures to support the economy following the aggression against Ukraine by Russia, 2023.3.9.\\n4) EU Commission, state_aid_legislation_GBER_amendment_2023_EC_communication, 2023.3.9.\\n5) EU Commission, Investment needs assessment and funding availabilities to strengthen EU's Net-Zero\",\n",
       "  '■\\x00(이사회\\x00입장\\x00주요\\x00내용)\\x00이사회는\\x00아래와\\x00같이\\x00입장을\\x00채택(5/30)3)\\n\\x00\\x00\\x00\\x00❶\\x00수출통제\\x00대상\\x00수정\\n\\x00\\x00\\x00\\x00-\\x00EU는\\x00현재\\x00‘EU\\x00이중용도*\\x00기술\\x00수출통제4)’를\\x00시행\\x00중이며,\\x00부록1에서\\x00이중용도\\x00사용\\x00품목을\\x00\\n통해\\x00적용대상을\\x00규정\\n \\x00\\x00\\x00\\x00\\x00\\x00\\x00*\\x00민간\\x00및\\x00군사\\x00용도로\\x00모두\\x00사용할\\x00수\\x00있는\\x00상품,\\x00소프트웨어\\x00및\\x00기술\\n3)\\x00Council\\x00of\\x00the\\x00European\\x00Union,\\x00Council\\x00Conclusions\\x00on\\x00the\\x00White\\x00Paper\\x00on\\x00Export\\x00Controls,\\x002024.5.30.\\n4)\\x00Official\\x00Journal,\\x00REGULATION\\x00setting\\x00up\\x00a\\x00Union\\x00regime\\x00for\\x00the\\x00control\\x00of\\x00exports,\\x00brokering,\\x00technical\\x00assistance,\\x00\\ntransit\\x00and\\x00transfer\\x00of\\x00dual-use\\x00items,\\x002021.6.11.',\n",
       "  '1◆ EU\\x00경제안보전략\\x00 이니셔티브\\n▶\\x00EU\\x00집행위는\\x00역내\\x00핵심\\x00산업에\\x00대한\\x00공급망\\x00회복,\\x00첨단\\x00기술\\x00확보\\x00및\\x00이중\\x00용도\\x00기술\\x00보호를\\x00위한\\x00\\n경제안보전략\\x00이니셔티브*를\\x00발표(`24.1)\\n\\x00\\x00\\x00\\x00\\x00*\\x00세부내용은\\x00EU\\x00통상정보\\x00‘EU\\x00경제안보전략\\x00이니셔티브’\\x00참고\\n▶\\x005가지\\x00이니셔티브(①FDI\\x00심사\\x00제도\\x00개정/②해외투자\\x00백서/③수출통제\\x00백서/④잠재적\\x00이중용도\\x00\\n기술\\x00R&D\\x00지원\\x00강화\\x00백서/⑤연구보안\\x00강화)\\x00관련\\x00기존\\x00규정\\x00강화와\\x00새로운\\x00규정\\x00도입\\x00목표\\n\\uf000 FDI 심사 제도 \\n■\\x00(개요)\\x00모든\\x00회원국의\\x00FDI\\x00심사\\x00제도\\x00의무화를\\x00위해\\x00통일된\\x00심사\\x00최소\\x00요건과\\x00심사\\x00대상을\\x00\\n규정하고\\x00회원국\\x00간\\x00심사\\x00정보\\x00및\\x00의견\\x00공유\\x00시스템을\\x00구축\\x00\\n■\\x00(진행\\x00상황)\\x00회원국\\x00간\\x00현재\\x00제3,\\x004조(Art)에\\x00대해\\x00검토\\x00중으로\\x00논의\\x00진행\\x00속도가\\x00느린\\x00편.\\x00회의당\\x00\\n2개\\x00조항에\\x00대해\\x00논의가\\x00가능하고,\\x006월\\x00중\\x002개의\\x00회의가\\x00예정되어\\x00있어\\x00벨기에\\x00의장국\\x00임기\\x00내\\x00\\n이사회\\x00입장\\x00확정은\\x00어려울\\x00것으로\\x00전망\\n■\\x00(입법\\x00일정)\\x00수석\\x00보고관(leading\\x00rapporteur)\\x00임명은\\x0011월\\x00경으로\\x00예상.\\x003자\\x00협의가\\x00`25년\\x00안에\\x00\\n성사되고\\x00당해\\x00안에\\x00최종\\x00합의\\x00도달\\x00시,\\x0015개월의\\x00전환\\x00기간\\x00후\\x00`27년\\x00시행\\x00예상\\n■\\x00(주요\\x00논점)\\x00필수\\x00심사\\x00대상\\x00변경시\\x00필요\\x00절차에\\x00대해\\x00논의\\n\\x00\\x00\\x00\\x00-\\x00필수\\x00심사\\x00대상은\\x00부록1(EU\\x00공동관심\\x00프로그램/프로젝트1))과\\x00부록2(경제안보에\\x00영향을\\x00미치는\\x00핵심\\x00\\n기술2))에서\\x00규정\\n\\x00\\x00\\x00\\x00-\\x00심사\\x00대상\\x00변경시,\\x00집행위\\x00단독으로\\x00작성·수정이\\x00가능한\\x00위임법보다\\x00집행위,\\x00의회,\\x00이사회의\\x00\\n합의가\\x00필요한\\x00규정\\x00자체\\x00수정\\x00절차\\x00선호\\n1)\\x0020개의\\x00EU\\x00GOVSATCOM,\\x00우주,\\x00연합안보연결,\\x00호라이즌\\x002020,\\x00호라이즌\\x00유럽,\\x00유라톰,\\x00운송,\\x00네트워크,\\x00통신,\\x00연결,\\x00디지털,\\x00방산개\\n발·연구·금융·공공조달,\\x00화공,\\x00보건,\\x00EU\\x00공동관심\\x00프로젝트\\x00및\\x00프로그램',\n",
       "  '1◆ EU\\x00경제안보전략\\x00 이니셔티브\\n▶\\x00EU\\x00집행위는\\x00역내\\x00핵심\\x00산업에\\x00대한\\x00공급망\\x00회복,\\x00첨단\\x00기술\\x00확보\\x00및\\x00이중\\x00용도\\x00기술\\x00보호를\\x00위한\\x00\\n경제안보전략\\x00이니셔티브*를\\x00발표(`24.1)\\n\\x00\\x00\\x00\\x00\\x00*\\x00세부내용은\\x00EU\\x00통상정보\\x00‘EU\\x00경제안보전략\\x00이니셔티브’\\x00참고\\n▶\\x005가지\\x00이니셔티브(①FDI\\x00심사\\x00제도\\x00개정/②해외투자\\x00백서/③수출통제\\x00백서/④잠재적\\x00이중용도\\x00\\n기술\\x00R&D\\x00지원\\x00강화\\x00백서/⑤연구보안\\x00강화)\\x00관련\\x00기존\\x00규정\\x00강화와\\x00새로운\\x00규정\\x00도입\\x00목표\\n\\uf000 FDI 심사 제도 \\n■\\x00(개요)\\x00모든\\x00회원국의\\x00FDI\\x00심사\\x00제도\\x00의무화를\\x00위해\\x00통일된\\x00심사\\x00최소\\x00요건과\\x00심사\\x00대상을\\x00\\n규정하고\\x00회원국\\x00간\\x00심사\\x00정보\\x00및\\x00의견\\x00공유\\x00시스템을\\x00구축\\x00\\n■\\x00(진행\\x00상황)\\x00회원국\\x00간\\x00현재\\x00제3,\\x004조(Art)에\\x00대해\\x00검토\\x00중으로\\x00논의\\x00진행\\x00속도가\\x00느린\\x00편.\\x00회의당\\x00\\n2개\\x00조항에\\x00대해\\x00논의가\\x00가능하고,\\x006월\\x00중\\x002개의\\x00회의가\\x00예정되어\\x00있어\\x00벨기에\\x00의장국\\x00임기\\x00내\\x00\\n이사회\\x00입장\\x00확정은\\x00어려울\\x00것으로\\x00전망\\n■\\x00(입법\\x00일정)\\x00수석\\x00보고관(leading\\x00rapporteur)\\x00임명은\\x0011월\\x00경으로\\x00예상.\\x003자\\x00협의가\\x00`25년\\x00안에\\x00\\n성사되고\\x00당해\\x00안에\\x00최종\\x00합의\\x00도달\\x00시,\\x0015개월의\\x00전환\\x00기간\\x00후\\x00`27년\\x00시행\\x00예상\\n■\\x00(주요\\x00논점)\\x00필수\\x00심사\\x00대상\\x00변경시\\x00필요\\x00절차에\\x00대해\\x00논의\\n\\x00\\x00\\x00\\x00-\\x00필수\\x00심사\\x00대상은\\x00부록1(EU\\x00공동관심\\x00프로그램/프로젝트1))과\\x00부록2(경제안보에\\x00영향을\\x00미치는\\x00핵심\\x00\\n기술2))에서\\x00규정\\n\\x00\\x00\\x00\\x00-\\x00심사\\x00대상\\x00변경시,\\x00집행위\\x00단독으로\\x00작성·수정이\\x00가능한\\x00위임법보다\\x00집행위,\\x00의회,\\x00이사회의\\x00\\n합의가\\x00필요한\\x00규정\\x00자체\\x00수정\\x00절차\\x00선호\\n1)\\x0020개의\\x00EU\\x00GOVSATCOM,\\x00우주,\\x00연합안보연결,\\x00호라이즌\\x002020,\\x00호라이즌\\x00유럽,\\x00유라톰,\\x00운송,\\x00네트워크,\\x00통신,\\x00연결,\\x00디지털,\\x00방산개\\n발·연구·금융·공공조달,\\x00화공,\\x00보건,\\x00EU\\x00공동관심\\x00프로젝트\\x00및\\x00프로그램',\n",
       "  '- 6 -                                      *참고:Politico, ‘A reality check on the EU’s green industry ambitions’배터리목표 · 2030 년까지 역내 전기차 배터리 수요의 90% 에 해당하는 550GWh 배터리 제조 역량 확보\\n현황· 현재 EU 역내 배터리 제조역량은 77GWh 수준으로 중국 등 아시아 경쟁상대에 비해 매우 낮은 \\n수준으로 평가\\n전망· 업계는 목표 달성이 대체로 가능한 수준으로 평가하지만 , 이를 위해 회복력 있는 공급망 , 저렴\\n한 에너지 가격 및 숙련 기술자 등 전체 배터리 가치사슬의 리쇼어링이 필요\\n· 리튬 및 망간 등 핵심원자재의 공급 확보가 필수',\n",
       "  '* 참고 : <탄소중립산업법 조항 개요>\\n*참고:한국무역협회 , ‘EU 탄소중립산업법 주요 내용과 시사점 ’\\n한국무역협회 브뤼셀지부 \\n/ KBA Europe 사무국Avenue Louise 66, 1050 Brussels, Belgium\\nTel   +32 2 639 0990  / Homepage   kba-europe.com  \\n Email   kba@kba-europe.com\\n   * EU Trade Brief 및 KBA 뉴스레터 구독 문의는 kba@kba-europe.com 으로 메일 주시기 바랍니다 .구분 항목\\n1장. 주제, 범위, 정의1조 주제\\n2조 범위\\n3조 정의\\n1절. 간소화 및 허가 과정\\n2장. 탄소중립 기술 \\n제조를 위한 여건 \\n마련4조 행정창구 일원화\\n5조 온라인 정보접근\\n6조 허가 절차 기간\\n7조 환경영향평가와 허가\\n8조 계획\\n9조 UNECE( 유엔-유럽 경제위원회 ) 협약에의 적용가능성\\n2절. 탄소중립 전략 프로젝트\\n10조 선택기준\\n11조 적용과 승인\\n12조 탄소중립 전략 프로젝트 우선 순위\\n13조 탄소중립 전략 프로젝트에 대한 허가 절차 기간 \\n14조 시행 촉진\\n15조 자금조달\\n3장. 탄소추출 역량16조 탄소추출 역량 목표\\n17조 탄소 저장역량데이터 투명성\\n18조 석유 및 가스생산자의 기여\\n19조 공공 조달 절차의 지속 가능성 및 탄력성 기여\\n4장. 시장접근20조 재생에너지 배치 관련 경매 지침\\n21조 공공개입 형태\\n22조 시장 이니셔티브에 대한 접근 조정\\n5장. 숙련인력\\n접근성23조 유럽 탄소중립산업 아카데미\\n24조 공공조달절차에서의 탄소중립 기여도 평가\\n25조 탄소중립 유럽플랫폼과 기술\\n6장. 혁신26조 탄소중립 규제샌드 박스\\n27조 중소기업을 위한 조치\\n7장. 거버넌스28조 탄소중립 유럽 플랫폼 설립 및 과업\\n29조 탄소중립 유럽 플랫폼 구조 및 기능\\n30조 국가 에너지 ·기후계획과의 조율\\n8장 모니터링 31조 모니터링\\n9장 최종조항32조 권한 위임\\n33조 위임권 행사\\n34조 위원회 절차\\n35조 평가\\n36조 기밀정보 처리',\n",
       "  '습니다 . 첫째 , 집행위는 제3국의 경제적 위협을 분석하여 , 그 위협의 유무를 공식적으로 결정한 후, 경제적 위협이 중단될 수 있\\n도록 제3국과 협의를 합니다 . 둘째 , 제3국과의 협의가 경제적 위협을 중단하는 결과를 가져오지 못할 경우 , 최후의 수단으로 EU \\n자체의 대응조치를 취하게 됩니다 .\\n2. 핵심 \\n(1)제3국의 경제적 위협에 대한 정의 (제2조)\\n본 규정 (안)은 EU 또는 회원국의 특정 행위의 중단 , 수정 또는 채택에 부당한 영향력을 행사할 목적으로 EU 또는 회원국의 \\n합법적인 주권 행사를 방해하여 , 통상 또는 투자에 영향을 미치는 조치를 적용하거나 적용하겠다고 위협할 경우 적용됩니다 .\\n본 규정은 경제적 위협을 포괄적으로 정의하여 , 집행위가 본 규정을 최대한 활용하여 EU의 통상과 투자를 제한하는 다양한 \\n유형의 위협에 대응할 수 있도록 하였습니다 . \\n예를 들어 , 경제적 위협은 다음과 같은 형태를 취할 수 있습니다 : ① 차별적인 수입 관세 , ② 사업 수행에 필요한 승인의 의도적인 \\n한국무역협회 브뤼셀지부  eireenkang@kita.net 2023.3.24.\\nEU 탄소중립산업법 주요 내용\\n  EU 집행위는 16일(목, 현지시간 ) 탄소중립산업 관련 제조 역량을 강화하고 관련 산업의 역외 유출\\n을 방지하기 위한 탄소중립 산업법 (Net-Zero Industry Act, NZIA) 초안을 발표하였다 . 동 법안은 \\n2030 년까지 전략 탄소중립 산업 제조 역량을 EU 연간 수요의 40% 수준까지 확대하는 것을 목표로 \\n한다 .\\n  이를 위해 EU는 8개의 탄소중립 전략기술 (태양광 발전 및 태양열 , 육상 및 해상 풍력발전 , 배터리 및 \\n저장 , 히트펌프 및 지열에너지 , 전해조 및 수소연료전지 , 지속가능 바이오가스 및 바이오메탄 , 탄소 포집 \\n저장 (CCUS), 그리드 )을 지정했으며 역내 제조 역량 향상에 기여할 수 있다고 판단되면 ‘탄소중립 전',\n",
       "  '- 6 -                                      *참고:Politico, ‘A reality check on the EU’s green industry ambitions’배터리목표 · 2030 년까지 역내 전기차 배터리 수요의 90% 에 해당하는 550GWh 배터리 제조 역량 확보\\n현황· 현재 EU 역내 배터리 제조역량은 77GWh 수준으로 중국 등 아시아 경쟁상대에 비해 매우 낮은 \\n수준으로 평가\\n전망· 업계는 목표 달성이 대체로 가능한 수준으로 평가하지만 , 이를 위해 회복력 있는 공급망 , 저렴\\n한 에너지 가격 및 숙련 기술자 등 전체 배터리 가치사슬의 리쇼어링이 필요\\n· 리튬 및 망간 등 핵심원자재의 공급 확보가 필수',\n",
       "  '* 참고 : <탄소중립산업법 조항 개요>\\n*참고:한국무역협회 , ‘EU 탄소중립산업법 주요 내용과 시사점 ’\\n한국무역협회 브뤼셀지부 \\n/ KBA Europe 사무국Avenue Louise 66, 1050 Brussels, Belgium\\nTel   +32 2 639 0990  / Homepage   kba-europe.com  \\n Email   kba@kba-europe.com\\n   * EU Trade Brief 및 KBA 뉴스레터 구독 문의는 kba@kba-europe.com 으로 메일 주시기 바랍니다 .구분 항목\\n1장. 주제, 범위, 정의1조 주제\\n2조 범위\\n3조 정의\\n1절. 간소화 및 허가 과정\\n2장. 탄소중립 기술 \\n제조를 위한 여건 \\n마련4조 행정창구 일원화\\n5조 온라인 정보접근\\n6조 허가 절차 기간\\n7조 환경영향평가와 허가\\n8조 계획\\n9조 UNECE( 유엔-유럽 경제위원회 ) 협약에의 적용가능성\\n2절. 탄소중립 전략 프로젝트\\n10조 선택기준\\n11조 적용과 승인\\n12조 탄소중립 전략 프로젝트 우선 순위\\n13조 탄소중립 전략 프로젝트에 대한 허가 절차 기간 \\n14조 시행 촉진\\n15조 자금조달\\n3장. 탄소추출 역량16조 탄소추출 역량 목표\\n17조 탄소 저장역량데이터 투명성\\n18조 석유 및 가스생산자의 기여\\n19조 공공 조달 절차의 지속 가능성 및 탄력성 기여\\n4장. 시장접근20조 재생에너지 배치 관련 경매 지침\\n21조 공공개입 형태\\n22조 시장 이니셔티브에 대한 접근 조정\\n5장. 숙련인력\\n접근성23조 유럽 탄소중립산업 아카데미\\n24조 공공조달절차에서의 탄소중립 기여도 평가\\n25조 탄소중립 유럽플랫폼과 기술\\n6장. 혁신26조 탄소중립 규제샌드 박스\\n27조 중소기업을 위한 조치\\n7장. 거버넌스28조 탄소중립 유럽 플랫폼 설립 및 과업\\n29조 탄소중립 유럽 플랫폼 구조 및 기능\\n30조 국가 에너지 ·기후계획과의 조율\\n8장 모니터링 31조 모니터링\\n9장 최종조항32조 권한 위임\\n33조 위임권 행사\\n34조 위원회 절차\\n35조 평가\\n36조 기밀정보 처리',\n",
       "  '한다 .\\n  이를 위해 EU는 8개의 탄소중립 전략기술 (태양광 발전 및 태양열 , 육상 및 해상 풍력발전 , 배터리 및 \\n저장 , 히트펌프 및 지열에너지 , 전해조 및 수소연료전지 , 지속가능 바이오가스 및 바이오메탄 , 탄소 포집 \\n저장 (CCUS), 그리드 )을 지정했으며 역내 제조 역량 향상에 기여할 수 있다고 판단되면 ‘탄소중립 전\\n략 프로젝트 ’로 선정하여 관련 행정 및 허가 기간 등을 혁신적으로 단축할 계획이다 . 또한 공공조달\\n시 평가항목에 지속가능성 및 회복력 기여도를 포함하여 EU의 환경 , 노동기준 , 공급망 다각화 노력을 \\n준수하는 사업자에 유리한 입찰환경을 조성한다는 입장이다 .\\n  EU의 역내 탄소중립 산업 관련 공급망 기업을 육성하기 위한 노력이 강화될 것으로 예상되므로 관\\n련 우리 기업은 동 법안을 예의주시하여 EU 진출의 기회를 모색하고 , 우리 정부도 탄소중립 산업 육\\n성을 위한 정책을 재정비할 필요가 있다 .',\n",
       "  \"- 1 -\\n1. 배경 및 목적\\n \\n ㅇ (배경 ) 지난 2월 EU 집행위원장이 미국 인플레이션 감축법 (IRA) 에 대응을 위해 발표한 ‘그린딜 산업\\n계획 (Green Deal Industry Plan)' 1)의 4가지 중점 추진 계획* 중 하나\\n     * 1)기후중립산업법 , 2)청청기술 생산의 투자 및 자금지원 확대 , 3)기술인력 양성 , 4)공급망 강화를 위한 국제 협력\\n ㅇ (목적 ) 2050 년 탄소중립 달성에 필수적인 탄소중립기술의 제조역량을 강화하고 유럽 에너지시스템의 \\n효율 및 회복력 보호\\n2. 주요내용\\n1목표설정 \\n ㅇ 부속서 2)에 기술된 8가지의 탄소중립 전략기술의 역내 제조역량 확충을 통해 그린딜 및 REPowerEU 에 \\n명시된 기술 및 상품의 연간 보급 수요 중 최소 40% 는 역내에서 생산하도록 유도\\n2대상 기술 및 상품\\n ㅇ ①국제에너지기구 (IEA) 평가 상 Level 8에 해당하는 기술성숙도 (TRL) 에 도달 , ②2030 년까지 온실가\\n스 55% 감축을 위해 필요한 기술 , ③EU 에너지시스템의 회복력과 공급망 안전 관련성을 기준으로 8\\n개의 전략 탄소중립기술 (Strategic Net-Zero technologies) 을 선정\\n   - ❶태양광 발전 및 태양열 기술 , ❷육상 및 해상 풍력발전 기술 , ❸배터리 및 저장기술 , ❹히트펌프 및 지열\\n에너지 기술 , ❺ 전해조 및 수소연료전지 , ❻지속가능 바이오가스 및 바이오메탄 기술 , ❼탄소 포집 저장\\n(CCUS) 기술 , ❽그리드 기술 \\n    \\n   - 원자력은 전략 탄소중립기술에는 제외되었으나 , 탄소중립기술에는 조건부로 , 즉 “연료 주기 , 소형 모\\n듈식 원자로 및 관련 최고등급연료에서 발생된 폐기물을 최소화하면서 핵공정에서 에너지를 생산하는 \\n첨단기술 ’(advanced technologies to produce energy from nuclear processes with\",\n",
       "  '- 원자력은 전략 탄소중립기술에는 제외되었으나 , 탄소중립기술에는 조건부로 , 즉 “연료 주기 , 소형 모\\n듈식 원자로 및 관련 최고등급연료에서 발생된 폐기물을 최소화하면서 핵공정에서 에너지를 생산하는 \\n첨단기술 ’(advanced technologies to produce energy from nuclear processes with \\nminimal waste from the fuel cycle, small modular reactors, and related best-in-class \\nfuels) 이 포함\\n1) EU Commission, Communication: A Green Deal Industrial Plan for the Net-Zero Age, 2023.2.1.\\n2) EU Commission, Annexes to the proposal for a Regulation of the European Parliament and of the Council \\non establishing a framework of measures for strengthening Europe’s net-zero technology products \\nmanufacturing ecosystem',\n",
       "  '* 연간 제조역량을 GW로 표시할 수 없는 경우\\n5공공조달\\n ㅇ 공공조달 , 재생에너지 생산 및 소비진작을 위한 입찰 진행시 가격 , 성능 외에 지속가능성 및 회복력 기\\n여도 (sustainability and resilience contribution)*를 평가항목에 포함\\n   * (a) 적용되는 법안에서 요구하는 환경 지속가능성 최소 기준 충족\\n     (b) 혁신적인 솔루션을 개발시 , 구현 계획의 영향 및 품질 , 리스크 관리 방안\\n     (c) 해당되는 경우 에너지 시스템 통합에 대한 입찰자의 기여도\\n     (d) EU 전체 수요중 65% 이상을 단일 국가에 의존하고 있는 특정 탄소중립 기술의 포함 여부와 비율\\n   - 지속가능성 (환경기준 , 에너지시스템 통합 및 위험관리조치 , 공급망 다각화 등) 및 회복력에 대해 \\n15~30% 의 가중치 부여 가능\\n ㅇ 단, 10% 이상의 가격 차이 발생시 지속가능 및 회복력 기여 평가 예외 적용이 가능구 분탄소중립 제조역량 \\nCO 2 저장소 기타*\\n1GW 이상 1GW 미만\\n탄소중립 전략프로젝트 12개월 9개월 18개월 12개월\\n이외 탄소중립 제조 프로젝트 18개월 12개월 - 18개월',\n",
       "  \"4) EU Commission, state_aid_legislation_GBER_amendment_2023_EC_communication, 2023.3.9.\\n5) EU Commission, Investment needs assessment and funding availabilities to strengthen EU's Net-Zero \\ntechnology manufacturing capacity, 2023.3.23.\",\n",
       "  '2\\x00\\x00\\x00\\x00-\\x00대다수\\x00회원국(22개국*)이\\x00FDI\\x00심사\\x00규정을\\x00시행하고\\x00있어\\x00EU\\x00차원의\\x00FDI\\x00규정\\x00도입이\\x00무난할\\x00\\n것으로\\x00예상\\n\\x00\\x00\\x00\\x00\\x00*\\x00아일랜드(도입\\x00준비중),\\x00불가리아,\\x00크로아티아,\\x00사이프러스,\\x00그리스\\x00제외\\n\\uf000 해외투자 백서 \\n■\\x00(개요)\\x00주요국(일본,\\x00중국)의\\x00해외투자\\x00규제에\\x00대응하고,\\x00EU의\\x00자본과\\x00핵심\\x00기술*이\\x00EU\\x00역외로\\x00\\n유출될\\x00위험을\\x00분석,\\x00모니터링\\x00및\\x00관리\\n\\x00\\x00\\x00\\x00\\x00*첨단\\x00반도체,\\x00인공지능,\\x00양자기술,\\x00생명공학\\x00등\\n■\\x00(입법\\x00일정)\\x00\\n\\x00\\n\\x00\\x00\\x00\\x00-\\x00(`24.1~`24.4)\\x00해외투자\\x00모니터링·검토에\\x00대해\\x00공개\\x00협의\\x00→\\x00(~`24.\\x00상반기)\\x00협의\\x00결과\\x00평가\\x00\\n및\\x00집행위\\x00권고안\\x00채택\\x00→\\x00(~`25.\\x00상반기)\\x00회원국,\\x00해외투자\\x00모니터링\\x00권고안과\\x00해외투자\\x00위험\\x00\\n측정\\x00평가\\x00→\\x00(~`25.하반기)\\x00집행위\\x00종합\\x00평가\\x00\\n■\\x00(주요\\x00논점)\\x00해외투자\\x00관련\\x00비즈니스와\\x00안보\\x00위협에\\x00대한\\x00포괄적인\\x00모니터링이\\x00가능한\\x00EU\\x00차원의\\x00\\n규정\\x00도출\\n\\x00\\x00\\x00\\x00-\\x00미국은\\x00국내\\x00자본의\\x00해외\\x00투자로\\x00제3국에서의\\x00빅테크\\x00기술이\\x00개발되는\\x00것을\\x00경계하고\\x00있는\\x00반면,\\x00\\nEU는\\x00기술\\x00유출로\\x00인한\\x00안보\\x00위협에\\x00중점을\\x00두고\\x00있음\\n\\x00\\x00\\x00\\x00-\\x00EU\\x00역내\\x00핵심\\x00기술\\x00보유국(네덜란드,\\x00독일\\x00등)은\\x00기술\\x00유출로\\x00발생될\\x00비즈니스\\x00피해에\\x00중점을\\x00두고,\\x00\\n러시아와\\x00인접한\\x00국가(폴란드\\x00등\\x00동유럽\\x00국가)는\\x00안보\\x00위협을\\x00더\\x00중시하는\\x00등\\x00회원국\\x00간\\x00시각차\\x00존재\\n\\uf000 수출통제 백서 \\n■\\x00(개요)\\x00EU\\x00차원의\\x00통합된\\x00수출통제\\x00시행을\\x00위해,\\x00개별\\x00회원국이\\x00특정\\x00품목(군)에\\x00대한\\x00수출통제\\x00\\n시행\\x00전에\\x00회원국\\x00간\\x00정보\\x00공유\\x00및\\x00조정\\x00방안(집행위\\x00및\\x00회원국에\\x00통지\\x00등)을\\x00마련\\n■\\x00(이사회\\x00입장\\x00주요\\x00내용)\\x00이사회는\\x00아래와\\x00같이\\x00입장을\\x00채택(5/30)3)\\n\\x00\\x00\\x00\\x00❶\\x00수출통제\\x00대상\\x00수정\\n\\x00\\x00\\x00\\x00-\\x00EU는\\x00현재\\x00‘EU\\x00이중용도*\\x00기술\\x00수출통제4)’를\\x00시행\\x00중이며,\\x00부록1에서\\x00이중용도\\x00사용\\x00품목을\\x00\\n통해\\x00적용대상을\\x00규정\\n \\x00\\x00\\x00\\x00\\x00\\x00\\x00*\\x00민간\\x00및\\x00군사\\x00용도로\\x00모두\\x00사용할\\x00수\\x00있는\\x00상품,\\x00소프트웨어\\x00및\\x00기술',\n",
       "  '장애\\n요소· 현재 EU 역내 수요를 충당할 풍력 터빈 제조 역량을 보유하고 있는 것으로 평가되나 , 최근 크로\\n아티아 , 이탈리아 등 회원국이 중국 업체와 풍력 터빈 제작을 계약하는 등 중국 업체에 대한 의존\\n도가 확대되고 있는 상황\\n전망· 업계는 풍력 터빈의 경우 기술 혁신 보다는 제조 역량 확대가 핵심이며 , 2030 년 목표 달성은 \\n충분히 가능하지만 유럽투자은행 (EIB) 및 혁신기금 (Innovation Fund) 을 통한 재정적 지원이 \\n불가결하다고 평가\\n히트\\n펌프목표 · 2030 년까지 연간 31GW 의 히트펌프 제조 역량 확보가 목표\\n현황· 현재 EU 역내 생산 역량은 약 22GW 으로 이는 EU 전체 수요의 60% 차지\\n· 對중국 수입 의존도 약 30%\\n장애\\n요소· 히트펌프 생산을 위한 숙련 기술자 확보\\n· 향후 규제가 도입될 F-gases 의 지속적인 사용 가능성 여부\\n전망· 최근 급증하고 있는 히트펌프 수요 충족을 위해 업계가 제조 역량을 확대중이며 제시된 목표는 \\n업계의 전망치보다 50% 정도 낮아 목표 달성이 가능할 것으로 전망\\n전기\\n분해\\n장치목표 · 2030 년까지 수소생산을 위한 전기분해 역량 100GW 수준으로 확대\\n현황· 현재 EU 역내 전기분해 역량은 170 메가와트 수준에 불과하며 , 현재 EU의 제조 역량은 전체 \\n수요의 25%, 중국 의존도는 55% 수준\\n장애\\n요소\\n및\\n전망· 업계는 복잡한 허가절차 , 역내 가치사슬 미비 , 숙련 기술자 , 핵심원자재 부족 및 복잡한 자금조\\n달 접근성 등의 개선 없이 2030 년까지 100GW 전기분해 역량 확보는 쉽지 않을 것으로 평가',\n",
       "  '1. 도입 배경\\n2021.12.8, EU집행위는 제3국의 경제적 위협 으로부터 유럽연합 (EU) 및 회원국을 보호하기 위해 통상위협대응 규정 (안)을 \\n발표했습니다 . EU집행위는 EU가 제3국의 경제적 위협에 신속히 대응하고 필요시 최후의 수단으로 대응조치\\n(countermeasure) 를 취하여 EU와 회원국의 경제적 이익을 보호 하기 위해 본 규정 (안)을 준비했습니다 . (제1조) \\n본 규정 (안)은 지정학적 긴장이 고조되며 , 통상이 점점 더 무기화되어 가고 있는 시점에 EU가 통상 정책을 강화하고 , 제3국의 \\n경제적 위협에 효과적으로 대응하기 위한 해결방안으로 제시한 것입니다 . 2018.3 미국이 철강 232 조 관세를 부과함에 따라 \\nEU는 직접적인 피해를 입었습니다 . 또한 , 2019. 12 세계무역기구 TO) 상소기구가 마비되어 WTO 분쟁해결의 효율성이 약 없\\n게 되어 , EU는 경제적 위협에 더욱 취약해졌습니다 .\\n본 규정 (안)의 도입은 2019.12 집행위가 통상권한집행 규정 (Trade Enforcement Regulation) 을 개정하기 위한 입법안을 \\n제시한 후 처음 논의가 되었습니다 . 당시 유럽의회는 경제적 위협에 대한 우려를 제기했지만 , 개정된 통상권한집행 규정은 EU가 \\n경제적 위협에 대응할 수 있는 방법을 규정하지 않았습니다 . 그 후속조치로 집행위 , 의회 , 이사회는 2021 년 말 까지 집행위가 경\\n제적 위협에 대응하기 위한 별도의 입법안을 마련하겠다는 것을 명시한 공동 선언문을 채택했습니다 .\\n그 결과 이번에 발표된 통상위협대응 규정 (안)은 제3국의 경제적 위협에 대응하기 위해 EU가 취할 조치를 2단계로 명시하고 있\\n습니다 . 첫째 , 집행위는 제3국의 경제적 위협을 분석하여 , 그 위협의 유무를 공식적으로 결정한 후, 경제적 위협이 중단될 수 있\\n도록 제3국과 협의를 합니다 . 둘째 , 제3국과의 협의가 경제적 위협을 중단하는 결과를 가져오지 못할 경우 , 최후의 수단으로 EU',\n",
       "  \"- 이미 존재하고 있는 Recovery and Resilience Facility, InvestEU 등의 프로그램과 Innovation \\nFund 가 탄소중립기술제조 프로젝트에 활용될 것으로 보임\\n ㅇ EU는 별도 자료 5)를 통해 동법안에서 제시한 목표 달성을 위해 2023 년부터 2030 년까지 약 920 억 유\\n로의 투자가 필요할 것으로 추산\\n   - 현재와 같은 역외국과의 교역현황 가정시 520 억 유로 , 수입의존 배제시 1천 190 억 유로 규모 예상\\n ㅇ 폴란드 , 헝가리 등에 진출 , 제조시설을 운영중인 우리나라 배터리 기업의 경우 , 추가 시설 확장 시에 \\n‘탄소중립 전략 프로젝트 ’ 선정 및 ‘한시적 위기 및 전환 프레임워크 ’에 따른 보조금 혜택을 누릴 수 \\n있을 것으로 보여 상세 모니터링 필요\\n  - 다만 , EU의 총 수요 중 65% 이상을 중국에 의존하는 탄소중립기술의 사용 여부 등에 대해 향후 철저\\n한 관리가 필요\\n o  동 법안에서 제시한 주요 기술의 2030 제조역량 목표 및 현황 분석시 , 히트펌프를 제외하고는 목표달\\n성에 상당한 어려움이 예상되며 , 이번에 발표된 보조금 개편안과 탄소중립산업법이 목표 달성에 확실한 \\n지원책이 되기에는 미흡한 것으로 평가\\n3) EU Commission, Communication from the Commission Temporary Crisis Framework for State Aid \\nmeasures to support the economy following the aggression against Ukraine by Russia, 2023.3.9.\\n4) EU Commission, state_aid_legislation_GBER_amendment_2023_EC_communication, 2023.3.9.\\n5) EU Commission, Investment needs assessment and funding availabilities to strengthen EU's Net-Zero\",\n",
       "  '* 연간 제조역량을 GW로 표시할 수 없는 경우\\n5공공조달\\n ㅇ 공공조달 , 재생에너지 생산 및 소비진작을 위한 입찰 진행시 가격 , 성능 외에 지속가능성 및 회복력 기\\n여도 (sustainability and resilience contribution)*를 평가항목에 포함\\n   * (a) 적용되는 법안에서 요구하는 환경 지속가능성 최소 기준 충족\\n     (b) 혁신적인 솔루션을 개발시 , 구현 계획의 영향 및 품질 , 리스크 관리 방안\\n     (c) 해당되는 경우 에너지 시스템 통합에 대한 입찰자의 기여도\\n     (d) EU 전체 수요중 65% 이상을 단일 국가에 의존하고 있는 특정 탄소중립 기술의 포함 여부와 비율\\n   - 지속가능성 (환경기준 , 에너지시스템 통합 및 위험관리조치 , 공급망 다각화 등) 및 회복력에 대해 \\n15~30% 의 가중치 부여 가능\\n ㅇ 단, 10% 이상의 가격 차이 발생시 지속가능 및 회복력 기여 평가 예외 적용이 가능구 분탄소중립 제조역량 \\nCO 2 저장소 기타*\\n1GW 이상 1GW 미만\\n탄소중립 전략프로젝트 12개월 9개월 18개월 12개월\\n이외 탄소중립 제조 프로젝트 18개월 12개월 - 18개월',\n",
       "  '합의가\\x00필요한\\x00규정\\x00자체\\x00수정\\x00절차\\x00선호\\n1)\\x0020개의\\x00EU\\x00GOVSATCOM,\\x00우주,\\x00연합안보연결,\\x00호라이즌\\x002020,\\x00호라이즌\\x00유럽,\\x00유라톰,\\x00운송,\\x00네트워크,\\x00통신,\\x00연결,\\x00디지털,\\x00방산개\\n발·연구·금융·공공조달,\\x00화공,\\x00보건,\\x00EU\\x00공동관심\\x00프로젝트\\x00및\\x00프로그램\\n2)\\x00첨단반도체,\\x00AI,\\x00양자기술,\\x00생명공학,\\x00연결·디지털,\\x00첨단감지/센싱,\\x00우주,\\x00에너지,\\x00로보틱스,\\x00첨단소재,\\x00핵심의약품,\\x00금융시스템\\x00등\\nkba-europe.com, eu.kita.net\\n브뤼셀지부\\x00(kba@kba-europe.com)｢EU\\x00경제안보전략\\x00 이니셔티브 ｣ 입법\\x00현황\\n2024.06.05',\n",
       "  '6장. 혁신26조 탄소중립 규제샌드 박스\\n27조 중소기업을 위한 조치\\n7장. 거버넌스28조 탄소중립 유럽 플랫폼 설립 및 과업\\n29조 탄소중립 유럽 플랫폼 구조 및 기능\\n30조 국가 에너지 ·기후계획과의 조율\\n8장 모니터링 31조 모니터링\\n9장 최종조항32조 권한 위임\\n33조 위임권 행사\\n34조 위원회 절차\\n35조 평가\\n36조 기밀정보 처리\\n37조 Regulation (EU) 2018/1724(Single Digital Gateway) 개정\\n38조 발효 및 시행',\n",
       "  \"- 1 -\\n1. 배경 및 목적\\n \\n ㅇ (배경 ) 지난 2월 EU 집행위원장이 미국 인플레이션 감축법 (IRA) 에 대응을 위해 발표한 ‘그린딜 산업\\n계획 (Green Deal Industry Plan)' 1)의 4가지 중점 추진 계획* 중 하나\\n     * 1)기후중립산업법 , 2)청청기술 생산의 투자 및 자금지원 확대 , 3)기술인력 양성 , 4)공급망 강화를 위한 국제 협력\\n ㅇ (목적 ) 2050 년 탄소중립 달성에 필수적인 탄소중립기술의 제조역량을 강화하고 유럽 에너지시스템의 \\n효율 및 회복력 보호\\n2. 주요내용\\n1목표설정 \\n ㅇ 부속서 2)에 기술된 8가지의 탄소중립 전략기술의 역내 제조역량 확충을 통해 그린딜 및 REPowerEU 에 \\n명시된 기술 및 상품의 연간 보급 수요 중 최소 40% 는 역내에서 생산하도록 유도\\n2대상 기술 및 상품\\n ㅇ ①국제에너지기구 (IEA) 평가 상 Level 8에 해당하는 기술성숙도 (TRL) 에 도달 , ②2030 년까지 온실가\\n스 55% 감축을 위해 필요한 기술 , ③EU 에너지시스템의 회복력과 공급망 안전 관련성을 기준으로 8\\n개의 전략 탄소중립기술 (Strategic Net-Zero technologies) 을 선정\\n   - ❶태양광 발전 및 태양열 기술 , ❷육상 및 해상 풍력발전 기술 , ❸배터리 및 저장기술 , ❹히트펌프 및 지열\\n에너지 기술 , ❺ 전해조 및 수소연료전지 , ❻지속가능 바이오가스 및 바이오메탄 기술 , ❼탄소 포집 저장\\n(CCUS) 기술 , ❽그리드 기술 \\n    \\n   - 원자력은 전략 탄소중립기술에는 제외되었으나 , 탄소중립기술에는 조건부로 , 즉 “연료 주기 , 소형 모\\n듈식 원자로 및 관련 최고등급연료에서 발생된 폐기물을 최소화하면서 핵공정에서 에너지를 생산하는 \\n첨단기술 ’(advanced technologies to produce energy from nuclear processes with\",\n",
       "  \"- 1 -\\n1. 배경 및 목적\\n \\n ㅇ (배경 ) 지난 2월 EU 집행위원장이 미국 인플레이션 감축법 (IRA) 에 대응을 위해 발표한 ‘그린딜 산업\\n계획 (Green Deal Industry Plan)' 1)의 4가지 중점 추진 계획* 중 하나\\n     * 1)기후중립산업법 , 2)청청기술 생산의 투자 및 자금지원 확대 , 3)기술인력 양성 , 4)공급망 강화를 위한 국제 협력\\n ㅇ (목적 ) 2050 년 탄소중립 달성에 필수적인 탄소중립기술의 제조역량을 강화하고 유럽 에너지시스템의 \\n효율 및 회복력 보호\\n2. 주요내용\\n1목표설정 \\n ㅇ 부속서 2)에 기술된 8가지의 탄소중립 전략기술의 역내 제조역량 확충을 통해 그린딜 및 REPowerEU 에 \\n명시된 기술 및 상품의 연간 보급 수요 중 최소 40% 는 역내에서 생산하도록 유도\\n2대상 기술 및 상품\\n ㅇ ①국제에너지기구 (IEA) 평가 상 Level 8에 해당하는 기술성숙도 (TRL) 에 도달 , ②2030 년까지 온실가\\n스 55% 감축을 위해 필요한 기술 , ③EU 에너지시스템의 회복력과 공급망 안전 관련성을 기준으로 8\\n개의 전략 탄소중립기술 (Strategic Net-Zero technologies) 을 선정\\n   - ❶태양광 발전 및 태양열 기술 , ❷육상 및 해상 풍력발전 기술 , ❸배터리 및 저장기술 , ❹히트펌프 및 지열\\n에너지 기술 , ❺ 전해조 및 수소연료전지 , ❻지속가능 바이오가스 및 바이오메탄 기술 , ❼탄소 포집 저장\\n(CCUS) 기술 , ❽그리드 기술 \\n    \\n   - 원자력은 전략 탄소중립기술에는 제외되었으나 , 탄소중립기술에는 조건부로 , 즉 “연료 주기 , 소형 모\\n듈식 원자로 및 관련 최고등급연료에서 발생된 폐기물을 최소화하면서 핵공정에서 에너지를 생산하는 \\n첨단기술 ’(advanced technologies to produce energy from nuclear processes with\",\n",
       "  '- 4 - ㅇ 최근 개편된 보조금 심사규정 개편안에 따른 ‘한시적 위기 및 전환 프레임워크 3)’*, ‘일반 적용 면제 규\\n정4)’**을 통해 탄소중립산업 프로젝트에 대한 회원국 보조금 지급이 확대될 것으로 기대되나 , 여전히 \\n명확한 자금지원에 대한 언급이 부족\\n     * 한시적 위기 및 전환 프레임워크 (Temporary Crisis and Transition Framework, TCTF) \\n      - 신재생에너지 및 에너지 저장 산업 촉진 및 산업 공정의 탈탄소화 등 탄소중립경제 전환에 핵심적인 산업 섹터에 대한 보\\n조금 지원을 2025 년 12월까지 한시적으로 적용\\n      - 1) EU 각 회원국은 TCTF 에 따라 , △보조금 지원액을 투자비용 대비 일정 비율로 간소화 및 효율화하고 , △중소기업 또는 \\n낙후지역 기업에 대한 보조금 , 세액공제 , 부채 또는 보증 등 방식을 통한 보조금에 대한 상한을 확대하며 (5∼15%), △매\\n칭 보조금 을 도입 , 각 회원국은 유럽경제지역 (EEA) 역외 이전의 위험이 높은 개별 기업에 대해 제3국에서 혜택을 받을 수 \\n있는 보조금 액수에 상응하는 금액  또는 EEA 지역 내 투자를 유지할 인센티브로써 필요한 금액 중 낮은 금액을 보조금으\\n로 지급 할 수 있음\\n      ** 일반적용면제규정 (General Block Exemption Regulation, GBER) \\n      - 집행위 통보 의무가 면제되는 보조금으로 현재 EU 회원국이 지급하는 보조금의 약 90% 가 GBER 에 의한 보조금 , 이번 \\nGBER 대상 금액 상향 조정으로 비율은 더욱 증가할 전망\\n   - 이미 존재하고 있는 Recovery and Resilience Facility, InvestEU 등의 프로그램과 Innovation \\nFund 가 탄소중립기술제조 프로젝트에 활용될 것으로 보임\\n ㅇ EU는 별도 자료 5)를 통해 동법안에서 제시한 목표 달성을 위해 2023 년부터 2030 년까지 약 920 억 유',\n",
       "  '- 4 - ㅇ 최근 개편된 보조금 심사규정 개편안에 따른 ‘한시적 위기 및 전환 프레임워크 3)’*, ‘일반 적용 면제 규\\n정4)’**을 통해 탄소중립산업 프로젝트에 대한 회원국 보조금 지급이 확대될 것으로 기대되나 , 여전히 \\n명확한 자금지원에 대한 언급이 부족\\n     * 한시적 위기 및 전환 프레임워크 (Temporary Crisis and Transition Framework, TCTF) \\n      - 신재생에너지 및 에너지 저장 산업 촉진 및 산업 공정의 탈탄소화 등 탄소중립경제 전환에 핵심적인 산업 섹터에 대한 보\\n조금 지원을 2025 년 12월까지 한시적으로 적용\\n      - 1) EU 각 회원국은 TCTF 에 따라 , △보조금 지원액을 투자비용 대비 일정 비율로 간소화 및 효율화하고 , △중소기업 또는 \\n낙후지역 기업에 대한 보조금 , 세액공제 , 부채 또는 보증 등 방식을 통한 보조금에 대한 상한을 확대하며 (5∼15%), △매\\n칭 보조금 을 도입 , 각 회원국은 유럽경제지역 (EEA) 역외 이전의 위험이 높은 개별 기업에 대해 제3국에서 혜택을 받을 수 \\n있는 보조금 액수에 상응하는 금액  또는 EEA 지역 내 투자를 유지할 인센티브로써 필요한 금액 중 낮은 금액을 보조금으\\n로 지급 할 수 있음\\n      ** 일반적용면제규정 (General Block Exemption Regulation, GBER) \\n      - 집행위 통보 의무가 면제되는 보조금으로 현재 EU 회원국이 지급하는 보조금의 약 90% 가 GBER 에 의한 보조금 , 이번 \\nGBER 대상 금액 상향 조정으로 비율은 더욱 증가할 전망\\n   - 이미 존재하고 있는 Recovery and Resilience Facility, InvestEU 등의 프로그램과 Innovation \\nFund 가 탄소중립기술제조 프로젝트에 활용될 것으로 보임\\n ㅇ EU는 별도 자료 5)를 통해 동법안에서 제시한 목표 달성을 위해 2023 년부터 2030 년까지 약 920 억 유',\n",
       "  '- 3 -\\n6소비자 인센티브 지급 및 숙련인력 육성\\n ㅇ 회원국 , 지역 , 공공법에 적용받는 기관은 탄소중립기술 최종제품의 구매 촉진 지원책을 도입할 수 있고 \\n인센티브는 탄소중립 최종제품 소비자가격의 5%를 초과할 수 없음\\n ㅇ 유럽탄소중립산업 아카데미 (European Net-Zero Industry Academy) 를 설립 , 탄소중립기술 개발 , 생산 , \\n운영 , 재활용 등과 관련된 교육 훈련 프로그램 개발 및 운영 , 자격증 등을 설계\\n7탄소중립플랫폼 (Net-Zero Europe Platform) 설립\\n ㅇ 탄소중립 기술분야 투자 , 제조목표 달성을 위한 회원국의 프로젝트 조정 , 국가간 소통 증진 , 제3국과의 \\n파트너쉽 구축 , 기술인력 양성 등의 전반적 모니터링과 리포팅을 위한 플랫폼 도입\\n8 탄소중립 규제샌드박스 (Net-Zero Regulatory Sandbox)\\n ㅇ EU 회원국 또는 복수 회원국 간 탄소중립 규제샌드박스를 도입 , 규제당국의 감독하에 혁신 기술 및 상\\n품의 시장 출시 전 기술 개발을 지원하고 , 특히 중소기업에 대해 우선권 부여\\n3. 평가 및 시사점\\n ㅇ 미국 IRA와 달리 공공조달 내 ‘지속가능성 및 회복력 기여 ’평가 항목의 역외산에 대한 차별적인 조항이\\n나 현지 조달 의무화 조건은 포함되지 않음\\n  - ‘단일 국가에 대한 EU의 의존도 65%’ 기준에 해당되는 국가는 중국 , 터키 등 일부 국가에 한정될 것\\n으로 보여 영향은 제한적\\n  - 다만 , 가격 차이가 10% 이상 나는 경우 , ‘지속가능성 및 회복력 기여 ’ 평가 기준의 예외를 받을 수 \\n있어 , 실질적으로 중국 저가 상품과의 가격 격차를 쉽게 극복하기는 어려울 전망\\n ㅇ 또한 소비자 인센티브 부분 역시 8가지 탄소중립기술 최종상품에 제한되며 , 역외산 차별적인 조항은 포\\n함되지 않음\\n ㅇ 탄소중립 전략 프로젝트에 포함된 CO 2 주입 목표 (2030 까지 5천만 톤) 설정으로 , 석유 및 천연가스 생\\n산기업에 대한 책임이 강화',\n",
       "  '- 3 -\\n6소비자 인센티브 지급 및 숙련인력 육성\\n ㅇ 회원국 , 지역 , 공공법에 적용받는 기관은 탄소중립기술 최종제품의 구매 촉진 지원책을 도입할 수 있고 \\n인센티브는 탄소중립 최종제품 소비자가격의 5%를 초과할 수 없음\\n ㅇ 유럽탄소중립산업 아카데미 (European Net-Zero Industry Academy) 를 설립 , 탄소중립기술 개발 , 생산 , \\n운영 , 재활용 등과 관련된 교육 훈련 프로그램 개발 및 운영 , 자격증 등을 설계\\n7탄소중립플랫폼 (Net-Zero Europe Platform) 설립\\n ㅇ 탄소중립 기술분야 투자 , 제조목표 달성을 위한 회원국의 프로젝트 조정 , 국가간 소통 증진 , 제3국과의 \\n파트너쉽 구축 , 기술인력 양성 등의 전반적 모니터링과 리포팅을 위한 플랫폼 도입\\n8 탄소중립 규제샌드박스 (Net-Zero Regulatory Sandbox)\\n ㅇ EU 회원국 또는 복수 회원국 간 탄소중립 규제샌드박스를 도입 , 규제당국의 감독하에 혁신 기술 및 상\\n품의 시장 출시 전 기술 개발을 지원하고 , 특히 중소기업에 대해 우선권 부여\\n3. 평가 및 시사점\\n ㅇ 미국 IRA와 달리 공공조달 내 ‘지속가능성 및 회복력 기여 ’평가 항목의 역외산에 대한 차별적인 조항이\\n나 현지 조달 의무화 조건은 포함되지 않음\\n  - ‘단일 국가에 대한 EU의 의존도 65%’ 기준에 해당되는 국가는 중국 , 터키 등 일부 국가에 한정될 것\\n으로 보여 영향은 제한적\\n  - 다만 , 가격 차이가 10% 이상 나는 경우 , ‘지속가능성 및 회복력 기여 ’ 평가 기준의 예외를 받을 수 \\n있어 , 실질적으로 중국 저가 상품과의 가격 격차를 쉽게 극복하기는 어려울 전망\\n ㅇ 또한 소비자 인센티브 부분 역시 8가지 탄소중립기술 최종상품에 제한되며 , 역외산 차별적인 조항은 포\\n함되지 않음\\n ㅇ 탄소중립 전략 프로젝트에 포함된 CO 2 주입 목표 (2030 까지 5천만 톤) 설정으로 , 석유 및 천연가스 생\\n산기업에 대한 책임이 강화',\n",
       "  '■\\x00(이사회\\x00입장\\x00주요\\x00내용)\\x00이사회는\\x00아래와\\x00같이\\x00입장을\\x00채택(5/30)3)\\n\\x00\\x00\\x00\\x00❶\\x00수출통제\\x00대상\\x00수정\\n\\x00\\x00\\x00\\x00-\\x00EU는\\x00현재\\x00‘EU\\x00이중용도*\\x00기술\\x00수출통제4)’를\\x00시행\\x00중이며,\\x00부록1에서\\x00이중용도\\x00사용\\x00품목을\\x00\\n통해\\x00적용대상을\\x00규정\\n \\x00\\x00\\x00\\x00\\x00\\x00\\x00*\\x00민간\\x00및\\x00군사\\x00용도로\\x00모두\\x00사용할\\x00수\\x00있는\\x00상품,\\x00소프트웨어\\x00및\\x00기술\\n3)\\x00Council\\x00of\\x00the\\x00European\\x00Union,\\x00Council\\x00Conclusions\\x00on\\x00the\\x00White\\x00Paper\\x00on\\x00Export\\x00Controls,\\x002024.5.30.\\n4)\\x00Official\\x00Journal,\\x00REGULATION\\x00setting\\x00up\\x00a\\x00Union\\x00regime\\x00for\\x00the\\x00control\\x00of\\x00exports,\\x00brokering,\\x00technical\\x00assistance,\\x00\\ntransit\\x00and\\x00transfer\\x00of\\x00dual-use\\x00items,\\x002021.6.11.',\n",
       "  '- 2 -\\n3 탄소중립 전략 프로젝트 (Net-zero Strategic Project)\\n \\n ㅇ 8개 핵심 탄소중립기술의 역내 제조역량 및 EU 에너지시스템 회복력 강화에 기여하는 프로젝트와 역\\n내 소재 CO 2 저장 프로젝트*를 `탄소중립 전략 프로젝트 (Net-zero Strategic Project)’ 로 선정\\n     * EU는 2030 년까지 역내 , 배타적경제구역 및 UN해양법협약 (UNCLOS) 상의 대륙붕에 위치한 저장소에서 연간 5천만 톤의 \\nCO2 포집 ·저장 역량 확보 목표를 설정\\n       \\n   - 특히 CO 2 저장 프로젝트의 경우 , 각 회원국은 잠재 CO 2 저장소 , CO 2 포집 프로젝트 현황 등 데이터\\n를 수집 , 집행위에 보고해야 하며 , \\n   - 천연가스 및 원유 채굴권을 가진 기업들에는 이산화탄소 주입 ·저장 가능 목표량 설정 , 세부 목표달성 \\n계획 (CO 2 포집 프로젝트 개발 등) 등의 제출 의무를 부여\\n ㅇ 전략 프로젝트는 부지건설 , 설계 및 인프라 조성 같은 허가가 최우선적으로 이루어져야 하며 행정처리 , \\n민원 등을 지원\\n4규제완화\\n ㅇ (One Stop Shop)  법안 발효 3개월 이내 회원국은 탄소중립기술제조 및 전략 프로젝트 허가를 담당\\n할 1개 기관을 선정 , 동 기관이 단일창구 역할 수행\\n ㅇ (허가기간 단축 ) 신규 탄소중립 전략 프로젝트 및 기타 프로젝트에 대한 허가 기간을 최대 18개월 , 기\\n존 제조시설을 확장할 시에는 신규 허가 기간의 절반으로 단축\\n    * 연간 제조역량을 GW로 표시할 수 없는 경우\\n5공공조달\\n ㅇ 공공조달 , 재생에너지 생산 및 소비진작을 위한 입찰 진행시 가격 , 성능 외에 지속가능성 및 회복력 기\\n여도 (sustainability and resilience contribution)*를 평가항목에 포함\\n   * (a) 적용되는 법안에서 요구하는 환경 지속가능성 최소 기준 충족',\n",
       "  '2\\x00\\x00\\x00\\x00-\\x00대다수\\x00회원국(22개국*)이\\x00FDI\\x00심사\\x00규정을\\x00시행하고\\x00있어\\x00EU\\x00차원의\\x00FDI\\x00규정\\x00도입이\\x00무난할\\x00\\n것으로\\x00예상\\n\\x00\\x00\\x00\\x00\\x00*\\x00아일랜드(도입\\x00준비중),\\x00불가리아,\\x00크로아티아,\\x00사이프러스,\\x00그리스\\x00제외\\n\\uf000 해외투자 백서 \\n■\\x00(개요)\\x00주요국(일본,\\x00중국)의\\x00해외투자\\x00규제에\\x00대응하고,\\x00EU의\\x00자본과\\x00핵심\\x00기술*이\\x00EU\\x00역외로\\x00\\n유출될\\x00위험을\\x00분석,\\x00모니터링\\x00및\\x00관리\\n\\x00\\x00\\x00\\x00\\x00*첨단\\x00반도체,\\x00인공지능,\\x00양자기술,\\x00생명공학\\x00등\\n■\\x00(입법\\x00일정)\\x00\\n\\x00\\n\\x00\\x00\\x00\\x00-\\x00(`24.1~`24.4)\\x00해외투자\\x00모니터링·검토에\\x00대해\\x00공개\\x00협의\\x00→\\x00(~`24.\\x00상반기)\\x00협의\\x00결과\\x00평가\\x00\\n및\\x00집행위\\x00권고안\\x00채택\\x00→\\x00(~`25.\\x00상반기)\\x00회원국,\\x00해외투자\\x00모니터링\\x00권고안과\\x00해외투자\\x00위험\\x00\\n측정\\x00평가\\x00→\\x00(~`25.하반기)\\x00집행위\\x00종합\\x00평가\\x00\\n■\\x00(주요\\x00논점)\\x00해외투자\\x00관련\\x00비즈니스와\\x00안보\\x00위협에\\x00대한\\x00포괄적인\\x00모니터링이\\x00가능한\\x00EU\\x00차원의\\x00\\n규정\\x00도출\\n\\x00\\x00\\x00\\x00-\\x00미국은\\x00국내\\x00자본의\\x00해외\\x00투자로\\x00제3국에서의\\x00빅테크\\x00기술이\\x00개발되는\\x00것을\\x00경계하고\\x00있는\\x00반면,\\x00\\nEU는\\x00기술\\x00유출로\\x00인한\\x00안보\\x00위협에\\x00중점을\\x00두고\\x00있음\\n\\x00\\x00\\x00\\x00-\\x00EU\\x00역내\\x00핵심\\x00기술\\x00보유국(네덜란드,\\x00독일\\x00등)은\\x00기술\\x00유출로\\x00발생될\\x00비즈니스\\x00피해에\\x00중점을\\x00두고,\\x00\\n러시아와\\x00인접한\\x00국가(폴란드\\x00등\\x00동유럽\\x00국가)는\\x00안보\\x00위협을\\x00더\\x00중시하는\\x00등\\x00회원국\\x00간\\x00시각차\\x00존재\\n\\uf000 수출통제 백서 \\n■\\x00(개요)\\x00EU\\x00차원의\\x00통합된\\x00수출통제\\x00시행을\\x00위해,\\x00개별\\x00회원국이\\x00특정\\x00품목(군)에\\x00대한\\x00수출통제\\x00\\n시행\\x00전에\\x00회원국\\x00간\\x00정보\\x00공유\\x00및\\x00조정\\x00방안(집행위\\x00및\\x00회원국에\\x00통지\\x00등)을\\x00마련\\n■\\x00(이사회\\x00입장\\x00주요\\x00내용)\\x00이사회는\\x00아래와\\x00같이\\x00입장을\\x00채택(5/30)3)\\n\\x00\\x00\\x00\\x00❶\\x00수출통제\\x00대상\\x00수정\\n\\x00\\x00\\x00\\x00-\\x00EU는\\x00현재\\x00‘EU\\x00이중용도*\\x00기술\\x00수출통제4)’를\\x00시행\\x00중이며,\\x00부록1에서\\x00이중용도\\x00사용\\x00품목을\\x00\\n통해\\x00적용대상을\\x00규정\\n \\x00\\x00\\x00\\x00\\x00\\x00\\x00*\\x00민간\\x00및\\x00군사\\x00용도로\\x00모두\\x00사용할\\x00수\\x00있는\\x00상품,\\x00소프트웨어\\x00및\\x00기술',\n",
       "  \"- 이미 존재하고 있는 Recovery and Resilience Facility, InvestEU 등의 프로그램과 Innovation \\nFund 가 탄소중립기술제조 프로젝트에 활용될 것으로 보임\\n ㅇ EU는 별도 자료 5)를 통해 동법안에서 제시한 목표 달성을 위해 2023 년부터 2030 년까지 약 920 억 유\\n로의 투자가 필요할 것으로 추산\\n   - 현재와 같은 역외국과의 교역현황 가정시 520 억 유로 , 수입의존 배제시 1천 190 억 유로 규모 예상\\n ㅇ 폴란드 , 헝가리 등에 진출 , 제조시설을 운영중인 우리나라 배터리 기업의 경우 , 추가 시설 확장 시에 \\n‘탄소중립 전략 프로젝트 ’ 선정 및 ‘한시적 위기 및 전환 프레임워크 ’에 따른 보조금 혜택을 누릴 수 \\n있을 것으로 보여 상세 모니터링 필요\\n  - 다만 , EU의 총 수요 중 65% 이상을 중국에 의존하는 탄소중립기술의 사용 여부 등에 대해 향후 철저\\n한 관리가 필요\\n o  동 법안에서 제시한 주요 기술의 2030 제조역량 목표 및 현황 분석시 , 히트펌프를 제외하고는 목표달\\n성에 상당한 어려움이 예상되며 , 이번에 발표된 보조금 개편안과 탄소중립산업법이 목표 달성에 확실한 \\n지원책이 되기에는 미흡한 것으로 평가\\n3) EU Commission, Communication from the Commission Temporary Crisis Framework for State Aid \\nmeasures to support the economy following the aggression against Ukraine by Russia, 2023.3.9.\\n4) EU Commission, state_aid_legislation_GBER_amendment_2023_EC_communication, 2023.3.9.\\n5) EU Commission, Investment needs assessment and funding availabilities to strengthen EU's Net-Zero\",\n",
       "  '- 원자력은 전략 탄소중립기술에는 제외되었으나 , 탄소중립기술에는 조건부로 , 즉 “연료 주기 , 소형 모\\n듈식 원자로 및 관련 최고등급연료에서 발생된 폐기물을 최소화하면서 핵공정에서 에너지를 생산하는 \\n첨단기술 ’(advanced technologies to produce energy from nuclear processes with \\nminimal waste from the fuel cycle, small modular reactors, and related best-in-class \\nfuels) 이 포함\\n1) EU Commission, Communication: A Green Deal Industrial Plan for the Net-Zero Age, 2023.2.1.\\n2) EU Commission, Annexes to the proposal for a Regulation of the European Parliament and of the Council \\non establishing a framework of measures for strengthening Europe’s net-zero technology products \\nmanufacturing ecosystem',\n",
       "  \"4) EU Commission, state_aid_legislation_GBER_amendment_2023_EC_communication, 2023.3.9.\\n5) EU Commission, Investment needs assessment and funding availabilities to strengthen EU's Net-Zero \\ntechnology manufacturing capacity, 2023.3.23.\",\n",
       "  '- 2 -\\n3 탄소중립 전략 프로젝트 (Net-zero Strategic Project)\\n \\n ㅇ 8개 핵심 탄소중립기술의 역내 제조역량 및 EU 에너지시스템 회복력 강화에 기여하는 프로젝트와 역\\n내 소재 CO 2 저장 프로젝트*를 `탄소중립 전략 프로젝트 (Net-zero Strategic Project)’ 로 선정\\n     * EU는 2030 년까지 역내 , 배타적경제구역 및 UN해양법협약 (UNCLOS) 상의 대륙붕에 위치한 저장소에서 연간 5천만 톤의 \\nCO2 포집 ·저장 역량 확보 목표를 설정\\n       \\n   - 특히 CO 2 저장 프로젝트의 경우 , 각 회원국은 잠재 CO 2 저장소 , CO 2 포집 프로젝트 현황 등 데이터\\n를 수집 , 집행위에 보고해야 하며 , \\n   - 천연가스 및 원유 채굴권을 가진 기업들에는 이산화탄소 주입 ·저장 가능 목표량 설정 , 세부 목표달성 \\n계획 (CO 2 포집 프로젝트 개발 등) 등의 제출 의무를 부여\\n ㅇ 전략 프로젝트는 부지건설 , 설계 및 인프라 조성 같은 허가가 최우선적으로 이루어져야 하며 행정처리 , \\n민원 등을 지원\\n4규제완화\\n ㅇ (One Stop Shop)  법안 발효 3개월 이내 회원국은 탄소중립기술제조 및 전략 프로젝트 허가를 담당\\n할 1개 기관을 선정 , 동 기관이 단일창구 역할 수행\\n ㅇ (허가기간 단축 ) 신규 탄소중립 전략 프로젝트 및 기타 프로젝트에 대한 허가 기간을 최대 18개월 , 기\\n존 제조시설을 확장할 시에는 신규 허가 기간의 절반으로 단축\\n    * 연간 제조역량을 GW로 표시할 수 없는 경우\\n5공공조달\\n ㅇ 공공조달 , 재생에너지 생산 및 소비진작을 위한 입찰 진행시 가격 , 성능 외에 지속가능성 및 회복력 기\\n여도 (sustainability and resilience contribution)*를 평가항목에 포함\\n   * (a) 적용되는 법안에서 요구하는 환경 지속가능성 최소 기준 충족',\n",
       "  '습니다 . 첫째 , 집행위는 제3국의 경제적 위협을 분석하여 , 그 위협의 유무를 공식적으로 결정한 후, 경제적 위협이 중단될 수 있\\n도록 제3국과 협의를 합니다 . 둘째 , 제3국과의 협의가 경제적 위협을 중단하는 결과를 가져오지 못할 경우 , 최후의 수단으로 EU \\n자체의 대응조치를 취하게 됩니다 .\\n2. 핵심 \\n(1)제3국의 경제적 위협에 대한 정의 (제2조)\\n본 규정 (안)은 EU 또는 회원국의 특정 행위의 중단 , 수정 또는 채택에 부당한 영향력을 행사할 목적으로 EU 또는 회원국의 \\n합법적인 주권 행사를 방해하여 , 통상 또는 투자에 영향을 미치는 조치를 적용하거나 적용하겠다고 위협할 경우 적용됩니다 .\\n본 규정은 경제적 위협을 포괄적으로 정의하여 , 집행위가 본 규정을 최대한 활용하여 EU의 통상과 투자를 제한하는 다양한 \\n유형의 위협에 대응할 수 있도록 하였습니다 . \\n예를 들어 , 경제적 위협은 다음과 같은 형태를 취할 수 있습니다 : ① 차별적인 수입 관세 , ② 사업 수행에 필요한 승인의 의도적인 \\n한국무역협회 브뤼셀지부  eireenkang@kita.net 2023.3.24.\\nEU 탄소중립산업법 주요 내용\\n  EU 집행위는 16일(목, 현지시간 ) 탄소중립산업 관련 제조 역량을 강화하고 관련 산업의 역외 유출\\n을 방지하기 위한 탄소중립 산업법 (Net-Zero Industry Act, NZIA) 초안을 발표하였다 . 동 법안은 \\n2030 년까지 전략 탄소중립 산업 제조 역량을 EU 연간 수요의 40% 수준까지 확대하는 것을 목표로 \\n한다 .\\n  이를 위해 EU는 8개의 탄소중립 전략기술 (태양광 발전 및 태양열 , 육상 및 해상 풍력발전 , 배터리 및 \\n저장 , 히트펌프 및 지열에너지 , 전해조 및 수소연료전지 , 지속가능 바이오가스 및 바이오메탄 , 탄소 포집 \\n저장 (CCUS), 그리드 )을 지정했으며 역내 제조 역량 향상에 기여할 수 있다고 판단되면 ‘탄소중립 전',\n",
       "  '1. 도입 배경\\n2021.12.8, EU집행위는 제3국의 경제적 위협 으로부터 유럽연합 (EU) 및 회원국을 보호하기 위해 통상위협대응 규정 (안)을 \\n발표했습니다 . EU집행위는 EU가 제3국의 경제적 위협에 신속히 대응하고 필요시 최후의 수단으로 대응조치\\n(countermeasure) 를 취하여 EU와 회원국의 경제적 이익을 보호 하기 위해 본 규정 (안)을 준비했습니다 . (제1조) \\n본 규정 (안)은 지정학적 긴장이 고조되며 , 통상이 점점 더 무기화되어 가고 있는 시점에 EU가 통상 정책을 강화하고 , 제3국의 \\n경제적 위협에 효과적으로 대응하기 위한 해결방안으로 제시한 것입니다 . 2018.3 미국이 철강 232 조 관세를 부과함에 따라 \\nEU는 직접적인 피해를 입었습니다 . 또한 , 2019. 12 세계무역기구 TO) 상소기구가 마비되어 WTO 분쟁해결의 효율성이 약 없\\n게 되어 , EU는 경제적 위협에 더욱 취약해졌습니다 .\\n본 규정 (안)의 도입은 2019.12 집행위가 통상권한집행 규정 (Trade Enforcement Regulation) 을 개정하기 위한 입법안을 \\n제시한 후 처음 논의가 되었습니다 . 당시 유럽의회는 경제적 위협에 대한 우려를 제기했지만 , 개정된 통상권한집행 규정은 EU가 \\n경제적 위협에 대응할 수 있는 방법을 규정하지 않았습니다 . 그 후속조치로 집행위 , 의회 , 이사회는 2021 년 말 까지 집행위가 경\\n제적 위협에 대응하기 위한 별도의 입법안을 마련하겠다는 것을 명시한 공동 선언문을 채택했습니다 .\\n그 결과 이번에 발표된 통상위협대응 규정 (안)은 제3국의 경제적 위협에 대응하기 위해 EU가 취할 조치를 2단계로 명시하고 있\\n습니다 . 첫째 , 집행위는 제3국의 경제적 위협을 분석하여 , 그 위협의 유무를 공식적으로 결정한 후, 경제적 위협이 중단될 수 있\\n도록 제3국과 협의를 합니다 . 둘째 , 제3국과의 협의가 경제적 위협을 중단하는 결과를 가져오지 못할 경우 , 최후의 수단으로 EU',\n",
       "  '습니다 . 첫째 , 집행위는 제3국의 경제적 위협을 분석하여 , 그 위협의 유무를 공식적으로 결정한 후, 경제적 위협이 중단될 수 있\\n도록 제3국과 협의를 합니다 . 둘째 , 제3국과의 협의가 경제적 위협을 중단하는 결과를 가져오지 못할 경우 , 최후의 수단으로 EU \\n자체의 대응조치를 취하게 됩니다 .\\n2. 핵심 \\n(1)제3국의 경제적 위협에 대한 정의 (제2조)\\n본 규정 (안)은 EU 또는 회원국의 특정 행위의 중단 , 수정 또는 채택에 부당한 영향력을 행사할 목적으로 EU 또는 회원국의 \\n합법적인 주권 행사를 방해하여 , 통상 또는 투자에 영향을 미치는 조치를 적용하거나 적용하겠다고 위협할 경우 적용됩니다 .\\n본 규정은 경제적 위협을 포괄적으로 정의하여 , 집행위가 본 규정을 최대한 활용하여 EU의 통상과 투자를 제한하는 다양한 \\n유형의 위협에 대응할 수 있도록 하였습니다 . \\n예를 들어 , 경제적 위협은 다음과 같은 형태를 취할 수 있습니다 : ① 차별적인 수입 관세 , ② 사업 수행에 필요한 승인의 의도적인 \\n한국무역협회 브뤼셀지부  eireenkang@kita.net 2023.3.24.\\nEU 탄소중립산업법 주요 내용\\n  EU 집행위는 16일(목, 현지시간 ) 탄소중립산업 관련 제조 역량을 강화하고 관련 산업의 역외 유출\\n을 방지하기 위한 탄소중립 산업법 (Net-Zero Industry Act, NZIA) 초안을 발표하였다 . 동 법안은 \\n2030 년까지 전략 탄소중립 산업 제조 역량을 EU 연간 수요의 40% 수준까지 확대하는 것을 목표로 \\n한다 .\\n  이를 위해 EU는 8개의 탄소중립 전략기술 (태양광 발전 및 태양열 , 육상 및 해상 풍력발전 , 배터리 및 \\n저장 , 히트펌프 및 지열에너지 , 전해조 및 수소연료전지 , 지속가능 바이오가스 및 바이오메탄 , 탄소 포집 \\n저장 (CCUS), 그리드 )을 지정했으며 역내 제조 역량 향상에 기여할 수 있다고 판단되면 ‘탄소중립 전'],\n",
       " 'uris': None,\n",
       " 'data': None,\n",
       " 'included': ['metadatas', 'documents']}"
      ]
     },
     "execution_count": 19,
     "metadata": {},
     "output_type": "execute_result"
    }
   ],
   "source": [
    "vectorstore.get()"
   ]
  },
  {
   "cell_type": "code",
   "execution_count": null,
   "metadata": {},
   "outputs": [],
   "source": []
  }
 ],
 "metadata": {
  "kernelspec": {
   "display_name": "llm",
   "language": "python",
   "name": "python3"
  },
  "language_info": {
   "codemirror_mode": {
    "name": "ipython",
    "version": 3
   },
   "file_extension": ".py",
   "mimetype": "text/x-python",
   "name": "python",
   "nbconvert_exporter": "python",
   "pygments_lexer": "ipython3",
   "version": "3.10.14"
  }
 },
 "nbformat": 4,
 "nbformat_minor": 2
}
